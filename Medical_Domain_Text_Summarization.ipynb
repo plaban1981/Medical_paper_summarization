{
  "nbformat": 4,
  "nbformat_minor": 0,
  "metadata": {
    "colab": {
      "provenance": [],
      "authorship_tag": "ABX9TyM0daalrzzHNHARvFpBrv/J",
      "include_colab_link": true
    },
    "kernelspec": {
      "name": "python3",
      "display_name": "Python 3"
    },
    "language_info": {
      "name": "python"
    },
    "accelerator": "GPU",
    "gpuClass": "standard",
    "widgets": {
      "application/vnd.jupyter.widget-state+json": {
        "92235a62d0f149af83126bb58073a17f": {
          "model_module": "@jupyter-widgets/controls",
          "model_name": "HBoxModel",
          "model_module_version": "1.5.0",
          "state": {
            "_dom_classes": [],
            "_model_module": "@jupyter-widgets/controls",
            "_model_module_version": "1.5.0",
            "_model_name": "HBoxModel",
            "_view_count": null,
            "_view_module": "@jupyter-widgets/controls",
            "_view_module_version": "1.5.0",
            "_view_name": "HBoxView",
            "box_style": "",
            "children": [
              "IPY_MODEL_a191a71f4bbd4a30b91b1f574b7df618",
              "IPY_MODEL_d15b7e2402074ec984431b117fe97f07",
              "IPY_MODEL_909486a679764229b41f27710b092449"
            ],
            "layout": "IPY_MODEL_a62477988a72425791b195397d1e783b"
          }
        },
        "a191a71f4bbd4a30b91b1f574b7df618": {
          "model_module": "@jupyter-widgets/controls",
          "model_name": "HTMLModel",
          "model_module_version": "1.5.0",
          "state": {
            "_dom_classes": [],
            "_model_module": "@jupyter-widgets/controls",
            "_model_module_version": "1.5.0",
            "_model_name": "HTMLModel",
            "_view_count": null,
            "_view_module": "@jupyter-widgets/controls",
            "_view_module_version": "1.5.0",
            "_view_name": "HTMLView",
            "description": "",
            "description_tooltip": null,
            "layout": "IPY_MODEL_e5e6773a6b5b48c7a3a9ae974e9524e9",
            "placeholder": "​",
            "style": "IPY_MODEL_020fb168bdb24f98938a388e99b6faf9",
            "value": "Downloading (…)lve/main/config.json: 100%"
          }
        },
        "d15b7e2402074ec984431b117fe97f07": {
          "model_module": "@jupyter-widgets/controls",
          "model_name": "FloatProgressModel",
          "model_module_version": "1.5.0",
          "state": {
            "_dom_classes": [],
            "_model_module": "@jupyter-widgets/controls",
            "_model_module_version": "1.5.0",
            "_model_name": "FloatProgressModel",
            "_view_count": null,
            "_view_module": "@jupyter-widgets/controls",
            "_view_module_version": "1.5.0",
            "_view_name": "ProgressView",
            "bar_style": "success",
            "description": "",
            "description_tooltip": null,
            "layout": "IPY_MODEL_1f4c47cd2ec4405b9aed56441a42836d",
            "max": 718,
            "min": 0,
            "orientation": "horizontal",
            "style": "IPY_MODEL_694e41d50cc246e7860205937054405d",
            "value": 718
          }
        },
        "909486a679764229b41f27710b092449": {
          "model_module": "@jupyter-widgets/controls",
          "model_name": "HTMLModel",
          "model_module_version": "1.5.0",
          "state": {
            "_dom_classes": [],
            "_model_module": "@jupyter-widgets/controls",
            "_model_module_version": "1.5.0",
            "_model_name": "HTMLModel",
            "_view_count": null,
            "_view_module": "@jupyter-widgets/controls",
            "_view_module_version": "1.5.0",
            "_view_name": "HTMLView",
            "description": "",
            "description_tooltip": null,
            "layout": "IPY_MODEL_dcd594b1de974b188fcf8388ee3c1887",
            "placeholder": "​",
            "style": "IPY_MODEL_d1d46a3b26184bc4b72a976f5debbc02",
            "value": " 718/718 [00:00&lt;00:00, 29.4kB/s]"
          }
        },
        "a62477988a72425791b195397d1e783b": {
          "model_module": "@jupyter-widgets/base",
          "model_name": "LayoutModel",
          "model_module_version": "1.2.0",
          "state": {
            "_model_module": "@jupyter-widgets/base",
            "_model_module_version": "1.2.0",
            "_model_name": "LayoutModel",
            "_view_count": null,
            "_view_module": "@jupyter-widgets/base",
            "_view_module_version": "1.2.0",
            "_view_name": "LayoutView",
            "align_content": null,
            "align_items": null,
            "align_self": null,
            "border": null,
            "bottom": null,
            "display": null,
            "flex": null,
            "flex_flow": null,
            "grid_area": null,
            "grid_auto_columns": null,
            "grid_auto_flow": null,
            "grid_auto_rows": null,
            "grid_column": null,
            "grid_gap": null,
            "grid_row": null,
            "grid_template_areas": null,
            "grid_template_columns": null,
            "grid_template_rows": null,
            "height": null,
            "justify_content": null,
            "justify_items": null,
            "left": null,
            "margin": null,
            "max_height": null,
            "max_width": null,
            "min_height": null,
            "min_width": null,
            "object_fit": null,
            "object_position": null,
            "order": null,
            "overflow": null,
            "overflow_x": null,
            "overflow_y": null,
            "padding": null,
            "right": null,
            "top": null,
            "visibility": null,
            "width": null
          }
        },
        "e5e6773a6b5b48c7a3a9ae974e9524e9": {
          "model_module": "@jupyter-widgets/base",
          "model_name": "LayoutModel",
          "model_module_version": "1.2.0",
          "state": {
            "_model_module": "@jupyter-widgets/base",
            "_model_module_version": "1.2.0",
            "_model_name": "LayoutModel",
            "_view_count": null,
            "_view_module": "@jupyter-widgets/base",
            "_view_module_version": "1.2.0",
            "_view_name": "LayoutView",
            "align_content": null,
            "align_items": null,
            "align_self": null,
            "border": null,
            "bottom": null,
            "display": null,
            "flex": null,
            "flex_flow": null,
            "grid_area": null,
            "grid_auto_columns": null,
            "grid_auto_flow": null,
            "grid_auto_rows": null,
            "grid_column": null,
            "grid_gap": null,
            "grid_row": null,
            "grid_template_areas": null,
            "grid_template_columns": null,
            "grid_template_rows": null,
            "height": null,
            "justify_content": null,
            "justify_items": null,
            "left": null,
            "margin": null,
            "max_height": null,
            "max_width": null,
            "min_height": null,
            "min_width": null,
            "object_fit": null,
            "object_position": null,
            "order": null,
            "overflow": null,
            "overflow_x": null,
            "overflow_y": null,
            "padding": null,
            "right": null,
            "top": null,
            "visibility": null,
            "width": null
          }
        },
        "020fb168bdb24f98938a388e99b6faf9": {
          "model_module": "@jupyter-widgets/controls",
          "model_name": "DescriptionStyleModel",
          "model_module_version": "1.5.0",
          "state": {
            "_model_module": "@jupyter-widgets/controls",
            "_model_module_version": "1.5.0",
            "_model_name": "DescriptionStyleModel",
            "_view_count": null,
            "_view_module": "@jupyter-widgets/base",
            "_view_module_version": "1.2.0",
            "_view_name": "StyleView",
            "description_width": ""
          }
        },
        "1f4c47cd2ec4405b9aed56441a42836d": {
          "model_module": "@jupyter-widgets/base",
          "model_name": "LayoutModel",
          "model_module_version": "1.2.0",
          "state": {
            "_model_module": "@jupyter-widgets/base",
            "_model_module_version": "1.2.0",
            "_model_name": "LayoutModel",
            "_view_count": null,
            "_view_module": "@jupyter-widgets/base",
            "_view_module_version": "1.2.0",
            "_view_name": "LayoutView",
            "align_content": null,
            "align_items": null,
            "align_self": null,
            "border": null,
            "bottom": null,
            "display": null,
            "flex": null,
            "flex_flow": null,
            "grid_area": null,
            "grid_auto_columns": null,
            "grid_auto_flow": null,
            "grid_auto_rows": null,
            "grid_column": null,
            "grid_gap": null,
            "grid_row": null,
            "grid_template_areas": null,
            "grid_template_columns": null,
            "grid_template_rows": null,
            "height": null,
            "justify_content": null,
            "justify_items": null,
            "left": null,
            "margin": null,
            "max_height": null,
            "max_width": null,
            "min_height": null,
            "min_width": null,
            "object_fit": null,
            "object_position": null,
            "order": null,
            "overflow": null,
            "overflow_x": null,
            "overflow_y": null,
            "padding": null,
            "right": null,
            "top": null,
            "visibility": null,
            "width": null
          }
        },
        "694e41d50cc246e7860205937054405d": {
          "model_module": "@jupyter-widgets/controls",
          "model_name": "ProgressStyleModel",
          "model_module_version": "1.5.0",
          "state": {
            "_model_module": "@jupyter-widgets/controls",
            "_model_module_version": "1.5.0",
            "_model_name": "ProgressStyleModel",
            "_view_count": null,
            "_view_module": "@jupyter-widgets/base",
            "_view_module_version": "1.2.0",
            "_view_name": "StyleView",
            "bar_color": null,
            "description_width": ""
          }
        },
        "dcd594b1de974b188fcf8388ee3c1887": {
          "model_module": "@jupyter-widgets/base",
          "model_name": "LayoutModel",
          "model_module_version": "1.2.0",
          "state": {
            "_model_module": "@jupyter-widgets/base",
            "_model_module_version": "1.2.0",
            "_model_name": "LayoutModel",
            "_view_count": null,
            "_view_module": "@jupyter-widgets/base",
            "_view_module_version": "1.2.0",
            "_view_name": "LayoutView",
            "align_content": null,
            "align_items": null,
            "align_self": null,
            "border": null,
            "bottom": null,
            "display": null,
            "flex": null,
            "flex_flow": null,
            "grid_area": null,
            "grid_auto_columns": null,
            "grid_auto_flow": null,
            "grid_auto_rows": null,
            "grid_column": null,
            "grid_gap": null,
            "grid_row": null,
            "grid_template_areas": null,
            "grid_template_columns": null,
            "grid_template_rows": null,
            "height": null,
            "justify_content": null,
            "justify_items": null,
            "left": null,
            "margin": null,
            "max_height": null,
            "max_width": null,
            "min_height": null,
            "min_width": null,
            "object_fit": null,
            "object_position": null,
            "order": null,
            "overflow": null,
            "overflow_x": null,
            "overflow_y": null,
            "padding": null,
            "right": null,
            "top": null,
            "visibility": null,
            "width": null
          }
        },
        "d1d46a3b26184bc4b72a976f5debbc02": {
          "model_module": "@jupyter-widgets/controls",
          "model_name": "DescriptionStyleModel",
          "model_module_version": "1.5.0",
          "state": {
            "_model_module": "@jupyter-widgets/controls",
            "_model_module_version": "1.5.0",
            "_model_name": "DescriptionStyleModel",
            "_view_count": null,
            "_view_module": "@jupyter-widgets/base",
            "_view_module_version": "1.2.0",
            "_view_name": "StyleView",
            "description_width": ""
          }
        },
        "df68de2df72849b583e59c2232a8c2a9": {
          "model_module": "@jupyter-widgets/controls",
          "model_name": "HBoxModel",
          "model_module_version": "1.5.0",
          "state": {
            "_dom_classes": [],
            "_model_module": "@jupyter-widgets/controls",
            "_model_module_version": "1.5.0",
            "_model_name": "HBoxModel",
            "_view_count": null,
            "_view_module": "@jupyter-widgets/controls",
            "_view_module_version": "1.5.0",
            "_view_name": "HBoxView",
            "box_style": "",
            "children": [
              "IPY_MODEL_118e1a6ffbc94ecf9a795029956227ea",
              "IPY_MODEL_bc91fc3a853e4712ba2f46438505cf84",
              "IPY_MODEL_5bb02d410cf34357a849a5c58cd066f5"
            ],
            "layout": "IPY_MODEL_2279d28d11cd46fb91db505ecb35fc7f"
          }
        },
        "118e1a6ffbc94ecf9a795029956227ea": {
          "model_module": "@jupyter-widgets/controls",
          "model_name": "HTMLModel",
          "model_module_version": "1.5.0",
          "state": {
            "_dom_classes": [],
            "_model_module": "@jupyter-widgets/controls",
            "_model_module_version": "1.5.0",
            "_model_name": "HTMLModel",
            "_view_count": null,
            "_view_module": "@jupyter-widgets/controls",
            "_view_module_version": "1.5.0",
            "_view_name": "HTMLView",
            "description": "",
            "description_tooltip": null,
            "layout": "IPY_MODEL_ffbe56f456fc4a79a009555bf2954d68",
            "placeholder": "​",
            "style": "IPY_MODEL_07580375c2ac465da3a03b0e5cc06137",
            "value": "Downloading (…)&quot;pytorch_model.bin&quot;;: 100%"
          }
        },
        "bc91fc3a853e4712ba2f46438505cf84": {
          "model_module": "@jupyter-widgets/controls",
          "model_name": "FloatProgressModel",
          "model_module_version": "1.5.0",
          "state": {
            "_dom_classes": [],
            "_model_module": "@jupyter-widgets/controls",
            "_model_module_version": "1.5.0",
            "_model_name": "FloatProgressModel",
            "_view_count": null,
            "_view_module": "@jupyter-widgets/controls",
            "_view_module_version": "1.5.0",
            "_view_name": "ProgressView",
            "bar_style": "success",
            "description": "",
            "description_tooltip": null,
            "layout": "IPY_MODEL_dd8e776139624df2850449afdea95448",
            "max": 1520013706,
            "min": 0,
            "orientation": "horizontal",
            "style": "IPY_MODEL_754ad9927a60474fa8774ba1b4299f43",
            "value": 1520013706
          }
        },
        "5bb02d410cf34357a849a5c58cd066f5": {
          "model_module": "@jupyter-widgets/controls",
          "model_name": "HTMLModel",
          "model_module_version": "1.5.0",
          "state": {
            "_dom_classes": [],
            "_model_module": "@jupyter-widgets/controls",
            "_model_module_version": "1.5.0",
            "_model_name": "HTMLModel",
            "_view_count": null,
            "_view_module": "@jupyter-widgets/controls",
            "_view_module_version": "1.5.0",
            "_view_name": "HTMLView",
            "description": "",
            "description_tooltip": null,
            "layout": "IPY_MODEL_5b5ab8915f6b47a6b475a65abf22c269",
            "placeholder": "​",
            "style": "IPY_MODEL_1a5447679ea840e3968c4030b77e83b5",
            "value": " 1.52G/1.52G [00:08&lt;00:00, 183MB/s]"
          }
        },
        "2279d28d11cd46fb91db505ecb35fc7f": {
          "model_module": "@jupyter-widgets/base",
          "model_name": "LayoutModel",
          "model_module_version": "1.2.0",
          "state": {
            "_model_module": "@jupyter-widgets/base",
            "_model_module_version": "1.2.0",
            "_model_name": "LayoutModel",
            "_view_count": null,
            "_view_module": "@jupyter-widgets/base",
            "_view_module_version": "1.2.0",
            "_view_name": "LayoutView",
            "align_content": null,
            "align_items": null,
            "align_self": null,
            "border": null,
            "bottom": null,
            "display": null,
            "flex": null,
            "flex_flow": null,
            "grid_area": null,
            "grid_auto_columns": null,
            "grid_auto_flow": null,
            "grid_auto_rows": null,
            "grid_column": null,
            "grid_gap": null,
            "grid_row": null,
            "grid_template_areas": null,
            "grid_template_columns": null,
            "grid_template_rows": null,
            "height": null,
            "justify_content": null,
            "justify_items": null,
            "left": null,
            "margin": null,
            "max_height": null,
            "max_width": null,
            "min_height": null,
            "min_width": null,
            "object_fit": null,
            "object_position": null,
            "order": null,
            "overflow": null,
            "overflow_x": null,
            "overflow_y": null,
            "padding": null,
            "right": null,
            "top": null,
            "visibility": null,
            "width": null
          }
        },
        "ffbe56f456fc4a79a009555bf2954d68": {
          "model_module": "@jupyter-widgets/base",
          "model_name": "LayoutModel",
          "model_module_version": "1.2.0",
          "state": {
            "_model_module": "@jupyter-widgets/base",
            "_model_module_version": "1.2.0",
            "_model_name": "LayoutModel",
            "_view_count": null,
            "_view_module": "@jupyter-widgets/base",
            "_view_module_version": "1.2.0",
            "_view_name": "LayoutView",
            "align_content": null,
            "align_items": null,
            "align_self": null,
            "border": null,
            "bottom": null,
            "display": null,
            "flex": null,
            "flex_flow": null,
            "grid_area": null,
            "grid_auto_columns": null,
            "grid_auto_flow": null,
            "grid_auto_rows": null,
            "grid_column": null,
            "grid_gap": null,
            "grid_row": null,
            "grid_template_areas": null,
            "grid_template_columns": null,
            "grid_template_rows": null,
            "height": null,
            "justify_content": null,
            "justify_items": null,
            "left": null,
            "margin": null,
            "max_height": null,
            "max_width": null,
            "min_height": null,
            "min_width": null,
            "object_fit": null,
            "object_position": null,
            "order": null,
            "overflow": null,
            "overflow_x": null,
            "overflow_y": null,
            "padding": null,
            "right": null,
            "top": null,
            "visibility": null,
            "width": null
          }
        },
        "07580375c2ac465da3a03b0e5cc06137": {
          "model_module": "@jupyter-widgets/controls",
          "model_name": "DescriptionStyleModel",
          "model_module_version": "1.5.0",
          "state": {
            "_model_module": "@jupyter-widgets/controls",
            "_model_module_version": "1.5.0",
            "_model_name": "DescriptionStyleModel",
            "_view_count": null,
            "_view_module": "@jupyter-widgets/base",
            "_view_module_version": "1.2.0",
            "_view_name": "StyleView",
            "description_width": ""
          }
        },
        "dd8e776139624df2850449afdea95448": {
          "model_module": "@jupyter-widgets/base",
          "model_name": "LayoutModel",
          "model_module_version": "1.2.0",
          "state": {
            "_model_module": "@jupyter-widgets/base",
            "_model_module_version": "1.2.0",
            "_model_name": "LayoutModel",
            "_view_count": null,
            "_view_module": "@jupyter-widgets/base",
            "_view_module_version": "1.2.0",
            "_view_name": "LayoutView",
            "align_content": null,
            "align_items": null,
            "align_self": null,
            "border": null,
            "bottom": null,
            "display": null,
            "flex": null,
            "flex_flow": null,
            "grid_area": null,
            "grid_auto_columns": null,
            "grid_auto_flow": null,
            "grid_auto_rows": null,
            "grid_column": null,
            "grid_gap": null,
            "grid_row": null,
            "grid_template_areas": null,
            "grid_template_columns": null,
            "grid_template_rows": null,
            "height": null,
            "justify_content": null,
            "justify_items": null,
            "left": null,
            "margin": null,
            "max_height": null,
            "max_width": null,
            "min_height": null,
            "min_width": null,
            "object_fit": null,
            "object_position": null,
            "order": null,
            "overflow": null,
            "overflow_x": null,
            "overflow_y": null,
            "padding": null,
            "right": null,
            "top": null,
            "visibility": null,
            "width": null
          }
        },
        "754ad9927a60474fa8774ba1b4299f43": {
          "model_module": "@jupyter-widgets/controls",
          "model_name": "ProgressStyleModel",
          "model_module_version": "1.5.0",
          "state": {
            "_model_module": "@jupyter-widgets/controls",
            "_model_module_version": "1.5.0",
            "_model_name": "ProgressStyleModel",
            "_view_count": null,
            "_view_module": "@jupyter-widgets/base",
            "_view_module_version": "1.2.0",
            "_view_name": "StyleView",
            "bar_color": null,
            "description_width": ""
          }
        },
        "5b5ab8915f6b47a6b475a65abf22c269": {
          "model_module": "@jupyter-widgets/base",
          "model_name": "LayoutModel",
          "model_module_version": "1.2.0",
          "state": {
            "_model_module": "@jupyter-widgets/base",
            "_model_module_version": "1.2.0",
            "_model_name": "LayoutModel",
            "_view_count": null,
            "_view_module": "@jupyter-widgets/base",
            "_view_module_version": "1.2.0",
            "_view_name": "LayoutView",
            "align_content": null,
            "align_items": null,
            "align_self": null,
            "border": null,
            "bottom": null,
            "display": null,
            "flex": null,
            "flex_flow": null,
            "grid_area": null,
            "grid_auto_columns": null,
            "grid_auto_flow": null,
            "grid_auto_rows": null,
            "grid_column": null,
            "grid_gap": null,
            "grid_row": null,
            "grid_template_areas": null,
            "grid_template_columns": null,
            "grid_template_rows": null,
            "height": null,
            "justify_content": null,
            "justify_items": null,
            "left": null,
            "margin": null,
            "max_height": null,
            "max_width": null,
            "min_height": null,
            "min_width": null,
            "object_fit": null,
            "object_position": null,
            "order": null,
            "overflow": null,
            "overflow_x": null,
            "overflow_y": null,
            "padding": null,
            "right": null,
            "top": null,
            "visibility": null,
            "width": null
          }
        },
        "1a5447679ea840e3968c4030b77e83b5": {
          "model_module": "@jupyter-widgets/controls",
          "model_name": "DescriptionStyleModel",
          "model_module_version": "1.5.0",
          "state": {
            "_model_module": "@jupyter-widgets/controls",
            "_model_module_version": "1.5.0",
            "_model_name": "DescriptionStyleModel",
            "_view_count": null,
            "_view_module": "@jupyter-widgets/base",
            "_view_module_version": "1.2.0",
            "_view_name": "StyleView",
            "description_width": ""
          }
        },
        "d69c3426fc334b7f81595215dcb04dc0": {
          "model_module": "@jupyter-widgets/controls",
          "model_name": "HBoxModel",
          "model_module_version": "1.5.0",
          "state": {
            "_dom_classes": [],
            "_model_module": "@jupyter-widgets/controls",
            "_model_module_version": "1.5.0",
            "_model_name": "HBoxModel",
            "_view_count": null,
            "_view_module": "@jupyter-widgets/controls",
            "_view_module_version": "1.5.0",
            "_view_name": "HBoxView",
            "box_style": "",
            "children": [
              "IPY_MODEL_fd39f908fd1c4ca2b1900f9ed4280dc2",
              "IPY_MODEL_d551b8a8e5f34815b83394af9e64f2c2",
              "IPY_MODEL_f197831c4e1f4b5cabcb268e4e77f4fc"
            ],
            "layout": "IPY_MODEL_a42db52b70cd4b098e83a3086d09c557"
          }
        },
        "fd39f908fd1c4ca2b1900f9ed4280dc2": {
          "model_module": "@jupyter-widgets/controls",
          "model_name": "HTMLModel",
          "model_module_version": "1.5.0",
          "state": {
            "_dom_classes": [],
            "_model_module": "@jupyter-widgets/controls",
            "_model_module_version": "1.5.0",
            "_model_name": "HTMLModel",
            "_view_count": null,
            "_view_module": "@jupyter-widgets/controls",
            "_view_module_version": "1.5.0",
            "_view_name": "HTMLView",
            "description": "",
            "description_tooltip": null,
            "layout": "IPY_MODEL_f8e5480bca5e4cb8a52c87eb8cdf4a87",
            "placeholder": "​",
            "style": "IPY_MODEL_16f3a13a9caa43648d1da1fec91b0551",
            "value": "Downloading (…)olve/main/vocab.json: 100%"
          }
        },
        "d551b8a8e5f34815b83394af9e64f2c2": {
          "model_module": "@jupyter-widgets/controls",
          "model_name": "FloatProgressModel",
          "model_module_version": "1.5.0",
          "state": {
            "_dom_classes": [],
            "_model_module": "@jupyter-widgets/controls",
            "_model_module_version": "1.5.0",
            "_model_name": "FloatProgressModel",
            "_view_count": null,
            "_view_module": "@jupyter-widgets/controls",
            "_view_module_version": "1.5.0",
            "_view_name": "ProgressView",
            "bar_style": "success",
            "description": "",
            "description_tooltip": null,
            "layout": "IPY_MODEL_8ffb9f8f4f814f58bd8190784e46cc4c",
            "max": 1042301,
            "min": 0,
            "orientation": "horizontal",
            "style": "IPY_MODEL_49631a8df8cd4b28a064713e40f747e8",
            "value": 1042301
          }
        },
        "f197831c4e1f4b5cabcb268e4e77f4fc": {
          "model_module": "@jupyter-widgets/controls",
          "model_name": "HTMLModel",
          "model_module_version": "1.5.0",
          "state": {
            "_dom_classes": [],
            "_model_module": "@jupyter-widgets/controls",
            "_model_module_version": "1.5.0",
            "_model_name": "HTMLModel",
            "_view_count": null,
            "_view_module": "@jupyter-widgets/controls",
            "_view_module_version": "1.5.0",
            "_view_name": "HTMLView",
            "description": "",
            "description_tooltip": null,
            "layout": "IPY_MODEL_afd3d057001b4e408a0da9620bfbf0a4",
            "placeholder": "​",
            "style": "IPY_MODEL_82bd4e50a9a74d0bbab43787d5b7e4a5",
            "value": " 1.04M/1.04M [00:00&lt;00:00, 6.08MB/s]"
          }
        },
        "a42db52b70cd4b098e83a3086d09c557": {
          "model_module": "@jupyter-widgets/base",
          "model_name": "LayoutModel",
          "model_module_version": "1.2.0",
          "state": {
            "_model_module": "@jupyter-widgets/base",
            "_model_module_version": "1.2.0",
            "_model_name": "LayoutModel",
            "_view_count": null,
            "_view_module": "@jupyter-widgets/base",
            "_view_module_version": "1.2.0",
            "_view_name": "LayoutView",
            "align_content": null,
            "align_items": null,
            "align_self": null,
            "border": null,
            "bottom": null,
            "display": null,
            "flex": null,
            "flex_flow": null,
            "grid_area": null,
            "grid_auto_columns": null,
            "grid_auto_flow": null,
            "grid_auto_rows": null,
            "grid_column": null,
            "grid_gap": null,
            "grid_row": null,
            "grid_template_areas": null,
            "grid_template_columns": null,
            "grid_template_rows": null,
            "height": null,
            "justify_content": null,
            "justify_items": null,
            "left": null,
            "margin": null,
            "max_height": null,
            "max_width": null,
            "min_height": null,
            "min_width": null,
            "object_fit": null,
            "object_position": null,
            "order": null,
            "overflow": null,
            "overflow_x": null,
            "overflow_y": null,
            "padding": null,
            "right": null,
            "top": null,
            "visibility": null,
            "width": null
          }
        },
        "f8e5480bca5e4cb8a52c87eb8cdf4a87": {
          "model_module": "@jupyter-widgets/base",
          "model_name": "LayoutModel",
          "model_module_version": "1.2.0",
          "state": {
            "_model_module": "@jupyter-widgets/base",
            "_model_module_version": "1.2.0",
            "_model_name": "LayoutModel",
            "_view_count": null,
            "_view_module": "@jupyter-widgets/base",
            "_view_module_version": "1.2.0",
            "_view_name": "LayoutView",
            "align_content": null,
            "align_items": null,
            "align_self": null,
            "border": null,
            "bottom": null,
            "display": null,
            "flex": null,
            "flex_flow": null,
            "grid_area": null,
            "grid_auto_columns": null,
            "grid_auto_flow": null,
            "grid_auto_rows": null,
            "grid_column": null,
            "grid_gap": null,
            "grid_row": null,
            "grid_template_areas": null,
            "grid_template_columns": null,
            "grid_template_rows": null,
            "height": null,
            "justify_content": null,
            "justify_items": null,
            "left": null,
            "margin": null,
            "max_height": null,
            "max_width": null,
            "min_height": null,
            "min_width": null,
            "object_fit": null,
            "object_position": null,
            "order": null,
            "overflow": null,
            "overflow_x": null,
            "overflow_y": null,
            "padding": null,
            "right": null,
            "top": null,
            "visibility": null,
            "width": null
          }
        },
        "16f3a13a9caa43648d1da1fec91b0551": {
          "model_module": "@jupyter-widgets/controls",
          "model_name": "DescriptionStyleModel",
          "model_module_version": "1.5.0",
          "state": {
            "_model_module": "@jupyter-widgets/controls",
            "_model_module_version": "1.5.0",
            "_model_name": "DescriptionStyleModel",
            "_view_count": null,
            "_view_module": "@jupyter-widgets/base",
            "_view_module_version": "1.2.0",
            "_view_name": "StyleView",
            "description_width": ""
          }
        },
        "8ffb9f8f4f814f58bd8190784e46cc4c": {
          "model_module": "@jupyter-widgets/base",
          "model_name": "LayoutModel",
          "model_module_version": "1.2.0",
          "state": {
            "_model_module": "@jupyter-widgets/base",
            "_model_module_version": "1.2.0",
            "_model_name": "LayoutModel",
            "_view_count": null,
            "_view_module": "@jupyter-widgets/base",
            "_view_module_version": "1.2.0",
            "_view_name": "LayoutView",
            "align_content": null,
            "align_items": null,
            "align_self": null,
            "border": null,
            "bottom": null,
            "display": null,
            "flex": null,
            "flex_flow": null,
            "grid_area": null,
            "grid_auto_columns": null,
            "grid_auto_flow": null,
            "grid_auto_rows": null,
            "grid_column": null,
            "grid_gap": null,
            "grid_row": null,
            "grid_template_areas": null,
            "grid_template_columns": null,
            "grid_template_rows": null,
            "height": null,
            "justify_content": null,
            "justify_items": null,
            "left": null,
            "margin": null,
            "max_height": null,
            "max_width": null,
            "min_height": null,
            "min_width": null,
            "object_fit": null,
            "object_position": null,
            "order": null,
            "overflow": null,
            "overflow_x": null,
            "overflow_y": null,
            "padding": null,
            "right": null,
            "top": null,
            "visibility": null,
            "width": null
          }
        },
        "49631a8df8cd4b28a064713e40f747e8": {
          "model_module": "@jupyter-widgets/controls",
          "model_name": "ProgressStyleModel",
          "model_module_version": "1.5.0",
          "state": {
            "_model_module": "@jupyter-widgets/controls",
            "_model_module_version": "1.5.0",
            "_model_name": "ProgressStyleModel",
            "_view_count": null,
            "_view_module": "@jupyter-widgets/base",
            "_view_module_version": "1.2.0",
            "_view_name": "StyleView",
            "bar_color": null,
            "description_width": ""
          }
        },
        "afd3d057001b4e408a0da9620bfbf0a4": {
          "model_module": "@jupyter-widgets/base",
          "model_name": "LayoutModel",
          "model_module_version": "1.2.0",
          "state": {
            "_model_module": "@jupyter-widgets/base",
            "_model_module_version": "1.2.0",
            "_model_name": "LayoutModel",
            "_view_count": null,
            "_view_module": "@jupyter-widgets/base",
            "_view_module_version": "1.2.0",
            "_view_name": "LayoutView",
            "align_content": null,
            "align_items": null,
            "align_self": null,
            "border": null,
            "bottom": null,
            "display": null,
            "flex": null,
            "flex_flow": null,
            "grid_area": null,
            "grid_auto_columns": null,
            "grid_auto_flow": null,
            "grid_auto_rows": null,
            "grid_column": null,
            "grid_gap": null,
            "grid_row": null,
            "grid_template_areas": null,
            "grid_template_columns": null,
            "grid_template_rows": null,
            "height": null,
            "justify_content": null,
            "justify_items": null,
            "left": null,
            "margin": null,
            "max_height": null,
            "max_width": null,
            "min_height": null,
            "min_width": null,
            "object_fit": null,
            "object_position": null,
            "order": null,
            "overflow": null,
            "overflow_x": null,
            "overflow_y": null,
            "padding": null,
            "right": null,
            "top": null,
            "visibility": null,
            "width": null
          }
        },
        "82bd4e50a9a74d0bbab43787d5b7e4a5": {
          "model_module": "@jupyter-widgets/controls",
          "model_name": "DescriptionStyleModel",
          "model_module_version": "1.5.0",
          "state": {
            "_model_module": "@jupyter-widgets/controls",
            "_model_module_version": "1.5.0",
            "_model_name": "DescriptionStyleModel",
            "_view_count": null,
            "_view_module": "@jupyter-widgets/base",
            "_view_module_version": "1.2.0",
            "_view_name": "StyleView",
            "description_width": ""
          }
        },
        "d7adca74fd9443ed80264412232f75ae": {
          "model_module": "@jupyter-widgets/controls",
          "model_name": "HBoxModel",
          "model_module_version": "1.5.0",
          "state": {
            "_dom_classes": [],
            "_model_module": "@jupyter-widgets/controls",
            "_model_module_version": "1.5.0",
            "_model_name": "HBoxModel",
            "_view_count": null,
            "_view_module": "@jupyter-widgets/controls",
            "_view_module_version": "1.5.0",
            "_view_name": "HBoxView",
            "box_style": "",
            "children": [
              "IPY_MODEL_4d85c65d5d564fd09cacbcec52ee6048",
              "IPY_MODEL_9e5b50afb7d74357bb97e5245678aeee",
              "IPY_MODEL_16b0d53def114cc49fe04e37712458eb"
            ],
            "layout": "IPY_MODEL_1cb7de24abbb4d7bb0dcce34bf04487b"
          }
        },
        "4d85c65d5d564fd09cacbcec52ee6048": {
          "model_module": "@jupyter-widgets/controls",
          "model_name": "HTMLModel",
          "model_module_version": "1.5.0",
          "state": {
            "_dom_classes": [],
            "_model_module": "@jupyter-widgets/controls",
            "_model_module_version": "1.5.0",
            "_model_name": "HTMLModel",
            "_view_count": null,
            "_view_module": "@jupyter-widgets/controls",
            "_view_module_version": "1.5.0",
            "_view_name": "HTMLView",
            "description": "",
            "description_tooltip": null,
            "layout": "IPY_MODEL_c99ebda69b844a41ad812f70175c84ee",
            "placeholder": "​",
            "style": "IPY_MODEL_a207cf02030a4902a5ba76475c06436d",
            "value": "Downloading (…)olve/main/merges.txt: 100%"
          }
        },
        "9e5b50afb7d74357bb97e5245678aeee": {
          "model_module": "@jupyter-widgets/controls",
          "model_name": "FloatProgressModel",
          "model_module_version": "1.5.0",
          "state": {
            "_dom_classes": [],
            "_model_module": "@jupyter-widgets/controls",
            "_model_module_version": "1.5.0",
            "_model_name": "FloatProgressModel",
            "_view_count": null,
            "_view_module": "@jupyter-widgets/controls",
            "_view_module_version": "1.5.0",
            "_view_name": "ProgressView",
            "bar_style": "success",
            "description": "",
            "description_tooltip": null,
            "layout": "IPY_MODEL_ced15b95b58246f1ac0f8c371dd9d9a4",
            "max": 456318,
            "min": 0,
            "orientation": "horizontal",
            "style": "IPY_MODEL_41a2324fe7af4285a57b848579ff4673",
            "value": 456318
          }
        },
        "16b0d53def114cc49fe04e37712458eb": {
          "model_module": "@jupyter-widgets/controls",
          "model_name": "HTMLModel",
          "model_module_version": "1.5.0",
          "state": {
            "_dom_classes": [],
            "_model_module": "@jupyter-widgets/controls",
            "_model_module_version": "1.5.0",
            "_model_name": "HTMLModel",
            "_view_count": null,
            "_view_module": "@jupyter-widgets/controls",
            "_view_module_version": "1.5.0",
            "_view_name": "HTMLView",
            "description": "",
            "description_tooltip": null,
            "layout": "IPY_MODEL_e5dd76cce4734867a24825c0a2e29c6a",
            "placeholder": "​",
            "style": "IPY_MODEL_d07630f731c0415fbb85fb474fd19c60",
            "value": " 456k/456k [00:00&lt;00:00, 3.35MB/s]"
          }
        },
        "1cb7de24abbb4d7bb0dcce34bf04487b": {
          "model_module": "@jupyter-widgets/base",
          "model_name": "LayoutModel",
          "model_module_version": "1.2.0",
          "state": {
            "_model_module": "@jupyter-widgets/base",
            "_model_module_version": "1.2.0",
            "_model_name": "LayoutModel",
            "_view_count": null,
            "_view_module": "@jupyter-widgets/base",
            "_view_module_version": "1.2.0",
            "_view_name": "LayoutView",
            "align_content": null,
            "align_items": null,
            "align_self": null,
            "border": null,
            "bottom": null,
            "display": null,
            "flex": null,
            "flex_flow": null,
            "grid_area": null,
            "grid_auto_columns": null,
            "grid_auto_flow": null,
            "grid_auto_rows": null,
            "grid_column": null,
            "grid_gap": null,
            "grid_row": null,
            "grid_template_areas": null,
            "grid_template_columns": null,
            "grid_template_rows": null,
            "height": null,
            "justify_content": null,
            "justify_items": null,
            "left": null,
            "margin": null,
            "max_height": null,
            "max_width": null,
            "min_height": null,
            "min_width": null,
            "object_fit": null,
            "object_position": null,
            "order": null,
            "overflow": null,
            "overflow_x": null,
            "overflow_y": null,
            "padding": null,
            "right": null,
            "top": null,
            "visibility": null,
            "width": null
          }
        },
        "c99ebda69b844a41ad812f70175c84ee": {
          "model_module": "@jupyter-widgets/base",
          "model_name": "LayoutModel",
          "model_module_version": "1.2.0",
          "state": {
            "_model_module": "@jupyter-widgets/base",
            "_model_module_version": "1.2.0",
            "_model_name": "LayoutModel",
            "_view_count": null,
            "_view_module": "@jupyter-widgets/base",
            "_view_module_version": "1.2.0",
            "_view_name": "LayoutView",
            "align_content": null,
            "align_items": null,
            "align_self": null,
            "border": null,
            "bottom": null,
            "display": null,
            "flex": null,
            "flex_flow": null,
            "grid_area": null,
            "grid_auto_columns": null,
            "grid_auto_flow": null,
            "grid_auto_rows": null,
            "grid_column": null,
            "grid_gap": null,
            "grid_row": null,
            "grid_template_areas": null,
            "grid_template_columns": null,
            "grid_template_rows": null,
            "height": null,
            "justify_content": null,
            "justify_items": null,
            "left": null,
            "margin": null,
            "max_height": null,
            "max_width": null,
            "min_height": null,
            "min_width": null,
            "object_fit": null,
            "object_position": null,
            "order": null,
            "overflow": null,
            "overflow_x": null,
            "overflow_y": null,
            "padding": null,
            "right": null,
            "top": null,
            "visibility": null,
            "width": null
          }
        },
        "a207cf02030a4902a5ba76475c06436d": {
          "model_module": "@jupyter-widgets/controls",
          "model_name": "DescriptionStyleModel",
          "model_module_version": "1.5.0",
          "state": {
            "_model_module": "@jupyter-widgets/controls",
            "_model_module_version": "1.5.0",
            "_model_name": "DescriptionStyleModel",
            "_view_count": null,
            "_view_module": "@jupyter-widgets/base",
            "_view_module_version": "1.2.0",
            "_view_name": "StyleView",
            "description_width": ""
          }
        },
        "ced15b95b58246f1ac0f8c371dd9d9a4": {
          "model_module": "@jupyter-widgets/base",
          "model_name": "LayoutModel",
          "model_module_version": "1.2.0",
          "state": {
            "_model_module": "@jupyter-widgets/base",
            "_model_module_version": "1.2.0",
            "_model_name": "LayoutModel",
            "_view_count": null,
            "_view_module": "@jupyter-widgets/base",
            "_view_module_version": "1.2.0",
            "_view_name": "LayoutView",
            "align_content": null,
            "align_items": null,
            "align_self": null,
            "border": null,
            "bottom": null,
            "display": null,
            "flex": null,
            "flex_flow": null,
            "grid_area": null,
            "grid_auto_columns": null,
            "grid_auto_flow": null,
            "grid_auto_rows": null,
            "grid_column": null,
            "grid_gap": null,
            "grid_row": null,
            "grid_template_areas": null,
            "grid_template_columns": null,
            "grid_template_rows": null,
            "height": null,
            "justify_content": null,
            "justify_items": null,
            "left": null,
            "margin": null,
            "max_height": null,
            "max_width": null,
            "min_height": null,
            "min_width": null,
            "object_fit": null,
            "object_position": null,
            "order": null,
            "overflow": null,
            "overflow_x": null,
            "overflow_y": null,
            "padding": null,
            "right": null,
            "top": null,
            "visibility": null,
            "width": null
          }
        },
        "41a2324fe7af4285a57b848579ff4673": {
          "model_module": "@jupyter-widgets/controls",
          "model_name": "ProgressStyleModel",
          "model_module_version": "1.5.0",
          "state": {
            "_model_module": "@jupyter-widgets/controls",
            "_model_module_version": "1.5.0",
            "_model_name": "ProgressStyleModel",
            "_view_count": null,
            "_view_module": "@jupyter-widgets/base",
            "_view_module_version": "1.2.0",
            "_view_name": "StyleView",
            "bar_color": null,
            "description_width": ""
          }
        },
        "e5dd76cce4734867a24825c0a2e29c6a": {
          "model_module": "@jupyter-widgets/base",
          "model_name": "LayoutModel",
          "model_module_version": "1.2.0",
          "state": {
            "_model_module": "@jupyter-widgets/base",
            "_model_module_version": "1.2.0",
            "_model_name": "LayoutModel",
            "_view_count": null,
            "_view_module": "@jupyter-widgets/base",
            "_view_module_version": "1.2.0",
            "_view_name": "LayoutView",
            "align_content": null,
            "align_items": null,
            "align_self": null,
            "border": null,
            "bottom": null,
            "display": null,
            "flex": null,
            "flex_flow": null,
            "grid_area": null,
            "grid_auto_columns": null,
            "grid_auto_flow": null,
            "grid_auto_rows": null,
            "grid_column": null,
            "grid_gap": null,
            "grid_row": null,
            "grid_template_areas": null,
            "grid_template_columns": null,
            "grid_template_rows": null,
            "height": null,
            "justify_content": null,
            "justify_items": null,
            "left": null,
            "margin": null,
            "max_height": null,
            "max_width": null,
            "min_height": null,
            "min_width": null,
            "object_fit": null,
            "object_position": null,
            "order": null,
            "overflow": null,
            "overflow_x": null,
            "overflow_y": null,
            "padding": null,
            "right": null,
            "top": null,
            "visibility": null,
            "width": null
          }
        },
        "d07630f731c0415fbb85fb474fd19c60": {
          "model_module": "@jupyter-widgets/controls",
          "model_name": "DescriptionStyleModel",
          "model_module_version": "1.5.0",
          "state": {
            "_model_module": "@jupyter-widgets/controls",
            "_model_module_version": "1.5.0",
            "_model_name": "DescriptionStyleModel",
            "_view_count": null,
            "_view_module": "@jupyter-widgets/base",
            "_view_module_version": "1.2.0",
            "_view_name": "StyleView",
            "description_width": ""
          }
        },
        "5d01103db3874369a07e4a04a3c6eff0": {
          "model_module": "@jupyter-widgets/controls",
          "model_name": "HBoxModel",
          "model_module_version": "1.5.0",
          "state": {
            "_dom_classes": [],
            "_model_module": "@jupyter-widgets/controls",
            "_model_module_version": "1.5.0",
            "_model_name": "HBoxModel",
            "_view_count": null,
            "_view_module": "@jupyter-widgets/controls",
            "_view_module_version": "1.5.0",
            "_view_name": "HBoxView",
            "box_style": "",
            "children": [
              "IPY_MODEL_11b18e48785948d6b615e59828e9f65f",
              "IPY_MODEL_9d5bdf9c64ae4240acef82c637662477",
              "IPY_MODEL_e8600e7624aa4496b05413011de8cf52"
            ],
            "layout": "IPY_MODEL_43b2a604e66240e9aa612c659e2f94e1"
          }
        },
        "11b18e48785948d6b615e59828e9f65f": {
          "model_module": "@jupyter-widgets/controls",
          "model_name": "HTMLModel",
          "model_module_version": "1.5.0",
          "state": {
            "_dom_classes": [],
            "_model_module": "@jupyter-widgets/controls",
            "_model_module_version": "1.5.0",
            "_model_name": "HTMLModel",
            "_view_count": null,
            "_view_module": "@jupyter-widgets/controls",
            "_view_module_version": "1.5.0",
            "_view_name": "HTMLView",
            "description": "",
            "description_tooltip": null,
            "layout": "IPY_MODEL_52bf07c4c060477ab8dc3c8f80d3904d",
            "placeholder": "​",
            "style": "IPY_MODEL_ba541a17036b4e89a54d0ebd3fc9ba6d",
            "value": "Downloading (…)lve/main/config.json: 100%"
          }
        },
        "9d5bdf9c64ae4240acef82c637662477": {
          "model_module": "@jupyter-widgets/controls",
          "model_name": "FloatProgressModel",
          "model_module_version": "1.5.0",
          "state": {
            "_dom_classes": [],
            "_model_module": "@jupyter-widgets/controls",
            "_model_module_version": "1.5.0",
            "_model_name": "FloatProgressModel",
            "_view_count": null,
            "_view_module": "@jupyter-widgets/controls",
            "_view_module_version": "1.5.0",
            "_view_name": "ProgressView",
            "bar_style": "success",
            "description": "",
            "description_tooltip": null,
            "layout": "IPY_MODEL_069670d19db3421fbcc55a4bf21295f9",
            "max": 1585,
            "min": 0,
            "orientation": "horizontal",
            "style": "IPY_MODEL_57ccf1c3fee647198f2fd60c4ceafbbc",
            "value": 1585
          }
        },
        "e8600e7624aa4496b05413011de8cf52": {
          "model_module": "@jupyter-widgets/controls",
          "model_name": "HTMLModel",
          "model_module_version": "1.5.0",
          "state": {
            "_dom_classes": [],
            "_model_module": "@jupyter-widgets/controls",
            "_model_module_version": "1.5.0",
            "_model_name": "HTMLModel",
            "_view_count": null,
            "_view_module": "@jupyter-widgets/controls",
            "_view_module_version": "1.5.0",
            "_view_name": "HTMLView",
            "description": "",
            "description_tooltip": null,
            "layout": "IPY_MODEL_6559c8b0a84148ca89d7c29ee11ce5bf",
            "placeholder": "​",
            "style": "IPY_MODEL_36b9ad76a64149fd866016ae5d6500fc",
            "value": " 1.58k/1.58k [00:00&lt;00:00, 54.3kB/s]"
          }
        },
        "43b2a604e66240e9aa612c659e2f94e1": {
          "model_module": "@jupyter-widgets/base",
          "model_name": "LayoutModel",
          "model_module_version": "1.2.0",
          "state": {
            "_model_module": "@jupyter-widgets/base",
            "_model_module_version": "1.2.0",
            "_model_name": "LayoutModel",
            "_view_count": null,
            "_view_module": "@jupyter-widgets/base",
            "_view_module_version": "1.2.0",
            "_view_name": "LayoutView",
            "align_content": null,
            "align_items": null,
            "align_self": null,
            "border": null,
            "bottom": null,
            "display": null,
            "flex": null,
            "flex_flow": null,
            "grid_area": null,
            "grid_auto_columns": null,
            "grid_auto_flow": null,
            "grid_auto_rows": null,
            "grid_column": null,
            "grid_gap": null,
            "grid_row": null,
            "grid_template_areas": null,
            "grid_template_columns": null,
            "grid_template_rows": null,
            "height": null,
            "justify_content": null,
            "justify_items": null,
            "left": null,
            "margin": null,
            "max_height": null,
            "max_width": null,
            "min_height": null,
            "min_width": null,
            "object_fit": null,
            "object_position": null,
            "order": null,
            "overflow": null,
            "overflow_x": null,
            "overflow_y": null,
            "padding": null,
            "right": null,
            "top": null,
            "visibility": null,
            "width": null
          }
        },
        "52bf07c4c060477ab8dc3c8f80d3904d": {
          "model_module": "@jupyter-widgets/base",
          "model_name": "LayoutModel",
          "model_module_version": "1.2.0",
          "state": {
            "_model_module": "@jupyter-widgets/base",
            "_model_module_version": "1.2.0",
            "_model_name": "LayoutModel",
            "_view_count": null,
            "_view_module": "@jupyter-widgets/base",
            "_view_module_version": "1.2.0",
            "_view_name": "LayoutView",
            "align_content": null,
            "align_items": null,
            "align_self": null,
            "border": null,
            "bottom": null,
            "display": null,
            "flex": null,
            "flex_flow": null,
            "grid_area": null,
            "grid_auto_columns": null,
            "grid_auto_flow": null,
            "grid_auto_rows": null,
            "grid_column": null,
            "grid_gap": null,
            "grid_row": null,
            "grid_template_areas": null,
            "grid_template_columns": null,
            "grid_template_rows": null,
            "height": null,
            "justify_content": null,
            "justify_items": null,
            "left": null,
            "margin": null,
            "max_height": null,
            "max_width": null,
            "min_height": null,
            "min_width": null,
            "object_fit": null,
            "object_position": null,
            "order": null,
            "overflow": null,
            "overflow_x": null,
            "overflow_y": null,
            "padding": null,
            "right": null,
            "top": null,
            "visibility": null,
            "width": null
          }
        },
        "ba541a17036b4e89a54d0ebd3fc9ba6d": {
          "model_module": "@jupyter-widgets/controls",
          "model_name": "DescriptionStyleModel",
          "model_module_version": "1.5.0",
          "state": {
            "_model_module": "@jupyter-widgets/controls",
            "_model_module_version": "1.5.0",
            "_model_name": "DescriptionStyleModel",
            "_view_count": null,
            "_view_module": "@jupyter-widgets/base",
            "_view_module_version": "1.2.0",
            "_view_name": "StyleView",
            "description_width": ""
          }
        },
        "069670d19db3421fbcc55a4bf21295f9": {
          "model_module": "@jupyter-widgets/base",
          "model_name": "LayoutModel",
          "model_module_version": "1.2.0",
          "state": {
            "_model_module": "@jupyter-widgets/base",
            "_model_module_version": "1.2.0",
            "_model_name": "LayoutModel",
            "_view_count": null,
            "_view_module": "@jupyter-widgets/base",
            "_view_module_version": "1.2.0",
            "_view_name": "LayoutView",
            "align_content": null,
            "align_items": null,
            "align_self": null,
            "border": null,
            "bottom": null,
            "display": null,
            "flex": null,
            "flex_flow": null,
            "grid_area": null,
            "grid_auto_columns": null,
            "grid_auto_flow": null,
            "grid_auto_rows": null,
            "grid_column": null,
            "grid_gap": null,
            "grid_row": null,
            "grid_template_areas": null,
            "grid_template_columns": null,
            "grid_template_rows": null,
            "height": null,
            "justify_content": null,
            "justify_items": null,
            "left": null,
            "margin": null,
            "max_height": null,
            "max_width": null,
            "min_height": null,
            "min_width": null,
            "object_fit": null,
            "object_position": null,
            "order": null,
            "overflow": null,
            "overflow_x": null,
            "overflow_y": null,
            "padding": null,
            "right": null,
            "top": null,
            "visibility": null,
            "width": null
          }
        },
        "57ccf1c3fee647198f2fd60c4ceafbbc": {
          "model_module": "@jupyter-widgets/controls",
          "model_name": "ProgressStyleModel",
          "model_module_version": "1.5.0",
          "state": {
            "_model_module": "@jupyter-widgets/controls",
            "_model_module_version": "1.5.0",
            "_model_name": "ProgressStyleModel",
            "_view_count": null,
            "_view_module": "@jupyter-widgets/base",
            "_view_module_version": "1.2.0",
            "_view_name": "StyleView",
            "bar_color": null,
            "description_width": ""
          }
        },
        "6559c8b0a84148ca89d7c29ee11ce5bf": {
          "model_module": "@jupyter-widgets/base",
          "model_name": "LayoutModel",
          "model_module_version": "1.2.0",
          "state": {
            "_model_module": "@jupyter-widgets/base",
            "_model_module_version": "1.2.0",
            "_model_name": "LayoutModel",
            "_view_count": null,
            "_view_module": "@jupyter-widgets/base",
            "_view_module_version": "1.2.0",
            "_view_name": "LayoutView",
            "align_content": null,
            "align_items": null,
            "align_self": null,
            "border": null,
            "bottom": null,
            "display": null,
            "flex": null,
            "flex_flow": null,
            "grid_area": null,
            "grid_auto_columns": null,
            "grid_auto_flow": null,
            "grid_auto_rows": null,
            "grid_column": null,
            "grid_gap": null,
            "grid_row": null,
            "grid_template_areas": null,
            "grid_template_columns": null,
            "grid_template_rows": null,
            "height": null,
            "justify_content": null,
            "justify_items": null,
            "left": null,
            "margin": null,
            "max_height": null,
            "max_width": null,
            "min_height": null,
            "min_width": null,
            "object_fit": null,
            "object_position": null,
            "order": null,
            "overflow": null,
            "overflow_x": null,
            "overflow_y": null,
            "padding": null,
            "right": null,
            "top": null,
            "visibility": null,
            "width": null
          }
        },
        "36b9ad76a64149fd866016ae5d6500fc": {
          "model_module": "@jupyter-widgets/controls",
          "model_name": "DescriptionStyleModel",
          "model_module_version": "1.5.0",
          "state": {
            "_model_module": "@jupyter-widgets/controls",
            "_model_module_version": "1.5.0",
            "_model_name": "DescriptionStyleModel",
            "_view_count": null,
            "_view_module": "@jupyter-widgets/base",
            "_view_module_version": "1.2.0",
            "_view_name": "StyleView",
            "description_width": ""
          }
        },
        "c618abd7baf44bbf82eebb735df4cc36": {
          "model_module": "@jupyter-widgets/controls",
          "model_name": "HBoxModel",
          "model_module_version": "1.5.0",
          "state": {
            "_dom_classes": [],
            "_model_module": "@jupyter-widgets/controls",
            "_model_module_version": "1.5.0",
            "_model_name": "HBoxModel",
            "_view_count": null,
            "_view_module": "@jupyter-widgets/controls",
            "_view_module_version": "1.5.0",
            "_view_name": "HBoxView",
            "box_style": "",
            "children": [
              "IPY_MODEL_6258ffa2c42749d7b6d3eb6550edf77b",
              "IPY_MODEL_3fc37926cf1c463389ca573791dfa33a",
              "IPY_MODEL_6628f946e08e45bbb91c27c8b2032ac2"
            ],
            "layout": "IPY_MODEL_8934aa161bf24cebaea6256e968c1431"
          }
        },
        "6258ffa2c42749d7b6d3eb6550edf77b": {
          "model_module": "@jupyter-widgets/controls",
          "model_name": "HTMLModel",
          "model_module_version": "1.5.0",
          "state": {
            "_dom_classes": [],
            "_model_module": "@jupyter-widgets/controls",
            "_model_module_version": "1.5.0",
            "_model_name": "HTMLModel",
            "_view_count": null,
            "_view_module": "@jupyter-widgets/controls",
            "_view_module_version": "1.5.0",
            "_view_name": "HTMLView",
            "description": "",
            "description_tooltip": null,
            "layout": "IPY_MODEL_d9991a33396b4eadbde70d57f2c885c2",
            "placeholder": "​",
            "style": "IPY_MODEL_013ed372fece47fabb46df3db9f8d4bc",
            "value": "Downloading (…)&quot;pytorch_model.bin&quot;;: 100%"
          }
        },
        "3fc37926cf1c463389ca573791dfa33a": {
          "model_module": "@jupyter-widgets/controls",
          "model_name": "FloatProgressModel",
          "model_module_version": "1.5.0",
          "state": {
            "_dom_classes": [],
            "_model_module": "@jupyter-widgets/controls",
            "_model_module_version": "1.5.0",
            "_model_name": "FloatProgressModel",
            "_view_count": null,
            "_view_module": "@jupyter-widgets/controls",
            "_view_module_version": "1.5.0",
            "_view_name": "ProgressView",
            "bar_style": "success",
            "description": "",
            "description_tooltip": null,
            "layout": "IPY_MODEL_2bced648919c456eb072012807659ad5",
            "max": 1625270765,
            "min": 0,
            "orientation": "horizontal",
            "style": "IPY_MODEL_834198f7608f43c1b4c7dccddd86c0c5",
            "value": 1625270765
          }
        },
        "6628f946e08e45bbb91c27c8b2032ac2": {
          "model_module": "@jupyter-widgets/controls",
          "model_name": "HTMLModel",
          "model_module_version": "1.5.0",
          "state": {
            "_dom_classes": [],
            "_model_module": "@jupyter-widgets/controls",
            "_model_module_version": "1.5.0",
            "_model_name": "HTMLModel",
            "_view_count": null,
            "_view_module": "@jupyter-widgets/controls",
            "_view_module_version": "1.5.0",
            "_view_name": "HTMLView",
            "description": "",
            "description_tooltip": null,
            "layout": "IPY_MODEL_84402817bd834d61a95a41488bfa8622",
            "placeholder": "​",
            "style": "IPY_MODEL_05741f80f60941518fdb2d5537122423",
            "value": " 1.63G/1.63G [00:09&lt;00:00, 137MB/s]"
          }
        },
        "8934aa161bf24cebaea6256e968c1431": {
          "model_module": "@jupyter-widgets/base",
          "model_name": "LayoutModel",
          "model_module_version": "1.2.0",
          "state": {
            "_model_module": "@jupyter-widgets/base",
            "_model_module_version": "1.2.0",
            "_model_name": "LayoutModel",
            "_view_count": null,
            "_view_module": "@jupyter-widgets/base",
            "_view_module_version": "1.2.0",
            "_view_name": "LayoutView",
            "align_content": null,
            "align_items": null,
            "align_self": null,
            "border": null,
            "bottom": null,
            "display": null,
            "flex": null,
            "flex_flow": null,
            "grid_area": null,
            "grid_auto_columns": null,
            "grid_auto_flow": null,
            "grid_auto_rows": null,
            "grid_column": null,
            "grid_gap": null,
            "grid_row": null,
            "grid_template_areas": null,
            "grid_template_columns": null,
            "grid_template_rows": null,
            "height": null,
            "justify_content": null,
            "justify_items": null,
            "left": null,
            "margin": null,
            "max_height": null,
            "max_width": null,
            "min_height": null,
            "min_width": null,
            "object_fit": null,
            "object_position": null,
            "order": null,
            "overflow": null,
            "overflow_x": null,
            "overflow_y": null,
            "padding": null,
            "right": null,
            "top": null,
            "visibility": null,
            "width": null
          }
        },
        "d9991a33396b4eadbde70d57f2c885c2": {
          "model_module": "@jupyter-widgets/base",
          "model_name": "LayoutModel",
          "model_module_version": "1.2.0",
          "state": {
            "_model_module": "@jupyter-widgets/base",
            "_model_module_version": "1.2.0",
            "_model_name": "LayoutModel",
            "_view_count": null,
            "_view_module": "@jupyter-widgets/base",
            "_view_module_version": "1.2.0",
            "_view_name": "LayoutView",
            "align_content": null,
            "align_items": null,
            "align_self": null,
            "border": null,
            "bottom": null,
            "display": null,
            "flex": null,
            "flex_flow": null,
            "grid_area": null,
            "grid_auto_columns": null,
            "grid_auto_flow": null,
            "grid_auto_rows": null,
            "grid_column": null,
            "grid_gap": null,
            "grid_row": null,
            "grid_template_areas": null,
            "grid_template_columns": null,
            "grid_template_rows": null,
            "height": null,
            "justify_content": null,
            "justify_items": null,
            "left": null,
            "margin": null,
            "max_height": null,
            "max_width": null,
            "min_height": null,
            "min_width": null,
            "object_fit": null,
            "object_position": null,
            "order": null,
            "overflow": null,
            "overflow_x": null,
            "overflow_y": null,
            "padding": null,
            "right": null,
            "top": null,
            "visibility": null,
            "width": null
          }
        },
        "013ed372fece47fabb46df3db9f8d4bc": {
          "model_module": "@jupyter-widgets/controls",
          "model_name": "DescriptionStyleModel",
          "model_module_version": "1.5.0",
          "state": {
            "_model_module": "@jupyter-widgets/controls",
            "_model_module_version": "1.5.0",
            "_model_name": "DescriptionStyleModel",
            "_view_count": null,
            "_view_module": "@jupyter-widgets/base",
            "_view_module_version": "1.2.0",
            "_view_name": "StyleView",
            "description_width": ""
          }
        },
        "2bced648919c456eb072012807659ad5": {
          "model_module": "@jupyter-widgets/base",
          "model_name": "LayoutModel",
          "model_module_version": "1.2.0",
          "state": {
            "_model_module": "@jupyter-widgets/base",
            "_model_module_version": "1.2.0",
            "_model_name": "LayoutModel",
            "_view_count": null,
            "_view_module": "@jupyter-widgets/base",
            "_view_module_version": "1.2.0",
            "_view_name": "LayoutView",
            "align_content": null,
            "align_items": null,
            "align_self": null,
            "border": null,
            "bottom": null,
            "display": null,
            "flex": null,
            "flex_flow": null,
            "grid_area": null,
            "grid_auto_columns": null,
            "grid_auto_flow": null,
            "grid_auto_rows": null,
            "grid_column": null,
            "grid_gap": null,
            "grid_row": null,
            "grid_template_areas": null,
            "grid_template_columns": null,
            "grid_template_rows": null,
            "height": null,
            "justify_content": null,
            "justify_items": null,
            "left": null,
            "margin": null,
            "max_height": null,
            "max_width": null,
            "min_height": null,
            "min_width": null,
            "object_fit": null,
            "object_position": null,
            "order": null,
            "overflow": null,
            "overflow_x": null,
            "overflow_y": null,
            "padding": null,
            "right": null,
            "top": null,
            "visibility": null,
            "width": null
          }
        },
        "834198f7608f43c1b4c7dccddd86c0c5": {
          "model_module": "@jupyter-widgets/controls",
          "model_name": "ProgressStyleModel",
          "model_module_version": "1.5.0",
          "state": {
            "_model_module": "@jupyter-widgets/controls",
            "_model_module_version": "1.5.0",
            "_model_name": "ProgressStyleModel",
            "_view_count": null,
            "_view_module": "@jupyter-widgets/base",
            "_view_module_version": "1.2.0",
            "_view_name": "StyleView",
            "bar_color": null,
            "description_width": ""
          }
        },
        "84402817bd834d61a95a41488bfa8622": {
          "model_module": "@jupyter-widgets/base",
          "model_name": "LayoutModel",
          "model_module_version": "1.2.0",
          "state": {
            "_model_module": "@jupyter-widgets/base",
            "_model_module_version": "1.2.0",
            "_model_name": "LayoutModel",
            "_view_count": null,
            "_view_module": "@jupyter-widgets/base",
            "_view_module_version": "1.2.0",
            "_view_name": "LayoutView",
            "align_content": null,
            "align_items": null,
            "align_self": null,
            "border": null,
            "bottom": null,
            "display": null,
            "flex": null,
            "flex_flow": null,
            "grid_area": null,
            "grid_auto_columns": null,
            "grid_auto_flow": null,
            "grid_auto_rows": null,
            "grid_column": null,
            "grid_gap": null,
            "grid_row": null,
            "grid_template_areas": null,
            "grid_template_columns": null,
            "grid_template_rows": null,
            "height": null,
            "justify_content": null,
            "justify_items": null,
            "left": null,
            "margin": null,
            "max_height": null,
            "max_width": null,
            "min_height": null,
            "min_width": null,
            "object_fit": null,
            "object_position": null,
            "order": null,
            "overflow": null,
            "overflow_x": null,
            "overflow_y": null,
            "padding": null,
            "right": null,
            "top": null,
            "visibility": null,
            "width": null
          }
        },
        "05741f80f60941518fdb2d5537122423": {
          "model_module": "@jupyter-widgets/controls",
          "model_name": "DescriptionStyleModel",
          "model_module_version": "1.5.0",
          "state": {
            "_model_module": "@jupyter-widgets/controls",
            "_model_module_version": "1.5.0",
            "_model_name": "DescriptionStyleModel",
            "_view_count": null,
            "_view_module": "@jupyter-widgets/base",
            "_view_module_version": "1.2.0",
            "_view_name": "StyleView",
            "description_width": ""
          }
        },
        "8ec4443d1a224c8ba618d990000b6f4e": {
          "model_module": "@jupyter-widgets/controls",
          "model_name": "HBoxModel",
          "model_module_version": "1.5.0",
          "state": {
            "_dom_classes": [],
            "_model_module": "@jupyter-widgets/controls",
            "_model_module_version": "1.5.0",
            "_model_name": "HBoxModel",
            "_view_count": null,
            "_view_module": "@jupyter-widgets/controls",
            "_view_module_version": "1.5.0",
            "_view_name": "HBoxView",
            "box_style": "",
            "children": [
              "IPY_MODEL_e2bdfbe8ad214b78bc2b68375c03c2f5",
              "IPY_MODEL_ff7428652b194dd5a44535278505c1ad",
              "IPY_MODEL_2cb6d2a5f8f6430e80024681a96d0294"
            ],
            "layout": "IPY_MODEL_46185f51b9af4440ab2acba5ed3a17d7"
          }
        },
        "e2bdfbe8ad214b78bc2b68375c03c2f5": {
          "model_module": "@jupyter-widgets/controls",
          "model_name": "HTMLModel",
          "model_module_version": "1.5.0",
          "state": {
            "_dom_classes": [],
            "_model_module": "@jupyter-widgets/controls",
            "_model_module_version": "1.5.0",
            "_model_name": "HTMLModel",
            "_view_count": null,
            "_view_module": "@jupyter-widgets/controls",
            "_view_module_version": "1.5.0",
            "_view_name": "HTMLView",
            "description": "",
            "description_tooltip": null,
            "layout": "IPY_MODEL_7c5db4b0105647bfac8a519f43f75906",
            "placeholder": "​",
            "style": "IPY_MODEL_92ac2e0c474449d78b46bde8ef9edfab",
            "value": "Downloading (…)olve/main/vocab.json: 100%"
          }
        },
        "ff7428652b194dd5a44535278505c1ad": {
          "model_module": "@jupyter-widgets/controls",
          "model_name": "FloatProgressModel",
          "model_module_version": "1.5.0",
          "state": {
            "_dom_classes": [],
            "_model_module": "@jupyter-widgets/controls",
            "_model_module_version": "1.5.0",
            "_model_name": "FloatProgressModel",
            "_view_count": null,
            "_view_module": "@jupyter-widgets/controls",
            "_view_module_version": "1.5.0",
            "_view_name": "ProgressView",
            "bar_style": "success",
            "description": "",
            "description_tooltip": null,
            "layout": "IPY_MODEL_a2253f9effac411486614690eeb4db34",
            "max": 898823,
            "min": 0,
            "orientation": "horizontal",
            "style": "IPY_MODEL_2576d52d8ed64288baeb456271975483",
            "value": 898823
          }
        },
        "2cb6d2a5f8f6430e80024681a96d0294": {
          "model_module": "@jupyter-widgets/controls",
          "model_name": "HTMLModel",
          "model_module_version": "1.5.0",
          "state": {
            "_dom_classes": [],
            "_model_module": "@jupyter-widgets/controls",
            "_model_module_version": "1.5.0",
            "_model_name": "HTMLModel",
            "_view_count": null,
            "_view_module": "@jupyter-widgets/controls",
            "_view_module_version": "1.5.0",
            "_view_name": "HTMLView",
            "description": "",
            "description_tooltip": null,
            "layout": "IPY_MODEL_85300dbcbc3644c28a4703fbb4d03ab6",
            "placeholder": "​",
            "style": "IPY_MODEL_2c2b62b055934fedaf921b66896c0cfe",
            "value": " 899k/899k [00:01&lt;00:00, 800kB/s]"
          }
        },
        "46185f51b9af4440ab2acba5ed3a17d7": {
          "model_module": "@jupyter-widgets/base",
          "model_name": "LayoutModel",
          "model_module_version": "1.2.0",
          "state": {
            "_model_module": "@jupyter-widgets/base",
            "_model_module_version": "1.2.0",
            "_model_name": "LayoutModel",
            "_view_count": null,
            "_view_module": "@jupyter-widgets/base",
            "_view_module_version": "1.2.0",
            "_view_name": "LayoutView",
            "align_content": null,
            "align_items": null,
            "align_self": null,
            "border": null,
            "bottom": null,
            "display": null,
            "flex": null,
            "flex_flow": null,
            "grid_area": null,
            "grid_auto_columns": null,
            "grid_auto_flow": null,
            "grid_auto_rows": null,
            "grid_column": null,
            "grid_gap": null,
            "grid_row": null,
            "grid_template_areas": null,
            "grid_template_columns": null,
            "grid_template_rows": null,
            "height": null,
            "justify_content": null,
            "justify_items": null,
            "left": null,
            "margin": null,
            "max_height": null,
            "max_width": null,
            "min_height": null,
            "min_width": null,
            "object_fit": null,
            "object_position": null,
            "order": null,
            "overflow": null,
            "overflow_x": null,
            "overflow_y": null,
            "padding": null,
            "right": null,
            "top": null,
            "visibility": null,
            "width": null
          }
        },
        "7c5db4b0105647bfac8a519f43f75906": {
          "model_module": "@jupyter-widgets/base",
          "model_name": "LayoutModel",
          "model_module_version": "1.2.0",
          "state": {
            "_model_module": "@jupyter-widgets/base",
            "_model_module_version": "1.2.0",
            "_model_name": "LayoutModel",
            "_view_count": null,
            "_view_module": "@jupyter-widgets/base",
            "_view_module_version": "1.2.0",
            "_view_name": "LayoutView",
            "align_content": null,
            "align_items": null,
            "align_self": null,
            "border": null,
            "bottom": null,
            "display": null,
            "flex": null,
            "flex_flow": null,
            "grid_area": null,
            "grid_auto_columns": null,
            "grid_auto_flow": null,
            "grid_auto_rows": null,
            "grid_column": null,
            "grid_gap": null,
            "grid_row": null,
            "grid_template_areas": null,
            "grid_template_columns": null,
            "grid_template_rows": null,
            "height": null,
            "justify_content": null,
            "justify_items": null,
            "left": null,
            "margin": null,
            "max_height": null,
            "max_width": null,
            "min_height": null,
            "min_width": null,
            "object_fit": null,
            "object_position": null,
            "order": null,
            "overflow": null,
            "overflow_x": null,
            "overflow_y": null,
            "padding": null,
            "right": null,
            "top": null,
            "visibility": null,
            "width": null
          }
        },
        "92ac2e0c474449d78b46bde8ef9edfab": {
          "model_module": "@jupyter-widgets/controls",
          "model_name": "DescriptionStyleModel",
          "model_module_version": "1.5.0",
          "state": {
            "_model_module": "@jupyter-widgets/controls",
            "_model_module_version": "1.5.0",
            "_model_name": "DescriptionStyleModel",
            "_view_count": null,
            "_view_module": "@jupyter-widgets/base",
            "_view_module_version": "1.2.0",
            "_view_name": "StyleView",
            "description_width": ""
          }
        },
        "a2253f9effac411486614690eeb4db34": {
          "model_module": "@jupyter-widgets/base",
          "model_name": "LayoutModel",
          "model_module_version": "1.2.0",
          "state": {
            "_model_module": "@jupyter-widgets/base",
            "_model_module_version": "1.2.0",
            "_model_name": "LayoutModel",
            "_view_count": null,
            "_view_module": "@jupyter-widgets/base",
            "_view_module_version": "1.2.0",
            "_view_name": "LayoutView",
            "align_content": null,
            "align_items": null,
            "align_self": null,
            "border": null,
            "bottom": null,
            "display": null,
            "flex": null,
            "flex_flow": null,
            "grid_area": null,
            "grid_auto_columns": null,
            "grid_auto_flow": null,
            "grid_auto_rows": null,
            "grid_column": null,
            "grid_gap": null,
            "grid_row": null,
            "grid_template_areas": null,
            "grid_template_columns": null,
            "grid_template_rows": null,
            "height": null,
            "justify_content": null,
            "justify_items": null,
            "left": null,
            "margin": null,
            "max_height": null,
            "max_width": null,
            "min_height": null,
            "min_width": null,
            "object_fit": null,
            "object_position": null,
            "order": null,
            "overflow": null,
            "overflow_x": null,
            "overflow_y": null,
            "padding": null,
            "right": null,
            "top": null,
            "visibility": null,
            "width": null
          }
        },
        "2576d52d8ed64288baeb456271975483": {
          "model_module": "@jupyter-widgets/controls",
          "model_name": "ProgressStyleModel",
          "model_module_version": "1.5.0",
          "state": {
            "_model_module": "@jupyter-widgets/controls",
            "_model_module_version": "1.5.0",
            "_model_name": "ProgressStyleModel",
            "_view_count": null,
            "_view_module": "@jupyter-widgets/base",
            "_view_module_version": "1.2.0",
            "_view_name": "StyleView",
            "bar_color": null,
            "description_width": ""
          }
        },
        "85300dbcbc3644c28a4703fbb4d03ab6": {
          "model_module": "@jupyter-widgets/base",
          "model_name": "LayoutModel",
          "model_module_version": "1.2.0",
          "state": {
            "_model_module": "@jupyter-widgets/base",
            "_model_module_version": "1.2.0",
            "_model_name": "LayoutModel",
            "_view_count": null,
            "_view_module": "@jupyter-widgets/base",
            "_view_module_version": "1.2.0",
            "_view_name": "LayoutView",
            "align_content": null,
            "align_items": null,
            "align_self": null,
            "border": null,
            "bottom": null,
            "display": null,
            "flex": null,
            "flex_flow": null,
            "grid_area": null,
            "grid_auto_columns": null,
            "grid_auto_flow": null,
            "grid_auto_rows": null,
            "grid_column": null,
            "grid_gap": null,
            "grid_row": null,
            "grid_template_areas": null,
            "grid_template_columns": null,
            "grid_template_rows": null,
            "height": null,
            "justify_content": null,
            "justify_items": null,
            "left": null,
            "margin": null,
            "max_height": null,
            "max_width": null,
            "min_height": null,
            "min_width": null,
            "object_fit": null,
            "object_position": null,
            "order": null,
            "overflow": null,
            "overflow_x": null,
            "overflow_y": null,
            "padding": null,
            "right": null,
            "top": null,
            "visibility": null,
            "width": null
          }
        },
        "2c2b62b055934fedaf921b66896c0cfe": {
          "model_module": "@jupyter-widgets/controls",
          "model_name": "DescriptionStyleModel",
          "model_module_version": "1.5.0",
          "state": {
            "_model_module": "@jupyter-widgets/controls",
            "_model_module_version": "1.5.0",
            "_model_name": "DescriptionStyleModel",
            "_view_count": null,
            "_view_module": "@jupyter-widgets/base",
            "_view_module_version": "1.2.0",
            "_view_name": "StyleView",
            "description_width": ""
          }
        },
        "4e802a5aca1d4371b2d042b539a67c87": {
          "model_module": "@jupyter-widgets/controls",
          "model_name": "HBoxModel",
          "model_module_version": "1.5.0",
          "state": {
            "_dom_classes": [],
            "_model_module": "@jupyter-widgets/controls",
            "_model_module_version": "1.5.0",
            "_model_name": "HBoxModel",
            "_view_count": null,
            "_view_module": "@jupyter-widgets/controls",
            "_view_module_version": "1.5.0",
            "_view_name": "HBoxView",
            "box_style": "",
            "children": [
              "IPY_MODEL_147a3af3a2764b838b74c972af19b934",
              "IPY_MODEL_5084c741226b4e819c71e0f6e4111431",
              "IPY_MODEL_f9d39e6a747b47a989977b368acb1f2a"
            ],
            "layout": "IPY_MODEL_c17ebffd96bd4f718bd879b106673447"
          }
        },
        "147a3af3a2764b838b74c972af19b934": {
          "model_module": "@jupyter-widgets/controls",
          "model_name": "HTMLModel",
          "model_module_version": "1.5.0",
          "state": {
            "_dom_classes": [],
            "_model_module": "@jupyter-widgets/controls",
            "_model_module_version": "1.5.0",
            "_model_name": "HTMLModel",
            "_view_count": null,
            "_view_module": "@jupyter-widgets/controls",
            "_view_module_version": "1.5.0",
            "_view_name": "HTMLView",
            "description": "",
            "description_tooltip": null,
            "layout": "IPY_MODEL_5af18b2c9fc347eb87a72642c81505f6",
            "placeholder": "​",
            "style": "IPY_MODEL_eb1c278ff0ee4b9090e08850e76537fb",
            "value": "Downloading (…)olve/main/merges.txt: 100%"
          }
        },
        "5084c741226b4e819c71e0f6e4111431": {
          "model_module": "@jupyter-widgets/controls",
          "model_name": "FloatProgressModel",
          "model_module_version": "1.5.0",
          "state": {
            "_dom_classes": [],
            "_model_module": "@jupyter-widgets/controls",
            "_model_module_version": "1.5.0",
            "_model_name": "FloatProgressModel",
            "_view_count": null,
            "_view_module": "@jupyter-widgets/controls",
            "_view_module_version": "1.5.0",
            "_view_name": "ProgressView",
            "bar_style": "success",
            "description": "",
            "description_tooltip": null,
            "layout": "IPY_MODEL_5588e28e9979476dbb7aa2a9e32ff300",
            "max": 456318,
            "min": 0,
            "orientation": "horizontal",
            "style": "IPY_MODEL_8b9f0a54415746de85cc69e5883916c1",
            "value": 456318
          }
        },
        "f9d39e6a747b47a989977b368acb1f2a": {
          "model_module": "@jupyter-widgets/controls",
          "model_name": "HTMLModel",
          "model_module_version": "1.5.0",
          "state": {
            "_dom_classes": [],
            "_model_module": "@jupyter-widgets/controls",
            "_model_module_version": "1.5.0",
            "_model_name": "HTMLModel",
            "_view_count": null,
            "_view_module": "@jupyter-widgets/controls",
            "_view_module_version": "1.5.0",
            "_view_name": "HTMLView",
            "description": "",
            "description_tooltip": null,
            "layout": "IPY_MODEL_865a244fd94340acae311bd188926ae0",
            "placeholder": "​",
            "style": "IPY_MODEL_ee86394327d34a22b8a23582116d2c0a",
            "value": " 456k/456k [00:01&lt;00:00, 412kB/s]"
          }
        },
        "c17ebffd96bd4f718bd879b106673447": {
          "model_module": "@jupyter-widgets/base",
          "model_name": "LayoutModel",
          "model_module_version": "1.2.0",
          "state": {
            "_model_module": "@jupyter-widgets/base",
            "_model_module_version": "1.2.0",
            "_model_name": "LayoutModel",
            "_view_count": null,
            "_view_module": "@jupyter-widgets/base",
            "_view_module_version": "1.2.0",
            "_view_name": "LayoutView",
            "align_content": null,
            "align_items": null,
            "align_self": null,
            "border": null,
            "bottom": null,
            "display": null,
            "flex": null,
            "flex_flow": null,
            "grid_area": null,
            "grid_auto_columns": null,
            "grid_auto_flow": null,
            "grid_auto_rows": null,
            "grid_column": null,
            "grid_gap": null,
            "grid_row": null,
            "grid_template_areas": null,
            "grid_template_columns": null,
            "grid_template_rows": null,
            "height": null,
            "justify_content": null,
            "justify_items": null,
            "left": null,
            "margin": null,
            "max_height": null,
            "max_width": null,
            "min_height": null,
            "min_width": null,
            "object_fit": null,
            "object_position": null,
            "order": null,
            "overflow": null,
            "overflow_x": null,
            "overflow_y": null,
            "padding": null,
            "right": null,
            "top": null,
            "visibility": null,
            "width": null
          }
        },
        "5af18b2c9fc347eb87a72642c81505f6": {
          "model_module": "@jupyter-widgets/base",
          "model_name": "LayoutModel",
          "model_module_version": "1.2.0",
          "state": {
            "_model_module": "@jupyter-widgets/base",
            "_model_module_version": "1.2.0",
            "_model_name": "LayoutModel",
            "_view_count": null,
            "_view_module": "@jupyter-widgets/base",
            "_view_module_version": "1.2.0",
            "_view_name": "LayoutView",
            "align_content": null,
            "align_items": null,
            "align_self": null,
            "border": null,
            "bottom": null,
            "display": null,
            "flex": null,
            "flex_flow": null,
            "grid_area": null,
            "grid_auto_columns": null,
            "grid_auto_flow": null,
            "grid_auto_rows": null,
            "grid_column": null,
            "grid_gap": null,
            "grid_row": null,
            "grid_template_areas": null,
            "grid_template_columns": null,
            "grid_template_rows": null,
            "height": null,
            "justify_content": null,
            "justify_items": null,
            "left": null,
            "margin": null,
            "max_height": null,
            "max_width": null,
            "min_height": null,
            "min_width": null,
            "object_fit": null,
            "object_position": null,
            "order": null,
            "overflow": null,
            "overflow_x": null,
            "overflow_y": null,
            "padding": null,
            "right": null,
            "top": null,
            "visibility": null,
            "width": null
          }
        },
        "eb1c278ff0ee4b9090e08850e76537fb": {
          "model_module": "@jupyter-widgets/controls",
          "model_name": "DescriptionStyleModel",
          "model_module_version": "1.5.0",
          "state": {
            "_model_module": "@jupyter-widgets/controls",
            "_model_module_version": "1.5.0",
            "_model_name": "DescriptionStyleModel",
            "_view_count": null,
            "_view_module": "@jupyter-widgets/base",
            "_view_module_version": "1.2.0",
            "_view_name": "StyleView",
            "description_width": ""
          }
        },
        "5588e28e9979476dbb7aa2a9e32ff300": {
          "model_module": "@jupyter-widgets/base",
          "model_name": "LayoutModel",
          "model_module_version": "1.2.0",
          "state": {
            "_model_module": "@jupyter-widgets/base",
            "_model_module_version": "1.2.0",
            "_model_name": "LayoutModel",
            "_view_count": null,
            "_view_module": "@jupyter-widgets/base",
            "_view_module_version": "1.2.0",
            "_view_name": "LayoutView",
            "align_content": null,
            "align_items": null,
            "align_self": null,
            "border": null,
            "bottom": null,
            "display": null,
            "flex": null,
            "flex_flow": null,
            "grid_area": null,
            "grid_auto_columns": null,
            "grid_auto_flow": null,
            "grid_auto_rows": null,
            "grid_column": null,
            "grid_gap": null,
            "grid_row": null,
            "grid_template_areas": null,
            "grid_template_columns": null,
            "grid_template_rows": null,
            "height": null,
            "justify_content": null,
            "justify_items": null,
            "left": null,
            "margin": null,
            "max_height": null,
            "max_width": null,
            "min_height": null,
            "min_width": null,
            "object_fit": null,
            "object_position": null,
            "order": null,
            "overflow": null,
            "overflow_x": null,
            "overflow_y": null,
            "padding": null,
            "right": null,
            "top": null,
            "visibility": null,
            "width": null
          }
        },
        "8b9f0a54415746de85cc69e5883916c1": {
          "model_module": "@jupyter-widgets/controls",
          "model_name": "ProgressStyleModel",
          "model_module_version": "1.5.0",
          "state": {
            "_model_module": "@jupyter-widgets/controls",
            "_model_module_version": "1.5.0",
            "_model_name": "ProgressStyleModel",
            "_view_count": null,
            "_view_module": "@jupyter-widgets/base",
            "_view_module_version": "1.2.0",
            "_view_name": "StyleView",
            "bar_color": null,
            "description_width": ""
          }
        },
        "865a244fd94340acae311bd188926ae0": {
          "model_module": "@jupyter-widgets/base",
          "model_name": "LayoutModel",
          "model_module_version": "1.2.0",
          "state": {
            "_model_module": "@jupyter-widgets/base",
            "_model_module_version": "1.2.0",
            "_model_name": "LayoutModel",
            "_view_count": null,
            "_view_module": "@jupyter-widgets/base",
            "_view_module_version": "1.2.0",
            "_view_name": "LayoutView",
            "align_content": null,
            "align_items": null,
            "align_self": null,
            "border": null,
            "bottom": null,
            "display": null,
            "flex": null,
            "flex_flow": null,
            "grid_area": null,
            "grid_auto_columns": null,
            "grid_auto_flow": null,
            "grid_auto_rows": null,
            "grid_column": null,
            "grid_gap": null,
            "grid_row": null,
            "grid_template_areas": null,
            "grid_template_columns": null,
            "grid_template_rows": null,
            "height": null,
            "justify_content": null,
            "justify_items": null,
            "left": null,
            "margin": null,
            "max_height": null,
            "max_width": null,
            "min_height": null,
            "min_width": null,
            "object_fit": null,
            "object_position": null,
            "order": null,
            "overflow": null,
            "overflow_x": null,
            "overflow_y": null,
            "padding": null,
            "right": null,
            "top": null,
            "visibility": null,
            "width": null
          }
        },
        "ee86394327d34a22b8a23582116d2c0a": {
          "model_module": "@jupyter-widgets/controls",
          "model_name": "DescriptionStyleModel",
          "model_module_version": "1.5.0",
          "state": {
            "_model_module": "@jupyter-widgets/controls",
            "_model_module_version": "1.5.0",
            "_model_name": "DescriptionStyleModel",
            "_view_count": null,
            "_view_module": "@jupyter-widgets/base",
            "_view_module_version": "1.2.0",
            "_view_name": "StyleView",
            "description_width": ""
          }
        },
        "454cad85bb1e4209ac76062af58a0642": {
          "model_module": "@jupyter-widgets/controls",
          "model_name": "HBoxModel",
          "model_module_version": "1.5.0",
          "state": {
            "_dom_classes": [],
            "_model_module": "@jupyter-widgets/controls",
            "_model_module_version": "1.5.0",
            "_model_name": "HBoxModel",
            "_view_count": null,
            "_view_module": "@jupyter-widgets/controls",
            "_view_module_version": "1.5.0",
            "_view_name": "HBoxView",
            "box_style": "",
            "children": [
              "IPY_MODEL_6bfcd43d30bf441d91286999764e5d24",
              "IPY_MODEL_f17f936634eb438aa43282a10b457ad5",
              "IPY_MODEL_283f300e984a46f7beceb5827cce6ccc"
            ],
            "layout": "IPY_MODEL_c0208cbf79794973848fd8bba34edaba"
          }
        },
        "6bfcd43d30bf441d91286999764e5d24": {
          "model_module": "@jupyter-widgets/controls",
          "model_name": "HTMLModel",
          "model_module_version": "1.5.0",
          "state": {
            "_dom_classes": [],
            "_model_module": "@jupyter-widgets/controls",
            "_model_module_version": "1.5.0",
            "_model_name": "HTMLModel",
            "_view_count": null,
            "_view_module": "@jupyter-widgets/controls",
            "_view_module_version": "1.5.0",
            "_view_name": "HTMLView",
            "description": "",
            "description_tooltip": null,
            "layout": "IPY_MODEL_f71d0dd6aa014ab6b71756f9e3084d37",
            "placeholder": "​",
            "style": "IPY_MODEL_6c83050707c84ac78eda727694b8e283",
            "value": "Downloading (…)/main/tokenizer.json: 100%"
          }
        },
        "f17f936634eb438aa43282a10b457ad5": {
          "model_module": "@jupyter-widgets/controls",
          "model_name": "FloatProgressModel",
          "model_module_version": "1.5.0",
          "state": {
            "_dom_classes": [],
            "_model_module": "@jupyter-widgets/controls",
            "_model_module_version": "1.5.0",
            "_model_name": "FloatProgressModel",
            "_view_count": null,
            "_view_module": "@jupyter-widgets/controls",
            "_view_module_version": "1.5.0",
            "_view_name": "ProgressView",
            "bar_style": "success",
            "description": "",
            "description_tooltip": null,
            "layout": "IPY_MODEL_7c216271f46441d6a72746771ad005d3",
            "max": 1355863,
            "min": 0,
            "orientation": "horizontal",
            "style": "IPY_MODEL_f55c88a389fe422d979858d75eda80ce",
            "value": 1355863
          }
        },
        "283f300e984a46f7beceb5827cce6ccc": {
          "model_module": "@jupyter-widgets/controls",
          "model_name": "HTMLModel",
          "model_module_version": "1.5.0",
          "state": {
            "_dom_classes": [],
            "_model_module": "@jupyter-widgets/controls",
            "_model_module_version": "1.5.0",
            "_model_name": "HTMLModel",
            "_view_count": null,
            "_view_module": "@jupyter-widgets/controls",
            "_view_module_version": "1.5.0",
            "_view_name": "HTMLView",
            "description": "",
            "description_tooltip": null,
            "layout": "IPY_MODEL_aaff4221b6f243efbffa84bf09a27f26",
            "placeholder": "​",
            "style": "IPY_MODEL_968c3ebe61a741dc905bc9ffaa03c098",
            "value": " 1.36M/1.36M [00:01&lt;00:00, 1.01MB/s]"
          }
        },
        "c0208cbf79794973848fd8bba34edaba": {
          "model_module": "@jupyter-widgets/base",
          "model_name": "LayoutModel",
          "model_module_version": "1.2.0",
          "state": {
            "_model_module": "@jupyter-widgets/base",
            "_model_module_version": "1.2.0",
            "_model_name": "LayoutModel",
            "_view_count": null,
            "_view_module": "@jupyter-widgets/base",
            "_view_module_version": "1.2.0",
            "_view_name": "LayoutView",
            "align_content": null,
            "align_items": null,
            "align_self": null,
            "border": null,
            "bottom": null,
            "display": null,
            "flex": null,
            "flex_flow": null,
            "grid_area": null,
            "grid_auto_columns": null,
            "grid_auto_flow": null,
            "grid_auto_rows": null,
            "grid_column": null,
            "grid_gap": null,
            "grid_row": null,
            "grid_template_areas": null,
            "grid_template_columns": null,
            "grid_template_rows": null,
            "height": null,
            "justify_content": null,
            "justify_items": null,
            "left": null,
            "margin": null,
            "max_height": null,
            "max_width": null,
            "min_height": null,
            "min_width": null,
            "object_fit": null,
            "object_position": null,
            "order": null,
            "overflow": null,
            "overflow_x": null,
            "overflow_y": null,
            "padding": null,
            "right": null,
            "top": null,
            "visibility": null,
            "width": null
          }
        },
        "f71d0dd6aa014ab6b71756f9e3084d37": {
          "model_module": "@jupyter-widgets/base",
          "model_name": "LayoutModel",
          "model_module_version": "1.2.0",
          "state": {
            "_model_module": "@jupyter-widgets/base",
            "_model_module_version": "1.2.0",
            "_model_name": "LayoutModel",
            "_view_count": null,
            "_view_module": "@jupyter-widgets/base",
            "_view_module_version": "1.2.0",
            "_view_name": "LayoutView",
            "align_content": null,
            "align_items": null,
            "align_self": null,
            "border": null,
            "bottom": null,
            "display": null,
            "flex": null,
            "flex_flow": null,
            "grid_area": null,
            "grid_auto_columns": null,
            "grid_auto_flow": null,
            "grid_auto_rows": null,
            "grid_column": null,
            "grid_gap": null,
            "grid_row": null,
            "grid_template_areas": null,
            "grid_template_columns": null,
            "grid_template_rows": null,
            "height": null,
            "justify_content": null,
            "justify_items": null,
            "left": null,
            "margin": null,
            "max_height": null,
            "max_width": null,
            "min_height": null,
            "min_width": null,
            "object_fit": null,
            "object_position": null,
            "order": null,
            "overflow": null,
            "overflow_x": null,
            "overflow_y": null,
            "padding": null,
            "right": null,
            "top": null,
            "visibility": null,
            "width": null
          }
        },
        "6c83050707c84ac78eda727694b8e283": {
          "model_module": "@jupyter-widgets/controls",
          "model_name": "DescriptionStyleModel",
          "model_module_version": "1.5.0",
          "state": {
            "_model_module": "@jupyter-widgets/controls",
            "_model_module_version": "1.5.0",
            "_model_name": "DescriptionStyleModel",
            "_view_count": null,
            "_view_module": "@jupyter-widgets/base",
            "_view_module_version": "1.2.0",
            "_view_name": "StyleView",
            "description_width": ""
          }
        },
        "7c216271f46441d6a72746771ad005d3": {
          "model_module": "@jupyter-widgets/base",
          "model_name": "LayoutModel",
          "model_module_version": "1.2.0",
          "state": {
            "_model_module": "@jupyter-widgets/base",
            "_model_module_version": "1.2.0",
            "_model_name": "LayoutModel",
            "_view_count": null,
            "_view_module": "@jupyter-widgets/base",
            "_view_module_version": "1.2.0",
            "_view_name": "LayoutView",
            "align_content": null,
            "align_items": null,
            "align_self": null,
            "border": null,
            "bottom": null,
            "display": null,
            "flex": null,
            "flex_flow": null,
            "grid_area": null,
            "grid_auto_columns": null,
            "grid_auto_flow": null,
            "grid_auto_rows": null,
            "grid_column": null,
            "grid_gap": null,
            "grid_row": null,
            "grid_template_areas": null,
            "grid_template_columns": null,
            "grid_template_rows": null,
            "height": null,
            "justify_content": null,
            "justify_items": null,
            "left": null,
            "margin": null,
            "max_height": null,
            "max_width": null,
            "min_height": null,
            "min_width": null,
            "object_fit": null,
            "object_position": null,
            "order": null,
            "overflow": null,
            "overflow_x": null,
            "overflow_y": null,
            "padding": null,
            "right": null,
            "top": null,
            "visibility": null,
            "width": null
          }
        },
        "f55c88a389fe422d979858d75eda80ce": {
          "model_module": "@jupyter-widgets/controls",
          "model_name": "ProgressStyleModel",
          "model_module_version": "1.5.0",
          "state": {
            "_model_module": "@jupyter-widgets/controls",
            "_model_module_version": "1.5.0",
            "_model_name": "ProgressStyleModel",
            "_view_count": null,
            "_view_module": "@jupyter-widgets/base",
            "_view_module_version": "1.2.0",
            "_view_name": "StyleView",
            "bar_color": null,
            "description_width": ""
          }
        },
        "aaff4221b6f243efbffa84bf09a27f26": {
          "model_module": "@jupyter-widgets/base",
          "model_name": "LayoutModel",
          "model_module_version": "1.2.0",
          "state": {
            "_model_module": "@jupyter-widgets/base",
            "_model_module_version": "1.2.0",
            "_model_name": "LayoutModel",
            "_view_count": null,
            "_view_module": "@jupyter-widgets/base",
            "_view_module_version": "1.2.0",
            "_view_name": "LayoutView",
            "align_content": null,
            "align_items": null,
            "align_self": null,
            "border": null,
            "bottom": null,
            "display": null,
            "flex": null,
            "flex_flow": null,
            "grid_area": null,
            "grid_auto_columns": null,
            "grid_auto_flow": null,
            "grid_auto_rows": null,
            "grid_column": null,
            "grid_gap": null,
            "grid_row": null,
            "grid_template_areas": null,
            "grid_template_columns": null,
            "grid_template_rows": null,
            "height": null,
            "justify_content": null,
            "justify_items": null,
            "left": null,
            "margin": null,
            "max_height": null,
            "max_width": null,
            "min_height": null,
            "min_width": null,
            "object_fit": null,
            "object_position": null,
            "order": null,
            "overflow": null,
            "overflow_x": null,
            "overflow_y": null,
            "padding": null,
            "right": null,
            "top": null,
            "visibility": null,
            "width": null
          }
        },
        "968c3ebe61a741dc905bc9ffaa03c098": {
          "model_module": "@jupyter-widgets/controls",
          "model_name": "DescriptionStyleModel",
          "model_module_version": "1.5.0",
          "state": {
            "_model_module": "@jupyter-widgets/controls",
            "_model_module_version": "1.5.0",
            "_model_name": "DescriptionStyleModel",
            "_view_count": null,
            "_view_module": "@jupyter-widgets/base",
            "_view_module_version": "1.2.0",
            "_view_name": "StyleView",
            "description_width": ""
          }
        },
        "d287d0f36f444445afe057d0e18c289a": {
          "model_module": "@jupyter-widgets/controls",
          "model_name": "HBoxModel",
          "model_module_version": "1.5.0",
          "state": {
            "_dom_classes": [],
            "_model_module": "@jupyter-widgets/controls",
            "_model_module_version": "1.5.0",
            "_model_name": "HBoxModel",
            "_view_count": null,
            "_view_module": "@jupyter-widgets/controls",
            "_view_module_version": "1.5.0",
            "_view_name": "HBoxView",
            "box_style": "",
            "children": [
              "IPY_MODEL_0c372344e3774e9cb1ce713e2bf05252",
              "IPY_MODEL_50f3aca2446a4fb883059aca33492271",
              "IPY_MODEL_b78007b8942a4d9487cabb6c4ce5e5a1"
            ],
            "layout": "IPY_MODEL_a6068eddaa2d46c581d89ddb497ec76f"
          }
        },
        "0c372344e3774e9cb1ce713e2bf05252": {
          "model_module": "@jupyter-widgets/controls",
          "model_name": "HTMLModel",
          "model_module_version": "1.5.0",
          "state": {
            "_dom_classes": [],
            "_model_module": "@jupyter-widgets/controls",
            "_model_module_version": "1.5.0",
            "_model_name": "HTMLModel",
            "_view_count": null,
            "_view_module": "@jupyter-widgets/controls",
            "_view_module_version": "1.5.0",
            "_view_name": "HTMLView",
            "description": "",
            "description_tooltip": null,
            "layout": "IPY_MODEL_21e1afdc004941cdbf2b1cdb103fabc7",
            "placeholder": "​",
            "style": "IPY_MODEL_680a9a26d33e452f9eb25be95ec84bcf",
            "value": "Downloading (…)okenizer_config.json: 100%"
          }
        },
        "50f3aca2446a4fb883059aca33492271": {
          "model_module": "@jupyter-widgets/controls",
          "model_name": "FloatProgressModel",
          "model_module_version": "1.5.0",
          "state": {
            "_dom_classes": [],
            "_model_module": "@jupyter-widgets/controls",
            "_model_module_version": "1.5.0",
            "_model_name": "FloatProgressModel",
            "_view_count": null,
            "_view_module": "@jupyter-widgets/controls",
            "_view_module_version": "1.5.0",
            "_view_name": "ProgressView",
            "bar_style": "success",
            "description": "",
            "description_tooltip": null,
            "layout": "IPY_MODEL_7344437ff89b4c5591bf17b0342164e3",
            "max": 2537,
            "min": 0,
            "orientation": "horizontal",
            "style": "IPY_MODEL_f19ecdff72e248c49cdf0eae5be3a0cb",
            "value": 2537
          }
        },
        "b78007b8942a4d9487cabb6c4ce5e5a1": {
          "model_module": "@jupyter-widgets/controls",
          "model_name": "HTMLModel",
          "model_module_version": "1.5.0",
          "state": {
            "_dom_classes": [],
            "_model_module": "@jupyter-widgets/controls",
            "_model_module_version": "1.5.0",
            "_model_name": "HTMLModel",
            "_view_count": null,
            "_view_module": "@jupyter-widgets/controls",
            "_view_module_version": "1.5.0",
            "_view_name": "HTMLView",
            "description": "",
            "description_tooltip": null,
            "layout": "IPY_MODEL_0b567667a48d441eb8867fe9fb014776",
            "placeholder": "​",
            "style": "IPY_MODEL_90a7557a618e4375bb9d954c0ce8c83e",
            "value": " 2.54k/2.54k [00:00&lt;00:00, 45.9kB/s]"
          }
        },
        "a6068eddaa2d46c581d89ddb497ec76f": {
          "model_module": "@jupyter-widgets/base",
          "model_name": "LayoutModel",
          "model_module_version": "1.2.0",
          "state": {
            "_model_module": "@jupyter-widgets/base",
            "_model_module_version": "1.2.0",
            "_model_name": "LayoutModel",
            "_view_count": null,
            "_view_module": "@jupyter-widgets/base",
            "_view_module_version": "1.2.0",
            "_view_name": "LayoutView",
            "align_content": null,
            "align_items": null,
            "align_self": null,
            "border": null,
            "bottom": null,
            "display": null,
            "flex": null,
            "flex_flow": null,
            "grid_area": null,
            "grid_auto_columns": null,
            "grid_auto_flow": null,
            "grid_auto_rows": null,
            "grid_column": null,
            "grid_gap": null,
            "grid_row": null,
            "grid_template_areas": null,
            "grid_template_columns": null,
            "grid_template_rows": null,
            "height": null,
            "justify_content": null,
            "justify_items": null,
            "left": null,
            "margin": null,
            "max_height": null,
            "max_width": null,
            "min_height": null,
            "min_width": null,
            "object_fit": null,
            "object_position": null,
            "order": null,
            "overflow": null,
            "overflow_x": null,
            "overflow_y": null,
            "padding": null,
            "right": null,
            "top": null,
            "visibility": null,
            "width": null
          }
        },
        "21e1afdc004941cdbf2b1cdb103fabc7": {
          "model_module": "@jupyter-widgets/base",
          "model_name": "LayoutModel",
          "model_module_version": "1.2.0",
          "state": {
            "_model_module": "@jupyter-widgets/base",
            "_model_module_version": "1.2.0",
            "_model_name": "LayoutModel",
            "_view_count": null,
            "_view_module": "@jupyter-widgets/base",
            "_view_module_version": "1.2.0",
            "_view_name": "LayoutView",
            "align_content": null,
            "align_items": null,
            "align_self": null,
            "border": null,
            "bottom": null,
            "display": null,
            "flex": null,
            "flex_flow": null,
            "grid_area": null,
            "grid_auto_columns": null,
            "grid_auto_flow": null,
            "grid_auto_rows": null,
            "grid_column": null,
            "grid_gap": null,
            "grid_row": null,
            "grid_template_areas": null,
            "grid_template_columns": null,
            "grid_template_rows": null,
            "height": null,
            "justify_content": null,
            "justify_items": null,
            "left": null,
            "margin": null,
            "max_height": null,
            "max_width": null,
            "min_height": null,
            "min_width": null,
            "object_fit": null,
            "object_position": null,
            "order": null,
            "overflow": null,
            "overflow_x": null,
            "overflow_y": null,
            "padding": null,
            "right": null,
            "top": null,
            "visibility": null,
            "width": null
          }
        },
        "680a9a26d33e452f9eb25be95ec84bcf": {
          "model_module": "@jupyter-widgets/controls",
          "model_name": "DescriptionStyleModel",
          "model_module_version": "1.5.0",
          "state": {
            "_model_module": "@jupyter-widgets/controls",
            "_model_module_version": "1.5.0",
            "_model_name": "DescriptionStyleModel",
            "_view_count": null,
            "_view_module": "@jupyter-widgets/base",
            "_view_module_version": "1.2.0",
            "_view_name": "StyleView",
            "description_width": ""
          }
        },
        "7344437ff89b4c5591bf17b0342164e3": {
          "model_module": "@jupyter-widgets/base",
          "model_name": "LayoutModel",
          "model_module_version": "1.2.0",
          "state": {
            "_model_module": "@jupyter-widgets/base",
            "_model_module_version": "1.2.0",
            "_model_name": "LayoutModel",
            "_view_count": null,
            "_view_module": "@jupyter-widgets/base",
            "_view_module_version": "1.2.0",
            "_view_name": "LayoutView",
            "align_content": null,
            "align_items": null,
            "align_self": null,
            "border": null,
            "bottom": null,
            "display": null,
            "flex": null,
            "flex_flow": null,
            "grid_area": null,
            "grid_auto_columns": null,
            "grid_auto_flow": null,
            "grid_auto_rows": null,
            "grid_column": null,
            "grid_gap": null,
            "grid_row": null,
            "grid_template_areas": null,
            "grid_template_columns": null,
            "grid_template_rows": null,
            "height": null,
            "justify_content": null,
            "justify_items": null,
            "left": null,
            "margin": null,
            "max_height": null,
            "max_width": null,
            "min_height": null,
            "min_width": null,
            "object_fit": null,
            "object_position": null,
            "order": null,
            "overflow": null,
            "overflow_x": null,
            "overflow_y": null,
            "padding": null,
            "right": null,
            "top": null,
            "visibility": null,
            "width": null
          }
        },
        "f19ecdff72e248c49cdf0eae5be3a0cb": {
          "model_module": "@jupyter-widgets/controls",
          "model_name": "ProgressStyleModel",
          "model_module_version": "1.5.0",
          "state": {
            "_model_module": "@jupyter-widgets/controls",
            "_model_module_version": "1.5.0",
            "_model_name": "ProgressStyleModel",
            "_view_count": null,
            "_view_module": "@jupyter-widgets/base",
            "_view_module_version": "1.2.0",
            "_view_name": "StyleView",
            "bar_color": null,
            "description_width": ""
          }
        },
        "0b567667a48d441eb8867fe9fb014776": {
          "model_module": "@jupyter-widgets/base",
          "model_name": "LayoutModel",
          "model_module_version": "1.2.0",
          "state": {
            "_model_module": "@jupyter-widgets/base",
            "_model_module_version": "1.2.0",
            "_model_name": "LayoutModel",
            "_view_count": null,
            "_view_module": "@jupyter-widgets/base",
            "_view_module_version": "1.2.0",
            "_view_name": "LayoutView",
            "align_content": null,
            "align_items": null,
            "align_self": null,
            "border": null,
            "bottom": null,
            "display": null,
            "flex": null,
            "flex_flow": null,
            "grid_area": null,
            "grid_auto_columns": null,
            "grid_auto_flow": null,
            "grid_auto_rows": null,
            "grid_column": null,
            "grid_gap": null,
            "grid_row": null,
            "grid_template_areas": null,
            "grid_template_columns": null,
            "grid_template_rows": null,
            "height": null,
            "justify_content": null,
            "justify_items": null,
            "left": null,
            "margin": null,
            "max_height": null,
            "max_width": null,
            "min_height": null,
            "min_width": null,
            "object_fit": null,
            "object_position": null,
            "order": null,
            "overflow": null,
            "overflow_x": null,
            "overflow_y": null,
            "padding": null,
            "right": null,
            "top": null,
            "visibility": null,
            "width": null
          }
        },
        "90a7557a618e4375bb9d954c0ce8c83e": {
          "model_module": "@jupyter-widgets/controls",
          "model_name": "DescriptionStyleModel",
          "model_module_version": "1.5.0",
          "state": {
            "_model_module": "@jupyter-widgets/controls",
            "_model_module_version": "1.5.0",
            "_model_name": "DescriptionStyleModel",
            "_view_count": null,
            "_view_module": "@jupyter-widgets/base",
            "_view_module_version": "1.2.0",
            "_view_name": "StyleView",
            "description_width": ""
          }
        },
        "0069f2ec840f445fabafebadd391a5ff": {
          "model_module": "@jupyter-widgets/controls",
          "model_name": "HBoxModel",
          "model_module_version": "1.5.0",
          "state": {
            "_dom_classes": [],
            "_model_module": "@jupyter-widgets/controls",
            "_model_module_version": "1.5.0",
            "_model_name": "HBoxModel",
            "_view_count": null,
            "_view_module": "@jupyter-widgets/controls",
            "_view_module_version": "1.5.0",
            "_view_name": "HBoxView",
            "box_style": "",
            "children": [
              "IPY_MODEL_f3d0aa68058f4b048c2bf59ff8735df9",
              "IPY_MODEL_3f94c40930034acaa328a068093be2f6",
              "IPY_MODEL_0793f616462b4dd99a2be4408736ba42"
            ],
            "layout": "IPY_MODEL_0c208965a3724d86b7f8cb237799d473"
          }
        },
        "f3d0aa68058f4b048c2bf59ff8735df9": {
          "model_module": "@jupyter-widgets/controls",
          "model_name": "HTMLModel",
          "model_module_version": "1.5.0",
          "state": {
            "_dom_classes": [],
            "_model_module": "@jupyter-widgets/controls",
            "_model_module_version": "1.5.0",
            "_model_name": "HTMLModel",
            "_view_count": null,
            "_view_module": "@jupyter-widgets/controls",
            "_view_module_version": "1.5.0",
            "_view_name": "HTMLView",
            "description": "",
            "description_tooltip": null,
            "layout": "IPY_MODEL_5845bc4104d44932af40cb9fef18f955",
            "placeholder": "​",
            "style": "IPY_MODEL_7551d970a4614ac78d3afa0fb919e278",
            "value": "Downloading (…)&quot;spiece.model&quot;;: 100%"
          }
        },
        "3f94c40930034acaa328a068093be2f6": {
          "model_module": "@jupyter-widgets/controls",
          "model_name": "FloatProgressModel",
          "model_module_version": "1.5.0",
          "state": {
            "_dom_classes": [],
            "_model_module": "@jupyter-widgets/controls",
            "_model_module_version": "1.5.0",
            "_model_name": "FloatProgressModel",
            "_view_count": null,
            "_view_module": "@jupyter-widgets/controls",
            "_view_module_version": "1.5.0",
            "_view_name": "ProgressView",
            "bar_style": "success",
            "description": "",
            "description_tooltip": null,
            "layout": "IPY_MODEL_7dedd597ef2e46ed953940ece74d6dc2",
            "max": 791656,
            "min": 0,
            "orientation": "horizontal",
            "style": "IPY_MODEL_10551dd5fc4247b1898a5ca595509827",
            "value": 791656
          }
        },
        "0793f616462b4dd99a2be4408736ba42": {
          "model_module": "@jupyter-widgets/controls",
          "model_name": "HTMLModel",
          "model_module_version": "1.5.0",
          "state": {
            "_dom_classes": [],
            "_model_module": "@jupyter-widgets/controls",
            "_model_module_version": "1.5.0",
            "_model_name": "HTMLModel",
            "_view_count": null,
            "_view_module": "@jupyter-widgets/controls",
            "_view_module_version": "1.5.0",
            "_view_name": "HTMLView",
            "description": "",
            "description_tooltip": null,
            "layout": "IPY_MODEL_d17d4a47f9484c7db82e03100e5991ed",
            "placeholder": "​",
            "style": "IPY_MODEL_2d2f5efcfe1b4843a1cc2700e2b0254a",
            "value": " 792k/792k [00:00&lt;00:00, 28.2MB/s]"
          }
        },
        "0c208965a3724d86b7f8cb237799d473": {
          "model_module": "@jupyter-widgets/base",
          "model_name": "LayoutModel",
          "model_module_version": "1.2.0",
          "state": {
            "_model_module": "@jupyter-widgets/base",
            "_model_module_version": "1.2.0",
            "_model_name": "LayoutModel",
            "_view_count": null,
            "_view_module": "@jupyter-widgets/base",
            "_view_module_version": "1.2.0",
            "_view_name": "LayoutView",
            "align_content": null,
            "align_items": null,
            "align_self": null,
            "border": null,
            "bottom": null,
            "display": null,
            "flex": null,
            "flex_flow": null,
            "grid_area": null,
            "grid_auto_columns": null,
            "grid_auto_flow": null,
            "grid_auto_rows": null,
            "grid_column": null,
            "grid_gap": null,
            "grid_row": null,
            "grid_template_areas": null,
            "grid_template_columns": null,
            "grid_template_rows": null,
            "height": null,
            "justify_content": null,
            "justify_items": null,
            "left": null,
            "margin": null,
            "max_height": null,
            "max_width": null,
            "min_height": null,
            "min_width": null,
            "object_fit": null,
            "object_position": null,
            "order": null,
            "overflow": null,
            "overflow_x": null,
            "overflow_y": null,
            "padding": null,
            "right": null,
            "top": null,
            "visibility": null,
            "width": null
          }
        },
        "5845bc4104d44932af40cb9fef18f955": {
          "model_module": "@jupyter-widgets/base",
          "model_name": "LayoutModel",
          "model_module_version": "1.2.0",
          "state": {
            "_model_module": "@jupyter-widgets/base",
            "_model_module_version": "1.2.0",
            "_model_name": "LayoutModel",
            "_view_count": null,
            "_view_module": "@jupyter-widgets/base",
            "_view_module_version": "1.2.0",
            "_view_name": "LayoutView",
            "align_content": null,
            "align_items": null,
            "align_self": null,
            "border": null,
            "bottom": null,
            "display": null,
            "flex": null,
            "flex_flow": null,
            "grid_area": null,
            "grid_auto_columns": null,
            "grid_auto_flow": null,
            "grid_auto_rows": null,
            "grid_column": null,
            "grid_gap": null,
            "grid_row": null,
            "grid_template_areas": null,
            "grid_template_columns": null,
            "grid_template_rows": null,
            "height": null,
            "justify_content": null,
            "justify_items": null,
            "left": null,
            "margin": null,
            "max_height": null,
            "max_width": null,
            "min_height": null,
            "min_width": null,
            "object_fit": null,
            "object_position": null,
            "order": null,
            "overflow": null,
            "overflow_x": null,
            "overflow_y": null,
            "padding": null,
            "right": null,
            "top": null,
            "visibility": null,
            "width": null
          }
        },
        "7551d970a4614ac78d3afa0fb919e278": {
          "model_module": "@jupyter-widgets/controls",
          "model_name": "DescriptionStyleModel",
          "model_module_version": "1.5.0",
          "state": {
            "_model_module": "@jupyter-widgets/controls",
            "_model_module_version": "1.5.0",
            "_model_name": "DescriptionStyleModel",
            "_view_count": null,
            "_view_module": "@jupyter-widgets/base",
            "_view_module_version": "1.2.0",
            "_view_name": "StyleView",
            "description_width": ""
          }
        },
        "7dedd597ef2e46ed953940ece74d6dc2": {
          "model_module": "@jupyter-widgets/base",
          "model_name": "LayoutModel",
          "model_module_version": "1.2.0",
          "state": {
            "_model_module": "@jupyter-widgets/base",
            "_model_module_version": "1.2.0",
            "_model_name": "LayoutModel",
            "_view_count": null,
            "_view_module": "@jupyter-widgets/base",
            "_view_module_version": "1.2.0",
            "_view_name": "LayoutView",
            "align_content": null,
            "align_items": null,
            "align_self": null,
            "border": null,
            "bottom": null,
            "display": null,
            "flex": null,
            "flex_flow": null,
            "grid_area": null,
            "grid_auto_columns": null,
            "grid_auto_flow": null,
            "grid_auto_rows": null,
            "grid_column": null,
            "grid_gap": null,
            "grid_row": null,
            "grid_template_areas": null,
            "grid_template_columns": null,
            "grid_template_rows": null,
            "height": null,
            "justify_content": null,
            "justify_items": null,
            "left": null,
            "margin": null,
            "max_height": null,
            "max_width": null,
            "min_height": null,
            "min_width": null,
            "object_fit": null,
            "object_position": null,
            "order": null,
            "overflow": null,
            "overflow_x": null,
            "overflow_y": null,
            "padding": null,
            "right": null,
            "top": null,
            "visibility": null,
            "width": null
          }
        },
        "10551dd5fc4247b1898a5ca595509827": {
          "model_module": "@jupyter-widgets/controls",
          "model_name": "ProgressStyleModel",
          "model_module_version": "1.5.0",
          "state": {
            "_model_module": "@jupyter-widgets/controls",
            "_model_module_version": "1.5.0",
            "_model_name": "ProgressStyleModel",
            "_view_count": null,
            "_view_module": "@jupyter-widgets/base",
            "_view_module_version": "1.2.0",
            "_view_name": "StyleView",
            "bar_color": null,
            "description_width": ""
          }
        },
        "d17d4a47f9484c7db82e03100e5991ed": {
          "model_module": "@jupyter-widgets/base",
          "model_name": "LayoutModel",
          "model_module_version": "1.2.0",
          "state": {
            "_model_module": "@jupyter-widgets/base",
            "_model_module_version": "1.2.0",
            "_model_name": "LayoutModel",
            "_view_count": null,
            "_view_module": "@jupyter-widgets/base",
            "_view_module_version": "1.2.0",
            "_view_name": "LayoutView",
            "align_content": null,
            "align_items": null,
            "align_self": null,
            "border": null,
            "bottom": null,
            "display": null,
            "flex": null,
            "flex_flow": null,
            "grid_area": null,
            "grid_auto_columns": null,
            "grid_auto_flow": null,
            "grid_auto_rows": null,
            "grid_column": null,
            "grid_gap": null,
            "grid_row": null,
            "grid_template_areas": null,
            "grid_template_columns": null,
            "grid_template_rows": null,
            "height": null,
            "justify_content": null,
            "justify_items": null,
            "left": null,
            "margin": null,
            "max_height": null,
            "max_width": null,
            "min_height": null,
            "min_width": null,
            "object_fit": null,
            "object_position": null,
            "order": null,
            "overflow": null,
            "overflow_x": null,
            "overflow_y": null,
            "padding": null,
            "right": null,
            "top": null,
            "visibility": null,
            "width": null
          }
        },
        "2d2f5efcfe1b4843a1cc2700e2b0254a": {
          "model_module": "@jupyter-widgets/controls",
          "model_name": "DescriptionStyleModel",
          "model_module_version": "1.5.0",
          "state": {
            "_model_module": "@jupyter-widgets/controls",
            "_model_module_version": "1.5.0",
            "_model_name": "DescriptionStyleModel",
            "_view_count": null,
            "_view_module": "@jupyter-widgets/base",
            "_view_module_version": "1.2.0",
            "_view_name": "StyleView",
            "description_width": ""
          }
        },
        "d5970b9767e54edc90ec4f34fb1661f4": {
          "model_module": "@jupyter-widgets/controls",
          "model_name": "HBoxModel",
          "model_module_version": "1.5.0",
          "state": {
            "_dom_classes": [],
            "_model_module": "@jupyter-widgets/controls",
            "_model_module_version": "1.5.0",
            "_model_name": "HBoxModel",
            "_view_count": null,
            "_view_module": "@jupyter-widgets/controls",
            "_view_module_version": "1.5.0",
            "_view_name": "HBoxView",
            "box_style": "",
            "children": [
              "IPY_MODEL_7a55508006ce493d9499f6c18eb7f00f",
              "IPY_MODEL_6fdbf551c7464d3682d8c4aa3b0ab3ee",
              "IPY_MODEL_41726a3c91314897aa6667d076e6331a"
            ],
            "layout": "IPY_MODEL_bef8a601a8684f009a772bbc866d9aeb"
          }
        },
        "7a55508006ce493d9499f6c18eb7f00f": {
          "model_module": "@jupyter-widgets/controls",
          "model_name": "HTMLModel",
          "model_module_version": "1.5.0",
          "state": {
            "_dom_classes": [],
            "_model_module": "@jupyter-widgets/controls",
            "_model_module_version": "1.5.0",
            "_model_name": "HTMLModel",
            "_view_count": null,
            "_view_module": "@jupyter-widgets/controls",
            "_view_module_version": "1.5.0",
            "_view_name": "HTMLView",
            "description": "",
            "description_tooltip": null,
            "layout": "IPY_MODEL_0565436b28944476b56a6cf0eb16c95f",
            "placeholder": "​",
            "style": "IPY_MODEL_7b3830c05cd24eecb49a82195e4a64bd",
            "value": "Downloading (…)/main/tokenizer.json: 100%"
          }
        },
        "6fdbf551c7464d3682d8c4aa3b0ab3ee": {
          "model_module": "@jupyter-widgets/controls",
          "model_name": "FloatProgressModel",
          "model_module_version": "1.5.0",
          "state": {
            "_dom_classes": [],
            "_model_module": "@jupyter-widgets/controls",
            "_model_module_version": "1.5.0",
            "_model_name": "FloatProgressModel",
            "_view_count": null,
            "_view_module": "@jupyter-widgets/controls",
            "_view_module_version": "1.5.0",
            "_view_name": "ProgressView",
            "bar_style": "success",
            "description": "",
            "description_tooltip": null,
            "layout": "IPY_MODEL_6b89857497274613a5aa5afc11b67a00",
            "max": 2424064,
            "min": 0,
            "orientation": "horizontal",
            "style": "IPY_MODEL_7f939ed849bb4e769b1f674bc520c200",
            "value": 2424064
          }
        },
        "41726a3c91314897aa6667d076e6331a": {
          "model_module": "@jupyter-widgets/controls",
          "model_name": "HTMLModel",
          "model_module_version": "1.5.0",
          "state": {
            "_dom_classes": [],
            "_model_module": "@jupyter-widgets/controls",
            "_model_module_version": "1.5.0",
            "_model_name": "HTMLModel",
            "_view_count": null,
            "_view_module": "@jupyter-widgets/controls",
            "_view_module_version": "1.5.0",
            "_view_name": "HTMLView",
            "description": "",
            "description_tooltip": null,
            "layout": "IPY_MODEL_e088d4ad7c47489e8d3f32b3f4b53a22",
            "placeholder": "​",
            "style": "IPY_MODEL_644c8c9521fe4eb3aef9e726e4079652",
            "value": " 2.42M/2.42M [00:01&lt;00:00, 1.54MB/s]"
          }
        },
        "bef8a601a8684f009a772bbc866d9aeb": {
          "model_module": "@jupyter-widgets/base",
          "model_name": "LayoutModel",
          "model_module_version": "1.2.0",
          "state": {
            "_model_module": "@jupyter-widgets/base",
            "_model_module_version": "1.2.0",
            "_model_name": "LayoutModel",
            "_view_count": null,
            "_view_module": "@jupyter-widgets/base",
            "_view_module_version": "1.2.0",
            "_view_name": "LayoutView",
            "align_content": null,
            "align_items": null,
            "align_self": null,
            "border": null,
            "bottom": null,
            "display": null,
            "flex": null,
            "flex_flow": null,
            "grid_area": null,
            "grid_auto_columns": null,
            "grid_auto_flow": null,
            "grid_auto_rows": null,
            "grid_column": null,
            "grid_gap": null,
            "grid_row": null,
            "grid_template_areas": null,
            "grid_template_columns": null,
            "grid_template_rows": null,
            "height": null,
            "justify_content": null,
            "justify_items": null,
            "left": null,
            "margin": null,
            "max_height": null,
            "max_width": null,
            "min_height": null,
            "min_width": null,
            "object_fit": null,
            "object_position": null,
            "order": null,
            "overflow": null,
            "overflow_x": null,
            "overflow_y": null,
            "padding": null,
            "right": null,
            "top": null,
            "visibility": null,
            "width": null
          }
        },
        "0565436b28944476b56a6cf0eb16c95f": {
          "model_module": "@jupyter-widgets/base",
          "model_name": "LayoutModel",
          "model_module_version": "1.2.0",
          "state": {
            "_model_module": "@jupyter-widgets/base",
            "_model_module_version": "1.2.0",
            "_model_name": "LayoutModel",
            "_view_count": null,
            "_view_module": "@jupyter-widgets/base",
            "_view_module_version": "1.2.0",
            "_view_name": "LayoutView",
            "align_content": null,
            "align_items": null,
            "align_self": null,
            "border": null,
            "bottom": null,
            "display": null,
            "flex": null,
            "flex_flow": null,
            "grid_area": null,
            "grid_auto_columns": null,
            "grid_auto_flow": null,
            "grid_auto_rows": null,
            "grid_column": null,
            "grid_gap": null,
            "grid_row": null,
            "grid_template_areas": null,
            "grid_template_columns": null,
            "grid_template_rows": null,
            "height": null,
            "justify_content": null,
            "justify_items": null,
            "left": null,
            "margin": null,
            "max_height": null,
            "max_width": null,
            "min_height": null,
            "min_width": null,
            "object_fit": null,
            "object_position": null,
            "order": null,
            "overflow": null,
            "overflow_x": null,
            "overflow_y": null,
            "padding": null,
            "right": null,
            "top": null,
            "visibility": null,
            "width": null
          }
        },
        "7b3830c05cd24eecb49a82195e4a64bd": {
          "model_module": "@jupyter-widgets/controls",
          "model_name": "DescriptionStyleModel",
          "model_module_version": "1.5.0",
          "state": {
            "_model_module": "@jupyter-widgets/controls",
            "_model_module_version": "1.5.0",
            "_model_name": "DescriptionStyleModel",
            "_view_count": null,
            "_view_module": "@jupyter-widgets/base",
            "_view_module_version": "1.2.0",
            "_view_name": "StyleView",
            "description_width": ""
          }
        },
        "6b89857497274613a5aa5afc11b67a00": {
          "model_module": "@jupyter-widgets/base",
          "model_name": "LayoutModel",
          "model_module_version": "1.2.0",
          "state": {
            "_model_module": "@jupyter-widgets/base",
            "_model_module_version": "1.2.0",
            "_model_name": "LayoutModel",
            "_view_count": null,
            "_view_module": "@jupyter-widgets/base",
            "_view_module_version": "1.2.0",
            "_view_name": "LayoutView",
            "align_content": null,
            "align_items": null,
            "align_self": null,
            "border": null,
            "bottom": null,
            "display": null,
            "flex": null,
            "flex_flow": null,
            "grid_area": null,
            "grid_auto_columns": null,
            "grid_auto_flow": null,
            "grid_auto_rows": null,
            "grid_column": null,
            "grid_gap": null,
            "grid_row": null,
            "grid_template_areas": null,
            "grid_template_columns": null,
            "grid_template_rows": null,
            "height": null,
            "justify_content": null,
            "justify_items": null,
            "left": null,
            "margin": null,
            "max_height": null,
            "max_width": null,
            "min_height": null,
            "min_width": null,
            "object_fit": null,
            "object_position": null,
            "order": null,
            "overflow": null,
            "overflow_x": null,
            "overflow_y": null,
            "padding": null,
            "right": null,
            "top": null,
            "visibility": null,
            "width": null
          }
        },
        "7f939ed849bb4e769b1f674bc520c200": {
          "model_module": "@jupyter-widgets/controls",
          "model_name": "ProgressStyleModel",
          "model_module_version": "1.5.0",
          "state": {
            "_model_module": "@jupyter-widgets/controls",
            "_model_module_version": "1.5.0",
            "_model_name": "ProgressStyleModel",
            "_view_count": null,
            "_view_module": "@jupyter-widgets/base",
            "_view_module_version": "1.2.0",
            "_view_name": "StyleView",
            "bar_color": null,
            "description_width": ""
          }
        },
        "e088d4ad7c47489e8d3f32b3f4b53a22": {
          "model_module": "@jupyter-widgets/base",
          "model_name": "LayoutModel",
          "model_module_version": "1.2.0",
          "state": {
            "_model_module": "@jupyter-widgets/base",
            "_model_module_version": "1.2.0",
            "_model_name": "LayoutModel",
            "_view_count": null,
            "_view_module": "@jupyter-widgets/base",
            "_view_module_version": "1.2.0",
            "_view_name": "LayoutView",
            "align_content": null,
            "align_items": null,
            "align_self": null,
            "border": null,
            "bottom": null,
            "display": null,
            "flex": null,
            "flex_flow": null,
            "grid_area": null,
            "grid_auto_columns": null,
            "grid_auto_flow": null,
            "grid_auto_rows": null,
            "grid_column": null,
            "grid_gap": null,
            "grid_row": null,
            "grid_template_areas": null,
            "grid_template_columns": null,
            "grid_template_rows": null,
            "height": null,
            "justify_content": null,
            "justify_items": null,
            "left": null,
            "margin": null,
            "max_height": null,
            "max_width": null,
            "min_height": null,
            "min_width": null,
            "object_fit": null,
            "object_position": null,
            "order": null,
            "overflow": null,
            "overflow_x": null,
            "overflow_y": null,
            "padding": null,
            "right": null,
            "top": null,
            "visibility": null,
            "width": null
          }
        },
        "644c8c9521fe4eb3aef9e726e4079652": {
          "model_module": "@jupyter-widgets/controls",
          "model_name": "DescriptionStyleModel",
          "model_module_version": "1.5.0",
          "state": {
            "_model_module": "@jupyter-widgets/controls",
            "_model_module_version": "1.5.0",
            "_model_name": "DescriptionStyleModel",
            "_view_count": null,
            "_view_module": "@jupyter-widgets/base",
            "_view_module_version": "1.2.0",
            "_view_name": "StyleView",
            "description_width": ""
          }
        },
        "bcd0768c9d4d4bacbfb661b58e313858": {
          "model_module": "@jupyter-widgets/controls",
          "model_name": "HBoxModel",
          "model_module_version": "1.5.0",
          "state": {
            "_dom_classes": [],
            "_model_module": "@jupyter-widgets/controls",
            "_model_module_version": "1.5.0",
            "_model_name": "HBoxModel",
            "_view_count": null,
            "_view_module": "@jupyter-widgets/controls",
            "_view_module_version": "1.5.0",
            "_view_name": "HBoxView",
            "box_style": "",
            "children": [
              "IPY_MODEL_070c0f5f28884b81bdb6b1787cd5428e",
              "IPY_MODEL_1f26b573dcb14eb7a4ce7cbf6adccee4",
              "IPY_MODEL_2a6a7fd86db848a6a7cb03a9b14921ab"
            ],
            "layout": "IPY_MODEL_237381d41bc84c38ada1fbf1d21eacee"
          }
        },
        "070c0f5f28884b81bdb6b1787cd5428e": {
          "model_module": "@jupyter-widgets/controls",
          "model_name": "HTMLModel",
          "model_module_version": "1.5.0",
          "state": {
            "_dom_classes": [],
            "_model_module": "@jupyter-widgets/controls",
            "_model_module_version": "1.5.0",
            "_model_name": "HTMLModel",
            "_view_count": null,
            "_view_module": "@jupyter-widgets/controls",
            "_view_module_version": "1.5.0",
            "_view_name": "HTMLView",
            "description": "",
            "description_tooltip": null,
            "layout": "IPY_MODEL_d5f26f9357924cc7bb8021a076a65898",
            "placeholder": "​",
            "style": "IPY_MODEL_c598d89df3164cee8bd04a03df5e5740",
            "value": "Downloading (…)cial_tokens_map.json: 100%"
          }
        },
        "1f26b573dcb14eb7a4ce7cbf6adccee4": {
          "model_module": "@jupyter-widgets/controls",
          "model_name": "FloatProgressModel",
          "model_module_version": "1.5.0",
          "state": {
            "_dom_classes": [],
            "_model_module": "@jupyter-widgets/controls",
            "_model_module_version": "1.5.0",
            "_model_name": "FloatProgressModel",
            "_view_count": null,
            "_view_module": "@jupyter-widgets/controls",
            "_view_module_version": "1.5.0",
            "_view_name": "ProgressView",
            "bar_style": "success",
            "description": "",
            "description_tooltip": null,
            "layout": "IPY_MODEL_d38a62c9ed5f4fd7ac81dace0ce7b47b",
            "max": 2201,
            "min": 0,
            "orientation": "horizontal",
            "style": "IPY_MODEL_d193f4a36cea4d4a9bb6c177b0cdb7fa",
            "value": 2201
          }
        },
        "2a6a7fd86db848a6a7cb03a9b14921ab": {
          "model_module": "@jupyter-widgets/controls",
          "model_name": "HTMLModel",
          "model_module_version": "1.5.0",
          "state": {
            "_dom_classes": [],
            "_model_module": "@jupyter-widgets/controls",
            "_model_module_version": "1.5.0",
            "_model_name": "HTMLModel",
            "_view_count": null,
            "_view_module": "@jupyter-widgets/controls",
            "_view_module_version": "1.5.0",
            "_view_name": "HTMLView",
            "description": "",
            "description_tooltip": null,
            "layout": "IPY_MODEL_28dbdc28bbee4b4482a39aeeaa65d5e5",
            "placeholder": "​",
            "style": "IPY_MODEL_78cf022a1a5f48b9a5eedd4d45f0c9fb",
            "value": " 2.20k/2.20k [00:00&lt;00:00, 122kB/s]"
          }
        },
        "237381d41bc84c38ada1fbf1d21eacee": {
          "model_module": "@jupyter-widgets/base",
          "model_name": "LayoutModel",
          "model_module_version": "1.2.0",
          "state": {
            "_model_module": "@jupyter-widgets/base",
            "_model_module_version": "1.2.0",
            "_model_name": "LayoutModel",
            "_view_count": null,
            "_view_module": "@jupyter-widgets/base",
            "_view_module_version": "1.2.0",
            "_view_name": "LayoutView",
            "align_content": null,
            "align_items": null,
            "align_self": null,
            "border": null,
            "bottom": null,
            "display": null,
            "flex": null,
            "flex_flow": null,
            "grid_area": null,
            "grid_auto_columns": null,
            "grid_auto_flow": null,
            "grid_auto_rows": null,
            "grid_column": null,
            "grid_gap": null,
            "grid_row": null,
            "grid_template_areas": null,
            "grid_template_columns": null,
            "grid_template_rows": null,
            "height": null,
            "justify_content": null,
            "justify_items": null,
            "left": null,
            "margin": null,
            "max_height": null,
            "max_width": null,
            "min_height": null,
            "min_width": null,
            "object_fit": null,
            "object_position": null,
            "order": null,
            "overflow": null,
            "overflow_x": null,
            "overflow_y": null,
            "padding": null,
            "right": null,
            "top": null,
            "visibility": null,
            "width": null
          }
        },
        "d5f26f9357924cc7bb8021a076a65898": {
          "model_module": "@jupyter-widgets/base",
          "model_name": "LayoutModel",
          "model_module_version": "1.2.0",
          "state": {
            "_model_module": "@jupyter-widgets/base",
            "_model_module_version": "1.2.0",
            "_model_name": "LayoutModel",
            "_view_count": null,
            "_view_module": "@jupyter-widgets/base",
            "_view_module_version": "1.2.0",
            "_view_name": "LayoutView",
            "align_content": null,
            "align_items": null,
            "align_self": null,
            "border": null,
            "bottom": null,
            "display": null,
            "flex": null,
            "flex_flow": null,
            "grid_area": null,
            "grid_auto_columns": null,
            "grid_auto_flow": null,
            "grid_auto_rows": null,
            "grid_column": null,
            "grid_gap": null,
            "grid_row": null,
            "grid_template_areas": null,
            "grid_template_columns": null,
            "grid_template_rows": null,
            "height": null,
            "justify_content": null,
            "justify_items": null,
            "left": null,
            "margin": null,
            "max_height": null,
            "max_width": null,
            "min_height": null,
            "min_width": null,
            "object_fit": null,
            "object_position": null,
            "order": null,
            "overflow": null,
            "overflow_x": null,
            "overflow_y": null,
            "padding": null,
            "right": null,
            "top": null,
            "visibility": null,
            "width": null
          }
        },
        "c598d89df3164cee8bd04a03df5e5740": {
          "model_module": "@jupyter-widgets/controls",
          "model_name": "DescriptionStyleModel",
          "model_module_version": "1.5.0",
          "state": {
            "_model_module": "@jupyter-widgets/controls",
            "_model_module_version": "1.5.0",
            "_model_name": "DescriptionStyleModel",
            "_view_count": null,
            "_view_module": "@jupyter-widgets/base",
            "_view_module_version": "1.2.0",
            "_view_name": "StyleView",
            "description_width": ""
          }
        },
        "d38a62c9ed5f4fd7ac81dace0ce7b47b": {
          "model_module": "@jupyter-widgets/base",
          "model_name": "LayoutModel",
          "model_module_version": "1.2.0",
          "state": {
            "_model_module": "@jupyter-widgets/base",
            "_model_module_version": "1.2.0",
            "_model_name": "LayoutModel",
            "_view_count": null,
            "_view_module": "@jupyter-widgets/base",
            "_view_module_version": "1.2.0",
            "_view_name": "LayoutView",
            "align_content": null,
            "align_items": null,
            "align_self": null,
            "border": null,
            "bottom": null,
            "display": null,
            "flex": null,
            "flex_flow": null,
            "grid_area": null,
            "grid_auto_columns": null,
            "grid_auto_flow": null,
            "grid_auto_rows": null,
            "grid_column": null,
            "grid_gap": null,
            "grid_row": null,
            "grid_template_areas": null,
            "grid_template_columns": null,
            "grid_template_rows": null,
            "height": null,
            "justify_content": null,
            "justify_items": null,
            "left": null,
            "margin": null,
            "max_height": null,
            "max_width": null,
            "min_height": null,
            "min_width": null,
            "object_fit": null,
            "object_position": null,
            "order": null,
            "overflow": null,
            "overflow_x": null,
            "overflow_y": null,
            "padding": null,
            "right": null,
            "top": null,
            "visibility": null,
            "width": null
          }
        },
        "d193f4a36cea4d4a9bb6c177b0cdb7fa": {
          "model_module": "@jupyter-widgets/controls",
          "model_name": "ProgressStyleModel",
          "model_module_version": "1.5.0",
          "state": {
            "_model_module": "@jupyter-widgets/controls",
            "_model_module_version": "1.5.0",
            "_model_name": "ProgressStyleModel",
            "_view_count": null,
            "_view_module": "@jupyter-widgets/base",
            "_view_module_version": "1.2.0",
            "_view_name": "StyleView",
            "bar_color": null,
            "description_width": ""
          }
        },
        "28dbdc28bbee4b4482a39aeeaa65d5e5": {
          "model_module": "@jupyter-widgets/base",
          "model_name": "LayoutModel",
          "model_module_version": "1.2.0",
          "state": {
            "_model_module": "@jupyter-widgets/base",
            "_model_module_version": "1.2.0",
            "_model_name": "LayoutModel",
            "_view_count": null,
            "_view_module": "@jupyter-widgets/base",
            "_view_module_version": "1.2.0",
            "_view_name": "LayoutView",
            "align_content": null,
            "align_items": null,
            "align_self": null,
            "border": null,
            "bottom": null,
            "display": null,
            "flex": null,
            "flex_flow": null,
            "grid_area": null,
            "grid_auto_columns": null,
            "grid_auto_flow": null,
            "grid_auto_rows": null,
            "grid_column": null,
            "grid_gap": null,
            "grid_row": null,
            "grid_template_areas": null,
            "grid_template_columns": null,
            "grid_template_rows": null,
            "height": null,
            "justify_content": null,
            "justify_items": null,
            "left": null,
            "margin": null,
            "max_height": null,
            "max_width": null,
            "min_height": null,
            "min_width": null,
            "object_fit": null,
            "object_position": null,
            "order": null,
            "overflow": null,
            "overflow_x": null,
            "overflow_y": null,
            "padding": null,
            "right": null,
            "top": null,
            "visibility": null,
            "width": null
          }
        },
        "78cf022a1a5f48b9a5eedd4d45f0c9fb": {
          "model_module": "@jupyter-widgets/controls",
          "model_name": "DescriptionStyleModel",
          "model_module_version": "1.5.0",
          "state": {
            "_model_module": "@jupyter-widgets/controls",
            "_model_module_version": "1.5.0",
            "_model_name": "DescriptionStyleModel",
            "_view_count": null,
            "_view_module": "@jupyter-widgets/base",
            "_view_module_version": "1.2.0",
            "_view_name": "StyleView",
            "description_width": ""
          }
        },
        "2f2b78186c984a718132980f0def27c9": {
          "model_module": "@jupyter-widgets/controls",
          "model_name": "HBoxModel",
          "model_module_version": "1.5.0",
          "state": {
            "_dom_classes": [],
            "_model_module": "@jupyter-widgets/controls",
            "_model_module_version": "1.5.0",
            "_model_name": "HBoxModel",
            "_view_count": null,
            "_view_module": "@jupyter-widgets/controls",
            "_view_module_version": "1.5.0",
            "_view_name": "HBoxView",
            "box_style": "",
            "children": [
              "IPY_MODEL_7d85ac4715ac4a2c9287706b5d8f9628",
              "IPY_MODEL_61a66b3918504b55a62d39a0daa2e236",
              "IPY_MODEL_1c8e7461836844fc9c6e9410b330d1f0"
            ],
            "layout": "IPY_MODEL_415e9a4181fb4305bc45d71110620dd7"
          }
        },
        "7d85ac4715ac4a2c9287706b5d8f9628": {
          "model_module": "@jupyter-widgets/controls",
          "model_name": "HTMLModel",
          "model_module_version": "1.5.0",
          "state": {
            "_dom_classes": [],
            "_model_module": "@jupyter-widgets/controls",
            "_model_module_version": "1.5.0",
            "_model_name": "HTMLModel",
            "_view_count": null,
            "_view_module": "@jupyter-widgets/controls",
            "_view_module_version": "1.5.0",
            "_view_name": "HTMLView",
            "description": "",
            "description_tooltip": null,
            "layout": "IPY_MODEL_7327f465afaf4191abf35ecc90afe6b5",
            "placeholder": "​",
            "style": "IPY_MODEL_008a5d9844364f118189f2825c0a9048",
            "value": "Downloading (…)lve/main/config.json: 100%"
          }
        },
        "61a66b3918504b55a62d39a0daa2e236": {
          "model_module": "@jupyter-widgets/controls",
          "model_name": "FloatProgressModel",
          "model_module_version": "1.5.0",
          "state": {
            "_dom_classes": [],
            "_model_module": "@jupyter-widgets/controls",
            "_model_module_version": "1.5.0",
            "_model_name": "FloatProgressModel",
            "_view_count": null,
            "_view_module": "@jupyter-widgets/controls",
            "_view_module_version": "1.5.0",
            "_view_name": "ProgressView",
            "bar_style": "success",
            "description": "",
            "description_tooltip": null,
            "layout": "IPY_MODEL_a7ad6570190f491ea89d55eda252cd94",
            "max": 1404,
            "min": 0,
            "orientation": "horizontal",
            "style": "IPY_MODEL_4397901c7f7d4c939f4b9c3557c673e9",
            "value": 1404
          }
        },
        "1c8e7461836844fc9c6e9410b330d1f0": {
          "model_module": "@jupyter-widgets/controls",
          "model_name": "HTMLModel",
          "model_module_version": "1.5.0",
          "state": {
            "_dom_classes": [],
            "_model_module": "@jupyter-widgets/controls",
            "_model_module_version": "1.5.0",
            "_model_name": "HTMLModel",
            "_view_count": null,
            "_view_module": "@jupyter-widgets/controls",
            "_view_module_version": "1.5.0",
            "_view_name": "HTMLView",
            "description": "",
            "description_tooltip": null,
            "layout": "IPY_MODEL_604504d0ef134e00b1c0c94d511339a5",
            "placeholder": "​",
            "style": "IPY_MODEL_078c9e29b7ad43629552042ec974cb0b",
            "value": " 1.40k/1.40k [00:00&lt;00:00, 49.1kB/s]"
          }
        },
        "415e9a4181fb4305bc45d71110620dd7": {
          "model_module": "@jupyter-widgets/base",
          "model_name": "LayoutModel",
          "model_module_version": "1.2.0",
          "state": {
            "_model_module": "@jupyter-widgets/base",
            "_model_module_version": "1.2.0",
            "_model_name": "LayoutModel",
            "_view_count": null,
            "_view_module": "@jupyter-widgets/base",
            "_view_module_version": "1.2.0",
            "_view_name": "LayoutView",
            "align_content": null,
            "align_items": null,
            "align_self": null,
            "border": null,
            "bottom": null,
            "display": null,
            "flex": null,
            "flex_flow": null,
            "grid_area": null,
            "grid_auto_columns": null,
            "grid_auto_flow": null,
            "grid_auto_rows": null,
            "grid_column": null,
            "grid_gap": null,
            "grid_row": null,
            "grid_template_areas": null,
            "grid_template_columns": null,
            "grid_template_rows": null,
            "height": null,
            "justify_content": null,
            "justify_items": null,
            "left": null,
            "margin": null,
            "max_height": null,
            "max_width": null,
            "min_height": null,
            "min_width": null,
            "object_fit": null,
            "object_position": null,
            "order": null,
            "overflow": null,
            "overflow_x": null,
            "overflow_y": null,
            "padding": null,
            "right": null,
            "top": null,
            "visibility": null,
            "width": null
          }
        },
        "7327f465afaf4191abf35ecc90afe6b5": {
          "model_module": "@jupyter-widgets/base",
          "model_name": "LayoutModel",
          "model_module_version": "1.2.0",
          "state": {
            "_model_module": "@jupyter-widgets/base",
            "_model_module_version": "1.2.0",
            "_model_name": "LayoutModel",
            "_view_count": null,
            "_view_module": "@jupyter-widgets/base",
            "_view_module_version": "1.2.0",
            "_view_name": "LayoutView",
            "align_content": null,
            "align_items": null,
            "align_self": null,
            "border": null,
            "bottom": null,
            "display": null,
            "flex": null,
            "flex_flow": null,
            "grid_area": null,
            "grid_auto_columns": null,
            "grid_auto_flow": null,
            "grid_auto_rows": null,
            "grid_column": null,
            "grid_gap": null,
            "grid_row": null,
            "grid_template_areas": null,
            "grid_template_columns": null,
            "grid_template_rows": null,
            "height": null,
            "justify_content": null,
            "justify_items": null,
            "left": null,
            "margin": null,
            "max_height": null,
            "max_width": null,
            "min_height": null,
            "min_width": null,
            "object_fit": null,
            "object_position": null,
            "order": null,
            "overflow": null,
            "overflow_x": null,
            "overflow_y": null,
            "padding": null,
            "right": null,
            "top": null,
            "visibility": null,
            "width": null
          }
        },
        "008a5d9844364f118189f2825c0a9048": {
          "model_module": "@jupyter-widgets/controls",
          "model_name": "DescriptionStyleModel",
          "model_module_version": "1.5.0",
          "state": {
            "_model_module": "@jupyter-widgets/controls",
            "_model_module_version": "1.5.0",
            "_model_name": "DescriptionStyleModel",
            "_view_count": null,
            "_view_module": "@jupyter-widgets/base",
            "_view_module_version": "1.2.0",
            "_view_name": "StyleView",
            "description_width": ""
          }
        },
        "a7ad6570190f491ea89d55eda252cd94": {
          "model_module": "@jupyter-widgets/base",
          "model_name": "LayoutModel",
          "model_module_version": "1.2.0",
          "state": {
            "_model_module": "@jupyter-widgets/base",
            "_model_module_version": "1.2.0",
            "_model_name": "LayoutModel",
            "_view_count": null,
            "_view_module": "@jupyter-widgets/base",
            "_view_module_version": "1.2.0",
            "_view_name": "LayoutView",
            "align_content": null,
            "align_items": null,
            "align_self": null,
            "border": null,
            "bottom": null,
            "display": null,
            "flex": null,
            "flex_flow": null,
            "grid_area": null,
            "grid_auto_columns": null,
            "grid_auto_flow": null,
            "grid_auto_rows": null,
            "grid_column": null,
            "grid_gap": null,
            "grid_row": null,
            "grid_template_areas": null,
            "grid_template_columns": null,
            "grid_template_rows": null,
            "height": null,
            "justify_content": null,
            "justify_items": null,
            "left": null,
            "margin": null,
            "max_height": null,
            "max_width": null,
            "min_height": null,
            "min_width": null,
            "object_fit": null,
            "object_position": null,
            "order": null,
            "overflow": null,
            "overflow_x": null,
            "overflow_y": null,
            "padding": null,
            "right": null,
            "top": null,
            "visibility": null,
            "width": null
          }
        },
        "4397901c7f7d4c939f4b9c3557c673e9": {
          "model_module": "@jupyter-widgets/controls",
          "model_name": "ProgressStyleModel",
          "model_module_version": "1.5.0",
          "state": {
            "_model_module": "@jupyter-widgets/controls",
            "_model_module_version": "1.5.0",
            "_model_name": "ProgressStyleModel",
            "_view_count": null,
            "_view_module": "@jupyter-widgets/base",
            "_view_module_version": "1.2.0",
            "_view_name": "StyleView",
            "bar_color": null,
            "description_width": ""
          }
        },
        "604504d0ef134e00b1c0c94d511339a5": {
          "model_module": "@jupyter-widgets/base",
          "model_name": "LayoutModel",
          "model_module_version": "1.2.0",
          "state": {
            "_model_module": "@jupyter-widgets/base",
            "_model_module_version": "1.2.0",
            "_model_name": "LayoutModel",
            "_view_count": null,
            "_view_module": "@jupyter-widgets/base",
            "_view_module_version": "1.2.0",
            "_view_name": "LayoutView",
            "align_content": null,
            "align_items": null,
            "align_self": null,
            "border": null,
            "bottom": null,
            "display": null,
            "flex": null,
            "flex_flow": null,
            "grid_area": null,
            "grid_auto_columns": null,
            "grid_auto_flow": null,
            "grid_auto_rows": null,
            "grid_column": null,
            "grid_gap": null,
            "grid_row": null,
            "grid_template_areas": null,
            "grid_template_columns": null,
            "grid_template_rows": null,
            "height": null,
            "justify_content": null,
            "justify_items": null,
            "left": null,
            "margin": null,
            "max_height": null,
            "max_width": null,
            "min_height": null,
            "min_width": null,
            "object_fit": null,
            "object_position": null,
            "order": null,
            "overflow": null,
            "overflow_x": null,
            "overflow_y": null,
            "padding": null,
            "right": null,
            "top": null,
            "visibility": null,
            "width": null
          }
        },
        "078c9e29b7ad43629552042ec974cb0b": {
          "model_module": "@jupyter-widgets/controls",
          "model_name": "DescriptionStyleModel",
          "model_module_version": "1.5.0",
          "state": {
            "_model_module": "@jupyter-widgets/controls",
            "_model_module_version": "1.5.0",
            "_model_name": "DescriptionStyleModel",
            "_view_count": null,
            "_view_module": "@jupyter-widgets/base",
            "_view_module_version": "1.2.0",
            "_view_name": "StyleView",
            "description_width": ""
          }
        },
        "b9c551e3308e453981af390332748f59": {
          "model_module": "@jupyter-widgets/controls",
          "model_name": "HBoxModel",
          "model_module_version": "1.5.0",
          "state": {
            "_dom_classes": [],
            "_model_module": "@jupyter-widgets/controls",
            "_model_module_version": "1.5.0",
            "_model_name": "HBoxModel",
            "_view_count": null,
            "_view_module": "@jupyter-widgets/controls",
            "_view_module_version": "1.5.0",
            "_view_name": "HBoxView",
            "box_style": "",
            "children": [
              "IPY_MODEL_fa4efe1657fa40f3a747c02716aa3db4",
              "IPY_MODEL_73fe94300f4c4df48fd089d12bd9b332",
              "IPY_MODEL_bd849fd653d64b2a805c1e92d8dd3e34"
            ],
            "layout": "IPY_MODEL_79be0aa1895a4bb5ae129bb756d0d886"
          }
        },
        "fa4efe1657fa40f3a747c02716aa3db4": {
          "model_module": "@jupyter-widgets/controls",
          "model_name": "HTMLModel",
          "model_module_version": "1.5.0",
          "state": {
            "_dom_classes": [],
            "_model_module": "@jupyter-widgets/controls",
            "_model_module_version": "1.5.0",
            "_model_name": "HTMLModel",
            "_view_count": null,
            "_view_module": "@jupyter-widgets/controls",
            "_view_module_version": "1.5.0",
            "_view_name": "HTMLView",
            "description": "",
            "description_tooltip": null,
            "layout": "IPY_MODEL_57c326fd88cc41dea5579f4ec6c9ff2f",
            "placeholder": "​",
            "style": "IPY_MODEL_1be4104d88174ea4b12e3bda333099a7",
            "value": "Downloading (…)&quot;pytorch_model.bin&quot;;: 100%"
          }
        },
        "73fe94300f4c4df48fd089d12bd9b332": {
          "model_module": "@jupyter-widgets/controls",
          "model_name": "FloatProgressModel",
          "model_module_version": "1.5.0",
          "state": {
            "_dom_classes": [],
            "_model_module": "@jupyter-widgets/controls",
            "_model_module_version": "1.5.0",
            "_model_name": "FloatProgressModel",
            "_view_count": null,
            "_view_module": "@jupyter-widgets/controls",
            "_view_module_version": "1.5.0",
            "_view_name": "ProgressView",
            "bar_style": "success",
            "description": "",
            "description_tooltip": null,
            "layout": "IPY_MODEL_e6e8e6daa8c740c8b6d90c02c9b9a6df",
            "max": 990402637,
            "min": 0,
            "orientation": "horizontal",
            "style": "IPY_MODEL_cadcc67c9d9b4e178127312f7f926ec3",
            "value": 990402637
          }
        },
        "bd849fd653d64b2a805c1e92d8dd3e34": {
          "model_module": "@jupyter-widgets/controls",
          "model_name": "HTMLModel",
          "model_module_version": "1.5.0",
          "state": {
            "_dom_classes": [],
            "_model_module": "@jupyter-widgets/controls",
            "_model_module_version": "1.5.0",
            "_model_name": "HTMLModel",
            "_view_count": null,
            "_view_module": "@jupyter-widgets/controls",
            "_view_module_version": "1.5.0",
            "_view_name": "HTMLView",
            "description": "",
            "description_tooltip": null,
            "layout": "IPY_MODEL_375be59790294bde95101829cdc1611c",
            "placeholder": "​",
            "style": "IPY_MODEL_0c42640936ce4bb988d6d077cadc2fbb",
            "value": " 990M/990M [00:12&lt;00:00, 78.1MB/s]"
          }
        },
        "79be0aa1895a4bb5ae129bb756d0d886": {
          "model_module": "@jupyter-widgets/base",
          "model_name": "LayoutModel",
          "model_module_version": "1.2.0",
          "state": {
            "_model_module": "@jupyter-widgets/base",
            "_model_module_version": "1.2.0",
            "_model_name": "LayoutModel",
            "_view_count": null,
            "_view_module": "@jupyter-widgets/base",
            "_view_module_version": "1.2.0",
            "_view_name": "LayoutView",
            "align_content": null,
            "align_items": null,
            "align_self": null,
            "border": null,
            "bottom": null,
            "display": null,
            "flex": null,
            "flex_flow": null,
            "grid_area": null,
            "grid_auto_columns": null,
            "grid_auto_flow": null,
            "grid_auto_rows": null,
            "grid_column": null,
            "grid_gap": null,
            "grid_row": null,
            "grid_template_areas": null,
            "grid_template_columns": null,
            "grid_template_rows": null,
            "height": null,
            "justify_content": null,
            "justify_items": null,
            "left": null,
            "margin": null,
            "max_height": null,
            "max_width": null,
            "min_height": null,
            "min_width": null,
            "object_fit": null,
            "object_position": null,
            "order": null,
            "overflow": null,
            "overflow_x": null,
            "overflow_y": null,
            "padding": null,
            "right": null,
            "top": null,
            "visibility": null,
            "width": null
          }
        },
        "57c326fd88cc41dea5579f4ec6c9ff2f": {
          "model_module": "@jupyter-widgets/base",
          "model_name": "LayoutModel",
          "model_module_version": "1.2.0",
          "state": {
            "_model_module": "@jupyter-widgets/base",
            "_model_module_version": "1.2.0",
            "_model_name": "LayoutModel",
            "_view_count": null,
            "_view_module": "@jupyter-widgets/base",
            "_view_module_version": "1.2.0",
            "_view_name": "LayoutView",
            "align_content": null,
            "align_items": null,
            "align_self": null,
            "border": null,
            "bottom": null,
            "display": null,
            "flex": null,
            "flex_flow": null,
            "grid_area": null,
            "grid_auto_columns": null,
            "grid_auto_flow": null,
            "grid_auto_rows": null,
            "grid_column": null,
            "grid_gap": null,
            "grid_row": null,
            "grid_template_areas": null,
            "grid_template_columns": null,
            "grid_template_rows": null,
            "height": null,
            "justify_content": null,
            "justify_items": null,
            "left": null,
            "margin": null,
            "max_height": null,
            "max_width": null,
            "min_height": null,
            "min_width": null,
            "object_fit": null,
            "object_position": null,
            "order": null,
            "overflow": null,
            "overflow_x": null,
            "overflow_y": null,
            "padding": null,
            "right": null,
            "top": null,
            "visibility": null,
            "width": null
          }
        },
        "1be4104d88174ea4b12e3bda333099a7": {
          "model_module": "@jupyter-widgets/controls",
          "model_name": "DescriptionStyleModel",
          "model_module_version": "1.5.0",
          "state": {
            "_model_module": "@jupyter-widgets/controls",
            "_model_module_version": "1.5.0",
            "_model_name": "DescriptionStyleModel",
            "_view_count": null,
            "_view_module": "@jupyter-widgets/base",
            "_view_module_version": "1.2.0",
            "_view_name": "StyleView",
            "description_width": ""
          }
        },
        "e6e8e6daa8c740c8b6d90c02c9b9a6df": {
          "model_module": "@jupyter-widgets/base",
          "model_name": "LayoutModel",
          "model_module_version": "1.2.0",
          "state": {
            "_model_module": "@jupyter-widgets/base",
            "_model_module_version": "1.2.0",
            "_model_name": "LayoutModel",
            "_view_count": null,
            "_view_module": "@jupyter-widgets/base",
            "_view_module_version": "1.2.0",
            "_view_name": "LayoutView",
            "align_content": null,
            "align_items": null,
            "align_self": null,
            "border": null,
            "bottom": null,
            "display": null,
            "flex": null,
            "flex_flow": null,
            "grid_area": null,
            "grid_auto_columns": null,
            "grid_auto_flow": null,
            "grid_auto_rows": null,
            "grid_column": null,
            "grid_gap": null,
            "grid_row": null,
            "grid_template_areas": null,
            "grid_template_columns": null,
            "grid_template_rows": null,
            "height": null,
            "justify_content": null,
            "justify_items": null,
            "left": null,
            "margin": null,
            "max_height": null,
            "max_width": null,
            "min_height": null,
            "min_width": null,
            "object_fit": null,
            "object_position": null,
            "order": null,
            "overflow": null,
            "overflow_x": null,
            "overflow_y": null,
            "padding": null,
            "right": null,
            "top": null,
            "visibility": null,
            "width": null
          }
        },
        "cadcc67c9d9b4e178127312f7f926ec3": {
          "model_module": "@jupyter-widgets/controls",
          "model_name": "ProgressStyleModel",
          "model_module_version": "1.5.0",
          "state": {
            "_model_module": "@jupyter-widgets/controls",
            "_model_module_version": "1.5.0",
            "_model_name": "ProgressStyleModel",
            "_view_count": null,
            "_view_module": "@jupyter-widgets/base",
            "_view_module_version": "1.2.0",
            "_view_name": "StyleView",
            "bar_color": null,
            "description_width": ""
          }
        },
        "375be59790294bde95101829cdc1611c": {
          "model_module": "@jupyter-widgets/base",
          "model_name": "LayoutModel",
          "model_module_version": "1.2.0",
          "state": {
            "_model_module": "@jupyter-widgets/base",
            "_model_module_version": "1.2.0",
            "_model_name": "LayoutModel",
            "_view_count": null,
            "_view_module": "@jupyter-widgets/base",
            "_view_module_version": "1.2.0",
            "_view_name": "LayoutView",
            "align_content": null,
            "align_items": null,
            "align_self": null,
            "border": null,
            "bottom": null,
            "display": null,
            "flex": null,
            "flex_flow": null,
            "grid_area": null,
            "grid_auto_columns": null,
            "grid_auto_flow": null,
            "grid_auto_rows": null,
            "grid_column": null,
            "grid_gap": null,
            "grid_row": null,
            "grid_template_areas": null,
            "grid_template_columns": null,
            "grid_template_rows": null,
            "height": null,
            "justify_content": null,
            "justify_items": null,
            "left": null,
            "margin": null,
            "max_height": null,
            "max_width": null,
            "min_height": null,
            "min_width": null,
            "object_fit": null,
            "object_position": null,
            "order": null,
            "overflow": null,
            "overflow_x": null,
            "overflow_y": null,
            "padding": null,
            "right": null,
            "top": null,
            "visibility": null,
            "width": null
          }
        },
        "0c42640936ce4bb988d6d077cadc2fbb": {
          "model_module": "@jupyter-widgets/controls",
          "model_name": "DescriptionStyleModel",
          "model_module_version": "1.5.0",
          "state": {
            "_model_module": "@jupyter-widgets/controls",
            "_model_module_version": "1.5.0",
            "_model_name": "DescriptionStyleModel",
            "_view_count": null,
            "_view_module": "@jupyter-widgets/base",
            "_view_module_version": "1.2.0",
            "_view_name": "StyleView",
            "description_width": ""
          }
        },
        "b754a411625c4e2381340c4735b18b0c": {
          "model_module": "@jupyter-widgets/controls",
          "model_name": "HBoxModel",
          "model_module_version": "1.5.0",
          "state": {
            "_dom_classes": [],
            "_model_module": "@jupyter-widgets/controls",
            "_model_module_version": "1.5.0",
            "_model_name": "HBoxModel",
            "_view_count": null,
            "_view_module": "@jupyter-widgets/controls",
            "_view_module_version": "1.5.0",
            "_view_name": "HBoxView",
            "box_style": "",
            "children": [
              "IPY_MODEL_eeeef278e3504b5fb406f8df19458860",
              "IPY_MODEL_810221b173d045048461bf7b8209dd2d",
              "IPY_MODEL_cbdc0adb302742d0a659677795082675"
            ],
            "layout": "IPY_MODEL_7952093c2aed444398ad16ba0fa40ccb"
          }
        },
        "eeeef278e3504b5fb406f8df19458860": {
          "model_module": "@jupyter-widgets/controls",
          "model_name": "HTMLModel",
          "model_module_version": "1.5.0",
          "state": {
            "_dom_classes": [],
            "_model_module": "@jupyter-widgets/controls",
            "_model_module_version": "1.5.0",
            "_model_name": "HTMLModel",
            "_view_count": null,
            "_view_module": "@jupyter-widgets/controls",
            "_view_module_version": "1.5.0",
            "_view_name": "HTMLView",
            "description": "",
            "description_tooltip": null,
            "layout": "IPY_MODEL_aa482c7cff6641db8caa31ea323b3179",
            "placeholder": "​",
            "style": "IPY_MODEL_42857aa530a947cab00947890fb1e12a",
            "value": "Preprocessing: 100%"
          }
        },
        "810221b173d045048461bf7b8209dd2d": {
          "model_module": "@jupyter-widgets/controls",
          "model_name": "FloatProgressModel",
          "model_module_version": "1.5.0",
          "state": {
            "_dom_classes": [],
            "_model_module": "@jupyter-widgets/controls",
            "_model_module_version": "1.5.0",
            "_model_name": "FloatProgressModel",
            "_view_count": null,
            "_view_module": "@jupyter-widgets/controls",
            "_view_module_version": "1.5.0",
            "_view_name": "ProgressView",
            "bar_style": "success",
            "description": "",
            "description_tooltip": null,
            "layout": "IPY_MODEL_9a5857ad1faf4b28b3cfd2979d8454bd",
            "max": 1,
            "min": 0,
            "orientation": "horizontal",
            "style": "IPY_MODEL_1dd804098f4a4590aa30dad9963f5ae5",
            "value": 1
          }
        },
        "cbdc0adb302742d0a659677795082675": {
          "model_module": "@jupyter-widgets/controls",
          "model_name": "HTMLModel",
          "model_module_version": "1.5.0",
          "state": {
            "_dom_classes": [],
            "_model_module": "@jupyter-widgets/controls",
            "_model_module_version": "1.5.0",
            "_model_name": "HTMLModel",
            "_view_count": null,
            "_view_module": "@jupyter-widgets/controls",
            "_view_module_version": "1.5.0",
            "_view_name": "HTMLView",
            "description": "",
            "description_tooltip": null,
            "layout": "IPY_MODEL_1ba0cedddcac439a9576b043751b079f",
            "placeholder": "​",
            "style": "IPY_MODEL_3ad730a3032c441388ffd94c0b54a3b4",
            "value": " 1/1 [00:00&lt;00:00, 10.87docs/s]"
          }
        },
        "7952093c2aed444398ad16ba0fa40ccb": {
          "model_module": "@jupyter-widgets/base",
          "model_name": "LayoutModel",
          "model_module_version": "1.2.0",
          "state": {
            "_model_module": "@jupyter-widgets/base",
            "_model_module_version": "1.2.0",
            "_model_name": "LayoutModel",
            "_view_count": null,
            "_view_module": "@jupyter-widgets/base",
            "_view_module_version": "1.2.0",
            "_view_name": "LayoutView",
            "align_content": null,
            "align_items": null,
            "align_self": null,
            "border": null,
            "bottom": null,
            "display": null,
            "flex": null,
            "flex_flow": null,
            "grid_area": null,
            "grid_auto_columns": null,
            "grid_auto_flow": null,
            "grid_auto_rows": null,
            "grid_column": null,
            "grid_gap": null,
            "grid_row": null,
            "grid_template_areas": null,
            "grid_template_columns": null,
            "grid_template_rows": null,
            "height": null,
            "justify_content": null,
            "justify_items": null,
            "left": null,
            "margin": null,
            "max_height": null,
            "max_width": null,
            "min_height": null,
            "min_width": null,
            "object_fit": null,
            "object_position": null,
            "order": null,
            "overflow": null,
            "overflow_x": null,
            "overflow_y": null,
            "padding": null,
            "right": null,
            "top": null,
            "visibility": null,
            "width": null
          }
        },
        "aa482c7cff6641db8caa31ea323b3179": {
          "model_module": "@jupyter-widgets/base",
          "model_name": "LayoutModel",
          "model_module_version": "1.2.0",
          "state": {
            "_model_module": "@jupyter-widgets/base",
            "_model_module_version": "1.2.0",
            "_model_name": "LayoutModel",
            "_view_count": null,
            "_view_module": "@jupyter-widgets/base",
            "_view_module_version": "1.2.0",
            "_view_name": "LayoutView",
            "align_content": null,
            "align_items": null,
            "align_self": null,
            "border": null,
            "bottom": null,
            "display": null,
            "flex": null,
            "flex_flow": null,
            "grid_area": null,
            "grid_auto_columns": null,
            "grid_auto_flow": null,
            "grid_auto_rows": null,
            "grid_column": null,
            "grid_gap": null,
            "grid_row": null,
            "grid_template_areas": null,
            "grid_template_columns": null,
            "grid_template_rows": null,
            "height": null,
            "justify_content": null,
            "justify_items": null,
            "left": null,
            "margin": null,
            "max_height": null,
            "max_width": null,
            "min_height": null,
            "min_width": null,
            "object_fit": null,
            "object_position": null,
            "order": null,
            "overflow": null,
            "overflow_x": null,
            "overflow_y": null,
            "padding": null,
            "right": null,
            "top": null,
            "visibility": null,
            "width": null
          }
        },
        "42857aa530a947cab00947890fb1e12a": {
          "model_module": "@jupyter-widgets/controls",
          "model_name": "DescriptionStyleModel",
          "model_module_version": "1.5.0",
          "state": {
            "_model_module": "@jupyter-widgets/controls",
            "_model_module_version": "1.5.0",
            "_model_name": "DescriptionStyleModel",
            "_view_count": null,
            "_view_module": "@jupyter-widgets/base",
            "_view_module_version": "1.2.0",
            "_view_name": "StyleView",
            "description_width": ""
          }
        },
        "9a5857ad1faf4b28b3cfd2979d8454bd": {
          "model_module": "@jupyter-widgets/base",
          "model_name": "LayoutModel",
          "model_module_version": "1.2.0",
          "state": {
            "_model_module": "@jupyter-widgets/base",
            "_model_module_version": "1.2.0",
            "_model_name": "LayoutModel",
            "_view_count": null,
            "_view_module": "@jupyter-widgets/base",
            "_view_module_version": "1.2.0",
            "_view_name": "LayoutView",
            "align_content": null,
            "align_items": null,
            "align_self": null,
            "border": null,
            "bottom": null,
            "display": null,
            "flex": null,
            "flex_flow": null,
            "grid_area": null,
            "grid_auto_columns": null,
            "grid_auto_flow": null,
            "grid_auto_rows": null,
            "grid_column": null,
            "grid_gap": null,
            "grid_row": null,
            "grid_template_areas": null,
            "grid_template_columns": null,
            "grid_template_rows": null,
            "height": null,
            "justify_content": null,
            "justify_items": null,
            "left": null,
            "margin": null,
            "max_height": null,
            "max_width": null,
            "min_height": null,
            "min_width": null,
            "object_fit": null,
            "object_position": null,
            "order": null,
            "overflow": null,
            "overflow_x": null,
            "overflow_y": null,
            "padding": null,
            "right": null,
            "top": null,
            "visibility": null,
            "width": null
          }
        },
        "1dd804098f4a4590aa30dad9963f5ae5": {
          "model_module": "@jupyter-widgets/controls",
          "model_name": "ProgressStyleModel",
          "model_module_version": "1.5.0",
          "state": {
            "_model_module": "@jupyter-widgets/controls",
            "_model_module_version": "1.5.0",
            "_model_name": "ProgressStyleModel",
            "_view_count": null,
            "_view_module": "@jupyter-widgets/base",
            "_view_module_version": "1.2.0",
            "_view_name": "StyleView",
            "bar_color": null,
            "description_width": ""
          }
        },
        "1ba0cedddcac439a9576b043751b079f": {
          "model_module": "@jupyter-widgets/base",
          "model_name": "LayoutModel",
          "model_module_version": "1.2.0",
          "state": {
            "_model_module": "@jupyter-widgets/base",
            "_model_module_version": "1.2.0",
            "_model_name": "LayoutModel",
            "_view_count": null,
            "_view_module": "@jupyter-widgets/base",
            "_view_module_version": "1.2.0",
            "_view_name": "LayoutView",
            "align_content": null,
            "align_items": null,
            "align_self": null,
            "border": null,
            "bottom": null,
            "display": null,
            "flex": null,
            "flex_flow": null,
            "grid_area": null,
            "grid_auto_columns": null,
            "grid_auto_flow": null,
            "grid_auto_rows": null,
            "grid_column": null,
            "grid_gap": null,
            "grid_row": null,
            "grid_template_areas": null,
            "grid_template_columns": null,
            "grid_template_rows": null,
            "height": null,
            "justify_content": null,
            "justify_items": null,
            "left": null,
            "margin": null,
            "max_height": null,
            "max_width": null,
            "min_height": null,
            "min_width": null,
            "object_fit": null,
            "object_position": null,
            "order": null,
            "overflow": null,
            "overflow_x": null,
            "overflow_y": null,
            "padding": null,
            "right": null,
            "top": null,
            "visibility": null,
            "width": null
          }
        },
        "3ad730a3032c441388ffd94c0b54a3b4": {
          "model_module": "@jupyter-widgets/controls",
          "model_name": "DescriptionStyleModel",
          "model_module_version": "1.5.0",
          "state": {
            "_model_module": "@jupyter-widgets/controls",
            "_model_module_version": "1.5.0",
            "_model_name": "DescriptionStyleModel",
            "_view_count": null,
            "_view_module": "@jupyter-widgets/base",
            "_view_module_version": "1.2.0",
            "_view_name": "StyleView",
            "description_width": ""
          }
        },
        "fc53a9c3341e41d59582e038adb849ca": {
          "model_module": "@jupyter-widgets/controls",
          "model_name": "HBoxModel",
          "model_module_version": "1.5.0",
          "state": {
            "_dom_classes": [],
            "_model_module": "@jupyter-widgets/controls",
            "_model_module_version": "1.5.0",
            "_model_name": "HBoxModel",
            "_view_count": null,
            "_view_module": "@jupyter-widgets/controls",
            "_view_module_version": "1.5.0",
            "_view_name": "HBoxView",
            "box_style": "",
            "children": [
              "IPY_MODEL_7eecdaf569134406b9827fd3948dfba1",
              "IPY_MODEL_d6c64f1c50e44fbd8eeffa67cf7a7349",
              "IPY_MODEL_103b1851833f49b29c6b47c2ae53682b"
            ],
            "layout": "IPY_MODEL_97c4b411b46b46668afbac993f0d6a75"
          }
        },
        "7eecdaf569134406b9827fd3948dfba1": {
          "model_module": "@jupyter-widgets/controls",
          "model_name": "HTMLModel",
          "model_module_version": "1.5.0",
          "state": {
            "_dom_classes": [],
            "_model_module": "@jupyter-widgets/controls",
            "_model_module_version": "1.5.0",
            "_model_name": "HTMLModel",
            "_view_count": null,
            "_view_module": "@jupyter-widgets/controls",
            "_view_module_version": "1.5.0",
            "_view_name": "HTMLView",
            "description": "",
            "description_tooltip": null,
            "layout": "IPY_MODEL_f48433bad92a4689b1a9c511ed44889f",
            "placeholder": "​",
            "style": "IPY_MODEL_2c1981b207c043f1b255f23f6e35b6dd",
            "value": "Downloading (…)okenizer_config.json: 100%"
          }
        },
        "d6c64f1c50e44fbd8eeffa67cf7a7349": {
          "model_module": "@jupyter-widgets/controls",
          "model_name": "FloatProgressModel",
          "model_module_version": "1.5.0",
          "state": {
            "_dom_classes": [],
            "_model_module": "@jupyter-widgets/controls",
            "_model_module_version": "1.5.0",
            "_model_name": "FloatProgressModel",
            "_view_count": null,
            "_view_module": "@jupyter-widgets/controls",
            "_view_module_version": "1.5.0",
            "_view_name": "ProgressView",
            "bar_style": "success",
            "description": "",
            "description_tooltip": null,
            "layout": "IPY_MODEL_5b1089f905674a54a0d2d4904327de64",
            "max": 2323,
            "min": 0,
            "orientation": "horizontal",
            "style": "IPY_MODEL_ab2a857496ab4805b3e8c038ee095b61",
            "value": 2323
          }
        },
        "103b1851833f49b29c6b47c2ae53682b": {
          "model_module": "@jupyter-widgets/controls",
          "model_name": "HTMLModel",
          "model_module_version": "1.5.0",
          "state": {
            "_dom_classes": [],
            "_model_module": "@jupyter-widgets/controls",
            "_model_module_version": "1.5.0",
            "_model_name": "HTMLModel",
            "_view_count": null,
            "_view_module": "@jupyter-widgets/controls",
            "_view_module_version": "1.5.0",
            "_view_name": "HTMLView",
            "description": "",
            "description_tooltip": null,
            "layout": "IPY_MODEL_f93aff788d36458a887a803876cd3381",
            "placeholder": "​",
            "style": "IPY_MODEL_ed23a05b54d14f0eb8a0fbf398a7a2bf",
            "value": " 2.32k/2.32k [00:00&lt;00:00, 44.3kB/s]"
          }
        },
        "97c4b411b46b46668afbac993f0d6a75": {
          "model_module": "@jupyter-widgets/base",
          "model_name": "LayoutModel",
          "model_module_version": "1.2.0",
          "state": {
            "_model_module": "@jupyter-widgets/base",
            "_model_module_version": "1.2.0",
            "_model_name": "LayoutModel",
            "_view_count": null,
            "_view_module": "@jupyter-widgets/base",
            "_view_module_version": "1.2.0",
            "_view_name": "LayoutView",
            "align_content": null,
            "align_items": null,
            "align_self": null,
            "border": null,
            "bottom": null,
            "display": null,
            "flex": null,
            "flex_flow": null,
            "grid_area": null,
            "grid_auto_columns": null,
            "grid_auto_flow": null,
            "grid_auto_rows": null,
            "grid_column": null,
            "grid_gap": null,
            "grid_row": null,
            "grid_template_areas": null,
            "grid_template_columns": null,
            "grid_template_rows": null,
            "height": null,
            "justify_content": null,
            "justify_items": null,
            "left": null,
            "margin": null,
            "max_height": null,
            "max_width": null,
            "min_height": null,
            "min_width": null,
            "object_fit": null,
            "object_position": null,
            "order": null,
            "overflow": null,
            "overflow_x": null,
            "overflow_y": null,
            "padding": null,
            "right": null,
            "top": null,
            "visibility": null,
            "width": null
          }
        },
        "f48433bad92a4689b1a9c511ed44889f": {
          "model_module": "@jupyter-widgets/base",
          "model_name": "LayoutModel",
          "model_module_version": "1.2.0",
          "state": {
            "_model_module": "@jupyter-widgets/base",
            "_model_module_version": "1.2.0",
            "_model_name": "LayoutModel",
            "_view_count": null,
            "_view_module": "@jupyter-widgets/base",
            "_view_module_version": "1.2.0",
            "_view_name": "LayoutView",
            "align_content": null,
            "align_items": null,
            "align_self": null,
            "border": null,
            "bottom": null,
            "display": null,
            "flex": null,
            "flex_flow": null,
            "grid_area": null,
            "grid_auto_columns": null,
            "grid_auto_flow": null,
            "grid_auto_rows": null,
            "grid_column": null,
            "grid_gap": null,
            "grid_row": null,
            "grid_template_areas": null,
            "grid_template_columns": null,
            "grid_template_rows": null,
            "height": null,
            "justify_content": null,
            "justify_items": null,
            "left": null,
            "margin": null,
            "max_height": null,
            "max_width": null,
            "min_height": null,
            "min_width": null,
            "object_fit": null,
            "object_position": null,
            "order": null,
            "overflow": null,
            "overflow_x": null,
            "overflow_y": null,
            "padding": null,
            "right": null,
            "top": null,
            "visibility": null,
            "width": null
          }
        },
        "2c1981b207c043f1b255f23f6e35b6dd": {
          "model_module": "@jupyter-widgets/controls",
          "model_name": "DescriptionStyleModel",
          "model_module_version": "1.5.0",
          "state": {
            "_model_module": "@jupyter-widgets/controls",
            "_model_module_version": "1.5.0",
            "_model_name": "DescriptionStyleModel",
            "_view_count": null,
            "_view_module": "@jupyter-widgets/base",
            "_view_module_version": "1.2.0",
            "_view_name": "StyleView",
            "description_width": ""
          }
        },
        "5b1089f905674a54a0d2d4904327de64": {
          "model_module": "@jupyter-widgets/base",
          "model_name": "LayoutModel",
          "model_module_version": "1.2.0",
          "state": {
            "_model_module": "@jupyter-widgets/base",
            "_model_module_version": "1.2.0",
            "_model_name": "LayoutModel",
            "_view_count": null,
            "_view_module": "@jupyter-widgets/base",
            "_view_module_version": "1.2.0",
            "_view_name": "LayoutView",
            "align_content": null,
            "align_items": null,
            "align_self": null,
            "border": null,
            "bottom": null,
            "display": null,
            "flex": null,
            "flex_flow": null,
            "grid_area": null,
            "grid_auto_columns": null,
            "grid_auto_flow": null,
            "grid_auto_rows": null,
            "grid_column": null,
            "grid_gap": null,
            "grid_row": null,
            "grid_template_areas": null,
            "grid_template_columns": null,
            "grid_template_rows": null,
            "height": null,
            "justify_content": null,
            "justify_items": null,
            "left": null,
            "margin": null,
            "max_height": null,
            "max_width": null,
            "min_height": null,
            "min_width": null,
            "object_fit": null,
            "object_position": null,
            "order": null,
            "overflow": null,
            "overflow_x": null,
            "overflow_y": null,
            "padding": null,
            "right": null,
            "top": null,
            "visibility": null,
            "width": null
          }
        },
        "ab2a857496ab4805b3e8c038ee095b61": {
          "model_module": "@jupyter-widgets/controls",
          "model_name": "ProgressStyleModel",
          "model_module_version": "1.5.0",
          "state": {
            "_model_module": "@jupyter-widgets/controls",
            "_model_module_version": "1.5.0",
            "_model_name": "ProgressStyleModel",
            "_view_count": null,
            "_view_module": "@jupyter-widgets/base",
            "_view_module_version": "1.2.0",
            "_view_name": "StyleView",
            "bar_color": null,
            "description_width": ""
          }
        },
        "f93aff788d36458a887a803876cd3381": {
          "model_module": "@jupyter-widgets/base",
          "model_name": "LayoutModel",
          "model_module_version": "1.2.0",
          "state": {
            "_model_module": "@jupyter-widgets/base",
            "_model_module_version": "1.2.0",
            "_model_name": "LayoutModel",
            "_view_count": null,
            "_view_module": "@jupyter-widgets/base",
            "_view_module_version": "1.2.0",
            "_view_name": "LayoutView",
            "align_content": null,
            "align_items": null,
            "align_self": null,
            "border": null,
            "bottom": null,
            "display": null,
            "flex": null,
            "flex_flow": null,
            "grid_area": null,
            "grid_auto_columns": null,
            "grid_auto_flow": null,
            "grid_auto_rows": null,
            "grid_column": null,
            "grid_gap": null,
            "grid_row": null,
            "grid_template_areas": null,
            "grid_template_columns": null,
            "grid_template_rows": null,
            "height": null,
            "justify_content": null,
            "justify_items": null,
            "left": null,
            "margin": null,
            "max_height": null,
            "max_width": null,
            "min_height": null,
            "min_width": null,
            "object_fit": null,
            "object_position": null,
            "order": null,
            "overflow": null,
            "overflow_x": null,
            "overflow_y": null,
            "padding": null,
            "right": null,
            "top": null,
            "visibility": null,
            "width": null
          }
        },
        "ed23a05b54d14f0eb8a0fbf398a7a2bf": {
          "model_module": "@jupyter-widgets/controls",
          "model_name": "DescriptionStyleModel",
          "model_module_version": "1.5.0",
          "state": {
            "_model_module": "@jupyter-widgets/controls",
            "_model_module_version": "1.5.0",
            "_model_name": "DescriptionStyleModel",
            "_view_count": null,
            "_view_module": "@jupyter-widgets/base",
            "_view_module_version": "1.2.0",
            "_view_name": "StyleView",
            "description_width": ""
          }
        },
        "dcf23c7d06974be6881dcd78850efebb": {
          "model_module": "@jupyter-widgets/controls",
          "model_name": "HBoxModel",
          "model_module_version": "1.5.0",
          "state": {
            "_dom_classes": [],
            "_model_module": "@jupyter-widgets/controls",
            "_model_module_version": "1.5.0",
            "_model_name": "HBoxModel",
            "_view_count": null,
            "_view_module": "@jupyter-widgets/controls",
            "_view_module_version": "1.5.0",
            "_view_name": "HBoxView",
            "box_style": "",
            "children": [
              "IPY_MODEL_3604e0cf62c24bdda75319d9e52bc591",
              "IPY_MODEL_096ee6ee69aa4ce88a5563e181e5831b",
              "IPY_MODEL_a55608930e2d4f8d8300f126d422665c"
            ],
            "layout": "IPY_MODEL_cda7bbdb920e45b3a4c06251898d503a"
          }
        },
        "3604e0cf62c24bdda75319d9e52bc591": {
          "model_module": "@jupyter-widgets/controls",
          "model_name": "HTMLModel",
          "model_module_version": "1.5.0",
          "state": {
            "_dom_classes": [],
            "_model_module": "@jupyter-widgets/controls",
            "_model_module_version": "1.5.0",
            "_model_name": "HTMLModel",
            "_view_count": null,
            "_view_module": "@jupyter-widgets/controls",
            "_view_module_version": "1.5.0",
            "_view_name": "HTMLView",
            "description": "",
            "description_tooltip": null,
            "layout": "IPY_MODEL_4ac02eaeb6b04fa4a2646dc5f2e41db9",
            "placeholder": "​",
            "style": "IPY_MODEL_e62f194032ae440a8c1720bb984280e3",
            "value": "Downloading (…)/main/tokenizer.json: 100%"
          }
        },
        "096ee6ee69aa4ce88a5563e181e5831b": {
          "model_module": "@jupyter-widgets/controls",
          "model_name": "FloatProgressModel",
          "model_module_version": "1.5.0",
          "state": {
            "_dom_classes": [],
            "_model_module": "@jupyter-widgets/controls",
            "_model_module_version": "1.5.0",
            "_model_name": "FloatProgressModel",
            "_view_count": null,
            "_view_module": "@jupyter-widgets/controls",
            "_view_module_version": "1.5.0",
            "_view_name": "ProgressView",
            "bar_style": "success",
            "description": "",
            "description_tooltip": null,
            "layout": "IPY_MODEL_44c45a95359144f39d00a18713ab6c9a",
            "max": 2422193,
            "min": 0,
            "orientation": "horizontal",
            "style": "IPY_MODEL_20ad06b2478746369f31e683e6c828c8",
            "value": 2422193
          }
        },
        "a55608930e2d4f8d8300f126d422665c": {
          "model_module": "@jupyter-widgets/controls",
          "model_name": "HTMLModel",
          "model_module_version": "1.5.0",
          "state": {
            "_dom_classes": [],
            "_model_module": "@jupyter-widgets/controls",
            "_model_module_version": "1.5.0",
            "_model_name": "HTMLModel",
            "_view_count": null,
            "_view_module": "@jupyter-widgets/controls",
            "_view_module_version": "1.5.0",
            "_view_name": "HTMLView",
            "description": "",
            "description_tooltip": null,
            "layout": "IPY_MODEL_11a229b08e1e45349feb35058d1ed575",
            "placeholder": "​",
            "style": "IPY_MODEL_a44bf957c4ae400ab53437079b5a81f5",
            "value": " 2.42M/2.42M [00:00&lt;00:00, 15.7MB/s]"
          }
        },
        "cda7bbdb920e45b3a4c06251898d503a": {
          "model_module": "@jupyter-widgets/base",
          "model_name": "LayoutModel",
          "model_module_version": "1.2.0",
          "state": {
            "_model_module": "@jupyter-widgets/base",
            "_model_module_version": "1.2.0",
            "_model_name": "LayoutModel",
            "_view_count": null,
            "_view_module": "@jupyter-widgets/base",
            "_view_module_version": "1.2.0",
            "_view_name": "LayoutView",
            "align_content": null,
            "align_items": null,
            "align_self": null,
            "border": null,
            "bottom": null,
            "display": null,
            "flex": null,
            "flex_flow": null,
            "grid_area": null,
            "grid_auto_columns": null,
            "grid_auto_flow": null,
            "grid_auto_rows": null,
            "grid_column": null,
            "grid_gap": null,
            "grid_row": null,
            "grid_template_areas": null,
            "grid_template_columns": null,
            "grid_template_rows": null,
            "height": null,
            "justify_content": null,
            "justify_items": null,
            "left": null,
            "margin": null,
            "max_height": null,
            "max_width": null,
            "min_height": null,
            "min_width": null,
            "object_fit": null,
            "object_position": null,
            "order": null,
            "overflow": null,
            "overflow_x": null,
            "overflow_y": null,
            "padding": null,
            "right": null,
            "top": null,
            "visibility": null,
            "width": null
          }
        },
        "4ac02eaeb6b04fa4a2646dc5f2e41db9": {
          "model_module": "@jupyter-widgets/base",
          "model_name": "LayoutModel",
          "model_module_version": "1.2.0",
          "state": {
            "_model_module": "@jupyter-widgets/base",
            "_model_module_version": "1.2.0",
            "_model_name": "LayoutModel",
            "_view_count": null,
            "_view_module": "@jupyter-widgets/base",
            "_view_module_version": "1.2.0",
            "_view_name": "LayoutView",
            "align_content": null,
            "align_items": null,
            "align_self": null,
            "border": null,
            "bottom": null,
            "display": null,
            "flex": null,
            "flex_flow": null,
            "grid_area": null,
            "grid_auto_columns": null,
            "grid_auto_flow": null,
            "grid_auto_rows": null,
            "grid_column": null,
            "grid_gap": null,
            "grid_row": null,
            "grid_template_areas": null,
            "grid_template_columns": null,
            "grid_template_rows": null,
            "height": null,
            "justify_content": null,
            "justify_items": null,
            "left": null,
            "margin": null,
            "max_height": null,
            "max_width": null,
            "min_height": null,
            "min_width": null,
            "object_fit": null,
            "object_position": null,
            "order": null,
            "overflow": null,
            "overflow_x": null,
            "overflow_y": null,
            "padding": null,
            "right": null,
            "top": null,
            "visibility": null,
            "width": null
          }
        },
        "e62f194032ae440a8c1720bb984280e3": {
          "model_module": "@jupyter-widgets/controls",
          "model_name": "DescriptionStyleModel",
          "model_module_version": "1.5.0",
          "state": {
            "_model_module": "@jupyter-widgets/controls",
            "_model_module_version": "1.5.0",
            "_model_name": "DescriptionStyleModel",
            "_view_count": null,
            "_view_module": "@jupyter-widgets/base",
            "_view_module_version": "1.2.0",
            "_view_name": "StyleView",
            "description_width": ""
          }
        },
        "44c45a95359144f39d00a18713ab6c9a": {
          "model_module": "@jupyter-widgets/base",
          "model_name": "LayoutModel",
          "model_module_version": "1.2.0",
          "state": {
            "_model_module": "@jupyter-widgets/base",
            "_model_module_version": "1.2.0",
            "_model_name": "LayoutModel",
            "_view_count": null,
            "_view_module": "@jupyter-widgets/base",
            "_view_module_version": "1.2.0",
            "_view_name": "LayoutView",
            "align_content": null,
            "align_items": null,
            "align_self": null,
            "border": null,
            "bottom": null,
            "display": null,
            "flex": null,
            "flex_flow": null,
            "grid_area": null,
            "grid_auto_columns": null,
            "grid_auto_flow": null,
            "grid_auto_rows": null,
            "grid_column": null,
            "grid_gap": null,
            "grid_row": null,
            "grid_template_areas": null,
            "grid_template_columns": null,
            "grid_template_rows": null,
            "height": null,
            "justify_content": null,
            "justify_items": null,
            "left": null,
            "margin": null,
            "max_height": null,
            "max_width": null,
            "min_height": null,
            "min_width": null,
            "object_fit": null,
            "object_position": null,
            "order": null,
            "overflow": null,
            "overflow_x": null,
            "overflow_y": null,
            "padding": null,
            "right": null,
            "top": null,
            "visibility": null,
            "width": null
          }
        },
        "20ad06b2478746369f31e683e6c828c8": {
          "model_module": "@jupyter-widgets/controls",
          "model_name": "ProgressStyleModel",
          "model_module_version": "1.5.0",
          "state": {
            "_model_module": "@jupyter-widgets/controls",
            "_model_module_version": "1.5.0",
            "_model_name": "ProgressStyleModel",
            "_view_count": null,
            "_view_module": "@jupyter-widgets/base",
            "_view_module_version": "1.2.0",
            "_view_name": "StyleView",
            "bar_color": null,
            "description_width": ""
          }
        },
        "11a229b08e1e45349feb35058d1ed575": {
          "model_module": "@jupyter-widgets/base",
          "model_name": "LayoutModel",
          "model_module_version": "1.2.0",
          "state": {
            "_model_module": "@jupyter-widgets/base",
            "_model_module_version": "1.2.0",
            "_model_name": "LayoutModel",
            "_view_count": null,
            "_view_module": "@jupyter-widgets/base",
            "_view_module_version": "1.2.0",
            "_view_name": "LayoutView",
            "align_content": null,
            "align_items": null,
            "align_self": null,
            "border": null,
            "bottom": null,
            "display": null,
            "flex": null,
            "flex_flow": null,
            "grid_area": null,
            "grid_auto_columns": null,
            "grid_auto_flow": null,
            "grid_auto_rows": null,
            "grid_column": null,
            "grid_gap": null,
            "grid_row": null,
            "grid_template_areas": null,
            "grid_template_columns": null,
            "grid_template_rows": null,
            "height": null,
            "justify_content": null,
            "justify_items": null,
            "left": null,
            "margin": null,
            "max_height": null,
            "max_width": null,
            "min_height": null,
            "min_width": null,
            "object_fit": null,
            "object_position": null,
            "order": null,
            "overflow": null,
            "overflow_x": null,
            "overflow_y": null,
            "padding": null,
            "right": null,
            "top": null,
            "visibility": null,
            "width": null
          }
        },
        "a44bf957c4ae400ab53437079b5a81f5": {
          "model_module": "@jupyter-widgets/controls",
          "model_name": "DescriptionStyleModel",
          "model_module_version": "1.5.0",
          "state": {
            "_model_module": "@jupyter-widgets/controls",
            "_model_module_version": "1.5.0",
            "_model_name": "DescriptionStyleModel",
            "_view_count": null,
            "_view_module": "@jupyter-widgets/base",
            "_view_module_version": "1.2.0",
            "_view_name": "StyleView",
            "description_width": ""
          }
        },
        "fc0325be12ce4324956abbbc1761c2d4": {
          "model_module": "@jupyter-widgets/controls",
          "model_name": "HBoxModel",
          "model_module_version": "1.5.0",
          "state": {
            "_dom_classes": [],
            "_model_module": "@jupyter-widgets/controls",
            "_model_module_version": "1.5.0",
            "_model_name": "HBoxModel",
            "_view_count": null,
            "_view_module": "@jupyter-widgets/controls",
            "_view_module_version": "1.5.0",
            "_view_name": "HBoxView",
            "box_style": "",
            "children": [
              "IPY_MODEL_f7b2eb0b06b34d7294ee44403e381221",
              "IPY_MODEL_a53d3e8f314641259218ab4cb9313cd9",
              "IPY_MODEL_1c6eaffd192845d8b44979dea64b72dd"
            ],
            "layout": "IPY_MODEL_3d44e3e2da5746418052dae5aaf0205c"
          }
        },
        "f7b2eb0b06b34d7294ee44403e381221": {
          "model_module": "@jupyter-widgets/controls",
          "model_name": "HTMLModel",
          "model_module_version": "1.5.0",
          "state": {
            "_dom_classes": [],
            "_model_module": "@jupyter-widgets/controls",
            "_model_module_version": "1.5.0",
            "_model_name": "HTMLModel",
            "_view_count": null,
            "_view_module": "@jupyter-widgets/controls",
            "_view_module_version": "1.5.0",
            "_view_name": "HTMLView",
            "description": "",
            "description_tooltip": null,
            "layout": "IPY_MODEL_7196e7c27fa245d78c2f557c398b21cd",
            "placeholder": "​",
            "style": "IPY_MODEL_797da3bb3b4c485aa3d97d84fa7ed930",
            "value": "Downloading (…)cial_tokens_map.json: 100%"
          }
        },
        "a53d3e8f314641259218ab4cb9313cd9": {
          "model_module": "@jupyter-widgets/controls",
          "model_name": "FloatProgressModel",
          "model_module_version": "1.5.0",
          "state": {
            "_dom_classes": [],
            "_model_module": "@jupyter-widgets/controls",
            "_model_module_version": "1.5.0",
            "_model_name": "FloatProgressModel",
            "_view_count": null,
            "_view_module": "@jupyter-widgets/controls",
            "_view_module_version": "1.5.0",
            "_view_name": "ProgressView",
            "bar_style": "success",
            "description": "",
            "description_tooltip": null,
            "layout": "IPY_MODEL_ec39ca2d4c9b487cb60b90ef47572d86",
            "max": 2201,
            "min": 0,
            "orientation": "horizontal",
            "style": "IPY_MODEL_1901a24aed804eedae49d43e24b22dd5",
            "value": 2201
          }
        },
        "1c6eaffd192845d8b44979dea64b72dd": {
          "model_module": "@jupyter-widgets/controls",
          "model_name": "HTMLModel",
          "model_module_version": "1.5.0",
          "state": {
            "_dom_classes": [],
            "_model_module": "@jupyter-widgets/controls",
            "_model_module_version": "1.5.0",
            "_model_name": "HTMLModel",
            "_view_count": null,
            "_view_module": "@jupyter-widgets/controls",
            "_view_module_version": "1.5.0",
            "_view_name": "HTMLView",
            "description": "",
            "description_tooltip": null,
            "layout": "IPY_MODEL_cbfb724ec30e4d53a39a79c17e52a4a1",
            "placeholder": "​",
            "style": "IPY_MODEL_55bbf9933ebd49c5be8854f7b8bc2f68",
            "value": " 2.20k/2.20k [00:00&lt;00:00, 48.2kB/s]"
          }
        },
        "3d44e3e2da5746418052dae5aaf0205c": {
          "model_module": "@jupyter-widgets/base",
          "model_name": "LayoutModel",
          "model_module_version": "1.2.0",
          "state": {
            "_model_module": "@jupyter-widgets/base",
            "_model_module_version": "1.2.0",
            "_model_name": "LayoutModel",
            "_view_count": null,
            "_view_module": "@jupyter-widgets/base",
            "_view_module_version": "1.2.0",
            "_view_name": "LayoutView",
            "align_content": null,
            "align_items": null,
            "align_self": null,
            "border": null,
            "bottom": null,
            "display": null,
            "flex": null,
            "flex_flow": null,
            "grid_area": null,
            "grid_auto_columns": null,
            "grid_auto_flow": null,
            "grid_auto_rows": null,
            "grid_column": null,
            "grid_gap": null,
            "grid_row": null,
            "grid_template_areas": null,
            "grid_template_columns": null,
            "grid_template_rows": null,
            "height": null,
            "justify_content": null,
            "justify_items": null,
            "left": null,
            "margin": null,
            "max_height": null,
            "max_width": null,
            "min_height": null,
            "min_width": null,
            "object_fit": null,
            "object_position": null,
            "order": null,
            "overflow": null,
            "overflow_x": null,
            "overflow_y": null,
            "padding": null,
            "right": null,
            "top": null,
            "visibility": null,
            "width": null
          }
        },
        "7196e7c27fa245d78c2f557c398b21cd": {
          "model_module": "@jupyter-widgets/base",
          "model_name": "LayoutModel",
          "model_module_version": "1.2.0",
          "state": {
            "_model_module": "@jupyter-widgets/base",
            "_model_module_version": "1.2.0",
            "_model_name": "LayoutModel",
            "_view_count": null,
            "_view_module": "@jupyter-widgets/base",
            "_view_module_version": "1.2.0",
            "_view_name": "LayoutView",
            "align_content": null,
            "align_items": null,
            "align_self": null,
            "border": null,
            "bottom": null,
            "display": null,
            "flex": null,
            "flex_flow": null,
            "grid_area": null,
            "grid_auto_columns": null,
            "grid_auto_flow": null,
            "grid_auto_rows": null,
            "grid_column": null,
            "grid_gap": null,
            "grid_row": null,
            "grid_template_areas": null,
            "grid_template_columns": null,
            "grid_template_rows": null,
            "height": null,
            "justify_content": null,
            "justify_items": null,
            "left": null,
            "margin": null,
            "max_height": null,
            "max_width": null,
            "min_height": null,
            "min_width": null,
            "object_fit": null,
            "object_position": null,
            "order": null,
            "overflow": null,
            "overflow_x": null,
            "overflow_y": null,
            "padding": null,
            "right": null,
            "top": null,
            "visibility": null,
            "width": null
          }
        },
        "797da3bb3b4c485aa3d97d84fa7ed930": {
          "model_module": "@jupyter-widgets/controls",
          "model_name": "DescriptionStyleModel",
          "model_module_version": "1.5.0",
          "state": {
            "_model_module": "@jupyter-widgets/controls",
            "_model_module_version": "1.5.0",
            "_model_name": "DescriptionStyleModel",
            "_view_count": null,
            "_view_module": "@jupyter-widgets/base",
            "_view_module_version": "1.2.0",
            "_view_name": "StyleView",
            "description_width": ""
          }
        },
        "ec39ca2d4c9b487cb60b90ef47572d86": {
          "model_module": "@jupyter-widgets/base",
          "model_name": "LayoutModel",
          "model_module_version": "1.2.0",
          "state": {
            "_model_module": "@jupyter-widgets/base",
            "_model_module_version": "1.2.0",
            "_model_name": "LayoutModel",
            "_view_count": null,
            "_view_module": "@jupyter-widgets/base",
            "_view_module_version": "1.2.0",
            "_view_name": "LayoutView",
            "align_content": null,
            "align_items": null,
            "align_self": null,
            "border": null,
            "bottom": null,
            "display": null,
            "flex": null,
            "flex_flow": null,
            "grid_area": null,
            "grid_auto_columns": null,
            "grid_auto_flow": null,
            "grid_auto_rows": null,
            "grid_column": null,
            "grid_gap": null,
            "grid_row": null,
            "grid_template_areas": null,
            "grid_template_columns": null,
            "grid_template_rows": null,
            "height": null,
            "justify_content": null,
            "justify_items": null,
            "left": null,
            "margin": null,
            "max_height": null,
            "max_width": null,
            "min_height": null,
            "min_width": null,
            "object_fit": null,
            "object_position": null,
            "order": null,
            "overflow": null,
            "overflow_x": null,
            "overflow_y": null,
            "padding": null,
            "right": null,
            "top": null,
            "visibility": null,
            "width": null
          }
        },
        "1901a24aed804eedae49d43e24b22dd5": {
          "model_module": "@jupyter-widgets/controls",
          "model_name": "ProgressStyleModel",
          "model_module_version": "1.5.0",
          "state": {
            "_model_module": "@jupyter-widgets/controls",
            "_model_module_version": "1.5.0",
            "_model_name": "ProgressStyleModel",
            "_view_count": null,
            "_view_module": "@jupyter-widgets/base",
            "_view_module_version": "1.2.0",
            "_view_name": "StyleView",
            "bar_color": null,
            "description_width": ""
          }
        },
        "cbfb724ec30e4d53a39a79c17e52a4a1": {
          "model_module": "@jupyter-widgets/base",
          "model_name": "LayoutModel",
          "model_module_version": "1.2.0",
          "state": {
            "_model_module": "@jupyter-widgets/base",
            "_model_module_version": "1.2.0",
            "_model_name": "LayoutModel",
            "_view_count": null,
            "_view_module": "@jupyter-widgets/base",
            "_view_module_version": "1.2.0",
            "_view_name": "LayoutView",
            "align_content": null,
            "align_items": null,
            "align_self": null,
            "border": null,
            "bottom": null,
            "display": null,
            "flex": null,
            "flex_flow": null,
            "grid_area": null,
            "grid_auto_columns": null,
            "grid_auto_flow": null,
            "grid_auto_rows": null,
            "grid_column": null,
            "grid_gap": null,
            "grid_row": null,
            "grid_template_areas": null,
            "grid_template_columns": null,
            "grid_template_rows": null,
            "height": null,
            "justify_content": null,
            "justify_items": null,
            "left": null,
            "margin": null,
            "max_height": null,
            "max_width": null,
            "min_height": null,
            "min_width": null,
            "object_fit": null,
            "object_position": null,
            "order": null,
            "overflow": null,
            "overflow_x": null,
            "overflow_y": null,
            "padding": null,
            "right": null,
            "top": null,
            "visibility": null,
            "width": null
          }
        },
        "55bbf9933ebd49c5be8854f7b8bc2f68": {
          "model_module": "@jupyter-widgets/controls",
          "model_name": "DescriptionStyleModel",
          "model_module_version": "1.5.0",
          "state": {
            "_model_module": "@jupyter-widgets/controls",
            "_model_module_version": "1.5.0",
            "_model_name": "DescriptionStyleModel",
            "_view_count": null,
            "_view_module": "@jupyter-widgets/base",
            "_view_module_version": "1.2.0",
            "_view_name": "StyleView",
            "description_width": ""
          }
        },
        "89dd45b46d6a4ea2a180d3e7320c5302": {
          "model_module": "@jupyter-widgets/controls",
          "model_name": "HBoxModel",
          "model_module_version": "1.5.0",
          "state": {
            "_dom_classes": [],
            "_model_module": "@jupyter-widgets/controls",
            "_model_module_version": "1.5.0",
            "_model_name": "HBoxModel",
            "_view_count": null,
            "_view_module": "@jupyter-widgets/controls",
            "_view_module_version": "1.5.0",
            "_view_name": "HBoxView",
            "box_style": "",
            "children": [
              "IPY_MODEL_40d893cd5036403e8a80d8f59315a252",
              "IPY_MODEL_44c78b82c66e428087a0b2a7a8fcd48d",
              "IPY_MODEL_1a56510365634ae2abc5d4d27432faaa"
            ],
            "layout": "IPY_MODEL_3461345ece9a404b8e9726a7eb5f03fe"
          }
        },
        "40d893cd5036403e8a80d8f59315a252": {
          "model_module": "@jupyter-widgets/controls",
          "model_name": "HTMLModel",
          "model_module_version": "1.5.0",
          "state": {
            "_dom_classes": [],
            "_model_module": "@jupyter-widgets/controls",
            "_model_module_version": "1.5.0",
            "_model_name": "HTMLModel",
            "_view_count": null,
            "_view_module": "@jupyter-widgets/controls",
            "_view_module_version": "1.5.0",
            "_view_name": "HTMLView",
            "description": "",
            "description_tooltip": null,
            "layout": "IPY_MODEL_184f3cf71e0b48519b87bb51613aff0f",
            "placeholder": "​",
            "style": "IPY_MODEL_e78b6cfbe903431591223f8059ea7fd6",
            "value": "Downloading (…)lve/main/config.json: 100%"
          }
        },
        "44c78b82c66e428087a0b2a7a8fcd48d": {
          "model_module": "@jupyter-widgets/controls",
          "model_name": "FloatProgressModel",
          "model_module_version": "1.5.0",
          "state": {
            "_dom_classes": [],
            "_model_module": "@jupyter-widgets/controls",
            "_model_module_version": "1.5.0",
            "_model_name": "FloatProgressModel",
            "_view_count": null,
            "_view_module": "@jupyter-widgets/controls",
            "_view_module_version": "1.5.0",
            "_view_name": "ProgressView",
            "bar_style": "success",
            "description": "",
            "description_tooltip": null,
            "layout": "IPY_MODEL_382298e7922e43fdb8615490d07abcd1",
            "max": 1052,
            "min": 0,
            "orientation": "horizontal",
            "style": "IPY_MODEL_8737f04263614a1c941bde8c4c59c1cf",
            "value": 1052
          }
        },
        "1a56510365634ae2abc5d4d27432faaa": {
          "model_module": "@jupyter-widgets/controls",
          "model_name": "HTMLModel",
          "model_module_version": "1.5.0",
          "state": {
            "_dom_classes": [],
            "_model_module": "@jupyter-widgets/controls",
            "_model_module_version": "1.5.0",
            "_model_name": "HTMLModel",
            "_view_count": null,
            "_view_module": "@jupyter-widgets/controls",
            "_view_module_version": "1.5.0",
            "_view_name": "HTMLView",
            "description": "",
            "description_tooltip": null,
            "layout": "IPY_MODEL_d6007e52fb3e43f69cf5055dbf85e71e",
            "placeholder": "​",
            "style": "IPY_MODEL_20aa0d1a29df42f3988601c6efd38086",
            "value": " 1.05k/1.05k [00:00&lt;00:00, 15.1kB/s]"
          }
        },
        "3461345ece9a404b8e9726a7eb5f03fe": {
          "model_module": "@jupyter-widgets/base",
          "model_name": "LayoutModel",
          "model_module_version": "1.2.0",
          "state": {
            "_model_module": "@jupyter-widgets/base",
            "_model_module_version": "1.2.0",
            "_model_name": "LayoutModel",
            "_view_count": null,
            "_view_module": "@jupyter-widgets/base",
            "_view_module_version": "1.2.0",
            "_view_name": "LayoutView",
            "align_content": null,
            "align_items": null,
            "align_self": null,
            "border": null,
            "bottom": null,
            "display": null,
            "flex": null,
            "flex_flow": null,
            "grid_area": null,
            "grid_auto_columns": null,
            "grid_auto_flow": null,
            "grid_auto_rows": null,
            "grid_column": null,
            "grid_gap": null,
            "grid_row": null,
            "grid_template_areas": null,
            "grid_template_columns": null,
            "grid_template_rows": null,
            "height": null,
            "justify_content": null,
            "justify_items": null,
            "left": null,
            "margin": null,
            "max_height": null,
            "max_width": null,
            "min_height": null,
            "min_width": null,
            "object_fit": null,
            "object_position": null,
            "order": null,
            "overflow": null,
            "overflow_x": null,
            "overflow_y": null,
            "padding": null,
            "right": null,
            "top": null,
            "visibility": null,
            "width": null
          }
        },
        "184f3cf71e0b48519b87bb51613aff0f": {
          "model_module": "@jupyter-widgets/base",
          "model_name": "LayoutModel",
          "model_module_version": "1.2.0",
          "state": {
            "_model_module": "@jupyter-widgets/base",
            "_model_module_version": "1.2.0",
            "_model_name": "LayoutModel",
            "_view_count": null,
            "_view_module": "@jupyter-widgets/base",
            "_view_module_version": "1.2.0",
            "_view_name": "LayoutView",
            "align_content": null,
            "align_items": null,
            "align_self": null,
            "border": null,
            "bottom": null,
            "display": null,
            "flex": null,
            "flex_flow": null,
            "grid_area": null,
            "grid_auto_columns": null,
            "grid_auto_flow": null,
            "grid_auto_rows": null,
            "grid_column": null,
            "grid_gap": null,
            "grid_row": null,
            "grid_template_areas": null,
            "grid_template_columns": null,
            "grid_template_rows": null,
            "height": null,
            "justify_content": null,
            "justify_items": null,
            "left": null,
            "margin": null,
            "max_height": null,
            "max_width": null,
            "min_height": null,
            "min_width": null,
            "object_fit": null,
            "object_position": null,
            "order": null,
            "overflow": null,
            "overflow_x": null,
            "overflow_y": null,
            "padding": null,
            "right": null,
            "top": null,
            "visibility": null,
            "width": null
          }
        },
        "e78b6cfbe903431591223f8059ea7fd6": {
          "model_module": "@jupyter-widgets/controls",
          "model_name": "DescriptionStyleModel",
          "model_module_version": "1.5.0",
          "state": {
            "_model_module": "@jupyter-widgets/controls",
            "_model_module_version": "1.5.0",
            "_model_name": "DescriptionStyleModel",
            "_view_count": null,
            "_view_module": "@jupyter-widgets/base",
            "_view_module_version": "1.2.0",
            "_view_name": "StyleView",
            "description_width": ""
          }
        },
        "382298e7922e43fdb8615490d07abcd1": {
          "model_module": "@jupyter-widgets/base",
          "model_name": "LayoutModel",
          "model_module_version": "1.2.0",
          "state": {
            "_model_module": "@jupyter-widgets/base",
            "_model_module_version": "1.2.0",
            "_model_name": "LayoutModel",
            "_view_count": null,
            "_view_module": "@jupyter-widgets/base",
            "_view_module_version": "1.2.0",
            "_view_name": "LayoutView",
            "align_content": null,
            "align_items": null,
            "align_self": null,
            "border": null,
            "bottom": null,
            "display": null,
            "flex": null,
            "flex_flow": null,
            "grid_area": null,
            "grid_auto_columns": null,
            "grid_auto_flow": null,
            "grid_auto_rows": null,
            "grid_column": null,
            "grid_gap": null,
            "grid_row": null,
            "grid_template_areas": null,
            "grid_template_columns": null,
            "grid_template_rows": null,
            "height": null,
            "justify_content": null,
            "justify_items": null,
            "left": null,
            "margin": null,
            "max_height": null,
            "max_width": null,
            "min_height": null,
            "min_width": null,
            "object_fit": null,
            "object_position": null,
            "order": null,
            "overflow": null,
            "overflow_x": null,
            "overflow_y": null,
            "padding": null,
            "right": null,
            "top": null,
            "visibility": null,
            "width": null
          }
        },
        "8737f04263614a1c941bde8c4c59c1cf": {
          "model_module": "@jupyter-widgets/controls",
          "model_name": "ProgressStyleModel",
          "model_module_version": "1.5.0",
          "state": {
            "_model_module": "@jupyter-widgets/controls",
            "_model_module_version": "1.5.0",
            "_model_name": "ProgressStyleModel",
            "_view_count": null,
            "_view_module": "@jupyter-widgets/base",
            "_view_module_version": "1.2.0",
            "_view_name": "StyleView",
            "bar_color": null,
            "description_width": ""
          }
        },
        "d6007e52fb3e43f69cf5055dbf85e71e": {
          "model_module": "@jupyter-widgets/base",
          "model_name": "LayoutModel",
          "model_module_version": "1.2.0",
          "state": {
            "_model_module": "@jupyter-widgets/base",
            "_model_module_version": "1.2.0",
            "_model_name": "LayoutModel",
            "_view_count": null,
            "_view_module": "@jupyter-widgets/base",
            "_view_module_version": "1.2.0",
            "_view_name": "LayoutView",
            "align_content": null,
            "align_items": null,
            "align_self": null,
            "border": null,
            "bottom": null,
            "display": null,
            "flex": null,
            "flex_flow": null,
            "grid_area": null,
            "grid_auto_columns": null,
            "grid_auto_flow": null,
            "grid_auto_rows": null,
            "grid_column": null,
            "grid_gap": null,
            "grid_row": null,
            "grid_template_areas": null,
            "grid_template_columns": null,
            "grid_template_rows": null,
            "height": null,
            "justify_content": null,
            "justify_items": null,
            "left": null,
            "margin": null,
            "max_height": null,
            "max_width": null,
            "min_height": null,
            "min_width": null,
            "object_fit": null,
            "object_position": null,
            "order": null,
            "overflow": null,
            "overflow_x": null,
            "overflow_y": null,
            "padding": null,
            "right": null,
            "top": null,
            "visibility": null,
            "width": null
          }
        },
        "20aa0d1a29df42f3988601c6efd38086": {
          "model_module": "@jupyter-widgets/controls",
          "model_name": "DescriptionStyleModel",
          "model_module_version": "1.5.0",
          "state": {
            "_model_module": "@jupyter-widgets/controls",
            "_model_module_version": "1.5.0",
            "_model_name": "DescriptionStyleModel",
            "_view_count": null,
            "_view_module": "@jupyter-widgets/base",
            "_view_module_version": "1.2.0",
            "_view_name": "StyleView",
            "description_width": ""
          }
        },
        "83ac2c2b2e1d413fb59f22174bad454d": {
          "model_module": "@jupyter-widgets/controls",
          "model_name": "HBoxModel",
          "model_module_version": "1.5.0",
          "state": {
            "_dom_classes": [],
            "_model_module": "@jupyter-widgets/controls",
            "_model_module_version": "1.5.0",
            "_model_name": "HBoxModel",
            "_view_count": null,
            "_view_module": "@jupyter-widgets/controls",
            "_view_module_version": "1.5.0",
            "_view_name": "HBoxView",
            "box_style": "",
            "children": [
              "IPY_MODEL_da75f952d8fc44139b123d1bd35672fc",
              "IPY_MODEL_a86fa3c503a443b682e77f004e7e9490",
              "IPY_MODEL_73fbb07bc7e147eda82a825e735cd0ca"
            ],
            "layout": "IPY_MODEL_661e65452bc54e9392e3eda6530a0a81"
          }
        },
        "da75f952d8fc44139b123d1bd35672fc": {
          "model_module": "@jupyter-widgets/controls",
          "model_name": "HTMLModel",
          "model_module_version": "1.5.0",
          "state": {
            "_dom_classes": [],
            "_model_module": "@jupyter-widgets/controls",
            "_model_module_version": "1.5.0",
            "_model_name": "HTMLModel",
            "_view_count": null,
            "_view_module": "@jupyter-widgets/controls",
            "_view_module_version": "1.5.0",
            "_view_name": "HTMLView",
            "description": "",
            "description_tooltip": null,
            "layout": "IPY_MODEL_c8bd80cb3e0c42cc9ac3a682c748bbee",
            "placeholder": "​",
            "style": "IPY_MODEL_a30df0f24f0e4611a3166bb6256a7939",
            "value": "Downloading (…)&quot;pytorch_model.bin&quot;;: 100%"
          }
        },
        "a86fa3c503a443b682e77f004e7e9490": {
          "model_module": "@jupyter-widgets/controls",
          "model_name": "FloatProgressModel",
          "model_module_version": "1.5.0",
          "state": {
            "_dom_classes": [],
            "_model_module": "@jupyter-widgets/controls",
            "_model_module_version": "1.5.0",
            "_model_name": "FloatProgressModel",
            "_view_count": null,
            "_view_module": "@jupyter-widgets/controls",
            "_view_module_version": "1.5.0",
            "_view_name": "ProgressView",
            "bar_style": "success",
            "description": "",
            "description_tooltip": null,
            "layout": "IPY_MODEL_36baa4e6f3da4450a155b937c9ed80cb",
            "max": 3132671411,
            "min": 0,
            "orientation": "horizontal",
            "style": "IPY_MODEL_24a1b8afeae94182807aca465d72fe28",
            "value": 3132671411
          }
        },
        "73fbb07bc7e147eda82a825e735cd0ca": {
          "model_module": "@jupyter-widgets/controls",
          "model_name": "HTMLModel",
          "model_module_version": "1.5.0",
          "state": {
            "_dom_classes": [],
            "_model_module": "@jupyter-widgets/controls",
            "_model_module_version": "1.5.0",
            "_model_name": "HTMLModel",
            "_view_count": null,
            "_view_module": "@jupyter-widgets/controls",
            "_view_module_version": "1.5.0",
            "_view_name": "HTMLView",
            "description": "",
            "description_tooltip": null,
            "layout": "IPY_MODEL_59735cc12e0f43a580bd5507d44fb30d",
            "placeholder": "​",
            "style": "IPY_MODEL_cfc96b724fee494ba05a8ac6ff81b633",
            "value": " 3.13G/3.13G [01:05&lt;00:00, 11.9MB/s]"
          }
        },
        "661e65452bc54e9392e3eda6530a0a81": {
          "model_module": "@jupyter-widgets/base",
          "model_name": "LayoutModel",
          "model_module_version": "1.2.0",
          "state": {
            "_model_module": "@jupyter-widgets/base",
            "_model_module_version": "1.2.0",
            "_model_name": "LayoutModel",
            "_view_count": null,
            "_view_module": "@jupyter-widgets/base",
            "_view_module_version": "1.2.0",
            "_view_name": "LayoutView",
            "align_content": null,
            "align_items": null,
            "align_self": null,
            "border": null,
            "bottom": null,
            "display": null,
            "flex": null,
            "flex_flow": null,
            "grid_area": null,
            "grid_auto_columns": null,
            "grid_auto_flow": null,
            "grid_auto_rows": null,
            "grid_column": null,
            "grid_gap": null,
            "grid_row": null,
            "grid_template_areas": null,
            "grid_template_columns": null,
            "grid_template_rows": null,
            "height": null,
            "justify_content": null,
            "justify_items": null,
            "left": null,
            "margin": null,
            "max_height": null,
            "max_width": null,
            "min_height": null,
            "min_width": null,
            "object_fit": null,
            "object_position": null,
            "order": null,
            "overflow": null,
            "overflow_x": null,
            "overflow_y": null,
            "padding": null,
            "right": null,
            "top": null,
            "visibility": null,
            "width": null
          }
        },
        "c8bd80cb3e0c42cc9ac3a682c748bbee": {
          "model_module": "@jupyter-widgets/base",
          "model_name": "LayoutModel",
          "model_module_version": "1.2.0",
          "state": {
            "_model_module": "@jupyter-widgets/base",
            "_model_module_version": "1.2.0",
            "_model_name": "LayoutModel",
            "_view_count": null,
            "_view_module": "@jupyter-widgets/base",
            "_view_module_version": "1.2.0",
            "_view_name": "LayoutView",
            "align_content": null,
            "align_items": null,
            "align_self": null,
            "border": null,
            "bottom": null,
            "display": null,
            "flex": null,
            "flex_flow": null,
            "grid_area": null,
            "grid_auto_columns": null,
            "grid_auto_flow": null,
            "grid_auto_rows": null,
            "grid_column": null,
            "grid_gap": null,
            "grid_row": null,
            "grid_template_areas": null,
            "grid_template_columns": null,
            "grid_template_rows": null,
            "height": null,
            "justify_content": null,
            "justify_items": null,
            "left": null,
            "margin": null,
            "max_height": null,
            "max_width": null,
            "min_height": null,
            "min_width": null,
            "object_fit": null,
            "object_position": null,
            "order": null,
            "overflow": null,
            "overflow_x": null,
            "overflow_y": null,
            "padding": null,
            "right": null,
            "top": null,
            "visibility": null,
            "width": null
          }
        },
        "a30df0f24f0e4611a3166bb6256a7939": {
          "model_module": "@jupyter-widgets/controls",
          "model_name": "DescriptionStyleModel",
          "model_module_version": "1.5.0",
          "state": {
            "_model_module": "@jupyter-widgets/controls",
            "_model_module_version": "1.5.0",
            "_model_name": "DescriptionStyleModel",
            "_view_count": null,
            "_view_module": "@jupyter-widgets/base",
            "_view_module_version": "1.2.0",
            "_view_name": "StyleView",
            "description_width": ""
          }
        },
        "36baa4e6f3da4450a155b937c9ed80cb": {
          "model_module": "@jupyter-widgets/base",
          "model_name": "LayoutModel",
          "model_module_version": "1.2.0",
          "state": {
            "_model_module": "@jupyter-widgets/base",
            "_model_module_version": "1.2.0",
            "_model_name": "LayoutModel",
            "_view_count": null,
            "_view_module": "@jupyter-widgets/base",
            "_view_module_version": "1.2.0",
            "_view_name": "LayoutView",
            "align_content": null,
            "align_items": null,
            "align_self": null,
            "border": null,
            "bottom": null,
            "display": null,
            "flex": null,
            "flex_flow": null,
            "grid_area": null,
            "grid_auto_columns": null,
            "grid_auto_flow": null,
            "grid_auto_rows": null,
            "grid_column": null,
            "grid_gap": null,
            "grid_row": null,
            "grid_template_areas": null,
            "grid_template_columns": null,
            "grid_template_rows": null,
            "height": null,
            "justify_content": null,
            "justify_items": null,
            "left": null,
            "margin": null,
            "max_height": null,
            "max_width": null,
            "min_height": null,
            "min_width": null,
            "object_fit": null,
            "object_position": null,
            "order": null,
            "overflow": null,
            "overflow_x": null,
            "overflow_y": null,
            "padding": null,
            "right": null,
            "top": null,
            "visibility": null,
            "width": null
          }
        },
        "24a1b8afeae94182807aca465d72fe28": {
          "model_module": "@jupyter-widgets/controls",
          "model_name": "ProgressStyleModel",
          "model_module_version": "1.5.0",
          "state": {
            "_model_module": "@jupyter-widgets/controls",
            "_model_module_version": "1.5.0",
            "_model_name": "ProgressStyleModel",
            "_view_count": null,
            "_view_module": "@jupyter-widgets/base",
            "_view_module_version": "1.2.0",
            "_view_name": "StyleView",
            "bar_color": null,
            "description_width": ""
          }
        },
        "59735cc12e0f43a580bd5507d44fb30d": {
          "model_module": "@jupyter-widgets/base",
          "model_name": "LayoutModel",
          "model_module_version": "1.2.0",
          "state": {
            "_model_module": "@jupyter-widgets/base",
            "_model_module_version": "1.2.0",
            "_model_name": "LayoutModel",
            "_view_count": null,
            "_view_module": "@jupyter-widgets/base",
            "_view_module_version": "1.2.0",
            "_view_name": "LayoutView",
            "align_content": null,
            "align_items": null,
            "align_self": null,
            "border": null,
            "bottom": null,
            "display": null,
            "flex": null,
            "flex_flow": null,
            "grid_area": null,
            "grid_auto_columns": null,
            "grid_auto_flow": null,
            "grid_auto_rows": null,
            "grid_column": null,
            "grid_gap": null,
            "grid_row": null,
            "grid_template_areas": null,
            "grid_template_columns": null,
            "grid_template_rows": null,
            "height": null,
            "justify_content": null,
            "justify_items": null,
            "left": null,
            "margin": null,
            "max_height": null,
            "max_width": null,
            "min_height": null,
            "min_width": null,
            "object_fit": null,
            "object_position": null,
            "order": null,
            "overflow": null,
            "overflow_x": null,
            "overflow_y": null,
            "padding": null,
            "right": null,
            "top": null,
            "visibility": null,
            "width": null
          }
        },
        "cfc96b724fee494ba05a8ac6ff81b633": {
          "model_module": "@jupyter-widgets/controls",
          "model_name": "DescriptionStyleModel",
          "model_module_version": "1.5.0",
          "state": {
            "_model_module": "@jupyter-widgets/controls",
            "_model_module_version": "1.5.0",
            "_model_name": "DescriptionStyleModel",
            "_view_count": null,
            "_view_module": "@jupyter-widgets/base",
            "_view_module_version": "1.2.0",
            "_view_name": "StyleView",
            "description_width": ""
          }
        },
        "3207afaf9c09434e9e1858037798cd24": {
          "model_module": "@jupyter-widgets/controls",
          "model_name": "HBoxModel",
          "model_module_version": "1.5.0",
          "state": {
            "_dom_classes": [],
            "_model_module": "@jupyter-widgets/controls",
            "_model_module_version": "1.5.0",
            "_model_name": "HBoxModel",
            "_view_count": null,
            "_view_module": "@jupyter-widgets/controls",
            "_view_module_version": "1.5.0",
            "_view_name": "HBoxView",
            "box_style": "",
            "children": [
              "IPY_MODEL_c3e55e2db4d0454e8ee15b30b8778242",
              "IPY_MODEL_2fd236a0a86f4f2a89539dfc214815ac",
              "IPY_MODEL_54c2e88d33f64766999ca23fef054f25"
            ],
            "layout": "IPY_MODEL_e8754c5288da4e9394e5f61714829acd"
          }
        },
        "c3e55e2db4d0454e8ee15b30b8778242": {
          "model_module": "@jupyter-widgets/controls",
          "model_name": "HTMLModel",
          "model_module_version": "1.5.0",
          "state": {
            "_dom_classes": [],
            "_model_module": "@jupyter-widgets/controls",
            "_model_module_version": "1.5.0",
            "_model_name": "HTMLModel",
            "_view_count": null,
            "_view_module": "@jupyter-widgets/controls",
            "_view_module_version": "1.5.0",
            "_view_name": "HTMLView",
            "description": "",
            "description_tooltip": null,
            "layout": "IPY_MODEL_e8f2412d834145009e9cbba655468b99",
            "placeholder": "​",
            "style": "IPY_MODEL_28a1aca284364c60bd29bf170542dd12",
            "value": "Downloading (…)okenizer_config.json: 100%"
          }
        },
        "2fd236a0a86f4f2a89539dfc214815ac": {
          "model_module": "@jupyter-widgets/controls",
          "model_name": "FloatProgressModel",
          "model_module_version": "1.5.0",
          "state": {
            "_dom_classes": [],
            "_model_module": "@jupyter-widgets/controls",
            "_model_module_version": "1.5.0",
            "_model_name": "FloatProgressModel",
            "_view_count": null,
            "_view_module": "@jupyter-widgets/controls",
            "_view_module_version": "1.5.0",
            "_view_name": "ProgressView",
            "bar_style": "success",
            "description": "",
            "description_tooltip": null,
            "layout": "IPY_MODEL_448bfc8b7d1647059f5d2c27ab1795e5",
            "max": 2349,
            "min": 0,
            "orientation": "horizontal",
            "style": "IPY_MODEL_fcf023a22c23401b930ef258b73c9b2a",
            "value": 2349
          }
        },
        "54c2e88d33f64766999ca23fef054f25": {
          "model_module": "@jupyter-widgets/controls",
          "model_name": "HTMLModel",
          "model_module_version": "1.5.0",
          "state": {
            "_dom_classes": [],
            "_model_module": "@jupyter-widgets/controls",
            "_model_module_version": "1.5.0",
            "_model_name": "HTMLModel",
            "_view_count": null,
            "_view_module": "@jupyter-widgets/controls",
            "_view_module_version": "1.5.0",
            "_view_name": "HTMLView",
            "description": "",
            "description_tooltip": null,
            "layout": "IPY_MODEL_9853f3ca13b14a34bdbe24f2ab0a436d",
            "placeholder": "​",
            "style": "IPY_MODEL_102e0408271247daae050ef04d1486a0",
            "value": " 2.35k/2.35k [00:00&lt;00:00, 36.4kB/s]"
          }
        },
        "e8754c5288da4e9394e5f61714829acd": {
          "model_module": "@jupyter-widgets/base",
          "model_name": "LayoutModel",
          "model_module_version": "1.2.0",
          "state": {
            "_model_module": "@jupyter-widgets/base",
            "_model_module_version": "1.2.0",
            "_model_name": "LayoutModel",
            "_view_count": null,
            "_view_module": "@jupyter-widgets/base",
            "_view_module_version": "1.2.0",
            "_view_name": "LayoutView",
            "align_content": null,
            "align_items": null,
            "align_self": null,
            "border": null,
            "bottom": null,
            "display": null,
            "flex": null,
            "flex_flow": null,
            "grid_area": null,
            "grid_auto_columns": null,
            "grid_auto_flow": null,
            "grid_auto_rows": null,
            "grid_column": null,
            "grid_gap": null,
            "grid_row": null,
            "grid_template_areas": null,
            "grid_template_columns": null,
            "grid_template_rows": null,
            "height": null,
            "justify_content": null,
            "justify_items": null,
            "left": null,
            "margin": null,
            "max_height": null,
            "max_width": null,
            "min_height": null,
            "min_width": null,
            "object_fit": null,
            "object_position": null,
            "order": null,
            "overflow": null,
            "overflow_x": null,
            "overflow_y": null,
            "padding": null,
            "right": null,
            "top": null,
            "visibility": null,
            "width": null
          }
        },
        "e8f2412d834145009e9cbba655468b99": {
          "model_module": "@jupyter-widgets/base",
          "model_name": "LayoutModel",
          "model_module_version": "1.2.0",
          "state": {
            "_model_module": "@jupyter-widgets/base",
            "_model_module_version": "1.2.0",
            "_model_name": "LayoutModel",
            "_view_count": null,
            "_view_module": "@jupyter-widgets/base",
            "_view_module_version": "1.2.0",
            "_view_name": "LayoutView",
            "align_content": null,
            "align_items": null,
            "align_self": null,
            "border": null,
            "bottom": null,
            "display": null,
            "flex": null,
            "flex_flow": null,
            "grid_area": null,
            "grid_auto_columns": null,
            "grid_auto_flow": null,
            "grid_auto_rows": null,
            "grid_column": null,
            "grid_gap": null,
            "grid_row": null,
            "grid_template_areas": null,
            "grid_template_columns": null,
            "grid_template_rows": null,
            "height": null,
            "justify_content": null,
            "justify_items": null,
            "left": null,
            "margin": null,
            "max_height": null,
            "max_width": null,
            "min_height": null,
            "min_width": null,
            "object_fit": null,
            "object_position": null,
            "order": null,
            "overflow": null,
            "overflow_x": null,
            "overflow_y": null,
            "padding": null,
            "right": null,
            "top": null,
            "visibility": null,
            "width": null
          }
        },
        "28a1aca284364c60bd29bf170542dd12": {
          "model_module": "@jupyter-widgets/controls",
          "model_name": "DescriptionStyleModel",
          "model_module_version": "1.5.0",
          "state": {
            "_model_module": "@jupyter-widgets/controls",
            "_model_module_version": "1.5.0",
            "_model_name": "DescriptionStyleModel",
            "_view_count": null,
            "_view_module": "@jupyter-widgets/base",
            "_view_module_version": "1.2.0",
            "_view_name": "StyleView",
            "description_width": ""
          }
        },
        "448bfc8b7d1647059f5d2c27ab1795e5": {
          "model_module": "@jupyter-widgets/base",
          "model_name": "LayoutModel",
          "model_module_version": "1.2.0",
          "state": {
            "_model_module": "@jupyter-widgets/base",
            "_model_module_version": "1.2.0",
            "_model_name": "LayoutModel",
            "_view_count": null,
            "_view_module": "@jupyter-widgets/base",
            "_view_module_version": "1.2.0",
            "_view_name": "LayoutView",
            "align_content": null,
            "align_items": null,
            "align_self": null,
            "border": null,
            "bottom": null,
            "display": null,
            "flex": null,
            "flex_flow": null,
            "grid_area": null,
            "grid_auto_columns": null,
            "grid_auto_flow": null,
            "grid_auto_rows": null,
            "grid_column": null,
            "grid_gap": null,
            "grid_row": null,
            "grid_template_areas": null,
            "grid_template_columns": null,
            "grid_template_rows": null,
            "height": null,
            "justify_content": null,
            "justify_items": null,
            "left": null,
            "margin": null,
            "max_height": null,
            "max_width": null,
            "min_height": null,
            "min_width": null,
            "object_fit": null,
            "object_position": null,
            "order": null,
            "overflow": null,
            "overflow_x": null,
            "overflow_y": null,
            "padding": null,
            "right": null,
            "top": null,
            "visibility": null,
            "width": null
          }
        },
        "fcf023a22c23401b930ef258b73c9b2a": {
          "model_module": "@jupyter-widgets/controls",
          "model_name": "ProgressStyleModel",
          "model_module_version": "1.5.0",
          "state": {
            "_model_module": "@jupyter-widgets/controls",
            "_model_module_version": "1.5.0",
            "_model_name": "ProgressStyleModel",
            "_view_count": null,
            "_view_module": "@jupyter-widgets/base",
            "_view_module_version": "1.2.0",
            "_view_name": "StyleView",
            "bar_color": null,
            "description_width": ""
          }
        },
        "9853f3ca13b14a34bdbe24f2ab0a436d": {
          "model_module": "@jupyter-widgets/base",
          "model_name": "LayoutModel",
          "model_module_version": "1.2.0",
          "state": {
            "_model_module": "@jupyter-widgets/base",
            "_model_module_version": "1.2.0",
            "_model_name": "LayoutModel",
            "_view_count": null,
            "_view_module": "@jupyter-widgets/base",
            "_view_module_version": "1.2.0",
            "_view_name": "LayoutView",
            "align_content": null,
            "align_items": null,
            "align_self": null,
            "border": null,
            "bottom": null,
            "display": null,
            "flex": null,
            "flex_flow": null,
            "grid_area": null,
            "grid_auto_columns": null,
            "grid_auto_flow": null,
            "grid_auto_rows": null,
            "grid_column": null,
            "grid_gap": null,
            "grid_row": null,
            "grid_template_areas": null,
            "grid_template_columns": null,
            "grid_template_rows": null,
            "height": null,
            "justify_content": null,
            "justify_items": null,
            "left": null,
            "margin": null,
            "max_height": null,
            "max_width": null,
            "min_height": null,
            "min_width": null,
            "object_fit": null,
            "object_position": null,
            "order": null,
            "overflow": null,
            "overflow_x": null,
            "overflow_y": null,
            "padding": null,
            "right": null,
            "top": null,
            "visibility": null,
            "width": null
          }
        },
        "102e0408271247daae050ef04d1486a0": {
          "model_module": "@jupyter-widgets/controls",
          "model_name": "DescriptionStyleModel",
          "model_module_version": "1.5.0",
          "state": {
            "_model_module": "@jupyter-widgets/controls",
            "_model_module_version": "1.5.0",
            "_model_name": "DescriptionStyleModel",
            "_view_count": null,
            "_view_module": "@jupyter-widgets/base",
            "_view_module_version": "1.2.0",
            "_view_name": "StyleView",
            "description_width": ""
          }
        },
        "f7ea1430fbed468f946011ae530fce75": {
          "model_module": "@jupyter-widgets/controls",
          "model_name": "HBoxModel",
          "model_module_version": "1.5.0",
          "state": {
            "_dom_classes": [],
            "_model_module": "@jupyter-widgets/controls",
            "_model_module_version": "1.5.0",
            "_model_name": "HBoxModel",
            "_view_count": null,
            "_view_module": "@jupyter-widgets/controls",
            "_view_module_version": "1.5.0",
            "_view_name": "HBoxView",
            "box_style": "",
            "children": [
              "IPY_MODEL_1562c027cbfe45c2a746758980b48039",
              "IPY_MODEL_97f59df81d2043f1ba5d750f499fb5ea",
              "IPY_MODEL_51cf757b2068463faafeaa7d723d8fdc"
            ],
            "layout": "IPY_MODEL_56d2a9fd70434532ad3edc76ec19705c"
          }
        },
        "1562c027cbfe45c2a746758980b48039": {
          "model_module": "@jupyter-widgets/controls",
          "model_name": "HTMLModel",
          "model_module_version": "1.5.0",
          "state": {
            "_dom_classes": [],
            "_model_module": "@jupyter-widgets/controls",
            "_model_module_version": "1.5.0",
            "_model_name": "HTMLModel",
            "_view_count": null,
            "_view_module": "@jupyter-widgets/controls",
            "_view_module_version": "1.5.0",
            "_view_name": "HTMLView",
            "description": "",
            "description_tooltip": null,
            "layout": "IPY_MODEL_24f6d2746c2d46c1be70d3c83a1f6bcf",
            "placeholder": "​",
            "style": "IPY_MODEL_0eef74eb5d254980b1e2a0fee067352d",
            "value": "Downloading (…)/main/tokenizer.json: 100%"
          }
        },
        "97f59df81d2043f1ba5d750f499fb5ea": {
          "model_module": "@jupyter-widgets/controls",
          "model_name": "FloatProgressModel",
          "model_module_version": "1.5.0",
          "state": {
            "_dom_classes": [],
            "_model_module": "@jupyter-widgets/controls",
            "_model_module_version": "1.5.0",
            "_model_name": "FloatProgressModel",
            "_view_count": null,
            "_view_module": "@jupyter-widgets/controls",
            "_view_module_version": "1.5.0",
            "_view_name": "ProgressView",
            "bar_style": "success",
            "description": "",
            "description_tooltip": null,
            "layout": "IPY_MODEL_eaaa8f2b3a6c4191bad0bf312bd013d0",
            "max": 2422194,
            "min": 0,
            "orientation": "horizontal",
            "style": "IPY_MODEL_ac207b8b1d7a41739e13d66f0a1d918d",
            "value": 2422194
          }
        },
        "51cf757b2068463faafeaa7d723d8fdc": {
          "model_module": "@jupyter-widgets/controls",
          "model_name": "HTMLModel",
          "model_module_version": "1.5.0",
          "state": {
            "_dom_classes": [],
            "_model_module": "@jupyter-widgets/controls",
            "_model_module_version": "1.5.0",
            "_model_name": "HTMLModel",
            "_view_count": null,
            "_view_module": "@jupyter-widgets/controls",
            "_view_module_version": "1.5.0",
            "_view_name": "HTMLView",
            "description": "",
            "description_tooltip": null,
            "layout": "IPY_MODEL_df8914bffe5d4685a77e2417cb74b55a",
            "placeholder": "​",
            "style": "IPY_MODEL_d2f861d8c6304a6fad4cd9fec44fc6d9",
            "value": " 2.42M/2.42M [00:00&lt;00:00, 6.49MB/s]"
          }
        },
        "56d2a9fd70434532ad3edc76ec19705c": {
          "model_module": "@jupyter-widgets/base",
          "model_name": "LayoutModel",
          "model_module_version": "1.2.0",
          "state": {
            "_model_module": "@jupyter-widgets/base",
            "_model_module_version": "1.2.0",
            "_model_name": "LayoutModel",
            "_view_count": null,
            "_view_module": "@jupyter-widgets/base",
            "_view_module_version": "1.2.0",
            "_view_name": "LayoutView",
            "align_content": null,
            "align_items": null,
            "align_self": null,
            "border": null,
            "bottom": null,
            "display": null,
            "flex": null,
            "flex_flow": null,
            "grid_area": null,
            "grid_auto_columns": null,
            "grid_auto_flow": null,
            "grid_auto_rows": null,
            "grid_column": null,
            "grid_gap": null,
            "grid_row": null,
            "grid_template_areas": null,
            "grid_template_columns": null,
            "grid_template_rows": null,
            "height": null,
            "justify_content": null,
            "justify_items": null,
            "left": null,
            "margin": null,
            "max_height": null,
            "max_width": null,
            "min_height": null,
            "min_width": null,
            "object_fit": null,
            "object_position": null,
            "order": null,
            "overflow": null,
            "overflow_x": null,
            "overflow_y": null,
            "padding": null,
            "right": null,
            "top": null,
            "visibility": null,
            "width": null
          }
        },
        "24f6d2746c2d46c1be70d3c83a1f6bcf": {
          "model_module": "@jupyter-widgets/base",
          "model_name": "LayoutModel",
          "model_module_version": "1.2.0",
          "state": {
            "_model_module": "@jupyter-widgets/base",
            "_model_module_version": "1.2.0",
            "_model_name": "LayoutModel",
            "_view_count": null,
            "_view_module": "@jupyter-widgets/base",
            "_view_module_version": "1.2.0",
            "_view_name": "LayoutView",
            "align_content": null,
            "align_items": null,
            "align_self": null,
            "border": null,
            "bottom": null,
            "display": null,
            "flex": null,
            "flex_flow": null,
            "grid_area": null,
            "grid_auto_columns": null,
            "grid_auto_flow": null,
            "grid_auto_rows": null,
            "grid_column": null,
            "grid_gap": null,
            "grid_row": null,
            "grid_template_areas": null,
            "grid_template_columns": null,
            "grid_template_rows": null,
            "height": null,
            "justify_content": null,
            "justify_items": null,
            "left": null,
            "margin": null,
            "max_height": null,
            "max_width": null,
            "min_height": null,
            "min_width": null,
            "object_fit": null,
            "object_position": null,
            "order": null,
            "overflow": null,
            "overflow_x": null,
            "overflow_y": null,
            "padding": null,
            "right": null,
            "top": null,
            "visibility": null,
            "width": null
          }
        },
        "0eef74eb5d254980b1e2a0fee067352d": {
          "model_module": "@jupyter-widgets/controls",
          "model_name": "DescriptionStyleModel",
          "model_module_version": "1.5.0",
          "state": {
            "_model_module": "@jupyter-widgets/controls",
            "_model_module_version": "1.5.0",
            "_model_name": "DescriptionStyleModel",
            "_view_count": null,
            "_view_module": "@jupyter-widgets/base",
            "_view_module_version": "1.2.0",
            "_view_name": "StyleView",
            "description_width": ""
          }
        },
        "eaaa8f2b3a6c4191bad0bf312bd013d0": {
          "model_module": "@jupyter-widgets/base",
          "model_name": "LayoutModel",
          "model_module_version": "1.2.0",
          "state": {
            "_model_module": "@jupyter-widgets/base",
            "_model_module_version": "1.2.0",
            "_model_name": "LayoutModel",
            "_view_count": null,
            "_view_module": "@jupyter-widgets/base",
            "_view_module_version": "1.2.0",
            "_view_name": "LayoutView",
            "align_content": null,
            "align_items": null,
            "align_self": null,
            "border": null,
            "bottom": null,
            "display": null,
            "flex": null,
            "flex_flow": null,
            "grid_area": null,
            "grid_auto_columns": null,
            "grid_auto_flow": null,
            "grid_auto_rows": null,
            "grid_column": null,
            "grid_gap": null,
            "grid_row": null,
            "grid_template_areas": null,
            "grid_template_columns": null,
            "grid_template_rows": null,
            "height": null,
            "justify_content": null,
            "justify_items": null,
            "left": null,
            "margin": null,
            "max_height": null,
            "max_width": null,
            "min_height": null,
            "min_width": null,
            "object_fit": null,
            "object_position": null,
            "order": null,
            "overflow": null,
            "overflow_x": null,
            "overflow_y": null,
            "padding": null,
            "right": null,
            "top": null,
            "visibility": null,
            "width": null
          }
        },
        "ac207b8b1d7a41739e13d66f0a1d918d": {
          "model_module": "@jupyter-widgets/controls",
          "model_name": "ProgressStyleModel",
          "model_module_version": "1.5.0",
          "state": {
            "_model_module": "@jupyter-widgets/controls",
            "_model_module_version": "1.5.0",
            "_model_name": "ProgressStyleModel",
            "_view_count": null,
            "_view_module": "@jupyter-widgets/base",
            "_view_module_version": "1.2.0",
            "_view_name": "StyleView",
            "bar_color": null,
            "description_width": ""
          }
        },
        "df8914bffe5d4685a77e2417cb74b55a": {
          "model_module": "@jupyter-widgets/base",
          "model_name": "LayoutModel",
          "model_module_version": "1.2.0",
          "state": {
            "_model_module": "@jupyter-widgets/base",
            "_model_module_version": "1.2.0",
            "_model_name": "LayoutModel",
            "_view_count": null,
            "_view_module": "@jupyter-widgets/base",
            "_view_module_version": "1.2.0",
            "_view_name": "LayoutView",
            "align_content": null,
            "align_items": null,
            "align_self": null,
            "border": null,
            "bottom": null,
            "display": null,
            "flex": null,
            "flex_flow": null,
            "grid_area": null,
            "grid_auto_columns": null,
            "grid_auto_flow": null,
            "grid_auto_rows": null,
            "grid_column": null,
            "grid_gap": null,
            "grid_row": null,
            "grid_template_areas": null,
            "grid_template_columns": null,
            "grid_template_rows": null,
            "height": null,
            "justify_content": null,
            "justify_items": null,
            "left": null,
            "margin": null,
            "max_height": null,
            "max_width": null,
            "min_height": null,
            "min_width": null,
            "object_fit": null,
            "object_position": null,
            "order": null,
            "overflow": null,
            "overflow_x": null,
            "overflow_y": null,
            "padding": null,
            "right": null,
            "top": null,
            "visibility": null,
            "width": null
          }
        },
        "d2f861d8c6304a6fad4cd9fec44fc6d9": {
          "model_module": "@jupyter-widgets/controls",
          "model_name": "DescriptionStyleModel",
          "model_module_version": "1.5.0",
          "state": {
            "_model_module": "@jupyter-widgets/controls",
            "_model_module_version": "1.5.0",
            "_model_name": "DescriptionStyleModel",
            "_view_count": null,
            "_view_module": "@jupyter-widgets/base",
            "_view_module_version": "1.2.0",
            "_view_name": "StyleView",
            "description_width": ""
          }
        },
        "8fbaa069e01a42a8a4eee44c53323331": {
          "model_module": "@jupyter-widgets/controls",
          "model_name": "HBoxModel",
          "model_module_version": "1.5.0",
          "state": {
            "_dom_classes": [],
            "_model_module": "@jupyter-widgets/controls",
            "_model_module_version": "1.5.0",
            "_model_name": "HBoxModel",
            "_view_count": null,
            "_view_module": "@jupyter-widgets/controls",
            "_view_module_version": "1.5.0",
            "_view_name": "HBoxView",
            "box_style": "",
            "children": [
              "IPY_MODEL_f4080deb642543ddaf2751484bab773d",
              "IPY_MODEL_33b37f0accec4b5ca654e4226b18a13f",
              "IPY_MODEL_b8a78a982ada45d59d4dc4cf54ed5782"
            ],
            "layout": "IPY_MODEL_6acaea188f454288b11cf2cc3e8c0ecc"
          }
        },
        "f4080deb642543ddaf2751484bab773d": {
          "model_module": "@jupyter-widgets/controls",
          "model_name": "HTMLModel",
          "model_module_version": "1.5.0",
          "state": {
            "_dom_classes": [],
            "_model_module": "@jupyter-widgets/controls",
            "_model_module_version": "1.5.0",
            "_model_name": "HTMLModel",
            "_view_count": null,
            "_view_module": "@jupyter-widgets/controls",
            "_view_module_version": "1.5.0",
            "_view_name": "HTMLView",
            "description": "",
            "description_tooltip": null,
            "layout": "IPY_MODEL_3f614998defd45119de4624156c7f7da",
            "placeholder": "​",
            "style": "IPY_MODEL_2725c9214c4543288b4a26ccb0b4ded9",
            "value": "Downloading (…)cial_tokens_map.json: 100%"
          }
        },
        "33b37f0accec4b5ca654e4226b18a13f": {
          "model_module": "@jupyter-widgets/controls",
          "model_name": "FloatProgressModel",
          "model_module_version": "1.5.0",
          "state": {
            "_dom_classes": [],
            "_model_module": "@jupyter-widgets/controls",
            "_model_module_version": "1.5.0",
            "_model_name": "FloatProgressModel",
            "_view_count": null,
            "_view_module": "@jupyter-widgets/controls",
            "_view_module_version": "1.5.0",
            "_view_name": "ProgressView",
            "bar_style": "success",
            "description": "",
            "description_tooltip": null,
            "layout": "IPY_MODEL_310d87a3afb04b6eb897fc1160a40f98",
            "max": 2201,
            "min": 0,
            "orientation": "horizontal",
            "style": "IPY_MODEL_2e3cdd8f7d0d4725bdfe1e466d99e432",
            "value": 2201
          }
        },
        "b8a78a982ada45d59d4dc4cf54ed5782": {
          "model_module": "@jupyter-widgets/controls",
          "model_name": "HTMLModel",
          "model_module_version": "1.5.0",
          "state": {
            "_dom_classes": [],
            "_model_module": "@jupyter-widgets/controls",
            "_model_module_version": "1.5.0",
            "_model_name": "HTMLModel",
            "_view_count": null,
            "_view_module": "@jupyter-widgets/controls",
            "_view_module_version": "1.5.0",
            "_view_name": "HTMLView",
            "description": "",
            "description_tooltip": null,
            "layout": "IPY_MODEL_74ef4040590a4806b5cb5c01aaf51872",
            "placeholder": "​",
            "style": "IPY_MODEL_279c9f87a43b4928a19aafbcce96fcbf",
            "value": " 2.20k/2.20k [00:00&lt;00:00, 27.7kB/s]"
          }
        },
        "6acaea188f454288b11cf2cc3e8c0ecc": {
          "model_module": "@jupyter-widgets/base",
          "model_name": "LayoutModel",
          "model_module_version": "1.2.0",
          "state": {
            "_model_module": "@jupyter-widgets/base",
            "_model_module_version": "1.2.0",
            "_model_name": "LayoutModel",
            "_view_count": null,
            "_view_module": "@jupyter-widgets/base",
            "_view_module_version": "1.2.0",
            "_view_name": "LayoutView",
            "align_content": null,
            "align_items": null,
            "align_self": null,
            "border": null,
            "bottom": null,
            "display": null,
            "flex": null,
            "flex_flow": null,
            "grid_area": null,
            "grid_auto_columns": null,
            "grid_auto_flow": null,
            "grid_auto_rows": null,
            "grid_column": null,
            "grid_gap": null,
            "grid_row": null,
            "grid_template_areas": null,
            "grid_template_columns": null,
            "grid_template_rows": null,
            "height": null,
            "justify_content": null,
            "justify_items": null,
            "left": null,
            "margin": null,
            "max_height": null,
            "max_width": null,
            "min_height": null,
            "min_width": null,
            "object_fit": null,
            "object_position": null,
            "order": null,
            "overflow": null,
            "overflow_x": null,
            "overflow_y": null,
            "padding": null,
            "right": null,
            "top": null,
            "visibility": null,
            "width": null
          }
        },
        "3f614998defd45119de4624156c7f7da": {
          "model_module": "@jupyter-widgets/base",
          "model_name": "LayoutModel",
          "model_module_version": "1.2.0",
          "state": {
            "_model_module": "@jupyter-widgets/base",
            "_model_module_version": "1.2.0",
            "_model_name": "LayoutModel",
            "_view_count": null,
            "_view_module": "@jupyter-widgets/base",
            "_view_module_version": "1.2.0",
            "_view_name": "LayoutView",
            "align_content": null,
            "align_items": null,
            "align_self": null,
            "border": null,
            "bottom": null,
            "display": null,
            "flex": null,
            "flex_flow": null,
            "grid_area": null,
            "grid_auto_columns": null,
            "grid_auto_flow": null,
            "grid_auto_rows": null,
            "grid_column": null,
            "grid_gap": null,
            "grid_row": null,
            "grid_template_areas": null,
            "grid_template_columns": null,
            "grid_template_rows": null,
            "height": null,
            "justify_content": null,
            "justify_items": null,
            "left": null,
            "margin": null,
            "max_height": null,
            "max_width": null,
            "min_height": null,
            "min_width": null,
            "object_fit": null,
            "object_position": null,
            "order": null,
            "overflow": null,
            "overflow_x": null,
            "overflow_y": null,
            "padding": null,
            "right": null,
            "top": null,
            "visibility": null,
            "width": null
          }
        },
        "2725c9214c4543288b4a26ccb0b4ded9": {
          "model_module": "@jupyter-widgets/controls",
          "model_name": "DescriptionStyleModel",
          "model_module_version": "1.5.0",
          "state": {
            "_model_module": "@jupyter-widgets/controls",
            "_model_module_version": "1.5.0",
            "_model_name": "DescriptionStyleModel",
            "_view_count": null,
            "_view_module": "@jupyter-widgets/base",
            "_view_module_version": "1.2.0",
            "_view_name": "StyleView",
            "description_width": ""
          }
        },
        "310d87a3afb04b6eb897fc1160a40f98": {
          "model_module": "@jupyter-widgets/base",
          "model_name": "LayoutModel",
          "model_module_version": "1.2.0",
          "state": {
            "_model_module": "@jupyter-widgets/base",
            "_model_module_version": "1.2.0",
            "_model_name": "LayoutModel",
            "_view_count": null,
            "_view_module": "@jupyter-widgets/base",
            "_view_module_version": "1.2.0",
            "_view_name": "LayoutView",
            "align_content": null,
            "align_items": null,
            "align_self": null,
            "border": null,
            "bottom": null,
            "display": null,
            "flex": null,
            "flex_flow": null,
            "grid_area": null,
            "grid_auto_columns": null,
            "grid_auto_flow": null,
            "grid_auto_rows": null,
            "grid_column": null,
            "grid_gap": null,
            "grid_row": null,
            "grid_template_areas": null,
            "grid_template_columns": null,
            "grid_template_rows": null,
            "height": null,
            "justify_content": null,
            "justify_items": null,
            "left": null,
            "margin": null,
            "max_height": null,
            "max_width": null,
            "min_height": null,
            "min_width": null,
            "object_fit": null,
            "object_position": null,
            "order": null,
            "overflow": null,
            "overflow_x": null,
            "overflow_y": null,
            "padding": null,
            "right": null,
            "top": null,
            "visibility": null,
            "width": null
          }
        },
        "2e3cdd8f7d0d4725bdfe1e466d99e432": {
          "model_module": "@jupyter-widgets/controls",
          "model_name": "ProgressStyleModel",
          "model_module_version": "1.5.0",
          "state": {
            "_model_module": "@jupyter-widgets/controls",
            "_model_module_version": "1.5.0",
            "_model_name": "ProgressStyleModel",
            "_view_count": null,
            "_view_module": "@jupyter-widgets/base",
            "_view_module_version": "1.2.0",
            "_view_name": "StyleView",
            "bar_color": null,
            "description_width": ""
          }
        },
        "74ef4040590a4806b5cb5c01aaf51872": {
          "model_module": "@jupyter-widgets/base",
          "model_name": "LayoutModel",
          "model_module_version": "1.2.0",
          "state": {
            "_model_module": "@jupyter-widgets/base",
            "_model_module_version": "1.2.0",
            "_model_name": "LayoutModel",
            "_view_count": null,
            "_view_module": "@jupyter-widgets/base",
            "_view_module_version": "1.2.0",
            "_view_name": "LayoutView",
            "align_content": null,
            "align_items": null,
            "align_self": null,
            "border": null,
            "bottom": null,
            "display": null,
            "flex": null,
            "flex_flow": null,
            "grid_area": null,
            "grid_auto_columns": null,
            "grid_auto_flow": null,
            "grid_auto_rows": null,
            "grid_column": null,
            "grid_gap": null,
            "grid_row": null,
            "grid_template_areas": null,
            "grid_template_columns": null,
            "grid_template_rows": null,
            "height": null,
            "justify_content": null,
            "justify_items": null,
            "left": null,
            "margin": null,
            "max_height": null,
            "max_width": null,
            "min_height": null,
            "min_width": null,
            "object_fit": null,
            "object_position": null,
            "order": null,
            "overflow": null,
            "overflow_x": null,
            "overflow_y": null,
            "padding": null,
            "right": null,
            "top": null,
            "visibility": null,
            "width": null
          }
        },
        "279c9f87a43b4928a19aafbcce96fcbf": {
          "model_module": "@jupyter-widgets/controls",
          "model_name": "DescriptionStyleModel",
          "model_module_version": "1.5.0",
          "state": {
            "_model_module": "@jupyter-widgets/controls",
            "_model_module_version": "1.5.0",
            "_model_name": "DescriptionStyleModel",
            "_view_count": null,
            "_view_module": "@jupyter-widgets/base",
            "_view_module_version": "1.2.0",
            "_view_name": "StyleView",
            "description_width": ""
          }
        },
        "e2031c2593eb4221945a3043be806691": {
          "model_module": "@jupyter-widgets/controls",
          "model_name": "HBoxModel",
          "model_module_version": "1.5.0",
          "state": {
            "_dom_classes": [],
            "_model_module": "@jupyter-widgets/controls",
            "_model_module_version": "1.5.0",
            "_model_name": "HBoxModel",
            "_view_count": null,
            "_view_module": "@jupyter-widgets/controls",
            "_view_module_version": "1.5.0",
            "_view_name": "HBoxView",
            "box_style": "",
            "children": [
              "IPY_MODEL_e708e26a229e465cbb52f937f453ad2d",
              "IPY_MODEL_9852f062f61e49ed80e8eb5f34638296",
              "IPY_MODEL_6dfe1ff3ab7a445fb9a048dac440cc8c"
            ],
            "layout": "IPY_MODEL_e772c0e2cd8d4df9883556f7af428b7f"
          }
        },
        "e708e26a229e465cbb52f937f453ad2d": {
          "model_module": "@jupyter-widgets/controls",
          "model_name": "HTMLModel",
          "model_module_version": "1.5.0",
          "state": {
            "_dom_classes": [],
            "_model_module": "@jupyter-widgets/controls",
            "_model_module_version": "1.5.0",
            "_model_name": "HTMLModel",
            "_view_count": null,
            "_view_module": "@jupyter-widgets/controls",
            "_view_module_version": "1.5.0",
            "_view_name": "HTMLView",
            "description": "",
            "description_tooltip": null,
            "layout": "IPY_MODEL_7071930f772e41588edff082a81fef80",
            "placeholder": "​",
            "style": "IPY_MODEL_c8c32052e91a45eea5a06294f83c753f",
            "value": "Downloading (…)lve/main/config.json: 100%"
          }
        },
        "9852f062f61e49ed80e8eb5f34638296": {
          "model_module": "@jupyter-widgets/controls",
          "model_name": "FloatProgressModel",
          "model_module_version": "1.5.0",
          "state": {
            "_dom_classes": [],
            "_model_module": "@jupyter-widgets/controls",
            "_model_module_version": "1.5.0",
            "_model_name": "FloatProgressModel",
            "_view_count": null,
            "_view_module": "@jupyter-widgets/controls",
            "_view_module_version": "1.5.0",
            "_view_name": "ProgressView",
            "bar_style": "success",
            "description": "",
            "description_tooltip": null,
            "layout": "IPY_MODEL_e3bf2f8c0b4149f1989cb7aca729687d",
            "max": 1473,
            "min": 0,
            "orientation": "horizontal",
            "style": "IPY_MODEL_b5573d74ca3b4a839b3b130ece8f6edc",
            "value": 1473
          }
        },
        "6dfe1ff3ab7a445fb9a048dac440cc8c": {
          "model_module": "@jupyter-widgets/controls",
          "model_name": "HTMLModel",
          "model_module_version": "1.5.0",
          "state": {
            "_dom_classes": [],
            "_model_module": "@jupyter-widgets/controls",
            "_model_module_version": "1.5.0",
            "_model_name": "HTMLModel",
            "_view_count": null,
            "_view_module": "@jupyter-widgets/controls",
            "_view_module_version": "1.5.0",
            "_view_name": "HTMLView",
            "description": "",
            "description_tooltip": null,
            "layout": "IPY_MODEL_1c3faf82c0d543abb433cd6c88673efd",
            "placeholder": "​",
            "style": "IPY_MODEL_8dc50a9ed0db436cadac252e2dc19faf",
            "value": " 1.47k/1.47k [00:00&lt;00:00, 27.0kB/s]"
          }
        },
        "e772c0e2cd8d4df9883556f7af428b7f": {
          "model_module": "@jupyter-widgets/base",
          "model_name": "LayoutModel",
          "model_module_version": "1.2.0",
          "state": {
            "_model_module": "@jupyter-widgets/base",
            "_model_module_version": "1.2.0",
            "_model_name": "LayoutModel",
            "_view_count": null,
            "_view_module": "@jupyter-widgets/base",
            "_view_module_version": "1.2.0",
            "_view_name": "LayoutView",
            "align_content": null,
            "align_items": null,
            "align_self": null,
            "border": null,
            "bottom": null,
            "display": null,
            "flex": null,
            "flex_flow": null,
            "grid_area": null,
            "grid_auto_columns": null,
            "grid_auto_flow": null,
            "grid_auto_rows": null,
            "grid_column": null,
            "grid_gap": null,
            "grid_row": null,
            "grid_template_areas": null,
            "grid_template_columns": null,
            "grid_template_rows": null,
            "height": null,
            "justify_content": null,
            "justify_items": null,
            "left": null,
            "margin": null,
            "max_height": null,
            "max_width": null,
            "min_height": null,
            "min_width": null,
            "object_fit": null,
            "object_position": null,
            "order": null,
            "overflow": null,
            "overflow_x": null,
            "overflow_y": null,
            "padding": null,
            "right": null,
            "top": null,
            "visibility": null,
            "width": null
          }
        },
        "7071930f772e41588edff082a81fef80": {
          "model_module": "@jupyter-widgets/base",
          "model_name": "LayoutModel",
          "model_module_version": "1.2.0",
          "state": {
            "_model_module": "@jupyter-widgets/base",
            "_model_module_version": "1.2.0",
            "_model_name": "LayoutModel",
            "_view_count": null,
            "_view_module": "@jupyter-widgets/base",
            "_view_module_version": "1.2.0",
            "_view_name": "LayoutView",
            "align_content": null,
            "align_items": null,
            "align_self": null,
            "border": null,
            "bottom": null,
            "display": null,
            "flex": null,
            "flex_flow": null,
            "grid_area": null,
            "grid_auto_columns": null,
            "grid_auto_flow": null,
            "grid_auto_rows": null,
            "grid_column": null,
            "grid_gap": null,
            "grid_row": null,
            "grid_template_areas": null,
            "grid_template_columns": null,
            "grid_template_rows": null,
            "height": null,
            "justify_content": null,
            "justify_items": null,
            "left": null,
            "margin": null,
            "max_height": null,
            "max_width": null,
            "min_height": null,
            "min_width": null,
            "object_fit": null,
            "object_position": null,
            "order": null,
            "overflow": null,
            "overflow_x": null,
            "overflow_y": null,
            "padding": null,
            "right": null,
            "top": null,
            "visibility": null,
            "width": null
          }
        },
        "c8c32052e91a45eea5a06294f83c753f": {
          "model_module": "@jupyter-widgets/controls",
          "model_name": "DescriptionStyleModel",
          "model_module_version": "1.5.0",
          "state": {
            "_model_module": "@jupyter-widgets/controls",
            "_model_module_version": "1.5.0",
            "_model_name": "DescriptionStyleModel",
            "_view_count": null,
            "_view_module": "@jupyter-widgets/base",
            "_view_module_version": "1.2.0",
            "_view_name": "StyleView",
            "description_width": ""
          }
        },
        "e3bf2f8c0b4149f1989cb7aca729687d": {
          "model_module": "@jupyter-widgets/base",
          "model_name": "LayoutModel",
          "model_module_version": "1.2.0",
          "state": {
            "_model_module": "@jupyter-widgets/base",
            "_model_module_version": "1.2.0",
            "_model_name": "LayoutModel",
            "_view_count": null,
            "_view_module": "@jupyter-widgets/base",
            "_view_module_version": "1.2.0",
            "_view_name": "LayoutView",
            "align_content": null,
            "align_items": null,
            "align_self": null,
            "border": null,
            "bottom": null,
            "display": null,
            "flex": null,
            "flex_flow": null,
            "grid_area": null,
            "grid_auto_columns": null,
            "grid_auto_flow": null,
            "grid_auto_rows": null,
            "grid_column": null,
            "grid_gap": null,
            "grid_row": null,
            "grid_template_areas": null,
            "grid_template_columns": null,
            "grid_template_rows": null,
            "height": null,
            "justify_content": null,
            "justify_items": null,
            "left": null,
            "margin": null,
            "max_height": null,
            "max_width": null,
            "min_height": null,
            "min_width": null,
            "object_fit": null,
            "object_position": null,
            "order": null,
            "overflow": null,
            "overflow_x": null,
            "overflow_y": null,
            "padding": null,
            "right": null,
            "top": null,
            "visibility": null,
            "width": null
          }
        },
        "b5573d74ca3b4a839b3b130ece8f6edc": {
          "model_module": "@jupyter-widgets/controls",
          "model_name": "ProgressStyleModel",
          "model_module_version": "1.5.0",
          "state": {
            "_model_module": "@jupyter-widgets/controls",
            "_model_module_version": "1.5.0",
            "_model_name": "ProgressStyleModel",
            "_view_count": null,
            "_view_module": "@jupyter-widgets/base",
            "_view_module_version": "1.2.0",
            "_view_name": "StyleView",
            "bar_color": null,
            "description_width": ""
          }
        },
        "1c3faf82c0d543abb433cd6c88673efd": {
          "model_module": "@jupyter-widgets/base",
          "model_name": "LayoutModel",
          "model_module_version": "1.2.0",
          "state": {
            "_model_module": "@jupyter-widgets/base",
            "_model_module_version": "1.2.0",
            "_model_name": "LayoutModel",
            "_view_count": null,
            "_view_module": "@jupyter-widgets/base",
            "_view_module_version": "1.2.0",
            "_view_name": "LayoutView",
            "align_content": null,
            "align_items": null,
            "align_self": null,
            "border": null,
            "bottom": null,
            "display": null,
            "flex": null,
            "flex_flow": null,
            "grid_area": null,
            "grid_auto_columns": null,
            "grid_auto_flow": null,
            "grid_auto_rows": null,
            "grid_column": null,
            "grid_gap": null,
            "grid_row": null,
            "grid_template_areas": null,
            "grid_template_columns": null,
            "grid_template_rows": null,
            "height": null,
            "justify_content": null,
            "justify_items": null,
            "left": null,
            "margin": null,
            "max_height": null,
            "max_width": null,
            "min_height": null,
            "min_width": null,
            "object_fit": null,
            "object_position": null,
            "order": null,
            "overflow": null,
            "overflow_x": null,
            "overflow_y": null,
            "padding": null,
            "right": null,
            "top": null,
            "visibility": null,
            "width": null
          }
        },
        "8dc50a9ed0db436cadac252e2dc19faf": {
          "model_module": "@jupyter-widgets/controls",
          "model_name": "DescriptionStyleModel",
          "model_module_version": "1.5.0",
          "state": {
            "_model_module": "@jupyter-widgets/controls",
            "_model_module_version": "1.5.0",
            "_model_name": "DescriptionStyleModel",
            "_view_count": null,
            "_view_module": "@jupyter-widgets/base",
            "_view_module_version": "1.2.0",
            "_view_name": "StyleView",
            "description_width": ""
          }
        },
        "c323ddb413bc4eaea294c35b961c0454": {
          "model_module": "@jupyter-widgets/controls",
          "model_name": "HBoxModel",
          "model_module_version": "1.5.0",
          "state": {
            "_dom_classes": [],
            "_model_module": "@jupyter-widgets/controls",
            "_model_module_version": "1.5.0",
            "_model_name": "HBoxModel",
            "_view_count": null,
            "_view_module": "@jupyter-widgets/controls",
            "_view_module_version": "1.5.0",
            "_view_name": "HBoxView",
            "box_style": "",
            "children": [
              "IPY_MODEL_3da1ae02538842a28cdcbbe8aa1a32e3",
              "IPY_MODEL_ece30c045e28491699b4a5b6b1018a92",
              "IPY_MODEL_0f915896af824ba98bed25b264d3da62"
            ],
            "layout": "IPY_MODEL_4073d95fdb7c4368a8e80642c2868beb"
          }
        },
        "3da1ae02538842a28cdcbbe8aa1a32e3": {
          "model_module": "@jupyter-widgets/controls",
          "model_name": "HTMLModel",
          "model_module_version": "1.5.0",
          "state": {
            "_dom_classes": [],
            "_model_module": "@jupyter-widgets/controls",
            "_model_module_version": "1.5.0",
            "_model_name": "HTMLModel",
            "_view_count": null,
            "_view_module": "@jupyter-widgets/controls",
            "_view_module_version": "1.5.0",
            "_view_name": "HTMLView",
            "description": "",
            "description_tooltip": null,
            "layout": "IPY_MODEL_95e9f499eb7f41e987d8945214b140b9",
            "placeholder": "​",
            "style": "IPY_MODEL_2e9b919f5d2642d8976ed4a7018c2755",
            "value": "Downloading (…)&quot;pytorch_model.bin&quot;;: 100%"
          }
        },
        "ece30c045e28491699b4a5b6b1018a92": {
          "model_module": "@jupyter-widgets/controls",
          "model_name": "FloatProgressModel",
          "model_module_version": "1.5.0",
          "state": {
            "_dom_classes": [],
            "_model_module": "@jupyter-widgets/controls",
            "_model_module_version": "1.5.0",
            "_model_name": "FloatProgressModel",
            "_view_count": null,
            "_view_module": "@jupyter-widgets/controls",
            "_view_module_version": "1.5.0",
            "_view_name": "ProgressView",
            "bar_style": "success",
            "description": "",
            "description_tooltip": null,
            "layout": "IPY_MODEL_640f37890b134186903fbf18065cc24e",
            "max": 242071641,
            "min": 0,
            "orientation": "horizontal",
            "style": "IPY_MODEL_5f1efa5a8f3e416da9946b48df702927",
            "value": 242071641
          }
        },
        "0f915896af824ba98bed25b264d3da62": {
          "model_module": "@jupyter-widgets/controls",
          "model_name": "HTMLModel",
          "model_module_version": "1.5.0",
          "state": {
            "_dom_classes": [],
            "_model_module": "@jupyter-widgets/controls",
            "_model_module_version": "1.5.0",
            "_model_name": "HTMLModel",
            "_view_count": null,
            "_view_module": "@jupyter-widgets/controls",
            "_view_module_version": "1.5.0",
            "_view_name": "HTMLView",
            "description": "",
            "description_tooltip": null,
            "layout": "IPY_MODEL_9454a3c24c004e05b953912416b661bf",
            "placeholder": "​",
            "style": "IPY_MODEL_cc5b7b6390a74621a9c28d6daacdb66e",
            "value": " 242M/242M [00:05&lt;00:00, 54.1MB/s]"
          }
        },
        "4073d95fdb7c4368a8e80642c2868beb": {
          "model_module": "@jupyter-widgets/base",
          "model_name": "LayoutModel",
          "model_module_version": "1.2.0",
          "state": {
            "_model_module": "@jupyter-widgets/base",
            "_model_module_version": "1.2.0",
            "_model_name": "LayoutModel",
            "_view_count": null,
            "_view_module": "@jupyter-widgets/base",
            "_view_module_version": "1.2.0",
            "_view_name": "LayoutView",
            "align_content": null,
            "align_items": null,
            "align_self": null,
            "border": null,
            "bottom": null,
            "display": null,
            "flex": null,
            "flex_flow": null,
            "grid_area": null,
            "grid_auto_columns": null,
            "grid_auto_flow": null,
            "grid_auto_rows": null,
            "grid_column": null,
            "grid_gap": null,
            "grid_row": null,
            "grid_template_areas": null,
            "grid_template_columns": null,
            "grid_template_rows": null,
            "height": null,
            "justify_content": null,
            "justify_items": null,
            "left": null,
            "margin": null,
            "max_height": null,
            "max_width": null,
            "min_height": null,
            "min_width": null,
            "object_fit": null,
            "object_position": null,
            "order": null,
            "overflow": null,
            "overflow_x": null,
            "overflow_y": null,
            "padding": null,
            "right": null,
            "top": null,
            "visibility": null,
            "width": null
          }
        },
        "95e9f499eb7f41e987d8945214b140b9": {
          "model_module": "@jupyter-widgets/base",
          "model_name": "LayoutModel",
          "model_module_version": "1.2.0",
          "state": {
            "_model_module": "@jupyter-widgets/base",
            "_model_module_version": "1.2.0",
            "_model_name": "LayoutModel",
            "_view_count": null,
            "_view_module": "@jupyter-widgets/base",
            "_view_module_version": "1.2.0",
            "_view_name": "LayoutView",
            "align_content": null,
            "align_items": null,
            "align_self": null,
            "border": null,
            "bottom": null,
            "display": null,
            "flex": null,
            "flex_flow": null,
            "grid_area": null,
            "grid_auto_columns": null,
            "grid_auto_flow": null,
            "grid_auto_rows": null,
            "grid_column": null,
            "grid_gap": null,
            "grid_row": null,
            "grid_template_areas": null,
            "grid_template_columns": null,
            "grid_template_rows": null,
            "height": null,
            "justify_content": null,
            "justify_items": null,
            "left": null,
            "margin": null,
            "max_height": null,
            "max_width": null,
            "min_height": null,
            "min_width": null,
            "object_fit": null,
            "object_position": null,
            "order": null,
            "overflow": null,
            "overflow_x": null,
            "overflow_y": null,
            "padding": null,
            "right": null,
            "top": null,
            "visibility": null,
            "width": null
          }
        },
        "2e9b919f5d2642d8976ed4a7018c2755": {
          "model_module": "@jupyter-widgets/controls",
          "model_name": "DescriptionStyleModel",
          "model_module_version": "1.5.0",
          "state": {
            "_model_module": "@jupyter-widgets/controls",
            "_model_module_version": "1.5.0",
            "_model_name": "DescriptionStyleModel",
            "_view_count": null,
            "_view_module": "@jupyter-widgets/base",
            "_view_module_version": "1.2.0",
            "_view_name": "StyleView",
            "description_width": ""
          }
        },
        "640f37890b134186903fbf18065cc24e": {
          "model_module": "@jupyter-widgets/base",
          "model_name": "LayoutModel",
          "model_module_version": "1.2.0",
          "state": {
            "_model_module": "@jupyter-widgets/base",
            "_model_module_version": "1.2.0",
            "_model_name": "LayoutModel",
            "_view_count": null,
            "_view_module": "@jupyter-widgets/base",
            "_view_module_version": "1.2.0",
            "_view_name": "LayoutView",
            "align_content": null,
            "align_items": null,
            "align_self": null,
            "border": null,
            "bottom": null,
            "display": null,
            "flex": null,
            "flex_flow": null,
            "grid_area": null,
            "grid_auto_columns": null,
            "grid_auto_flow": null,
            "grid_auto_rows": null,
            "grid_column": null,
            "grid_gap": null,
            "grid_row": null,
            "grid_template_areas": null,
            "grid_template_columns": null,
            "grid_template_rows": null,
            "height": null,
            "justify_content": null,
            "justify_items": null,
            "left": null,
            "margin": null,
            "max_height": null,
            "max_width": null,
            "min_height": null,
            "min_width": null,
            "object_fit": null,
            "object_position": null,
            "order": null,
            "overflow": null,
            "overflow_x": null,
            "overflow_y": null,
            "padding": null,
            "right": null,
            "top": null,
            "visibility": null,
            "width": null
          }
        },
        "5f1efa5a8f3e416da9946b48df702927": {
          "model_module": "@jupyter-widgets/controls",
          "model_name": "ProgressStyleModel",
          "model_module_version": "1.5.0",
          "state": {
            "_model_module": "@jupyter-widgets/controls",
            "_model_module_version": "1.5.0",
            "_model_name": "ProgressStyleModel",
            "_view_count": null,
            "_view_module": "@jupyter-widgets/base",
            "_view_module_version": "1.2.0",
            "_view_name": "StyleView",
            "bar_color": null,
            "description_width": ""
          }
        },
        "9454a3c24c004e05b953912416b661bf": {
          "model_module": "@jupyter-widgets/base",
          "model_name": "LayoutModel",
          "model_module_version": "1.2.0",
          "state": {
            "_model_module": "@jupyter-widgets/base",
            "_model_module_version": "1.2.0",
            "_model_name": "LayoutModel",
            "_view_count": null,
            "_view_module": "@jupyter-widgets/base",
            "_view_module_version": "1.2.0",
            "_view_name": "LayoutView",
            "align_content": null,
            "align_items": null,
            "align_self": null,
            "border": null,
            "bottom": null,
            "display": null,
            "flex": null,
            "flex_flow": null,
            "grid_area": null,
            "grid_auto_columns": null,
            "grid_auto_flow": null,
            "grid_auto_rows": null,
            "grid_column": null,
            "grid_gap": null,
            "grid_row": null,
            "grid_template_areas": null,
            "grid_template_columns": null,
            "grid_template_rows": null,
            "height": null,
            "justify_content": null,
            "justify_items": null,
            "left": null,
            "margin": null,
            "max_height": null,
            "max_width": null,
            "min_height": null,
            "min_width": null,
            "object_fit": null,
            "object_position": null,
            "order": null,
            "overflow": null,
            "overflow_x": null,
            "overflow_y": null,
            "padding": null,
            "right": null,
            "top": null,
            "visibility": null,
            "width": null
          }
        },
        "cc5b7b6390a74621a9c28d6daacdb66e": {
          "model_module": "@jupyter-widgets/controls",
          "model_name": "DescriptionStyleModel",
          "model_module_version": "1.5.0",
          "state": {
            "_model_module": "@jupyter-widgets/controls",
            "_model_module_version": "1.5.0",
            "_model_name": "DescriptionStyleModel",
            "_view_count": null,
            "_view_module": "@jupyter-widgets/base",
            "_view_module_version": "1.2.0",
            "_view_name": "StyleView",
            "description_width": ""
          }
        },
        "cd6f4af2e46445c1a41d96e2ec25aa91": {
          "model_module": "@jupyter-widgets/controls",
          "model_name": "HBoxModel",
          "model_module_version": "1.5.0",
          "state": {
            "_dom_classes": [],
            "_model_module": "@jupyter-widgets/controls",
            "_model_module_version": "1.5.0",
            "_model_name": "HBoxModel",
            "_view_count": null,
            "_view_module": "@jupyter-widgets/controls",
            "_view_module_version": "1.5.0",
            "_view_name": "HBoxView",
            "box_style": "",
            "children": [
              "IPY_MODEL_a0193e5a98d548349678501fb0dcd9db",
              "IPY_MODEL_46285618fe96487a9918349a8aedb8f4",
              "IPY_MODEL_4c3cb949d8524473b82acce3678e4281"
            ],
            "layout": "IPY_MODEL_abdad9e5c5d74b0e84e6e50ba090686d"
          }
        },
        "a0193e5a98d548349678501fb0dcd9db": {
          "model_module": "@jupyter-widgets/controls",
          "model_name": "HTMLModel",
          "model_module_version": "1.5.0",
          "state": {
            "_dom_classes": [],
            "_model_module": "@jupyter-widgets/controls",
            "_model_module_version": "1.5.0",
            "_model_name": "HTMLModel",
            "_view_count": null,
            "_view_module": "@jupyter-widgets/controls",
            "_view_module_version": "1.5.0",
            "_view_name": "HTMLView",
            "description": "",
            "description_tooltip": null,
            "layout": "IPY_MODEL_87614abb7181431ca18b7e198ca54e06",
            "placeholder": "​",
            "style": "IPY_MODEL_7b74203560284a4db49fca6e885f4e0e",
            "value": "Downloading (…)neration_config.json: 100%"
          }
        },
        "46285618fe96487a9918349a8aedb8f4": {
          "model_module": "@jupyter-widgets/controls",
          "model_name": "FloatProgressModel",
          "model_module_version": "1.5.0",
          "state": {
            "_dom_classes": [],
            "_model_module": "@jupyter-widgets/controls",
            "_model_module_version": "1.5.0",
            "_model_name": "FloatProgressModel",
            "_view_count": null,
            "_view_module": "@jupyter-widgets/controls",
            "_view_module_version": "1.5.0",
            "_view_name": "ProgressView",
            "bar_style": "success",
            "description": "",
            "description_tooltip": null,
            "layout": "IPY_MODEL_d2d24fc48f134f4abb49e7addadf2b9c",
            "max": 142,
            "min": 0,
            "orientation": "horizontal",
            "style": "IPY_MODEL_146eb3e8869a4f32b48bbb08edf81480",
            "value": 142
          }
        },
        "4c3cb949d8524473b82acce3678e4281": {
          "model_module": "@jupyter-widgets/controls",
          "model_name": "HTMLModel",
          "model_module_version": "1.5.0",
          "state": {
            "_dom_classes": [],
            "_model_module": "@jupyter-widgets/controls",
            "_model_module_version": "1.5.0",
            "_model_name": "HTMLModel",
            "_view_count": null,
            "_view_module": "@jupyter-widgets/controls",
            "_view_module_version": "1.5.0",
            "_view_name": "HTMLView",
            "description": "",
            "description_tooltip": null,
            "layout": "IPY_MODEL_db56911d8e6746ee81e5a3f3a5002a61",
            "placeholder": "​",
            "style": "IPY_MODEL_59d1154b36164d4eaab8552bda00cc5e",
            "value": " 142/142 [00:00&lt;00:00, 6.32kB/s]"
          }
        },
        "abdad9e5c5d74b0e84e6e50ba090686d": {
          "model_module": "@jupyter-widgets/base",
          "model_name": "LayoutModel",
          "model_module_version": "1.2.0",
          "state": {
            "_model_module": "@jupyter-widgets/base",
            "_model_module_version": "1.2.0",
            "_model_name": "LayoutModel",
            "_view_count": null,
            "_view_module": "@jupyter-widgets/base",
            "_view_module_version": "1.2.0",
            "_view_name": "LayoutView",
            "align_content": null,
            "align_items": null,
            "align_self": null,
            "border": null,
            "bottom": null,
            "display": null,
            "flex": null,
            "flex_flow": null,
            "grid_area": null,
            "grid_auto_columns": null,
            "grid_auto_flow": null,
            "grid_auto_rows": null,
            "grid_column": null,
            "grid_gap": null,
            "grid_row": null,
            "grid_template_areas": null,
            "grid_template_columns": null,
            "grid_template_rows": null,
            "height": null,
            "justify_content": null,
            "justify_items": null,
            "left": null,
            "margin": null,
            "max_height": null,
            "max_width": null,
            "min_height": null,
            "min_width": null,
            "object_fit": null,
            "object_position": null,
            "order": null,
            "overflow": null,
            "overflow_x": null,
            "overflow_y": null,
            "padding": null,
            "right": null,
            "top": null,
            "visibility": null,
            "width": null
          }
        },
        "87614abb7181431ca18b7e198ca54e06": {
          "model_module": "@jupyter-widgets/base",
          "model_name": "LayoutModel",
          "model_module_version": "1.2.0",
          "state": {
            "_model_module": "@jupyter-widgets/base",
            "_model_module_version": "1.2.0",
            "_model_name": "LayoutModel",
            "_view_count": null,
            "_view_module": "@jupyter-widgets/base",
            "_view_module_version": "1.2.0",
            "_view_name": "LayoutView",
            "align_content": null,
            "align_items": null,
            "align_self": null,
            "border": null,
            "bottom": null,
            "display": null,
            "flex": null,
            "flex_flow": null,
            "grid_area": null,
            "grid_auto_columns": null,
            "grid_auto_flow": null,
            "grid_auto_rows": null,
            "grid_column": null,
            "grid_gap": null,
            "grid_row": null,
            "grid_template_areas": null,
            "grid_template_columns": null,
            "grid_template_rows": null,
            "height": null,
            "justify_content": null,
            "justify_items": null,
            "left": null,
            "margin": null,
            "max_height": null,
            "max_width": null,
            "min_height": null,
            "min_width": null,
            "object_fit": null,
            "object_position": null,
            "order": null,
            "overflow": null,
            "overflow_x": null,
            "overflow_y": null,
            "padding": null,
            "right": null,
            "top": null,
            "visibility": null,
            "width": null
          }
        },
        "7b74203560284a4db49fca6e885f4e0e": {
          "model_module": "@jupyter-widgets/controls",
          "model_name": "DescriptionStyleModel",
          "model_module_version": "1.5.0",
          "state": {
            "_model_module": "@jupyter-widgets/controls",
            "_model_module_version": "1.5.0",
            "_model_name": "DescriptionStyleModel",
            "_view_count": null,
            "_view_module": "@jupyter-widgets/base",
            "_view_module_version": "1.2.0",
            "_view_name": "StyleView",
            "description_width": ""
          }
        },
        "d2d24fc48f134f4abb49e7addadf2b9c": {
          "model_module": "@jupyter-widgets/base",
          "model_name": "LayoutModel",
          "model_module_version": "1.2.0",
          "state": {
            "_model_module": "@jupyter-widgets/base",
            "_model_module_version": "1.2.0",
            "_model_name": "LayoutModel",
            "_view_count": null,
            "_view_module": "@jupyter-widgets/base",
            "_view_module_version": "1.2.0",
            "_view_name": "LayoutView",
            "align_content": null,
            "align_items": null,
            "align_self": null,
            "border": null,
            "bottom": null,
            "display": null,
            "flex": null,
            "flex_flow": null,
            "grid_area": null,
            "grid_auto_columns": null,
            "grid_auto_flow": null,
            "grid_auto_rows": null,
            "grid_column": null,
            "grid_gap": null,
            "grid_row": null,
            "grid_template_areas": null,
            "grid_template_columns": null,
            "grid_template_rows": null,
            "height": null,
            "justify_content": null,
            "justify_items": null,
            "left": null,
            "margin": null,
            "max_height": null,
            "max_width": null,
            "min_height": null,
            "min_width": null,
            "object_fit": null,
            "object_position": null,
            "order": null,
            "overflow": null,
            "overflow_x": null,
            "overflow_y": null,
            "padding": null,
            "right": null,
            "top": null,
            "visibility": null,
            "width": null
          }
        },
        "146eb3e8869a4f32b48bbb08edf81480": {
          "model_module": "@jupyter-widgets/controls",
          "model_name": "ProgressStyleModel",
          "model_module_version": "1.5.0",
          "state": {
            "_model_module": "@jupyter-widgets/controls",
            "_model_module_version": "1.5.0",
            "_model_name": "ProgressStyleModel",
            "_view_count": null,
            "_view_module": "@jupyter-widgets/base",
            "_view_module_version": "1.2.0",
            "_view_name": "StyleView",
            "bar_color": null,
            "description_width": ""
          }
        },
        "db56911d8e6746ee81e5a3f3a5002a61": {
          "model_module": "@jupyter-widgets/base",
          "model_name": "LayoutModel",
          "model_module_version": "1.2.0",
          "state": {
            "_model_module": "@jupyter-widgets/base",
            "_model_module_version": "1.2.0",
            "_model_name": "LayoutModel",
            "_view_count": null,
            "_view_module": "@jupyter-widgets/base",
            "_view_module_version": "1.2.0",
            "_view_name": "LayoutView",
            "align_content": null,
            "align_items": null,
            "align_self": null,
            "border": null,
            "bottom": null,
            "display": null,
            "flex": null,
            "flex_flow": null,
            "grid_area": null,
            "grid_auto_columns": null,
            "grid_auto_flow": null,
            "grid_auto_rows": null,
            "grid_column": null,
            "grid_gap": null,
            "grid_row": null,
            "grid_template_areas": null,
            "grid_template_columns": null,
            "grid_template_rows": null,
            "height": null,
            "justify_content": null,
            "justify_items": null,
            "left": null,
            "margin": null,
            "max_height": null,
            "max_width": null,
            "min_height": null,
            "min_width": null,
            "object_fit": null,
            "object_position": null,
            "order": null,
            "overflow": null,
            "overflow_x": null,
            "overflow_y": null,
            "padding": null,
            "right": null,
            "top": null,
            "visibility": null,
            "width": null
          }
        },
        "59d1154b36164d4eaab8552bda00cc5e": {
          "model_module": "@jupyter-widgets/controls",
          "model_name": "DescriptionStyleModel",
          "model_module_version": "1.5.0",
          "state": {
            "_model_module": "@jupyter-widgets/controls",
            "_model_module_version": "1.5.0",
            "_model_name": "DescriptionStyleModel",
            "_view_count": null,
            "_view_module": "@jupyter-widgets/base",
            "_view_module_version": "1.2.0",
            "_view_name": "StyleView",
            "description_width": ""
          }
        },
        "30b0bd343e424227995a643ee750e9ad": {
          "model_module": "@jupyter-widgets/controls",
          "model_name": "HBoxModel",
          "model_module_version": "1.5.0",
          "state": {
            "_dom_classes": [],
            "_model_module": "@jupyter-widgets/controls",
            "_model_module_version": "1.5.0",
            "_model_name": "HBoxModel",
            "_view_count": null,
            "_view_module": "@jupyter-widgets/controls",
            "_view_module_version": "1.5.0",
            "_view_name": "HBoxView",
            "box_style": "",
            "children": [
              "IPY_MODEL_3fd6bfed7d5a45c1b2f00bf9437f5c37",
              "IPY_MODEL_34f6820ded51499281b599445b1234e2",
              "IPY_MODEL_0b809f5f8c5348bbbcd9e430e4dc38b8"
            ],
            "layout": "IPY_MODEL_885cea1ab8e6484db05334f31f59af6f"
          }
        },
        "3fd6bfed7d5a45c1b2f00bf9437f5c37": {
          "model_module": "@jupyter-widgets/controls",
          "model_name": "HTMLModel",
          "model_module_version": "1.5.0",
          "state": {
            "_dom_classes": [],
            "_model_module": "@jupyter-widgets/controls",
            "_model_module_version": "1.5.0",
            "_model_name": "HTMLModel",
            "_view_count": null,
            "_view_module": "@jupyter-widgets/controls",
            "_view_module_version": "1.5.0",
            "_view_name": "HTMLView",
            "description": "",
            "description_tooltip": null,
            "layout": "IPY_MODEL_2ee9018c379e430898d7568ccf7e0909",
            "placeholder": "​",
            "style": "IPY_MODEL_3abe61ab0f1b45f69576e03972b55ec6",
            "value": "Downloading (…)okenizer_config.json: 100%"
          }
        },
        "34f6820ded51499281b599445b1234e2": {
          "model_module": "@jupyter-widgets/controls",
          "model_name": "FloatProgressModel",
          "model_module_version": "1.5.0",
          "state": {
            "_dom_classes": [],
            "_model_module": "@jupyter-widgets/controls",
            "_model_module_version": "1.5.0",
            "_model_name": "FloatProgressModel",
            "_view_count": null,
            "_view_module": "@jupyter-widgets/controls",
            "_view_module_version": "1.5.0",
            "_view_name": "ProgressView",
            "bar_style": "success",
            "description": "",
            "description_tooltip": null,
            "layout": "IPY_MODEL_7918249e5ead4c1a8b1df569177e627d",
            "max": 2323,
            "min": 0,
            "orientation": "horizontal",
            "style": "IPY_MODEL_0427f51c61d948ef923d8f3d37330824",
            "value": 2323
          }
        },
        "0b809f5f8c5348bbbcd9e430e4dc38b8": {
          "model_module": "@jupyter-widgets/controls",
          "model_name": "HTMLModel",
          "model_module_version": "1.5.0",
          "state": {
            "_dom_classes": [],
            "_model_module": "@jupyter-widgets/controls",
            "_model_module_version": "1.5.0",
            "_model_name": "HTMLModel",
            "_view_count": null,
            "_view_module": "@jupyter-widgets/controls",
            "_view_module_version": "1.5.0",
            "_view_name": "HTMLView",
            "description": "",
            "description_tooltip": null,
            "layout": "IPY_MODEL_415db4cae739477d830e6dceaad0e42d",
            "placeholder": "​",
            "style": "IPY_MODEL_abb8d58cb0ed496caa0340520232e9e1",
            "value": " 2.32k/2.32k [00:00&lt;00:00, 112kB/s]"
          }
        },
        "885cea1ab8e6484db05334f31f59af6f": {
          "model_module": "@jupyter-widgets/base",
          "model_name": "LayoutModel",
          "model_module_version": "1.2.0",
          "state": {
            "_model_module": "@jupyter-widgets/base",
            "_model_module_version": "1.2.0",
            "_model_name": "LayoutModel",
            "_view_count": null,
            "_view_module": "@jupyter-widgets/base",
            "_view_module_version": "1.2.0",
            "_view_name": "LayoutView",
            "align_content": null,
            "align_items": null,
            "align_self": null,
            "border": null,
            "bottom": null,
            "display": null,
            "flex": null,
            "flex_flow": null,
            "grid_area": null,
            "grid_auto_columns": null,
            "grid_auto_flow": null,
            "grid_auto_rows": null,
            "grid_column": null,
            "grid_gap": null,
            "grid_row": null,
            "grid_template_areas": null,
            "grid_template_columns": null,
            "grid_template_rows": null,
            "height": null,
            "justify_content": null,
            "justify_items": null,
            "left": null,
            "margin": null,
            "max_height": null,
            "max_width": null,
            "min_height": null,
            "min_width": null,
            "object_fit": null,
            "object_position": null,
            "order": null,
            "overflow": null,
            "overflow_x": null,
            "overflow_y": null,
            "padding": null,
            "right": null,
            "top": null,
            "visibility": null,
            "width": null
          }
        },
        "2ee9018c379e430898d7568ccf7e0909": {
          "model_module": "@jupyter-widgets/base",
          "model_name": "LayoutModel",
          "model_module_version": "1.2.0",
          "state": {
            "_model_module": "@jupyter-widgets/base",
            "_model_module_version": "1.2.0",
            "_model_name": "LayoutModel",
            "_view_count": null,
            "_view_module": "@jupyter-widgets/base",
            "_view_module_version": "1.2.0",
            "_view_name": "LayoutView",
            "align_content": null,
            "align_items": null,
            "align_self": null,
            "border": null,
            "bottom": null,
            "display": null,
            "flex": null,
            "flex_flow": null,
            "grid_area": null,
            "grid_auto_columns": null,
            "grid_auto_flow": null,
            "grid_auto_rows": null,
            "grid_column": null,
            "grid_gap": null,
            "grid_row": null,
            "grid_template_areas": null,
            "grid_template_columns": null,
            "grid_template_rows": null,
            "height": null,
            "justify_content": null,
            "justify_items": null,
            "left": null,
            "margin": null,
            "max_height": null,
            "max_width": null,
            "min_height": null,
            "min_width": null,
            "object_fit": null,
            "object_position": null,
            "order": null,
            "overflow": null,
            "overflow_x": null,
            "overflow_y": null,
            "padding": null,
            "right": null,
            "top": null,
            "visibility": null,
            "width": null
          }
        },
        "3abe61ab0f1b45f69576e03972b55ec6": {
          "model_module": "@jupyter-widgets/controls",
          "model_name": "DescriptionStyleModel",
          "model_module_version": "1.5.0",
          "state": {
            "_model_module": "@jupyter-widgets/controls",
            "_model_module_version": "1.5.0",
            "_model_name": "DescriptionStyleModel",
            "_view_count": null,
            "_view_module": "@jupyter-widgets/base",
            "_view_module_version": "1.2.0",
            "_view_name": "StyleView",
            "description_width": ""
          }
        },
        "7918249e5ead4c1a8b1df569177e627d": {
          "model_module": "@jupyter-widgets/base",
          "model_name": "LayoutModel",
          "model_module_version": "1.2.0",
          "state": {
            "_model_module": "@jupyter-widgets/base",
            "_model_module_version": "1.2.0",
            "_model_name": "LayoutModel",
            "_view_count": null,
            "_view_module": "@jupyter-widgets/base",
            "_view_module_version": "1.2.0",
            "_view_name": "LayoutView",
            "align_content": null,
            "align_items": null,
            "align_self": null,
            "border": null,
            "bottom": null,
            "display": null,
            "flex": null,
            "flex_flow": null,
            "grid_area": null,
            "grid_auto_columns": null,
            "grid_auto_flow": null,
            "grid_auto_rows": null,
            "grid_column": null,
            "grid_gap": null,
            "grid_row": null,
            "grid_template_areas": null,
            "grid_template_columns": null,
            "grid_template_rows": null,
            "height": null,
            "justify_content": null,
            "justify_items": null,
            "left": null,
            "margin": null,
            "max_height": null,
            "max_width": null,
            "min_height": null,
            "min_width": null,
            "object_fit": null,
            "object_position": null,
            "order": null,
            "overflow": null,
            "overflow_x": null,
            "overflow_y": null,
            "padding": null,
            "right": null,
            "top": null,
            "visibility": null,
            "width": null
          }
        },
        "0427f51c61d948ef923d8f3d37330824": {
          "model_module": "@jupyter-widgets/controls",
          "model_name": "ProgressStyleModel",
          "model_module_version": "1.5.0",
          "state": {
            "_model_module": "@jupyter-widgets/controls",
            "_model_module_version": "1.5.0",
            "_model_name": "ProgressStyleModel",
            "_view_count": null,
            "_view_module": "@jupyter-widgets/base",
            "_view_module_version": "1.2.0",
            "_view_name": "StyleView",
            "bar_color": null,
            "description_width": ""
          }
        },
        "415db4cae739477d830e6dceaad0e42d": {
          "model_module": "@jupyter-widgets/base",
          "model_name": "LayoutModel",
          "model_module_version": "1.2.0",
          "state": {
            "_model_module": "@jupyter-widgets/base",
            "_model_module_version": "1.2.0",
            "_model_name": "LayoutModel",
            "_view_count": null,
            "_view_module": "@jupyter-widgets/base",
            "_view_module_version": "1.2.0",
            "_view_name": "LayoutView",
            "align_content": null,
            "align_items": null,
            "align_self": null,
            "border": null,
            "bottom": null,
            "display": null,
            "flex": null,
            "flex_flow": null,
            "grid_area": null,
            "grid_auto_columns": null,
            "grid_auto_flow": null,
            "grid_auto_rows": null,
            "grid_column": null,
            "grid_gap": null,
            "grid_row": null,
            "grid_template_areas": null,
            "grid_template_columns": null,
            "grid_template_rows": null,
            "height": null,
            "justify_content": null,
            "justify_items": null,
            "left": null,
            "margin": null,
            "max_height": null,
            "max_width": null,
            "min_height": null,
            "min_width": null,
            "object_fit": null,
            "object_position": null,
            "order": null,
            "overflow": null,
            "overflow_x": null,
            "overflow_y": null,
            "padding": null,
            "right": null,
            "top": null,
            "visibility": null,
            "width": null
          }
        },
        "abb8d58cb0ed496caa0340520232e9e1": {
          "model_module": "@jupyter-widgets/controls",
          "model_name": "DescriptionStyleModel",
          "model_module_version": "1.5.0",
          "state": {
            "_model_module": "@jupyter-widgets/controls",
            "_model_module_version": "1.5.0",
            "_model_name": "DescriptionStyleModel",
            "_view_count": null,
            "_view_module": "@jupyter-widgets/base",
            "_view_module_version": "1.2.0",
            "_view_name": "StyleView",
            "description_width": ""
          }
        },
        "9215c7e2db3c4236bb96074ddfeed018": {
          "model_module": "@jupyter-widgets/controls",
          "model_name": "HBoxModel",
          "model_module_version": "1.5.0",
          "state": {
            "_dom_classes": [],
            "_model_module": "@jupyter-widgets/controls",
            "_model_module_version": "1.5.0",
            "_model_name": "HBoxModel",
            "_view_count": null,
            "_view_module": "@jupyter-widgets/controls",
            "_view_module_version": "1.5.0",
            "_view_name": "HBoxView",
            "box_style": "",
            "children": [
              "IPY_MODEL_e125cea7a5364e0d8379cee8d6bf7217",
              "IPY_MODEL_d43a1d9c8daa43e49f5e2f0695f9e5e9",
              "IPY_MODEL_0f8cbfd9866149e79dd49ef92f6c10f5"
            ],
            "layout": "IPY_MODEL_7ff7eebbc8714e1bb1465353b50cc644"
          }
        },
        "e125cea7a5364e0d8379cee8d6bf7217": {
          "model_module": "@jupyter-widgets/controls",
          "model_name": "HTMLModel",
          "model_module_version": "1.5.0",
          "state": {
            "_dom_classes": [],
            "_model_module": "@jupyter-widgets/controls",
            "_model_module_version": "1.5.0",
            "_model_name": "HTMLModel",
            "_view_count": null,
            "_view_module": "@jupyter-widgets/controls",
            "_view_module_version": "1.5.0",
            "_view_name": "HTMLView",
            "description": "",
            "description_tooltip": null,
            "layout": "IPY_MODEL_2252990238af4388bec95adbd4879c3c",
            "placeholder": "​",
            "style": "IPY_MODEL_89f6f2e3d8d84a149329ab94613b1a04",
            "value": "Downloading (…)/main/tokenizer.json: 100%"
          }
        },
        "d43a1d9c8daa43e49f5e2f0695f9e5e9": {
          "model_module": "@jupyter-widgets/controls",
          "model_name": "FloatProgressModel",
          "model_module_version": "1.5.0",
          "state": {
            "_dom_classes": [],
            "_model_module": "@jupyter-widgets/controls",
            "_model_module_version": "1.5.0",
            "_model_name": "FloatProgressModel",
            "_view_count": null,
            "_view_module": "@jupyter-widgets/controls",
            "_view_module_version": "1.5.0",
            "_view_name": "ProgressView",
            "bar_style": "success",
            "description": "",
            "description_tooltip": null,
            "layout": "IPY_MODEL_6838dfef2a5f43f390869411e479b008",
            "max": 2422193,
            "min": 0,
            "orientation": "horizontal",
            "style": "IPY_MODEL_41aada6034444dd5b9c8267d72a313cc",
            "value": 2422193
          }
        },
        "0f8cbfd9866149e79dd49ef92f6c10f5": {
          "model_module": "@jupyter-widgets/controls",
          "model_name": "HTMLModel",
          "model_module_version": "1.5.0",
          "state": {
            "_dom_classes": [],
            "_model_module": "@jupyter-widgets/controls",
            "_model_module_version": "1.5.0",
            "_model_name": "HTMLModel",
            "_view_count": null,
            "_view_module": "@jupyter-widgets/controls",
            "_view_module_version": "1.5.0",
            "_view_name": "HTMLView",
            "description": "",
            "description_tooltip": null,
            "layout": "IPY_MODEL_51e902b2a12e4a6cac0b76673ba21581",
            "placeholder": "​",
            "style": "IPY_MODEL_676bf5a219524f318a3e06d632058536",
            "value": " 2.42M/2.42M [00:00&lt;00:00, 5.58MB/s]"
          }
        },
        "7ff7eebbc8714e1bb1465353b50cc644": {
          "model_module": "@jupyter-widgets/base",
          "model_name": "LayoutModel",
          "model_module_version": "1.2.0",
          "state": {
            "_model_module": "@jupyter-widgets/base",
            "_model_module_version": "1.2.0",
            "_model_name": "LayoutModel",
            "_view_count": null,
            "_view_module": "@jupyter-widgets/base",
            "_view_module_version": "1.2.0",
            "_view_name": "LayoutView",
            "align_content": null,
            "align_items": null,
            "align_self": null,
            "border": null,
            "bottom": null,
            "display": null,
            "flex": null,
            "flex_flow": null,
            "grid_area": null,
            "grid_auto_columns": null,
            "grid_auto_flow": null,
            "grid_auto_rows": null,
            "grid_column": null,
            "grid_gap": null,
            "grid_row": null,
            "grid_template_areas": null,
            "grid_template_columns": null,
            "grid_template_rows": null,
            "height": null,
            "justify_content": null,
            "justify_items": null,
            "left": null,
            "margin": null,
            "max_height": null,
            "max_width": null,
            "min_height": null,
            "min_width": null,
            "object_fit": null,
            "object_position": null,
            "order": null,
            "overflow": null,
            "overflow_x": null,
            "overflow_y": null,
            "padding": null,
            "right": null,
            "top": null,
            "visibility": null,
            "width": null
          }
        },
        "2252990238af4388bec95adbd4879c3c": {
          "model_module": "@jupyter-widgets/base",
          "model_name": "LayoutModel",
          "model_module_version": "1.2.0",
          "state": {
            "_model_module": "@jupyter-widgets/base",
            "_model_module_version": "1.2.0",
            "_model_name": "LayoutModel",
            "_view_count": null,
            "_view_module": "@jupyter-widgets/base",
            "_view_module_version": "1.2.0",
            "_view_name": "LayoutView",
            "align_content": null,
            "align_items": null,
            "align_self": null,
            "border": null,
            "bottom": null,
            "display": null,
            "flex": null,
            "flex_flow": null,
            "grid_area": null,
            "grid_auto_columns": null,
            "grid_auto_flow": null,
            "grid_auto_rows": null,
            "grid_column": null,
            "grid_gap": null,
            "grid_row": null,
            "grid_template_areas": null,
            "grid_template_columns": null,
            "grid_template_rows": null,
            "height": null,
            "justify_content": null,
            "justify_items": null,
            "left": null,
            "margin": null,
            "max_height": null,
            "max_width": null,
            "min_height": null,
            "min_width": null,
            "object_fit": null,
            "object_position": null,
            "order": null,
            "overflow": null,
            "overflow_x": null,
            "overflow_y": null,
            "padding": null,
            "right": null,
            "top": null,
            "visibility": null,
            "width": null
          }
        },
        "89f6f2e3d8d84a149329ab94613b1a04": {
          "model_module": "@jupyter-widgets/controls",
          "model_name": "DescriptionStyleModel",
          "model_module_version": "1.5.0",
          "state": {
            "_model_module": "@jupyter-widgets/controls",
            "_model_module_version": "1.5.0",
            "_model_name": "DescriptionStyleModel",
            "_view_count": null,
            "_view_module": "@jupyter-widgets/base",
            "_view_module_version": "1.2.0",
            "_view_name": "StyleView",
            "description_width": ""
          }
        },
        "6838dfef2a5f43f390869411e479b008": {
          "model_module": "@jupyter-widgets/base",
          "model_name": "LayoutModel",
          "model_module_version": "1.2.0",
          "state": {
            "_model_module": "@jupyter-widgets/base",
            "_model_module_version": "1.2.0",
            "_model_name": "LayoutModel",
            "_view_count": null,
            "_view_module": "@jupyter-widgets/base",
            "_view_module_version": "1.2.0",
            "_view_name": "LayoutView",
            "align_content": null,
            "align_items": null,
            "align_self": null,
            "border": null,
            "bottom": null,
            "display": null,
            "flex": null,
            "flex_flow": null,
            "grid_area": null,
            "grid_auto_columns": null,
            "grid_auto_flow": null,
            "grid_auto_rows": null,
            "grid_column": null,
            "grid_gap": null,
            "grid_row": null,
            "grid_template_areas": null,
            "grid_template_columns": null,
            "grid_template_rows": null,
            "height": null,
            "justify_content": null,
            "justify_items": null,
            "left": null,
            "margin": null,
            "max_height": null,
            "max_width": null,
            "min_height": null,
            "min_width": null,
            "object_fit": null,
            "object_position": null,
            "order": null,
            "overflow": null,
            "overflow_x": null,
            "overflow_y": null,
            "padding": null,
            "right": null,
            "top": null,
            "visibility": null,
            "width": null
          }
        },
        "41aada6034444dd5b9c8267d72a313cc": {
          "model_module": "@jupyter-widgets/controls",
          "model_name": "ProgressStyleModel",
          "model_module_version": "1.5.0",
          "state": {
            "_model_module": "@jupyter-widgets/controls",
            "_model_module_version": "1.5.0",
            "_model_name": "ProgressStyleModel",
            "_view_count": null,
            "_view_module": "@jupyter-widgets/base",
            "_view_module_version": "1.2.0",
            "_view_name": "StyleView",
            "bar_color": null,
            "description_width": ""
          }
        },
        "51e902b2a12e4a6cac0b76673ba21581": {
          "model_module": "@jupyter-widgets/base",
          "model_name": "LayoutModel",
          "model_module_version": "1.2.0",
          "state": {
            "_model_module": "@jupyter-widgets/base",
            "_model_module_version": "1.2.0",
            "_model_name": "LayoutModel",
            "_view_count": null,
            "_view_module": "@jupyter-widgets/base",
            "_view_module_version": "1.2.0",
            "_view_name": "LayoutView",
            "align_content": null,
            "align_items": null,
            "align_self": null,
            "border": null,
            "bottom": null,
            "display": null,
            "flex": null,
            "flex_flow": null,
            "grid_area": null,
            "grid_auto_columns": null,
            "grid_auto_flow": null,
            "grid_auto_rows": null,
            "grid_column": null,
            "grid_gap": null,
            "grid_row": null,
            "grid_template_areas": null,
            "grid_template_columns": null,
            "grid_template_rows": null,
            "height": null,
            "justify_content": null,
            "justify_items": null,
            "left": null,
            "margin": null,
            "max_height": null,
            "max_width": null,
            "min_height": null,
            "min_width": null,
            "object_fit": null,
            "object_position": null,
            "order": null,
            "overflow": null,
            "overflow_x": null,
            "overflow_y": null,
            "padding": null,
            "right": null,
            "top": null,
            "visibility": null,
            "width": null
          }
        },
        "676bf5a219524f318a3e06d632058536": {
          "model_module": "@jupyter-widgets/controls",
          "model_name": "DescriptionStyleModel",
          "model_module_version": "1.5.0",
          "state": {
            "_model_module": "@jupyter-widgets/controls",
            "_model_module_version": "1.5.0",
            "_model_name": "DescriptionStyleModel",
            "_view_count": null,
            "_view_module": "@jupyter-widgets/base",
            "_view_module_version": "1.2.0",
            "_view_name": "StyleView",
            "description_width": ""
          }
        },
        "06de1f84c831432a97fd8902c78fdeab": {
          "model_module": "@jupyter-widgets/controls",
          "model_name": "HBoxModel",
          "model_module_version": "1.5.0",
          "state": {
            "_dom_classes": [],
            "_model_module": "@jupyter-widgets/controls",
            "_model_module_version": "1.5.0",
            "_model_name": "HBoxModel",
            "_view_count": null,
            "_view_module": "@jupyter-widgets/controls",
            "_view_module_version": "1.5.0",
            "_view_name": "HBoxView",
            "box_style": "",
            "children": [
              "IPY_MODEL_c7958589091b40fc848ad9ba68f64810",
              "IPY_MODEL_945ae25243204f88bbaa44d4109507b5",
              "IPY_MODEL_2dc6bf59b5514df9b0b06281a224a0f5"
            ],
            "layout": "IPY_MODEL_a50abd9e6dfc49268c2de5d536896ac2"
          }
        },
        "c7958589091b40fc848ad9ba68f64810": {
          "model_module": "@jupyter-widgets/controls",
          "model_name": "HTMLModel",
          "model_module_version": "1.5.0",
          "state": {
            "_dom_classes": [],
            "_model_module": "@jupyter-widgets/controls",
            "_model_module_version": "1.5.0",
            "_model_name": "HTMLModel",
            "_view_count": null,
            "_view_module": "@jupyter-widgets/controls",
            "_view_module_version": "1.5.0",
            "_view_name": "HTMLView",
            "description": "",
            "description_tooltip": null,
            "layout": "IPY_MODEL_7de154850ccb4b8dbb3734c7f12467ca",
            "placeholder": "​",
            "style": "IPY_MODEL_042f25600dbd4fbd8ca65b1bc0a1154e",
            "value": "Downloading (…)cial_tokens_map.json: 100%"
          }
        },
        "945ae25243204f88bbaa44d4109507b5": {
          "model_module": "@jupyter-widgets/controls",
          "model_name": "FloatProgressModel",
          "model_module_version": "1.5.0",
          "state": {
            "_dom_classes": [],
            "_model_module": "@jupyter-widgets/controls",
            "_model_module_version": "1.5.0",
            "_model_name": "FloatProgressModel",
            "_view_count": null,
            "_view_module": "@jupyter-widgets/controls",
            "_view_module_version": "1.5.0",
            "_view_name": "ProgressView",
            "bar_style": "success",
            "description": "",
            "description_tooltip": null,
            "layout": "IPY_MODEL_12ed29debff94c2fafe6d338636ed47e",
            "max": 2201,
            "min": 0,
            "orientation": "horizontal",
            "style": "IPY_MODEL_77630ebfad444b97b6983ab24f765a09",
            "value": 2201
          }
        },
        "2dc6bf59b5514df9b0b06281a224a0f5": {
          "model_module": "@jupyter-widgets/controls",
          "model_name": "HTMLModel",
          "model_module_version": "1.5.0",
          "state": {
            "_dom_classes": [],
            "_model_module": "@jupyter-widgets/controls",
            "_model_module_version": "1.5.0",
            "_model_name": "HTMLModel",
            "_view_count": null,
            "_view_module": "@jupyter-widgets/controls",
            "_view_module_version": "1.5.0",
            "_view_name": "HTMLView",
            "description": "",
            "description_tooltip": null,
            "layout": "IPY_MODEL_abe20557ed494029b3551f7826e042e5",
            "placeholder": "​",
            "style": "IPY_MODEL_598657ce0a294cc5aefbc0c87879dc9f",
            "value": " 2.20k/2.20k [00:00&lt;00:00, 103kB/s]"
          }
        },
        "a50abd9e6dfc49268c2de5d536896ac2": {
          "model_module": "@jupyter-widgets/base",
          "model_name": "LayoutModel",
          "model_module_version": "1.2.0",
          "state": {
            "_model_module": "@jupyter-widgets/base",
            "_model_module_version": "1.2.0",
            "_model_name": "LayoutModel",
            "_view_count": null,
            "_view_module": "@jupyter-widgets/base",
            "_view_module_version": "1.2.0",
            "_view_name": "LayoutView",
            "align_content": null,
            "align_items": null,
            "align_self": null,
            "border": null,
            "bottom": null,
            "display": null,
            "flex": null,
            "flex_flow": null,
            "grid_area": null,
            "grid_auto_columns": null,
            "grid_auto_flow": null,
            "grid_auto_rows": null,
            "grid_column": null,
            "grid_gap": null,
            "grid_row": null,
            "grid_template_areas": null,
            "grid_template_columns": null,
            "grid_template_rows": null,
            "height": null,
            "justify_content": null,
            "justify_items": null,
            "left": null,
            "margin": null,
            "max_height": null,
            "max_width": null,
            "min_height": null,
            "min_width": null,
            "object_fit": null,
            "object_position": null,
            "order": null,
            "overflow": null,
            "overflow_x": null,
            "overflow_y": null,
            "padding": null,
            "right": null,
            "top": null,
            "visibility": null,
            "width": null
          }
        },
        "7de154850ccb4b8dbb3734c7f12467ca": {
          "model_module": "@jupyter-widgets/base",
          "model_name": "LayoutModel",
          "model_module_version": "1.2.0",
          "state": {
            "_model_module": "@jupyter-widgets/base",
            "_model_module_version": "1.2.0",
            "_model_name": "LayoutModel",
            "_view_count": null,
            "_view_module": "@jupyter-widgets/base",
            "_view_module_version": "1.2.0",
            "_view_name": "LayoutView",
            "align_content": null,
            "align_items": null,
            "align_self": null,
            "border": null,
            "bottom": null,
            "display": null,
            "flex": null,
            "flex_flow": null,
            "grid_area": null,
            "grid_auto_columns": null,
            "grid_auto_flow": null,
            "grid_auto_rows": null,
            "grid_column": null,
            "grid_gap": null,
            "grid_row": null,
            "grid_template_areas": null,
            "grid_template_columns": null,
            "grid_template_rows": null,
            "height": null,
            "justify_content": null,
            "justify_items": null,
            "left": null,
            "margin": null,
            "max_height": null,
            "max_width": null,
            "min_height": null,
            "min_width": null,
            "object_fit": null,
            "object_position": null,
            "order": null,
            "overflow": null,
            "overflow_x": null,
            "overflow_y": null,
            "padding": null,
            "right": null,
            "top": null,
            "visibility": null,
            "width": null
          }
        },
        "042f25600dbd4fbd8ca65b1bc0a1154e": {
          "model_module": "@jupyter-widgets/controls",
          "model_name": "DescriptionStyleModel",
          "model_module_version": "1.5.0",
          "state": {
            "_model_module": "@jupyter-widgets/controls",
            "_model_module_version": "1.5.0",
            "_model_name": "DescriptionStyleModel",
            "_view_count": null,
            "_view_module": "@jupyter-widgets/base",
            "_view_module_version": "1.2.0",
            "_view_name": "StyleView",
            "description_width": ""
          }
        },
        "12ed29debff94c2fafe6d338636ed47e": {
          "model_module": "@jupyter-widgets/base",
          "model_name": "LayoutModel",
          "model_module_version": "1.2.0",
          "state": {
            "_model_module": "@jupyter-widgets/base",
            "_model_module_version": "1.2.0",
            "_model_name": "LayoutModel",
            "_view_count": null,
            "_view_module": "@jupyter-widgets/base",
            "_view_module_version": "1.2.0",
            "_view_name": "LayoutView",
            "align_content": null,
            "align_items": null,
            "align_self": null,
            "border": null,
            "bottom": null,
            "display": null,
            "flex": null,
            "flex_flow": null,
            "grid_area": null,
            "grid_auto_columns": null,
            "grid_auto_flow": null,
            "grid_auto_rows": null,
            "grid_column": null,
            "grid_gap": null,
            "grid_row": null,
            "grid_template_areas": null,
            "grid_template_columns": null,
            "grid_template_rows": null,
            "height": null,
            "justify_content": null,
            "justify_items": null,
            "left": null,
            "margin": null,
            "max_height": null,
            "max_width": null,
            "min_height": null,
            "min_width": null,
            "object_fit": null,
            "object_position": null,
            "order": null,
            "overflow": null,
            "overflow_x": null,
            "overflow_y": null,
            "padding": null,
            "right": null,
            "top": null,
            "visibility": null,
            "width": null
          }
        },
        "77630ebfad444b97b6983ab24f765a09": {
          "model_module": "@jupyter-widgets/controls",
          "model_name": "ProgressStyleModel",
          "model_module_version": "1.5.0",
          "state": {
            "_model_module": "@jupyter-widgets/controls",
            "_model_module_version": "1.5.0",
            "_model_name": "ProgressStyleModel",
            "_view_count": null,
            "_view_module": "@jupyter-widgets/base",
            "_view_module_version": "1.2.0",
            "_view_name": "StyleView",
            "bar_color": null,
            "description_width": ""
          }
        },
        "abe20557ed494029b3551f7826e042e5": {
          "model_module": "@jupyter-widgets/base",
          "model_name": "LayoutModel",
          "model_module_version": "1.2.0",
          "state": {
            "_model_module": "@jupyter-widgets/base",
            "_model_module_version": "1.2.0",
            "_model_name": "LayoutModel",
            "_view_count": null,
            "_view_module": "@jupyter-widgets/base",
            "_view_module_version": "1.2.0",
            "_view_name": "LayoutView",
            "align_content": null,
            "align_items": null,
            "align_self": null,
            "border": null,
            "bottom": null,
            "display": null,
            "flex": null,
            "flex_flow": null,
            "grid_area": null,
            "grid_auto_columns": null,
            "grid_auto_flow": null,
            "grid_auto_rows": null,
            "grid_column": null,
            "grid_gap": null,
            "grid_row": null,
            "grid_template_areas": null,
            "grid_template_columns": null,
            "grid_template_rows": null,
            "height": null,
            "justify_content": null,
            "justify_items": null,
            "left": null,
            "margin": null,
            "max_height": null,
            "max_width": null,
            "min_height": null,
            "min_width": null,
            "object_fit": null,
            "object_position": null,
            "order": null,
            "overflow": null,
            "overflow_x": null,
            "overflow_y": null,
            "padding": null,
            "right": null,
            "top": null,
            "visibility": null,
            "width": null
          }
        },
        "598657ce0a294cc5aefbc0c87879dc9f": {
          "model_module": "@jupyter-widgets/controls",
          "model_name": "DescriptionStyleModel",
          "model_module_version": "1.5.0",
          "state": {
            "_model_module": "@jupyter-widgets/controls",
            "_model_module_version": "1.5.0",
            "_model_name": "DescriptionStyleModel",
            "_view_count": null,
            "_view_module": "@jupyter-widgets/base",
            "_view_module_version": "1.2.0",
            "_view_name": "StyleView",
            "description_width": ""
          }
        },
        "6e160b00baa141fd836e80aed8fb0682": {
          "model_module": "@jupyter-widgets/controls",
          "model_name": "HBoxModel",
          "model_module_version": "1.5.0",
          "state": {
            "_dom_classes": [],
            "_model_module": "@jupyter-widgets/controls",
            "_model_module_version": "1.5.0",
            "_model_name": "HBoxModel",
            "_view_count": null,
            "_view_module": "@jupyter-widgets/controls",
            "_view_module_version": "1.5.0",
            "_view_name": "HBoxView",
            "box_style": "",
            "children": [
              "IPY_MODEL_37e79450774a4fd3871bd4fb89c98b49",
              "IPY_MODEL_6a1f88c75e9347ecbc25b1cbfac1dbb2",
              "IPY_MODEL_15a483d201a048bb8baf1bc40ea96fe5"
            ],
            "layout": "IPY_MODEL_3b3c2a476523452794c167387f51c17e"
          }
        },
        "37e79450774a4fd3871bd4fb89c98b49": {
          "model_module": "@jupyter-widgets/controls",
          "model_name": "HTMLModel",
          "model_module_version": "1.5.0",
          "state": {
            "_dom_classes": [],
            "_model_module": "@jupyter-widgets/controls",
            "_model_module_version": "1.5.0",
            "_model_name": "HTMLModel",
            "_view_count": null,
            "_view_module": "@jupyter-widgets/controls",
            "_view_module_version": "1.5.0",
            "_view_name": "HTMLView",
            "description": "",
            "description_tooltip": null,
            "layout": "IPY_MODEL_b13a43493cc84df7b7b650577e82ba6f",
            "placeholder": "​",
            "style": "IPY_MODEL_e7f223da16f44a0fa6a613219f948fca",
            "value": "Downloading (…)lve/main/config.json: 100%"
          }
        },
        "6a1f88c75e9347ecbc25b1cbfac1dbb2": {
          "model_module": "@jupyter-widgets/controls",
          "model_name": "FloatProgressModel",
          "model_module_version": "1.5.0",
          "state": {
            "_dom_classes": [],
            "_model_module": "@jupyter-widgets/controls",
            "_model_module_version": "1.5.0",
            "_model_name": "FloatProgressModel",
            "_view_count": null,
            "_view_module": "@jupyter-widgets/controls",
            "_view_module_version": "1.5.0",
            "_view_name": "ProgressView",
            "bar_style": "success",
            "description": "",
            "description_tooltip": null,
            "layout": "IPY_MODEL_49fb055a894f4010ba38e9afc9907f12",
            "max": 1052,
            "min": 0,
            "orientation": "horizontal",
            "style": "IPY_MODEL_fe1da3dac3df4afe9b1224fbedc0341c",
            "value": 1052
          }
        },
        "15a483d201a048bb8baf1bc40ea96fe5": {
          "model_module": "@jupyter-widgets/controls",
          "model_name": "HTMLModel",
          "model_module_version": "1.5.0",
          "state": {
            "_dom_classes": [],
            "_model_module": "@jupyter-widgets/controls",
            "_model_module_version": "1.5.0",
            "_model_name": "HTMLModel",
            "_view_count": null,
            "_view_module": "@jupyter-widgets/controls",
            "_view_module_version": "1.5.0",
            "_view_name": "HTMLView",
            "description": "",
            "description_tooltip": null,
            "layout": "IPY_MODEL_d340e5472a534270a26d9b22a56abf0a",
            "placeholder": "​",
            "style": "IPY_MODEL_f2b309126b5143049963ede2ad584d6d",
            "value": " 1.05k/1.05k [00:00&lt;00:00, 51.2kB/s]"
          }
        },
        "3b3c2a476523452794c167387f51c17e": {
          "model_module": "@jupyter-widgets/base",
          "model_name": "LayoutModel",
          "model_module_version": "1.2.0",
          "state": {
            "_model_module": "@jupyter-widgets/base",
            "_model_module_version": "1.2.0",
            "_model_name": "LayoutModel",
            "_view_count": null,
            "_view_module": "@jupyter-widgets/base",
            "_view_module_version": "1.2.0",
            "_view_name": "LayoutView",
            "align_content": null,
            "align_items": null,
            "align_self": null,
            "border": null,
            "bottom": null,
            "display": null,
            "flex": null,
            "flex_flow": null,
            "grid_area": null,
            "grid_auto_columns": null,
            "grid_auto_flow": null,
            "grid_auto_rows": null,
            "grid_column": null,
            "grid_gap": null,
            "grid_row": null,
            "grid_template_areas": null,
            "grid_template_columns": null,
            "grid_template_rows": null,
            "height": null,
            "justify_content": null,
            "justify_items": null,
            "left": null,
            "margin": null,
            "max_height": null,
            "max_width": null,
            "min_height": null,
            "min_width": null,
            "object_fit": null,
            "object_position": null,
            "order": null,
            "overflow": null,
            "overflow_x": null,
            "overflow_y": null,
            "padding": null,
            "right": null,
            "top": null,
            "visibility": null,
            "width": null
          }
        },
        "b13a43493cc84df7b7b650577e82ba6f": {
          "model_module": "@jupyter-widgets/base",
          "model_name": "LayoutModel",
          "model_module_version": "1.2.0",
          "state": {
            "_model_module": "@jupyter-widgets/base",
            "_model_module_version": "1.2.0",
            "_model_name": "LayoutModel",
            "_view_count": null,
            "_view_module": "@jupyter-widgets/base",
            "_view_module_version": "1.2.0",
            "_view_name": "LayoutView",
            "align_content": null,
            "align_items": null,
            "align_self": null,
            "border": null,
            "bottom": null,
            "display": null,
            "flex": null,
            "flex_flow": null,
            "grid_area": null,
            "grid_auto_columns": null,
            "grid_auto_flow": null,
            "grid_auto_rows": null,
            "grid_column": null,
            "grid_gap": null,
            "grid_row": null,
            "grid_template_areas": null,
            "grid_template_columns": null,
            "grid_template_rows": null,
            "height": null,
            "justify_content": null,
            "justify_items": null,
            "left": null,
            "margin": null,
            "max_height": null,
            "max_width": null,
            "min_height": null,
            "min_width": null,
            "object_fit": null,
            "object_position": null,
            "order": null,
            "overflow": null,
            "overflow_x": null,
            "overflow_y": null,
            "padding": null,
            "right": null,
            "top": null,
            "visibility": null,
            "width": null
          }
        },
        "e7f223da16f44a0fa6a613219f948fca": {
          "model_module": "@jupyter-widgets/controls",
          "model_name": "DescriptionStyleModel",
          "model_module_version": "1.5.0",
          "state": {
            "_model_module": "@jupyter-widgets/controls",
            "_model_module_version": "1.5.0",
            "_model_name": "DescriptionStyleModel",
            "_view_count": null,
            "_view_module": "@jupyter-widgets/base",
            "_view_module_version": "1.2.0",
            "_view_name": "StyleView",
            "description_width": ""
          }
        },
        "49fb055a894f4010ba38e9afc9907f12": {
          "model_module": "@jupyter-widgets/base",
          "model_name": "LayoutModel",
          "model_module_version": "1.2.0",
          "state": {
            "_model_module": "@jupyter-widgets/base",
            "_model_module_version": "1.2.0",
            "_model_name": "LayoutModel",
            "_view_count": null,
            "_view_module": "@jupyter-widgets/base",
            "_view_module_version": "1.2.0",
            "_view_name": "LayoutView",
            "align_content": null,
            "align_items": null,
            "align_self": null,
            "border": null,
            "bottom": null,
            "display": null,
            "flex": null,
            "flex_flow": null,
            "grid_area": null,
            "grid_auto_columns": null,
            "grid_auto_flow": null,
            "grid_auto_rows": null,
            "grid_column": null,
            "grid_gap": null,
            "grid_row": null,
            "grid_template_areas": null,
            "grid_template_columns": null,
            "grid_template_rows": null,
            "height": null,
            "justify_content": null,
            "justify_items": null,
            "left": null,
            "margin": null,
            "max_height": null,
            "max_width": null,
            "min_height": null,
            "min_width": null,
            "object_fit": null,
            "object_position": null,
            "order": null,
            "overflow": null,
            "overflow_x": null,
            "overflow_y": null,
            "padding": null,
            "right": null,
            "top": null,
            "visibility": null,
            "width": null
          }
        },
        "fe1da3dac3df4afe9b1224fbedc0341c": {
          "model_module": "@jupyter-widgets/controls",
          "model_name": "ProgressStyleModel",
          "model_module_version": "1.5.0",
          "state": {
            "_model_module": "@jupyter-widgets/controls",
            "_model_module_version": "1.5.0",
            "_model_name": "ProgressStyleModel",
            "_view_count": null,
            "_view_module": "@jupyter-widgets/base",
            "_view_module_version": "1.2.0",
            "_view_name": "StyleView",
            "bar_color": null,
            "description_width": ""
          }
        },
        "d340e5472a534270a26d9b22a56abf0a": {
          "model_module": "@jupyter-widgets/base",
          "model_name": "LayoutModel",
          "model_module_version": "1.2.0",
          "state": {
            "_model_module": "@jupyter-widgets/base",
            "_model_module_version": "1.2.0",
            "_model_name": "LayoutModel",
            "_view_count": null,
            "_view_module": "@jupyter-widgets/base",
            "_view_module_version": "1.2.0",
            "_view_name": "LayoutView",
            "align_content": null,
            "align_items": null,
            "align_self": null,
            "border": null,
            "bottom": null,
            "display": null,
            "flex": null,
            "flex_flow": null,
            "grid_area": null,
            "grid_auto_columns": null,
            "grid_auto_flow": null,
            "grid_auto_rows": null,
            "grid_column": null,
            "grid_gap": null,
            "grid_row": null,
            "grid_template_areas": null,
            "grid_template_columns": null,
            "grid_template_rows": null,
            "height": null,
            "justify_content": null,
            "justify_items": null,
            "left": null,
            "margin": null,
            "max_height": null,
            "max_width": null,
            "min_height": null,
            "min_width": null,
            "object_fit": null,
            "object_position": null,
            "order": null,
            "overflow": null,
            "overflow_x": null,
            "overflow_y": null,
            "padding": null,
            "right": null,
            "top": null,
            "visibility": null,
            "width": null
          }
        },
        "f2b309126b5143049963ede2ad584d6d": {
          "model_module": "@jupyter-widgets/controls",
          "model_name": "DescriptionStyleModel",
          "model_module_version": "1.5.0",
          "state": {
            "_model_module": "@jupyter-widgets/controls",
            "_model_module_version": "1.5.0",
            "_model_name": "DescriptionStyleModel",
            "_view_count": null,
            "_view_module": "@jupyter-widgets/base",
            "_view_module_version": "1.2.0",
            "_view_name": "StyleView",
            "description_width": ""
          }
        },
        "b90f7e9d3bf342b1a377a6205b2b0f76": {
          "model_module": "@jupyter-widgets/controls",
          "model_name": "HBoxModel",
          "model_module_version": "1.5.0",
          "state": {
            "_dom_classes": [],
            "_model_module": "@jupyter-widgets/controls",
            "_model_module_version": "1.5.0",
            "_model_name": "HBoxModel",
            "_view_count": null,
            "_view_module": "@jupyter-widgets/controls",
            "_view_module_version": "1.5.0",
            "_view_name": "HBoxView",
            "box_style": "",
            "children": [
              "IPY_MODEL_d0a3b3b50e6b4d048caa97bc88dd862a",
              "IPY_MODEL_177d9b6220a24b9b9c3e78d5124ead03",
              "IPY_MODEL_6e1c05efcfbd47d3a75b078bf6fbc37c"
            ],
            "layout": "IPY_MODEL_a4764562098045a194a3fd92befb98b1"
          }
        },
        "d0a3b3b50e6b4d048caa97bc88dd862a": {
          "model_module": "@jupyter-widgets/controls",
          "model_name": "HTMLModel",
          "model_module_version": "1.5.0",
          "state": {
            "_dom_classes": [],
            "_model_module": "@jupyter-widgets/controls",
            "_model_module_version": "1.5.0",
            "_model_name": "HTMLModel",
            "_view_count": null,
            "_view_module": "@jupyter-widgets/controls",
            "_view_module_version": "1.5.0",
            "_view_name": "HTMLView",
            "description": "",
            "description_tooltip": null,
            "layout": "IPY_MODEL_47d7bed31f794a3f800cad05b361cf6a",
            "placeholder": "​",
            "style": "IPY_MODEL_67004baf3bef479cac5fca4191175223",
            "value": "Downloading (…)&quot;pytorch_model.bin&quot;;: 100%"
          }
        },
        "177d9b6220a24b9b9c3e78d5124ead03": {
          "model_module": "@jupyter-widgets/controls",
          "model_name": "FloatProgressModel",
          "model_module_version": "1.5.0",
          "state": {
            "_dom_classes": [],
            "_model_module": "@jupyter-widgets/controls",
            "_model_module_version": "1.5.0",
            "_model_name": "FloatProgressModel",
            "_view_count": null,
            "_view_module": "@jupyter-widgets/controls",
            "_view_module_version": "1.5.0",
            "_view_name": "ProgressView",
            "bar_style": "success",
            "description": "",
            "description_tooltip": null,
            "layout": "IPY_MODEL_4804b069b4de42a18c1ea218fe6c72bf",
            "max": 3132671411,
            "min": 0,
            "orientation": "horizontal",
            "style": "IPY_MODEL_4a7075a9befe4525bbe58201d4c269d2",
            "value": 3132671411
          }
        },
        "6e1c05efcfbd47d3a75b078bf6fbc37c": {
          "model_module": "@jupyter-widgets/controls",
          "model_name": "HTMLModel",
          "model_module_version": "1.5.0",
          "state": {
            "_dom_classes": [],
            "_model_module": "@jupyter-widgets/controls",
            "_model_module_version": "1.5.0",
            "_model_name": "HTMLModel",
            "_view_count": null,
            "_view_module": "@jupyter-widgets/controls",
            "_view_module_version": "1.5.0",
            "_view_name": "HTMLView",
            "description": "",
            "description_tooltip": null,
            "layout": "IPY_MODEL_11a1b2be50ba4fdba729570eb556fb05",
            "placeholder": "​",
            "style": "IPY_MODEL_0f639419289b48cb9a615400ae7e8571",
            "value": " 3.13G/3.13G [01:01&lt;00:00, 57.3MB/s]"
          }
        },
        "a4764562098045a194a3fd92befb98b1": {
          "model_module": "@jupyter-widgets/base",
          "model_name": "LayoutModel",
          "model_module_version": "1.2.0",
          "state": {
            "_model_module": "@jupyter-widgets/base",
            "_model_module_version": "1.2.0",
            "_model_name": "LayoutModel",
            "_view_count": null,
            "_view_module": "@jupyter-widgets/base",
            "_view_module_version": "1.2.0",
            "_view_name": "LayoutView",
            "align_content": null,
            "align_items": null,
            "align_self": null,
            "border": null,
            "bottom": null,
            "display": null,
            "flex": null,
            "flex_flow": null,
            "grid_area": null,
            "grid_auto_columns": null,
            "grid_auto_flow": null,
            "grid_auto_rows": null,
            "grid_column": null,
            "grid_gap": null,
            "grid_row": null,
            "grid_template_areas": null,
            "grid_template_columns": null,
            "grid_template_rows": null,
            "height": null,
            "justify_content": null,
            "justify_items": null,
            "left": null,
            "margin": null,
            "max_height": null,
            "max_width": null,
            "min_height": null,
            "min_width": null,
            "object_fit": null,
            "object_position": null,
            "order": null,
            "overflow": null,
            "overflow_x": null,
            "overflow_y": null,
            "padding": null,
            "right": null,
            "top": null,
            "visibility": null,
            "width": null
          }
        },
        "47d7bed31f794a3f800cad05b361cf6a": {
          "model_module": "@jupyter-widgets/base",
          "model_name": "LayoutModel",
          "model_module_version": "1.2.0",
          "state": {
            "_model_module": "@jupyter-widgets/base",
            "_model_module_version": "1.2.0",
            "_model_name": "LayoutModel",
            "_view_count": null,
            "_view_module": "@jupyter-widgets/base",
            "_view_module_version": "1.2.0",
            "_view_name": "LayoutView",
            "align_content": null,
            "align_items": null,
            "align_self": null,
            "border": null,
            "bottom": null,
            "display": null,
            "flex": null,
            "flex_flow": null,
            "grid_area": null,
            "grid_auto_columns": null,
            "grid_auto_flow": null,
            "grid_auto_rows": null,
            "grid_column": null,
            "grid_gap": null,
            "grid_row": null,
            "grid_template_areas": null,
            "grid_template_columns": null,
            "grid_template_rows": null,
            "height": null,
            "justify_content": null,
            "justify_items": null,
            "left": null,
            "margin": null,
            "max_height": null,
            "max_width": null,
            "min_height": null,
            "min_width": null,
            "object_fit": null,
            "object_position": null,
            "order": null,
            "overflow": null,
            "overflow_x": null,
            "overflow_y": null,
            "padding": null,
            "right": null,
            "top": null,
            "visibility": null,
            "width": null
          }
        },
        "67004baf3bef479cac5fca4191175223": {
          "model_module": "@jupyter-widgets/controls",
          "model_name": "DescriptionStyleModel",
          "model_module_version": "1.5.0",
          "state": {
            "_model_module": "@jupyter-widgets/controls",
            "_model_module_version": "1.5.0",
            "_model_name": "DescriptionStyleModel",
            "_view_count": null,
            "_view_module": "@jupyter-widgets/base",
            "_view_module_version": "1.2.0",
            "_view_name": "StyleView",
            "description_width": ""
          }
        },
        "4804b069b4de42a18c1ea218fe6c72bf": {
          "model_module": "@jupyter-widgets/base",
          "model_name": "LayoutModel",
          "model_module_version": "1.2.0",
          "state": {
            "_model_module": "@jupyter-widgets/base",
            "_model_module_version": "1.2.0",
            "_model_name": "LayoutModel",
            "_view_count": null,
            "_view_module": "@jupyter-widgets/base",
            "_view_module_version": "1.2.0",
            "_view_name": "LayoutView",
            "align_content": null,
            "align_items": null,
            "align_self": null,
            "border": null,
            "bottom": null,
            "display": null,
            "flex": null,
            "flex_flow": null,
            "grid_area": null,
            "grid_auto_columns": null,
            "grid_auto_flow": null,
            "grid_auto_rows": null,
            "grid_column": null,
            "grid_gap": null,
            "grid_row": null,
            "grid_template_areas": null,
            "grid_template_columns": null,
            "grid_template_rows": null,
            "height": null,
            "justify_content": null,
            "justify_items": null,
            "left": null,
            "margin": null,
            "max_height": null,
            "max_width": null,
            "min_height": null,
            "min_width": null,
            "object_fit": null,
            "object_position": null,
            "order": null,
            "overflow": null,
            "overflow_x": null,
            "overflow_y": null,
            "padding": null,
            "right": null,
            "top": null,
            "visibility": null,
            "width": null
          }
        },
        "4a7075a9befe4525bbe58201d4c269d2": {
          "model_module": "@jupyter-widgets/controls",
          "model_name": "ProgressStyleModel",
          "model_module_version": "1.5.0",
          "state": {
            "_model_module": "@jupyter-widgets/controls",
            "_model_module_version": "1.5.0",
            "_model_name": "ProgressStyleModel",
            "_view_count": null,
            "_view_module": "@jupyter-widgets/base",
            "_view_module_version": "1.2.0",
            "_view_name": "StyleView",
            "bar_color": null,
            "description_width": ""
          }
        },
        "11a1b2be50ba4fdba729570eb556fb05": {
          "model_module": "@jupyter-widgets/base",
          "model_name": "LayoutModel",
          "model_module_version": "1.2.0",
          "state": {
            "_model_module": "@jupyter-widgets/base",
            "_model_module_version": "1.2.0",
            "_model_name": "LayoutModel",
            "_view_count": null,
            "_view_module": "@jupyter-widgets/base",
            "_view_module_version": "1.2.0",
            "_view_name": "LayoutView",
            "align_content": null,
            "align_items": null,
            "align_self": null,
            "border": null,
            "bottom": null,
            "display": null,
            "flex": null,
            "flex_flow": null,
            "grid_area": null,
            "grid_auto_columns": null,
            "grid_auto_flow": null,
            "grid_auto_rows": null,
            "grid_column": null,
            "grid_gap": null,
            "grid_row": null,
            "grid_template_areas": null,
            "grid_template_columns": null,
            "grid_template_rows": null,
            "height": null,
            "justify_content": null,
            "justify_items": null,
            "left": null,
            "margin": null,
            "max_height": null,
            "max_width": null,
            "min_height": null,
            "min_width": null,
            "object_fit": null,
            "object_position": null,
            "order": null,
            "overflow": null,
            "overflow_x": null,
            "overflow_y": null,
            "padding": null,
            "right": null,
            "top": null,
            "visibility": null,
            "width": null
          }
        },
        "0f639419289b48cb9a615400ae7e8571": {
          "model_module": "@jupyter-widgets/controls",
          "model_name": "DescriptionStyleModel",
          "model_module_version": "1.5.0",
          "state": {
            "_model_module": "@jupyter-widgets/controls",
            "_model_module_version": "1.5.0",
            "_model_name": "DescriptionStyleModel",
            "_view_count": null,
            "_view_module": "@jupyter-widgets/base",
            "_view_module_version": "1.2.0",
            "_view_name": "StyleView",
            "description_width": ""
          }
        }
      }
    }
  },
  "cells": [
    {
      "cell_type": "markdown",
      "metadata": {
        "id": "view-in-github",
        "colab_type": "text"
      },
      "source": [
        "<a href=\"https://colab.research.google.com/github/plaban1981/Medical_paper_summarization/blob/main/Medical_Domain_Text_Summarization.ipynb\" target=\"_parent\"><img src=\"https://colab.research.google.com/assets/colab-badge.svg\" alt=\"Open In Colab\"/></a>"
      ]
    },
    {
      "cell_type": "code",
      "execution_count": 2,
      "metadata": {
        "id": "vFQ7xCObv2ds"
      },
      "outputs": [],
      "source": [
        "! pip install --quiet transformers"
      ]
    },
    {
      "cell_type": "code",
      "source": [
        "! pip install --quiet sentencepiece"
      ],
      "metadata": {
        "id": "9i2OWxrNG6Nh"
      },
      "execution_count": 3,
      "outputs": []
    },
    {
      "cell_type": "code",
      "source": [
        "from transformers import AutoTokenizer, AutoModelForSeq2SeqLM\n",
        "from transformers import pipeline\n"
      ],
      "metadata": {
        "id": "qXjyKxvgzx3Z"
      },
      "execution_count": 4,
      "outputs": []
    },
    {
      "cell_type": "code",
      "source": [
        "import nltk\n",
        "from nltk.tokenize import sent_tokenize\n",
        "nltk.download('stopwords')\n",
        "nltk.download('brown')\n",
        "nltk.download('punkt')"
      ],
      "metadata": {
        "colab": {
          "base_uri": "https://localhost:8080/"
        },
        "id": "hWhFBTQxBT8M",
        "outputId": "44aaac6d-343b-4773-de8d-a48246eccacd"
      },
      "execution_count": 5,
      "outputs": [
        {
          "output_type": "stream",
          "name": "stderr",
          "text": [
            "[nltk_data] Downloading package stopwords to /root/nltk_data...\n",
            "[nltk_data]   Package stopwords is already up-to-date!\n",
            "[nltk_data] Downloading package brown to /root/nltk_data...\n",
            "[nltk_data]   Package brown is already up-to-date!\n",
            "[nltk_data] Downloading package punkt to /root/nltk_data...\n",
            "[nltk_data]   Package punkt is already up-to-date!\n"
          ]
        },
        {
          "output_type": "execute_result",
          "data": {
            "text/plain": [
              "True"
            ]
          },
          "metadata": {},
          "execution_count": 5
        }
      ]
    },
    {
      "cell_type": "code",
      "source": [
        "\n",
        "tokenizer = AutoTokenizer.from_pretrained(\"L-macc/autotrain-Biomedical_sc_summ-1217846148\")\n",
        "\n",
        "model = AutoModelForSeq2SeqLM.from_pretrained(\"L-macc/autotrain-Biomedical_sc_summ-1217846148\")"
      ],
      "metadata": {
        "colab": {
          "base_uri": "https://localhost:8080/",
          "height": 177,
          "referenced_widgets": [
            "fc53a9c3341e41d59582e038adb849ca",
            "7eecdaf569134406b9827fd3948dfba1",
            "d6c64f1c50e44fbd8eeffa67cf7a7349",
            "103b1851833f49b29c6b47c2ae53682b",
            "97c4b411b46b46668afbac993f0d6a75",
            "f48433bad92a4689b1a9c511ed44889f",
            "2c1981b207c043f1b255f23f6e35b6dd",
            "5b1089f905674a54a0d2d4904327de64",
            "ab2a857496ab4805b3e8c038ee095b61",
            "f93aff788d36458a887a803876cd3381",
            "ed23a05b54d14f0eb8a0fbf398a7a2bf",
            "dcf23c7d06974be6881dcd78850efebb",
            "3604e0cf62c24bdda75319d9e52bc591",
            "096ee6ee69aa4ce88a5563e181e5831b",
            "a55608930e2d4f8d8300f126d422665c",
            "cda7bbdb920e45b3a4c06251898d503a",
            "4ac02eaeb6b04fa4a2646dc5f2e41db9",
            "e62f194032ae440a8c1720bb984280e3",
            "44c45a95359144f39d00a18713ab6c9a",
            "20ad06b2478746369f31e683e6c828c8",
            "11a229b08e1e45349feb35058d1ed575",
            "a44bf957c4ae400ab53437079b5a81f5",
            "fc0325be12ce4324956abbbc1761c2d4",
            "f7b2eb0b06b34d7294ee44403e381221",
            "a53d3e8f314641259218ab4cb9313cd9",
            "1c6eaffd192845d8b44979dea64b72dd",
            "3d44e3e2da5746418052dae5aaf0205c",
            "7196e7c27fa245d78c2f557c398b21cd",
            "797da3bb3b4c485aa3d97d84fa7ed930",
            "ec39ca2d4c9b487cb60b90ef47572d86",
            "1901a24aed804eedae49d43e24b22dd5",
            "cbfb724ec30e4d53a39a79c17e52a4a1",
            "55bbf9933ebd49c5be8854f7b8bc2f68",
            "89dd45b46d6a4ea2a180d3e7320c5302",
            "40d893cd5036403e8a80d8f59315a252",
            "44c78b82c66e428087a0b2a7a8fcd48d",
            "1a56510365634ae2abc5d4d27432faaa",
            "3461345ece9a404b8e9726a7eb5f03fe",
            "184f3cf71e0b48519b87bb51613aff0f",
            "e78b6cfbe903431591223f8059ea7fd6",
            "382298e7922e43fdb8615490d07abcd1",
            "8737f04263614a1c941bde8c4c59c1cf",
            "d6007e52fb3e43f69cf5055dbf85e71e",
            "20aa0d1a29df42f3988601c6efd38086",
            "83ac2c2b2e1d413fb59f22174bad454d",
            "da75f952d8fc44139b123d1bd35672fc",
            "a86fa3c503a443b682e77f004e7e9490",
            "73fbb07bc7e147eda82a825e735cd0ca",
            "661e65452bc54e9392e3eda6530a0a81",
            "c8bd80cb3e0c42cc9ac3a682c748bbee",
            "a30df0f24f0e4611a3166bb6256a7939",
            "36baa4e6f3da4450a155b937c9ed80cb",
            "24a1b8afeae94182807aca465d72fe28",
            "59735cc12e0f43a580bd5507d44fb30d",
            "cfc96b724fee494ba05a8ac6ff81b633"
          ]
        },
        "id": "zPd5Qblzz41S",
        "outputId": "3f7225e0-8b69-4ded-e846-1c1d63444ab7"
      },
      "execution_count": 5,
      "outputs": [
        {
          "output_type": "display_data",
          "data": {
            "text/plain": [
              "Downloading (…)okenizer_config.json:   0%|          | 0.00/2.32k [00:00<?, ?B/s]"
            ],
            "application/vnd.jupyter.widget-view+json": {
              "version_major": 2,
              "version_minor": 0,
              "model_id": "fc53a9c3341e41d59582e038adb849ca"
            }
          },
          "metadata": {}
        },
        {
          "output_type": "display_data",
          "data": {
            "text/plain": [
              "Downloading (…)/main/tokenizer.json:   0%|          | 0.00/2.42M [00:00<?, ?B/s]"
            ],
            "application/vnd.jupyter.widget-view+json": {
              "version_major": 2,
              "version_minor": 0,
              "model_id": "dcf23c7d06974be6881dcd78850efebb"
            }
          },
          "metadata": {}
        },
        {
          "output_type": "display_data",
          "data": {
            "text/plain": [
              "Downloading (…)cial_tokens_map.json:   0%|          | 0.00/2.20k [00:00<?, ?B/s]"
            ],
            "application/vnd.jupyter.widget-view+json": {
              "version_major": 2,
              "version_minor": 0,
              "model_id": "fc0325be12ce4324956abbbc1761c2d4"
            }
          },
          "metadata": {}
        },
        {
          "output_type": "display_data",
          "data": {
            "text/plain": [
              "Downloading (…)lve/main/config.json:   0%|          | 0.00/1.05k [00:00<?, ?B/s]"
            ],
            "application/vnd.jupyter.widget-view+json": {
              "version_major": 2,
              "version_minor": 0,
              "model_id": "89dd45b46d6a4ea2a180d3e7320c5302"
            }
          },
          "metadata": {}
        },
        {
          "output_type": "display_data",
          "data": {
            "text/plain": [
              "Downloading (…)\"pytorch_model.bin\";:   0%|          | 0.00/3.13G [00:00<?, ?B/s]"
            ],
            "application/vnd.jupyter.widget-view+json": {
              "version_major": 2,
              "version_minor": 0,
              "model_id": "83ac2c2b2e1d413fb59f22174bad454d"
            }
          },
          "metadata": {}
        }
      ]
    },
    {
      "cell_type": "code",
      "source": [
        "import torch \n",
        "from transformers import pipeline\n",
        "device = \"cuda\" if torch.cuda.is_available() else \"cpu\"\n",
        "summarizer = pipeline(\"summarization\", model='facebook/bart-large-cnn',min_length=75,max_length=500)"
      ],
      "metadata": {
        "colab": {
          "base_uri": "https://localhost:8080/",
          "height": 177,
          "referenced_widgets": [
            "5d01103db3874369a07e4a04a3c6eff0",
            "11b18e48785948d6b615e59828e9f65f",
            "9d5bdf9c64ae4240acef82c637662477",
            "e8600e7624aa4496b05413011de8cf52",
            "43b2a604e66240e9aa612c659e2f94e1",
            "52bf07c4c060477ab8dc3c8f80d3904d",
            "ba541a17036b4e89a54d0ebd3fc9ba6d",
            "069670d19db3421fbcc55a4bf21295f9",
            "57ccf1c3fee647198f2fd60c4ceafbbc",
            "6559c8b0a84148ca89d7c29ee11ce5bf",
            "36b9ad76a64149fd866016ae5d6500fc",
            "c618abd7baf44bbf82eebb735df4cc36",
            "6258ffa2c42749d7b6d3eb6550edf77b",
            "3fc37926cf1c463389ca573791dfa33a",
            "6628f946e08e45bbb91c27c8b2032ac2",
            "8934aa161bf24cebaea6256e968c1431",
            "d9991a33396b4eadbde70d57f2c885c2",
            "013ed372fece47fabb46df3db9f8d4bc",
            "2bced648919c456eb072012807659ad5",
            "834198f7608f43c1b4c7dccddd86c0c5",
            "84402817bd834d61a95a41488bfa8622",
            "05741f80f60941518fdb2d5537122423",
            "8ec4443d1a224c8ba618d990000b6f4e",
            "e2bdfbe8ad214b78bc2b68375c03c2f5",
            "ff7428652b194dd5a44535278505c1ad",
            "2cb6d2a5f8f6430e80024681a96d0294",
            "46185f51b9af4440ab2acba5ed3a17d7",
            "7c5db4b0105647bfac8a519f43f75906",
            "92ac2e0c474449d78b46bde8ef9edfab",
            "a2253f9effac411486614690eeb4db34",
            "2576d52d8ed64288baeb456271975483",
            "85300dbcbc3644c28a4703fbb4d03ab6",
            "2c2b62b055934fedaf921b66896c0cfe",
            "4e802a5aca1d4371b2d042b539a67c87",
            "147a3af3a2764b838b74c972af19b934",
            "5084c741226b4e819c71e0f6e4111431",
            "f9d39e6a747b47a989977b368acb1f2a",
            "c17ebffd96bd4f718bd879b106673447",
            "5af18b2c9fc347eb87a72642c81505f6",
            "eb1c278ff0ee4b9090e08850e76537fb",
            "5588e28e9979476dbb7aa2a9e32ff300",
            "8b9f0a54415746de85cc69e5883916c1",
            "865a244fd94340acae311bd188926ae0",
            "ee86394327d34a22b8a23582116d2c0a",
            "454cad85bb1e4209ac76062af58a0642",
            "6bfcd43d30bf441d91286999764e5d24",
            "f17f936634eb438aa43282a10b457ad5",
            "283f300e984a46f7beceb5827cce6ccc",
            "c0208cbf79794973848fd8bba34edaba",
            "f71d0dd6aa014ab6b71756f9e3084d37",
            "6c83050707c84ac78eda727694b8e283",
            "7c216271f46441d6a72746771ad005d3",
            "f55c88a389fe422d979858d75eda80ce",
            "aaff4221b6f243efbffa84bf09a27f26",
            "968c3ebe61a741dc905bc9ffaa03c098"
          ]
        },
        "id": "Cvidh0aCwAcy",
        "outputId": "68ee3030-638a-4753-e2f5-93d3142ffc90"
      },
      "execution_count": null,
      "outputs": [
        {
          "output_type": "display_data",
          "data": {
            "text/plain": [
              "Downloading (…)lve/main/config.json:   0%|          | 0.00/1.58k [00:00<?, ?B/s]"
            ],
            "application/vnd.jupyter.widget-view+json": {
              "version_major": 2,
              "version_minor": 0,
              "model_id": "5d01103db3874369a07e4a04a3c6eff0"
            }
          },
          "metadata": {}
        },
        {
          "output_type": "display_data",
          "data": {
            "text/plain": [
              "Downloading (…)\"pytorch_model.bin\";:   0%|          | 0.00/1.63G [00:00<?, ?B/s]"
            ],
            "application/vnd.jupyter.widget-view+json": {
              "version_major": 2,
              "version_minor": 0,
              "model_id": "c618abd7baf44bbf82eebb735df4cc36"
            }
          },
          "metadata": {}
        },
        {
          "output_type": "display_data",
          "data": {
            "text/plain": [
              "Downloading (…)olve/main/vocab.json:   0%|          | 0.00/899k [00:00<?, ?B/s]"
            ],
            "application/vnd.jupyter.widget-view+json": {
              "version_major": 2,
              "version_minor": 0,
              "model_id": "8ec4443d1a224c8ba618d990000b6f4e"
            }
          },
          "metadata": {}
        },
        {
          "output_type": "display_data",
          "data": {
            "text/plain": [
              "Downloading (…)olve/main/merges.txt:   0%|          | 0.00/456k [00:00<?, ?B/s]"
            ],
            "application/vnd.jupyter.widget-view+json": {
              "version_major": 2,
              "version_minor": 0,
              "model_id": "4e802a5aca1d4371b2d042b539a67c87"
            }
          },
          "metadata": {}
        },
        {
          "output_type": "display_data",
          "data": {
            "text/plain": [
              "Downloading (…)/main/tokenizer.json:   0%|          | 0.00/1.36M [00:00<?, ?B/s]"
            ],
            "application/vnd.jupyter.widget-view+json": {
              "version_major": 2,
              "version_minor": 0,
              "model_id": "454cad85bb1e4209ac76062af58a0642"
            }
          },
          "metadata": {}
        }
      ]
    },
    {
      "cell_type": "code",
      "source": [],
      "metadata": {
        "id": "DBzYgjtE9RMh"
      },
      "execution_count": null,
      "outputs": []
    },
    {
      "cell_type": "code",
      "source": [
        "text = \"\"\"Telemedicine and health policy: A systematic review\n",
        "\n",
        "Highlights\n",
        "Frequently mentioned facilitators were access, convenience, population health, mobile technology care, and self-efficacy.\n",
        "Frequently mentioned barriers were the increased cost to providers, patient privacy, technical literacy, state licensing, and data security.\n",
        "Health policies can increase access, improve population health, and remove constraints to reach patients in developing countries.\n",
        "Abstract\n",
        "Background\n",
        "Telemedicine diagnoses and treats patients remotely via telecommunications technology all over the world. Telemedicine becomes more prevalent as providers recognize the benefits, patients receive increased access and payers see the reduction in cost of care.\n",
        "\n",
        "Objective\n",
        "Telemedicine studies have shown success in limiting geographical constraints, time spent, and costs incurred by patients with positive health outcomes across medical specialties. The aim of this review is to evaluate the implications of telemedicine and health policies.\n",
        "\n",
        "Methods\n",
        "An assessment of the literature in four databases was made on content germane to health policy implications of telemedicine. From the results of the search, 48 publications were kept for analysis.\n",
        "\n",
        "Results\n",
        "The fifteen facilitators mentioned most often were increased access, increased convenience, improved population health, care enabled through mobile technology, self-efficacy, increased patient-to-provider communication, cost advantages, efficacy of modality, increased health outcomes, reaches developing countries, increased quality, a positive previous experience, and a secure means of care. The twelve barriers mentioned most often were the increased cost to providers, patient privacy, technical literacy, state licensing, data security, socioeconomics, limited reimbursements, issues of interoperability, patient safety, less personal means of care, misaligned incentives, and ethical concerns.\n",
        "\n",
        "Conclusions\n",
        "Telemedicine has the potential for growth and adoption, however, there are several implications and barriers of health policy surrounding telemedicine that make it difficult to adopt. Policies will likely encourage and incentivize its spread and use. Future research should focus on standardization of telemedicine and new policies and incentives that encourage its use.\n",
        "\"\"\""
      ],
      "metadata": {
        "id": "5Xh2rCONxhFI"
      },
      "execution_count": null,
      "outputs": []
    },
    {
      "cell_type": "code",
      "source": [
        "summarizer(text,truncation=True)"
      ],
      "metadata": {
        "colab": {
          "base_uri": "https://localhost:8080/"
        },
        "id": "TN9dJqSkyLAu",
        "outputId": "65f6d799-0ea2-4654-9bd2-027f1beacc0b"
      },
      "execution_count": null,
      "outputs": [
        {
          "output_type": "stream",
          "name": "stderr",
          "text": [
            "Your max_length is set to 500, but you input_length is only 437. You might consider decreasing max_length manually, e.g. summarizer('...', max_length=218)\n"
          ]
        },
        {
          "output_type": "execute_result",
          "data": {
            "text/plain": [
              "[{'summary_text': 'Health policies can increase access, improve population health, and remove constraints to reach patients in developing countries. The twelve barriers mentioned most often were the increased cost to providers, patient privacy, technical literacy, state licensing, data security, socioeconomics, limited reimbursements. Future research should focus on standardization of telemedicine and new policies and incentives that encourage its use.'}]"
            ]
          },
          "metadata": {},
          "execution_count": 49
        }
      ]
    },
    {
      "cell_type": "code",
      "source": [
        "preprocessed_text = text.strip().replace(\"\\n\",\"\")"
      ],
      "metadata": {
        "id": "Mqo-V4DvHVay"
      },
      "execution_count": null,
      "outputs": []
    },
    {
      "cell_type": "code",
      "source": [
        "preprocessed_text"
      ],
      "metadata": {
        "colab": {
          "base_uri": "https://localhost:8080/",
          "height": 140
        },
        "id": "e_qVCEXrR4s_",
        "outputId": "36e16d30-5bb4-44d9-a2d8-2db674e1f1b1"
      },
      "execution_count": 15,
      "outputs": [
        {
          "output_type": "execute_result",
          "data": {
            "text/plain": [
              "'Telemedicine and health policy: A systematic reviewHighlightsFrequently mentioned facilitators were access, convenience, population health, mobile technology care, and self-efficacy.Frequently mentioned barriers were the increased cost to providers, patient privacy, technical literacy, state licensing, and data security.Health policies can increase access, improve population health, and remove constraints to reach patients in developing countries.AbstractBackgroundTelemedicine diagnoses and treats patients remotely via telecommunications technology all over the world. Telemedicine becomes more prevalent as providers recognize the benefits, patients receive increased access and payers see the reduction in cost of care.ObjectiveTelemedicine studies have shown success in limiting geographical constraints, time spent, and costs incurred by patients with positive health outcomes across medical specialties. The aim of this review is to evaluate the implications of telemedicine and health policies.MethodsAn assessment of the literature in four databases was made on content germane to health policy implications of telemedicine. From the results of the search, 48 publications were kept for analysis.ResultsThe fifteen facilitators mentioned most often were increased access, increased convenience, improved population health, care enabled through mobile technology, self-efficacy, increased patient-to-provider communication, cost advantages, efficacy of modality, increased health outcomes, reaches developing countries, increased quality, a positive previous experience, and a secure means of care. The twelve barriers mentioned most often were the increased cost to providers, patient privacy, technical literacy, state licensing, data security, socioeconomics, limited reimbursements, issues of interoperability, patient safety, less personal means of care, misaligned incentives, and ethical concerns.ConclusionsTelemedicine has the potential for growth and adoption, however, there are several implications and barriers of health policy surrounding telemedicine that make it difficult to adopt. Policies will likely encourage and incentivize its spread and use. Future research should focus on standardization of telemedicine and new policies and incentives that encourage its use.'"
            ],
            "application/vnd.google.colaboratory.intrinsic+json": {
              "type": "string"
            }
          },
          "metadata": {},
          "execution_count": 15
        }
      ]
    },
    {
      "cell_type": "code",
      "source": [
        "input_text = \"summarize:\"+preprocessed_text"
      ],
      "metadata": {
        "id": "O-kb5xEpR9hn"
      },
      "execution_count": 13,
      "outputs": []
    },
    {
      "cell_type": "code",
      "source": [
        "len(input_text.split())"
      ],
      "metadata": {
        "colab": {
          "base_uri": "https://localhost:8080/"
        },
        "id": "T-ZiRFVuSFGd",
        "outputId": "81c48062-2de2-46f5-f5f4-a292bd9d8a54"
      },
      "execution_count": 14,
      "outputs": [
        {
          "output_type": "execute_result",
          "data": {
            "text/plain": [
              "288"
            ]
          },
          "metadata": {},
          "execution_count": 14
        }
      ]
    },
    {
      "cell_type": "code",
      "source": [
        "torch.cuda.is_available()"
      ],
      "metadata": {
        "colab": {
          "base_uri": "https://localhost:8080/"
        },
        "id": "zZLmVu5rwT3S",
        "outputId": "a7e232b4-b743-4f02-a93f-f30f861cb253"
      },
      "execution_count": null,
      "outputs": [
        {
          "output_type": "execute_result",
          "data": {
            "text/plain": [
              "True"
            ]
          },
          "metadata": {},
          "execution_count": 40
        }
      ]
    },
    {
      "cell_type": "code",
      "source": [
        "device = \"cuda\" if torch.cuda.is_available() else \"cpu\""
      ],
      "metadata": {
        "id": "d4aZetdywXwk"
      },
      "execution_count": null,
      "outputs": []
    },
    {
      "cell_type": "code",
      "source": [
        "tokenized_text = tokenizer.encode(input_text,return_tensors=\"pt\",max_length=1024,truncation=True)"
      ],
      "metadata": {
        "id": "vNTDOrdISQFj"
      },
      "execution_count": 9,
      "outputs": []
    },
    {
      "cell_type": "code",
      "source": [
        "summary = model.generate(tokenized_text,min_length=30,max_length=500)\n",
        "summary_text = tokenizer.decode(summary[0],skip_special_tokens=True)"
      ],
      "metadata": {
        "id": "dmTatvUquP-Z",
        "colab": {
          "base_uri": "https://localhost:8080/"
        },
        "outputId": "1201d46a-1303-4ea8-9c2f-f154c4f6337b"
      },
      "execution_count": 10,
      "outputs": [
        {
          "output_type": "stream",
          "name": "stderr",
          "text": [
            "/usr/local/lib/python3.8/dist-packages/transformers/modeling_utils.py:764: FutureWarning: The `device` argument is deprecated and will be removed in v5 of Transformers.\n",
            "  warnings.warn(\n"
          ]
        }
      ]
    },
    {
      "cell_type": "code",
      "source": [
        "\".\".join([text.strip().capitalize() for text in summary_text.split(\".\")])"
      ],
      "metadata": {
        "colab": {
          "base_uri": "https://localhost:8080/",
          "height": 88
        },
        "id": "h-gNosluv5B4",
        "outputId": "0b13911a-a290-43e9-bc60-94574f813647"
      },
      "execution_count": 11,
      "outputs": [
        {
          "output_type": "execute_result",
          "data": {
            "text/plain": [
              "'Telemedicine has the potential for growth and adoption, however, there are several implications and barriers of health policy surrounding tele medicine that make it difficult to adopt.Policies will likely encourage and incentivize its spread and use.Future research should focus on standardization of-telemedicine and new policies and incentives that encourage its use.We conducted a systematic review of literature on content germane to health policy implications'"
            ],
            "application/vnd.google.colaboratory.intrinsic+json": {
              "type": "string"
            }
          },
          "metadata": {},
          "execution_count": 11
        }
      ]
    },
    {
      "cell_type": "code",
      "source": [
        "!pip install -q bert-extractive-summarizer"
      ],
      "metadata": {
        "id": "yFtADnJ8AQQV"
      },
      "execution_count": null,
      "outputs": []
    },
    {
      "cell_type": "code",
      "source": [
        "import spacy\n",
        "import textwrap\n",
        "from spacy.lang.en.stop_words import STOP_WORDS\n",
        "from string import punctuation\n",
        "from heapq import nlargest\n",
        "punctuation += '\\n' \n",
        "stopwords = list(STOP_WORDS)\n",
        "\n",
        "reduction_rate = 0.1  #defines how small the output summary should be compared with the input\n",
        "nlp_pl = spacy.load('en_core_web_sm')     #process original text according with the Spacy nlp pipeline for english\n"
      ],
      "metadata": {
        "id": "yeBPG_hFBhLq"
      },
      "execution_count": null,
      "outputs": []
    },
    {
      "cell_type": "code",
      "source": [
        "document = nlp_pl(preprocessed_text)                   #doc object\n",
        "sentence_tokens = [sent for sent in document.sents]"
      ],
      "metadata": {
        "id": "Ceuz104HeVys"
      },
      "execution_count": null,
      "outputs": []
    },
    {
      "cell_type": "code",
      "source": [
        "len(sentence_tokens)"
      ],
      "metadata": {
        "colab": {
          "base_uri": "https://localhost:8080/"
        },
        "id": "-M2bx5R3B8MH",
        "outputId": "2e1f45c7-2e4a-483e-b22e-2bd7ad035a2c"
      },
      "execution_count": null,
      "outputs": [
        {
          "output_type": "execute_result",
          "data": {
            "text/plain": [
              "14"
            ]
          },
          "metadata": {},
          "execution_count": 69
        }
      ]
    },
    {
      "cell_type": "code",
      "source": [
        "tokens = [token.text for token in document] #tokenized text\n",
        "\n",
        "word_frequencies = {}\n",
        "for word in document:\n",
        "    if word.text.lower() not in stopwords:\n",
        "        if word.text.lower() not in punctuation:\n",
        "            if word.text not in word_frequencies.keys():\n",
        "                word_frequencies[word.text] = 1\n",
        "            else:\n",
        "                word_frequencies[word.text] += 1\n",
        "\n",
        "max_frequency = max(word_frequencies.values())\n",
        "print(max_frequency)\n",
        "\n",
        "for word in word_frequencies.keys():\n",
        "    word_frequencies[word] = word_frequencies[word]/max_frequency\n",
        "\n",
        "print(word_frequencies)"
      ],
      "metadata": {
        "colab": {
          "base_uri": "https://localhost:8080/"
        },
        "id": "Fy-y-SiKJ_01",
        "outputId": "24f50642-1277-4bd6-ade3-599015ec2560"
      },
      "execution_count": null,
      "outputs": [
        {
          "output_type": "stream",
          "name": "stdout",
          "text": [
            "9\n",
            "{'Telemedicine': 0.2222222222222222, 'health': 1.0, 'policy': 0.3333333333333333, 'systematic': 0.1111111111111111, 'reviewHighlightsFrequently': 0.1111111111111111, 'mentioned': 0.4444444444444444, 'facilitators': 0.2222222222222222, 'access': 0.4444444444444444, 'convenience': 0.2222222222222222, 'population': 0.3333333333333333, 'mobile': 0.2222222222222222, 'technology': 0.3333333333333333, 'care': 0.5555555555555556, 'self': 0.2222222222222222, 'efficacy': 0.3333333333333333, 'Frequently': 0.1111111111111111, 'barriers': 0.3333333333333333, 'increased': 0.8888888888888888, 'cost': 0.4444444444444444, 'providers': 0.3333333333333333, 'patient': 0.4444444444444444, 'privacy': 0.2222222222222222, 'technical': 0.2222222222222222, 'literacy': 0.2222222222222222, 'state': 0.2222222222222222, 'licensing': 0.2222222222222222, 'data': 0.2222222222222222, 'security': 0.2222222222222222, 'Health': 0.1111111111111111, 'policies': 0.3333333333333333, 'increase': 0.1111111111111111, 'improve': 0.1111111111111111, 'remove': 0.1111111111111111, 'constraints': 0.2222222222222222, 'reach': 0.1111111111111111, 'patients': 0.4444444444444444, 'developing': 0.2222222222222222, 'countries': 0.2222222222222222, 'AbstractBackgroundTelemedicine': 0.1111111111111111, 'diagnoses': 0.1111111111111111, 'treats': 0.1111111111111111, 'remotely': 0.1111111111111111, 'telecommunications': 0.1111111111111111, 'world': 0.1111111111111111, 'prevalent': 0.1111111111111111, 'recognize': 0.1111111111111111, 'benefits': 0.1111111111111111, 'receive': 0.1111111111111111, 'payers': 0.1111111111111111, 'reduction': 0.1111111111111111, 'ObjectiveTelemedicine': 0.1111111111111111, 'studies': 0.1111111111111111, 'shown': 0.1111111111111111, 'success': 0.1111111111111111, 'limiting': 0.1111111111111111, 'geographical': 0.1111111111111111, 'time': 0.1111111111111111, 'spent': 0.1111111111111111, 'costs': 0.1111111111111111, 'incurred': 0.1111111111111111, 'positive': 0.2222222222222222, 'outcomes': 0.2222222222222222, 'medical': 0.1111111111111111, 'specialties': 0.1111111111111111, 'aim': 0.1111111111111111, 'review': 0.1111111111111111, 'evaluate': 0.1111111111111111, 'implications': 0.3333333333333333, 'telemedicine': 0.4444444444444444, 'MethodsAn': 0.1111111111111111, 'assessment': 0.1111111111111111, 'literature': 0.1111111111111111, 'databases': 0.1111111111111111, 'content': 0.1111111111111111, 'germane': 0.1111111111111111, 'results': 0.1111111111111111, 'search': 0.1111111111111111, '48': 0.1111111111111111, 'publications': 0.1111111111111111, 'kept': 0.1111111111111111, 'analysis': 0.1111111111111111, 'ResultsThe': 0.1111111111111111, 'improved': 0.1111111111111111, 'enabled': 0.1111111111111111, 'provider': 0.1111111111111111, 'communication': 0.1111111111111111, 'advantages': 0.1111111111111111, 'modality': 0.1111111111111111, 'reaches': 0.1111111111111111, 'quality': 0.1111111111111111, 'previous': 0.1111111111111111, 'experience': 0.1111111111111111, 'secure': 0.1111111111111111, 'means': 0.2222222222222222, 'socioeconomics': 0.1111111111111111, 'limited': 0.1111111111111111, 'reimbursements': 0.1111111111111111, 'issues': 0.1111111111111111, 'interoperability': 0.1111111111111111, 'safety': 0.1111111111111111, 'personal': 0.1111111111111111, 'misaligned': 0.1111111111111111, 'incentives': 0.2222222222222222, 'ethical': 0.1111111111111111, 'concerns': 0.1111111111111111, 'ConclusionsTelemedicine': 0.1111111111111111, 'potential': 0.1111111111111111, 'growth': 0.1111111111111111, 'adoption': 0.1111111111111111, 'surrounding': 0.1111111111111111, 'difficult': 0.1111111111111111, 'adopt': 0.1111111111111111, 'Policies': 0.1111111111111111, 'likely': 0.1111111111111111, 'encourage': 0.2222222222222222, 'incentivize': 0.1111111111111111, 'spread': 0.1111111111111111, 'use': 0.2222222222222222, 'Future': 0.1111111111111111, 'research': 0.1111111111111111, 'focus': 0.1111111111111111, 'standardization': 0.1111111111111111, 'new': 0.1111111111111111}\n"
          ]
        }
      ]
    },
    {
      "cell_type": "code",
      "source": [
        "def get_sentence_scores(sentence_tok, len_norm=True):\n",
        "  sentence_scores = {}\n",
        "  for sent in sentence_tok:\n",
        "      word_count = 0\n",
        "      for word in sent:\n",
        "          if word.text.lower() in word_frequencies.keys():\n",
        "              word_count += 1\n",
        "              if sent not in sentence_scores.keys():\n",
        "                  sentence_scores[sent] = word_frequencies[word.text.lower()]\n",
        "              else:\n",
        "                  sentence_scores[sent] += word_frequencies[word.text.lower()]\n",
        "      if len_norm:\n",
        "        sentence_scores[sent] = sentence_scores[sent]/word_count\n",
        "  return sentence_scores\n",
        "                \n",
        "sentence_scores = get_sentence_scores(sentence_tokens,len_norm=False)        #sentence scoring without lenght normalization\n",
        "sentence_scores_rel = get_sentence_scores(sentence_tokens,len_norm=True)"
      ],
      "metadata": {
        "id": "bCvRkf70J37P"
      },
      "execution_count": null,
      "outputs": []
    },
    {
      "cell_type": "code",
      "source": [
        "def get_summary(sentence_sc, rate):\n",
        "  summary_length = int(len(sentence_sc)*rate)\n",
        "  summary = nlargest(summary_length, sentence_sc, key = sentence_sc.get)\n",
        "  final_summary = [word.text for word in summary]\n",
        "  summary = ' '.join(final_summary)\n",
        "  return summary\n",
        "#the first output shows verbose and content-heavy sentences, while the second one is much more concise.\n",
        "print(\"- NON_REL: \"+ get_summary(sentence_scores, reduction_rate))\n",
        "print(\"- REL: \"+ get_summary(sentence_scores_rel, reduction_rate))"
      ],
      "metadata": {
        "colab": {
          "base_uri": "https://localhost:8080/"
        },
        "id": "D9h-THHPKHXK",
        "outputId": "09257286-e359-4c9d-ff95-18cb3f1467ad"
      },
      "execution_count": null,
      "outputs": [
        {
          "output_type": "stream",
          "name": "stdout",
          "text": [
            "- NON_REL: ResultsThe fifteen facilitators mentioned most often were increased access, increased convenience, improved population health, care enabled through mobile technology, self-efficacy, increased patient-to-provider communication, cost advantages, efficacy of modality, increased health outcomes, reaches developing countries, increased quality, a positive previous experience, and a secure means of care.\n",
            "- REL: Telemedicine and health policy: A systematic reviewHighlightsFrequently mentioned facilitators were access, convenience, population health, mobile technology care, and self-efficacy.\n"
          ]
        }
      ]
    },
    {
      "cell_type": "code",
      "source": [
        "from summarizer import Summarizer\n",
        "model = Summarizer()\n",
        "\n",
        "summary_length = int(len(sentence_tokens)*reduction_rate)\n",
        "print(summary_length)\n",
        "result = model(preprocessed_text, num_sentences=summary_length, min_length=400)\n",
        "\n",
        "print(''.join(result))"
      ],
      "metadata": {
        "colab": {
          "base_uri": "https://localhost:8080/"
        },
        "id": "I6vJdSA5xfCB",
        "outputId": "90c378f2-c996-49d6-bef4-b2b88a152766"
      },
      "execution_count": null,
      "outputs": [
        {
          "output_type": "stream",
          "name": "stderr",
          "text": [
            "Some weights of the model checkpoint at bert-large-uncased were not used when initializing BertModel: ['cls.predictions.transform.dense.bias', 'cls.predictions.decoder.weight', 'cls.predictions.transform.LayerNorm.bias', 'cls.predictions.transform.dense.weight', 'cls.seq_relationship.weight', 'cls.seq_relationship.bias', 'cls.predictions.bias', 'cls.predictions.transform.LayerNorm.weight']\n",
            "- This IS expected if you are initializing BertModel from the checkpoint of a model trained on another task or with another architecture (e.g. initializing a BertForSequenceClassification model from a BertForPreTraining model).\n",
            "- This IS NOT expected if you are initializing BertModel from the checkpoint of a model that you expect to be exactly identical (initializing a BertForSequenceClassification model from a BertForSequenceClassification model).\n"
          ]
        },
        {
          "output_type": "stream",
          "name": "stdout",
          "text": [
            "1\n",
            "ResultsThe fifteen facilitators mentioned most often were increased access, increased convenience, improved population health, care enabled through mobile technology, self-efficacy, increased patient-to-provider communication, cost advantages, efficacy of modality, increased health outcomes, reaches developing countries, increased quality, a positive previous experience, and a secure means of care.\n"
          ]
        }
      ]
    },
    {
      "cell_type": "code",
      "source": [
        "result"
      ],
      "metadata": {
        "colab": {
          "base_uri": "https://localhost:8080/",
          "height": 70
        },
        "id": "JEq5TjO1LCiY",
        "outputId": "3200ee13-63ca-457c-807b-22bfff524298"
      },
      "execution_count": null,
      "outputs": [
        {
          "output_type": "execute_result",
          "data": {
            "text/plain": [
              "'ResultsThe fifteen facilitators mentioned most often were increased access, increased convenience, improved population health, care enabled through mobile technology, self-efficacy, increased patient-to-provider communication, cost advantages, efficacy of modality, increased health outcomes, reaches developing countries, increased quality, a positive previous experience, and a secure means of care.'"
            ],
            "application/vnd.google.colaboratory.intrinsic+json": {
              "type": "string"
            }
          },
          "metadata": {},
          "execution_count": 76
        }
      ]
    },
    {
      "cell_type": "code",
      "source": [
        "result = model(preprocessed_text,min_length=400)\n",
        "\n",
        "print(''.join(result.replace('Results',\"\")))"
      ],
      "metadata": {
        "colab": {
          "base_uri": "https://localhost:8080/"
        },
        "id": "NjntPQuuLDSh",
        "outputId": "2b4af6d3-4e56-43a4-8400-35bf0f892f32"
      },
      "execution_count": null,
      "outputs": [
        {
          "output_type": "stream",
          "name": "stdout",
          "text": [
            "The fifteen facilitators mentioned most often were increased access, increased convenience, improved population health, care enabled through mobile technology, self-efficacy, increased patient-to-provider communication, cost advantages, efficacy of modality, increased health outcomes, reaches developing countries, increased quality, a positive previous experience, and a secure means of care.\n"
          ]
        }
      ]
    },
    {
      "cell_type": "code",
      "source": [
        "from summarizer import TransformerSummarizer\n",
        "GPT2_model = TransformerSummarizer(transformer_type=\"GPT2\",transformer_model_key=\"gpt2-medium\")\n",
        "full = ''.join(GPT2_model(preprocessed_text, min_length=60))\n",
        "print(full)"
      ],
      "metadata": {
        "colab": {
          "base_uri": "https://localhost:8080/",
          "height": 182,
          "referenced_widgets": [
            "92235a62d0f149af83126bb58073a17f",
            "a191a71f4bbd4a30b91b1f574b7df618",
            "d15b7e2402074ec984431b117fe97f07",
            "909486a679764229b41f27710b092449",
            "a62477988a72425791b195397d1e783b",
            "e5e6773a6b5b48c7a3a9ae974e9524e9",
            "020fb168bdb24f98938a388e99b6faf9",
            "1f4c47cd2ec4405b9aed56441a42836d",
            "694e41d50cc246e7860205937054405d",
            "dcd594b1de974b188fcf8388ee3c1887",
            "d1d46a3b26184bc4b72a976f5debbc02",
            "df68de2df72849b583e59c2232a8c2a9",
            "118e1a6ffbc94ecf9a795029956227ea",
            "bc91fc3a853e4712ba2f46438505cf84",
            "5bb02d410cf34357a849a5c58cd066f5",
            "2279d28d11cd46fb91db505ecb35fc7f",
            "ffbe56f456fc4a79a009555bf2954d68",
            "07580375c2ac465da3a03b0e5cc06137",
            "dd8e776139624df2850449afdea95448",
            "754ad9927a60474fa8774ba1b4299f43",
            "5b5ab8915f6b47a6b475a65abf22c269",
            "1a5447679ea840e3968c4030b77e83b5",
            "d69c3426fc334b7f81595215dcb04dc0",
            "fd39f908fd1c4ca2b1900f9ed4280dc2",
            "d551b8a8e5f34815b83394af9e64f2c2",
            "f197831c4e1f4b5cabcb268e4e77f4fc",
            "a42db52b70cd4b098e83a3086d09c557",
            "f8e5480bca5e4cb8a52c87eb8cdf4a87",
            "16f3a13a9caa43648d1da1fec91b0551",
            "8ffb9f8f4f814f58bd8190784e46cc4c",
            "49631a8df8cd4b28a064713e40f747e8",
            "afd3d057001b4e408a0da9620bfbf0a4",
            "82bd4e50a9a74d0bbab43787d5b7e4a5",
            "d7adca74fd9443ed80264412232f75ae",
            "4d85c65d5d564fd09cacbcec52ee6048",
            "9e5b50afb7d74357bb97e5245678aeee",
            "16b0d53def114cc49fe04e37712458eb",
            "1cb7de24abbb4d7bb0dcce34bf04487b",
            "c99ebda69b844a41ad812f70175c84ee",
            "a207cf02030a4902a5ba76475c06436d",
            "ced15b95b58246f1ac0f8c371dd9d9a4",
            "41a2324fe7af4285a57b848579ff4673",
            "e5dd76cce4734867a24825c0a2e29c6a",
            "d07630f731c0415fbb85fb474fd19c60"
          ]
        },
        "id": "K48HwtgxSC_c",
        "outputId": "75536cf2-7131-4320-8c2f-729a2ca42a63"
      },
      "execution_count": null,
      "outputs": [
        {
          "output_type": "display_data",
          "data": {
            "text/plain": [
              "Downloading (…)lve/main/config.json:   0%|          | 0.00/718 [00:00<?, ?B/s]"
            ],
            "application/vnd.jupyter.widget-view+json": {
              "version_major": 2,
              "version_minor": 0,
              "model_id": "92235a62d0f149af83126bb58073a17f"
            }
          },
          "metadata": {}
        },
        {
          "output_type": "display_data",
          "data": {
            "text/plain": [
              "Downloading (…)\"pytorch_model.bin\";:   0%|          | 0.00/1.52G [00:00<?, ?B/s]"
            ],
            "application/vnd.jupyter.widget-view+json": {
              "version_major": 2,
              "version_minor": 0,
              "model_id": "df68de2df72849b583e59c2232a8c2a9"
            }
          },
          "metadata": {}
        },
        {
          "output_type": "display_data",
          "data": {
            "text/plain": [
              "Downloading (…)olve/main/vocab.json:   0%|          | 0.00/1.04M [00:00<?, ?B/s]"
            ],
            "application/vnd.jupyter.widget-view+json": {
              "version_major": 2,
              "version_minor": 0,
              "model_id": "d69c3426fc334b7f81595215dcb04dc0"
            }
          },
          "metadata": {}
        },
        {
          "output_type": "display_data",
          "data": {
            "text/plain": [
              "Downloading (…)olve/main/merges.txt:   0%|          | 0.00/456k [00:00<?, ?B/s]"
            ],
            "application/vnd.jupyter.widget-view+json": {
              "version_major": 2,
              "version_minor": 0,
              "model_id": "d7adca74fd9443ed80264412232f75ae"
            }
          },
          "metadata": {}
        },
        {
          "output_type": "stream",
          "name": "stdout",
          "text": [
            "Telemedicine and health policy: A systematic reviewHighlightsFrequently mentioned facilitators were access, convenience, population health, mobile technology care, and self-efficacy. ObjectiveTelemedicine studies have shown success in limiting geographical constraints, time spent, and costs incurred by patients with positive health outcomes across medical specialties. Policies will likely encourage and incentivize its spread and use.\n"
          ]
        }
      ]
    },
    {
      "cell_type": "code",
      "source": [
        "from summarizer import TransformerSummarizer\n",
        "GPT2_model = TransformerSummarizer(transformer_type=\"GPT2\",transformer_model_key=\"gpt2-medium\")\n",
        "full = ''.join(GPT2_model(preprocessed_text, min_length=60))\n",
        "print(full)"
      ],
      "metadata": {
        "colab": {
          "base_uri": "https://localhost:8080/"
        },
        "id": "VhOFOCkTbRyd",
        "outputId": "ef332e93-482a-4ae9-973f-e74a82eeaad6"
      },
      "execution_count": null,
      "outputs": [
        {
          "output_type": "stream",
          "name": "stdout",
          "text": [
            "Telemedicine and health policy: A systematic reviewHighlightsFrequently mentioned facilitators were access, convenience, population health, mobile technology care, and self-efficacy. ObjectiveTelemedicine studies have shown success in limiting geographical constraints, time spent, and costs incurred by patients with positive health outcomes across medical specialties. Policies will likely encourage and incentivize its spread and use.\n"
          ]
        }
      ]
    },
    {
      "cell_type": "code",
      "source": [
        "from summarizer import TransformerSummarizer\n",
        "model = TransformerSummarizer(transformer_type=\"XLNet\",transformer_model_key=\"xlnet-base-cased\")\n",
        "full = ''.join(model(preprocessed_text, min_length=300))\n",
        "print(full)"
      ],
      "metadata": {
        "colab": {
          "base_uri": "https://localhost:8080/"
        },
        "id": "oj8-suL4YyCr",
        "outputId": "ed62f19a-7f46-4727-e5af-8d684c96d451"
      },
      "execution_count": null,
      "outputs": [
        {
          "output_type": "stream",
          "name": "stderr",
          "text": [
            "Some weights of the model checkpoint at xlnet-base-cased were not used when initializing XLNetModel: ['lm_loss.weight', 'lm_loss.bias']\n",
            "- This IS expected if you are initializing XLNetModel from the checkpoint of a model trained on another task or with another architecture (e.g. initializing a BertForSequenceClassification model from a BertForPreTraining model).\n",
            "- This IS NOT expected if you are initializing XLNetModel from the checkpoint of a model that you expect to be exactly identical (initializing a BertForSequenceClassification model from a BertForSequenceClassification model).\n"
          ]
        },
        {
          "output_type": "stream",
          "name": "stdout",
          "text": [
            "ResultsThe fifteen facilitators mentioned most often were increased access, increased convenience, improved population health, care enabled through mobile technology, self-efficacy, increased patient-to-provider communication, cost advantages, efficacy of modality, increased health outcomes, reaches developing countries, increased quality, a positive previous experience, and a secure means of care. The twelve barriers mentioned most often were the increased cost to providers, patient privacy, technical literacy, state licensing, data security, socioeconomics, limited reimbursements, issues of interoperability, patient safety, less personal means of care, misaligned incentives, and ethical concerns.\n"
          ]
        }
      ]
    },
    {
      "cell_type": "code",
      "source": [
        "preprocessed_text = text.strip().replace(\"\\n\",\"\")"
      ],
      "metadata": {
        "id": "mNXY7zh6dAw_"
      },
      "execution_count": null,
      "outputs": []
    },
    {
      "cell_type": "code",
      "source": [
        "from summarizer import TransformerSummarizer\n",
        "GPT2_model = TransformerSummarizer(transformer_type=\"GPT2\",transformer_model_key=\"gpt2-medium\")\n",
        "full = ''.join(GPT2_model(preprocessed_text, min_length=400))"
      ],
      "metadata": {
        "id": "C9FDlXjWdJw4"
      },
      "execution_count": null,
      "outputs": []
    },
    {
      "cell_type": "code",
      "source": [
        "print(''.join(full.replace('Results',\"\")))"
      ],
      "metadata": {
        "colab": {
          "base_uri": "https://localhost:8080/"
        },
        "id": "Zw4lxqI-dI4E",
        "outputId": "865e37be-9ce7-4d8a-a41b-98593eba262c"
      },
      "execution_count": null,
      "outputs": [
        {
          "output_type": "stream",
          "name": "stdout",
          "text": [
            "Although abstractive summariesare generally more beneficial to researchers because summaries used2M.K. Rohil and V. MagotraHealthcare Analytics 2 (2022) 100058for research work must highlight multiple and relevant aspects of thesemantics of the document, most of the existing methods produce ex-tractive summaries which are easier to generate because the documentthat needs to be summarized is aligned with a single aspect. These methods use different approaches suchas statistical approach, natural language processing approach, ma-chine learning approach, graph-based approach [4,5,12] and algebraicapproach amongst others [5].As documents in the biomedical and healthcare domains have dif-ferent characteristics and features, depending on the type of documents3M.K. Rohil and V. MagotraHealthcare Analytics 2 (2022) 100058Table 3Summary of text summarization related research and applications to the biomedical and healthcare domain.\n"
          ]
        }
      ]
    },
    {
      "cell_type": "markdown",
      "source": [
        "## Reading PDF"
      ],
      "metadata": {
        "id": "c9vPQEG4R-4s"
      }
    },
    {
      "cell_type": "code",
      "source": [
        "import locale\n",
        "def getpreferredencoding(do_setlocale = True):\n",
        "    return \"UTF-8\"\n",
        "locale.getpreferredencoding = getpreferredencoding"
      ],
      "metadata": {
        "id": "vdkB7f5kRGSw"
      },
      "execution_count": 6,
      "outputs": []
    },
    {
      "cell_type": "code",
      "source": [
        "! pip install PyMuPDF"
      ],
      "metadata": {
        "colab": {
          "base_uri": "https://localhost:8080/"
        },
        "id": "m7nUjJ4mLdMU",
        "outputId": "d4983eb7-939f-472b-ec70-2e9c6be60071"
      },
      "execution_count": 7,
      "outputs": [
        {
          "output_type": "stream",
          "name": "stdout",
          "text": [
            "Looking in indexes: https://pypi.org/simple, https://us-python.pkg.dev/colab-wheels/public/simple/\n",
            "Requirement already satisfied: PyMuPDF in /usr/local/lib/python3.8/dist-packages (1.21.1)\n"
          ]
        }
      ]
    },
    {
      "cell_type": "code",
      "source": [
        "type(doc)\n"
      ],
      "metadata": {
        "colab": {
          "base_uri": "https://localhost:8080/"
        },
        "id": "3hCiMBORYxbv",
        "outputId": "3a6f14c1-8eb0-4d3a-cf86-814d1c4c0677"
      },
      "execution_count": null,
      "outputs": [
        {
          "output_type": "execute_result",
          "data": {
            "text/plain": [
              "fitz.fitz.Document"
            ]
          },
          "metadata": {},
          "execution_count": 11
        }
      ]
    },
    {
      "cell_type": "markdown",
      "source": [
        "https://haystack.deepset.ai/tutorials/16_document_classifier_at_index_time"
      ],
      "metadata": {
        "id": "yXsa5BADd8Vm"
      }
    },
    {
      "cell_type": "markdown",
      "source": [
        "##PDF - Extracting Text"
      ],
      "metadata": {
        "id": "m1Xi3mUGtFXj"
      }
    },
    {
      "cell_type": "code",
      "source": [
        "import fitz\n",
        "from operator import itemgetter\n",
        "\n",
        "# Load the PDF document using PyMuPDF\n",
        "doc = fitz.open(\"/content/Published.SAFPJ.11.05.2017.pdf\")\n"
      ],
      "metadata": {
        "id": "0Q79xbZwLS6l"
      },
      "execution_count": 13,
      "outputs": []
    },
    {
      "cell_type": "markdown",
      "source": [
        "## Extract Headers and paragraphs from PDF"
      ],
      "metadata": {
        "id": "F5efw6gvUA1J"
      }
    },
    {
      "cell_type": "code",
      "source": [
        "def fonts(doc, granularity=False):\n",
        "    \"\"\"Extracts fonts and their usage in PDF documents.\n",
        "    :param doc: PDF document to iterate through\n",
        "    :type doc: <class 'fitz.fitz.Document'>\n",
        "    :param granularity: also use 'font', 'flags' and 'color' to discriminate text\n",
        "    :type granularity: bool\n",
        "    :rtype: [(font_size, count), (font_size, count}], dict\n",
        "    :return: most used fonts sorted by count, font style information\n",
        "    \"\"\"\n",
        "    styles = {}\n",
        "    font_counts = {}\n",
        "\n",
        "    for page in doc:\n",
        "        blocks = page.get_text(\"dict\")[\"blocks\"]\n",
        "        for b in blocks:  # iterate through the text blocks\n",
        "            if b['type'] == 0:  # block contains text\n",
        "                for l in b[\"lines\"]:  # iterate through the text lines\n",
        "                    for s in l[\"spans\"]:  # iterate through the text spans\n",
        "                        if granularity:\n",
        "                            identifier = \"{0}_{1}_{2}_{3}\".format(s['size'], s['flags'], s['font'], s['color'])\n",
        "                            styles[identifier] = {'size': s['size'], 'flags': s['flags'], 'font': s['font'],\n",
        "                                                  'color': s['color']}\n",
        "                        else:\n",
        "                            identifier = \"{0}\".format(s['size'])\n",
        "                            styles[identifier] = {'size': s['size'], 'font': s['font']}\n",
        "\n",
        "                        font_counts[identifier] = font_counts.get(identifier, 0) + 1  # count the fonts usage\n",
        "\n",
        "    font_counts = sorted(font_counts.items(), key=itemgetter(1), reverse=True)\n",
        "\n",
        "    if len(font_counts) < 1:\n",
        "        raise ValueError(\"Zero discriminating fonts found!\")\n",
        "\n",
        "    return font_counts, styles"
      ],
      "metadata": {
        "id": "Abm3kcgS-9nL"
      },
      "execution_count": 8,
      "outputs": []
    },
    {
      "cell_type": "code",
      "source": [
        "print(dir(doc))"
      ],
      "metadata": {
        "colab": {
          "base_uri": "https://localhost:8080/"
        },
        "id": "nLa8EDyeU5-r",
        "outputId": "bf0a806e-62ea-4300-e39a-367ee480401d"
      },
      "execution_count": null,
      "outputs": [
        {
          "output_type": "stream",
          "name": "stdout",
          "text": [
            "['FontInfos', 'FormFonts', 'Graftmaps', 'InsertedImages', 'ShownPages', '__class__', '__contains__', '__del__', '__delattr__', '__delitem__', '__dict__', '__dir__', '__doc__', '__enter__', '__eq__', '__exit__', '__format__', '__ge__', '__getattribute__', '__getitem__', '__gt__', '__hash__', '__init__', '__init_subclass__', '__le__', '__len__', '__lt__', '__module__', '__ne__', '__new__', '__reduce__', '__reduce_ex__', '__repr__', '__setattr__', '__sizeof__', '__str__', '__subclasshook__', '__swig_destroy__', '__weakref__', '_addFormFont', '_cleanup', '_delToC', '_deleteObject', '_delete_page', '_do_links', '_dropOutline', '_embeddedFileGet', '_embeddedFileIndex', '_embfile_add', '_embfile_del', '_embfile_info', '_embfile_names', '_embfile_upd', '_extend_toc_items', '_forget_page', '_getMetadata', '_getOLRootNumber', '_getPDFfileid', '_getPageInfo', '_get_char_widths', '_get_page_labels', '_graft_id', '_insert_font', '_loadOutline', '_make_page_map', '_move_copy_page', '_newPage', '_outline', '_page_refs', '_remove_links_to', '_remove_toc_item', '_reset_page_refs', '_set_page_labels', '_update_toc_item', 'add_layer', 'add_ocg', 'authenticate', 'can_save_incrementally', 'chapter_count', 'chapter_page_count', 'close', 'convert_to_pdf', 'copy_page', 'del_toc_item', 'del_xml_metadata', 'delete_page', 'delete_pages', 'embfile_add', 'embfile_count', 'embfile_del', 'embfile_get', 'embfile_info', 'embfile_names', 'embfile_upd', 'extract_font', 'extract_image', 'ez_save', 'find_bookmark', 'fullcopy_page', 'get_char_widths', 'get_layer', 'get_layers', 'get_new_xref', 'get_oc', 'get_ocgs', 'get_ocmd', 'get_outline_xrefs', 'get_page_fonts', 'get_page_images', 'get_page_labels', 'get_page_numbers', 'get_page_pixmap', 'get_page_text', 'get_page_xobjects', 'get_sigflags', 'get_toc', 'get_xml_metadata', 'has_annots', 'has_links', 'has_old_style_xrefs', 'has_xref_streams', 'init_doc', 'insert_page', 'insert_pdf', 'isEncrypted', 'is_closed', 'is_dirty', 'is_encrypted', 'is_form_pdf', 'is_pdf', 'is_reflowable', 'is_repaired', 'journal_can_do', 'journal_enable', 'journal_is_enabled', 'journal_load', 'journal_op_name', 'journal_position', 'journal_redo', 'journal_save', 'journal_start_op', 'journal_stop_op', 'journal_undo', 'language', 'last_location', 'layer_ui_configs', 'layout', 'load_page', 'location_from_page_number', 'make_bookmark', 'metadata', 'move_page', 'name', 'need_appearances', 'needs_pass', 'new_page', 'next_location', 'outline', 'page_annot_xrefs', 'page_count', 'page_cropbox', 'page_number_from_location', 'page_xref', 'pages', 'pdf_catalog', 'pdf_trailer', 'permissions', 'prev_location', 'reload_page', 'resolve_link', 'save', 'saveIncr', 'save_snapshot', 'scrub', 'search_page_for', 'select', 'set_language', 'set_layer', 'set_layer_ui_config', 'set_metadata', 'set_oc', 'set_ocmd', 'set_page_labels', 'set_toc', 'set_toc_item', 'set_xml_metadata', 'stream', 'subset_fonts', 'switch_layer', 'this', 'thisown', 'tobytes', 'update_object', 'update_stream', 'write', 'xref_copy', 'xref_get_key', 'xref_get_keys', 'xref_is_font', 'xref_is_image', 'xref_is_stream', 'xref_is_xobject', 'xref_length', 'xref_object', 'xref_set_key', 'xref_stream', 'xref_stream_raw', 'xref_xml_metadata']\n"
          ]
        }
      ]
    },
    {
      "cell_type": "code",
      "source": [
        "for page in doc:\n",
        "  print(dir(page.get_text))\n",
        "  break"
      ],
      "metadata": {
        "colab": {
          "base_uri": "https://localhost:8080/"
        },
        "id": "VcRK-5rTVM4V",
        "outputId": "393c8f82-1f6e-48f6-a922-c6ffce604aea"
      },
      "execution_count": null,
      "outputs": [
        {
          "output_type": "stream",
          "name": "stdout",
          "text": [
            "['__call__', '__class__', '__delattr__', '__dir__', '__doc__', '__eq__', '__format__', '__func__', '__ge__', '__get__', '__getattribute__', '__gt__', '__hash__', '__init__', '__init_subclass__', '__le__', '__lt__', '__ne__', '__new__', '__reduce__', '__reduce_ex__', '__repr__', '__self__', '__setattr__', '__sizeof__', '__str__', '__subclasshook__']\n"
          ]
        }
      ]
    },
    {
      "cell_type": "code",
      "source": [
        "font_counts, styles = fonts(doc, granularity=False)"
      ],
      "metadata": {
        "id": "xj5uCITrTdCa"
      },
      "execution_count": 56,
      "outputs": []
    },
    {
      "cell_type": "code",
      "source": [
        "styles"
      ],
      "metadata": {
        "colab": {
          "base_uri": "https://localhost:8080/"
        },
        "id": "XeH2nrB0WJQs",
        "outputId": "98f6fa23-c2a7-4ea4-97e3-d333c9de99d3"
      },
      "execution_count": null,
      "outputs": [
        {
          "output_type": "execute_result",
          "data": {
            "text/plain": [
              "{'5.963251113891602': {'size': 5.963251113891602,\n",
              "  'font': 'SourceSansPro-Semibold'},\n",
              " '13.251668930053711': {'size': 13.251668930053711, 'font': 'Martel-Regular'},\n",
              " '6.6258344650268555': {'size': 6.6258344650268555,\n",
              "  'font': 'SourceSansPro-Regular'},\n",
              " '4.638084411621094': {'size': 4.638084411621094,\n",
              "  'font': 'SourceSansPro-Regular'},\n",
              " '5.300667762756348': {'size': 5.300667762756348,\n",
              "  'font': 'SourceSansPro-Regular'},\n",
              " '7.9510016441345215': {'size': 7.9510016441345215,\n",
              "  'font': 'SourceSansPro-Regular'},\n",
              " '8.0': {'size': 8.0, 'font': 'MyriadPro-Light'},\n",
              " '7.589466094970703': {'size': 7.589466094970703, 'font': 'MyriadPro-Regular'},\n",
              " '10.0': {'size': 10.0, 'font': 'MyriadPro-Bold'},\n",
              " '7.0': {'size': 7.0, 'font': 'MyriadPro-Regular'},\n",
              " '8.81816291809082': {'size': 8.81816291809082, 'font': 'MyriadPro-Regular'},\n",
              " '5.290897846221924': {'size': 5.290897846221924, 'font': 'MyriadPro-Regular'},\n",
              " '6.453680992126465': {'size': 6.453680992126465, 'font': 'MyriadPro-Regular'},\n",
              " '18.0': {'size': 18.0, 'font': 'MyriadPro-BoldCond'},\n",
              " '9.0': {'size': 9.0, 'font': 'MyriadPro-It'},\n",
              " '5.400000095367432': {'size': 5.400000095367432, 'font': 'MyriadPro-Bold'},\n",
              " '7.375635623931885': {'size': 7.375635623931885, 'font': 'MyriadPro-Regular'},\n",
              " '4.0': {'size': 4.0, 'font': 'Helvetica'}}"
            ]
          },
          "metadata": {},
          "execution_count": 23
        }
      ]
    },
    {
      "cell_type": "code",
      "source": [
        "font_counts"
      ],
      "metadata": {
        "colab": {
          "base_uri": "https://localhost:8080/"
        },
        "id": "ipGuGBmHUT59",
        "outputId": "d7640569-8580-4afb-a879-0a1b957ef06c"
      },
      "execution_count": null,
      "outputs": [
        {
          "output_type": "execute_result",
          "data": {
            "text/plain": [
              "[('8.81816291809082', 310),\n",
              " ('8.0', 269),\n",
              " ('7.375635623931885', 85),\n",
              " ('5.290897846221924', 40),\n",
              " ('6.6258344650268555', 26),\n",
              " ('10.0', 18),\n",
              " ('5.300667762756348', 9),\n",
              " ('7.589466094970703', 7),\n",
              " ('5.963251113891602', 6),\n",
              " ('7.0', 6),\n",
              " ('6.453680992126465', 6),\n",
              " ('9.0', 5),\n",
              " ('7.9510016441345215', 4),\n",
              " ('5.400000095367432', 2),\n",
              " ('13.251668930053711', 1),\n",
              " ('4.638084411621094', 1),\n",
              " ('18.0', 1),\n",
              " ('4.0', 1)]"
            ]
          },
          "metadata": {},
          "execution_count": 22
        }
      ]
    },
    {
      "cell_type": "code",
      "source": [
        "def font_tags(font_counts, styles):\n",
        "    \"\"\"Returns dictionary with font sizes as keys and tags as value.\n",
        "    :param font_counts: (font_size, count) for all fonts occuring in document\n",
        "    :type font_counts: list\n",
        "    :param styles: all styles found in the document\n",
        "    :type styles: dict\n",
        "    :rtype: dict\n",
        "    :return: all element tags based on font-sizes\n",
        "    \"\"\"\n",
        "    p_style = styles[font_counts[0][0]]  # get style for most used font by count (paragraph)\n",
        "    p_size = p_style['size']  # get the paragraph's size\n",
        "\n",
        "    # sorting the font sizes high to low, so that we can append the right integer to each tag\n",
        "    font_sizes = []\n",
        "    for (font_size, count) in font_counts:\n",
        "        font_sizes.append(float(font_size))\n",
        "    font_sizes.sort(reverse=True)\n",
        "\n",
        "    # aggregating the tags for each font size\n",
        "    idx = 0\n",
        "    size_tag = {}\n",
        "    for size in font_sizes:\n",
        "        idx += 1\n",
        "        if size == p_size:\n",
        "            idx = 0\n",
        "            size_tag[size] = '<p>'\n",
        "        if size > p_size:\n",
        "            size_tag[size] = '<h{0}>'.format(idx)\n",
        "        elif size < p_size:\n",
        "            size_tag[size] = '<s{0}>'.format(idx)\n",
        "\n",
        "    return size_tag"
      ],
      "metadata": {
        "id": "iI4-Ejj8WY-S"
      },
      "execution_count": 9,
      "outputs": []
    },
    {
      "cell_type": "code",
      "source": [
        "size_tag = font_tags(font_counts, styles)"
      ],
      "metadata": {
        "id": "HhaPtNPUWjVp"
      },
      "execution_count": 58,
      "outputs": []
    },
    {
      "cell_type": "code",
      "source": [
        "size_tag"
      ],
      "metadata": {
        "colab": {
          "base_uri": "https://localhost:8080/"
        },
        "id": "L2eSpTIeWkzB",
        "outputId": "85de6bfa-493f-44eb-cb6d-fb9a9018c5f9"
      },
      "execution_count": 59,
      "outputs": [
        {
          "output_type": "execute_result",
          "data": {
            "text/plain": [
              "{18.0: '<h1>',\n",
              " 13.251668930053711: '<h2>',\n",
              " 10.0: '<h3>',\n",
              " 9.0: '<h4>',\n",
              " 8.81816291809082: '<p>',\n",
              " 8.0: '<s1>',\n",
              " 7.9510016441345215: '<s2>',\n",
              " 7.589466094970703: '<s3>',\n",
              " 7.375635623931885: '<s4>',\n",
              " 7.0: '<s5>',\n",
              " 6.6258344650268555: '<s6>',\n",
              " 6.453680992126465: '<s7>',\n",
              " 5.963251113891602: '<s8>',\n",
              " 5.400000095367432: '<s9>',\n",
              " 5.300667762756348: '<s10>',\n",
              " 5.290897846221924: '<s11>',\n",
              " 4.638084411621094: '<s12>',\n",
              " 4.0: '<s13>'}"
            ]
          },
          "metadata": {},
          "execution_count": 59
        }
      ]
    },
    {
      "cell_type": "code",
      "source": [
        "def headers_para(doc, size_tag):\n",
        "    \"\"\"Scrapes headers & paragraphs from PDF and return texts with element tags.\n",
        "    :param doc: PDF document to iterate through\n",
        "    :type doc: <class 'fitz.fitz.Document'>\n",
        "    :param size_tag: textual element tags for each size\n",
        "    :type size_tag: dict\n",
        "    :rtype: list\n",
        "    :return: texts with pre-prended element tags\n",
        "    \"\"\"\n",
        "    header_para = []  # list with headers and paragraphs\n",
        "    first = True  # boolean operator for first header\n",
        "    previous_s = {}  # previous span\n",
        "\n",
        "    for page in doc:\n",
        "        blocks = page.get_text(\"dict\")[\"blocks\"]\n",
        "        for b in blocks:  # iterate through the text blocks\n",
        "            if b['type'] == 0:  # this block contains text\n",
        "\n",
        "                # REMEMBER: multiple fonts and sizes are possible IN one block\n",
        "\n",
        "                block_string = \"\"  # text found in block\n",
        "                for l in b[\"lines\"]:  # iterate through the text lines\n",
        "                    for s in l[\"spans\"]:  # iterate through the text spans\n",
        "                        if s['text'].strip():  # removing whitespaces:\n",
        "                            if first:\n",
        "                                previous_s = s\n",
        "                                first = False\n",
        "                                block_string = size_tag[s['size']] + s['text']\n",
        "                            else:\n",
        "                                if s['size'] == previous_s['size']:\n",
        "\n",
        "                                    if block_string and all((c == \"|\") for c in block_string):\n",
        "                                        # block_string only contains pipes\n",
        "                                        block_string = size_tag[s['size']] + s['text']\n",
        "                                    if block_string == \"\":\n",
        "                                        # new block has started, so append size tag\n",
        "                                        block_string = size_tag[s['size']] + s['text']\n",
        "                                    else:  # in the same block, so concatenate strings\n",
        "                                        block_string += \" \" + s['text']\n",
        "\n",
        "                                else:\n",
        "                                    header_para.append(block_string)\n",
        "                                    block_string = size_tag[s['size']] + s['text']\n",
        "\n",
        "                                previous_s = s\n",
        "\n",
        "                    # new block started, indicating with a pipe\n",
        "                    block_string += \"|\"\n",
        "\n",
        "                header_para.append(block_string)\n",
        "\n",
        "    return header_para"
      ],
      "metadata": {
        "id": "SsH9pEhNWuTZ"
      },
      "execution_count": 10,
      "outputs": []
    },
    {
      "cell_type": "code",
      "source": [
        "elements = headers_para(doc, size_tag)\n",
        "\n",
        "\n"
      ],
      "metadata": {
        "id": "3MUUphB6WzKJ"
      },
      "execution_count": 61,
      "outputs": []
    },
    {
      "cell_type": "code",
      "source": [
        "type(elements)"
      ],
      "metadata": {
        "colab": {
          "base_uri": "https://localhost:8080/"
        },
        "id": "Sdlijy8YXPkG",
        "outputId": "f33f439b-6380-4728-ecf0-b00631682352"
      },
      "execution_count": 62,
      "outputs": [
        {
          "output_type": "execute_result",
          "data": {
            "text/plain": [
              "list"
            ]
          },
          "metadata": {},
          "execution_count": 62
        }
      ]
    },
    {
      "cell_type": "code",
      "source": [
        "len(elements)"
      ],
      "metadata": {
        "colab": {
          "base_uri": "https://localhost:8080/"
        },
        "id": "D21RNbrmYwg8",
        "outputId": "437844c5-f570-47ce-c04c-a971d973b861"
      },
      "execution_count": 63,
      "outputs": [
        {
          "output_type": "execute_result",
          "data": {
            "text/plain": [
              "453"
            ]
          },
          "metadata": {},
          "execution_count": 63
        }
      ]
    },
    {
      "cell_type": "code",
      "source": [
        "elements[10]"
      ],
      "metadata": {
        "colab": {
          "base_uri": "https://localhost:8080/",
          "height": 36
        },
        "id": "CjEPwUBbY2ZT",
        "outputId": "88314d33-b58e-4200-b013-49538b07d839"
      },
      "execution_count": 64,
      "outputs": [
        {
          "output_type": "execute_result",
          "data": {
            "text/plain": [
              "''"
            ],
            "application/vnd.google.colaboratory.intrinsic+json": {
              "type": "string"
            }
          },
          "metadata": {},
          "execution_count": 64
        }
      ]
    },
    {
      "cell_type": "markdown",
      "source": [
        "##Extracting headers and paragraphs from the PDF"
      ],
      "metadata": {
        "id": "2QAB7iSmuLXJ"
      }
    },
    {
      "cell_type": "code",
      "source": [
        "context= []\n",
        "header = []\n",
        "for text in elements:\n",
        "    if text.startswith(\"<h\"):\n",
        "      start = text.index(\">\")\n",
        "      header.append(text[start+1:].replace(\"|\",\"\"))\n",
        "    if text.startswith(\"<p\"):\n",
        "      start = text.index(\">\")\n",
        "      context.append(text[start+1:].replace(\"|\",\"\"))"
      ],
      "metadata": {
        "id": "lD-yrAgzY-CY"
      },
      "execution_count": 65,
      "outputs": []
    },
    {
      "cell_type": "code",
      "source": [
        "\n",
        "header_context = []\n",
        "\n",
        "for text in elements:\n",
        "    if text.startswith(\"<h\"):\n",
        "      start = text.index(\">\")\n",
        "      header_context.append(text[start+1:].replace(\"|\",\"\"))\n",
        "    if text.startswith(\"<p\"):\n",
        "      start = text.index(\">\")\n",
        "      header_context.append(text[start+1:].replace(\"|\",\"\"))"
      ],
      "metadata": {
        "id": "MKjSL1bI1v31"
      },
      "execution_count": 71,
      "outputs": []
    },
    {
      "cell_type": "code",
      "source": [
        "len(header_context[3])"
      ],
      "metadata": {
        "colab": {
          "base_uri": "https://localhost:8080/"
        },
        "id": "wiake0lv2tSB",
        "outputId": "edb5fe0f-e077-4fc2-dc93-804a7091b9ee"
      },
      "execution_count": 75,
      "outputs": [
        {
          "output_type": "execute_result",
          "data": {
            "text/plain": [
              "12"
            ]
          },
          "metadata": {},
          "execution_count": 75
        }
      ]
    },
    {
      "cell_type": "markdown",
      "source": [
        "## Extract text for corresponding headers"
      ],
      "metadata": {
        "id": "PNL0h_dFAhcw"
      }
    },
    {
      "cell_type": "code",
      "source": [
        "element_dict = {}\n",
        "for text in elements:\n",
        "  print(text)\n",
        "  prev = text[0:start]\n",
        "  if text.startswith(\"<h\"): \n",
        "    start = text.index(\">\")\n",
        "    header = text[start+1:].replace(\"|\",\"\")\n",
        "    \n",
        "  if text.startswith(\"<p\") and header not in element_dict.keys():\n",
        "      c = []\n",
        "      start = text.index(\">\")\n",
        "      c.append(text[start+1:].replace(\"|\",\"\"))\n",
        "      element_dict[header] = c\n",
        "  elif text.startswith(\"<p\") and header in element_dict.keys():\n",
        "      start = text.index(\">\")\n",
        "      c.append(text[start+1:].replace(\"|\",\"\"))\n",
        "      element_dict[header] =c\n",
        "  else:\n",
        "    continue\n",
        "    "
      ],
      "metadata": {
        "colab": {
          "base_uri": "https://localhost:8080/"
        },
        "id": "HuajqRZP3gv7",
        "outputId": "987b32be-f5b0-4cf5-9d16-cd0c2c564161"
      },
      "execution_count": 84,
      "outputs": [
        {
          "output_type": "stream",
          "name": "stdout",
          "text": [
            "<s8>See discussions, stats, and author profiles for this publication at:  https://www.researchgate.net/publication/316990409|\n",
            "\n",
            "<h2>The medical management of glaucoma|\n",
            "\n",
            "<s6>Article in South African Family Practice · May 2017|\n",
            "\n",
            "<s12>DOI: 10.4102/safp.v59i2.4669|\n",
            "\n",
            "<s10>CITATIONS|\n",
            "<s2>3|\n",
            "\n",
            "<s10>READS|\n",
            "<s2>11,056|\n",
            "\n",
            "<s6>2 authors:|\n",
            "<s6>Some of the authors of this publication are also working on these related projects:|\n",
            "<s6>Medical View project|\n",
            "<s6>Indigenous Knowledge Systems: Pharmacology and Toxicology View project|\n",
            "<s6>Andre Marais|\n",
            "<s6>University of Pretoria|\n",
            "\n",
            "<s8>20\n",
            "<s10>PUBLICATIONS\n",
            "<s8>34\n",
            "<s10>CITATIONS|\n",
            "<s10>SEE PROFILE|\n",
            "\n",
            "<s6>Elzbieta Osuch|\n",
            "<s6>Sefako Makgatho Health Sciences University|\n",
            "\n",
            "<s8>26\n",
            "<s10>PUBLICATIONS\n",
            "<s8>110\n",
            "<s10>CITATIONS|\n",
            "<s10>SEE PROFILE|\n",
            "\n",
            "<s6>All content following this page was uploaded by  Andre Marais  on 17 May 2017.|\n",
            "\n",
            "<s10>The user has requested enhancement of the downloaded file.|\n",
            "\n",
            "<s1>The page number in the footer is not for bibliographic referencing| www.tandfonline.com/oemd|\n",
            "<s3>6|\n",
            "\n",
            "<h3>S Afr Fam Pract|\n",
            "\n",
            "<s5>ISSN 2078-6190    EISSN 2078-6204 | © 2017 The Author(s)|\n",
            "\n",
            "<h3>REVIEW|\n",
            "<h3>Introduction|\n",
            "\n",
            "<p>Glaucoma is a mixed group of eye disorders sharing common | features which typically includes optic disc cupping and visual | field loss, thereby more accurately defined as an optic neuropathy. | Optic nerve damage results in progressive retinal ganglionic | cell loss and irreversible blindness, if not treated.\n",
            "<s11>1\n",
            "<p> Traditionally, | glaucoma has been characterized by the existence of raised | intraocular pressure (IOP), however nerve damage may occur in the | presence of values within the statistically normal range between  |\n",
            "<p>8–21 mmHg. Glaucomatous disc and field changes in the absence |\n",
            "<p>of elevated pressure constitutes normal or low tension glaucoma |\n",
            "<p>(LTG).\n",
            "<s11>2\n",
            "<p> Similarly, conditions exceeding the upper limit of 21 mmHg |\n",
            "<p>may not be associated with signs of visual field loss or optic disc |\n",
            "<p>damage and comprises ocular hypertension.\n",
            "<s11>3\n",
            "<p>  In addition to optic |\n",
            "<p>neuropathy, the two main types of glaucoma (open angle and |\n",
            "<p>closed angle) are described on the appearance of the drainage |\n",
            "<p>system within the eye, including associated increase in the IOP |\n",
            "<p>(Figure 1).|\n",
            "\n",
            "<h3>Abstract|\n",
            "\n",
            "<p>Glaucoma is one of the leading causes of blindness worldwide. The main characteristic features include optic disc cupping, visual field | loss, and in most instances a raised intraocular pressure. Primary open angle glaucoma accounts for nearly two thirds of all cases, while | angle closure glaucoma contributes the majority of the remainder. Screening for glaucoma is not cost-effective, and diagnosis of the | primary open angle type is usually an incidental finding during ophthalmological examination. Various treatment options, including | medical and surgical interventions are accessible in the management of glaucoma. This article contains a brief description on the | pathophysiology and focuses on the pharmacological options available in the treatment of glaucoma.  |\n",
            "<p>Keywords:  Glaucoma, prostaglandin analogs, carbonic anhydrase inhibitors, beta antagonists, alpha 2 adrenergic agonists, cholinergic | agonists|\n",
            "\n",
            "<s7>South African Family Practice  2017; 59(2):6-13|| Open Access article distributed under the terms of the | Creative Commons License [CC BY-NC-ND 4.0] | http://creativecommons.org/licenses/by-nc-nd/4.0|\n",
            "\n",
            "<h1>The medical management of glaucoma|\n",
            "\n",
            "<h4>Andre Marais,\n",
            "<s9>1  \n",
            "<h4>Elzbieta Osuch\n",
            "<s9>2|\n",
            "\n",
            "<h4>1 Department of Pharmacology, School of Medicine, Faculty of Health Sciences, University of Pretoria, South Africa| 2 Department of Pharmacology & Therapeutics, School of Medicine, Sefako Makghato Health Sciences University, South Africa|\n",
            "<h4>Corresponding author, email: dramarais@gmail.com / andre.marais@up.ac.za|\n",
            "\n",
            "<s1>Figure 1.  Difference between open angle glaucoma and closed angle glaucoma in relation to the drainage systems within the anterior chamber of the | eye. [Images reprinted with permission from the Glaucoma Research Foundation,  http://www.glaucoma.org/ ]|\n",
            "<s1>The medical management of glaucoma| 7|\n",
            "<s1>The page number in the footer is not for bibliographic referencing| www.tandfonline.com/oemd|\n",
            "<s3>7|\n",
            "\n",
            "<p>Both types can be further divided into primary versus secondary, |\n",
            "<p>and congenital versus acquired. Glaucoma has a global prevalence |\n",
            "<p>of 3.54% in those aged between 40 and 80 years, and is the |\n",
            "<p>second leading cause of irreversible blindness, only superseded |\n",
            "<p>by cataracts. Open angle glaucoma is the highest in Africa (4.2%), |\n",
            "<p>while closed angle glaucoma is more prevalent in Asia (1.09%).\n",
            "<s11>4|\n",
            "\n",
            "<h3>Pathophysiology of glaucoma|\n",
            "\n",
            "<p>Aqueous humour (a transparent, low protein containing fluid) is |\n",
            "<p>continuously secreted by the ciliary epithelium providing structural |\n",
            "<p>support to the lens. This watery fluid is present in both the anterior |\n",
            "<p>and posterior chambers of the eye and drains through a sieve-like |\n",
            "<p>trabecular meshwork located in the angle between the cornea |\n",
            "<p>and the iris. Final drainage out of the eye occurs via the canal of |\n",
            "<p>Schlemm  into the episcleral vein or intrascleral venous plexus |\n",
            "<p>terminating in the ocular veins.\n",
            "<s11>5|\n",
            "\n",
            "<h3>Open angle glaucoma|\n",
            "\n",
            "<p>In open angle glaucoma, the trabecular meshwork undergoes |\n",
            "<p>morphological changes over time, resulting in progressive |\n",
            "<p>impairment of drainage although it remains anatomically open. |\n",
            "<p>(Figure 1) Open angle glaucoma most often affects both eyes, |\n",
            "<p>but asymmetric involvement is not uncommon. Primary open |\n",
            "<p>angle glaucoma (POAG) is the most common type and accounts |\n",
            "<p>for 74% of all glaucoma cases. It is estimated that 57.5 million |\n",
            "<p>people (3.05%) worldwide suffer from POAG.\n",
            "<s11>4\n",
            "<p> Prevalence among |\n",
            "<p>Black populations is the highest, with 2.1% at age 40 and 12.2% at |\n",
            "<p>age 80 being reported. The incidence in Asian populations (0.8% |\n",
            "<p>at age 40 and 4.3% at age 80), and Caucasians (0.4% at 40 years |\n",
            "<p>and 5.3% at 80 years) suggests an ethno-genetic disease pattern.\n",
            "<s11>6|\n",
            "\n",
            "<p>Although the exact cause of POAG remains unknown, more than |\n",
            "<p>fifty risk factors and secondary causes have been identified. |\n",
            "<p>Some of these include diabetes mellitus, migraine headache, |\n",
            "<p>cardiovascular disease, asthma or COPD (inhaled anticholinergics |\n",
            "<p>and glucocorticosteroids), myopia, advanced age and a family |\n",
            "<p>history of first-degree relatives with the same condition.\n",
            "<s11>7,8\n",
            "<p>  Disease |\n",
            "<p>progression leads to the formation of scar tissue between the iris |\n",
            "<p>and trabecular meshwork and will ultimately result in closing off |\n",
            "<p>the anterior chamber. The consequent rise in IOP is transmitted to |\n",
            "<p>the optic disc and is eventually responsible for atrophy and nerve |\n",
            "<p>fiber damage. Owing to the slow progression of the disease, POAG |\n",
            "<p>remains asymptomatic until central vision is affected. It does not |\n",
            "<p>present with headache, eye pain or loss of visual acuity. Diagnosis |\n",
            "<p>is usually incidental during routine funduscopic or optometry |\n",
            "<p>examinations. A cup : disc ratio of 0.6 (glaucomatous cupping), and |\n",
            "<p>central corneal thickness in the presence of risk factors is suggestive |\n",
            "<p>of glaucoma, and requires ophthalmological referral (Figure 2). |\n",
            "<p>The progression from POAG to Chronic Angle-Closure Glaucoma |\n",
            "<p>(CACG), requires lifelong treatment.\n",
            "<s11>9|\n",
            "\n",
            "<p>Official general population screening policies do not exist and are |\n",
            "<p>not cost-effective. Measuring IOP has a sensitivity of only 47.1%, |\n",
            "<p>implying that nearly half of patients with POAG will have IOP below |\n",
            "<p>22 mmHg. However, patients with risk factors are encouraged to |\n",
            "<p>undergo annual ophthalmological examinations and additional |\n",
            "<p>IOP measurements.\n",
            "<s11>10|\n",
            "\n",
            "<h3>Closed angle glaucoma|\n",
            "\n",
            "<p>With closed angle glaucoma, a primary hypermetropic anatomical |\n",
            "<p>defect (such as weakened ciliary muscles, naturally small eyes, |\n",
            "<p>narrow angle or thick lens) in the absence of an identifiable |\n",
            "<p>secondary cause, results in the pupil compressing the drainage |\n",
            "<p>canal between the iris and cornea. Compression and narrowing of |\n",
            "<p>the canal reduces or obstructs the outflow of aqueous humour in |\n",
            "<p>passing through the pupil, therefore accumulating in the anterior |\n",
            "<p>chamber (Figure 1).\n",
            "<s11>11 \n",
            "<p>Primary angle closure glaucoma (PACG) is |\n",
            "<p>less common than POAG and accounts for approximately a third |\n",
            "<p>of all cases, with a global incidence of 0.5%.\n",
            "<s11>4\n",
            "<p> Symptoms of closed |\n",
            "<p>angle glaucoma depend on the degree of angle closure and in |\n",
            "<p>some instances may resolve spontaneously; in which case it may |\n",
            "<p>become chronic. In established disease, vision loss is severe and |\n",
            "<p>permanent. Secondary causes of angle-closure glaucoma include |\n",
            "<p>masses or hemorrhage in the posterior segment of the eyeball or |\n",
            "<p>the presence of a fibrovascular membrane (neovascular glaucoma) |\n",
            "<p>over the anterior chamber angle. Risk factors for angle closure |\n",
            "<p>glaucoma include older age (> 60 years), female gender, Asian |\n",
            "<p>ethnicity, hyperopia and a positive family history.\n",
            "<s11>11\n",
            "<p> Attacks occur |\n",
            "<p>more frequently at night when diminished light cause mydriasis and |\n",
            "<p>narrowing of the angle.\n",
            "<s11>12\n",
            "<p> Unexpected closure (acute angle closure |\n",
            "<p>glaucoma, AACG) of the anterior chamber angle due to pupillary |\n",
            "<p>block may result in a sudden rise in IOP. It constitutes a medical |\n",
            "<p>emergency, since permanent blindness and irreversible damage |\n",
            "<p>to the optic nerve may occur. Acute attacks are characterized |\n",
            "<p>by intermittent symptoms such as severe eye pain, nausea and |\n",
            "<p>vomiting, loss of vision, halos around lights, unilateral red tearing |\n",
            "<p>eye, oval shaped non-reactive pupil, a cloudy cornea and the loss |\n",
            "<p>of red reflex (Figure 3).|\n",
            "<p>In addition, it is estimated that prescribed, or over-the-counter |\n",
            "<p>pharmacological agents are responsible for at least 30% of acute |\n",
            "\n",
            "<s1>Figure 2 .  Normal optic disc (a) vs glaucomatous cupping (b) [Images | adapted with permission from the Glaucoma Research Foundation, | http://www.glaucoma.org/ ]|\n",
            "<s1>S Afr Fam Pract  2017;59(2):6-13| 8|\n",
            "<s1>The page number in the footer is not for bibliographic referencing| www.tandfonline.com/oemd|\n",
            "<s3>8|\n",
            "\n",
            "<p>angle closure glaucoma.\n",
            "<s11>13\n",
            "<p>  These include antihistamines, cholinergic- | and anticholinergic agents, adrenergic agents, antidepressants, | sulphonamides, anticoagulants and glucocorticosteroids. Table 1 | below summarises the mechanism responsible for causing AACG.|\n",
            "\n",
            "<h3> Treatment goals|\n",
            "\n",
            "<p>The goal in treating POAG is to establish and maintain the intra-| ocular pressure at a range where visual field loss will have the | least negative impact on the patient’s perceived visual disability. | “Various studies have shown that visual field loss in glaucoma has | been  associated with a significant decrease in a person’s vision-| related quality of life.  This is evident in activities requiring optimal | vision, such as dark adaptation, avoiding unintentional bumping | into objects and outdoor mobility.\n",
            "<s11>14,15 \n",
            "<p>Determining the target | intraocular pressure needs to be individualised for each patient, | since the measured pressure at diagnosis could be within the normal | range of 8 to 21 mmHg in 30–50% of patients.\n",
            "<s11>16\n",
            "<p> Aiming for pressures | within these ranges will contribute towards optic nerve damage | and further progression. It is generally accepted that patients with | early disease benefit from a reduction of at least 20% in the baseline | value. A reduction of 30% is recommended in individuals with | more advanced features of POAG.\n",
            "<s11>17\n",
            "<p> Target IOP should continuously | be re-calculated during monitoring and follow-up assessment | of visual fields and disc and nerve fiber examinations. Reducing | the IOP, however, does not guarantee that progression will not | transpire. The choice of therapy depends on the relative risks and | benefits of available modalities, which include pharmacological | treatment, laser therapy or incisional surgery. Factors such as cost, | dosing, patient’s age, the presence of comorbidities (asthma or |\n",
            "\n",
            "<s1>Figure 3 .  Acute angle closure glaucoma showing oval shaped pupil, | corneal haziness and loss of red reflex [Image available from  https://| en.wikipedia.org/wiki/Glaucoma ]|\n",
            "<s1>Table 1.  Drugs associated with precipitating acute angle closure glaucoma (AACG)|\n",
            "<s1>Drug class| Mechanism |\n",
            "<s1>Histamine 1 and 2 receptor antagonists|\n",
            "<s1>Brompheniramine | Chlorpheniramine | Dexchlorpheniramine | Dimethindene | Pheniramine | Triprolidine |\n",
            "<s1>Cimetidine | Ranitidine |\n",
            "<s1>Antihistamines used in treatment of allergic disease, GORD and peptic ulcer disease have weak | anticholinergic effects which may induce mydriasis.|\n",
            "<s1>Cholinergic agents|\n",
            "<s1>Pilocarpine | Indicated for use in acute closed angle glaucoma by increasing uveoscleral  outflow, but in rare | instances may also cause an acute attack due to anterior movement of iris resulting in complete | miotic-induced angle closure.|\n",
            "<s1>Anticholinergic agents|\n",
            "<s1>Tropicamide | Atropine | Homatropine | Cyclopentolate |\n",
            "<s1>Ipratropium |\n",
            "<s1>Anticholinergics are used to induce pupil dilatation and relaxation of ciliary muscle during fundus | examination. The long acting anticholinergic action frequently induces acute attacks.|\n",
            "<s1>50% of patients with pre-existing glaucoma nebulized with ipratropium develop acute attacks due to | corneal diffusion of nebulized solution.|\n",
            "<s1>Adrenergic agents|\n",
            "<s1>Phenylephrine| Apraclonidine| Ephedrine| Adrenaline| Amphetamines|\n",
            "<s1>Salbutamol| Albuterol| Terbutaline|\n",
            "<s1>α1 adrenergic agents cause mydriasis and individuals with shallow anterior chambers are more at risk | to develop acute attack.| Occurs with local (eye), nasal, systemic administration.|\n",
            "<s1>Absorption through cornea via face-mask escape during nebulization | Nebulized β adrenergic agents for bronchospasm increases IOP and induce transient angle closure. | This is exacerbated if combined with ipratropium.| Stimulation of β2 receptors in ciliary body promotes aqueous humour secretion.|\n",
            "<s1>The medical management of glaucoma| 9|\n",
            "<s1>The page number in the footer is not for bibliographic referencing| www.tandfonline.com/oemd|\n",
            "<s3>9|\n",
            "\n",
            "<p>COPD), pregnancy, adherence to treatment and the degree of optic | disc damage should be considered in choosing an appropriate | treatment regimen.\n",
            "<s11>18|\n",
            "\n",
            "<p>In treating AACG, the primary goal is to make the correct diagnosis to | prevent permanent loss of vision. This is achieved by rapid lowering | of the IOP and reversal of the angle closure. Empiric treatment with | topical and systemic aqueous humour suppressants (β blockers | and acetazolamide) reduces the IOP, followed by pilocarpine to | reverse the pupil block. In the absence of available trials comparing | medical options for treatment of AACG, the initial management | usually consists of administering one drop of 0.5% timolol,  | 1% apraclonidine and 2% pilocarpine one minute apart. This is | followed by intravenous acetazolamide or mannitol. Eye pressure | should be checked every hour until specialist ophthalmological | care can be provided.\n",
            "<s11>19|\n",
            "\n",
            "<h3>Pharmacological management|\n",
            "\n",
            "<p>Pharmacological management is the most common initial | intervention in lowering the IOP, although laser trabeculoplasty | and surgery are frequently used to slow the disease progression.\n",
            "<s11>19|\n",
            "<p>Surgical treatment has no advantage over pharmacological | management in visual field protection, however surgical | interventions attain target IOP in 46% of cases compared to 35% in | those being treated medically.\n",
            "<s11>20|\n",
            "\n",
            "<p>Several agents are available and the primary choice of drug depends | on the degree of pressure lowering which needs to be achieved. It | is recommended to initiate treatment on one type of medication. | If an inadequate response in lowering the IOP is observed, the | dose may be adjusted, or a second agent may be added. If the | first agent fails to demonstrate any measureable clinical response, | it should be removed from the regimen and be replaced with an |\n",
            "<p>alternative drug.\n",
            "<s11>21\n",
            "<p>  Pharmacological agents used to lower the IOP | include prostaglandin analogs, carbonic anhydrase inhibitors, | α\n",
            "<s11>2\n",
            "<p> adrenergic agonists, cholinergic agonists, β blockers and | hyperosmotic agents. Adequate treatment of glaucoma requires | a high level of adherence. It is estimated that 45% of patients will | default on chronic treatment, if they are not appropriately followed | up and counselled regarding dosage instructions and possible side | effects.\n",
            "<s11>22\n",
            "<p> Table 2 below summarises the currently available drugs in | South Africa used to lower intraocular pressure.|\n",
            "\n",
            "<h3>Prostaglandin receptor analogs|\n",
            "\n",
            "<p>Latanoprost, travoprost and bimatoprost are prostaglandin  | F\n",
            "<s11>2 \n",
            "<p>agonists, which increases the uveoscleral outflow of aqueous | humour. It is considered the most potent group of topical ocular | hypotensive agents currently available and may lower baseline IOP | by 25–35%.\n",
            "<s11>23\n",
            "<p> There are few associated systemic side effects and | mostly relates to headaches. In addition, latanoprost may cause | joint/muscle pain and flu-like symptoms. Local adverse effects | include blurred vision, conjunctival hyperaemia, eye discomfort, | permanent iridial pigmentation, macular edema and thickening of | the eyelashes.\n",
            "<s11>24|\n",
            "\n",
            "<h3>Carbonic anhydrase inhibitors|\n",
            "\n",
            "<p>Acetazolamide, dorzolamide and brinzolamide are sulphonamide | derivatives | which | reduces | aqueous | humour | production | independent to its diuretic mode of action. Acetazolamide is | administered systemically in the form of oral tablets or intravenous | infusion, and additionally reduces the rate of aqueous inflow up to | 50%. Its usefulness is limited to the management of acute closed | angle glaucoma due to unfavourable systemic side effects which | may include paresthesia, nausea, diarrhoea, loss of appetite and | dose related systemic acidosis. Topical application of dorzolamide |\n",
            "\n",
            "<s1>Antidepressants|\n",
            "<s1>Imipramine| Amitriptylene | Clomipramine|\n",
            "<s1>Paroxetine| Venlafaxine| Fluvoxamine| Citalopram| Escitalopram|\n",
            "<s1>Tricyclic antidepressants (TCA) have higher incidence of anticholinergic side effects responsible for | increase IOP in acute attacks. |\n",
            "<s1>Selective serotonin reuptake inhibitors less incidence compared to TCAs.| Mydriasis as result of increased serotonin causing supraciliary effusion.|\n",
            "<s1>Sulphonamides|\n",
            "<s1>Acetazolamide| Hydrochlorothiazide| Cotrimoxazole| Topiramate|\n",
            "<s1>Acetazolamide mainly used in acute closed angle emergencies, but may also be used in chronic open | angle glaucoma. In rare cases, chronic administration may precipitate acute angle closure.| Mechanism relates to ciliary body edema causing relaxation of zonules allowing the lens to thicken | and become displaced.|\n",
            "<s1>Anticoagulants|\n",
            "<s1>Enoxaparin| Heparin| Warfarin|\n",
            "<s1>Rare secondary cause of acute attack. | Increased IOP as a result of overtreatment leading to vitreous, choroidal or subretinal hemorrhage.|\n",
            "<s1>Glucocorticosteroids|\n",
            "<s1>Dexamethasone| Prednisolone| Fluoromethalone| Hydrocortisone|\n",
            "<s1>Triamcinolone|\n",
            "<s1>Elevated IOP due to increased outflow resistance which is facilitated by upregulation of | glucocorticoid receptors on the trabecular meshwork cells.| Dexamethasone and prednisolone raises IOP more compared to others.| Fluoromethalone least likely towards IOP elevation.|\n",
            "<s1>Increased expression and deposition of matrix proteins and crystals causing physical obstruction.|\n",
            "<s1>S Afr Fam Pract  2017;59(2):6-13| 10|\n",
            "<s1>The page number in the footer is not for bibliographic referencing| www.tandfonline.com/oemd|\n",
            "<s3>10|\n",
            "\n",
            "<p>and brinzolamide demonstrates an improvement in ocular blood | flow and long-term preservation of visual field. An average reduction | of  15–20% in baseline IOP can be expected.\n",
            "<s11>25\n",
            "<p> Side effects include | ocular irritation, dry eyes, blurred vision, eyelid inflammation and a | bitter taste.\n",
            "<s11>26|\n",
            "\n",
            "<h3>Alpha 2 adrenergic agonists|\n",
            "\n",
            "<p>Brimonidine is a selective α2 receptor agonist. It initially reduces | aqueous humour production followed by a subsequent increase | in the uveoscleral outflow, therefore proving to be useful in | preventing a rise in IOP prior to anterior segment laser surgery. | Brimonidine reduces baseline IOP with approximately 20%.\n",
            "<s11>27|\n",
            "<p>Apraclonidine reduces the formation of aqueous humour but has | no effect on the facilitation of outflow. It has affinity for both α1 | and α2 adreno-receptors and are used to prevent postsurgical | elevation of IOP after anterior segment laser therapy. Apraclonidine | reduces baseline IOP by 30% and is additionally used as adjuvant | therapy in resistant cases of glaucoma.\n",
            "<s11>28\n",
            "<p> Systemic side effects of the | alpha agonists are related to the central nervous system (headache, | fatigue, insomnia, depression) and respiratory system. Caution | should be taken in patients with cerebral or coronary insufficiency, | postural hypotension and renal or hepatic failure. Hypersensitivity | reactions, ocular irritation, eyelid edema, foreign body sensation | and dry eyes are common with topical use.\n",
            "<s11>29|\n",
            "\n",
            "<h3>Cholinergic agonists|\n",
            "\n",
            "<p>Pilocarpine is the only available cholinergic agent in the | management of acute closed-angle glaucoma registered in South | Africa. Administration results in the increase in aqueous humour | outflow by contraction of the ciliary muscle and constriction of the | pupil. Poorly tolerated side effects, such as ciliary muscle spasm, | myopia and decreased vision limits its usefulness.\n",
            "<s11>30|\n",
            "\n",
            "<h3>Beta Blockers|\n",
            "\n",
            "<p>Although prostaglandin receptor agonists are the most potent | agents in reducing the IOP, beta blockers are regarded as the first | choice in treating open angle glaucoma. Individual agents differ in | their ability to lower IOP, with betaxolol achieving a 15% decrease, |\n",
            "<p>compared to 20–25% with timolol and levobunolol respectively. | Betaxolol is, however, more cardioselective (β1) and therefore has | fewer pulmonary side effects compared to timolol and levobunolol | (which are non-selective antagonists on β1 and β2 receptors). The | mechanism involves a reduction of aqueous humour production | and does not cause miosis or accommodation disturbances | compared to cholinergic agents. The most common adverse effects | are ocular irritation and dry eyes. All the β blockers (including the | cardioselective agents) are contraindicated in patients with asthma, | COPD and bradycardia, unless alternative treatment is unavailable.\n",
            "<s11>30|\n",
            "\n",
            "<h3>Combination agents|\n",
            "\n",
            "<p>Several combination agents are available in the treatment of | glaucoma. Most of these combinations include timolol, since | β blockers are still considered first line therapy in open-angle | glaucoma and ocular hypertension. Fixed-dose combination | therapy is more efficacious than its individual components, but still | less efficacious than its respective unfixed combinations. It provides | for simplified treatment regimes and enhances compliance. Fixed | dose combinations containing prostaglandins have a lower risk | in causing hyperemia.\n",
            "<s11>31\n",
            "<p> Combination of timolol with dorzolamide | is superior in visual field preservation compared to timolol and | brinzolamide.\n",
            "<s11>26\n",
            "<p> Combination preparations with brimonidine | have less visual disturbances, taste alterations and ocular allergic | reactions compared to the single ingredient product.\n",
            "<s11>29|\n",
            "\n",
            "<h3>Cannabinoids|\n",
            "\n",
            "<p>With the recent attention cannabis has been receiving in the | management of pain and other cancer related conditions, it | is important to remember the favourable effect of its active | ingredient, Δ\n",
            "<s11>9\n",
            "<p>-tetrahydrocannabinol (THC), in reducing ocular | blood flow. Studies from the 1970s have reported a 30% reduction | in the IOP by inhalation or intravenous administration of THC. The | use is, however, limited owing to the cardiovascular (increased heart | rate and decreased blood pressure) and neurological (tolerance | and addiction) side effects. Topical application does not produce | a significant clinical effect. The use of synthetic cannabinoids may | provide a basis for potential future treatment strategies.\n",
            "<s11>32|\n",
            "\n",
            "<s1>Table 2.  Currently available drugs in the management of glaucoma| Active ingredient / Trade name| Strength| SEP*| IOP reduction| Dose| Prostaglandin analogs|\n",
            "<s1>Atana® - Actor|\n",
            "<s1>Latanoprost 50 µg/ml|\n",
            "<s1>R151.43 (2.5 ml)|\n",
            "<s1>31%| 1 drop daily| Ocuprost® - Arrow| R182.37 (3 ml)|\n",
            "<s1>Xalatan® - Pfizer| R174.02 (2.5 ml)|\n",
            "<s1>Travatan® - Alcon| Travoprost 40 µg/ml| R177.55 (2.5 ml)| 32%| 1 drop daily|\n",
            "<s1>Lumigan® - Allergan| Bimatoprost 0.1 mg/ml| R182.36 (2.5 ml)| 32%| 1 drop daily| Bimatoprost 0.3 mg/ml| R222.54 (3 ml)|\n",
            "<s1>Carbonic anhydrase inhibitors|\n",
            "<s1>Diamox® - Litha| Acetazolamide 250 mg tabs| R77.94 (30)| 20% – 30%| 250 mg 1–4 times | daily acc to response|\n",
            "<s1>Azoptic® - Alcon| Brinzolamide 10 mg/ml| R171.76 (5 ml)| 15% – 20%| 1 drop 8–12 hourly|\n",
            "<s1>Glaucopress® - Actor| Dorzolamide 20 mg/ml| R120.29 (5 ml)| 16% – 18%| 1 drop 8 hourly| Trusopt® - MSD| R150.55 (5 ml)|\n",
            "<s1>S Afr Fam Pract  2017;59(2):6-13| 12|\n",
            "<s1>The page number in the footer is not for bibliographic referencing| www.tandfonline.com/oemd|\n",
            "<s3>12|\n",
            "\n",
            "<h3>Conclusion |\n",
            "\n",
            "<p>General practitioners and family physicians play an important |\n",
            "<p>role in the diagnosis and appropriate referral of patients with |\n",
            "<p>suspected glaucoma. Fundoscopic examinations are quick and |\n",
            "<p>easy to perform and are an opportunity that present at each |\n",
            "<p>consultation. The early recognition of symptoms may improve |\n",
            "<p>outcomes and delay progression. Taking a good medical history |\n",
            "<p>and applying the principles of rational drug use may identify |\n",
            "<p>potential pharmacological causes for glaucoma. Practitioners |\n",
            "<p>prescribing any of the drugs known to cause acute angle glaucoma |\n",
            "<p>should be vigilant in patients presenting with characteristic signs |\n",
            "<p>or symptoms, and immediately refer them to an ophthalmologist. |\n",
            "<p>Patients need to be counselled on the associated adverse effects |\n",
            "<p>from glaucoma medication in order to improve adherence.      |\n",
            "\n",
            "<h3>References|\n",
            "\n",
            "<s4>1. Weinreb RN, Khaw PT. Primary open-angle glaucoma. Lancet. |\n",
            "<s4>2004;363(9422):1711-20.|\n",
            "<s4>2. Levene RZ. Low tension glaucoma: a critical review and new material. Survey of |\n",
            "<s4>ophthalmology. 1980;24(6):621-64.|\n",
            "<s4>3. Johnson CA, Keltner JL, Cello KE, Edwards M, Kass MA, Gordon MO, et al. |\n",
            "<s4>Baseline visual field characteristics in the ocular hypertension treatment study. |\n",
            "<s4>Ophthalmology. 2002;109(3):432-7.|\n",
            "<s4>4. Tham YC, Li X, Wong TY, Quigley HA, Aung T, Cheng CY. Global prevalence of |\n",
            "<s4>glaucoma and projections of glaucoma burden through 2040: a systematic |\n",
            "<s4>review and meta-analysis. Ophthalmology. 2014;121(11):2081-90.|\n",
            "<s4>5. Goel M, Picciani RG, Lee RK, Bhattacharya SK. Aqueous humor dynamics: a |\n",
            "<s4>review. The open ophthalmology journal. 2010;4:52-9.|\n",
            "<s4>6. Kapetanakis VV, Chan MP, Foster PJ, Cook DG, Owen CG, Rudnicka AR. |\n",
            "<s4>Global variations and time trends in the prevalence of primary open angle |\n",
            "<s4>glaucoma (POAG): a systematic review and meta-analysis. Br J Ophthalmol. |\n",
            "<s4>2016;100(1):86-93.|\n",
            "\n",
            "<s1>α2 adrenergic agonists|\n",
            "<s1>Alphagan Purite® - Allergan| Brimonidine 1.5 mg/ml| R211.44 (5 ml)| 20% – 25%| 1 drop 12 hourly|\n",
            "<s1>Brimoct® - Actor| Brimonidine 2 mg/ml| R177.08 (5 ml)|\n",
            "<s1>Iopidine® - Alcon| Apraclonidine 10 mg/ml| R3024.88 (24 x 0.25 ml | units)| 30% – 33%|\n",
            "<s1>1 drop 1hour pre-op, | 2 drops post op|\n",
            "<s1>Apraclonidine 5 mg/ml| R301.49 (10 ml)| 1 drop 8 hourly|\n",
            "<s1>Cholinergic agonists (Parasympathomimetics)|\n",
            "<s1>Isopto-Carpine® - Alcon|\n",
            "<s1>Pilocarpine 10 mg/ml| R111.94 (15 ml)|\n",
            "<s1>20% – 25%| 2 drops 6–8 hourly| Pilocarpine 20 mg/ml| R108.03 (15 ml)|\n",
            "<s1>Pilocarpine 40 mg/ml| R121.14 (15 ml)|\n",
            "<s1>β blockers|\n",
            "<s1>Betagan® - Allergan| Levobunolol 5 mg/ml| R180.06 (7.5 ml)| 20% - 25%| 1 drop 12 hourly|\n",
            "<s1>Betoptic® - Alcon| Betaxolol 5 mg/ml| R194.96 (5 ml)| 15% – 20%| 1 drop 12 hourly| Loxoptic® - Actor| R148.60 (5 ml)|\n",
            "<s1>Glaucosan® - Sandoz| Timolol 5 mg/ml| R67.03 (5 ml)| 15% – 25%| 1 drop 12 hourly|\n",
            "<s1>Timoptol® - MSD| Timolol 2.5 mg/ml| R97.94 (5 ml)|\n",
            "<s1>Timolol 5 mg/ml| R120.29 (5 ml)|\n",
            "<s1>Combination|\n",
            "<s1>Azarga® - Alcon| Brinzolamide 10 mg/ml| Timolol 5 mg/ml| R188.14 (5 ml)| 1 drop 12 hourly|\n",
            "<s1>Combigan® - Allergan| Brimonidine 2 mg/ml| Timolol 5 mg/ml| R221.58 (5 ml)| 1 drop 12 hourly|\n",
            "<s1>Cosopt® - MSD|\n",
            "<s1>Dorzolamide 20 mg/ml| Timolol 5 mg/ml|\n",
            "<s1>R213.14 (5 ml)|\n",
            "<s1>1 drop 12 hourly| Glaumide-Co® - Actor| R162.70 (5 ml)|\n",
            "<s1>Glauopt Co® - Aspen| R162.70 (5 ml)|\n",
            "<s1>DuoTrav® - Alcon| Travopost 40 µg/ml| Timolol 5 mg/ml| R219.03 (2.5 ml)| 1 drop daily|\n",
            "<s1>Ganfort® - Allergan| Bimatoprost 0.3 mg/ml| Timolol 5 mg/ml| R236.05 (3 ml)| 1 drop daily|\n",
            "<s1>Co-Atana® - Alcon| Latanoprost 50 µg/ml| Timolol 5 mg/ml|\n",
            "<s1>R180.19 (2.5 ml)| 1 drop daily| Xalacom® - Pfizer| R225.25 (2.5 ml)|\n",
            "\n",
            "<s5>*  Single exit price, as listed in the  Monthly Index of Medical Specialities . 2016;56(11)|\n",
            "\n",
            "<s1>The medical management of glaucoma| 13|\n",
            "<s1>The page number in the footer is not for bibliographic referencing| www.tandfonline.com/oemd|\n",
            "<s3>13|\n",
            "\n",
            "<s4>7. Sakurada Y, Mabuchi F. Advances in glaucoma genetics. Prog Brain Res. | 2015;220:107-26.|\n",
            "<s4>8. Tham YC, Cheng CY. Associations between chronic systemic diseases and | primary open angle glaucoma: an epidemiological perspective. Clinical & | experimental ophthalmology. 2017;45(1):24-32.|\n",
            "<s4>9. Jonas JB, Budde WM, Panda-Jonas S. Ophthalmoscopic evaluation of the optic | nerve head. Survey of ophthalmology. 1999;43(4):293-320.|\n",
            "<s4>10. Feder RS, Olsen TW, Prum BE, Jr., Summers CG, Olson RJ, Williams RD, et al. | Comprehensive Adult Medical Eye Evaluation Preferred Practice Pattern((R)) | Guidelines. Ophthalmology. 2016;123(1):209-36.|\n",
            "<s4>11. Mantravadi AV, Vadhar N. Glaucoma. Primary care. 2015;42(3):437-49.|\n",
            "<s4>12. Leibowitz HM. The red eye. N Engl J Med. 2000;343(5):345-51.|\n",
            "<s4>13. Lachkar Y, Bouassida W. Drug-induced acute angle closure glaucoma. Current | opinion in ophthalmology. 2007;18(2):129-33.|\n",
            "<s4>14. Nelson P, Aspinall P, Papasouliotis O, Worton B, O’Brien C. Quality of life in | glaucoma and its relationship with visual function. Journal of glaucoma. | 2003;12(2):139-50.|\n",
            "<s4>15. Freeman EE, Munoz B, West SK, Jampel HD, Friedman DS. Glaucoma and quality | of life: the Salisbury Eye Evaluation. Ophthalmology. 2008;115(2):233-8.|\n",
            "<s4>16. Leske MC. The epidemiology of open-angle glaucoma: a review. American | journal of epidemiology. 1983;118(2):166-91.|\n",
            "<s4>17. The Advanced Glaucoma Intervention Study (AGIS): 7. The relationship | between control of intraocular pressure and visual field deterioration.The AGIS | Investigators. Am J Ophthalmol. 2000;130(4):429-40.|\n",
            "<s4>18. Singh K, Lee BL, Wilson MR. A panel assessment of glaucoma management: | modification of existing RAND-like methodology for consensus in | ophthalmology. Part II: Results and interpretation. Am J Ophthalmol. | 2008;145(3):575-81.|\n",
            "<s4>19. Weinreb RN, Aung T, Medeiros FA. The Pathophysiology and Treatment of | Glaucoma A Review. JAMA-J Am Med Assoc. 2014;311(18):1901-11.|\n",
            "<s4>20. Janz NK, Wren PA, Lichter PR, Musch DC, Gillespie BW, Guire KE, et al. The | Collaborative Initial Glaucoma Treatment Study: interim quality of life findings | after initial medical or surgical treatment of glaucoma. Ophthalmology. | 2001;108(11):1954-65.|\n",
            "<s4>21. Prum BE, Jr., Rosenberg LF, Gedde SJ, Mansberger SL, Stein JD, Moroi SE, et | al. Primary Open-Angle Glaucoma Preferred Practice Pattern Guidelines. | Ophthalmology. 2016;123(1):41-111.|\n",
            "<s4>22. Okeke CO, Quigley HA, Jampel HD, Ying GS, Plyler RJ, Jiang Y, et al. Adherence | with topical glaucoma medication monitored electronically the Travatan Dosing | Aid study. Ophthalmology. 2009;116(2):191-9.|\n",
            "<s4>23. Deepankar UP, Jain B. To compare the efficacy of different prostaglandins as | monotherapy in POAG. J Evol Med Dent Sci-JEMDS. 2016;5(66):4713-5.|\n",
            "<s4>24. Arranz-Marquez E, Teus MA. Prostanoids for the management of glaucoma. | Expert Opin Drug Saf. 2008;7(6):801-8.|\n",
            "<s4>25. Strahlman E, Tipping R, Vogel R, Abrantes P, Alm A, Airaksinen PJ, et al. A six-week | dose-response study of the ocular hypotensive effect of dorzolamide with a | one-year extension. Am J Ophthalmol. 1996;122(2):183-94.|\n",
            "<s4>26. Gugleta K. Topical carbonic anhydrase inhibitors and visual function in glaucoma | and ocular hypertension. Curr Med Res Opin. 2010;26(6):1255-67.|\n",
            "<s4>27. Toris CB, Gleason ML, Camras CB, Yablonski ME. Effects of brimonidine | on aqueous humor dynamics in human eyes. Arch Ophthalmol. | 1995;113(12):1514-7.|\n",
            "<s4>28. Yuksel N, Guler C, Caglar Y, Elibol O. Apraclonidine and clonidine - a comparison | of efficacy and side-effects in normal and ocular hypertensive volunteers. Int | Ophthalmol. 1992;16(4-5):337-42.|\n",
            "<s4>29. Sharma S, Trikha S, Perera SA, Aung T. Clinical effectiveness of brinzolamide | 1%-brimonidine 0.2% fixed combination for primary open-angle glaucoma and | ocular hypertension. Clin Ophthalmol. 2015;9:2201-7.|\n",
            "<s4>30. Costagliola C, Dell’Omo R, Romano MR, Rinaldi M, Zeppa L, Parmeggiani | F. Pharmacotherapy of intraocular pressure: part I. Parasympathomimetic, | sympathomimetic and sympatholytics. Expert Opinion on Pharmacotherapy. | 2009;10(16):2663-77.|\n",
            "<s4>31. Quaranta L, Biagioli E, Riva I, Rulli E, Poli D, Katsanos A, et al. Prostaglandin | Analogs and Timolol-Fixed Versus Unfixed Combinations or Monotherapy | for Open-Angle Glaucoma: A Systematic Review and Meta-Analysis. J Ocular | Pharmacol Ther. 2013;29(4):382-9.|\n",
            "<s4>32. Novack GD. Cannabinoids for treatment of glaucoma. Current opinion in | ophthalmology.  | 2016;27(2):146-50.|\n",
            "\n",
            "<s13>View publication stats|\n"
          ]
        }
      ]
    },
    {
      "cell_type": "code",
      "source": [
        "element_dict.keys()"
      ],
      "metadata": {
        "colab": {
          "base_uri": "https://localhost:8080/"
        },
        "id": "-60zerUK_Ljm",
        "outputId": "25f47ba2-7328-4f8d-c524-439b53180636"
      },
      "execution_count": 36,
      "outputs": [
        {
          "output_type": "execute_result",
          "data": {
            "text/plain": [
              "dict_keys(['Introduction', 'Abstract', 'Corresponding author, email: dramarais@gmail.com / andre.marais@up.ac.za', 'Pathophysiology of glaucoma', 'Open angle glaucoma', 'Closed angle glaucoma', ' Treatment goals', 'Pharmacological management', 'Prostaglandin receptor analogs', 'Carbonic anhydrase inhibitors', 'Alpha 2 adrenergic agonists', 'Cholinergic agonists', 'Beta Blockers', 'Combination agents', 'Cannabinoids', 'Conclusion '])"
            ]
          },
          "metadata": {},
          "execution_count": 36
        }
      ]
    },
    {
      "cell_type": "code",
      "source": [
        "sent_tokenize(element_dict['Abstract'][0])"
      ],
      "metadata": {
        "colab": {
          "base_uri": "https://localhost:8080/"
        },
        "id": "TqTSs-2FC4Bw",
        "outputId": "cd250b8f-7e7b-43cf-fa6a-ad71f45a22a4"
      },
      "execution_count": 95,
      "outputs": [
        {
          "output_type": "execute_result",
          "data": {
            "text/plain": [
              "['Glaucoma is one of the leading causes of blindness worldwide.',\n",
              " 'The main characteristic features include optic disc cupping, visual field  loss, and in most instances a raised intraocular pressure.',\n",
              " 'Primary open angle glaucoma accounts for nearly two thirds of all cases, while  angle closure glaucoma contributes the majority of the remainder.',\n",
              " 'Screening for glaucoma is not cost-effective, and diagnosis of the  primary open angle type is usually an incidental finding during ophthalmological examination.',\n",
              " 'Various treatment options, including  medical and surgical interventions are accessible in the management of glaucoma.',\n",
              " 'This article contains a brief description on the  pathophysiology and focuses on the pharmacological options available in the treatment of glaucoma.']"
            ]
          },
          "metadata": {},
          "execution_count": 95
        }
      ]
    },
    {
      "cell_type": "code",
      "source": [
        "\".\".join([text.strip() for text in sent_tokenize(element_dict['Abstract'][0])])"
      ],
      "metadata": {
        "colab": {
          "base_uri": "https://localhost:8080/",
          "height": 122
        },
        "id": "bkQGdeaRBCzS",
        "outputId": "100b7393-80f8-4b9c-db71-4a6f3c1f7574"
      },
      "execution_count": 96,
      "outputs": [
        {
          "output_type": "execute_result",
          "data": {
            "text/plain": [
              "'Glaucoma is one of the leading causes of blindness worldwide..The main characteristic features include optic disc cupping, visual field  loss, and in most instances a raised intraocular pressure..Primary open angle glaucoma accounts for nearly two thirds of all cases, while  angle closure glaucoma contributes the majority of the remainder..Screening for glaucoma is not cost-effective, and diagnosis of the  primary open angle type is usually an incidental finding during ophthalmological examination..Various treatment options, including  medical and surgical interventions are accessible in the management of glaucoma..This article contains a brief description on the  pathophysiology and focuses on the pharmacological options available in the treatment of glaucoma.'"
            ],
            "application/vnd.google.colaboratory.intrinsic+json": {
              "type": "string"
            }
          },
          "metadata": {},
          "execution_count": 96
        }
      ]
    },
    {
      "cell_type": "code",
      "source": [
        "final_text = \" \".join(context)"
      ],
      "metadata": {
        "id": "iGMxO6nAaHTy"
      },
      "execution_count": 67,
      "outputs": []
    },
    {
      "cell_type": "code",
      "source": [
        "final_text\n"
      ],
      "metadata": {
        "colab": {
          "base_uri": "https://localhost:8080/",
          "height": 140
        },
        "id": "dFHTGfhb06DI",
        "outputId": "c470db7d-0f96-4bc7-b8e5-0e02cd7406ff"
      },
      "execution_count": 69,
      "outputs": [
        {
          "output_type": "execute_result",
          "data": {
            "text/plain": [
              "'Glaucoma is a mixed group of eye disorders sharing common  features which typically includes optic disc cupping and visual  field loss, thereby more accurately defined as an optic neuropathy.  Optic nerve damage results in progressive retinal ganglionic  cell loss and irreversible blindness, if not treated.  Traditionally,  glaucoma has been characterized by the existence of raised  intraocular pressure (IOP), however nerve damage may occur in the  presence of values within the statistically normal range between   8–21 mmHg. Glaucomatous disc and field changes in the absence  of elevated pressure constitutes normal or low tension glaucoma  (LTG).  Similarly, conditions exceeding the upper limit of 21 mmHg  may not be associated with signs of visual field loss or optic disc  damage and comprises ocular hypertension.   In addition to optic  neuropathy, the two main types of glaucoma (open angle and  closed angle) are described on the appearance of the drainage  system within the eye, including associated increase in the IOP  (Figure 1). Glaucoma is one of the leading causes of blindness worldwide. The main characteristic features include optic disc cupping, visual field  loss, and in most instances a raised intraocular pressure. Primary open angle glaucoma accounts for nearly two thirds of all cases, while  angle closure glaucoma contributes the majority of the remainder. Screening for glaucoma is not cost-effective, and diagnosis of the  primary open angle type is usually an incidental finding during ophthalmological examination. Various treatment options, including  medical and surgical interventions are accessible in the management of glaucoma. This article contains a brief description on the  pathophysiology and focuses on the pharmacological options available in the treatment of glaucoma.   Keywords:  Glaucoma, prostaglandin analogs, carbonic anhydrase inhibitors, beta antagonists, alpha 2 adrenergic agonists, cholinergic  agonists Both types can be further divided into primary versus secondary,  and congenital versus acquired. Glaucoma has a global prevalence  of 3.54% in those aged between 40 and 80 years, and is the  second leading cause of irreversible blindness, only superseded  by cataracts. Open angle glaucoma is the highest in Africa (4.2%),  while closed angle glaucoma is more prevalent in Asia (1.09%). Aqueous humour (a transparent, low protein containing fluid) is  continuously secreted by the ciliary epithelium providing structural  support to the lens. This watery fluid is present in both the anterior  and posterior chambers of the eye and drains through a sieve-like  trabecular meshwork located in the angle between the cornea  and the iris. Final drainage out of the eye occurs via the canal of  Schlemm  into the episcleral vein or intrascleral venous plexus  terminating in the ocular veins. In open angle glaucoma, the trabecular meshwork undergoes  morphological changes over time, resulting in progressive  impairment of drainage although it remains anatomically open.  (Figure 1) Open angle glaucoma most often affects both eyes,  but asymmetric involvement is not uncommon. Primary open  angle glaucoma (POAG) is the most common type and accounts  for 74% of all glaucoma cases. It is estimated that 57.5 million  people (3.05%) worldwide suffer from POAG.  Prevalence among  Black populations is the highest, with 2.1% at age 40 and 12.2% at  age 80 being reported. The incidence in Asian populations (0.8%  at age 40 and 4.3% at age 80), and Caucasians (0.4% at 40 years  and 5.3% at 80 years) suggests an ethno-genetic disease pattern. Although the exact cause of POAG remains unknown, more than  fifty risk factors and secondary causes have been identified.  Some of these include diabetes mellitus, migraine headache,  cardiovascular disease, asthma or COPD (inhaled anticholinergics  and glucocorticosteroids), myopia, advanced age and a family  history of first-degree relatives with the same condition.   Disease  progression leads to the formation of scar tissue between the iris  and trabecular meshwork and will ultimately result in closing off  the anterior chamber. The consequent rise in IOP is transmitted to  the optic disc and is eventually responsible for atrophy and nerve  fiber damage. Owing to the slow progression of the disease, POAG  remains asymptomatic until central vision is affected. It does not  present with headache, eye pain or loss of visual acuity. Diagnosis  is usually incidental during routine funduscopic or optometry  examinations. A cup : disc ratio of 0.6 (glaucomatous cupping), and  central corneal thickness in the presence of risk factors is suggestive  of glaucoma, and requires ophthalmological referral (Figure 2).  The progression from POAG to Chronic Angle-Closure Glaucoma  (CACG), requires lifelong treatment. Official general population screening policies do not exist and are  not cost-effective. Measuring IOP has a sensitivity of only 47.1%,  implying that nearly half of patients with POAG will have IOP below  22 mmHg. However, patients with risk factors are encouraged to  undergo annual ophthalmological examinations and additional  IOP measurements. With closed angle glaucoma, a primary hypermetropic anatomical  defect (such as weakened ciliary muscles, naturally small eyes,  narrow angle or thick lens) in the absence of an identifiable  secondary cause, results in the pupil compressing the drainage  canal between the iris and cornea. Compression and narrowing of  the canal reduces or obstructs the outflow of aqueous humour in  passing through the pupil, therefore accumulating in the anterior  chamber (Figure 1). Primary angle closure glaucoma (PACG) is  less common than POAG and accounts for approximately a third  of all cases, with a global incidence of 0.5%.  Symptoms of closed  angle glaucoma depend on the degree of angle closure and in  some instances may resolve spontaneously; in which case it may  become chronic. In established disease, vision loss is severe and  permanent. Secondary causes of angle-closure glaucoma include  masses or hemorrhage in the posterior segment of the eyeball or  the presence of a fibrovascular membrane (neovascular glaucoma)  over the anterior chamber angle. Risk factors for angle closure  glaucoma include older age (> 60 years), female gender, Asian  ethnicity, hyperopia and a positive family history.  Attacks occur  more frequently at night when diminished light cause mydriasis and  narrowing of the angle.  Unexpected closure (acute angle closure  glaucoma, AACG) of the anterior chamber angle due to pupillary  block may result in a sudden rise in IOP. It constitutes a medical  emergency, since permanent blindness and irreversible damage  to the optic nerve may occur. Acute attacks are characterized  by intermittent symptoms such as severe eye pain, nausea and  vomiting, loss of vision, halos around lights, unilateral red tearing  eye, oval shaped non-reactive pupil, a cloudy cornea and the loss  of red reflex (Figure 3). In addition, it is estimated that prescribed, or over-the-counter  pharmacological agents are responsible for at least 30% of acute  angle closure glaucoma.   These include antihistamines, cholinergic-  and anticholinergic agents, adrenergic agents, antidepressants,  sulphonamides, anticoagulants and glucocorticosteroids. Table 1  below summarises the mechanism responsible for causing AACG. The goal in treating POAG is to establish and maintain the intra- ocular pressure at a range where visual field loss will have the  least negative impact on the patient’s perceived visual disability.  “Various studies have shown that visual field loss in glaucoma has  been\\xa0 associated with a significant decrease in a person’s vision- related quality of life.\\xa0\\xa0This is\\xa0evident in activities\\xa0requiring optimal  vision, such as dark adaptation, avoiding unintentional bumping  into objects and outdoor mobility. Determining the target  intraocular pressure needs to be individualised for each patient,  since the measured pressure at diagnosis could be within the normal  range of 8 to 21 mmHg in 30–50% of patients.  Aiming for pressures  within these ranges will contribute towards optic nerve damage  and further progression. It is generally accepted that patients with  early disease benefit from a reduction of at least 20% in the baseline  value. A reduction of 30% is recommended in individuals with  more advanced features of POAG.  Target IOP should continuously  be re-calculated during monitoring and follow-up assessment  of visual fields and disc and nerve fiber examinations. Reducing  the IOP, however, does not guarantee that progression will not  transpire. The choice of therapy depends on the relative risks and  benefits of available modalities, which include pharmacological  treatment, laser therapy or incisional surgery. Factors such as cost,  dosing, patient’s age, the presence of comorbidities (asthma or  COPD), pregnancy, adherence to treatment and the degree of optic  disc damage should be considered in choosing an appropriate  treatment regimen. In treating AACG, the primary goal is to make the correct diagnosis to  prevent permanent loss of vision. This is achieved by rapid lowering  of the IOP and reversal of the angle closure. Empiric treatment with  topical and systemic aqueous humour suppressants (β blockers  and acetazolamide) reduces the IOP, followed by pilocarpine to  reverse the pupil block. In the absence of available trials comparing  medical options for treatment of AACG, the initial management  usually consists of administering one drop of 0.5% timolol,   1% apraclonidine and 2% pilocarpine one minute apart. This is  followed by intravenous acetazolamide or mannitol. Eye pressure  should be checked every hour until specialist ophthalmological  care can be provided. Pharmacological management is the most common initial  intervention in lowering the IOP, although laser trabeculoplasty  and surgery are frequently used to slow the disease progression. Surgical treatment has no advantage over pharmacological  management in visual field protection, however surgical  interventions attain target IOP in 46% of cases compared to 35% in  those being treated medically. Several agents are available and the primary choice of drug depends  on the degree of pressure lowering which needs to be achieved. It  is recommended to initiate treatment on one type of medication.  If an inadequate response in lowering the IOP is observed, the  dose may be adjusted, or a second agent may be added. If the  first agent fails to demonstrate any measureable clinical response,  it should be removed from the regimen and be replaced with an  alternative drug.   Pharmacological agents used to lower the IOP  include prostaglandin analogs, carbonic anhydrase inhibitors,  α  adrenergic agonists, cholinergic agonists, β blockers and  hyperosmotic agents. Adequate treatment of glaucoma requires  a high level of adherence. It is estimated that 45% of patients will  default on chronic treatment, if they are not appropriately followed  up and counselled regarding dosage instructions and possible side  effects.  Table 2 below summarises the currently available drugs in  South Africa used to lower intraocular pressure. Latanoprost, travoprost and bimatoprost are prostaglandin   F agonists, which increases the uveoscleral outflow of aqueous  humour. It is considered the most potent group of topical ocular  hypotensive agents currently available and may lower baseline IOP  by 25–35%.  There are few associated systemic side effects and  mostly relates to headaches. In addition, latanoprost may cause  joint/muscle pain and flu-like symptoms. Local adverse effects  include blurred vision, conjunctival hyperaemia, eye discomfort,  permanent iridial pigmentation, macular edema and thickening of  the eyelashes. Acetazolamide, dorzolamide and brinzolamide are sulphonamide  derivatives  which  reduces  aqueous  humour  production  independent to its diuretic mode of action. Acetazolamide is  administered systemically in the form of oral tablets or intravenous  infusion, and additionally reduces the rate of aqueous inflow up to  50%. Its usefulness is limited to the management of acute closed  angle glaucoma due to unfavourable systemic side effects which  may include paresthesia, nausea, diarrhoea, loss of appetite and  dose related systemic acidosis. Topical application of dorzolamide  and brinzolamide demonstrates an improvement in ocular blood  flow and long-term preservation of visual field. An average reduction  of  15–20% in baseline IOP can be expected.  Side effects include  ocular irritation, dry eyes, blurred vision, eyelid inflammation and a  bitter taste. Brimonidine is a selective α2 receptor agonist. It initially reduces  aqueous humour production followed by a subsequent increase  in the uveoscleral outflow, therefore proving to be useful in  preventing a rise in IOP prior to anterior segment laser surgery.  Brimonidine reduces baseline IOP with approximately 20%. Apraclonidine reduces the formation of aqueous humour but has  no effect on the facilitation of outflow. It has affinity for both α1  and α2 adreno-receptors and are used to prevent postsurgical  elevation of IOP after anterior segment laser therapy. Apraclonidine  reduces baseline IOP by 30% and is additionally used as adjuvant  therapy in resistant cases of glaucoma.  Systemic side effects of the  alpha agonists are related to the central nervous system (headache,  fatigue, insomnia, depression) and respiratory system. Caution  should be taken in patients with cerebral or coronary insufficiency,  postural hypotension and renal or hepatic failure. Hypersensitivity  reactions, ocular irritation, eyelid edema, foreign body sensation  and dry eyes are common with topical use. Pilocarpine is the only available cholinergic agent in the  management of acute closed-angle glaucoma registered in South  Africa. Administration results in the increase in aqueous humour  outflow by contraction of the ciliary muscle and constriction of the  pupil. Poorly tolerated side effects, such as ciliary muscle spasm,  myopia and decreased vision limits its usefulness. Although prostaglandin receptor agonists are the most potent  agents in reducing the IOP, beta blockers are regarded as the first  choice in treating open angle glaucoma. Individual agents differ in  their ability to lower IOP, with betaxolol achieving a 15% decrease,  compared to 20–25% with timolol and levobunolol respectively.  Betaxolol is, however, more cardioselective (β1) and therefore has  fewer pulmonary side effects compared to timolol and levobunolol  (which are non-selective antagonists on β1 and β2 receptors). The  mechanism involves a reduction of aqueous humour production  and does not cause miosis or accommodation disturbances  compared to cholinergic agents. The most common adverse effects  are ocular irritation and dry eyes. All the β blockers (including the  cardioselective agents) are contraindicated in patients with asthma,  COPD and bradycardia, unless alternative treatment is unavailable. Several combination agents are available in the treatment of  glaucoma. Most of these combinations include timolol, since  β blockers are still considered first line therapy in open-angle  glaucoma and ocular hypertension. Fixed-dose combination  therapy is more efficacious than its individual components, but still  less efficacious than its respective unfixed combinations. It provides  for simplified treatment regimes and enhances compliance. Fixed  dose combinations containing prostaglandins have a lower risk  in causing hyperemia.  Combination of timolol with dorzolamide  is superior in visual field preservation compared to timolol and  brinzolamide.  Combination preparations with brimonidine  have less visual disturbances, taste alterations and ocular allergic  reactions compared to the single ingredient product. With the recent attention cannabis has been receiving in the  management of pain and other cancer related conditions, it  is important to remember the favourable effect of its active  ingredient, Δ -tetrahydrocannabinol (THC), in reducing ocular  blood flow. Studies from the 1970s have reported a 30% reduction  in the IOP by inhalation or intravenous administration of THC. The  use is, however, limited owing to the cardiovascular (increased heart  rate and decreased blood pressure) and neurological (tolerance  and addiction) side effects. Topical application does not produce  a significant clinical effect. The use of synthetic cannabinoids may  provide a basis for potential future treatment strategies. General practitioners and family physicians play an important  role in the diagnosis and appropriate referral of patients with  suspected glaucoma. Fundoscopic examinations are quick and  easy to perform and are an opportunity that present at each  consultation. The early recognition of symptoms may improve  outcomes and delay progression. Taking a good medical history  and applying the principles of rational drug use may identify  potential pharmacological causes for glaucoma. Practitioners  prescribing any of the drugs known to cause acute angle glaucoma  should be vigilant in patients presenting with characteristic signs  or symptoms, and immediately refer them to an ophthalmologist.  Patients need to be counselled on the associated adverse effects  from glaucoma medication in order to improve adherence.      '"
            ],
            "application/vnd.google.colaboratory.intrinsic+json": {
              "type": "string"
            }
          },
          "metadata": {},
          "execution_count": 69
        }
      ]
    },
    {
      "cell_type": "code",
      "source": [
        "with open('Pdf2text.txt','a+') as f:\n",
        "  f.write(final_text)"
      ],
      "metadata": {
        "id": "kagWIGJM1fcq"
      },
      "execution_count": 70,
      "outputs": []
    },
    {
      "cell_type": "code",
      "source": [
        "processed_text = \"\".join([t.strip() for t in sent_tokenize(final_text)])"
      ],
      "metadata": {
        "id": "r2f-tFgNW_mK"
      },
      "execution_count": 98,
      "outputs": []
    },
    {
      "cell_type": "code",
      "source": [
        "processed_text"
      ],
      "metadata": {
        "colab": {
          "base_uri": "https://localhost:8080/",
          "height": 140
        },
        "id": "cQfAgRqXeDDd",
        "outputId": "2af1387c-cada-4273-c516-b738b82c6c99"
      },
      "execution_count": 99,
      "outputs": [
        {
          "output_type": "execute_result",
          "data": {
            "text/plain": [
              "'Glaucoma is a mixed group of eye disorders sharing common  features which typically includes optic disc cupping and visual  field loss, thereby more accurately defined as an optic neuropathy.Optic nerve damage results in progressive retinal ganglionic  cell loss and irreversible blindness, if not treated.Traditionally,  glaucoma has been characterized by the existence of raised  intraocular pressure (IOP), however nerve damage may occur in the  presence of values within the statistically normal range between   8–21 mmHg.Glaucomatous disc and field changes in the absence  of elevated pressure constitutes normal or low tension glaucoma  (LTG).Similarly, conditions exceeding the upper limit of 21 mmHg  may not be associated with signs of visual field loss or optic disc  damage and comprises ocular hypertension.In addition to optic  neuropathy, the two main types of glaucoma (open angle and  closed angle) are described on the appearance of the drainage  system within the eye, including associated increase in the IOP  (Figure 1).Glaucoma is one of the leading causes of blindness worldwide.The main characteristic features include optic disc cupping, visual field  loss, and in most instances a raised intraocular pressure.Primary open angle glaucoma accounts for nearly two thirds of all cases, while  angle closure glaucoma contributes the majority of the remainder.Screening for glaucoma is not cost-effective, and diagnosis of the  primary open angle type is usually an incidental finding during ophthalmological examination.Various treatment options, including  medical and surgical interventions are accessible in the management of glaucoma.This article contains a brief description on the  pathophysiology and focuses on the pharmacological options available in the treatment of glaucoma.Keywords:  Glaucoma, prostaglandin analogs, carbonic anhydrase inhibitors, beta antagonists, alpha 2 adrenergic agonists, cholinergic  agonists Both types can be further divided into primary versus secondary,  and congenital versus acquired.Glaucoma has a global prevalence  of 3.54% in those aged between 40 and 80 years, and is the  second leading cause of irreversible blindness, only superseded  by cataracts.Open angle glaucoma is the highest in Africa (4.2%),  while closed angle glaucoma is more prevalent in Asia (1.09%).Aqueous humour (a transparent, low protein containing fluid) is  continuously secreted by the ciliary epithelium providing structural  support to the lens.This watery fluid is present in both the anterior  and posterior chambers of the eye and drains through a sieve-like  trabecular meshwork located in the angle between the cornea  and the iris.Final drainage out of the eye occurs via the canal of  Schlemm  into the episcleral vein or intrascleral venous plexus  terminating in the ocular veins.In open angle glaucoma, the trabecular meshwork undergoes  morphological changes over time, resulting in progressive  impairment of drainage although it remains anatomically open.(Figure 1) Open angle glaucoma most often affects both eyes,  but asymmetric involvement is not uncommon.Primary open  angle glaucoma (POAG) is the most common type and accounts  for 74% of all glaucoma cases.It is estimated that 57.5 million  people (3.05%) worldwide suffer from POAG.Prevalence among  Black populations is the highest, with 2.1% at age 40 and 12.2% at  age 80 being reported.The incidence in Asian populations (0.8%  at age 40 and 4.3% at age 80), and Caucasians (0.4% at 40 years  and 5.3% at 80 years) suggests an ethno-genetic disease pattern.Although the exact cause of POAG remains unknown, more than  fifty risk factors and secondary causes have been identified.Some of these include diabetes mellitus, migraine headache,  cardiovascular disease, asthma or COPD (inhaled anticholinergics  and glucocorticosteroids), myopia, advanced age and a family  history of first-degree relatives with the same condition.Disease  progression leads to the formation of scar tissue between the iris  and trabecular meshwork and will ultimately result in closing off  the anterior chamber.The consequent rise in IOP is transmitted to  the optic disc and is eventually responsible for atrophy and nerve  fiber damage.Owing to the slow progression of the disease, POAG  remains asymptomatic until central vision is affected.It does not  present with headache, eye pain or loss of visual acuity.Diagnosis  is usually incidental during routine funduscopic or optometry  examinations.A cup : disc ratio of 0.6 (glaucomatous cupping), and  central corneal thickness in the presence of risk factors is suggestive  of glaucoma, and requires ophthalmological referral (Figure 2).The progression from POAG to Chronic Angle-Closure Glaucoma  (CACG), requires lifelong treatment.Official general population screening policies do not exist and are  not cost-effective.Measuring IOP has a sensitivity of only 47.1%,  implying that nearly half of patients with POAG will have IOP below  22 mmHg.However, patients with risk factors are encouraged to  undergo annual ophthalmological examinations and additional  IOP measurements.With closed angle glaucoma, a primary hypermetropic anatomical  defect (such as weakened ciliary muscles, naturally small eyes,  narrow angle or thick lens) in the absence of an identifiable  secondary cause, results in the pupil compressing the drainage  canal between the iris and cornea.Compression and narrowing of  the canal reduces or obstructs the outflow of aqueous humour in  passing through the pupil, therefore accumulating in the anterior  chamber (Figure 1).Primary angle closure glaucoma (PACG) is  less common than POAG and accounts for approximately a third  of all cases, with a global incidence of 0.5%.Symptoms of closed  angle glaucoma depend on the degree of angle closure and in  some instances may resolve spontaneously; in which case it may  become chronic.In established disease, vision loss is severe and  permanent.Secondary causes of angle-closure glaucoma include  masses or hemorrhage in the posterior segment of the eyeball or  the presence of a fibrovascular membrane (neovascular glaucoma)  over the anterior chamber angle.Risk factors for angle closure  glaucoma include older age (> 60 years), female gender, Asian  ethnicity, hyperopia and a positive family history.Attacks occur  more frequently at night when diminished light cause mydriasis and  narrowing of the angle.Unexpected closure (acute angle closure  glaucoma, AACG) of the anterior chamber angle due to pupillary  block may result in a sudden rise in IOP.It constitutes a medical  emergency, since permanent blindness and irreversible damage  to the optic nerve may occur.Acute attacks are characterized  by intermittent symptoms such as severe eye pain, nausea and  vomiting, loss of vision, halos around lights, unilateral red tearing  eye, oval shaped non-reactive pupil, a cloudy cornea and the loss  of red reflex (Figure 3).In addition, it is estimated that prescribed, or over-the-counter  pharmacological agents are responsible for at least 30% of acute  angle closure glaucoma.These include antihistamines, cholinergic-  and anticholinergic agents, adrenergic agents, antidepressants,  sulphonamides, anticoagulants and glucocorticosteroids.Table 1  below summarises the mechanism responsible for causing AACG.The goal in treating POAG is to establish and maintain the intra- ocular pressure at a range where visual field loss will have the  least negative impact on the patient’s perceived visual disability.“Various studies have shown that visual field loss in glaucoma has  been\\xa0 associated with a significant decrease in a person’s vision- related quality of life.This is\\xa0evident in activities\\xa0requiring optimal  vision, such as dark adaptation, avoiding unintentional bumping  into objects and outdoor mobility.Determining the target  intraocular pressure needs to be individualised for each patient,  since the measured pressure at diagnosis could be within the normal  range of 8 to 21 mmHg in 30–50% of patients.Aiming for pressures  within these ranges will contribute towards optic nerve damage  and further progression.It is generally accepted that patients with  early disease benefit from a reduction of at least 20% in the baseline  value.A reduction of 30% is recommended in individuals with  more advanced features of POAG.Target IOP should continuously  be re-calculated during monitoring and follow-up assessment  of visual fields and disc and nerve fiber examinations.Reducing  the IOP, however, does not guarantee that progression will not  transpire.The choice of therapy depends on the relative risks and  benefits of available modalities, which include pharmacological  treatment, laser therapy or incisional surgery.Factors such as cost,  dosing, patient’s age, the presence of comorbidities (asthma or  COPD), pregnancy, adherence to treatment and the degree of optic  disc damage should be considered in choosing an appropriate  treatment regimen.In treating AACG, the primary goal is to make the correct diagnosis to  prevent permanent loss of vision.This is achieved by rapid lowering  of the IOP and reversal of the angle closure.Empiric treatment with  topical and systemic aqueous humour suppressants (β blockers  and acetazolamide) reduces the IOP, followed by pilocarpine to  reverse the pupil block.In the absence of available trials comparing  medical options for treatment of AACG, the initial management  usually consists of administering one drop of 0.5% timolol,   1% apraclonidine and 2% pilocarpine one minute apart.This is  followed by intravenous acetazolamide or mannitol.Eye pressure  should be checked every hour until specialist ophthalmological  care can be provided.Pharmacological management is the most common initial  intervention in lowering the IOP, although laser trabeculoplasty  and surgery are frequently used to slow the disease progression.Surgical treatment has no advantage over pharmacological  management in visual field protection, however surgical  interventions attain target IOP in 46% of cases compared to 35% in  those being treated medically.Several agents are available and the primary choice of drug depends  on the degree of pressure lowering which needs to be achieved.It  is recommended to initiate treatment on one type of medication.If an inadequate response in lowering the IOP is observed, the  dose may be adjusted, or a second agent may be added.If the  first agent fails to demonstrate any measureable clinical response,  it should be removed from the regimen and be replaced with an  alternative drug.Pharmacological agents used to lower the IOP  include prostaglandin analogs, carbonic anhydrase inhibitors,  α  adrenergic agonists, cholinergic agonists, β blockers and  hyperosmotic agents.Adequate treatment of glaucoma requires  a high level of adherence.It is estimated that 45% of patients will  default on chronic treatment, if they are not appropriately followed  up and counselled regarding dosage instructions and possible side  effects.Table 2 below summarises the currently available drugs in  South Africa used to lower intraocular pressure.Latanoprost, travoprost and bimatoprost are prostaglandin   F agonists, which increases the uveoscleral outflow of aqueous  humour.It is considered the most potent group of topical ocular  hypotensive agents currently available and may lower baseline IOP  by 25–35%.There are few associated systemic side effects and  mostly relates to headaches.In addition, latanoprost may cause  joint/muscle pain and flu-like symptoms.Local adverse effects  include blurred vision, conjunctival hyperaemia, eye discomfort,  permanent iridial pigmentation, macular edema and thickening of  the eyelashes.Acetazolamide, dorzolamide and brinzolamide are sulphonamide  derivatives  which  reduces  aqueous  humour  production  independent to its diuretic mode of action.Acetazolamide is  administered systemically in the form of oral tablets or intravenous  infusion, and additionally reduces the rate of aqueous inflow up to  50%.Its usefulness is limited to the management of acute closed  angle glaucoma due to unfavourable systemic side effects which  may include paresthesia, nausea, diarrhoea, loss of appetite and  dose related systemic acidosis.Topical application of dorzolamide  and brinzolamide demonstrates an improvement in ocular blood  flow and long-term preservation of visual field.An average reduction  of  15–20% in baseline IOP can be expected.Side effects include  ocular irritation, dry eyes, blurred vision, eyelid inflammation and a  bitter taste.Brimonidine is a selective α2 receptor agonist.It initially reduces  aqueous humour production followed by a subsequent increase  in the uveoscleral outflow, therefore proving to be useful in  preventing a rise in IOP prior to anterior segment laser surgery.Brimonidine reduces baseline IOP with approximately 20%.Apraclonidine reduces the formation of aqueous humour but has  no effect on the facilitation of outflow.It has affinity for both α1  and α2 adreno-receptors and are used to prevent postsurgical  elevation of IOP after anterior segment laser therapy.Apraclonidine  reduces baseline IOP by 30% and is additionally used as adjuvant  therapy in resistant cases of glaucoma.Systemic side effects of the  alpha agonists are related to the central nervous system (headache,  fatigue, insomnia, depression) and respiratory system.Caution  should be taken in patients with cerebral or coronary insufficiency,  postural hypotension and renal or hepatic failure.Hypersensitivity  reactions, ocular irritation, eyelid edema, foreign body sensation  and dry eyes are common with topical use.Pilocarpine is the only available cholinergic agent in the  management of acute closed-angle glaucoma registered in South  Africa.Administration results in the increase in aqueous humour  outflow by contraction of the ciliary muscle and constriction of the  pupil.Poorly tolerated side effects, such as ciliary muscle spasm,  myopia and decreased vision limits its usefulness.Although prostaglandin receptor agonists are the most potent  agents in reducing the IOP, beta blockers are regarded as the first  choice in treating open angle glaucoma.Individual agents differ in  their ability to lower IOP, with betaxolol achieving a 15% decrease,  compared to 20–25% with timolol and levobunolol respectively.Betaxolol is, however, more cardioselective (β1) and therefore has  fewer pulmonary side effects compared to timolol and levobunolol  (which are non-selective antagonists on β1 and β2 receptors).The  mechanism involves a reduction of aqueous humour production  and does not cause miosis or accommodation disturbances  compared to cholinergic agents.The most common adverse effects  are ocular irritation and dry eyes.All the β blockers (including the  cardioselective agents) are contraindicated in patients with asthma,  COPD and bradycardia, unless alternative treatment is unavailable.Several combination agents are available in the treatment of  glaucoma.Most of these combinations include timolol, since  β blockers are still considered first line therapy in open-angle  glaucoma and ocular hypertension.Fixed-dose combination  therapy is more efficacious than its individual components, but still  less efficacious than its respective unfixed combinations.It provides  for simplified treatment regimes and enhances compliance.Fixed  dose combinations containing prostaglandins have a lower risk  in causing hyperemia.Combination of timolol with dorzolamide  is superior in visual field preservation compared to timolol and  brinzolamide.Combination preparations with brimonidine  have less visual disturbances, taste alterations and ocular allergic  reactions compared to the single ingredient product.With the recent attention cannabis has been receiving in the  management of pain and other cancer related conditions, it  is important to remember the favourable effect of its active  ingredient, Δ -tetrahydrocannabinol (THC), in reducing ocular  blood flow.Studies from the 1970s have reported a 30% reduction  in the IOP by inhalation or intravenous administration of THC.The  use is, however, limited owing to the cardiovascular (increased heart  rate and decreased blood pressure) and neurological (tolerance  and addiction) side effects.Topical application does not produce  a significant clinical effect.The use of synthetic cannabinoids may  provide a basis for potential future treatment strategies.General practitioners and family physicians play an important  role in the diagnosis and appropriate referral of patients with  suspected glaucoma.Fundoscopic examinations are quick and  easy to perform and are an opportunity that present at each  consultation.The early recognition of symptoms may improve  outcomes and delay progression.Taking a good medical history  and applying the principles of rational drug use may identify  potential pharmacological causes for glaucoma.Practitioners  prescribing any of the drugs known to cause acute angle glaucoma  should be vigilant in patients presenting with characteristic signs  or symptoms, and immediately refer them to an ophthalmologist.Patients need to be counselled on the associated adverse effects  from glaucoma medication in order to improve adherence.'"
            ],
            "application/vnd.google.colaboratory.intrinsic+json": {
              "type": "string"
            }
          },
          "metadata": {},
          "execution_count": 99
        }
      ]
    },
    {
      "cell_type": "markdown",
      "source": [
        "## Function to extract text from PDF for respective headers"
      ],
      "metadata": {
        "id": "0sOYL4M4DykL"
      }
    },
    {
      "cell_type": "code",
      "source": [
        "def extractTextPdf(pdf_path):\n",
        "  \n",
        "    document = pdf_path\n",
        "    doc = fitz.open(document)\n",
        "    #\n",
        "    font_counts, styles = fonts(doc, granularity=False)\n",
        "    #\n",
        "    size_tag = font_tags(font_counts, styles)\n",
        "    #\n",
        "    elements = headers_para(doc, size_tag)\n",
        "    print(elements)\n",
        "    \n",
        "    return elements\n"
      ],
      "metadata": {
        "id": "HgWGMeWTEOh0"
      },
      "execution_count": 11,
      "outputs": []
    },
    {
      "cell_type": "code",
      "source": [
        "pdf_path = \"/content/Published.SAFPJ.11.05.2017.pdf\"\n",
        "ele = extractTextPdf(pdf_path)"
      ],
      "metadata": {
        "colab": {
          "base_uri": "https://localhost:8080/"
        },
        "id": "Lz5_kVciGA3P",
        "outputId": "536b552b-af83-4f38-e659-18628ee98dd1"
      },
      "execution_count": 14,
      "outputs": [
        {
          "output_type": "stream",
          "name": "stdout",
          "text": [
            "['<s8>See discussions, stats, and author profiles for this publication at:  https://www.researchgate.net/publication/316990409|', '', '<h2>The medical management of glaucoma|', '', '<s6>Article in South African Family Practice · May 2017|', '', '<s12>DOI: 10.4102/safp.v59i2.4669|', '', '<s10>CITATIONS|', '<s2>3|', '', '<s10>READS|', '<s2>11,056|', '', '<s6>2 authors:|', '<s6>Some of the authors of this publication are also working on these related projects:|', '<s6>Medical View project|', '<s6>Indigenous Knowledge Systems: Pharmacology and Toxicology View project|', '<s6>Andre Marais|', '<s6>University of Pretoria|', '', '<s8>20', '<s10>PUBLICATIONS', '<s8>34', '<s10>CITATIONS|', '<s10>SEE PROFILE|', '', '<s6>Elzbieta Osuch|', '<s6>Sefako Makgatho Health Sciences University|', '', '<s8>26', '<s10>PUBLICATIONS', '<s8>110', '<s10>CITATIONS|', '<s10>SEE PROFILE|', '', '<s6>All content following this page was uploaded by  Andre Marais  on 17 May 2017.|', '', '<s10>The user has requested enhancement of the downloaded file.|', '', '<s1>The page number in the footer is not for bibliographic referencing| www.tandfonline.com/oemd|', '<s3>6|', '', '<h3>S Afr Fam Pract|', '', '<s5>ISSN 2078-6190    EISSN 2078-6204 | © 2017 The Author(s)|', '', '<h3>REVIEW|', '<h3>Introduction|', '', '<p>Glaucoma is a mixed group of eye disorders sharing common | features which typically includes optic disc cupping and visual | field loss, thereby more accurately defined as an optic neuropathy. | Optic nerve damage results in progressive retinal ganglionic | cell loss and irreversible blindness, if not treated.', '<s11>1', '<p> Traditionally, | glaucoma has been characterized by the existence of raised | intraocular pressure (IOP), however nerve damage may occur in the | presence of values within the statistically normal range between  |', '<p>8–21 mmHg. Glaucomatous disc and field changes in the absence |', '<p>of elevated pressure constitutes normal or low tension glaucoma |', '<p>(LTG).', '<s11>2', '<p> Similarly, conditions exceeding the upper limit of 21 mmHg |', '<p>may not be associated with signs of visual field loss or optic disc |', '<p>damage and comprises ocular hypertension.', '<s11>3', '<p>  In addition to optic |', '<p>neuropathy, the two main types of glaucoma (open angle and |', '<p>closed angle) are described on the appearance of the drainage |', '<p>system within the eye, including associated increase in the IOP |', '<p>(Figure 1).|', '', '<h3>Abstract|', '', '<p>Glaucoma is one of the leading causes of blindness worldwide. The main characteristic features include optic disc cupping, visual field | loss, and in most instances a raised intraocular pressure. Primary open angle glaucoma accounts for nearly two thirds of all cases, while | angle closure glaucoma contributes the majority of the remainder. Screening for glaucoma is not cost-effective, and diagnosis of the | primary open angle type is usually an incidental finding during ophthalmological examination. Various treatment options, including | medical and surgical interventions are accessible in the management of glaucoma. This article contains a brief description on the | pathophysiology and focuses on the pharmacological options available in the treatment of glaucoma.  |', '<p>Keywords:  Glaucoma, prostaglandin analogs, carbonic anhydrase inhibitors, beta antagonists, alpha 2 adrenergic agonists, cholinergic | agonists|', '', '<s7>South African Family Practice  2017; 59(2):6-13|| Open Access article distributed under the terms of the | Creative Commons License [CC BY-NC-ND 4.0] | http://creativecommons.org/licenses/by-nc-nd/4.0|', '', '<h1>The medical management of glaucoma|', '', '<h4>Andre Marais,', '<s9>1  ', '<h4>Elzbieta Osuch', '<s9>2|', '', '<h4>1 Department of Pharmacology, School of Medicine, Faculty of Health Sciences, University of Pretoria, South Africa| 2 Department of Pharmacology & Therapeutics, School of Medicine, Sefako Makghato Health Sciences University, South Africa|', '<h4>Corresponding author, email: dramarais@gmail.com / andre.marais@up.ac.za|', '', '<s1>Figure 1.  Difference between open angle glaucoma and closed angle glaucoma in relation to the drainage systems within the anterior chamber of the | eye. [Images reprinted with permission from the Glaucoma Research Foundation,  http://www.glaucoma.org/ ]|', '<s1>The medical management of glaucoma| 7|', '<s1>The page number in the footer is not for bibliographic referencing| www.tandfonline.com/oemd|', '<s3>7|', '', '<p>Both types can be further divided into primary versus secondary, |', '<p>and congenital versus acquired. Glaucoma has a global prevalence |', '<p>of 3.54% in those aged between 40 and 80 years, and is the |', '<p>second leading cause of irreversible blindness, only superseded |', '<p>by cataracts. Open angle glaucoma is the highest in Africa (4.2%), |', '<p>while closed angle glaucoma is more prevalent in Asia (1.09%).', '<s11>4|', '', '<h3>Pathophysiology of glaucoma|', '', '<p>Aqueous humour (a transparent, low protein containing fluid) is |', '<p>continuously secreted by the ciliary epithelium providing structural |', '<p>support to the lens. This watery fluid is present in both the anterior |', '<p>and posterior chambers of the eye and drains through a sieve-like |', '<p>trabecular meshwork located in the angle between the cornea |', '<p>and the iris. Final drainage out of the eye occurs via the canal of |', '<p>Schlemm  into the episcleral vein or intrascleral venous plexus |', '<p>terminating in the ocular veins.', '<s11>5|', '', '<h3>Open angle glaucoma|', '', '<p>In open angle glaucoma, the trabecular meshwork undergoes |', '<p>morphological changes over time, resulting in progressive |', '<p>impairment of drainage although it remains anatomically open. |', '<p>(Figure 1) Open angle glaucoma most often affects both eyes, |', '<p>but asymmetric involvement is not uncommon. Primary open |', '<p>angle glaucoma (POAG) is the most common type and accounts |', '<p>for 74% of all glaucoma cases. It is estimated that 57.5 million |', '<p>people (3.05%) worldwide suffer from POAG.', '<s11>4', '<p> Prevalence among |', '<p>Black populations is the highest, with 2.1% at age 40 and 12.2% at |', '<p>age 80 being reported. The incidence in Asian populations (0.8% |', '<p>at age 40 and 4.3% at age 80), and Caucasians (0.4% at 40 years |', '<p>and 5.3% at 80 years) suggests an ethno-genetic disease pattern.', '<s11>6|', '', '<p>Although the exact cause of POAG remains unknown, more than |', '<p>fifty risk factors and secondary causes have been identified. |', '<p>Some of these include diabetes mellitus, migraine headache, |', '<p>cardiovascular disease, asthma or COPD (inhaled anticholinergics |', '<p>and glucocorticosteroids), myopia, advanced age and a family |', '<p>history of first-degree relatives with the same condition.', '<s11>7,8', '<p>  Disease |', '<p>progression leads to the formation of scar tissue between the iris |', '<p>and trabecular meshwork and will ultimately result in closing off |', '<p>the anterior chamber. The consequent rise in IOP is transmitted to |', '<p>the optic disc and is eventually responsible for atrophy and nerve |', '<p>fiber damage. Owing to the slow progression of the disease, POAG |', '<p>remains asymptomatic until central vision is affected. It does not |', '<p>present with headache, eye pain or loss of visual acuity. Diagnosis |', '<p>is usually incidental during routine funduscopic or optometry |', '<p>examinations. A cup : disc ratio of 0.6 (glaucomatous cupping), and |', '<p>central corneal thickness in the presence of risk factors is suggestive |', '<p>of glaucoma, and requires ophthalmological referral (Figure 2). |', '<p>The progression from POAG to Chronic Angle-Closure Glaucoma |', '<p>(CACG), requires lifelong treatment.', '<s11>9|', '', '<p>Official general population screening policies do not exist and are |', '<p>not cost-effective. Measuring IOP has a sensitivity of only 47.1%, |', '<p>implying that nearly half of patients with POAG will have IOP below |', '<p>22 mmHg. However, patients with risk factors are encouraged to |', '<p>undergo annual ophthalmological examinations and additional |', '<p>IOP measurements.', '<s11>10|', '', '<h3>Closed angle glaucoma|', '', '<p>With closed angle glaucoma, a primary hypermetropic anatomical |', '<p>defect (such as weakened ciliary muscles, naturally small eyes, |', '<p>narrow angle or thick lens) in the absence of an identifiable |', '<p>secondary cause, results in the pupil compressing the drainage |', '<p>canal between the iris and cornea. Compression and narrowing of |', '<p>the canal reduces or obstructs the outflow of aqueous humour in |', '<p>passing through the pupil, therefore accumulating in the anterior |', '<p>chamber (Figure 1).', '<s11>11 ', '<p>Primary angle closure glaucoma (PACG) is |', '<p>less common than POAG and accounts for approximately a third |', '<p>of all cases, with a global incidence of 0.5%.', '<s11>4', '<p> Symptoms of closed |', '<p>angle glaucoma depend on the degree of angle closure and in |', '<p>some instances may resolve spontaneously; in which case it may |', '<p>become chronic. In established disease, vision loss is severe and |', '<p>permanent. Secondary causes of angle-closure glaucoma include |', '<p>masses or hemorrhage in the posterior segment of the eyeball or |', '<p>the presence of a fibrovascular membrane (neovascular glaucoma) |', '<p>over the anterior chamber angle. Risk factors for angle closure |', '<p>glaucoma include older age (> 60 years), female gender, Asian |', '<p>ethnicity, hyperopia and a positive family history.', '<s11>11', '<p> Attacks occur |', '<p>more frequently at night when diminished light cause mydriasis and |', '<p>narrowing of the angle.', '<s11>12', '<p> Unexpected closure (acute angle closure |', '<p>glaucoma, AACG) of the anterior chamber angle due to pupillary |', '<p>block may result in a sudden rise in IOP. It constitutes a medical |', '<p>emergency, since permanent blindness and irreversible damage |', '<p>to the optic nerve may occur. Acute attacks are characterized |', '<p>by intermittent symptoms such as severe eye pain, nausea and |', '<p>vomiting, loss of vision, halos around lights, unilateral red tearing |', '<p>eye, oval shaped non-reactive pupil, a cloudy cornea and the loss |', '<p>of red reflex (Figure 3).|', '<p>In addition, it is estimated that prescribed, or over-the-counter |', '<p>pharmacological agents are responsible for at least 30% of acute |', '', '<s1>Figure 2 .  Normal optic disc (a) vs glaucomatous cupping (b) [Images | adapted with permission from the Glaucoma Research Foundation, | http://www.glaucoma.org/ ]|', '<s1>S Afr Fam Pract  2017;59(2):6-13| 8|', '<s1>The page number in the footer is not for bibliographic referencing| www.tandfonline.com/oemd|', '<s3>8|', '', '<p>angle closure glaucoma.', '<s11>13', '<p>  These include antihistamines, cholinergic- | and anticholinergic agents, adrenergic agents, antidepressants, | sulphonamides, anticoagulants and glucocorticosteroids. Table 1 | below summarises the mechanism responsible for causing AACG.|', '', '<h3> Treatment goals|', '', '<p>The goal in treating POAG is to establish and maintain the intra-| ocular pressure at a range where visual field loss will have the | least negative impact on the patient’s perceived visual disability. | “Various studies have shown that visual field loss in glaucoma has | been\\xa0 associated with a significant decrease in a person’s vision-| related quality of life.\\xa0\\xa0This is\\xa0evident in activities\\xa0requiring optimal | vision, such as dark adaptation, avoiding unintentional bumping | into objects and outdoor mobility.', '<s11>14,15 ', '<p>Determining the target | intraocular pressure needs to be individualised for each patient, | since the measured pressure at diagnosis could be within the normal | range of 8 to 21 mmHg in 30–50% of patients.', '<s11>16', '<p> Aiming for pressures | within these ranges will contribute towards optic nerve damage | and further progression. It is generally accepted that patients with | early disease benefit from a reduction of at least 20% in the baseline | value. A reduction of 30% is recommended in individuals with | more advanced features of POAG.', '<s11>17', '<p> Target IOP should continuously | be re-calculated during monitoring and follow-up assessment | of visual fields and disc and nerve fiber examinations. Reducing | the IOP, however, does not guarantee that progression will not | transpire. The choice of therapy depends on the relative risks and | benefits of available modalities, which include pharmacological | treatment, laser therapy or incisional surgery. Factors such as cost, | dosing, patient’s age, the presence of comorbidities (asthma or |', '', '<s1>Figure 3 .  Acute angle closure glaucoma showing oval shaped pupil, | corneal haziness and loss of red reflex [Image available from  https://| en.wikipedia.org/wiki/Glaucoma ]|', '<s1>Table 1.  Drugs associated with precipitating acute angle closure glaucoma (AACG)|', '<s1>Drug class| Mechanism |', '<s1>Histamine 1 and 2 receptor antagonists|', '<s1>Brompheniramine | Chlorpheniramine | Dexchlorpheniramine | Dimethindene | Pheniramine | Triprolidine |', '<s1>Cimetidine | Ranitidine |', '<s1>Antihistamines used in treatment of allergic disease, GORD and peptic ulcer disease have weak | anticholinergic effects which may induce mydriasis.|', '<s1>Cholinergic agents|', '<s1>Pilocarpine | Indicated for use in acute closed angle glaucoma by increasing uveoscleral  outflow, but in rare | instances may also cause an acute attack due to anterior movement of iris resulting in complete | miotic-induced angle closure.|', '<s1>Anticholinergic agents|', '<s1>Tropicamide | Atropine | Homatropine | Cyclopentolate |', '<s1>Ipratropium |', '<s1>Anticholinergics are used to induce pupil dilatation and relaxation of ciliary muscle during fundus | examination. The long acting anticholinergic action frequently induces acute attacks.|', '<s1>50% of patients with pre-existing glaucoma nebulized with ipratropium develop acute attacks due to | corneal diffusion of nebulized solution.|', '<s1>Adrenergic agents|', '<s1>Phenylephrine| Apraclonidine| Ephedrine| Adrenaline| Amphetamines|', '<s1>Salbutamol| Albuterol| Terbutaline|', '<s1>α1 adrenergic agents cause mydriasis and individuals with shallow anterior chambers are more at risk | to develop acute attack.| Occurs with local (eye), nasal, systemic administration.|', '<s1>Absorption through cornea via face-mask escape during nebulization | Nebulized β adrenergic agents for bronchospasm increases IOP and induce transient angle closure. | This is exacerbated if combined with ipratropium.| Stimulation of β2 receptors in ciliary body promotes aqueous humour secretion.|', '<s1>The medical management of glaucoma| 9|', '<s1>The page number in the footer is not for bibliographic referencing| www.tandfonline.com/oemd|', '<s3>9|', '', '<p>COPD), pregnancy, adherence to treatment and the degree of optic | disc damage should be considered in choosing an appropriate | treatment regimen.', '<s11>18|', '', '<p>In treating AACG, the primary goal is to make the correct diagnosis to | prevent permanent loss of vision. This is achieved by rapid lowering | of the IOP and reversal of the angle closure. Empiric treatment with | topical and systemic aqueous humour suppressants (β blockers | and acetazolamide) reduces the IOP, followed by pilocarpine to | reverse the pupil block. In the absence of available trials comparing | medical options for treatment of AACG, the initial management | usually consists of administering one drop of 0.5% timolol,  | 1% apraclonidine and 2% pilocarpine one minute apart. This is | followed by intravenous acetazolamide or mannitol. Eye pressure | should be checked every hour until specialist ophthalmological | care can be provided.', '<s11>19|', '', '<h3>Pharmacological management|', '', '<p>Pharmacological management is the most common initial | intervention in lowering the IOP, although laser trabeculoplasty | and surgery are frequently used to slow the disease progression.', '<s11>19|', '<p>Surgical treatment has no advantage over pharmacological | management in visual field protection, however surgical | interventions attain target IOP in 46% of cases compared to 35% in | those being treated medically.', '<s11>20|', '', '<p>Several agents are available and the primary choice of drug depends | on the degree of pressure lowering which needs to be achieved. It | is recommended to initiate treatment on one type of medication. | If an inadequate response in lowering the IOP is observed, the | dose may be adjusted, or a second agent may be added. If the | first agent fails to demonstrate any measureable clinical response, | it should be removed from the regimen and be replaced with an |', '<p>alternative drug.', '<s11>21', '<p>  Pharmacological agents used to lower the IOP | include prostaglandin analogs, carbonic anhydrase inhibitors, | α', '<s11>2', '<p> adrenergic agonists, cholinergic agonists, β blockers and | hyperosmotic agents. Adequate treatment of glaucoma requires | a high level of adherence. It is estimated that 45% of patients will | default on chronic treatment, if they are not appropriately followed | up and counselled regarding dosage instructions and possible side | effects.', '<s11>22', '<p> Table 2 below summarises the currently available drugs in | South Africa used to lower intraocular pressure.|', '', '<h3>Prostaglandin receptor analogs|', '', '<p>Latanoprost, travoprost and bimatoprost are prostaglandin  | F', '<s11>2 ', '<p>agonists, which increases the uveoscleral outflow of aqueous | humour. It is considered the most potent group of topical ocular | hypotensive agents currently available and may lower baseline IOP | by 25–35%.', '<s11>23', '<p> There are few associated systemic side effects and | mostly relates to headaches. In addition, latanoprost may cause | joint/muscle pain and flu-like symptoms. Local adverse effects | include blurred vision, conjunctival hyperaemia, eye discomfort, | permanent iridial pigmentation, macular edema and thickening of | the eyelashes.', '<s11>24|', '', '<h3>Carbonic anhydrase inhibitors|', '', '<p>Acetazolamide, dorzolamide and brinzolamide are sulphonamide | derivatives | which | reduces | aqueous | humour | production | independent to its diuretic mode of action. Acetazolamide is | administered systemically in the form of oral tablets or intravenous | infusion, and additionally reduces the rate of aqueous inflow up to | 50%. Its usefulness is limited to the management of acute closed | angle glaucoma due to unfavourable systemic side effects which | may include paresthesia, nausea, diarrhoea, loss of appetite and | dose related systemic acidosis. Topical application of dorzolamide |', '', '<s1>Antidepressants|', '<s1>Imipramine| Amitriptylene | Clomipramine|', '<s1>Paroxetine| Venlafaxine| Fluvoxamine| Citalopram| Escitalopram|', '<s1>Tricyclic antidepressants (TCA) have higher incidence of anticholinergic side effects responsible for | increase IOP in acute attacks. |', '<s1>Selective serotonin reuptake inhibitors less incidence compared to TCAs.| Mydriasis as result of increased serotonin causing supraciliary effusion.|', '<s1>Sulphonamides|', '<s1>Acetazolamide| Hydrochlorothiazide| Cotrimoxazole| Topiramate|', '<s1>Acetazolamide mainly used in acute closed angle emergencies, but may also be used in chronic open | angle glaucoma. In rare cases, chronic administration may precipitate acute angle closure.| Mechanism relates to ciliary body edema causing relaxation of zonules allowing the lens to thicken | and become displaced.|', '<s1>Anticoagulants|', '<s1>Enoxaparin| Heparin| Warfarin|', '<s1>Rare secondary cause of acute attack. | Increased IOP as a result of overtreatment leading to vitreous, choroidal or subretinal hemorrhage.|', '<s1>Glucocorticosteroids|', '<s1>Dexamethasone| Prednisolone| Fluoromethalone| Hydrocortisone|', '<s1>Triamcinolone|', '<s1>Elevated IOP due to increased outflow resistance which is facilitated by upregulation of | glucocorticoid receptors on the trabecular meshwork cells.| Dexamethasone and prednisolone raises IOP more compared to others.| Fluoromethalone least likely towards IOP elevation.|', '<s1>Increased expression and deposition of matrix proteins and crystals causing physical obstruction.|', '<s1>S Afr Fam Pract  2017;59(2):6-13| 10|', '<s1>The page number in the footer is not for bibliographic referencing| www.tandfonline.com/oemd|', '<s3>10|', '', '<p>and brinzolamide demonstrates an improvement in ocular blood | flow and long-term preservation of visual field. An average reduction | of  15–20% in baseline IOP can be expected.', '<s11>25', '<p> Side effects include | ocular irritation, dry eyes, blurred vision, eyelid inflammation and a | bitter taste.', '<s11>26|', '', '<h3>Alpha 2 adrenergic agonists|', '', '<p>Brimonidine is a selective α2 receptor agonist. It initially reduces | aqueous humour production followed by a subsequent increase | in the uveoscleral outflow, therefore proving to be useful in | preventing a rise in IOP prior to anterior segment laser surgery. | Brimonidine reduces baseline IOP with approximately 20%.', '<s11>27|', '<p>Apraclonidine reduces the formation of aqueous humour but has | no effect on the facilitation of outflow. It has affinity for both α1 | and α2 adreno-receptors and are used to prevent postsurgical | elevation of IOP after anterior segment laser therapy. Apraclonidine | reduces baseline IOP by 30% and is additionally used as adjuvant | therapy in resistant cases of glaucoma.', '<s11>28', '<p> Systemic side effects of the | alpha agonists are related to the central nervous system (headache, | fatigue, insomnia, depression) and respiratory system. Caution | should be taken in patients with cerebral or coronary insufficiency, | postural hypotension and renal or hepatic failure. Hypersensitivity | reactions, ocular irritation, eyelid edema, foreign body sensation | and dry eyes are common with topical use.', '<s11>29|', '', '<h3>Cholinergic agonists|', '', '<p>Pilocarpine is the only available cholinergic agent in the | management of acute closed-angle glaucoma registered in South | Africa. Administration results in the increase in aqueous humour | outflow by contraction of the ciliary muscle and constriction of the | pupil. Poorly tolerated side effects, such as ciliary muscle spasm, | myopia and decreased vision limits its usefulness.', '<s11>30|', '', '<h3>Beta Blockers|', '', '<p>Although prostaglandin receptor agonists are the most potent | agents in reducing the IOP, beta blockers are regarded as the first | choice in treating open angle glaucoma. Individual agents differ in | their ability to lower IOP, with betaxolol achieving a 15% decrease, |', '<p>compared to 20–25% with timolol and levobunolol respectively. | Betaxolol is, however, more cardioselective (β1) and therefore has | fewer pulmonary side effects compared to timolol and levobunolol | (which are non-selective antagonists on β1 and β2 receptors). The | mechanism involves a reduction of aqueous humour production | and does not cause miosis or accommodation disturbances | compared to cholinergic agents. The most common adverse effects | are ocular irritation and dry eyes. All the β blockers (including the | cardioselective agents) are contraindicated in patients with asthma, | COPD and bradycardia, unless alternative treatment is unavailable.', '<s11>30|', '', '<h3>Combination agents|', '', '<p>Several combination agents are available in the treatment of | glaucoma. Most of these combinations include timolol, since | β blockers are still considered first line therapy in open-angle | glaucoma and ocular hypertension. Fixed-dose combination | therapy is more efficacious than its individual components, but still | less efficacious than its respective unfixed combinations. It provides | for simplified treatment regimes and enhances compliance. Fixed | dose combinations containing prostaglandins have a lower risk | in causing hyperemia.', '<s11>31', '<p> Combination of timolol with dorzolamide | is superior in visual field preservation compared to timolol and | brinzolamide.', '<s11>26', '<p> Combination preparations with brimonidine | have less visual disturbances, taste alterations and ocular allergic | reactions compared to the single ingredient product.', '<s11>29|', '', '<h3>Cannabinoids|', '', '<p>With the recent attention cannabis has been receiving in the | management of pain and other cancer related conditions, it | is important to remember the favourable effect of its active | ingredient, Δ', '<s11>9', '<p>-tetrahydrocannabinol (THC), in reducing ocular | blood flow. Studies from the 1970s have reported a 30% reduction | in the IOP by inhalation or intravenous administration of THC. The | use is, however, limited owing to the cardiovascular (increased heart | rate and decreased blood pressure) and neurological (tolerance | and addiction) side effects. Topical application does not produce | a significant clinical effect. The use of synthetic cannabinoids may | provide a basis for potential future treatment strategies.', '<s11>32|', '', '<s1>Table 2.  Currently available drugs in the management of glaucoma| Active ingredient / Trade name| Strength| SEP*| IOP reduction| Dose| Prostaglandin analogs|', '<s1>Atana® - Actor|', '<s1>Latanoprost 50 µg/ml|', '<s1>R151.43 (2.5\\xa0ml)|', '<s1>31%| 1 drop daily| Ocuprost® - Arrow| R182.37 (3\\xa0ml)|', '<s1>Xalatan® - Pfizer| R174.02 (2.5\\xa0ml)|', '<s1>Travatan® - Alcon| Travoprost 40 µg/ml| R177.55 (2.5\\xa0ml)| 32%| 1 drop daily|', '<s1>Lumigan® - Allergan| Bimatoprost 0.1 mg/ml| R182.36 (2.5\\xa0ml)| 32%| 1 drop daily| Bimatoprost 0.3 mg/ml| R222.54 (3\\xa0ml)|', '<s1>Carbonic anhydrase inhibitors|', '<s1>Diamox® - Litha| Acetazolamide 250 mg tabs| R77.94 (30)| 20% – 30%| 250\\xa0mg 1–4 times | daily acc to response|', '<s1>Azoptic® - Alcon| Brinzolamide 10 mg/ml| R171.76 (5\\xa0ml)| 15% – 20%| 1 drop 8–12 hourly|', '<s1>Glaucopress® - Actor| Dorzolamide 20 mg/ml| R120.29 (5\\xa0ml)| 16% – 18%| 1 drop 8 hourly| Trusopt® - MSD| R150.55 (5\\xa0ml)|', '<s1>S Afr Fam Pract  2017;59(2):6-13| 12|', '<s1>The page number in the footer is not for bibliographic referencing| www.tandfonline.com/oemd|', '<s3>12|', '', '<h3>Conclusion |', '', '<p>General practitioners and family physicians play an important |', '<p>role in the diagnosis and appropriate referral of patients with |', '<p>suspected glaucoma. Fundoscopic examinations are quick and |', '<p>easy to perform and are an opportunity that present at each |', '<p>consultation. The early recognition of symptoms may improve |', '<p>outcomes and delay progression. Taking a good medical history |', '<p>and applying the principles of rational drug use may identify |', '<p>potential pharmacological causes for glaucoma. Practitioners |', '<p>prescribing any of the drugs known to cause acute angle glaucoma |', '<p>should be vigilant in patients presenting with characteristic signs |', '<p>or symptoms, and immediately refer them to an ophthalmologist. |', '<p>Patients need to be counselled on the associated adverse effects |', '<p>from glaucoma medication in order to improve adherence.      |', '', '<h3>References|', '', '<s4>1. Weinreb RN, Khaw PT. Primary open-angle glaucoma. Lancet. |', '<s4>2004;363(9422):1711-20.|', '<s4>2. Levene RZ. Low tension glaucoma: a critical review and new material. Survey of |', '<s4>ophthalmology. 1980;24(6):621-64.|', '<s4>3. Johnson CA, Keltner JL, Cello KE, Edwards M, Kass MA, Gordon MO, et al. |', '<s4>Baseline visual field characteristics in the ocular hypertension treatment study. |', '<s4>Ophthalmology. 2002;109(3):432-7.|', '<s4>4. Tham YC, Li X, Wong TY, Quigley HA, Aung T, Cheng CY. Global prevalence of |', '<s4>glaucoma and projections of glaucoma burden through 2040: a systematic |', '<s4>review and meta-analysis. Ophthalmology. 2014;121(11):2081-90.|', '<s4>5. Goel M, Picciani RG, Lee RK, Bhattacharya SK. Aqueous humor dynamics: a |', '<s4>review. The open ophthalmology journal. 2010;4:52-9.|', '<s4>6. Kapetanakis VV, Chan MP, Foster PJ, Cook DG, Owen CG, Rudnicka AR. |', '<s4>Global variations and time trends in the prevalence of primary open angle |', '<s4>glaucoma (POAG): a systematic review and meta-analysis. Br J Ophthalmol. |', '<s4>2016;100(1):86-93.|', '', '<s1>α2 adrenergic agonists|', '<s1>Alphagan Purite® - Allergan| Brimonidine 1.5 mg/ml| R211.44 (5\\xa0ml)| 20% – 25%| 1 drop 12 hourly|', '<s1>Brimoct® - Actor| Brimonidine 2 mg/ml| R177.08 (5\\xa0ml)|', '<s1>Iopidine® - Alcon| Apraclonidine 10 mg/ml| R3024.88 (24\\xa0x\\xa00.25\\xa0ml | units)| 30% – 33%|', '<s1>1 drop 1hour pre-op, | 2 drops post op|', '<s1>Apraclonidine 5 mg/ml| R301.49 (10\\xa0ml)| 1 drop 8 hourly|', '<s1>Cholinergic agonists (Parasympathomimetics)|', '<s1>Isopto-Carpine® - Alcon|', '<s1>Pilocarpine 10 mg/ml| R111.94 (15\\xa0ml)|', '<s1>20% – 25%| 2 drops 6–8 hourly| Pilocarpine 20 mg/ml| R108.03 (15\\xa0ml)|', '<s1>Pilocarpine 40 mg/ml| R121.14 (15\\xa0ml)|', '<s1>β blockers|', '<s1>Betagan® - Allergan| Levobunolol 5 mg/ml| R180.06 (7.5\\xa0ml)| 20% - 25%| 1 drop 12 hourly|', '<s1>Betoptic® - Alcon| Betaxolol 5 mg/ml| R194.96 (5\\xa0ml)| 15% – 20%| 1 drop 12 hourly| Loxoptic® - Actor| R148.60 (5\\xa0ml)|', '<s1>Glaucosan® - Sandoz| Timolol 5 mg/ml| R67.03 (5\\xa0ml)| 15% – 25%| 1 drop 12 hourly|', '<s1>Timoptol® - MSD| Timolol 2.5 mg/ml| R97.94 (5\\xa0ml)|', '<s1>Timolol 5 mg/ml| R120.29 (5\\xa0ml)|', '<s1>Combination|', '<s1>Azarga® - Alcon| Brinzolamide 10 mg/ml| Timolol 5 mg/ml| R188.14 (5\\xa0ml)| 1 drop 12 hourly|', '<s1>Combigan® - Allergan| Brimonidine 2 mg/ml| Timolol 5 mg/ml| R221.58 (5\\xa0ml)| 1 drop 12 hourly|', '<s1>Cosopt® - MSD|', '<s1>Dorzolamide 20 mg/ml| Timolol 5 mg/ml|', '<s1>R213.14 (5\\xa0ml)|', '<s1>1 drop 12 hourly| Glaumide-Co® - Actor| R162.70 (5\\xa0ml)|', '<s1>Glauopt Co® - Aspen| R162.70 (5\\xa0ml)|', '<s1>DuoTrav® - Alcon| Travopost 40 µg/ml| Timolol 5 mg/ml| R219.03 (2.5\\xa0ml)| 1 drop daily|', '<s1>Ganfort® - Allergan| Bimatoprost 0.3 mg/ml| Timolol 5 mg/ml| R236.05 (3\\xa0ml)| 1 drop daily|', '<s1>Co-Atana® - Alcon| Latanoprost 50 µg/ml| Timolol 5 mg/ml|', '<s1>R180.19 (2.5\\xa0ml)| 1 drop daily| Xalacom® - Pfizer| R225.25 (2.5\\xa0ml)|', '', '<s5>*  Single exit price, as listed in the  Monthly Index of Medical Specialities . 2016;56(11)|', '', '<s1>The medical management of glaucoma| 13|', '<s1>The page number in the footer is not for bibliographic referencing| www.tandfonline.com/oemd|', '<s3>13|', '', '<s4>7. Sakurada Y, Mabuchi F. Advances in glaucoma genetics. Prog Brain Res. | 2015;220:107-26.|', '<s4>8. Tham YC, Cheng CY. Associations between chronic systemic diseases and | primary open angle glaucoma: an epidemiological perspective. Clinical & | experimental ophthalmology. 2017;45(1):24-32.|', '<s4>9. Jonas JB, Budde WM, Panda-Jonas S. Ophthalmoscopic evaluation of the optic | nerve head. Survey of ophthalmology. 1999;43(4):293-320.|', '<s4>10. Feder RS, Olsen TW, Prum BE, Jr., Summers CG, Olson RJ, Williams RD, et al. | Comprehensive Adult Medical Eye Evaluation Preferred Practice Pattern((R)) | Guidelines. Ophthalmology. 2016;123(1):209-36.|', '<s4>11. Mantravadi AV, Vadhar N. Glaucoma. Primary care. 2015;42(3):437-49.|', '<s4>12. Leibowitz HM. The red eye. N Engl J Med. 2000;343(5):345-51.|', '<s4>13. Lachkar Y, Bouassida W. Drug-induced acute angle closure glaucoma. Current | opinion in ophthalmology. 2007;18(2):129-33.|', '<s4>14. Nelson P, Aspinall P, Papasouliotis O, Worton B, O’Brien C. Quality of life in | glaucoma and its relationship with visual function. Journal of glaucoma. | 2003;12(2):139-50.|', '<s4>15. Freeman EE, Munoz B, West SK, Jampel HD, Friedman DS. Glaucoma and quality | of life: the Salisbury Eye Evaluation. Ophthalmology. 2008;115(2):233-8.|', '<s4>16. Leske MC. The epidemiology of open-angle glaucoma: a review. American | journal of epidemiology. 1983;118(2):166-91.|', '<s4>17. The Advanced Glaucoma Intervention Study (AGIS): 7. The relationship | between control of intraocular pressure and visual field deterioration.The AGIS | Investigators. Am J Ophthalmol. 2000;130(4):429-40.|', '<s4>18. Singh K, Lee BL, Wilson MR. A panel assessment of glaucoma management: | modification of existing RAND-like methodology for consensus in | ophthalmology. Part II: Results and interpretation. Am J Ophthalmol. | 2008;145(3):575-81.|', '<s4>19. Weinreb RN, Aung T, Medeiros FA. The Pathophysiology and Treatment of | Glaucoma A Review. JAMA-J Am Med Assoc. 2014;311(18):1901-11.|', '<s4>20. Janz NK, Wren PA, Lichter PR, Musch DC, Gillespie BW, Guire KE, et al. The | Collaborative Initial Glaucoma Treatment Study: interim quality of life findings | after initial medical or surgical treatment of glaucoma. Ophthalmology. | 2001;108(11):1954-65.|', '<s4>21. Prum BE, Jr., Rosenberg LF, Gedde SJ, Mansberger SL, Stein JD, Moroi SE, et | al. Primary Open-Angle Glaucoma Preferred Practice Pattern Guidelines. | Ophthalmology. 2016;123(1):41-111.|', '<s4>22. Okeke CO, Quigley HA, Jampel HD, Ying GS, Plyler RJ, Jiang Y, et al. Adherence | with topical glaucoma medication monitored electronically the Travatan Dosing | Aid study. Ophthalmology. 2009;116(2):191-9.|', '<s4>23. Deepankar UP, Jain B. To compare the efficacy of different prostaglandins as | monotherapy in POAG. J Evol Med Dent Sci-JEMDS. 2016;5(66):4713-5.|', '<s4>24. Arranz-Marquez E, Teus MA. Prostanoids for the management of glaucoma. | Expert Opin Drug Saf. 2008;7(6):801-8.|', '<s4>25. Strahlman E, Tipping R, Vogel R, Abrantes P, Alm A, Airaksinen PJ, et al. A six-week | dose-response study of the ocular hypotensive effect of dorzolamide with a | one-year extension. Am J Ophthalmol. 1996;122(2):183-94.|', '<s4>26. Gugleta K. Topical carbonic anhydrase inhibitors and visual function in glaucoma | and ocular hypertension. Curr Med Res Opin. 2010;26(6):1255-67.|', '<s4>27. Toris CB, Gleason ML, Camras CB, Yablonski ME. Effects of brimonidine | on aqueous humor dynamics in human eyes. Arch Ophthalmol. | 1995;113(12):1514-7.|', '<s4>28. Yuksel N, Guler C, Caglar Y, Elibol O. Apraclonidine and clonidine - a comparison | of efficacy and side-effects in normal and ocular hypertensive volunteers. Int | Ophthalmol. 1992;16(4-5):337-42.|', '<s4>29. Sharma S, Trikha S, Perera SA, Aung T. Clinical effectiveness of brinzolamide | 1%-brimonidine 0.2% fixed combination for primary open-angle glaucoma and | ocular hypertension. Clin Ophthalmol. 2015;9:2201-7.|', '<s4>30. Costagliola C, Dell’Omo R, Romano MR, Rinaldi M, Zeppa L, Parmeggiani | F. Pharmacotherapy of intraocular pressure: part I. Parasympathomimetic, | sympathomimetic and sympatholytics. Expert Opinion on Pharmacotherapy. | 2009;10(16):2663-77.|', '<s4>31. Quaranta L, Biagioli E, Riva I, Rulli E, Poli D, Katsanos A, et al. Prostaglandin | Analogs and Timolol-Fixed Versus Unfixed Combinations or Monotherapy | for Open-Angle Glaucoma: A Systematic Review and Meta-Analysis. J Ocular | Pharmacol Ther. 2013;29(4):382-9.|', '<s4>32. Novack GD. Cannabinoids for treatment of glaucoma. Current opinion in | ophthalmology.  | 2016;27(2):146-50.|', '', '<s13>View publication stats|']\n"
          ]
        }
      ]
    },
    {
      "cell_type": "code",
      "source": [
        "#Extract text for corresponding headers\n",
        "    element_dict = {}\n",
        "    for text in elements:\n",
        "      #prev = text[0:start]\n",
        "      if text.startswith(\"<h\"): \n",
        "        start = text.index(\">\")\n",
        "        header = text[start+1:].replace(\"|\",\"\")\n",
        "    \n",
        "      if text.startswith(\"<p\") and header not in element_dict.keys():\n",
        "        c = []\n",
        "        start = text.index(\">\")\n",
        "        c.append(text[start+1:].replace(\"|\",\"\"))\n",
        "        element_dict[header] = c\n",
        "      elif text.startswith(\"<p\") and header in element_dict.keys():\n",
        "        start = text.index(\">\")\n",
        "        c.append(text[start+1:].replace(\"|\",\"\"))\n",
        "        element_dict[header] =c\n",
        "      else:\n",
        "        continue\n",
        "      \n",
        "      for k,v in element_dict.items():\n",
        "        p = \".\".join([text.strip() for text in sent_tokenize(v[0])])\n",
        "        rec = f\"{k}:{p}\\n\"\n",
        "        print(rec)\n",
        "        with open('extracted_text.txt',\"a+\") as f:\n",
        "          f.write(rec)\n",
        "\n",
        "\n"
      ],
      "metadata": {
        "id": "Ru9yqi_zISZ7"
      },
      "execution_count": null,
      "outputs": []
    },
    {
      "cell_type": "code",
      "source": [
        "def header_text(edict):\n",
        "  element_dict = {}\n",
        "  for text in ele:\n",
        "    #print(text)\n",
        "    #prev = text[0:start]\n",
        "    if text.startswith(\"<h\"): \n",
        "      start = text.index(\">\")\n",
        "      header = text[start+1:].replace(\"|\",\"\")\n",
        "    \n",
        "    if text.startswith(\"<p\") and header not in element_dict.keys():\n",
        "      c = []\n",
        "      start = text.index(\">\")\n",
        "      c.append(text[start+1:].replace(\"|\",\"\"))\n",
        "      element_dict[header] = c\n",
        "    elif text.startswith(\"<p\") and header in element_dict.keys():\n",
        "      start = text.index(\">\")\n",
        "      c.append(text[start+1:].replace(\"|\",\"\"))\n",
        "      element_dict[header] =c\n",
        "    else:\n",
        "      continue\n",
        "  for k,v in element_dict.items():\n",
        "        p = \"\".join(v)\n",
        "        rec = f\"{k}:{p}\\n\".strip()\n",
        "        #print(rec)\n",
        "        with open('Pdf_extracted_text.txt',\"a+\") as f:\n",
        "          f.write(rec)\n",
        "  return element_dict\n"
      ],
      "metadata": {
        "id": "PJPjyh1vHNFv"
      },
      "execution_count": 52,
      "outputs": []
    },
    {
      "cell_type": "code",
      "source": [
        "element_dict = header_text(ele)"
      ],
      "metadata": {
        "id": "vpOfoYhEIcXa"
      },
      "execution_count": 53,
      "outputs": []
    },
    {
      "cell_type": "code",
      "source": [
        "\" \".join(element_dict['Conclusion '])"
      ],
      "metadata": {
        "colab": {
          "base_uri": "https://localhost:8080/",
          "height": 122
        },
        "id": "ykXYiQDkUsQ-",
        "outputId": "b7de6d32-eb98-4774-81c2-8a0513c395e6"
      },
      "execution_count": 54,
      "outputs": [
        {
          "output_type": "execute_result",
          "data": {
            "text/plain": [
              "'General practitioners and family physicians play an important  role in the diagnosis and appropriate referral of patients with  suspected glaucoma. Fundoscopic examinations are quick and  easy to perform and are an opportunity that present at each  consultation. The early recognition of symptoms may improve  outcomes and delay progression. Taking a good medical history  and applying the principles of rational drug use may identify  potential pharmacological causes for glaucoma. Practitioners  prescribing any of the drugs known to cause acute angle glaucoma  should be vigilant in patients presenting with characteristic signs  or symptoms, and immediately refer them to an ophthalmologist.  Patients need to be counselled on the associated adverse effects  from glaucoma medication in order to improve adherence.      '"
            ],
            "application/vnd.google.colaboratory.intrinsic+json": {
              "type": "string"
            }
          },
          "metadata": {},
          "execution_count": 54
        }
      ]
    },
    {
      "cell_type": "code",
      "source": [
        "\"\".join(element_dict['Carbonic anhydrase inhibitors'])"
      ],
      "metadata": {
        "colab": {
          "base_uri": "https://localhost:8080/",
          "height": 140
        },
        "id": "eadV3AnpVyOc",
        "outputId": "0dd452d0-7c85-4479-be25-3f9d2a40eacc"
      },
      "execution_count": 55,
      "outputs": [
        {
          "output_type": "execute_result",
          "data": {
            "text/plain": [
              "'Acetazolamide, dorzolamide and brinzolamide are sulphonamide  derivatives  which  reduces  aqueous  humour  production  independent to its diuretic mode of action. Acetazolamide is  administered systemically in the form of oral tablets or intravenous  infusion, and additionally reduces the rate of aqueous inflow up to  50%. Its usefulness is limited to the management of acute closed  angle glaucoma due to unfavourable systemic side effects which  may include paresthesia, nausea, diarrhoea, loss of appetite and  dose related systemic acidosis. Topical application of dorzolamide and brinzolamide demonstrates an improvement in ocular blood  flow and long-term preservation of visual field. An average reduction  of  15–20% in baseline IOP can be expected. Side effects include  ocular irritation, dry eyes, blurred vision, eyelid inflammation and a  bitter taste.'"
            ],
            "application/vnd.google.colaboratory.intrinsic+json": {
              "type": "string"
            }
          },
          "metadata": {},
          "execution_count": 55
        }
      ]
    },
    {
      "cell_type": "markdown",
      "source": [
        "## Summarizing text based on the headers\n",
        "\n"
      ],
      "metadata": {
        "id": "S2i8z9FoLm5S"
      }
    },
    {
      "cell_type": "code",
      "source": [
        "sbio_tokenizer = AutoTokenizer.from_pretrained(\"t5-large\")\n",
        "sbio_model = AutoModelForSeq2SeqLM.from_pretrained(\"sumedh/biomedical_text_summarization\")"
      ],
      "metadata": {
        "colab": {
          "base_uri": "https://localhost:8080/"
        },
        "id": "dgm0RqrSMLTN",
        "outputId": "17357b82-06c4-40b2-f0ca-f1427e693593"
      },
      "execution_count": 18,
      "outputs": [
        {
          "output_type": "stream",
          "name": "stderr",
          "text": [
            "/usr/local/lib/python3.8/dist-packages/transformers/models/t5/tokenization_t5_fast.py:155: FutureWarning: This tokenizer was incorrectly instantiated with a model max length of 512 which will be corrected in Transformers v5.\n",
            "For now, this behavior is kept to avoid breaking backwards compatibility when padding/encoding with `truncation is True`.\n",
            "- Be aware that you SHOULD NOT rely on t5-large automatically truncating your input to 512 when padding/encoding.\n",
            "- If you want to encode/pad to sequences longer than 512 you can either instantiate this tokenizer with `model_max_length` or pass `max_length` when encoding/padding.\n",
            "- To avoid this warning, please instantiate this tokenizer with `model_max_length` set to your preferred value.\n",
            "  warnings.warn(\n"
          ]
        }
      ]
    },
    {
      "cell_type": "code",
      "source": [
        "sbio_tokenizer.model_max_length"
      ],
      "metadata": {
        "colab": {
          "base_uri": "https://localhost:8080/"
        },
        "id": "GnmfX7CBRTba",
        "outputId": "7c4e4d6f-d555-4b63-bf07-08e6a82f37ab"
      },
      "execution_count": 30,
      "outputs": [
        {
          "output_type": "execute_result",
          "data": {
            "text/plain": [
              "512"
            ]
          },
          "metadata": {},
          "execution_count": 30
        }
      ]
    },
    {
      "cell_type": "code",
      "source": [
        "max_source_length = max([len(x) for x in inputs.input_ids])\n",
        "print(f\"Max source length: {max_source_length}\")"
      ],
      "metadata": {
        "id": "c4EA6xtZRQKQ"
      },
      "execution_count": null,
      "outputs": []
    },
    {
      "cell_type": "code",
      "source": [
        "for k,v in element_dict.items():\n",
        "  sum = []\n",
        "  #sumedh/biomedical_text_summarization\n",
        "  tokenized_text = sbio_tokenizer.encode(v[0],return_tensors=\"pt\",max_length=1024,truncation=True)\n",
        "  summary = sbio_model.generate(tokenized_text,min_length=50,max_length=500)\n",
        "  summary_text = sbio_tokenizer.decode(summary[0],skip_special_tokens=True)\n",
        "  sum.append(\".\".join([text.strip().capitalize() for text in summary_text.split(\".\")]))\n"
      ],
      "metadata": {
        "colab": {
          "base_uri": "https://localhost:8080/"
        },
        "id": "wNzvAtpBJXox",
        "outputId": "5c2dcf7d-8340-4628-e4ca-01457949448d"
      },
      "execution_count": 23,
      "outputs": [
        {
          "output_type": "stream",
          "name": "stderr",
          "text": [
            "/usr/local/lib/python3.8/dist-packages/transformers/modeling_utils.py:764: FutureWarning: The `device` argument is deprecated and will be removed in v5 of Transformers.\n",
            "  warnings.warn(\n"
          ]
        }
      ]
    },
    {
      "cell_type": "code",
      "source": [
        "sentences = []\n",
        "for k,v in element_dict.items():\n",
        "  sentences.append(v[0])"
      ],
      "metadata": {
        "id": "mK9dYuuLP30m"
      },
      "execution_count": 26,
      "outputs": []
    },
    {
      "cell_type": "code",
      "source": [
        "sentences"
      ],
      "metadata": {
        "colab": {
          "base_uri": "https://localhost:8080/"
        },
        "id": "U8dn1l6GQYr5",
        "outputId": "5cbf3cbc-9c55-4380-ae21-10e5a69dbb5f"
      },
      "execution_count": 27,
      "outputs": [
        {
          "output_type": "execute_result",
          "data": {
            "text/plain": [
              "['Glaucoma is a mixed group of eye disorders sharing common  features which typically includes optic disc cupping and visual  field loss, thereby more accurately defined as an optic neuropathy.  Optic nerve damage results in progressive retinal ganglionic  cell loss and irreversible blindness, if not treated.',\n",
              " 'Glaucoma is one of the leading causes of blindness worldwide. The main characteristic features include optic disc cupping, visual field  loss, and in most instances a raised intraocular pressure. Primary open angle glaucoma accounts for nearly two thirds of all cases, while  angle closure glaucoma contributes the majority of the remainder. Screening for glaucoma is not cost-effective, and diagnosis of the  primary open angle type is usually an incidental finding during ophthalmological examination. Various treatment options, including  medical and surgical interventions are accessible in the management of glaucoma. This article contains a brief description on the  pathophysiology and focuses on the pharmacological options available in the treatment of glaucoma.  ',\n",
              " 'Both types can be further divided into primary versus secondary, ',\n",
              " 'Aqueous humour (a transparent, low protein containing fluid) is ',\n",
              " 'In open angle glaucoma, the trabecular meshwork undergoes ',\n",
              " 'With closed angle glaucoma, a primary hypermetropic anatomical ',\n",
              " 'The goal in treating POAG is to establish and maintain the intra- ocular pressure at a range where visual field loss will have the  least negative impact on the patient’s perceived visual disability.  “Various studies have shown that visual field loss in glaucoma has  been\\xa0 associated with a significant decrease in a person’s vision- related quality of life.\\xa0\\xa0This is\\xa0evident in activities\\xa0requiring optimal  vision, such as dark adaptation, avoiding unintentional bumping  into objects and outdoor mobility.',\n",
              " 'Pharmacological management is the most common initial  intervention in lowering the IOP, although laser trabeculoplasty  and surgery are frequently used to slow the disease progression.',\n",
              " 'Latanoprost, travoprost and bimatoprost are prostaglandin   F',\n",
              " 'Acetazolamide, dorzolamide and brinzolamide are sulphonamide  derivatives  which  reduces  aqueous  humour  production  independent to its diuretic mode of action. Acetazolamide is  administered systemically in the form of oral tablets or intravenous  infusion, and additionally reduces the rate of aqueous inflow up to  50%. Its usefulness is limited to the management of acute closed  angle glaucoma due to unfavourable systemic side effects which  may include paresthesia, nausea, diarrhoea, loss of appetite and  dose related systemic acidosis. Topical application of dorzolamide ',\n",
              " 'Brimonidine is a selective α2 receptor agonist. It initially reduces  aqueous humour production followed by a subsequent increase  in the uveoscleral outflow, therefore proving to be useful in  preventing a rise in IOP prior to anterior segment laser surgery.  Brimonidine reduces baseline IOP with approximately 20%.',\n",
              " 'Pilocarpine is the only available cholinergic agent in the  management of acute closed-angle glaucoma registered in South  Africa. Administration results in the increase in aqueous humour  outflow by contraction of the ciliary muscle and constriction of the  pupil. Poorly tolerated side effects, such as ciliary muscle spasm,  myopia and decreased vision limits its usefulness.',\n",
              " 'Although prostaglandin receptor agonists are the most potent  agents in reducing the IOP, beta blockers are regarded as the first  choice in treating open angle glaucoma. Individual agents differ in  their ability to lower IOP, with betaxolol achieving a 15% decrease, ',\n",
              " 'Several combination agents are available in the treatment of  glaucoma. Most of these combinations include timolol, since  β blockers are still considered first line therapy in open-angle  glaucoma and ocular hypertension. Fixed-dose combination  therapy is more efficacious than its individual components, but still  less efficacious than its respective unfixed combinations. It provides  for simplified treatment regimes and enhances compliance. Fixed  dose combinations containing prostaglandins have a lower risk  in causing hyperemia.',\n",
              " 'With the recent attention cannabis has been receiving in the  management of pain and other cancer related conditions, it  is important to remember the favourable effect of its active  ingredient, Δ',\n",
              " 'General practitioners and family physicians play an important ']"
            ]
          },
          "metadata": {},
          "execution_count": 27
        }
      ]
    },
    {
      "cell_type": "code",
      "source": [
        "final_sum = []\n",
        "\" \".join(element_dict['Conclusion '])\n",
        "for header,sentence in element_dict.items():\n",
        "  sent = \" \".join(element_dict[header])\n",
        "  print(sent)\n",
        "  #Sumedh Biomedical\n",
        "  '''\n",
        "  tokenized_text = sbio_tokenizer.encode(sent,return_tensors=\"pt\")\n",
        "  max_source_length = max([len(x) for x in tokenized_text])\n",
        "  print(f\"Max source length: {max_source_length}\")\n",
        "  malen = max_source_length + 50\n",
        "  summary = sbio_model.generate(tokenized_text)\n",
        "  summary_text = sbio_tokenizer.decode(summary[0],skip_special_tokens=True)\n",
        "  '''\n",
        "  # t5-small-finetuned-bioMedv2\n",
        "  tokenized_text = tokenizer.encode(sent,return_tensors=\"pt\",max_length=1024,truncation=True)\n",
        "  max_source_length = max([len(x) for x in tokenized_text])\n",
        "  print(f\"Max source length: {max_source_length}\")\n",
        "  summary = model.generate(tokenized_text,min_length=30,max_length=800)\n",
        "  summary_text = tokenizer.decode(summary[0],skip_special_tokens=True)\n",
        "  summary_text.replace(\":\",\"\")\n",
        "  prompt = header+\":\"+summary_text\n",
        "  final_sum.append(prompt)"
      ],
      "metadata": {
        "colab": {
          "base_uri": "https://localhost:8080/"
        },
        "id": "LbQYNy6AQWb-",
        "outputId": "e4f79868-4714-4571-ddbf-1b4a80dee063"
      },
      "execution_count": 66,
      "outputs": [
        {
          "output_type": "stream",
          "name": "stdout",
          "text": [
            "Glaucoma is a mixed group of eye disorders sharing common  features which typically includes optic disc cupping and visual  field loss, thereby more accurately defined as an optic neuropathy.  Optic nerve damage results in progressive retinal ganglionic  cell loss and irreversible blindness, if not treated.  Traditionally,  glaucoma has been characterized by the existence of raised  intraocular pressure (IOP), however nerve damage may occur in the  presence of values within the statistically normal range between   8–21 mmHg. Glaucomatous disc and field changes in the absence  of elevated pressure constitutes normal or low tension glaucoma  (LTG).  Similarly, conditions exceeding the upper limit of 21 mmHg  may not be associated with signs of visual field loss or optic disc  damage and comprises ocular hypertension.   In addition to optic  neuropathy, the two main types of glaucoma (open angle and  closed angle) are described on the appearance of the drainage  system within the eye, including associated increase in the IOP  (Figure 1).\n",
            "Max source length: 230\n",
            "Glaucoma is one of the leading causes of blindness worldwide. The main characteristic features include optic disc cupping, visual field  loss, and in most instances a raised intraocular pressure. Primary open angle glaucoma accounts for nearly two thirds of all cases, while  angle closure glaucoma contributes the majority of the remainder. Screening for glaucoma is not cost-effective, and diagnosis of the  primary open angle type is usually an incidental finding during ophthalmological examination. Various treatment options, including  medical and surgical interventions are accessible in the management of glaucoma. This article contains a brief description on the  pathophysiology and focuses on the pharmacological options available in the treatment of glaucoma.   Keywords:  Glaucoma, prostaglandin analogs, carbonic anhydrase inhibitors, beta antagonists, alpha 2 adrenergic agonists, cholinergic  agonists\n",
            "Max source length: 217\n",
            "Both types can be further divided into primary versus secondary,  and congenital versus acquired. Glaucoma has a global prevalence  of 3.54% in those aged between 40 and 80 years, and is the  second leading cause of irreversible blindness, only superseded  by cataracts. Open angle glaucoma is the highest in Africa (4.2%),  while closed angle glaucoma is more prevalent in Asia (1.09%).\n",
            "Max source length: 98\n",
            "Aqueous humour (a transparent, low protein containing fluid) is  continuously secreted by the ciliary epithelium providing structural  support to the lens. This watery fluid is present in both the anterior  and posterior chambers of the eye and drains through a sieve-like  trabecular meshwork located in the angle between the cornea  and the iris. Final drainage out of the eye occurs via the canal of  Schlemm  into the episcleral vein or intrascleral venous plexus  terminating in the ocular veins.\n",
            "Max source length: 124\n",
            "In open angle glaucoma, the trabecular meshwork undergoes  morphological changes over time, resulting in progressive  impairment of drainage although it remains anatomically open.  (Figure 1) Open angle glaucoma most often affects both eyes,  but asymmetric involvement is not uncommon. Primary open  angle glaucoma (POAG) is the most common type and accounts  for 74% of all glaucoma cases. It is estimated that 57.5 million  people (3.05%) worldwide suffer from POAG.  Prevalence among  Black populations is the highest, with 2.1% at age 40 and 12.2% at  age 80 being reported. The incidence in Asian populations (0.8%  at age 40 and 4.3% at age 80), and Caucasians (0.4% at 40 years  and 5.3% at 80 years) suggests an ethno-genetic disease pattern. Although the exact cause of POAG remains unknown, more than  fifty risk factors and secondary causes have been identified.  Some of these include diabetes mellitus, migraine headache,  cardiovascular disease, asthma or COPD (inhaled anticholinergics  and glucocorticosteroids), myopia, advanced age and a family  history of first-degree relatives with the same condition.   Disease  progression leads to the formation of scar tissue between the iris  and trabecular meshwork and will ultimately result in closing off  the anterior chamber. The consequent rise in IOP is transmitted to  the optic disc and is eventually responsible for atrophy and nerve  fiber damage. Owing to the slow progression of the disease, POAG  remains asymptomatic until central vision is affected. It does not  present with headache, eye pain or loss of visual acuity. Diagnosis  is usually incidental during routine funduscopic or optometry  examinations. A cup : disc ratio of 0.6 (glaucomatous cupping), and  central corneal thickness in the presence of risk factors is suggestive  of glaucoma, and requires ophthalmological referral (Figure 2).  The progression from POAG to Chronic Angle-Closure Glaucoma  (CACG), requires lifelong treatment. Official general population screening policies do not exist and are  not cost-effective. Measuring IOP has a sensitivity of only 47.1%,  implying that nearly half of patients with POAG will have IOP below  22 mmHg. However, patients with risk factors are encouraged to  undergo annual ophthalmological examinations and additional  IOP measurements.\n",
            "Max source length: 538\n",
            "With closed angle glaucoma, a primary hypermetropic anatomical  defect (such as weakened ciliary muscles, naturally small eyes,  narrow angle or thick lens) in the absence of an identifiable  secondary cause, results in the pupil compressing the drainage  canal between the iris and cornea. Compression and narrowing of  the canal reduces or obstructs the outflow of aqueous humour in  passing through the pupil, therefore accumulating in the anterior  chamber (Figure 1). Primary angle closure glaucoma (PACG) is  less common than POAG and accounts for approximately a third  of all cases, with a global incidence of 0.5%.  Symptoms of closed  angle glaucoma depend on the degree of angle closure and in  some instances may resolve spontaneously; in which case it may  become chronic. In established disease, vision loss is severe and  permanent. Secondary causes of angle-closure glaucoma include  masses or hemorrhage in the posterior segment of the eyeball or  the presence of a fibrovascular membrane (neovascular glaucoma)  over the anterior chamber angle. Risk factors for angle closure  glaucoma include older age (> 60 years), female gender, Asian  ethnicity, hyperopia and a positive family history.  Attacks occur  more frequently at night when diminished light cause mydriasis and  narrowing of the angle.  Unexpected closure (acute angle closure  glaucoma, AACG) of the anterior chamber angle due to pupillary  block may result in a sudden rise in IOP. It constitutes a medical  emergency, since permanent blindness and irreversible damage  to the optic nerve may occur. Acute attacks are characterized  by intermittent symptoms such as severe eye pain, nausea and  vomiting, loss of vision, halos around lights, unilateral red tearing  eye, oval shaped non-reactive pupil, a cloudy cornea and the loss  of red reflex (Figure 3). In addition, it is estimated that prescribed, or over-the-counter  pharmacological agents are responsible for at least 30% of acute  angle closure glaucoma.   These include antihistamines, cholinergic-  and anticholinergic agents, adrenergic agents, antidepressants,  sulphonamides, anticoagulants and glucocorticosteroids. Table 1  below summarises the mechanism responsible for causing AACG.\n",
            "Max source length: 535\n",
            "The goal in treating POAG is to establish and maintain the intra- ocular pressure at a range where visual field loss will have the  least negative impact on the patient’s perceived visual disability.  “Various studies have shown that visual field loss in glaucoma has  been  associated with a significant decrease in a person’s vision- related quality of life.  This is evident in activities requiring optimal  vision, such as dark adaptation, avoiding unintentional bumping  into objects and outdoor mobility. Determining the target  intraocular pressure needs to be individualised for each patient,  since the measured pressure at diagnosis could be within the normal  range of 8 to 21 mmHg in 30–50% of patients.  Aiming for pressures  within these ranges will contribute towards optic nerve damage  and further progression. It is generally accepted that patients with  early disease benefit from a reduction of at least 20% in the baseline  value. A reduction of 30% is recommended in individuals with  more advanced features of POAG.  Target IOP should continuously  be re-calculated during monitoring and follow-up assessment  of visual fields and disc and nerve fiber examinations. Reducing  the IOP, however, does not guarantee that progression will not  transpire. The choice of therapy depends on the relative risks and  benefits of available modalities, which include pharmacological  treatment, laser therapy or incisional surgery. Factors such as cost,  dosing, patient’s age, the presence of comorbidities (asthma or  COPD), pregnancy, adherence to treatment and the degree of optic  disc damage should be considered in choosing an appropriate  treatment regimen. In treating AACG, the primary goal is to make the correct diagnosis to  prevent permanent loss of vision. This is achieved by rapid lowering  of the IOP and reversal of the angle closure. Empiric treatment with  topical and systemic aqueous humour suppressants (β blockers  and acetazolamide) reduces the IOP, followed by pilocarpine to  reverse the pupil block. In the absence of available trials comparing  medical options for treatment of AACG, the initial management  usually consists of administering one drop of 0.5% timolol,   1% apraclonidine and 2% pilocarpine one minute apart. This is  followed by intravenous acetazolamide or mannitol. Eye pressure  should be checked every hour until specialist ophthalmological  care can be provided.\n",
            "Max source length: 541\n",
            "Pharmacological management is the most common initial  intervention in lowering the IOP, although laser trabeculoplasty  and surgery are frequently used to slow the disease progression. Surgical treatment has no advantage over pharmacological  management in visual field protection, however surgical  interventions attain target IOP in 46% of cases compared to 35% in  those being treated medically. Several agents are available and the primary choice of drug depends  on the degree of pressure lowering which needs to be achieved. It  is recommended to initiate treatment on one type of medication.  If an inadequate response in lowering the IOP is observed, the  dose may be adjusted, or a second agent may be added. If the  first agent fails to demonstrate any measureable clinical response,  it should be removed from the regimen and be replaced with an  alternative drug.   Pharmacological agents used to lower the IOP  include prostaglandin analogs, carbonic anhydrase inhibitors,  α  adrenergic agonists, cholinergic agonists, β blockers and  hyperosmotic agents. Adequate treatment of glaucoma requires  a high level of adherence. It is estimated that 45% of patients will  default on chronic treatment, if they are not appropriately followed  up and counselled regarding dosage instructions and possible side  effects.  Table 2 below summarises the currently available drugs in  South Africa used to lower intraocular pressure.\n",
            "Max source length: 302\n",
            "Latanoprost, travoprost and bimatoprost are prostaglandin   F agonists, which increases the uveoscleral outflow of aqueous  humour. It is considered the most potent group of topical ocular  hypotensive agents currently available and may lower baseline IOP  by 25–35%.  There are few associated systemic side effects and  mostly relates to headaches. In addition, latanoprost may cause  joint/muscle pain and flu-like symptoms. Local adverse effects  include blurred vision, conjunctival hyperaemia, eye discomfort,  permanent iridial pigmentation, macular edema and thickening of  the eyelashes.\n",
            "Max source length: 169\n",
            "Acetazolamide, dorzolamide and brinzolamide are sulphonamide  derivatives  which  reduces  aqueous  humour  production  independent to its diuretic mode of action. Acetazolamide is  administered systemically in the form of oral tablets or intravenous  infusion, and additionally reduces the rate of aqueous inflow up to  50%. Its usefulness is limited to the management of acute closed  angle glaucoma due to unfavourable systemic side effects which  may include paresthesia, nausea, diarrhoea, loss of appetite and  dose related systemic acidosis. Topical application of dorzolamide  and brinzolamide demonstrates an improvement in ocular blood  flow and long-term preservation of visual field. An average reduction  of  15–20% in baseline IOP can be expected.  Side effects include  ocular irritation, dry eyes, blurred vision, eyelid inflammation and a  bitter taste.\n",
            "Max source length: 209\n",
            "Brimonidine is a selective α2 receptor agonist. It initially reduces  aqueous humour production followed by a subsequent increase  in the uveoscleral outflow, therefore proving to be useful in  preventing a rise in IOP prior to anterior segment laser surgery.  Brimonidine reduces baseline IOP with approximately 20%. Apraclonidine reduces the formation of aqueous humour but has  no effect on the facilitation of outflow. It has affinity for both α1  and α2 adreno-receptors and are used to prevent postsurgical  elevation of IOP after anterior segment laser therapy. Apraclonidine  reduces baseline IOP by 30% and is additionally used as adjuvant  therapy in resistant cases of glaucoma.  Systemic side effects of the  alpha agonists are related to the central nervous system (headache,  fatigue, insomnia, depression) and respiratory system. Caution  should be taken in patients with cerebral or coronary insufficiency,  postural hypotension and renal or hepatic failure. Hypersensitivity  reactions, ocular irritation, eyelid edema, foreign body sensation  and dry eyes are common with topical use.\n",
            "Max source length: 270\n",
            "Pilocarpine is the only available cholinergic agent in the  management of acute closed-angle glaucoma registered in South  Africa. Administration results in the increase in aqueous humour  outflow by contraction of the ciliary muscle and constriction of the  pupil. Poorly tolerated side effects, such as ciliary muscle spasm,  myopia and decreased vision limits its usefulness.\n",
            "Max source length: 91\n",
            "Although prostaglandin receptor agonists are the most potent  agents in reducing the IOP, beta blockers are regarded as the first  choice in treating open angle glaucoma. Individual agents differ in  their ability to lower IOP, with betaxolol achieving a 15% decrease,  compared to 20–25% with timolol and levobunolol respectively.  Betaxolol is, however, more cardioselective (β1) and therefore has  fewer pulmonary side effects compared to timolol and levobunolol  (which are non-selective antagonists on β1 and β2 receptors). The  mechanism involves a reduction of aqueous humour production  and does not cause miosis or accommodation disturbances  compared to cholinergic agents. The most common adverse effects  are ocular irritation and dry eyes. All the β blockers (including the  cardioselective agents) are contraindicated in patients with asthma,  COPD and bradycardia, unless alternative treatment is unavailable.\n",
            "Max source length: 251\n",
            "Several combination agents are available in the treatment of  glaucoma. Most of these combinations include timolol, since  β blockers are still considered first line therapy in open-angle  glaucoma and ocular hypertension. Fixed-dose combination  therapy is more efficacious than its individual components, but still  less efficacious than its respective unfixed combinations. It provides  for simplified treatment regimes and enhances compliance. Fixed  dose combinations containing prostaglandins have a lower risk  in causing hyperemia.  Combination of timolol with dorzolamide  is superior in visual field preservation compared to timolol and  brinzolamide.  Combination preparations with brimonidine  have less visual disturbances, taste alterations and ocular allergic  reactions compared to the single ingredient product.\n",
            "Max source length: 183\n",
            "With the recent attention cannabis has been receiving in the  management of pain and other cancer related conditions, it  is important to remember the favourable effect of its active  ingredient, Δ -tetrahydrocannabinol (THC), in reducing ocular  blood flow. Studies from the 1970s have reported a 30% reduction  in the IOP by inhalation or intravenous administration of THC. The  use is, however, limited owing to the cardiovascular (increased heart  rate and decreased blood pressure) and neurological (tolerance  and addiction) side effects. Topical application does not produce  a significant clinical effect. The use of synthetic cannabinoids may  provide a basis for potential future treatment strategies.\n",
            "Max source length: 156\n",
            "General practitioners and family physicians play an important  role in the diagnosis and appropriate referral of patients with  suspected glaucoma. Fundoscopic examinations are quick and  easy to perform and are an opportunity that present at each  consultation. The early recognition of symptoms may improve  outcomes and delay progression. Taking a good medical history  and applying the principles of rational drug use may identify  potential pharmacological causes for glaucoma. Practitioners  prescribing any of the drugs known to cause acute angle glaucoma  should be vigilant in patients presenting with characteristic signs  or symptoms, and immediately refer them to an ophthalmologist.  Patients need to be counselled on the associated adverse effects  from glaucoma medication in order to improve adherence.      \n",
            "Max source length: 157\n"
          ]
        }
      ]
    },
    {
      "cell_type": "code",
      "source": [
        "final_sum"
      ],
      "metadata": {
        "colab": {
          "base_uri": "https://localhost:8080/"
        },
        "id": "xeT6NiwPVPas",
        "outputId": "26b75551-e1c5-47ad-9166-0d5decc681cf"
      },
      "execution_count": 67,
      "outputs": [
        {
          "output_type": "execute_result",
          "data": {
            "text/plain": [
              "['Introduction:Glaucoma (glaucoma) is a mixed group of eye disorders which share common features which typically includes optic disc cupping and visual field loss.',\n",
              " 'Abstract:The pathophysiology of glaucoma is a key factor in blindness, and it is a common problem in the treatment of blindness.',\n",
              " 'Corresponding author, email: dramarais@gmail.com / andre.marais@up.ac.za:Glaucoma is the most common cause of irreversible blindness in Africa (4.2%), and closed angle glaucoma is the highest in Africa (4.2%), while closed angle glaucoma is the highest in Asia (1.09%).',\n",
              " 'Pathophysiology of glaucoma:Aqueous humour (a low protein containing fluid) is secreted by the ciliary epithelium providing structural support to the lens.',\n",
              " 'Open angle glaucoma:The progression from glaucoma to chronic angle-closure Glaucoma (CACG) is asymptomatic until central vision is affected, resulting in progressive impairment of drainage.',\n",
              " 'Closed angle glaucoma:Acute angle closure glaucoma (AACG) is the most common cause of acute eye-closure glaucoma (ACG).',\n",
              " ' Treatment goals:The first treatment of AACG in glaucoma is to determine the target intraocular pressure at diagnosis.  blockers and aqueous humour suppressants ( blockers) reduce the IOP, followed by pilocarpine to reverse the pupil block.',\n",
              " 'Pharmacological management:The number of patients in South Africa who are being treated medically has risen by 45% in the last decade.  adrenergic agonists,  blockers and hyperosmotic agents.',\n",
              " 'Prostaglandin receptor analogs:The prostaglandin F agonists latanoprost, travoprost and bimatoprost are prostaglandin F agonists, which increases the uveoscleral outflow of humour.',\n",
              " 'Carbonic anhydrase inhibitors:Aqueous humour production is reduced by aqueous inflow, resulting in a decrease in ocular blood flow.',\n",
              " 'Alpha 2 adrenergic agonists:Brimonidine is a selective 2 receptor agonist, which reduces aqueous humour production and increases the uveoscleral outflow.',\n",
              " 'Cholinergic agonists:Pilocarpine is a cholinergic agent in the management of acute closed-angle glaucoma in South Africa.',\n",
              " 'Beta Blockers:The most common adverse effects are ocular irritation and dry eyes.  blockers are the most potent agents in reducing the IOP, but they are considered the first choice in treating open angle glaucoma.',\n",
              " 'Combination agents: blockers are still considered first line therapy in open-angle glaucoma, but still less efficacious than its individual components.',\n",
              " 'Cannabinoids:Cannabis is a popular drug that has been used in the treatment of pain and other cancer related conditions.  -tetrahydrocannabinol (THC) is a popular ingredient in the treatment of pain and other cancer related conditions.',\n",
              " 'Conclusion :A diagnosis of acute angle glaucoma may be a key factor in the diagnosis and appropriate referral of patients with suspected glaucoma.']"
            ]
          },
          "metadata": {},
          "execution_count": 67
        }
      ]
    },
    {
      "cell_type": "code",
      "source": [
        "with open(\"summary_t5_bioMedv2.txt\",\"w+\") as f:\n",
        "  for item in final_sum:\n",
        "    f.write(item)\n",
        "    f.write(\"\\n\")"
      ],
      "metadata": {
        "id": "WtjhD8y-jwCW"
      },
      "execution_count": 68,
      "outputs": []
    },
    {
      "cell_type": "markdown",
      "source": [
        "## Bert Summarizer"
      ],
      "metadata": {
        "id": "FEFMROLtVA6N"
      }
    },
    {
      "cell_type": "code",
      "source": [
        "from summarizer import Summarizer\n",
        "model = Summarizer()\n",
        "\n",
        "summary_length = int(len(sentence_tokens)*reduction_rate)\n",
        "print(summary_length)\n",
        "result = model(processed_text, num_sentences=summary_length, min_length=400)\n",
        "\n",
        "print(''.join(result))"
      ],
      "metadata": {
        "colab": {
          "base_uri": "https://localhost:8080/"
        },
        "id": "nJmXAwqXeqpf",
        "outputId": "fa40dbc3-ff22-4e53-e415-c1704903942d"
      },
      "execution_count": null,
      "outputs": [
        {
          "output_type": "stream",
          "name": "stderr",
          "text": [
            "Some weights of the model checkpoint at bert-large-uncased were not used when initializing BertModel: ['cls.predictions.bias', 'cls.predictions.transform.LayerNorm.bias', 'cls.predictions.transform.dense.bias', 'cls.predictions.transform.LayerNorm.weight', 'cls.predictions.decoder.weight', 'cls.seq_relationship.weight', 'cls.seq_relationship.bias', 'cls.predictions.transform.dense.weight']\n",
            "- This IS expected if you are initializing BertModel from the checkpoint of a model trained on another task or with another architecture (e.g. initializing a BertForSequenceClassification model from a BertForPreTraining model).\n",
            "- This IS NOT expected if you are initializing BertModel from the checkpoint of a model that you expect to be exactly identical (initializing a BertForSequenceClassification model from a BertForSequenceClassification model).\n"
          ]
        },
        {
          "output_type": "stream",
          "name": "stdout",
          "text": [
            "10\n",
            "Compression and narrowing of  the canal reduces or obstructs the outflow of aqueous humour in  passing through the pupil, therefore accumulating in the anterior  chamber (Figure 1).Primary angle closure glaucoma (PACG) is  less common than POAG and accounts for approximately a third  of all cases, with a global incidence of 0.5%.Symptoms of closed  angle glaucoma depend on the degree of angle closure and in  some instances may resolve spontaneously; in which case it may  become chronic. Acute attacks are characterized  by intermittent symptoms such as severe eye pain, nausea and  vomiting, loss of vision, halos around lights, unilateral red tearing  eye, oval shaped non-reactive pupil, a cloudy cornea and the loss  of red reflex (Figure 3).In addition, it is estimated that prescribed, or over-the-counter  pharmacological agents are responsible for at least 30% of acute  angle closure glaucoma.\n"
          ]
        }
      ]
    },
    {
      "cell_type": "code",
      "source": [
        "sents = sent_tokenize(processed_text)\n",
        "len(sents)"
      ],
      "metadata": {
        "colab": {
          "base_uri": "https://localhost:8080/"
        },
        "id": "TOphPCoHiAGS",
        "outputId": "ab379f0b-091c-48b1-a251-cc46e5d3c430"
      },
      "execution_count": null,
      "outputs": [
        {
          "output_type": "execute_result",
          "data": {
            "text/plain": [
              "2"
            ]
          },
          "metadata": {},
          "execution_count": 85
        }
      ]
    },
    {
      "cell_type": "markdown",
      "source": [
        "## Flan-t5-base Summarizer"
      ],
      "metadata": {
        "id": "vn4NA_DkVE59"
      }
    },
    {
      "cell_type": "code",
      "source": [
        "from transformers import AutoTokenizer, AutoModelForSeq2SeqLM\n",
        "\n",
        "tokenizer = AutoTokenizer.from_pretrained(\"google/flan-t5-base\")\n",
        "model = AutoModelForSeq2SeqLM.from_pretrained(\"google/flan-t5-base\")"
      ],
      "metadata": {
        "colab": {
          "base_uri": "https://localhost:8080/",
          "height": 209,
          "referenced_widgets": [
            "d287d0f36f444445afe057d0e18c289a",
            "0c372344e3774e9cb1ce713e2bf05252",
            "50f3aca2446a4fb883059aca33492271",
            "b78007b8942a4d9487cabb6c4ce5e5a1",
            "a6068eddaa2d46c581d89ddb497ec76f",
            "21e1afdc004941cdbf2b1cdb103fabc7",
            "680a9a26d33e452f9eb25be95ec84bcf",
            "7344437ff89b4c5591bf17b0342164e3",
            "f19ecdff72e248c49cdf0eae5be3a0cb",
            "0b567667a48d441eb8867fe9fb014776",
            "90a7557a618e4375bb9d954c0ce8c83e",
            "0069f2ec840f445fabafebadd391a5ff",
            "f3d0aa68058f4b048c2bf59ff8735df9",
            "3f94c40930034acaa328a068093be2f6",
            "0793f616462b4dd99a2be4408736ba42",
            "0c208965a3724d86b7f8cb237799d473",
            "5845bc4104d44932af40cb9fef18f955",
            "7551d970a4614ac78d3afa0fb919e278",
            "7dedd597ef2e46ed953940ece74d6dc2",
            "10551dd5fc4247b1898a5ca595509827",
            "d17d4a47f9484c7db82e03100e5991ed",
            "2d2f5efcfe1b4843a1cc2700e2b0254a",
            "d5970b9767e54edc90ec4f34fb1661f4",
            "7a55508006ce493d9499f6c18eb7f00f",
            "6fdbf551c7464d3682d8c4aa3b0ab3ee",
            "41726a3c91314897aa6667d076e6331a",
            "bef8a601a8684f009a772bbc866d9aeb",
            "0565436b28944476b56a6cf0eb16c95f",
            "7b3830c05cd24eecb49a82195e4a64bd",
            "6b89857497274613a5aa5afc11b67a00",
            "7f939ed849bb4e769b1f674bc520c200",
            "e088d4ad7c47489e8d3f32b3f4b53a22",
            "644c8c9521fe4eb3aef9e726e4079652",
            "bcd0768c9d4d4bacbfb661b58e313858",
            "070c0f5f28884b81bdb6b1787cd5428e",
            "1f26b573dcb14eb7a4ce7cbf6adccee4",
            "2a6a7fd86db848a6a7cb03a9b14921ab",
            "237381d41bc84c38ada1fbf1d21eacee",
            "d5f26f9357924cc7bb8021a076a65898",
            "c598d89df3164cee8bd04a03df5e5740",
            "d38a62c9ed5f4fd7ac81dace0ce7b47b",
            "d193f4a36cea4d4a9bb6c177b0cdb7fa",
            "28dbdc28bbee4b4482a39aeeaa65d5e5",
            "78cf022a1a5f48b9a5eedd4d45f0c9fb",
            "2f2b78186c984a718132980f0def27c9",
            "7d85ac4715ac4a2c9287706b5d8f9628",
            "61a66b3918504b55a62d39a0daa2e236",
            "1c8e7461836844fc9c6e9410b330d1f0",
            "415e9a4181fb4305bc45d71110620dd7",
            "7327f465afaf4191abf35ecc90afe6b5",
            "008a5d9844364f118189f2825c0a9048",
            "a7ad6570190f491ea89d55eda252cd94",
            "4397901c7f7d4c939f4b9c3557c673e9",
            "604504d0ef134e00b1c0c94d511339a5",
            "078c9e29b7ad43629552042ec974cb0b",
            "b9c551e3308e453981af390332748f59",
            "fa4efe1657fa40f3a747c02716aa3db4",
            "73fe94300f4c4df48fd089d12bd9b332",
            "bd849fd653d64b2a805c1e92d8dd3e34",
            "79be0aa1895a4bb5ae129bb756d0d886",
            "57c326fd88cc41dea5579f4ec6c9ff2f",
            "1be4104d88174ea4b12e3bda333099a7",
            "e6e8e6daa8c740c8b6d90c02c9b9a6df",
            "cadcc67c9d9b4e178127312f7f926ec3",
            "375be59790294bde95101829cdc1611c",
            "0c42640936ce4bb988d6d077cadc2fbb"
          ]
        },
        "id": "hVfUey0kjgFG",
        "outputId": "9c191271-3ba1-46fa-ab1a-8b566ea29f99"
      },
      "execution_count": null,
      "outputs": [
        {
          "output_type": "display_data",
          "data": {
            "text/plain": [
              "Downloading (…)okenizer_config.json:   0%|          | 0.00/2.54k [00:00<?, ?B/s]"
            ],
            "application/vnd.jupyter.widget-view+json": {
              "version_major": 2,
              "version_minor": 0,
              "model_id": "d287d0f36f444445afe057d0e18c289a"
            }
          },
          "metadata": {}
        },
        {
          "output_type": "display_data",
          "data": {
            "text/plain": [
              "Downloading (…)\"spiece.model\";:   0%|          | 0.00/792k [00:00<?, ?B/s]"
            ],
            "application/vnd.jupyter.widget-view+json": {
              "version_major": 2,
              "version_minor": 0,
              "model_id": "0069f2ec840f445fabafebadd391a5ff"
            }
          },
          "metadata": {}
        },
        {
          "output_type": "display_data",
          "data": {
            "text/plain": [
              "Downloading (…)/main/tokenizer.json:   0%|          | 0.00/2.42M [00:00<?, ?B/s]"
            ],
            "application/vnd.jupyter.widget-view+json": {
              "version_major": 2,
              "version_minor": 0,
              "model_id": "d5970b9767e54edc90ec4f34fb1661f4"
            }
          },
          "metadata": {}
        },
        {
          "output_type": "display_data",
          "data": {
            "text/plain": [
              "Downloading (…)cial_tokens_map.json:   0%|          | 0.00/2.20k [00:00<?, ?B/s]"
            ],
            "application/vnd.jupyter.widget-view+json": {
              "version_major": 2,
              "version_minor": 0,
              "model_id": "bcd0768c9d4d4bacbfb661b58e313858"
            }
          },
          "metadata": {}
        },
        {
          "output_type": "display_data",
          "data": {
            "text/plain": [
              "Downloading (…)lve/main/config.json:   0%|          | 0.00/1.40k [00:00<?, ?B/s]"
            ],
            "application/vnd.jupyter.widget-view+json": {
              "version_major": 2,
              "version_minor": 0,
              "model_id": "2f2b78186c984a718132980f0def27c9"
            }
          },
          "metadata": {}
        },
        {
          "output_type": "display_data",
          "data": {
            "text/plain": [
              "Downloading (…)\"pytorch_model.bin\";:   0%|          | 0.00/990M [00:00<?, ?B/s]"
            ],
            "application/vnd.jupyter.widget-view+json": {
              "version_major": 2,
              "version_minor": 0,
              "model_id": "b9c551e3308e453981af390332748f59"
            }
          },
          "metadata": {}
        }
      ]
    },
    {
      "cell_type": "code",
      "source": [
        "prompt_lenght = len(tokenizer(prompt.format(input=\"\"))[\"input_ids\"])\n",
        "max_sample_length = tokenizer.model_max_length - prompt_lenght\n",
        "print(f\"Prompt length: {prompt_lenght}\")\n",
        "print(f\"Max input length: {max_sample_length}\")"
      ],
      "metadata": {
        "colab": {
          "base_uri": "https://localhost:8080/"
        },
        "id": "cgd95K1Smif8",
        "outputId": "cafff7ec-d02b-4735-f161-b59326db6ffc"
      },
      "execution_count": null,
      "outputs": [
        {
          "output_type": "stream",
          "name": "stdout",
          "text": [
            "Prompt length: 4140\n",
            "Max input length: -3628\n"
          ]
        }
      ]
    },
    {
      "cell_type": "code",
      "source": [
        "tokenizer.model_max_length"
      ],
      "metadata": {
        "colab": {
          "base_uri": "https://localhost:8080/"
        },
        "id": "Zkxd30Qqm28m",
        "outputId": "2d2be4fb-7bc4-4e53-add7-87b019dc944b"
      },
      "execution_count": null,
      "outputs": [
        {
          "output_type": "execute_result",
          "data": {
            "text/plain": [
              "512"
            ]
          },
          "metadata": {},
          "execution_count": 93
        }
      ]
    },
    {
      "cell_type": "code",
      "source": [
        "#generate prompt\n",
        "prompt = f\"Text Summarization : {processed_text}\"\n",
        "input_ids = tokenizer(prompt, return_tensors=\"pt\").input_ids\n",
        "max_source_length = max([len(x) for x in input_ids])\n",
        "print(f\"Max source length: {max_source_length}\")\n",
        "\n",
        "max_source_length = max([len(x) for x in input_ids])\n",
        "max_source_length = min(max_source_length, max_sample_length)\n",
        "print(f\"Max source length: {max_source_length}\")\n"
      ],
      "metadata": {
        "colab": {
          "base_uri": "https://localhost:8080/"
        },
        "id": "6SoA7pdqj1fE",
        "outputId": "6b0c4dbc-45fd-4069-97c3-601d17ae6391"
      },
      "execution_count": null,
      "outputs": [
        {
          "output_type": "stream",
          "name": "stdout",
          "text": [
            "Max source length: 4140\n",
            "Max source length: -3628\n"
          ]
        }
      ]
    },
    {
      "cell_type": "code",
      "source": [
        "outputs = model.generate(input_ids,max_length=400)\n",
        "#\n",
        "sum = tokenizer.decode(outputs[0],skip_special_tokens=True)\n",
        "sum"
      ],
      "metadata": {
        "colab": {
          "base_uri": "https://localhost:8080/",
          "height": 140
        },
        "id": "qUtT9Wz5l2C_",
        "outputId": "fbac3cb0-4bec-4a0e-be2a-237a268fc5d2"
      },
      "execution_count": null,
      "outputs": [
        {
          "output_type": "execute_result",
          "data": {
            "text/plain": [
              "'Understand the pathophysiology of glaucoma. Understand the causes of glaucoma. Understand the causes of glaucoma. Understand the causes of glaucoma. Understand the causes of glaucoma. Understand the causes of glaucoma. Understand the causes of glaucoma. Understand the causes of glaucoma. Understand the causes of glaucoma. Understand the causes of glaucoma. Understand the causes of glaucoma. Understand the causes of glaucoma. Understand the causes of glaucoma. Understand the causes of glaucoma. Understand the causes of glaucoma. Understand the causes of glaucoma. Understand the causes of glaucoma. Understand the causes of glaucoma. Understand the causes of glaucoma. Understand the causes of glaucoma. Understand the causes of glaucoma. Understand the causes of glaucoma. Understand the causes of glaucoma. Understand the causes of glaucoma. Understand the causes of glaucoma. Understand the causes of glaucoma. Understand the causes of glaucoma. Understand the causes of glaucoma. Understand the causes of glaucoma. Understand the causes of glaucoma. Understand the causes of glaucoma. Understand the causes of glaucoma. Understand the causes of glaucoma. Understand the causes of glaucoma. Understand the causes of glaucoma. Understand the causes of glaucoma. Understand the causes of glaucoma. Understand the causes of glaucoma. Understand the causes of glaucoma. Understand the causes of gla'"
            ],
            "application/vnd.google.colaboratory.intrinsic+json": {
              "type": "string"
            }
          },
          "metadata": {},
          "execution_count": 94
        }
      ]
    },
    {
      "cell_type": "markdown",
      "source": [
        "## Automatic Tet summarizer"
      ],
      "metadata": {
        "id": "WslWoygXv7UD"
      }
    },
    {
      "cell_type": "code",
      "source": [
        "! pip install sumy"
      ],
      "metadata": {
        "colab": {
          "base_uri": "https://localhost:8080/"
        },
        "id": "QlpUccgfo4DH",
        "outputId": "65699048-6d70-4efc-b8f9-07c084bceb08"
      },
      "execution_count": null,
      "outputs": [
        {
          "output_type": "stream",
          "name": "stdout",
          "text": [
            "Looking in indexes: https://pypi.org/simple, https://us-python.pkg.dev/colab-wheels/public/simple/\n",
            "Collecting sumy\n",
            "  Downloading sumy-0.11.0-py2.py3-none-any.whl (97 kB)\n",
            "\u001b[2K     \u001b[90m━━━━━━━━━━━━━━━━━━━━━━━━━━━━━━━━━━━━━━━━\u001b[0m \u001b[32m97.3/97.3 KB\u001b[0m \u001b[31m10.0 MB/s\u001b[0m eta \u001b[36m0:00:00\u001b[0m\n",
            "\u001b[?25hRequirement already satisfied: nltk>=3.0.2 in /usr/local/lib/python3.8/dist-packages (from sumy) (3.7)\n",
            "Collecting breadability>=0.1.20\n",
            "  Downloading breadability-0.1.20.tar.gz (32 kB)\n",
            "  Preparing metadata (setup.py) ... \u001b[?25l\u001b[?25hdone\n",
            "Requirement already satisfied: requests>=2.7.0 in /usr/local/lib/python3.8/dist-packages (from sumy) (2.28.2)\n",
            "Requirement already satisfied: docopt<0.7,>=0.6.1 in /usr/local/lib/python3.8/dist-packages (from sumy) (0.6.2)\n",
            "Collecting pycountry>=18.2.23\n",
            "  Downloading pycountry-22.3.5.tar.gz (10.1 MB)\n",
            "\u001b[2K     \u001b[90m━━━━━━━━━━━━━━━━━━━━━━━━━━━━━━━━━━━━━━━━\u001b[0m \u001b[32m10.1/10.1 MB\u001b[0m \u001b[31m95.2 MB/s\u001b[0m eta \u001b[36m0:00:00\u001b[0m\n",
            "\u001b[?25h  Installing build dependencies ... \u001b[?25l\u001b[?25hdone\n",
            "  Getting requirements to build wheel ... \u001b[?25l\u001b[?25hdone\n",
            "  Preparing metadata (pyproject.toml) ... \u001b[?25l\u001b[?25hdone\n",
            "Requirement already satisfied: chardet in /usr/local/lib/python3.8/dist-packages (from breadability>=0.1.20->sumy) (4.0.0)\n",
            "Requirement already satisfied: lxml>=2.0 in /usr/local/lib/python3.8/dist-packages (from breadability>=0.1.20->sumy) (4.9.2)\n",
            "Requirement already satisfied: regex>=2021.8.3 in /usr/local/lib/python3.8/dist-packages (from nltk>=3.0.2->sumy) (2022.6.2)\n",
            "Requirement already satisfied: joblib in /usr/local/lib/python3.8/dist-packages (from nltk>=3.0.2->sumy) (1.2.0)\n",
            "Requirement already satisfied: tqdm in /usr/local/lib/python3.8/dist-packages (from nltk>=3.0.2->sumy) (4.64.1)\n",
            "Requirement already satisfied: click in /usr/local/lib/python3.8/dist-packages (from nltk>=3.0.2->sumy) (7.1.2)\n",
            "Requirement already satisfied: setuptools in /usr/local/lib/python3.8/dist-packages (from pycountry>=18.2.23->sumy) (57.4.0)\n",
            "Requirement already satisfied: charset-normalizer<4,>=2 in /usr/local/lib/python3.8/dist-packages (from requests>=2.7.0->sumy) (2.1.1)\n",
            "Requirement already satisfied: idna<4,>=2.5 in /usr/local/lib/python3.8/dist-packages (from requests>=2.7.0->sumy) (2.10)\n",
            "Requirement already satisfied: certifi>=2017.4.17 in /usr/local/lib/python3.8/dist-packages (from requests>=2.7.0->sumy) (2022.12.7)\n",
            "Requirement already satisfied: urllib3<1.27,>=1.21.1 in /usr/local/lib/python3.8/dist-packages (from requests>=2.7.0->sumy) (1.26.14)\n",
            "Building wheels for collected packages: breadability, pycountry\n",
            "  Building wheel for breadability (setup.py) ... \u001b[?25l\u001b[?25hdone\n",
            "  Created wheel for breadability: filename=breadability-0.1.20-py2.py3-none-any.whl size=21714 sha256=d3a9c43f5eda5390a23529a7abd18e611a26dcbbde22bbfd16991f5e4a9aca42\n",
            "  Stored in directory: /root/.cache/pip/wheels/5f/0d/0c/2062d8c1758b4b1a2e42b4a63e6660d9ec2ba9463cfee9eeab\n",
            "  Building wheel for pycountry (pyproject.toml) ... \u001b[?25l\u001b[?25hdone\n",
            "  Created wheel for pycountry: filename=pycountry-22.3.5-py2.py3-none-any.whl size=10681845 sha256=210ee5f29fb1217d411531d726d400bde8779b71d6f9eff90da4c2e444dd737b\n",
            "  Stored in directory: /root/.cache/pip/wheels/e2/aa/0f/c224e473b464387170b83ca7c66947b4a7e33e8d903a679748\n",
            "Successfully built breadability pycountry\n",
            "Installing collected packages: pycountry, breadability, sumy\n",
            "Successfully installed breadability-0.1.20 pycountry-22.3.5 sumy-0.11.0\n"
          ]
        }
      ]
    },
    {
      "cell_type": "code",
      "source": [
        "from sumy.parsers.plaintext import PlaintextParser\n",
        "from sumy.nlp.tokenizers import Tokenizer\n",
        "from sumy.summarizers.lsa import LsaSummarizer as Summarizer\n",
        "from sumy.nlp.stemmers import Stemmer\n",
        "from sumy.utils import get_stop_words"
      ],
      "metadata": {
        "id": "wOIGBFYkpNzF"
      },
      "execution_count": null,
      "outputs": []
    },
    {
      "cell_type": "markdown",
      "source": [],
      "metadata": {
        "id": "tDjdBJ6kyhCh"
      }
    },
    {
      "cell_type": "code",
      "source": [
        "import nltk\n",
        "nltk.download('punkt')"
      ],
      "metadata": {
        "colab": {
          "base_uri": "https://localhost:8080/"
        },
        "id": "foKNcuRArz5j",
        "outputId": "cb51c724-c623-431b-afa8-f2d658d86423"
      },
      "execution_count": null,
      "outputs": [
        {
          "output_type": "stream",
          "name": "stderr",
          "text": [
            "[nltk_data] Downloading package punkt to /root/nltk_data...\n",
            "[nltk_data]   Package punkt is already up-to-date!\n"
          ]
        },
        {
          "output_type": "execute_result",
          "data": {
            "text/plain": [
              "True"
            ]
          },
          "metadata": {},
          "execution_count": 113
        }
      ]
    },
    {
      "cell_type": "code",
      "source": [
        "methods = [\"LSA\", \"luhn\", \"edmundson\", \"text-rank\", \"lex-rank\", \"random\", \"reduction\", \"kl-sum\"]\n",
        "\n",
        "supported_languages = [\"english\", \"french\", \"arabic\", \"chinese\", \"czech\", \"german\", \"italian\", \"hebrew\", \n",
        "                        \"japanese\", \"portuguese\", \"slovak\", \"spanish\", \"ukrainian\", \"greek\"]"
      ],
      "metadata": {
        "id": "Jl5-MXQVsLL2"
      },
      "execution_count": null,
      "outputs": []
    },
    {
      "cell_type": "code",
      "source": [
        "parser = PlaintextParser.from_string(processed_text, Tokenizer(\"english\"))"
      ],
      "metadata": {
        "id": "WfHOYiJrpHFn"
      },
      "execution_count": null,
      "outputs": []
    },
    {
      "cell_type": "code",
      "source": [
        "\n",
        "\n",
        "LANGUAGE = \"english\"\n",
        "SENTENCES_COUNT = 105\n",
        "stemmer = Stemmer(LANGUAGE)\n",
        "\n",
        "summarizer = Summarizer(stemmer)\n",
        "summarizer.stop_words = get_stop_words(LANGUAGE)\n",
        "\n",
        "sum = []\n",
        "for sentence in summarizer(parser.document, SENTENCES_COUNT):\n",
        "        print(sentence)\n",
        "       "
      ],
      "metadata": {
        "colab": {
          "base_uri": "https://localhost:8080/"
        },
        "id": "OEKfliGkpchd",
        "outputId": "f249803e-ca99-47d4-e881-313a7b65c254"
      },
      "execution_count": null,
      "outputs": [
        {
          "output_type": "stream",
          "name": "stdout",
          "text": [
            "Glaucoma is a mixed group of eye disorders sharing common  features which typically includes optic disc cupping and visual  field loss, thereby more accurately defined as an optic neuropathy.Optic nerve damage results in progressive retinal ganglionic  cell loss and irreversible blindness, if not treated.Traditionally,  glaucoma has been characterized by the existence of raised  intraocular pressure (IOP), however nerve damage may occur in the  presence of values within the statistically normal range between   8–21 mmHg.Glaucomatous disc and field changes in the absence  of elevated pressure constitutes normal or low tension glaucoma  (LTG).Similarly, conditions exceeding the upper limit of 21 mmHg  may not be associated with signs of visual field loss or optic disc  damage and comprises ocular hypertension.In addition to optic  neuropathy, the two main types of glaucoma (open angle and  closed angle) are described on the appearance of the drainage  system within the eye, including associated increase in the IOP  (Figure 1).Glaucoma is one of the leading causes of blindness worldwide.The main characteristic features include optic disc cupping, visual field  loss, and in most instances a raised intraocular pressure.Primary open angle glaucoma accounts for nearly two thirds of all cases, while  angle closure glaucoma contributes the majority of the remainder.Screening for glaucoma is not cost-effective, and diagnosis of the  primary open angle type is usually an incidental finding during ophthalmological examination.Various treatment options, including  medical and surgical interventions are accessible in the management of glaucoma.This article contains a brief description on the  pathophysiology and focuses on the pharmacological options available in the treatment of glaucoma.Keywords:  Glaucoma, prostaglandin analogs, carbonic anhydrase inhibitors, beta antagonists, alpha 2 adrenergic agonists, cholinergic  agonists Both types can be further divided into primary versus secondary,  and congenital versus acquired.Glaucoma has a global prevalence  of 3.54% in those aged between 40 and 80 years, and is the  second leading cause of irreversible blindness, only superseded  by cataracts.Open angle glaucoma is the highest in Africa (4.2%),  while closed angle glaucoma is more prevalent in Asia (1.09%).Aqueous humour (a transparent, low protein containing fluid) is  continuously secreted by the ciliary epithelium providing structural  support to the lens.This watery fluid is present in both the anterior  and posterior chambers of the eye and drains through a sieve-like  trabecular meshwork located in the angle between the cornea  and the iris.Final drainage out of the eye occurs via the canal of  Schlemm  into the episcleral vein or intrascleral venous plexus  terminating in the ocular veins.In open angle glaucoma, the trabecular meshwork undergoes  morphological changes over time, resulting in progressive  impairment of drainage although it remains anatomically open.\n",
            "(Figure 1) Open angle glaucoma most often affects both eyes,  but asymmetric involvement is not uncommon.Primary open  angle glaucoma (POAG) is the most common type and accounts  for 74% of all glaucoma cases.It is estimated that 57.5 million  people (3.05%) worldwide suffer from POAG.Prevalence among  Black populations is the highest, with 2.1% at age 40 and 12.2% at  age 80 being reported.The incidence in Asian populations (0.8%  at age 40 and 4.3% at age 80), and Caucasians (0.4% at 40 years  and 5.3% at 80 years) suggests an ethno-genetic disease pattern.Although the exact cause of POAG remains unknown, more than  fifty risk factors and secondary causes have been identified.Some of these include diabetes mellitus, migraine headache,  cardiovascular disease, asthma or COPD (inhaled anticholinergics  and glucocorticosteroids), myopia, advanced age and a family  history of first-degree relatives with the same condition.Disease  progression leads to the formation of scar tissue between the iris  and trabecular meshwork and will ultimately result in closing off  the anterior chamber.The consequent rise in IOP is transmitted to  the optic disc and is eventually responsible for atrophy and nerve  fiber damage.Owing to the slow progression of the disease, POAG  remains asymptomatic until central vision is affected.It does not  present with headache, eye pain or loss of visual acuity.Diagnosis  is usually incidental during routine funduscopic or optometry  examinations.A cup : disc ratio of 0.6 (glaucomatous cupping), and  central corneal thickness in the presence of risk factors is suggestive  of glaucoma, and requires ophthalmological referral (Figure 2).The progression from POAG to Chronic Angle-Closure Glaucoma  (CACG), requires lifelong treatment.Official general population screening policies do not exist and are  not cost-effective.Measuring IOP has a sensitivity of only 47.1%,  implying that nearly half of patients with POAG will have IOP below  22 mmHg.However, patients with risk factors are encouraged to  undergo annual ophthalmological examinations and additional  IOP measurements.With closed angle glaucoma, a primary hypermetropic anatomical  defect (such as weakened ciliary muscles, naturally small eyes,  narrow angle or thick lens) in the absence of an identifiable  secondary cause, results in the pupil compressing the drainage  canal between the iris and cornea.Compression and narrowing of  the canal reduces or obstructs the outflow of aqueous humour in  passing through the pupil, therefore accumulating in the anterior  chamber (Figure 1).Primary angle closure glaucoma (PACG) is  less common than POAG and accounts for approximately a third  of all cases, with a global incidence of 0.5%.Symptoms of closed  angle glaucoma depend on the degree of angle closure and in  some instances may resolve spontaneously; in which case it may  become chronic.In established disease, vision loss is severe and  permanent.Secondary causes of angle-closure glaucoma include  masses or hemorrhage in the posterior segment of the eyeball or  the presence of a fibrovascular membrane (neovascular glaucoma)  over the anterior chamber angle.Risk factors for angle closure  glaucoma include older age (> 60 years), female gender, Asian  ethnicity, hyperopia and a positive family history.Attacks occur  more frequently at night when diminished light cause mydriasis and  narrowing of the angle.Unexpected closure (acute angle closure  glaucoma, AACG) of the anterior chamber angle due to pupillary  block may result in a sudden rise in IOP.It constitutes a medical  emergency, since permanent blindness and irreversible damage  to the optic nerve may occur.Acute attacks are characterized  by intermittent symptoms such as severe eye pain, nausea and  vomiting, loss of vision, halos around lights, unilateral red tearing  eye, oval shaped non-reactive pupil, a cloudy cornea and the loss  of red reflex (Figure 3).In addition, it is estimated that prescribed, or over-the-counter  pharmacological agents are responsible for at least 30% of acute  angle closure glaucoma.These include antihistamines, cholinergic-  and anticholinergic agents, adrenergic agents, antidepressants,  sulphonamides, anticoagulants and glucocorticosteroids.Table 1  below summarises the mechanism responsible for causing AACG.The goal in treating POAG is to establish and maintain the intra- ocular pressure at a range where visual field loss will have the  least negative impact on the patient’s perceived visual disability.“Various studies have shown that visual field loss in glaucoma has  been  associated with a significant decrease in a person’s vision- related quality of life.This is evident in activities requiring optimal  vision, such as dark adaptation, avoiding unintentional bumping  into objects and outdoor mobility.Determining the target  intraocular pressure needs to be individualised for each patient,  since the measured pressure at diagnosis could be within the normal  range of 8 to 21 mmHg in 30–50% of patients.Aiming for pressures  within these ranges will contribute towards optic nerve damage  and further progression.It is generally accepted that patients with  early disease benefit from a reduction of at least 20% in the baseline  value.A reduction of 30% is recommended in individuals with  more advanced features of POAG.Target IOP should continuously  be re-calculated during monitoring and follow-up assessment  of visual fields and disc and nerve fiber examinations.Reducing  the IOP, however, does not guarantee that progression will not  transpire.The choice of therapy depends on the relative risks and  benefits of available modalities, which include pharmacological  treatment, laser therapy or incisional surgery.Factors such as cost,  dosing, patient’s age, the presence of comorbidities (asthma or  COPD), pregnancy, adherence to treatment and the degree of optic  disc damage should be considered in choosing an appropriate  treatment regimen.In treating AACG, the primary goal is to make the correct diagnosis to  prevent permanent loss of vision.This is achieved by rapid lowering  of the IOP and reversal of the angle closure.Empiric treatment with  topical and systemic aqueous humour suppressants (β blockers  and acetazolamide) reduces the IOP, followed by pilocarpine to  reverse the pupil block.In the absence of available trials comparing  medical options for treatment of AACG, the initial management  usually consists of administering one drop of 0.5% timolol,   1% apraclonidine and 2% pilocarpine one minute apart.This is  followed by intravenous acetazolamide or mannitol.Eye pressure  should be checked every hour until specialist ophthalmological  care can be provided.Pharmacological management is the most common initial  intervention in lowering the IOP, although laser trabeculoplasty  and surgery are frequently used to slow the disease progression.Surgical treatment has no advantage over pharmacological  management in visual field protection, however surgical  interventions attain target IOP in 46% of cases compared to 35% in  those being treated medically.Several agents are available and the primary choice of drug depends  on the degree of pressure lowering which needs to be achieved.It  is recommended to initiate treatment on one type of medication.If an inadequate response in lowering the IOP is observed, the  dose may be adjusted, or a second agent may be added.If the  first agent fails to demonstrate any measureable clinical response,  it should be removed from the regimen and be replaced with an  alternative drug.Pharmacological agents used to lower the IOP  include prostaglandin analogs, carbonic anhydrase inhibitors,  α  adrenergic agonists, cholinergic agonists, β blockers and  hyperosmotic agents.Adequate treatment of glaucoma requires  a high level of adherence.It is estimated that 45% of patients will  default on chronic treatment, if they are not appropriately followed  up and counselled regarding dosage instructions and possible side  effects.Table 2 below summarises the currently available drugs in  South Africa used to lower intraocular pressure.Latanoprost, travoprost and bimatoprost are prostaglandin   F agonists, which increases the uveoscleral outflow of aqueous  humour.It is considered the most potent group of topical ocular  hypotensive agents currently available and may lower baseline IOP  by 25–35%.There are few associated systemic side effects and  mostly relates to headaches.In addition, latanoprost may cause  joint/muscle pain and flu-like symptoms.Local adverse effects  include blurred vision, conjunctival hyperaemia, eye discomfort,  permanent iridial pigmentation, macular edema and thickening of  the eyelashes.Acetazolamide, dorzolamide and brinzolamide are sulphonamide  derivatives  which  reduces  aqueous  humour  production  independent to its diuretic mode of action.Acetazolamide is  administered systemically in the form of oral tablets or intravenous  infusion, and additionally reduces the rate of aqueous inflow up to  50%.Its usefulness is limited to the management of acute closed  angle glaucoma due to unfavourable systemic side effects which  may include paresthesia, nausea, diarrhoea, loss of appetite and  dose related systemic acidosis.Topical application of dorzolamide  and brinzolamide demonstrates an improvement in ocular blood  flow and long-term preservation of visual field.An average reduction  of  15–20% in baseline IOP can be expected.Side effects include  ocular irritation, dry eyes, blurred vision, eyelid inflammation and a  bitter taste.Brimonidine is a selective α2 receptor agonist.It initially reduces  aqueous humour production followed by a subsequent increase  in the uveoscleral outflow, therefore proving to be useful in  preventing a rise in IOP prior to anterior segment laser surgery.Brimonidine reduces baseline IOP with approximately 20%.Apraclonidine reduces the formation of aqueous humour but has  no effect on the facilitation of outflow.It has affinity for both α1  and α2 adreno-receptors and are used to prevent postsurgical  elevation of IOP after anterior segment laser therapy.Apraclonidine  reduces baseline IOP by 30% and is additionally used as adjuvant  therapy in resistant cases of glaucoma.Systemic side effects of the  alpha agonists are related to the central nervous system (headache,  fatigue, insomnia, depression) and respiratory system.Caution  should be taken in patients with cerebral or coronary insufficiency,  postural hypotension and renal or hepatic failure.Hypersensitivity  reactions, ocular irritation, eyelid edema, foreign body sensation  and dry eyes are common with topical use.Pilocarpine is the only available cholinergic agent in the  management of acute closed-angle glaucoma registered in South  Africa.Administration results in the increase in aqueous humour  outflow by contraction of the ciliary muscle and constriction of the  pupil.Poorly tolerated side effects, such as ciliary muscle spasm,  myopia and decreased vision limits its usefulness.Although prostaglandin receptor agonists are the most potent  agents in reducing the IOP, beta blockers are regarded as the first  choice in treating open angle glaucoma.Individual agents differ in  their ability to lower IOP, with betaxolol achieving a 15% decrease,  compared to 20–25% with timolol and levobunolol respectively.Betaxolol is, however, more cardioselective (β1) and therefore has  fewer pulmonary side effects compared to timolol and levobunolol  (which are non-selective antagonists on β1 and β2 receptors).The  mechanism involves a reduction of aqueous humour production  and does not cause miosis or accommodation disturbances  compared to cholinergic agents.The most common adverse effects  are ocular irritation and dry eyes.All the β blockers (including the  cardioselective agents) are contraindicated in patients with asthma,  COPD and bradycardia, unless alternative treatment is unavailable.Several combination agents are available in the treatment of  glaucoma.Most of these combinations include timolol, since  β blockers are still considered first line therapy in open-angle  glaucoma and ocular hypertension.Fixed-dose combination  therapy is more efficacious than its individual components, but still  less efficacious than its respective unfixed combinations.It provides  for simplified treatment regimes and enhances compliance.Fixed  dose combinations containing prostaglandins have a lower risk  in causing hyperemia.Combination of timolol with dorzolamide  is superior in visual field preservation compared to timolol and  brinzolamide.Combination preparations with brimonidine  have less visual disturbances, taste alterations and ocular allergic  reactions compared to the single ingredient product.With the recent attention cannabis has been receiving in the  management of pain and other cancer related conditions, it  is important to remember the favourable effect of its active  ingredient, Δ -tetrahydrocannabinol (THC), in reducing ocular  blood flow.Studies from the 1970s have reported a 30% reduction  in the IOP by inhalation or intravenous administration of THC.The  use is, however, limited owing to the cardiovascular (increased heart  rate and decreased blood pressure) and neurological (tolerance  and addiction) side effects.Topical application does not produce  a significant clinical effect.The use of synthetic cannabinoids may  provide a basis for potential future treatment strategies.General practitioners and family physicians play an important  role in the diagnosis and appropriate referral of patients with  suspected glaucoma.Fundoscopic examinations are quick and  easy to perform and are an opportunity that present at each  consultation.The early recognition of symptoms may improve  outcomes and delay progression.Taking a good medical history  and applying the principles of rational drug use may identify  potential pharmacological causes for glaucoma.Practitioners  prescribing any of the drugs known to cause acute angle glaucoma  should be vigilant in patients presenting with characteristic signs  or symptoms, and immediately refer them to an ophthalmologist.Patients need to be counselled on the associated adverse effects  from glaucoma medication in order to improve adherence.\n"
          ]
        }
      ]
    },
    {
      "cell_type": "code",
      "source": [
        "processed_text"
      ],
      "metadata": {
        "colab": {
          "base_uri": "https://localhost:8080/",
          "height": 140
        },
        "id": "ZIJok4Arp0-h",
        "outputId": "1c40c59f-5e70-4a8f-b41d-f67f375d6f01"
      },
      "execution_count": null,
      "outputs": [
        {
          "output_type": "execute_result",
          "data": {
            "text/plain": [
              "'Glaucoma is a mixed group of eye disorders sharing common  features which typically includes optic disc cupping and visual  field loss, thereby more accurately defined as an optic neuropathy.Optic nerve damage results in progressive retinal ganglionic  cell loss and irreversible blindness, if not treated.Traditionally,  glaucoma has been characterized by the existence of raised  intraocular pressure (IOP), however nerve damage may occur in the  presence of values within the statistically normal range between   8–21 mmHg.Glaucomatous disc and field changes in the absence  of elevated pressure constitutes normal or low tension glaucoma  (LTG).Similarly, conditions exceeding the upper limit of 21 mmHg  may not be associated with signs of visual field loss or optic disc  damage and comprises ocular hypertension.In addition to optic  neuropathy, the two main types of glaucoma (open angle and  closed angle) are described on the appearance of the drainage  system within the eye, including associated increase in the IOP  (Figure 1).Glaucoma is one of the leading causes of blindness worldwide.The main characteristic features include optic disc cupping, visual field  loss, and in most instances a raised intraocular pressure.Primary open angle glaucoma accounts for nearly two thirds of all cases, while  angle closure glaucoma contributes the majority of the remainder.Screening for glaucoma is not cost-effective, and diagnosis of the  primary open angle type is usually an incidental finding during ophthalmological examination.Various treatment options, including  medical and surgical interventions are accessible in the management of glaucoma.This article contains a brief description on the  pathophysiology and focuses on the pharmacological options available in the treatment of glaucoma.Keywords:  Glaucoma, prostaglandin analogs, carbonic anhydrase inhibitors, beta antagonists, alpha 2 adrenergic agonists, cholinergic  agonists Both types can be further divided into primary versus secondary,  and congenital versus acquired.Glaucoma has a global prevalence  of 3.54% in those aged between 40 and 80 years, and is the  second leading cause of irreversible blindness, only superseded  by cataracts.Open angle glaucoma is the highest in Africa (4.2%),  while closed angle glaucoma is more prevalent in Asia (1.09%).Aqueous humour (a transparent, low protein containing fluid) is  continuously secreted by the ciliary epithelium providing structural  support to the lens.This watery fluid is present in both the anterior  and posterior chambers of the eye and drains through a sieve-like  trabecular meshwork located in the angle between the cornea  and the iris.Final drainage out of the eye occurs via the canal of  Schlemm  into the episcleral vein or intrascleral venous plexus  terminating in the ocular veins.In open angle glaucoma, the trabecular meshwork undergoes  morphological changes over time, resulting in progressive  impairment of drainage although it remains anatomically open.(Figure 1) Open angle glaucoma most often affects both eyes,  but asymmetric involvement is not uncommon.Primary open  angle glaucoma (POAG) is the most common type and accounts  for 74% of all glaucoma cases.It is estimated that 57.5 million  people (3.05%) worldwide suffer from POAG.Prevalence among  Black populations is the highest, with 2.1% at age 40 and 12.2% at  age 80 being reported.The incidence in Asian populations (0.8%  at age 40 and 4.3% at age 80), and Caucasians (0.4% at 40 years  and 5.3% at 80 years) suggests an ethno-genetic disease pattern.Although the exact cause of POAG remains unknown, more than  fifty risk factors and secondary causes have been identified.Some of these include diabetes mellitus, migraine headache,  cardiovascular disease, asthma or COPD (inhaled anticholinergics  and glucocorticosteroids), myopia, advanced age and a family  history of first-degree relatives with the same condition.Disease  progression leads to the formation of scar tissue between the iris  and trabecular meshwork and will ultimately result in closing off  the anterior chamber.The consequent rise in IOP is transmitted to  the optic disc and is eventually responsible for atrophy and nerve  fiber damage.Owing to the slow progression of the disease, POAG  remains asymptomatic until central vision is affected.It does not  present with headache, eye pain or loss of visual acuity.Diagnosis  is usually incidental during routine funduscopic or optometry  examinations.A cup : disc ratio of 0.6 (glaucomatous cupping), and  central corneal thickness in the presence of risk factors is suggestive  of glaucoma, and requires ophthalmological referral (Figure 2).The progression from POAG to Chronic Angle-Closure Glaucoma  (CACG), requires lifelong treatment.Official general population screening policies do not exist and are  not cost-effective.Measuring IOP has a sensitivity of only 47.1%,  implying that nearly half of patients with POAG will have IOP below  22 mmHg.However, patients with risk factors are encouraged to  undergo annual ophthalmological examinations and additional  IOP measurements.With closed angle glaucoma, a primary hypermetropic anatomical  defect (such as weakened ciliary muscles, naturally small eyes,  narrow angle or thick lens) in the absence of an identifiable  secondary cause, results in the pupil compressing the drainage  canal between the iris and cornea.Compression and narrowing of  the canal reduces or obstructs the outflow of aqueous humour in  passing through the pupil, therefore accumulating in the anterior  chamber (Figure 1).Primary angle closure glaucoma (PACG) is  less common than POAG and accounts for approximately a third  of all cases, with a global incidence of 0.5%.Symptoms of closed  angle glaucoma depend on the degree of angle closure and in  some instances may resolve spontaneously; in which case it may  become chronic.In established disease, vision loss is severe and  permanent.Secondary causes of angle-closure glaucoma include  masses or hemorrhage in the posterior segment of the eyeball or  the presence of a fibrovascular membrane (neovascular glaucoma)  over the anterior chamber angle.Risk factors for angle closure  glaucoma include older age (> 60 years), female gender, Asian  ethnicity, hyperopia and a positive family history.Attacks occur  more frequently at night when diminished light cause mydriasis and  narrowing of the angle.Unexpected closure (acute angle closure  glaucoma, AACG) of the anterior chamber angle due to pupillary  block may result in a sudden rise in IOP.It constitutes a medical  emergency, since permanent blindness and irreversible damage  to the optic nerve may occur.Acute attacks are characterized  by intermittent symptoms such as severe eye pain, nausea and  vomiting, loss of vision, halos around lights, unilateral red tearing  eye, oval shaped non-reactive pupil, a cloudy cornea and the loss  of red reflex (Figure 3).In addition, it is estimated that prescribed, or over-the-counter  pharmacological agents are responsible for at least 30% of acute  angle closure glaucoma.These include antihistamines, cholinergic-  and anticholinergic agents, adrenergic agents, antidepressants,  sulphonamides, anticoagulants and glucocorticosteroids.Table 1  below summarises the mechanism responsible for causing AACG.The goal in treating POAG is to establish and maintain the intra- ocular pressure at a range where visual field loss will have the  least negative impact on the patient’s perceived visual disability.“Various studies have shown that visual field loss in glaucoma has  been\\xa0 associated with a significant decrease in a person’s vision- related quality of life.This is\\xa0evident in activities\\xa0requiring optimal  vision, such as dark adaptation, avoiding unintentional bumping  into objects and outdoor mobility.Determining the target  intraocular pressure needs to be individualised for each patient,  since the measured pressure at diagnosis could be within the normal  range of 8 to 21 mmHg in 30–50% of patients.Aiming for pressures  within these ranges will contribute towards optic nerve damage  and further progression.It is generally accepted that patients with  early disease benefit from a reduction of at least 20% in the baseline  value.A reduction of 30% is recommended in individuals with  more advanced features of POAG.Target IOP should continuously  be re-calculated during monitoring and follow-up assessment  of visual fields and disc and nerve fiber examinations.Reducing  the IOP, however, does not guarantee that progression will not  transpire.The choice of therapy depends on the relative risks and  benefits of available modalities, which include pharmacological  treatment, laser therapy or incisional surgery.Factors such as cost,  dosing, patient’s age, the presence of comorbidities (asthma or  COPD), pregnancy, adherence to treatment and the degree of optic  disc damage should be considered in choosing an appropriate  treatment regimen.In treating AACG, the primary goal is to make the correct diagnosis to  prevent permanent loss of vision.This is achieved by rapid lowering  of the IOP and reversal of the angle closure.Empiric treatment with  topical and systemic aqueous humour suppressants (β blockers  and acetazolamide) reduces the IOP, followed by pilocarpine to  reverse the pupil block.In the absence of available trials comparing  medical options for treatment of AACG, the initial management  usually consists of administering one drop of 0.5% timolol,   1% apraclonidine and 2% pilocarpine one minute apart.This is  followed by intravenous acetazolamide or mannitol.Eye pressure  should be checked every hour until specialist ophthalmological  care can be provided.Pharmacological management is the most common initial  intervention in lowering the IOP, although laser trabeculoplasty  and surgery are frequently used to slow the disease progression.Surgical treatment has no advantage over pharmacological  management in visual field protection, however surgical  interventions attain target IOP in 46% of cases compared to 35% in  those being treated medically.Several agents are available and the primary choice of drug depends  on the degree of pressure lowering which needs to be achieved.It  is recommended to initiate treatment on one type of medication.If an inadequate response in lowering the IOP is observed, the  dose may be adjusted, or a second agent may be added.If the  first agent fails to demonstrate any measureable clinical response,  it should be removed from the regimen and be replaced with an  alternative drug.Pharmacological agents used to lower the IOP  include prostaglandin analogs, carbonic anhydrase inhibitors,  α  adrenergic agonists, cholinergic agonists, β blockers and  hyperosmotic agents.Adequate treatment of glaucoma requires  a high level of adherence.It is estimated that 45% of patients will  default on chronic treatment, if they are not appropriately followed  up and counselled regarding dosage instructions and possible side  effects.Table 2 below summarises the currently available drugs in  South Africa used to lower intraocular pressure.Latanoprost, travoprost and bimatoprost are prostaglandin   F agonists, which increases the uveoscleral outflow of aqueous  humour.It is considered the most potent group of topical ocular  hypotensive agents currently available and may lower baseline IOP  by 25–35%.There are few associated systemic side effects and  mostly relates to headaches.In addition, latanoprost may cause  joint/muscle pain and flu-like symptoms.Local adverse effects  include blurred vision, conjunctival hyperaemia, eye discomfort,  permanent iridial pigmentation, macular edema and thickening of  the eyelashes.Acetazolamide, dorzolamide and brinzolamide are sulphonamide  derivatives  which  reduces  aqueous  humour  production  independent to its diuretic mode of action.Acetazolamide is  administered systemically in the form of oral tablets or intravenous  infusion, and additionally reduces the rate of aqueous inflow up to  50%.Its usefulness is limited to the management of acute closed  angle glaucoma due to unfavourable systemic side effects which  may include paresthesia, nausea, diarrhoea, loss of appetite and  dose related systemic acidosis.Topical application of dorzolamide  and brinzolamide demonstrates an improvement in ocular blood  flow and long-term preservation of visual field.An average reduction  of  15–20% in baseline IOP can be expected.Side effects include  ocular irritation, dry eyes, blurred vision, eyelid inflammation and a  bitter taste.Brimonidine is a selective α2 receptor agonist.It initially reduces  aqueous humour production followed by a subsequent increase  in the uveoscleral outflow, therefore proving to be useful in  preventing a rise in IOP prior to anterior segment laser surgery.Brimonidine reduces baseline IOP with approximately 20%.Apraclonidine reduces the formation of aqueous humour but has  no effect on the facilitation of outflow.It has affinity for both α1  and α2 adreno-receptors and are used to prevent postsurgical  elevation of IOP after anterior segment laser therapy.Apraclonidine  reduces baseline IOP by 30% and is additionally used as adjuvant  therapy in resistant cases of glaucoma.Systemic side effects of the  alpha agonists are related to the central nervous system (headache,  fatigue, insomnia, depression) and respiratory system.Caution  should be taken in patients with cerebral or coronary insufficiency,  postural hypotension and renal or hepatic failure.Hypersensitivity  reactions, ocular irritation, eyelid edema, foreign body sensation  and dry eyes are common with topical use.Pilocarpine is the only available cholinergic agent in the  management of acute closed-angle glaucoma registered in South  Africa.Administration results in the increase in aqueous humour  outflow by contraction of the ciliary muscle and constriction of the  pupil.Poorly tolerated side effects, such as ciliary muscle spasm,  myopia and decreased vision limits its usefulness.Although prostaglandin receptor agonists are the most potent  agents in reducing the IOP, beta blockers are regarded as the first  choice in treating open angle glaucoma.Individual agents differ in  their ability to lower IOP, with betaxolol achieving a 15% decrease,  compared to 20–25% with timolol and levobunolol respectively.Betaxolol is, however, more cardioselective (β1) and therefore has  fewer pulmonary side effects compared to timolol and levobunolol  (which are non-selective antagonists on β1 and β2 receptors).The  mechanism involves a reduction of aqueous humour production  and does not cause miosis or accommodation disturbances  compared to cholinergic agents.The most common adverse effects  are ocular irritation and dry eyes.All the β blockers (including the  cardioselective agents) are contraindicated in patients with asthma,  COPD and bradycardia, unless alternative treatment is unavailable.Several combination agents are available in the treatment of  glaucoma.Most of these combinations include timolol, since  β blockers are still considered first line therapy in open-angle  glaucoma and ocular hypertension.Fixed-dose combination  therapy is more efficacious than its individual components, but still  less efficacious than its respective unfixed combinations.It provides  for simplified treatment regimes and enhances compliance.Fixed  dose combinations containing prostaglandins have a lower risk  in causing hyperemia.Combination of timolol with dorzolamide  is superior in visual field preservation compared to timolol and  brinzolamide.Combination preparations with brimonidine  have less visual disturbances, taste alterations and ocular allergic  reactions compared to the single ingredient product.With the recent attention cannabis has been receiving in the  management of pain and other cancer related conditions, it  is important to remember the favourable effect of its active  ingredient, Δ -tetrahydrocannabinol (THC), in reducing ocular  blood flow.Studies from the 1970s have reported a 30% reduction  in the IOP by inhalation or intravenous administration of THC.The  use is, however, limited owing to the cardiovascular (increased heart  rate and decreased blood pressure) and neurological (tolerance  and addiction) side effects.Topical application does not produce  a significant clinical effect.The use of synthetic cannabinoids may  provide a basis for potential future treatment strategies.General practitioners and family physicians play an important  role in the diagnosis and appropriate referral of patients with  suspected glaucoma.Fundoscopic examinations are quick and  easy to perform and are an opportunity that present at each  consultation.The early recognition of symptoms may improve  outcomes and delay progression.Taking a good medical history  and applying the principles of rational drug use may identify  potential pharmacological causes for glaucoma.Practitioners  prescribing any of the drugs known to cause acute angle glaucoma  should be vigilant in patients presenting with characteristic signs  or symptoms, and immediately refer them to an ophthalmologist.Patients need to be counselled on the associated adverse effects  from glaucoma medication in order to improve adherence.'"
            ],
            "application/vnd.google.colaboratory.intrinsic+json": {
              "type": "string"
            }
          },
          "metadata": {},
          "execution_count": 112
        }
      ]
    },
    {
      "cell_type": "code",
      "source": [
        "sum.strip()"
      ],
      "metadata": {
        "colab": {
          "base_uri": "https://localhost:8080/",
          "height": 140
        },
        "id": "DgXLmO8jt5ZR",
        "outputId": "becf3736-d649-4934-9590-87e286ca29aa"
      },
      "execution_count": null,
      "outputs": [
        {
          "output_type": "execute_result",
          "data": {
            "text/plain": [
              "'Glaucoma is a mixed group of eye disorders sharing common  features which typically includes optic disc cupping and visual  field loss, thereby more accurately defined as an optic neuropathy.Optic nerve damage results in progressive retinal ganglionic  cell loss and irreversible blindness, if not treated.Traditionally,  glaucoma has been characterized by the existence of raised  intraocular pressure (IOP), however nerve damage may occur in the  presence of values within the statistically normal range between   8–21 mmHg.Glaucomatous disc and field changes in the absence  of elevated pressure constitutes normal or low tension glaucoma  (LTG).Similarly, conditions exceeding the upper limit of 21 mmHg  may not be associated with signs of visual field loss or optic disc  damage and comprises ocular hypertension.In addition to optic  neuropathy, the two main types of glaucoma (open angle and  closed angle) are described on the appearance of the drainage  system within the eye, including associated increase in the IOP  (Figure 1).Glaucoma is one of the leading causes of blindness worldwide.The main characteristic features include optic disc cupping, visual field  loss, and in most instances a raised intraocular pressure.Primary open angle glaucoma accounts for nearly two thirds of all cases, while  angle closure glaucoma contributes the majority of the remainder.Screening for glaucoma is not cost-effective, and diagnosis of the  primary open angle type is usually an incidental finding during ophthalmological examination.Various treatment options, including  medical and surgical interventions are accessible in the management of glaucoma.This article contains a brief description on the  pathophysiology and focuses on the pharmacological options available in the treatment of glaucoma.Keywords:  Glaucoma, prostaglandin analogs, carbonic anhydrase inhibitors, beta antagonists, alpha 2 adrenergic agonists, cholinergic  agonists Both types can be further divided into primary versus secondary,  and congenital versus acquired.Glaucoma has a global prevalence  of 3.54% in those aged between 40 and 80 years, and is the  second leading cause of irreversible blindness, only superseded  by cataracts.Open angle glaucoma is the highest in Africa (4.2%),  while closed angle glaucoma is more prevalent in Asia (1.09%).Aqueous humour (a transparent, low protein containing fluid) is  continuously secreted by the ciliary epithelium providing structural  support to the lens.This watery fluid is present in both the anterior  and posterior chambers of the eye and drains through a sieve-like  trabecular meshwork located in the angle between the cornea  and the iris.Final drainage out of the eye occurs via the canal of  Schlemm  into the episcleral vein or intrascleral venous plexus  terminating in the ocular veins.In open angle glaucoma, the trabecular meshwork undergoes  morphological changes over time, resulting in progressive  impairment of drainage although it remains anatomically open. (Figure 1) Open angle glaucoma most often affects both eyes,  but asymmetric involvement is not uncommon.Primary open  angle glaucoma (POAG) is the most common type and accounts  for 74% of all glaucoma cases.It is estimated that 57.5 million  people (3.05%) worldwide suffer from POAG.Prevalence among  Black populations is the highest, with 2.1% at age 40 and 12.2% at  age 80 being reported.The incidence in Asian populations (0.8%  at age 40 and 4.3% at age 80), and Caucasians (0.4% at 40 years  and 5.3% at 80 years) suggests an ethno-genetic disease pattern.Although the exact cause of POAG remains unknown, more than  fifty risk factors and secondary causes have been identified.Some of these include diabetes mellitus, migraine headache,  cardiovascular disease, asthma or COPD (inhaled anticholinergics  and glucocorticosteroids), myopia, advanced age and a family  history of first-degree relatives with the same condition.Disease  progression leads to the formation of scar tissue between the iris  and trabecular meshwork and will ultimately result in closing off  the anterior chamber.The consequent rise in IOP is transmitted to  the optic disc and is eventually responsible for atrophy and nerve  fiber damage.Owing to the slow progression of the disease, POAG  remains asymptomatic until central vision is affected.It does not  present with headache, eye pain or loss of visual acuity.Diagnosis  is usually incidental during routine funduscopic or optometry  examinations.A cup : disc ratio of 0.6 (glaucomatous cupping), and  central corneal thickness in the presence of risk factors is suggestive  of glaucoma, and requires ophthalmological referral (Figure 2).The progression from POAG to Chronic Angle-Closure Glaucoma  (CACG), requires lifelong treatment.Official general population screening policies do not exist and are  not cost-effective.Measuring IOP has a sensitivity of only 47.1%,  implying that nearly half of patients with POAG will have IOP below  22 mmHg.However, patients with risk factors are encouraged to  undergo annual ophthalmological examinations and additional  IOP measurements.With closed angle glaucoma, a primary hypermetropic anatomical  defect (such as weakened ciliary muscles, naturally small eyes,  narrow angle or thick lens) in the absence of an identifiable  secondary cause, results in the pupil compressing the drainage  canal between the iris and cornea.Compression and narrowing of  the canal reduces or obstructs the outflow of aqueous humour in  passing through the pupil, therefore accumulating in the anterior  chamber (Figure 1).Primary angle closure glaucoma (PACG) is  less common than POAG and accounts for approximately a third  of all cases, with a global incidence of 0.5%.Symptoms of closed  angle glaucoma depend on the degree of angle closure and in  some instances may resolve spontaneously; in which case it may  become chronic.In established disease, vision loss is severe and  permanent.Secondary causes of angle-closure glaucoma include  masses or hemorrhage in the posterior segment of the eyeball or  the presence of a fibrovascular membrane (neovascular glaucoma)  over the anterior chamber angle.Risk factors for angle closure  glaucoma include older age (> 60 years), female gender, Asian  ethnicity, hyperopia and a positive family history.Attacks occur  more frequently at night when diminished light cause mydriasis and  narrowing of the angle.Unexpected closure (acute angle closure  glaucoma, AACG) of the anterior chamber angle due to pupillary  block may result in a sudden rise in IOP.It constitutes a medical  emergency, since permanent blindness and irreversible damage  to the optic nerve may occur.Acute attacks are characterized  by intermittent symptoms such as severe eye pain, nausea and  vomiting, loss of vision, halos around lights, unilateral red tearing  eye, oval shaped non-reactive pupil, a cloudy cornea and the loss  of red reflex (Figure 3).In addition, it is estimated that prescribed, or over-the-counter  pharmacological agents are responsible for at least 30% of acute  angle closure glaucoma.These include antihistamines, cholinergic-  and anticholinergic agents, adrenergic agents, antidepressants,  sulphonamides, anticoagulants and glucocorticosteroids.Table 1  below summarises the mechanism responsible for causing AACG.The goal in treating POAG is to establish and maintain the intra- ocular pressure at a range where visual field loss will have the  least negative impact on the patient’s perceived visual disability.“Various studies have shown that visual field loss in glaucoma has  been  associated with a significant decrease in a person’s vision- related quality of life.This is evident in activities requiring optimal  vision, such as dark adaptation, avoiding unintentional bumping  into objects and outdoor mobility.Determining the target  intraocular pressure needs to be individualised for each patient,  since the measured pressure at diagnosis could be within the normal  range of 8 to 21 mmHg in 30–50% of patients.Aiming for pressures  within these ranges will contribute towards optic nerve damage  and further progression.It is generally accepted that patients with  early disease benefit from a reduction of at least 20% in the baseline  value.A reduction of 30% is recommended in individuals with  more advanced features of POAG.Target IOP should continuously  be re-calculated during monitoring and follow-up assessment  of visual fields and disc and nerve fiber examinations.Reducing  the IOP, however, does not guarantee that progression will not  transpire.The choice of therapy depends on the relative risks and  benefits of available modalities, which include pharmacological  treatment, laser therapy or incisional surgery.Factors such as cost,  dosing, patient’s age, the presence of comorbidities (asthma or  COPD), pregnancy, adherence to treatment and the degree of optic  disc damage should be considered in choosing an appropriate  treatment regimen.In treating AACG, the primary goal is to make the correct diagnosis to  prevent permanent loss of vision.This is achieved by rapid lowering  of the IOP and reversal of the angle closure.Empiric treatment with  topical and systemic aqueous humour suppressants (β blockers  and acetazolamide) reduces the IOP, followed by pilocarpine to  reverse the pupil block.In the absence of available trials comparing  medical options for treatment of AACG, the initial management  usually consists of administering one drop of 0.5% timolol,   1% apraclonidine and 2% pilocarpine one minute apart.This is  followed by intravenous acetazolamide or mannitol.Eye pressure  should be checked every hour until specialist ophthalmological  care can be provided.Pharmacological management is the most common initial  intervention in lowering the IOP, although laser trabeculoplasty  and surgery are frequently used to slow the disease progression.Surgical treatment has no advantage over pharmacological  management in visual field protection, however surgical  interventions attain target IOP in 46% of cases compared to 35% in  those being treated medically.Several agents are available and the primary choice of drug depends  on the degree of pressure lowering which needs to be achieved.It  is recommended to initiate treatment on one type of medication.If an inadequate response in lowering the IOP is observed, the  dose may be adjusted, or a second agent may be added.If the  first agent fails to demonstrate any measureable clinical response,  it should be removed from the regimen and be replaced with an  alternative drug.Pharmacological agents used to lower the IOP  include prostaglandin analogs, carbonic anhydrase inhibitors,  α  adrenergic agonists, cholinergic agonists, β blockers and  hyperosmotic agents.Adequate treatment of glaucoma requires  a high level of adherence.It is estimated that 45% of patients will  default on chronic treatment, if they are not appropriately followed  up and counselled regarding dosage instructions and possible side  effects.Table 2 below summarises the currently available drugs in  South Africa used to lower intraocular pressure.Latanoprost, travoprost and bimatoprost are prostaglandin   F agonists, which increases the uveoscleral outflow of aqueous  humour.It is considered the most potent group of topical ocular  hypotensive agents currently available and may lower baseline IOP  by 25–35%.There are few associated systemic side effects and  mostly relates to headaches.In addition, latanoprost may cause  joint/muscle pain and flu-like symptoms.Local adverse effects  include blurred vision, conjunctival hyperaemia, eye discomfort,  permanent iridial pigmentation, macular edema and thickening of  the eyelashes.Acetazolamide, dorzolamide and brinzolamide are sulphonamide  derivatives  which  reduces  aqueous  humour  production  independent to its diuretic mode of action.Acetazolamide is  administered systemically in the form of oral tablets or intravenous  infusion, and additionally reduces the rate of aqueous inflow up to  50%.Its usefulness is limited to the management of acute closed  angle glaucoma due to unfavourable systemic side effects which  may include paresthesia, nausea, diarrhoea, loss of appetite and  dose related systemic acidosis.Topical application of dorzolamide  and brinzolamide demonstrates an improvement in ocular blood  flow and long-term preservation of visual field.An average reduction  of  15–20% in baseline IOP can be expected.Side effects include  ocular irritation, dry eyes, blurred vision, eyelid inflammation and a  bitter taste.Brimonidine is a selective α2 receptor agonist.It initially reduces  aqueous humour production followed by a subsequent increase  in the uveoscleral outflow, therefore proving to be useful in  preventing a rise in IOP prior to anterior segment laser surgery.Brimonidine reduces baseline IOP with approximately 20%.Apraclonidine reduces the formation of aqueous humour but has  no effect on the facilitation of outflow.It has affinity for both α1  and α2 adreno-receptors and are used to prevent postsurgical  elevation of IOP after anterior segment laser therapy.Apraclonidine  reduces baseline IOP by 30% and is additionally used as adjuvant  therapy in resistant cases of glaucoma.Systemic side effects of the  alpha agonists are related to the central nervous system (headache,  fatigue, insomnia, depression) and respiratory system.Caution  should be taken in patients with cerebral or coronary insufficiency,  postural hypotension and renal or hepatic failure.Hypersensitivity  reactions, ocular irritation, eyelid edema, foreign body sensation  and dry eyes are common with topical use.Pilocarpine is the only available cholinergic agent in the  management of acute closed-angle glaucoma registered in South  Africa.Administration results in the increase in aqueous humour  outflow by contraction of the ciliary muscle and constriction of the  pupil.Poorly tolerated side effects, such as ciliary muscle spasm,  myopia and decreased vision limits its usefulness.Although prostaglandin receptor agonists are the most potent  agents in reducing the IOP, beta blockers are regarded as the first  choice in treating open angle glaucoma.Individual agents differ in  their ability to lower IOP, with betaxolol achieving a 15% decrease,  compared to 20–25% with timolol and levobunolol respectively.Betaxolol is, however, more cardioselective (β1) and therefore has  fewer pulmonary side effects compared to timolol and levobunolol  (which are non-selective antagonists on β1 and β2 receptors).The  mechanism involves a reduction of aqueous humour production  and does not cause miosis or accommodation disturbances  compared to cholinergic agents.The most common adverse effects  are ocular irritation and dry eyes.All the β blockers (including the  cardioselective agents) are contraindicated in patients with asthma,  COPD and bradycardia, unless alternative treatment is unavailable.Several combination agents are available in the treatment of  glaucoma.Most of these combinations include timolol, since  β blockers are still considered first line therapy in open-angle  glaucoma and ocular hypertension.Fixed-dose combination  therapy is more efficacious than its individual components, but still  less efficacious than its respective unfixed combinations.It provides  for simplified treatment regimes and enhances compliance.Fixed  dose combinations containing prostaglandins have a lower risk  in causing hyperemia.Combination of timolol with dorzolamide  is superior in visual field preservation compared to timolol and  brinzolamide.Combination preparations with brimonidine  have less visual disturbances, taste alterations and ocular allergic  reactions compared to the single ingredient product.With the recent attention cannabis has been receiving in the  management of pain and other cancer related conditions, it  is important to remember the favourable effect of its active  ingredient, Δ -tetrahydrocannabinol (THC), in reducing ocular  blood flow.Studies from the 1970s have reported a 30% reduction  in the IOP by inhalation or intravenous administration of THC.The  use is, however, limited owing to the cardiovascular (increased heart  rate and decreased blood pressure) and neurological (tolerance  and addiction) side effects.Topical application does not produce  a significant clinical effect.The use of synthetic cannabinoids may  provide a basis for potential future treatment strategies.General practitioners and family physicians play an important  role in the diagnosis and appropriate referral of patients with  suspected glaucoma.Fundoscopic examinations are quick and  easy to perform and are an opportunity that present at each  consultation.The early recognition of symptoms may improve  outcomes and delay progression.Taking a good medical history  and applying the principles of rational drug use may identify  potential pharmacological causes for glaucoma.Practitioners  prescribing any of the drugs known to cause acute angle glaucoma  should be vigilant in patients presenting with characteristic signs  or symptoms, and immediately refer them to an ophthalmologist.Patients need to be counselled on the associated adverse effects  from glaucoma medication in order to improve adherence.'"
            ],
            "application/vnd.google.colaboratory.intrinsic+json": {
              "type": "string"
            }
          },
          "metadata": {},
          "execution_count": 120
        }
      ]
    },
    {
      "cell_type": "markdown",
      "source": [
        "## Summart Text"
      ],
      "metadata": {
        "id": "IAZ1yVBkVOXL"
      }
    },
    {
      "cell_type": "code",
      "source": [
        "sum = \"\"\" Glaucoma is a mixed group of eye disorders sharing common  features which typically includes optic disc cupping and visual  field loss, thereby more accurately defined as an optic neuropathy.Optic nerve damage results in progressive retinal ganglionic  cell loss and irreversible blindness, if not treated.Traditionally,  glaucoma has been characterized by the existence of raised  intraocular pressure (IOP), however nerve damage may occur in the  presence of values within the statistically normal range between   8–21 mmHg.Glaucomatous disc and field changes in the absence  of elevated pressure constitutes normal or low tension glaucoma  (LTG).Similarly, conditions exceeding the upper limit of 21 mmHg  may not be associated with signs of visual field loss or optic disc  damage and comprises ocular hypertension.In addition to optic  neuropathy, the two main types of glaucoma (open angle and  closed angle) are described on the appearance of the drainage  system within the eye, including associated increase in the IOP  (Figure 1).Glaucoma is one of the leading causes of blindness worldwide.The main characteristic features include optic disc cupping, visual field  loss, and in most instances a raised intraocular pressure.Primary open angle glaucoma accounts for nearly two thirds of all cases, while  angle closure glaucoma contributes the majority of the remainder.Screening for glaucoma is not cost-effective, and diagnosis of the  primary open angle type is usually an incidental finding during ophthalmological examination.Various treatment options, including  medical and surgical interventions are accessible in the management of glaucoma.This article contains a brief description on the  pathophysiology and focuses on the pharmacological options available in the treatment of glaucoma.Keywords:  Glaucoma, prostaglandin analogs, carbonic anhydrase inhibitors, beta antagonists, alpha 2 adrenergic agonists, cholinergic  agonists Both types can be further divided into primary versus secondary,  and congenital versus acquired.Glaucoma has a global prevalence  of 3.54% in those aged between 40 and 80 years, and is the  second leading cause of irreversible blindness, only superseded  by cataracts.Open angle glaucoma is the highest in Africa (4.2%),  while closed angle glaucoma is more prevalent in Asia (1.09%).Aqueous humour (a transparent, low protein containing fluid) is  continuously secreted by the ciliary epithelium providing structural  support to the lens.This watery fluid is present in both the anterior  and posterior chambers of the eye and drains through a sieve-like  trabecular meshwork located in the angle between the cornea  and the iris.Final drainage out of the eye occurs via the canal of  Schlemm  into the episcleral vein or intrascleral venous plexus  terminating in the ocular veins.In open angle glaucoma, the trabecular meshwork undergoes  morphological changes over time, resulting in progressive  impairment of drainage although it remains anatomically open. (Figure 1) Open angle glaucoma most often affects both eyes,  but asymmetric involvement is not uncommon.Primary open  angle glaucoma (POAG) is the most common type and accounts  for 74% of all glaucoma cases.It is estimated that 57.5 million  people (3.05%) worldwide suffer from POAG.Prevalence among  Black populations is the highest, with 2.1% at age 40 and 12.2% at  age 80 being reported.The incidence in Asian populations (0.8%  at age 40 and 4.3% at age 80), and Caucasians (0.4% at 40 years  and 5.3% at 80 years) suggests an ethno-genetic disease pattern.Although the exact cause of POAG remains unknown, more than  fifty risk factors and secondary causes have been identified.Some of these include diabetes mellitus, migraine headache,  cardiovascular disease, asthma or COPD (inhaled anticholinergics  and glucocorticosteroids), myopia, advanced age and a family  history of first-degree relatives with the same condition.Disease  progression leads to the formation of scar tissue between the iris  and trabecular meshwork and will ultimately result in closing off  the anterior chamber.The consequent rise in IOP is transmitted to  the optic disc and is eventually responsible for atrophy and nerve  fiber damage.Owing to the slow progression of the disease, POAG  remains asymptomatic until central vision is affected.It does not  present with headache, eye pain or loss of visual acuity.Diagnosis  is usually incidental during routine funduscopic or optometry  examinations.A cup : disc ratio of 0.6 (glaucomatous cupping), and  central corneal thickness in the presence of risk factors is suggestive  of glaucoma, and requires ophthalmological referral (Figure 2).The progression from POAG to Chronic Angle-Closure Glaucoma  (CACG), requires lifelong treatment.Official general population screening policies do not exist and are  not cost-effective.Measuring IOP has a sensitivity of only 47.1%,  implying that nearly half of patients with POAG will have IOP below  22 mmHg.However, patients with risk factors are encouraged to  undergo annual ophthalmological examinations and additional  IOP measurements.With closed angle glaucoma, a primary hypermetropic anatomical  defect (such as weakened ciliary muscles, naturally small eyes,  narrow angle or thick lens) in the absence of an identifiable  secondary cause, results in the pupil compressing the drainage  canal between the iris and cornea.Compression and narrowing of  the canal reduces or obstructs the outflow of aqueous humour in  passing through the pupil, therefore accumulating in the anterior  chamber (Figure 1).Primary angle closure glaucoma (PACG) is  less common than POAG and accounts for approximately a third  of all cases, with a global incidence of 0.5%.Symptoms of closed  angle glaucoma depend on the degree of angle closure and in  some instances may resolve spontaneously; in which case it may  become chronic.In established disease, vision loss is severe and  permanent.Secondary causes of angle-closure glaucoma include  masses or hemorrhage in the posterior segment of the eyeball or  the presence of a fibrovascular membrane (neovascular glaucoma)  over the anterior chamber angle.Risk factors for angle closure  glaucoma include older age (> 60 years), female gender, Asian  ethnicity, hyperopia and a positive family history.Attacks occur  more frequently at night when diminished light cause mydriasis and  narrowing of the angle.Unexpected closure (acute angle closure  glaucoma, AACG) of the anterior chamber angle due to pupillary  block may result in a sudden rise in IOP.It constitutes a medical  emergency, since permanent blindness and irreversible damage  to the optic nerve may occur.Acute attacks are characterized  by intermittent symptoms such as severe eye pain, nausea and  vomiting, loss of vision, halos around lights, unilateral red tearing  eye, oval shaped non-reactive pupil, a cloudy cornea and the loss  of red reflex (Figure 3).In addition, it is estimated that prescribed, or over-the-counter  pharmacological agents are responsible for at least 30% of acute  angle closure glaucoma.These include antihistamines, cholinergic-  and anticholinergic agents, adrenergic agents, antidepressants,  sulphonamides, anticoagulants and glucocorticosteroids.Table 1  below summarises the mechanism responsible for causing AACG.The goal in treating POAG is to establish and maintain the intra- ocular pressure at a range where visual field loss will have the  least negative impact on the patient’s perceived visual disability.“Various studies have shown that visual field loss in glaucoma has  been  associated with a significant decrease in a person’s vision- related quality of life.This is evident in activities requiring optimal  vision, such as dark adaptation, avoiding unintentional bumping  into objects and outdoor mobility.Determining the target  intraocular pressure needs to be individualised for each patient,  since the measured pressure at diagnosis could be within the normal  range of 8 to 21 mmHg in 30–50% of patients.Aiming for pressures  within these ranges will contribute towards optic nerve damage  and further progression.It is generally accepted that patients with  early disease benefit from a reduction of at least 20% in the baseline  value.A reduction of 30% is recommended in individuals with  more advanced features of POAG.Target IOP should continuously  be re-calculated during monitoring and follow-up assessment  of visual fields and disc and nerve fiber examinations.Reducing  the IOP, however, does not guarantee that progression will not  transpire.The choice of therapy depends on the relative risks and  benefits of available modalities, which include pharmacological  treatment, laser therapy or incisional surgery.Factors such as cost,  dosing, patient’s age, the presence of comorbidities (asthma or  COPD), pregnancy, adherence to treatment and the degree of optic  disc damage should be considered in choosing an appropriate  treatment regimen.In treating AACG, the primary goal is to make the correct diagnosis to  prevent permanent loss of vision.This is achieved by rapid lowering  of the IOP and reversal of the angle closure.Empiric treatment with  topical and systemic aqueous humour suppressants (β blockers  and acetazolamide) reduces the IOP, followed by pilocarpine to  reverse the pupil block.In the absence of available trials comparing  medical options for treatment of AACG, the initial management  usually consists of administering one drop of 0.5% timolol,   1% apraclonidine and 2% pilocarpine one minute apart.This is  followed by intravenous acetazolamide or mannitol.Eye pressure  should be checked every hour until specialist ophthalmological  care can be provided.Pharmacological management is the most common initial  intervention in lowering the IOP, although laser trabeculoplasty  and surgery are frequently used to slow the disease progression.Surgical treatment has no advantage over pharmacological  management in visual field protection, however surgical  interventions attain target IOP in 46% of cases compared to 35% in  those being treated medically.Several agents are available and the primary choice of drug depends  on the degree of pressure lowering which needs to be achieved.It  is recommended to initiate treatment on one type of medication.If an inadequate response in lowering the IOP is observed, the  dose may be adjusted, or a second agent may be added.If the  first agent fails to demonstrate any measureable clinical response,  it should be removed from the regimen and be replaced with an  alternative drug.Pharmacological agents used to lower the IOP  include prostaglandin analogs, carbonic anhydrase inhibitors,  α  adrenergic agonists, cholinergic agonists, β blockers and  hyperosmotic agents.Adequate treatment of glaucoma requires  a high level of adherence.It is estimated that 45% of patients will  default on chronic treatment, if they are not appropriately followed  up and counselled regarding dosage instructions and possible side  effects.Table 2 below summarises the currently available drugs in  South Africa used to lower intraocular pressure.Latanoprost, travoprost and bimatoprost are prostaglandin   F agonists, which increases the uveoscleral outflow of aqueous  humour.It is considered the most potent group of topical ocular  hypotensive agents currently available and may lower baseline IOP  by 25–35%.There are few associated systemic side effects and  mostly relates to headaches.In addition, latanoprost may cause  joint/muscle pain and flu-like symptoms.Local adverse effects  include blurred vision, conjunctival hyperaemia, eye discomfort,  permanent iridial pigmentation, macular edema and thickening of  the eyelashes.Acetazolamide, dorzolamide and brinzolamide are sulphonamide  derivatives  which  reduces  aqueous  humour  production  independent to its diuretic mode of action.Acetazolamide is  administered systemically in the form of oral tablets or intravenous  infusion, and additionally reduces the rate of aqueous inflow up to  50%.Its usefulness is limited to the management of acute closed  angle glaucoma due to unfavourable systemic side effects which  may include paresthesia, nausea, diarrhoea, loss of appetite and  dose related systemic acidosis.Topical application of dorzolamide  and brinzolamide demonstrates an improvement in ocular blood  flow and long-term preservation of visual field.An average reduction  of  15–20% in baseline IOP can be expected.Side effects include  ocular irritation, dry eyes, blurred vision, eyelid inflammation and a  bitter taste.Brimonidine is a selective α2 receptor agonist.It initially reduces  aqueous humour production followed by a subsequent increase  in the uveoscleral outflow, therefore proving to be useful in  preventing a rise in IOP prior to anterior segment laser surgery.Brimonidine reduces baseline IOP with approximately 20%.Apraclonidine reduces the formation of aqueous humour but has  no effect on the facilitation of outflow.It has affinity for both α1  and α2 adreno-receptors and are used to prevent postsurgical  elevation of IOP after anterior segment laser therapy.Apraclonidine  reduces baseline IOP by 30% and is additionally used as adjuvant  therapy in resistant cases of glaucoma.Systemic side effects of the  alpha agonists are related to the central nervous system (headache,  fatigue, insomnia, depression) and respiratory system.Caution  should be taken in patients with cerebral or coronary insufficiency,  postural hypotension and renal or hepatic failure.Hypersensitivity  reactions, ocular irritation, eyelid edema, foreign body sensation  and dry eyes are common with topical use.Pilocarpine is the only available cholinergic agent in the  management of acute closed-angle glaucoma registered in South  Africa.Administration results in the increase in aqueous humour  outflow by contraction of the ciliary muscle and constriction of the  pupil.Poorly tolerated side effects, such as ciliary muscle spasm,  myopia and decreased vision limits its usefulness.Although prostaglandin receptor agonists are the most potent  agents in reducing the IOP, beta blockers are regarded as the first  choice in treating open angle glaucoma.Individual agents differ in  their ability to lower IOP, with betaxolol achieving a 15% decrease,  compared to 20–25% with timolol and levobunolol respectively.Betaxolol is, however, more cardioselective (β1) and therefore has  fewer pulmonary side effects compared to timolol and levobunolol  (which are non-selective antagonists on β1 and β2 receptors).The  mechanism involves a reduction of aqueous humour production  and does not cause miosis or accommodation disturbances  compared to cholinergic agents.The most common adverse effects  are ocular irritation and dry eyes.All the β blockers (including the  cardioselective agents) are contraindicated in patients with asthma,  COPD and bradycardia, unless alternative treatment is unavailable.Several combination agents are available in the treatment of  glaucoma.Most of these combinations include timolol, since  β blockers are still considered first line therapy in open-angle  glaucoma and ocular hypertension.Fixed-dose combination  therapy is more efficacious than its individual components, but still  less efficacious than its respective unfixed combinations.It provides  for simplified treatment regimes and enhances compliance.Fixed  dose combinations containing prostaglandins have a lower risk  in causing hyperemia.Combination of timolol with dorzolamide  is superior in visual field preservation compared to timolol and  brinzolamide.Combination preparations with brimonidine  have less visual disturbances, taste alterations and ocular allergic  reactions compared to the single ingredient product.With the recent attention cannabis has been receiving in the  management of pain and other cancer related conditions, it  is important to remember the favourable effect of its active  ingredient, Δ -tetrahydrocannabinol (THC), in reducing ocular  blood flow.Studies from the 1970s have reported a 30% reduction  in the IOP by inhalation or intravenous administration of THC.The  use is, however, limited owing to the cardiovascular (increased heart  rate and decreased blood pressure) and neurological (tolerance  and addiction) side effects.Topical application does not produce  a significant clinical effect.The use of synthetic cannabinoids may  provide a basis for potential future treatment strategies.General practitioners and family physicians play an important  role in the diagnosis and appropriate referral of patients with  suspected glaucoma.Fundoscopic examinations are quick and  easy to perform and are an opportunity that present at each  consultation.The early recognition of symptoms may improve  outcomes and delay progression.Taking a good medical history  and applying the principles of rational drug use may identify  potential pharmacological causes for glaucoma.Practitioners  prescribing any of the drugs known to cause acute angle glaucoma  should be vigilant in patients presenting with characteristic signs  or symptoms, and immediately refer them to an ophthalmologist.Patients need to be counselled on the associated adverse effects  from glaucoma medication in order to improve adherence.\n",
        "\"\"\""
      ],
      "metadata": {
        "id": "RMp17ra4t12B"
      },
      "execution_count": null,
      "outputs": []
    },
    {
      "cell_type": "code",
      "source": [
        "def summarize(method, language, sentence_count, input_type, input_):\n",
        "  if method== 'LSA':\n",
        "    from sumy.summarizers.lsa import LsaSummarizer as Summarizer\n",
        "  if method=='text-rank':\n",
        "    from sumy.summarizers.text_rank import TextRankSummarizer as Summarizer\n",
        "  if method=='lex-rank':\n",
        "    from sumy.summarizers.lex_rank import LexRankSummarizer as Summarizer\n",
        "  if method=='edmundson':\n",
        "    from sumy.summarizers.edmundson import EdmundsonSummarizer as Summarizer\n",
        "  if method=='luhn':\n",
        "    from sumy.summarizers.luhn import LuhnSummarizer as Summarizer\n",
        "  if method=='kl-sum':\n",
        "    from sumy.summarizers.kl import KLSummarizer as Summarizer\n",
        "  if method=='random':\n",
        "    from sumy.summarizers.random import RandomSummarizer as Summarizer\n",
        "  if method=='reduction':\n",
        "    from sumy.summarizers.reduction import ReductionSummarizer as Summarizer\n",
        "\n",
        "  if input_type==\"URL\":\n",
        "    parser = HtmlParser.from_url(input_, Tokenizer(language))\n",
        "  if input_type==\"text\":\n",
        "    parser = PlaintextParser.from_string(input_, Tokenizer(language))\n",
        "    \n",
        "  stemmer = Stemmer(language)\n",
        "  summarizer = Summarizer(stemmer)\n",
        "  stop_words = get_stop_words(language)\n",
        "\n",
        "  if method=='edmundson':\n",
        "    summarizer.null_words = stop_words\n",
        "    summarizer.bonus_words = parser.significant_words\n",
        "    summarizer.stigma_words = parser.stigma_words\n",
        "  else:\n",
        "    summarizer.stop_words = stop_words\n",
        "\n",
        "  summary_sentences = summarizer(parser.document, sentence_count)\n",
        "  summary = ' '.join([str(sentence) for sentence in summary_sentences])\n",
        "  \n",
        "  return summary"
      ],
      "metadata": {
        "id": "BbwSTdt_sXXy"
      },
      "execution_count": null,
      "outputs": []
    },
    {
      "cell_type": "code",
      "source": [
        "input_type =\"text\"\n",
        "language = \"english\"\n",
        "sentence_count = 5\n",
        "input_ = processed_text\n",
        "for method in methods:\n",
        "  result = summarize(method, language, sentence_count, input_type, input_)\n",
        "  print(f\"{method} : {result}\")\n",
        "  print(\"\\n\")"
      ],
      "metadata": {
        "colab": {
          "base_uri": "https://localhost:8080/"
        },
        "id": "1dVElpeOselM",
        "outputId": "ad9f5ef9-7782-4726-f1c0-f200a7ec5740"
      },
      "execution_count": null,
      "outputs": [
        {
          "output_type": "stream",
          "name": "stdout",
          "text": [
            "LSA : Glaucoma is a mixed group of eye disorders sharing common  features which typically includes optic disc cupping and visual  field loss, thereby more accurately defined as an optic neuropathy.Optic nerve damage results in progressive retinal ganglionic  cell loss and irreversible blindness, if not treated.Traditionally,  glaucoma has been characterized by the existence of raised  intraocular pressure (IOP), however nerve damage may occur in the  presence of values within the statistically normal range between   8–21 mmHg.Glaucomatous disc and field changes in the absence  of elevated pressure constitutes normal or low tension glaucoma  (LTG).Similarly, conditions exceeding the upper limit of 21 mmHg  may not be associated with signs of visual field loss or optic disc  damage and comprises ocular hypertension.In addition to optic  neuropathy, the two main types of glaucoma (open angle and  closed angle) are described on the appearance of the drainage  system within the eye, including associated increase in the IOP  (Figure 1).Glaucoma is one of the leading causes of blindness worldwide.The main characteristic features include optic disc cupping, visual field  loss, and in most instances a raised intraocular pressure.Primary open angle glaucoma accounts for nearly two thirds of all cases, while  angle closure glaucoma contributes the majority of the remainder.Screening for glaucoma is not cost-effective, and diagnosis of the  primary open angle type is usually an incidental finding during ophthalmological examination.Various treatment options, including  medical and surgical interventions are accessible in the management of glaucoma.This article contains a brief description on the  pathophysiology and focuses on the pharmacological options available in the treatment of glaucoma.Keywords:  Glaucoma, prostaglandin analogs, carbonic anhydrase inhibitors, beta antagonists, alpha 2 adrenergic agonists, cholinergic  agonists Both types can be further divided into primary versus secondary,  and congenital versus acquired.Glaucoma has a global prevalence  of 3.54% in those aged between 40 and 80 years, and is the  second leading cause of irreversible blindness, only superseded  by cataracts.Open angle glaucoma is the highest in Africa (4.2%),  while closed angle glaucoma is more prevalent in Asia (1.09%).Aqueous humour (a transparent, low protein containing fluid) is  continuously secreted by the ciliary epithelium providing structural  support to the lens.This watery fluid is present in both the anterior  and posterior chambers of the eye and drains through a sieve-like  trabecular meshwork located in the angle between the cornea  and the iris.Final drainage out of the eye occurs via the canal of  Schlemm  into the episcleral vein or intrascleral venous plexus  terminating in the ocular veins.In open angle glaucoma, the trabecular meshwork undergoes  morphological changes over time, resulting in progressive  impairment of drainage although it remains anatomically open. (Figure 1) Open angle glaucoma most often affects both eyes,  but asymmetric involvement is not uncommon.Primary open  angle glaucoma (POAG) is the most common type and accounts  for 74% of all glaucoma cases.It is estimated that 57.5 million  people (3.05%) worldwide suffer from POAG.Prevalence among  Black populations is the highest, with 2.1% at age 40 and 12.2% at  age 80 being reported.The incidence in Asian populations (0.8%  at age 40 and 4.3% at age 80), and Caucasians (0.4% at 40 years  and 5.3% at 80 years) suggests an ethno-genetic disease pattern.Although the exact cause of POAG remains unknown, more than  fifty risk factors and secondary causes have been identified.Some of these include diabetes mellitus, migraine headache,  cardiovascular disease, asthma or COPD (inhaled anticholinergics  and glucocorticosteroids), myopia, advanced age and a family  history of first-degree relatives with the same condition.Disease  progression leads to the formation of scar tissue between the iris  and trabecular meshwork and will ultimately result in closing off  the anterior chamber.The consequent rise in IOP is transmitted to  the optic disc and is eventually responsible for atrophy and nerve  fiber damage.Owing to the slow progression of the disease, POAG  remains asymptomatic until central vision is affected.It does not  present with headache, eye pain or loss of visual acuity.Diagnosis  is usually incidental during routine funduscopic or optometry  examinations.A cup : disc ratio of 0.6 (glaucomatous cupping), and  central corneal thickness in the presence of risk factors is suggestive  of glaucoma, and requires ophthalmological referral (Figure 2).The progression from POAG to Chronic Angle-Closure Glaucoma  (CACG), requires lifelong treatment.Official general population screening policies do not exist and are  not cost-effective.Measuring IOP has a sensitivity of only 47.1%,  implying that nearly half of patients with POAG will have IOP below  22 mmHg.However, patients with risk factors are encouraged to  undergo annual ophthalmological examinations and additional  IOP measurements.With closed angle glaucoma, a primary hypermetropic anatomical  defect (such as weakened ciliary muscles, naturally small eyes,  narrow angle or thick lens) in the absence of an identifiable  secondary cause, results in the pupil compressing the drainage  canal between the iris and cornea.Compression and narrowing of  the canal reduces or obstructs the outflow of aqueous humour in  passing through the pupil, therefore accumulating in the anterior  chamber (Figure 1).Primary angle closure glaucoma (PACG) is  less common than POAG and accounts for approximately a third  of all cases, with a global incidence of 0.5%.Symptoms of closed  angle glaucoma depend on the degree of angle closure and in  some instances may resolve spontaneously; in which case it may  become chronic.In established disease, vision loss is severe and  permanent.Secondary causes of angle-closure glaucoma include  masses or hemorrhage in the posterior segment of the eyeball or  the presence of a fibrovascular membrane (neovascular glaucoma)  over the anterior chamber angle.Risk factors for angle closure  glaucoma include older age (> 60 years), female gender, Asian  ethnicity, hyperopia and a positive family history.Attacks occur  more frequently at night when diminished light cause mydriasis and  narrowing of the angle.Unexpected closure (acute angle closure  glaucoma, AACG) of the anterior chamber angle due to pupillary  block may result in a sudden rise in IOP.It constitutes a medical  emergency, since permanent blindness and irreversible damage  to the optic nerve may occur.Acute attacks are characterized  by intermittent symptoms such as severe eye pain, nausea and  vomiting, loss of vision, halos around lights, unilateral red tearing  eye, oval shaped non-reactive pupil, a cloudy cornea and the loss  of red reflex (Figure 3).In addition, it is estimated that prescribed, or over-the-counter  pharmacological agents are responsible for at least 30% of acute  angle closure glaucoma.These include antihistamines, cholinergic-  and anticholinergic agents, adrenergic agents, antidepressants,  sulphonamides, anticoagulants and glucocorticosteroids.Table 1  below summarises the mechanism responsible for causing AACG.The goal in treating POAG is to establish and maintain the intra- ocular pressure at a range where visual field loss will have the  least negative impact on the patient’s perceived visual disability.“Various studies have shown that visual field loss in glaucoma has  been  associated with a significant decrease in a person’s vision- related quality of life.This is evident in activities requiring optimal  vision, such as dark adaptation, avoiding unintentional bumping  into objects and outdoor mobility.Determining the target  intraocular pressure needs to be individualised for each patient,  since the measured pressure at diagnosis could be within the normal  range of 8 to 21 mmHg in 30–50% of patients.Aiming for pressures  within these ranges will contribute towards optic nerve damage  and further progression.It is generally accepted that patients with  early disease benefit from a reduction of at least 20% in the baseline  value.A reduction of 30% is recommended in individuals with  more advanced features of POAG.Target IOP should continuously  be re-calculated during monitoring and follow-up assessment  of visual fields and disc and nerve fiber examinations.Reducing  the IOP, however, does not guarantee that progression will not  transpire.The choice of therapy depends on the relative risks and  benefits of available modalities, which include pharmacological  treatment, laser therapy or incisional surgery.Factors such as cost,  dosing, patient’s age, the presence of comorbidities (asthma or  COPD), pregnancy, adherence to treatment and the degree of optic  disc damage should be considered in choosing an appropriate  treatment regimen.In treating AACG, the primary goal is to make the correct diagnosis to  prevent permanent loss of vision.This is achieved by rapid lowering  of the IOP and reversal of the angle closure.Empiric treatment with  topical and systemic aqueous humour suppressants (β blockers  and acetazolamide) reduces the IOP, followed by pilocarpine to  reverse the pupil block.In the absence of available trials comparing  medical options for treatment of AACG, the initial management  usually consists of administering one drop of 0.5% timolol,   1% apraclonidine and 2% pilocarpine one minute apart.This is  followed by intravenous acetazolamide or mannitol.Eye pressure  should be checked every hour until specialist ophthalmological  care can be provided.Pharmacological management is the most common initial  intervention in lowering the IOP, although laser trabeculoplasty  and surgery are frequently used to slow the disease progression.Surgical treatment has no advantage over pharmacological  management in visual field protection, however surgical  interventions attain target IOP in 46% of cases compared to 35% in  those being treated medically.Several agents are available and the primary choice of drug depends  on the degree of pressure lowering which needs to be achieved.It  is recommended to initiate treatment on one type of medication.If an inadequate response in lowering the IOP is observed, the  dose may be adjusted, or a second agent may be added.If the  first agent fails to demonstrate any measureable clinical response,  it should be removed from the regimen and be replaced with an  alternative drug.Pharmacological agents used to lower the IOP  include prostaglandin analogs, carbonic anhydrase inhibitors,  α  adrenergic agonists, cholinergic agonists, β blockers and  hyperosmotic agents.Adequate treatment of glaucoma requires  a high level of adherence.It is estimated that 45% of patients will  default on chronic treatment, if they are not appropriately followed  up and counselled regarding dosage instructions and possible side  effects.Table 2 below summarises the currently available drugs in  South Africa used to lower intraocular pressure.Latanoprost, travoprost and bimatoprost are prostaglandin   F agonists, which increases the uveoscleral outflow of aqueous  humour.It is considered the most potent group of topical ocular  hypotensive agents currently available and may lower baseline IOP  by 25–35%.There are few associated systemic side effects and  mostly relates to headaches.In addition, latanoprost may cause  joint/muscle pain and flu-like symptoms.Local adverse effects  include blurred vision, conjunctival hyperaemia, eye discomfort,  permanent iridial pigmentation, macular edema and thickening of  the eyelashes.Acetazolamide, dorzolamide and brinzolamide are sulphonamide  derivatives  which  reduces  aqueous  humour  production  independent to its diuretic mode of action.Acetazolamide is  administered systemically in the form of oral tablets or intravenous  infusion, and additionally reduces the rate of aqueous inflow up to  50%.Its usefulness is limited to the management of acute closed  angle glaucoma due to unfavourable systemic side effects which  may include paresthesia, nausea, diarrhoea, loss of appetite and  dose related systemic acidosis.Topical application of dorzolamide  and brinzolamide demonstrates an improvement in ocular blood  flow and long-term preservation of visual field.An average reduction  of  15–20% in baseline IOP can be expected.Side effects include  ocular irritation, dry eyes, blurred vision, eyelid inflammation and a  bitter taste.Brimonidine is a selective α2 receptor agonist.It initially reduces  aqueous humour production followed by a subsequent increase  in the uveoscleral outflow, therefore proving to be useful in  preventing a rise in IOP prior to anterior segment laser surgery.Brimonidine reduces baseline IOP with approximately 20%.Apraclonidine reduces the formation of aqueous humour but has  no effect on the facilitation of outflow.It has affinity for both α1  and α2 adreno-receptors and are used to prevent postsurgical  elevation of IOP after anterior segment laser therapy.Apraclonidine  reduces baseline IOP by 30% and is additionally used as adjuvant  therapy in resistant cases of glaucoma.Systemic side effects of the  alpha agonists are related to the central nervous system (headache,  fatigue, insomnia, depression) and respiratory system.Caution  should be taken in patients with cerebral or coronary insufficiency,  postural hypotension and renal or hepatic failure.Hypersensitivity  reactions, ocular irritation, eyelid edema, foreign body sensation  and dry eyes are common with topical use.Pilocarpine is the only available cholinergic agent in the  management of acute closed-angle glaucoma registered in South  Africa.Administration results in the increase in aqueous humour  outflow by contraction of the ciliary muscle and constriction of the  pupil.Poorly tolerated side effects, such as ciliary muscle spasm,  myopia and decreased vision limits its usefulness.Although prostaglandin receptor agonists are the most potent  agents in reducing the IOP, beta blockers are regarded as the first  choice in treating open angle glaucoma.Individual agents differ in  their ability to lower IOP, with betaxolol achieving a 15% decrease,  compared to 20–25% with timolol and levobunolol respectively.Betaxolol is, however, more cardioselective (β1) and therefore has  fewer pulmonary side effects compared to timolol and levobunolol  (which are non-selective antagonists on β1 and β2 receptors).The  mechanism involves a reduction of aqueous humour production  and does not cause miosis or accommodation disturbances  compared to cholinergic agents.The most common adverse effects  are ocular irritation and dry eyes.All the β blockers (including the  cardioselective agents) are contraindicated in patients with asthma,  COPD and bradycardia, unless alternative treatment is unavailable.Several combination agents are available in the treatment of  glaucoma.Most of these combinations include timolol, since  β blockers are still considered first line therapy in open-angle  glaucoma and ocular hypertension.Fixed-dose combination  therapy is more efficacious than its individual components, but still  less efficacious than its respective unfixed combinations.It provides  for simplified treatment regimes and enhances compliance.Fixed  dose combinations containing prostaglandins have a lower risk  in causing hyperemia.Combination of timolol with dorzolamide  is superior in visual field preservation compared to timolol and  brinzolamide.Combination preparations with brimonidine  have less visual disturbances, taste alterations and ocular allergic  reactions compared to the single ingredient product.With the recent attention cannabis has been receiving in the  management of pain and other cancer related conditions, it  is important to remember the favourable effect of its active  ingredient, Δ -tetrahydrocannabinol (THC), in reducing ocular  blood flow.Studies from the 1970s have reported a 30% reduction  in the IOP by inhalation or intravenous administration of THC.The  use is, however, limited owing to the cardiovascular (increased heart  rate and decreased blood pressure) and neurological (tolerance  and addiction) side effects.Topical application does not produce  a significant clinical effect.The use of synthetic cannabinoids may  provide a basis for potential future treatment strategies.General practitioners and family physicians play an important  role in the diagnosis and appropriate referral of patients with  suspected glaucoma.Fundoscopic examinations are quick and  easy to perform and are an opportunity that present at each  consultation.The early recognition of symptoms may improve  outcomes and delay progression.Taking a good medical history  and applying the principles of rational drug use may identify  potential pharmacological causes for glaucoma.Practitioners  prescribing any of the drugs known to cause acute angle glaucoma  should be vigilant in patients presenting with characteristic signs  or symptoms, and immediately refer them to an ophthalmologist.Patients need to be counselled on the associated adverse effects  from glaucoma medication in order to improve adherence.\n",
            "\n",
            "\n",
            "luhn : Glaucoma is a mixed group of eye disorders sharing common  features which typically includes optic disc cupping and visual  field loss, thereby more accurately defined as an optic neuropathy.Optic nerve damage results in progressive retinal ganglionic  cell loss and irreversible blindness, if not treated.Traditionally,  glaucoma has been characterized by the existence of raised  intraocular pressure (IOP), however nerve damage may occur in the  presence of values within the statistically normal range between   8–21 mmHg.Glaucomatous disc and field changes in the absence  of elevated pressure constitutes normal or low tension glaucoma  (LTG).Similarly, conditions exceeding the upper limit of 21 mmHg  may not be associated with signs of visual field loss or optic disc  damage and comprises ocular hypertension.In addition to optic  neuropathy, the two main types of glaucoma (open angle and  closed angle) are described on the appearance of the drainage  system within the eye, including associated increase in the IOP  (Figure 1).Glaucoma is one of the leading causes of blindness worldwide.The main characteristic features include optic disc cupping, visual field  loss, and in most instances a raised intraocular pressure.Primary open angle glaucoma accounts for nearly two thirds of all cases, while  angle closure glaucoma contributes the majority of the remainder.Screening for glaucoma is not cost-effective, and diagnosis of the  primary open angle type is usually an incidental finding during ophthalmological examination.Various treatment options, including  medical and surgical interventions are accessible in the management of glaucoma.This article contains a brief description on the  pathophysiology and focuses on the pharmacological options available in the treatment of glaucoma.Keywords:  Glaucoma, prostaglandin analogs, carbonic anhydrase inhibitors, beta antagonists, alpha 2 adrenergic agonists, cholinergic  agonists Both types can be further divided into primary versus secondary,  and congenital versus acquired.Glaucoma has a global prevalence  of 3.54% in those aged between 40 and 80 years, and is the  second leading cause of irreversible blindness, only superseded  by cataracts.Open angle glaucoma is the highest in Africa (4.2%),  while closed angle glaucoma is more prevalent in Asia (1.09%).Aqueous humour (a transparent, low protein containing fluid) is  continuously secreted by the ciliary epithelium providing structural  support to the lens.This watery fluid is present in both the anterior  and posterior chambers of the eye and drains through a sieve-like  trabecular meshwork located in the angle between the cornea  and the iris.Final drainage out of the eye occurs via the canal of  Schlemm  into the episcleral vein or intrascleral venous plexus  terminating in the ocular veins.In open angle glaucoma, the trabecular meshwork undergoes  morphological changes over time, resulting in progressive  impairment of drainage although it remains anatomically open. (Figure 1) Open angle glaucoma most often affects both eyes,  but asymmetric involvement is not uncommon.Primary open  angle glaucoma (POAG) is the most common type and accounts  for 74% of all glaucoma cases.It is estimated that 57.5 million  people (3.05%) worldwide suffer from POAG.Prevalence among  Black populations is the highest, with 2.1% at age 40 and 12.2% at  age 80 being reported.The incidence in Asian populations (0.8%  at age 40 and 4.3% at age 80), and Caucasians (0.4% at 40 years  and 5.3% at 80 years) suggests an ethno-genetic disease pattern.Although the exact cause of POAG remains unknown, more than  fifty risk factors and secondary causes have been identified.Some of these include diabetes mellitus, migraine headache,  cardiovascular disease, asthma or COPD (inhaled anticholinergics  and glucocorticosteroids), myopia, advanced age and a family  history of first-degree relatives with the same condition.Disease  progression leads to the formation of scar tissue between the iris  and trabecular meshwork and will ultimately result in closing off  the anterior chamber.The consequent rise in IOP is transmitted to  the optic disc and is eventually responsible for atrophy and nerve  fiber damage.Owing to the slow progression of the disease, POAG  remains asymptomatic until central vision is affected.It does not  present with headache, eye pain or loss of visual acuity.Diagnosis  is usually incidental during routine funduscopic or optometry  examinations.A cup : disc ratio of 0.6 (glaucomatous cupping), and  central corneal thickness in the presence of risk factors is suggestive  of glaucoma, and requires ophthalmological referral (Figure 2).The progression from POAG to Chronic Angle-Closure Glaucoma  (CACG), requires lifelong treatment.Official general population screening policies do not exist and are  not cost-effective.Measuring IOP has a sensitivity of only 47.1%,  implying that nearly half of patients with POAG will have IOP below  22 mmHg.However, patients with risk factors are encouraged to  undergo annual ophthalmological examinations and additional  IOP measurements.With closed angle glaucoma, a primary hypermetropic anatomical  defect (such as weakened ciliary muscles, naturally small eyes,  narrow angle or thick lens) in the absence of an identifiable  secondary cause, results in the pupil compressing the drainage  canal between the iris and cornea.Compression and narrowing of  the canal reduces or obstructs the outflow of aqueous humour in  passing through the pupil, therefore accumulating in the anterior  chamber (Figure 1).Primary angle closure glaucoma (PACG) is  less common than POAG and accounts for approximately a third  of all cases, with a global incidence of 0.5%.Symptoms of closed  angle glaucoma depend on the degree of angle closure and in  some instances may resolve spontaneously; in which case it may  become chronic.In established disease, vision loss is severe and  permanent.Secondary causes of angle-closure glaucoma include  masses or hemorrhage in the posterior segment of the eyeball or  the presence of a fibrovascular membrane (neovascular glaucoma)  over the anterior chamber angle.Risk factors for angle closure  glaucoma include older age (> 60 years), female gender, Asian  ethnicity, hyperopia and a positive family history.Attacks occur  more frequently at night when diminished light cause mydriasis and  narrowing of the angle.Unexpected closure (acute angle closure  glaucoma, AACG) of the anterior chamber angle due to pupillary  block may result in a sudden rise in IOP.It constitutes a medical  emergency, since permanent blindness and irreversible damage  to the optic nerve may occur.Acute attacks are characterized  by intermittent symptoms such as severe eye pain, nausea and  vomiting, loss of vision, halos around lights, unilateral red tearing  eye, oval shaped non-reactive pupil, a cloudy cornea and the loss  of red reflex (Figure 3).In addition, it is estimated that prescribed, or over-the-counter  pharmacological agents are responsible for at least 30% of acute  angle closure glaucoma.These include antihistamines, cholinergic-  and anticholinergic agents, adrenergic agents, antidepressants,  sulphonamides, anticoagulants and glucocorticosteroids.Table 1  below summarises the mechanism responsible for causing AACG.The goal in treating POAG is to establish and maintain the intra- ocular pressure at a range where visual field loss will have the  least negative impact on the patient’s perceived visual disability.“Various studies have shown that visual field loss in glaucoma has  been  associated with a significant decrease in a person’s vision- related quality of life.This is evident in activities requiring optimal  vision, such as dark adaptation, avoiding unintentional bumping  into objects and outdoor mobility.Determining the target  intraocular pressure needs to be individualised for each patient,  since the measured pressure at diagnosis could be within the normal  range of 8 to 21 mmHg in 30–50% of patients.Aiming for pressures  within these ranges will contribute towards optic nerve damage  and further progression.It is generally accepted that patients with  early disease benefit from a reduction of at least 20% in the baseline  value.A reduction of 30% is recommended in individuals with  more advanced features of POAG.Target IOP should continuously  be re-calculated during monitoring and follow-up assessment  of visual fields and disc and nerve fiber examinations.Reducing  the IOP, however, does not guarantee that progression will not  transpire.The choice of therapy depends on the relative risks and  benefits of available modalities, which include pharmacological  treatment, laser therapy or incisional surgery.Factors such as cost,  dosing, patient’s age, the presence of comorbidities (asthma or  COPD), pregnancy, adherence to treatment and the degree of optic  disc damage should be considered in choosing an appropriate  treatment regimen.In treating AACG, the primary goal is to make the correct diagnosis to  prevent permanent loss of vision.This is achieved by rapid lowering  of the IOP and reversal of the angle closure.Empiric treatment with  topical and systemic aqueous humour suppressants (β blockers  and acetazolamide) reduces the IOP, followed by pilocarpine to  reverse the pupil block.In the absence of available trials comparing  medical options for treatment of AACG, the initial management  usually consists of administering one drop of 0.5% timolol,   1% apraclonidine and 2% pilocarpine one minute apart.This is  followed by intravenous acetazolamide or mannitol.Eye pressure  should be checked every hour until specialist ophthalmological  care can be provided.Pharmacological management is the most common initial  intervention in lowering the IOP, although laser trabeculoplasty  and surgery are frequently used to slow the disease progression.Surgical treatment has no advantage over pharmacological  management in visual field protection, however surgical  interventions attain target IOP in 46% of cases compared to 35% in  those being treated medically.Several agents are available and the primary choice of drug depends  on the degree of pressure lowering which needs to be achieved.It  is recommended to initiate treatment on one type of medication.If an inadequate response in lowering the IOP is observed, the  dose may be adjusted, or a second agent may be added.If the  first agent fails to demonstrate any measureable clinical response,  it should be removed from the regimen and be replaced with an  alternative drug.Pharmacological agents used to lower the IOP  include prostaglandin analogs, carbonic anhydrase inhibitors,  α  adrenergic agonists, cholinergic agonists, β blockers and  hyperosmotic agents.Adequate treatment of glaucoma requires  a high level of adherence.It is estimated that 45% of patients will  default on chronic treatment, if they are not appropriately followed  up and counselled regarding dosage instructions and possible side  effects.Table 2 below summarises the currently available drugs in  South Africa used to lower intraocular pressure.Latanoprost, travoprost and bimatoprost are prostaglandin   F agonists, which increases the uveoscleral outflow of aqueous  humour.It is considered the most potent group of topical ocular  hypotensive agents currently available and may lower baseline IOP  by 25–35%.There are few associated systemic side effects and  mostly relates to headaches.In addition, latanoprost may cause  joint/muscle pain and flu-like symptoms.Local adverse effects  include blurred vision, conjunctival hyperaemia, eye discomfort,  permanent iridial pigmentation, macular edema and thickening of  the eyelashes.Acetazolamide, dorzolamide and brinzolamide are sulphonamide  derivatives  which  reduces  aqueous  humour  production  independent to its diuretic mode of action.Acetazolamide is  administered systemically in the form of oral tablets or intravenous  infusion, and additionally reduces the rate of aqueous inflow up to  50%.Its usefulness is limited to the management of acute closed  angle glaucoma due to unfavourable systemic side effects which  may include paresthesia, nausea, diarrhoea, loss of appetite and  dose related systemic acidosis.Topical application of dorzolamide  and brinzolamide demonstrates an improvement in ocular blood  flow and long-term preservation of visual field.An average reduction  of  15–20% in baseline IOP can be expected.Side effects include  ocular irritation, dry eyes, blurred vision, eyelid inflammation and a  bitter taste.Brimonidine is a selective α2 receptor agonist.It initially reduces  aqueous humour production followed by a subsequent increase  in the uveoscleral outflow, therefore proving to be useful in  preventing a rise in IOP prior to anterior segment laser surgery.Brimonidine reduces baseline IOP with approximately 20%.Apraclonidine reduces the formation of aqueous humour but has  no effect on the facilitation of outflow.It has affinity for both α1  and α2 adreno-receptors and are used to prevent postsurgical  elevation of IOP after anterior segment laser therapy.Apraclonidine  reduces baseline IOP by 30% and is additionally used as adjuvant  therapy in resistant cases of glaucoma.Systemic side effects of the  alpha agonists are related to the central nervous system (headache,  fatigue, insomnia, depression) and respiratory system.Caution  should be taken in patients with cerebral or coronary insufficiency,  postural hypotension and renal or hepatic failure.Hypersensitivity  reactions, ocular irritation, eyelid edema, foreign body sensation  and dry eyes are common with topical use.Pilocarpine is the only available cholinergic agent in the  management of acute closed-angle glaucoma registered in South  Africa.Administration results in the increase in aqueous humour  outflow by contraction of the ciliary muscle and constriction of the  pupil.Poorly tolerated side effects, such as ciliary muscle spasm,  myopia and decreased vision limits its usefulness.Although prostaglandin receptor agonists are the most potent  agents in reducing the IOP, beta blockers are regarded as the first  choice in treating open angle glaucoma.Individual agents differ in  their ability to lower IOP, with betaxolol achieving a 15% decrease,  compared to 20–25% with timolol and levobunolol respectively.Betaxolol is, however, more cardioselective (β1) and therefore has  fewer pulmonary side effects compared to timolol and levobunolol  (which are non-selective antagonists on β1 and β2 receptors).The  mechanism involves a reduction of aqueous humour production  and does not cause miosis or accommodation disturbances  compared to cholinergic agents.The most common adverse effects  are ocular irritation and dry eyes.All the β blockers (including the  cardioselective agents) are contraindicated in patients with asthma,  COPD and bradycardia, unless alternative treatment is unavailable.Several combination agents are available in the treatment of  glaucoma.Most of these combinations include timolol, since  β blockers are still considered first line therapy in open-angle  glaucoma and ocular hypertension.Fixed-dose combination  therapy is more efficacious than its individual components, but still  less efficacious than its respective unfixed combinations.It provides  for simplified treatment regimes and enhances compliance.Fixed  dose combinations containing prostaglandins have a lower risk  in causing hyperemia.Combination of timolol with dorzolamide  is superior in visual field preservation compared to timolol and  brinzolamide.Combination preparations with brimonidine  have less visual disturbances, taste alterations and ocular allergic  reactions compared to the single ingredient product.With the recent attention cannabis has been receiving in the  management of pain and other cancer related conditions, it  is important to remember the favourable effect of its active  ingredient, Δ -tetrahydrocannabinol (THC), in reducing ocular  blood flow.Studies from the 1970s have reported a 30% reduction  in the IOP by inhalation or intravenous administration of THC.The  use is, however, limited owing to the cardiovascular (increased heart  rate and decreased blood pressure) and neurological (tolerance  and addiction) side effects.Topical application does not produce  a significant clinical effect.The use of synthetic cannabinoids may  provide a basis for potential future treatment strategies.General practitioners and family physicians play an important  role in the diagnosis and appropriate referral of patients with  suspected glaucoma.Fundoscopic examinations are quick and  easy to perform and are an opportunity that present at each  consultation.The early recognition of symptoms may improve  outcomes and delay progression.Taking a good medical history  and applying the principles of rational drug use may identify  potential pharmacological causes for glaucoma.Practitioners  prescribing any of the drugs known to cause acute angle glaucoma  should be vigilant in patients presenting with characteristic signs  or symptoms, and immediately refer them to an ophthalmologist.Patients need to be counselled on the associated adverse effects  from glaucoma medication in order to improve adherence.\n",
            "\n",
            "\n",
            "edmundson : Glaucoma is a mixed group of eye disorders sharing common  features which typically includes optic disc cupping and visual  field loss, thereby more accurately defined as an optic neuropathy.Optic nerve damage results in progressive retinal ganglionic  cell loss and irreversible blindness, if not treated.Traditionally,  glaucoma has been characterized by the existence of raised  intraocular pressure (IOP), however nerve damage may occur in the  presence of values within the statistically normal range between   8–21 mmHg.Glaucomatous disc and field changes in the absence  of elevated pressure constitutes normal or low tension glaucoma  (LTG).Similarly, conditions exceeding the upper limit of 21 mmHg  may not be associated with signs of visual field loss or optic disc  damage and comprises ocular hypertension.In addition to optic  neuropathy, the two main types of glaucoma (open angle and  closed angle) are described on the appearance of the drainage  system within the eye, including associated increase in the IOP  (Figure 1).Glaucoma is one of the leading causes of blindness worldwide.The main characteristic features include optic disc cupping, visual field  loss, and in most instances a raised intraocular pressure.Primary open angle glaucoma accounts for nearly two thirds of all cases, while  angle closure glaucoma contributes the majority of the remainder.Screening for glaucoma is not cost-effective, and diagnosis of the  primary open angle type is usually an incidental finding during ophthalmological examination.Various treatment options, including  medical and surgical interventions are accessible in the management of glaucoma.This article contains a brief description on the  pathophysiology and focuses on the pharmacological options available in the treatment of glaucoma.Keywords:  Glaucoma, prostaglandin analogs, carbonic anhydrase inhibitors, beta antagonists, alpha 2 adrenergic agonists, cholinergic  agonists Both types can be further divided into primary versus secondary,  and congenital versus acquired.Glaucoma has a global prevalence  of 3.54% in those aged between 40 and 80 years, and is the  second leading cause of irreversible blindness, only superseded  by cataracts.Open angle glaucoma is the highest in Africa (4.2%),  while closed angle glaucoma is more prevalent in Asia (1.09%).Aqueous humour (a transparent, low protein containing fluid) is  continuously secreted by the ciliary epithelium providing structural  support to the lens.This watery fluid is present in both the anterior  and posterior chambers of the eye and drains through a sieve-like  trabecular meshwork located in the angle between the cornea  and the iris.Final drainage out of the eye occurs via the canal of  Schlemm  into the episcleral vein or intrascleral venous plexus  terminating in the ocular veins.In open angle glaucoma, the trabecular meshwork undergoes  morphological changes over time, resulting in progressive  impairment of drainage although it remains anatomically open. (Figure 1) Open angle glaucoma most often affects both eyes,  but asymmetric involvement is not uncommon.Primary open  angle glaucoma (POAG) is the most common type and accounts  for 74% of all glaucoma cases.It is estimated that 57.5 million  people (3.05%) worldwide suffer from POAG.Prevalence among  Black populations is the highest, with 2.1% at age 40 and 12.2% at  age 80 being reported.The incidence in Asian populations (0.8%  at age 40 and 4.3% at age 80), and Caucasians (0.4% at 40 years  and 5.3% at 80 years) suggests an ethno-genetic disease pattern.Although the exact cause of POAG remains unknown, more than  fifty risk factors and secondary causes have been identified.Some of these include diabetes mellitus, migraine headache,  cardiovascular disease, asthma or COPD (inhaled anticholinergics  and glucocorticosteroids), myopia, advanced age and a family  history of first-degree relatives with the same condition.Disease  progression leads to the formation of scar tissue between the iris  and trabecular meshwork and will ultimately result in closing off  the anterior chamber.The consequent rise in IOP is transmitted to  the optic disc and is eventually responsible for atrophy and nerve  fiber damage.Owing to the slow progression of the disease, POAG  remains asymptomatic until central vision is affected.It does not  present with headache, eye pain or loss of visual acuity.Diagnosis  is usually incidental during routine funduscopic or optometry  examinations.A cup : disc ratio of 0.6 (glaucomatous cupping), and  central corneal thickness in the presence of risk factors is suggestive  of glaucoma, and requires ophthalmological referral (Figure 2).The progression from POAG to Chronic Angle-Closure Glaucoma  (CACG), requires lifelong treatment.Official general population screening policies do not exist and are  not cost-effective.Measuring IOP has a sensitivity of only 47.1%,  implying that nearly half of patients with POAG will have IOP below  22 mmHg.However, patients with risk factors are encouraged to  undergo annual ophthalmological examinations and additional  IOP measurements.With closed angle glaucoma, a primary hypermetropic anatomical  defect (such as weakened ciliary muscles, naturally small eyes,  narrow angle or thick lens) in the absence of an identifiable  secondary cause, results in the pupil compressing the drainage  canal between the iris and cornea.Compression and narrowing of  the canal reduces or obstructs the outflow of aqueous humour in  passing through the pupil, therefore accumulating in the anterior  chamber (Figure 1).Primary angle closure glaucoma (PACG) is  less common than POAG and accounts for approximately a third  of all cases, with a global incidence of 0.5%.Symptoms of closed  angle glaucoma depend on the degree of angle closure and in  some instances may resolve spontaneously; in which case it may  become chronic.In established disease, vision loss is severe and  permanent.Secondary causes of angle-closure glaucoma include  masses or hemorrhage in the posterior segment of the eyeball or  the presence of a fibrovascular membrane (neovascular glaucoma)  over the anterior chamber angle.Risk factors for angle closure  glaucoma include older age (> 60 years), female gender, Asian  ethnicity, hyperopia and a positive family history.Attacks occur  more frequently at night when diminished light cause mydriasis and  narrowing of the angle.Unexpected closure (acute angle closure  glaucoma, AACG) of the anterior chamber angle due to pupillary  block may result in a sudden rise in IOP.It constitutes a medical  emergency, since permanent blindness and irreversible damage  to the optic nerve may occur.Acute attacks are characterized  by intermittent symptoms such as severe eye pain, nausea and  vomiting, loss of vision, halos around lights, unilateral red tearing  eye, oval shaped non-reactive pupil, a cloudy cornea and the loss  of red reflex (Figure 3).In addition, it is estimated that prescribed, or over-the-counter  pharmacological agents are responsible for at least 30% of acute  angle closure glaucoma.These include antihistamines, cholinergic-  and anticholinergic agents, adrenergic agents, antidepressants,  sulphonamides, anticoagulants and glucocorticosteroids.Table 1  below summarises the mechanism responsible for causing AACG.The goal in treating POAG is to establish and maintain the intra- ocular pressure at a range where visual field loss will have the  least negative impact on the patient’s perceived visual disability.“Various studies have shown that visual field loss in glaucoma has  been  associated with a significant decrease in a person’s vision- related quality of life.This is evident in activities requiring optimal  vision, such as dark adaptation, avoiding unintentional bumping  into objects and outdoor mobility.Determining the target  intraocular pressure needs to be individualised for each patient,  since the measured pressure at diagnosis could be within the normal  range of 8 to 21 mmHg in 30–50% of patients.Aiming for pressures  within these ranges will contribute towards optic nerve damage  and further progression.It is generally accepted that patients with  early disease benefit from a reduction of at least 20% in the baseline  value.A reduction of 30% is recommended in individuals with  more advanced features of POAG.Target IOP should continuously  be re-calculated during monitoring and follow-up assessment  of visual fields and disc and nerve fiber examinations.Reducing  the IOP, however, does not guarantee that progression will not  transpire.The choice of therapy depends on the relative risks and  benefits of available modalities, which include pharmacological  treatment, laser therapy or incisional surgery.Factors such as cost,  dosing, patient’s age, the presence of comorbidities (asthma or  COPD), pregnancy, adherence to treatment and the degree of optic  disc damage should be considered in choosing an appropriate  treatment regimen.In treating AACG, the primary goal is to make the correct diagnosis to  prevent permanent loss of vision.This is achieved by rapid lowering  of the IOP and reversal of the angle closure.Empiric treatment with  topical and systemic aqueous humour suppressants (β blockers  and acetazolamide) reduces the IOP, followed by pilocarpine to  reverse the pupil block.In the absence of available trials comparing  medical options for treatment of AACG, the initial management  usually consists of administering one drop of 0.5% timolol,   1% apraclonidine and 2% pilocarpine one minute apart.This is  followed by intravenous acetazolamide or mannitol.Eye pressure  should be checked every hour until specialist ophthalmological  care can be provided.Pharmacological management is the most common initial  intervention in lowering the IOP, although laser trabeculoplasty  and surgery are frequently used to slow the disease progression.Surgical treatment has no advantage over pharmacological  management in visual field protection, however surgical  interventions attain target IOP in 46% of cases compared to 35% in  those being treated medically.Several agents are available and the primary choice of drug depends  on the degree of pressure lowering which needs to be achieved.It  is recommended to initiate treatment on one type of medication.If an inadequate response in lowering the IOP is observed, the  dose may be adjusted, or a second agent may be added.If the  first agent fails to demonstrate any measureable clinical response,  it should be removed from the regimen and be replaced with an  alternative drug.Pharmacological agents used to lower the IOP  include prostaglandin analogs, carbonic anhydrase inhibitors,  α  adrenergic agonists, cholinergic agonists, β blockers and  hyperosmotic agents.Adequate treatment of glaucoma requires  a high level of adherence.It is estimated that 45% of patients will  default on chronic treatment, if they are not appropriately followed  up and counselled regarding dosage instructions and possible side  effects.Table 2 below summarises the currently available drugs in  South Africa used to lower intraocular pressure.Latanoprost, travoprost and bimatoprost are prostaglandin   F agonists, which increases the uveoscleral outflow of aqueous  humour.It is considered the most potent group of topical ocular  hypotensive agents currently available and may lower baseline IOP  by 25–35%.There are few associated systemic side effects and  mostly relates to headaches.In addition, latanoprost may cause  joint/muscle pain and flu-like symptoms.Local adverse effects  include blurred vision, conjunctival hyperaemia, eye discomfort,  permanent iridial pigmentation, macular edema and thickening of  the eyelashes.Acetazolamide, dorzolamide and brinzolamide are sulphonamide  derivatives  which  reduces  aqueous  humour  production  independent to its diuretic mode of action.Acetazolamide is  administered systemically in the form of oral tablets or intravenous  infusion, and additionally reduces the rate of aqueous inflow up to  50%.Its usefulness is limited to the management of acute closed  angle glaucoma due to unfavourable systemic side effects which  may include paresthesia, nausea, diarrhoea, loss of appetite and  dose related systemic acidosis.Topical application of dorzolamide  and brinzolamide demonstrates an improvement in ocular blood  flow and long-term preservation of visual field.An average reduction  of  15–20% in baseline IOP can be expected.Side effects include  ocular irritation, dry eyes, blurred vision, eyelid inflammation and a  bitter taste.Brimonidine is a selective α2 receptor agonist.It initially reduces  aqueous humour production followed by a subsequent increase  in the uveoscleral outflow, therefore proving to be useful in  preventing a rise in IOP prior to anterior segment laser surgery.Brimonidine reduces baseline IOP with approximately 20%.Apraclonidine reduces the formation of aqueous humour but has  no effect on the facilitation of outflow.It has affinity for both α1  and α2 adreno-receptors and are used to prevent postsurgical  elevation of IOP after anterior segment laser therapy.Apraclonidine  reduces baseline IOP by 30% and is additionally used as adjuvant  therapy in resistant cases of glaucoma.Systemic side effects of the  alpha agonists are related to the central nervous system (headache,  fatigue, insomnia, depression) and respiratory system.Caution  should be taken in patients with cerebral or coronary insufficiency,  postural hypotension and renal or hepatic failure.Hypersensitivity  reactions, ocular irritation, eyelid edema, foreign body sensation  and dry eyes are common with topical use.Pilocarpine is the only available cholinergic agent in the  management of acute closed-angle glaucoma registered in South  Africa.Administration results in the increase in aqueous humour  outflow by contraction of the ciliary muscle and constriction of the  pupil.Poorly tolerated side effects, such as ciliary muscle spasm,  myopia and decreased vision limits its usefulness.Although prostaglandin receptor agonists are the most potent  agents in reducing the IOP, beta blockers are regarded as the first  choice in treating open angle glaucoma.Individual agents differ in  their ability to lower IOP, with betaxolol achieving a 15% decrease,  compared to 20–25% with timolol and levobunolol respectively.Betaxolol is, however, more cardioselective (β1) and therefore has  fewer pulmonary side effects compared to timolol and levobunolol  (which are non-selective antagonists on β1 and β2 receptors).The  mechanism involves a reduction of aqueous humour production  and does not cause miosis or accommodation disturbances  compared to cholinergic agents.The most common adverse effects  are ocular irritation and dry eyes.All the β blockers (including the  cardioselective agents) are contraindicated in patients with asthma,  COPD and bradycardia, unless alternative treatment is unavailable.Several combination agents are available in the treatment of  glaucoma.Most of these combinations include timolol, since  β blockers are still considered first line therapy in open-angle  glaucoma and ocular hypertension.Fixed-dose combination  therapy is more efficacious than its individual components, but still  less efficacious than its respective unfixed combinations.It provides  for simplified treatment regimes and enhances compliance.Fixed  dose combinations containing prostaglandins have a lower risk  in causing hyperemia.Combination of timolol with dorzolamide  is superior in visual field preservation compared to timolol and  brinzolamide.Combination preparations with brimonidine  have less visual disturbances, taste alterations and ocular allergic  reactions compared to the single ingredient product.With the recent attention cannabis has been receiving in the  management of pain and other cancer related conditions, it  is important to remember the favourable effect of its active  ingredient, Δ -tetrahydrocannabinol (THC), in reducing ocular  blood flow.Studies from the 1970s have reported a 30% reduction  in the IOP by inhalation or intravenous administration of THC.The  use is, however, limited owing to the cardiovascular (increased heart  rate and decreased blood pressure) and neurological (tolerance  and addiction) side effects.Topical application does not produce  a significant clinical effect.The use of synthetic cannabinoids may  provide a basis for potential future treatment strategies.General practitioners and family physicians play an important  role in the diagnosis and appropriate referral of patients with  suspected glaucoma.Fundoscopic examinations are quick and  easy to perform and are an opportunity that present at each  consultation.The early recognition of symptoms may improve  outcomes and delay progression.Taking a good medical history  and applying the principles of rational drug use may identify  potential pharmacological causes for glaucoma.Practitioners  prescribing any of the drugs known to cause acute angle glaucoma  should be vigilant in patients presenting with characteristic signs  or symptoms, and immediately refer them to an ophthalmologist.Patients need to be counselled on the associated adverse effects  from glaucoma medication in order to improve adherence.\n",
            "\n",
            "\n",
            "text-rank : Glaucoma is a mixed group of eye disorders sharing common  features which typically includes optic disc cupping and visual  field loss, thereby more accurately defined as an optic neuropathy.Optic nerve damage results in progressive retinal ganglionic  cell loss and irreversible blindness, if not treated.Traditionally,  glaucoma has been characterized by the existence of raised  intraocular pressure (IOP), however nerve damage may occur in the  presence of values within the statistically normal range between   8–21 mmHg.Glaucomatous disc and field changes in the absence  of elevated pressure constitutes normal or low tension glaucoma  (LTG).Similarly, conditions exceeding the upper limit of 21 mmHg  may not be associated with signs of visual field loss or optic disc  damage and comprises ocular hypertension.In addition to optic  neuropathy, the two main types of glaucoma (open angle and  closed angle) are described on the appearance of the drainage  system within the eye, including associated increase in the IOP  (Figure 1).Glaucoma is one of the leading causes of blindness worldwide.The main characteristic features include optic disc cupping, visual field  loss, and in most instances a raised intraocular pressure.Primary open angle glaucoma accounts for nearly two thirds of all cases, while  angle closure glaucoma contributes the majority of the remainder.Screening for glaucoma is not cost-effective, and diagnosis of the  primary open angle type is usually an incidental finding during ophthalmological examination.Various treatment options, including  medical and surgical interventions are accessible in the management of glaucoma.This article contains a brief description on the  pathophysiology and focuses on the pharmacological options available in the treatment of glaucoma.Keywords:  Glaucoma, prostaglandin analogs, carbonic anhydrase inhibitors, beta antagonists, alpha 2 adrenergic agonists, cholinergic  agonists Both types can be further divided into primary versus secondary,  and congenital versus acquired.Glaucoma has a global prevalence  of 3.54% in those aged between 40 and 80 years, and is the  second leading cause of irreversible blindness, only superseded  by cataracts.Open angle glaucoma is the highest in Africa (4.2%),  while closed angle glaucoma is more prevalent in Asia (1.09%).Aqueous humour (a transparent, low protein containing fluid) is  continuously secreted by the ciliary epithelium providing structural  support to the lens.This watery fluid is present in both the anterior  and posterior chambers of the eye and drains through a sieve-like  trabecular meshwork located in the angle between the cornea  and the iris.Final drainage out of the eye occurs via the canal of  Schlemm  into the episcleral vein or intrascleral venous plexus  terminating in the ocular veins.In open angle glaucoma, the trabecular meshwork undergoes  morphological changes over time, resulting in progressive  impairment of drainage although it remains anatomically open. (Figure 1) Open angle glaucoma most often affects both eyes,  but asymmetric involvement is not uncommon.Primary open  angle glaucoma (POAG) is the most common type and accounts  for 74% of all glaucoma cases.It is estimated that 57.5 million  people (3.05%) worldwide suffer from POAG.Prevalence among  Black populations is the highest, with 2.1% at age 40 and 12.2% at  age 80 being reported.The incidence in Asian populations (0.8%  at age 40 and 4.3% at age 80), and Caucasians (0.4% at 40 years  and 5.3% at 80 years) suggests an ethno-genetic disease pattern.Although the exact cause of POAG remains unknown, more than  fifty risk factors and secondary causes have been identified.Some of these include diabetes mellitus, migraine headache,  cardiovascular disease, asthma or COPD (inhaled anticholinergics  and glucocorticosteroids), myopia, advanced age and a family  history of first-degree relatives with the same condition.Disease  progression leads to the formation of scar tissue between the iris  and trabecular meshwork and will ultimately result in closing off  the anterior chamber.The consequent rise in IOP is transmitted to  the optic disc and is eventually responsible for atrophy and nerve  fiber damage.Owing to the slow progression of the disease, POAG  remains asymptomatic until central vision is affected.It does not  present with headache, eye pain or loss of visual acuity.Diagnosis  is usually incidental during routine funduscopic or optometry  examinations.A cup : disc ratio of 0.6 (glaucomatous cupping), and  central corneal thickness in the presence of risk factors is suggestive  of glaucoma, and requires ophthalmological referral (Figure 2).The progression from POAG to Chronic Angle-Closure Glaucoma  (CACG), requires lifelong treatment.Official general population screening policies do not exist and are  not cost-effective.Measuring IOP has a sensitivity of only 47.1%,  implying that nearly half of patients with POAG will have IOP below  22 mmHg.However, patients with risk factors are encouraged to  undergo annual ophthalmological examinations and additional  IOP measurements.With closed angle glaucoma, a primary hypermetropic anatomical  defect (such as weakened ciliary muscles, naturally small eyes,  narrow angle or thick lens) in the absence of an identifiable  secondary cause, results in the pupil compressing the drainage  canal between the iris and cornea.Compression and narrowing of  the canal reduces or obstructs the outflow of aqueous humour in  passing through the pupil, therefore accumulating in the anterior  chamber (Figure 1).Primary angle closure glaucoma (PACG) is  less common than POAG and accounts for approximately a third  of all cases, with a global incidence of 0.5%.Symptoms of closed  angle glaucoma depend on the degree of angle closure and in  some instances may resolve spontaneously; in which case it may  become chronic.In established disease, vision loss is severe and  permanent.Secondary causes of angle-closure glaucoma include  masses or hemorrhage in the posterior segment of the eyeball or  the presence of a fibrovascular membrane (neovascular glaucoma)  over the anterior chamber angle.Risk factors for angle closure  glaucoma include older age (> 60 years), female gender, Asian  ethnicity, hyperopia and a positive family history.Attacks occur  more frequently at night when diminished light cause mydriasis and  narrowing of the angle.Unexpected closure (acute angle closure  glaucoma, AACG) of the anterior chamber angle due to pupillary  block may result in a sudden rise in IOP.It constitutes a medical  emergency, since permanent blindness and irreversible damage  to the optic nerve may occur.Acute attacks are characterized  by intermittent symptoms such as severe eye pain, nausea and  vomiting, loss of vision, halos around lights, unilateral red tearing  eye, oval shaped non-reactive pupil, a cloudy cornea and the loss  of red reflex (Figure 3).In addition, it is estimated that prescribed, or over-the-counter  pharmacological agents are responsible for at least 30% of acute  angle closure glaucoma.These include antihistamines, cholinergic-  and anticholinergic agents, adrenergic agents, antidepressants,  sulphonamides, anticoagulants and glucocorticosteroids.Table 1  below summarises the mechanism responsible for causing AACG.The goal in treating POAG is to establish and maintain the intra- ocular pressure at a range where visual field loss will have the  least negative impact on the patient’s perceived visual disability.“Various studies have shown that visual field loss in glaucoma has  been  associated with a significant decrease in a person’s vision- related quality of life.This is evident in activities requiring optimal  vision, such as dark adaptation, avoiding unintentional bumping  into objects and outdoor mobility.Determining the target  intraocular pressure needs to be individualised for each patient,  since the measured pressure at diagnosis could be within the normal  range of 8 to 21 mmHg in 30–50% of patients.Aiming for pressures  within these ranges will contribute towards optic nerve damage  and further progression.It is generally accepted that patients with  early disease benefit from a reduction of at least 20% in the baseline  value.A reduction of 30% is recommended in individuals with  more advanced features of POAG.Target IOP should continuously  be re-calculated during monitoring and follow-up assessment  of visual fields and disc and nerve fiber examinations.Reducing  the IOP, however, does not guarantee that progression will not  transpire.The choice of therapy depends on the relative risks and  benefits of available modalities, which include pharmacological  treatment, laser therapy or incisional surgery.Factors such as cost,  dosing, patient’s age, the presence of comorbidities (asthma or  COPD), pregnancy, adherence to treatment and the degree of optic  disc damage should be considered in choosing an appropriate  treatment regimen.In treating AACG, the primary goal is to make the correct diagnosis to  prevent permanent loss of vision.This is achieved by rapid lowering  of the IOP and reversal of the angle closure.Empiric treatment with  topical and systemic aqueous humour suppressants (β blockers  and acetazolamide) reduces the IOP, followed by pilocarpine to  reverse the pupil block.In the absence of available trials comparing  medical options for treatment of AACG, the initial management  usually consists of administering one drop of 0.5% timolol,   1% apraclonidine and 2% pilocarpine one minute apart.This is  followed by intravenous acetazolamide or mannitol.Eye pressure  should be checked every hour until specialist ophthalmological  care can be provided.Pharmacological management is the most common initial  intervention in lowering the IOP, although laser trabeculoplasty  and surgery are frequently used to slow the disease progression.Surgical treatment has no advantage over pharmacological  management in visual field protection, however surgical  interventions attain target IOP in 46% of cases compared to 35% in  those being treated medically.Several agents are available and the primary choice of drug depends  on the degree of pressure lowering which needs to be achieved.It  is recommended to initiate treatment on one type of medication.If an inadequate response in lowering the IOP is observed, the  dose may be adjusted, or a second agent may be added.If the  first agent fails to demonstrate any measureable clinical response,  it should be removed from the regimen and be replaced with an  alternative drug.Pharmacological agents used to lower the IOP  include prostaglandin analogs, carbonic anhydrase inhibitors,  α  adrenergic agonists, cholinergic agonists, β blockers and  hyperosmotic agents.Adequate treatment of glaucoma requires  a high level of adherence.It is estimated that 45% of patients will  default on chronic treatment, if they are not appropriately followed  up and counselled regarding dosage instructions and possible side  effects.Table 2 below summarises the currently available drugs in  South Africa used to lower intraocular pressure.Latanoprost, travoprost and bimatoprost are prostaglandin   F agonists, which increases the uveoscleral outflow of aqueous  humour.It is considered the most potent group of topical ocular  hypotensive agents currently available and may lower baseline IOP  by 25–35%.There are few associated systemic side effects and  mostly relates to headaches.In addition, latanoprost may cause  joint/muscle pain and flu-like symptoms.Local adverse effects  include blurred vision, conjunctival hyperaemia, eye discomfort,  permanent iridial pigmentation, macular edema and thickening of  the eyelashes.Acetazolamide, dorzolamide and brinzolamide are sulphonamide  derivatives  which  reduces  aqueous  humour  production  independent to its diuretic mode of action.Acetazolamide is  administered systemically in the form of oral tablets or intravenous  infusion, and additionally reduces the rate of aqueous inflow up to  50%.Its usefulness is limited to the management of acute closed  angle glaucoma due to unfavourable systemic side effects which  may include paresthesia, nausea, diarrhoea, loss of appetite and  dose related systemic acidosis.Topical application of dorzolamide  and brinzolamide demonstrates an improvement in ocular blood  flow and long-term preservation of visual field.An average reduction  of  15–20% in baseline IOP can be expected.Side effects include  ocular irritation, dry eyes, blurred vision, eyelid inflammation and a  bitter taste.Brimonidine is a selective α2 receptor agonist.It initially reduces  aqueous humour production followed by a subsequent increase  in the uveoscleral outflow, therefore proving to be useful in  preventing a rise in IOP prior to anterior segment laser surgery.Brimonidine reduces baseline IOP with approximately 20%.Apraclonidine reduces the formation of aqueous humour but has  no effect on the facilitation of outflow.It has affinity for both α1  and α2 adreno-receptors and are used to prevent postsurgical  elevation of IOP after anterior segment laser therapy.Apraclonidine  reduces baseline IOP by 30% and is additionally used as adjuvant  therapy in resistant cases of glaucoma.Systemic side effects of the  alpha agonists are related to the central nervous system (headache,  fatigue, insomnia, depression) and respiratory system.Caution  should be taken in patients with cerebral or coronary insufficiency,  postural hypotension and renal or hepatic failure.Hypersensitivity  reactions, ocular irritation, eyelid edema, foreign body sensation  and dry eyes are common with topical use.Pilocarpine is the only available cholinergic agent in the  management of acute closed-angle glaucoma registered in South  Africa.Administration results in the increase in aqueous humour  outflow by contraction of the ciliary muscle and constriction of the  pupil.Poorly tolerated side effects, such as ciliary muscle spasm,  myopia and decreased vision limits its usefulness.Although prostaglandin receptor agonists are the most potent  agents in reducing the IOP, beta blockers are regarded as the first  choice in treating open angle glaucoma.Individual agents differ in  their ability to lower IOP, with betaxolol achieving a 15% decrease,  compared to 20–25% with timolol and levobunolol respectively.Betaxolol is, however, more cardioselective (β1) and therefore has  fewer pulmonary side effects compared to timolol and levobunolol  (which are non-selective antagonists on β1 and β2 receptors).The  mechanism involves a reduction of aqueous humour production  and does not cause miosis or accommodation disturbances  compared to cholinergic agents.The most common adverse effects  are ocular irritation and dry eyes.All the β blockers (including the  cardioselective agents) are contraindicated in patients with asthma,  COPD and bradycardia, unless alternative treatment is unavailable.Several combination agents are available in the treatment of  glaucoma.Most of these combinations include timolol, since  β blockers are still considered first line therapy in open-angle  glaucoma and ocular hypertension.Fixed-dose combination  therapy is more efficacious than its individual components, but still  less efficacious than its respective unfixed combinations.It provides  for simplified treatment regimes and enhances compliance.Fixed  dose combinations containing prostaglandins have a lower risk  in causing hyperemia.Combination of timolol with dorzolamide  is superior in visual field preservation compared to timolol and  brinzolamide.Combination preparations with brimonidine  have less visual disturbances, taste alterations and ocular allergic  reactions compared to the single ingredient product.With the recent attention cannabis has been receiving in the  management of pain and other cancer related conditions, it  is important to remember the favourable effect of its active  ingredient, Δ -tetrahydrocannabinol (THC), in reducing ocular  blood flow.Studies from the 1970s have reported a 30% reduction  in the IOP by inhalation or intravenous administration of THC.The  use is, however, limited owing to the cardiovascular (increased heart  rate and decreased blood pressure) and neurological (tolerance  and addiction) side effects.Topical application does not produce  a significant clinical effect.The use of synthetic cannabinoids may  provide a basis for potential future treatment strategies.General practitioners and family physicians play an important  role in the diagnosis and appropriate referral of patients with  suspected glaucoma.Fundoscopic examinations are quick and  easy to perform and are an opportunity that present at each  consultation.The early recognition of symptoms may improve  outcomes and delay progression.Taking a good medical history  and applying the principles of rational drug use may identify  potential pharmacological causes for glaucoma.Practitioners  prescribing any of the drugs known to cause acute angle glaucoma  should be vigilant in patients presenting with characteristic signs  or symptoms, and immediately refer them to an ophthalmologist.Patients need to be counselled on the associated adverse effects  from glaucoma medication in order to improve adherence.\n",
            "\n",
            "\n",
            "lex-rank : Glaucoma is a mixed group of eye disorders sharing common  features which typically includes optic disc cupping and visual  field loss, thereby more accurately defined as an optic neuropathy.Optic nerve damage results in progressive retinal ganglionic  cell loss and irreversible blindness, if not treated.Traditionally,  glaucoma has been characterized by the existence of raised  intraocular pressure (IOP), however nerve damage may occur in the  presence of values within the statistically normal range between   8–21 mmHg.Glaucomatous disc and field changes in the absence  of elevated pressure constitutes normal or low tension glaucoma  (LTG).Similarly, conditions exceeding the upper limit of 21 mmHg  may not be associated with signs of visual field loss or optic disc  damage and comprises ocular hypertension.In addition to optic  neuropathy, the two main types of glaucoma (open angle and  closed angle) are described on the appearance of the drainage  system within the eye, including associated increase in the IOP  (Figure 1).Glaucoma is one of the leading causes of blindness worldwide.The main characteristic features include optic disc cupping, visual field  loss, and in most instances a raised intraocular pressure.Primary open angle glaucoma accounts for nearly two thirds of all cases, while  angle closure glaucoma contributes the majority of the remainder.Screening for glaucoma is not cost-effective, and diagnosis of the  primary open angle type is usually an incidental finding during ophthalmological examination.Various treatment options, including  medical and surgical interventions are accessible in the management of glaucoma.This article contains a brief description on the  pathophysiology and focuses on the pharmacological options available in the treatment of glaucoma.Keywords:  Glaucoma, prostaglandin analogs, carbonic anhydrase inhibitors, beta antagonists, alpha 2 adrenergic agonists, cholinergic  agonists Both types can be further divided into primary versus secondary,  and congenital versus acquired.Glaucoma has a global prevalence  of 3.54% in those aged between 40 and 80 years, and is the  second leading cause of irreversible blindness, only superseded  by cataracts.Open angle glaucoma is the highest in Africa (4.2%),  while closed angle glaucoma is more prevalent in Asia (1.09%).Aqueous humour (a transparent, low protein containing fluid) is  continuously secreted by the ciliary epithelium providing structural  support to the lens.This watery fluid is present in both the anterior  and posterior chambers of the eye and drains through a sieve-like  trabecular meshwork located in the angle between the cornea  and the iris.Final drainage out of the eye occurs via the canal of  Schlemm  into the episcleral vein or intrascleral venous plexus  terminating in the ocular veins.In open angle glaucoma, the trabecular meshwork undergoes  morphological changes over time, resulting in progressive  impairment of drainage although it remains anatomically open. (Figure 1) Open angle glaucoma most often affects both eyes,  but asymmetric involvement is not uncommon.Primary open  angle glaucoma (POAG) is the most common type and accounts  for 74% of all glaucoma cases.It is estimated that 57.5 million  people (3.05%) worldwide suffer from POAG.Prevalence among  Black populations is the highest, with 2.1% at age 40 and 12.2% at  age 80 being reported.The incidence in Asian populations (0.8%  at age 40 and 4.3% at age 80), and Caucasians (0.4% at 40 years  and 5.3% at 80 years) suggests an ethno-genetic disease pattern.Although the exact cause of POAG remains unknown, more than  fifty risk factors and secondary causes have been identified.Some of these include diabetes mellitus, migraine headache,  cardiovascular disease, asthma or COPD (inhaled anticholinergics  and glucocorticosteroids), myopia, advanced age and a family  history of first-degree relatives with the same condition.Disease  progression leads to the formation of scar tissue between the iris  and trabecular meshwork and will ultimately result in closing off  the anterior chamber.The consequent rise in IOP is transmitted to  the optic disc and is eventually responsible for atrophy and nerve  fiber damage.Owing to the slow progression of the disease, POAG  remains asymptomatic until central vision is affected.It does not  present with headache, eye pain or loss of visual acuity.Diagnosis  is usually incidental during routine funduscopic or optometry  examinations.A cup : disc ratio of 0.6 (glaucomatous cupping), and  central corneal thickness in the presence of risk factors is suggestive  of glaucoma, and requires ophthalmological referral (Figure 2).The progression from POAG to Chronic Angle-Closure Glaucoma  (CACG), requires lifelong treatment.Official general population screening policies do not exist and are  not cost-effective.Measuring IOP has a sensitivity of only 47.1%,  implying that nearly half of patients with POAG will have IOP below  22 mmHg.However, patients with risk factors are encouraged to  undergo annual ophthalmological examinations and additional  IOP measurements.With closed angle glaucoma, a primary hypermetropic anatomical  defect (such as weakened ciliary muscles, naturally small eyes,  narrow angle or thick lens) in the absence of an identifiable  secondary cause, results in the pupil compressing the drainage  canal between the iris and cornea.Compression and narrowing of  the canal reduces or obstructs the outflow of aqueous humour in  passing through the pupil, therefore accumulating in the anterior  chamber (Figure 1).Primary angle closure glaucoma (PACG) is  less common than POAG and accounts for approximately a third  of all cases, with a global incidence of 0.5%.Symptoms of closed  angle glaucoma depend on the degree of angle closure and in  some instances may resolve spontaneously; in which case it may  become chronic.In established disease, vision loss is severe and  permanent.Secondary causes of angle-closure glaucoma include  masses or hemorrhage in the posterior segment of the eyeball or  the presence of a fibrovascular membrane (neovascular glaucoma)  over the anterior chamber angle.Risk factors for angle closure  glaucoma include older age (> 60 years), female gender, Asian  ethnicity, hyperopia and a positive family history.Attacks occur  more frequently at night when diminished light cause mydriasis and  narrowing of the angle.Unexpected closure (acute angle closure  glaucoma, AACG) of the anterior chamber angle due to pupillary  block may result in a sudden rise in IOP.It constitutes a medical  emergency, since permanent blindness and irreversible damage  to the optic nerve may occur.Acute attacks are characterized  by intermittent symptoms such as severe eye pain, nausea and  vomiting, loss of vision, halos around lights, unilateral red tearing  eye, oval shaped non-reactive pupil, a cloudy cornea and the loss  of red reflex (Figure 3).In addition, it is estimated that prescribed, or over-the-counter  pharmacological agents are responsible for at least 30% of acute  angle closure glaucoma.These include antihistamines, cholinergic-  and anticholinergic agents, adrenergic agents, antidepressants,  sulphonamides, anticoagulants and glucocorticosteroids.Table 1  below summarises the mechanism responsible for causing AACG.The goal in treating POAG is to establish and maintain the intra- ocular pressure at a range where visual field loss will have the  least negative impact on the patient’s perceived visual disability.“Various studies have shown that visual field loss in glaucoma has  been  associated with a significant decrease in a person’s vision- related quality of life.This is evident in activities requiring optimal  vision, such as dark adaptation, avoiding unintentional bumping  into objects and outdoor mobility.Determining the target  intraocular pressure needs to be individualised for each patient,  since the measured pressure at diagnosis could be within the normal  range of 8 to 21 mmHg in 30–50% of patients.Aiming for pressures  within these ranges will contribute towards optic nerve damage  and further progression.It is generally accepted that patients with  early disease benefit from a reduction of at least 20% in the baseline  value.A reduction of 30% is recommended in individuals with  more advanced features of POAG.Target IOP should continuously  be re-calculated during monitoring and follow-up assessment  of visual fields and disc and nerve fiber examinations.Reducing  the IOP, however, does not guarantee that progression will not  transpire.The choice of therapy depends on the relative risks and  benefits of available modalities, which include pharmacological  treatment, laser therapy or incisional surgery.Factors such as cost,  dosing, patient’s age, the presence of comorbidities (asthma or  COPD), pregnancy, adherence to treatment and the degree of optic  disc damage should be considered in choosing an appropriate  treatment regimen.In treating AACG, the primary goal is to make the correct diagnosis to  prevent permanent loss of vision.This is achieved by rapid lowering  of the IOP and reversal of the angle closure.Empiric treatment with  topical and systemic aqueous humour suppressants (β blockers  and acetazolamide) reduces the IOP, followed by pilocarpine to  reverse the pupil block.In the absence of available trials comparing  medical options for treatment of AACG, the initial management  usually consists of administering one drop of 0.5% timolol,   1% apraclonidine and 2% pilocarpine one minute apart.This is  followed by intravenous acetazolamide or mannitol.Eye pressure  should be checked every hour until specialist ophthalmological  care can be provided.Pharmacological management is the most common initial  intervention in lowering the IOP, although laser trabeculoplasty  and surgery are frequently used to slow the disease progression.Surgical treatment has no advantage over pharmacological  management in visual field protection, however surgical  interventions attain target IOP in 46% of cases compared to 35% in  those being treated medically.Several agents are available and the primary choice of drug depends  on the degree of pressure lowering which needs to be achieved.It  is recommended to initiate treatment on one type of medication.If an inadequate response in lowering the IOP is observed, the  dose may be adjusted, or a second agent may be added.If the  first agent fails to demonstrate any measureable clinical response,  it should be removed from the regimen and be replaced with an  alternative drug.Pharmacological agents used to lower the IOP  include prostaglandin analogs, carbonic anhydrase inhibitors,  α  adrenergic agonists, cholinergic agonists, β blockers and  hyperosmotic agents.Adequate treatment of glaucoma requires  a high level of adherence.It is estimated that 45% of patients will  default on chronic treatment, if they are not appropriately followed  up and counselled regarding dosage instructions and possible side  effects.Table 2 below summarises the currently available drugs in  South Africa used to lower intraocular pressure.Latanoprost, travoprost and bimatoprost are prostaglandin   F agonists, which increases the uveoscleral outflow of aqueous  humour.It is considered the most potent group of topical ocular  hypotensive agents currently available and may lower baseline IOP  by 25–35%.There are few associated systemic side effects and  mostly relates to headaches.In addition, latanoprost may cause  joint/muscle pain and flu-like symptoms.Local adverse effects  include blurred vision, conjunctival hyperaemia, eye discomfort,  permanent iridial pigmentation, macular edema and thickening of  the eyelashes.Acetazolamide, dorzolamide and brinzolamide are sulphonamide  derivatives  which  reduces  aqueous  humour  production  independent to its diuretic mode of action.Acetazolamide is  administered systemically in the form of oral tablets or intravenous  infusion, and additionally reduces the rate of aqueous inflow up to  50%.Its usefulness is limited to the management of acute closed  angle glaucoma due to unfavourable systemic side effects which  may include paresthesia, nausea, diarrhoea, loss of appetite and  dose related systemic acidosis.Topical application of dorzolamide  and brinzolamide demonstrates an improvement in ocular blood  flow and long-term preservation of visual field.An average reduction  of  15–20% in baseline IOP can be expected.Side effects include  ocular irritation, dry eyes, blurred vision, eyelid inflammation and a  bitter taste.Brimonidine is a selective α2 receptor agonist.It initially reduces  aqueous humour production followed by a subsequent increase  in the uveoscleral outflow, therefore proving to be useful in  preventing a rise in IOP prior to anterior segment laser surgery.Brimonidine reduces baseline IOP with approximately 20%.Apraclonidine reduces the formation of aqueous humour but has  no effect on the facilitation of outflow.It has affinity for both α1  and α2 adreno-receptors and are used to prevent postsurgical  elevation of IOP after anterior segment laser therapy.Apraclonidine  reduces baseline IOP by 30% and is additionally used as adjuvant  therapy in resistant cases of glaucoma.Systemic side effects of the  alpha agonists are related to the central nervous system (headache,  fatigue, insomnia, depression) and respiratory system.Caution  should be taken in patients with cerebral or coronary insufficiency,  postural hypotension and renal or hepatic failure.Hypersensitivity  reactions, ocular irritation, eyelid edema, foreign body sensation  and dry eyes are common with topical use.Pilocarpine is the only available cholinergic agent in the  management of acute closed-angle glaucoma registered in South  Africa.Administration results in the increase in aqueous humour  outflow by contraction of the ciliary muscle and constriction of the  pupil.Poorly tolerated side effects, such as ciliary muscle spasm,  myopia and decreased vision limits its usefulness.Although prostaglandin receptor agonists are the most potent  agents in reducing the IOP, beta blockers are regarded as the first  choice in treating open angle glaucoma.Individual agents differ in  their ability to lower IOP, with betaxolol achieving a 15% decrease,  compared to 20–25% with timolol and levobunolol respectively.Betaxolol is, however, more cardioselective (β1) and therefore has  fewer pulmonary side effects compared to timolol and levobunolol  (which are non-selective antagonists on β1 and β2 receptors).The  mechanism involves a reduction of aqueous humour production  and does not cause miosis or accommodation disturbances  compared to cholinergic agents.The most common adverse effects  are ocular irritation and dry eyes.All the β blockers (including the  cardioselective agents) are contraindicated in patients with asthma,  COPD and bradycardia, unless alternative treatment is unavailable.Several combination agents are available in the treatment of  glaucoma.Most of these combinations include timolol, since  β blockers are still considered first line therapy in open-angle  glaucoma and ocular hypertension.Fixed-dose combination  therapy is more efficacious than its individual components, but still  less efficacious than its respective unfixed combinations.It provides  for simplified treatment regimes and enhances compliance.Fixed  dose combinations containing prostaglandins have a lower risk  in causing hyperemia.Combination of timolol with dorzolamide  is superior in visual field preservation compared to timolol and  brinzolamide.Combination preparations with brimonidine  have less visual disturbances, taste alterations and ocular allergic  reactions compared to the single ingredient product.With the recent attention cannabis has been receiving in the  management of pain and other cancer related conditions, it  is important to remember the favourable effect of its active  ingredient, Δ -tetrahydrocannabinol (THC), in reducing ocular  blood flow.Studies from the 1970s have reported a 30% reduction  in the IOP by inhalation or intravenous administration of THC.The  use is, however, limited owing to the cardiovascular (increased heart  rate and decreased blood pressure) and neurological (tolerance  and addiction) side effects.Topical application does not produce  a significant clinical effect.The use of synthetic cannabinoids may  provide a basis for potential future treatment strategies.General practitioners and family physicians play an important  role in the diagnosis and appropriate referral of patients with  suspected glaucoma.Fundoscopic examinations are quick and  easy to perform and are an opportunity that present at each  consultation.The early recognition of symptoms may improve  outcomes and delay progression.Taking a good medical history  and applying the principles of rational drug use may identify  potential pharmacological causes for glaucoma.Practitioners  prescribing any of the drugs known to cause acute angle glaucoma  should be vigilant in patients presenting with characteristic signs  or symptoms, and immediately refer them to an ophthalmologist.Patients need to be counselled on the associated adverse effects  from glaucoma medication in order to improve adherence.\n",
            "\n",
            "\n",
            "random : Glaucoma is a mixed group of eye disorders sharing common  features which typically includes optic disc cupping and visual  field loss, thereby more accurately defined as an optic neuropathy.Optic nerve damage results in progressive retinal ganglionic  cell loss and irreversible blindness, if not treated.Traditionally,  glaucoma has been characterized by the existence of raised  intraocular pressure (IOP), however nerve damage may occur in the  presence of values within the statistically normal range between   8–21 mmHg.Glaucomatous disc and field changes in the absence  of elevated pressure constitutes normal or low tension glaucoma  (LTG).Similarly, conditions exceeding the upper limit of 21 mmHg  may not be associated with signs of visual field loss or optic disc  damage and comprises ocular hypertension.In addition to optic  neuropathy, the two main types of glaucoma (open angle and  closed angle) are described on the appearance of the drainage  system within the eye, including associated increase in the IOP  (Figure 1).Glaucoma is one of the leading causes of blindness worldwide.The main characteristic features include optic disc cupping, visual field  loss, and in most instances a raised intraocular pressure.Primary open angle glaucoma accounts for nearly two thirds of all cases, while  angle closure glaucoma contributes the majority of the remainder.Screening for glaucoma is not cost-effective, and diagnosis of the  primary open angle type is usually an incidental finding during ophthalmological examination.Various treatment options, including  medical and surgical interventions are accessible in the management of glaucoma.This article contains a brief description on the  pathophysiology and focuses on the pharmacological options available in the treatment of glaucoma.Keywords:  Glaucoma, prostaglandin analogs, carbonic anhydrase inhibitors, beta antagonists, alpha 2 adrenergic agonists, cholinergic  agonists Both types can be further divided into primary versus secondary,  and congenital versus acquired.Glaucoma has a global prevalence  of 3.54% in those aged between 40 and 80 years, and is the  second leading cause of irreversible blindness, only superseded  by cataracts.Open angle glaucoma is the highest in Africa (4.2%),  while closed angle glaucoma is more prevalent in Asia (1.09%).Aqueous humour (a transparent, low protein containing fluid) is  continuously secreted by the ciliary epithelium providing structural  support to the lens.This watery fluid is present in both the anterior  and posterior chambers of the eye and drains through a sieve-like  trabecular meshwork located in the angle between the cornea  and the iris.Final drainage out of the eye occurs via the canal of  Schlemm  into the episcleral vein or intrascleral venous plexus  terminating in the ocular veins.In open angle glaucoma, the trabecular meshwork undergoes  morphological changes over time, resulting in progressive  impairment of drainage although it remains anatomically open. (Figure 1) Open angle glaucoma most often affects both eyes,  but asymmetric involvement is not uncommon.Primary open  angle glaucoma (POAG) is the most common type and accounts  for 74% of all glaucoma cases.It is estimated that 57.5 million  people (3.05%) worldwide suffer from POAG.Prevalence among  Black populations is the highest, with 2.1% at age 40 and 12.2% at  age 80 being reported.The incidence in Asian populations (0.8%  at age 40 and 4.3% at age 80), and Caucasians (0.4% at 40 years  and 5.3% at 80 years) suggests an ethno-genetic disease pattern.Although the exact cause of POAG remains unknown, more than  fifty risk factors and secondary causes have been identified.Some of these include diabetes mellitus, migraine headache,  cardiovascular disease, asthma or COPD (inhaled anticholinergics  and glucocorticosteroids), myopia, advanced age and a family  history of first-degree relatives with the same condition.Disease  progression leads to the formation of scar tissue between the iris  and trabecular meshwork and will ultimately result in closing off  the anterior chamber.The consequent rise in IOP is transmitted to  the optic disc and is eventually responsible for atrophy and nerve  fiber damage.Owing to the slow progression of the disease, POAG  remains asymptomatic until central vision is affected.It does not  present with headache, eye pain or loss of visual acuity.Diagnosis  is usually incidental during routine funduscopic or optometry  examinations.A cup : disc ratio of 0.6 (glaucomatous cupping), and  central corneal thickness in the presence of risk factors is suggestive  of glaucoma, and requires ophthalmological referral (Figure 2).The progression from POAG to Chronic Angle-Closure Glaucoma  (CACG), requires lifelong treatment.Official general population screening policies do not exist and are  not cost-effective.Measuring IOP has a sensitivity of only 47.1%,  implying that nearly half of patients with POAG will have IOP below  22 mmHg.However, patients with risk factors are encouraged to  undergo annual ophthalmological examinations and additional  IOP measurements.With closed angle glaucoma, a primary hypermetropic anatomical  defect (such as weakened ciliary muscles, naturally small eyes,  narrow angle or thick lens) in the absence of an identifiable  secondary cause, results in the pupil compressing the drainage  canal between the iris and cornea.Compression and narrowing of  the canal reduces or obstructs the outflow of aqueous humour in  passing through the pupil, therefore accumulating in the anterior  chamber (Figure 1).Primary angle closure glaucoma (PACG) is  less common than POAG and accounts for approximately a third  of all cases, with a global incidence of 0.5%.Symptoms of closed  angle glaucoma depend on the degree of angle closure and in  some instances may resolve spontaneously; in which case it may  become chronic.In established disease, vision loss is severe and  permanent.Secondary causes of angle-closure glaucoma include  masses or hemorrhage in the posterior segment of the eyeball or  the presence of a fibrovascular membrane (neovascular glaucoma)  over the anterior chamber angle.Risk factors for angle closure  glaucoma include older age (> 60 years), female gender, Asian  ethnicity, hyperopia and a positive family history.Attacks occur  more frequently at night when diminished light cause mydriasis and  narrowing of the angle.Unexpected closure (acute angle closure  glaucoma, AACG) of the anterior chamber angle due to pupillary  block may result in a sudden rise in IOP.It constitutes a medical  emergency, since permanent blindness and irreversible damage  to the optic nerve may occur.Acute attacks are characterized  by intermittent symptoms such as severe eye pain, nausea and  vomiting, loss of vision, halos around lights, unilateral red tearing  eye, oval shaped non-reactive pupil, a cloudy cornea and the loss  of red reflex (Figure 3).In addition, it is estimated that prescribed, or over-the-counter  pharmacological agents are responsible for at least 30% of acute  angle closure glaucoma.These include antihistamines, cholinergic-  and anticholinergic agents, adrenergic agents, antidepressants,  sulphonamides, anticoagulants and glucocorticosteroids.Table 1  below summarises the mechanism responsible for causing AACG.The goal in treating POAG is to establish and maintain the intra- ocular pressure at a range where visual field loss will have the  least negative impact on the patient’s perceived visual disability.“Various studies have shown that visual field loss in glaucoma has  been  associated with a significant decrease in a person’s vision- related quality of life.This is evident in activities requiring optimal  vision, such as dark adaptation, avoiding unintentional bumping  into objects and outdoor mobility.Determining the target  intraocular pressure needs to be individualised for each patient,  since the measured pressure at diagnosis could be within the normal  range of 8 to 21 mmHg in 30–50% of patients.Aiming for pressures  within these ranges will contribute towards optic nerve damage  and further progression.It is generally accepted that patients with  early disease benefit from a reduction of at least 20% in the baseline  value.A reduction of 30% is recommended in individuals with  more advanced features of POAG.Target IOP should continuously  be re-calculated during monitoring and follow-up assessment  of visual fields and disc and nerve fiber examinations.Reducing  the IOP, however, does not guarantee that progression will not  transpire.The choice of therapy depends on the relative risks and  benefits of available modalities, which include pharmacological  treatment, laser therapy or incisional surgery.Factors such as cost,  dosing, patient’s age, the presence of comorbidities (asthma or  COPD), pregnancy, adherence to treatment and the degree of optic  disc damage should be considered in choosing an appropriate  treatment regimen.In treating AACG, the primary goal is to make the correct diagnosis to  prevent permanent loss of vision.This is achieved by rapid lowering  of the IOP and reversal of the angle closure.Empiric treatment with  topical and systemic aqueous humour suppressants (β blockers  and acetazolamide) reduces the IOP, followed by pilocarpine to  reverse the pupil block.In the absence of available trials comparing  medical options for treatment of AACG, the initial management  usually consists of administering one drop of 0.5% timolol,   1% apraclonidine and 2% pilocarpine one minute apart.This is  followed by intravenous acetazolamide or mannitol.Eye pressure  should be checked every hour until specialist ophthalmological  care can be provided.Pharmacological management is the most common initial  intervention in lowering the IOP, although laser trabeculoplasty  and surgery are frequently used to slow the disease progression.Surgical treatment has no advantage over pharmacological  management in visual field protection, however surgical  interventions attain target IOP in 46% of cases compared to 35% in  those being treated medically.Several agents are available and the primary choice of drug depends  on the degree of pressure lowering which needs to be achieved.It  is recommended to initiate treatment on one type of medication.If an inadequate response in lowering the IOP is observed, the  dose may be adjusted, or a second agent may be added.If the  first agent fails to demonstrate any measureable clinical response,  it should be removed from the regimen and be replaced with an  alternative drug.Pharmacological agents used to lower the IOP  include prostaglandin analogs, carbonic anhydrase inhibitors,  α  adrenergic agonists, cholinergic agonists, β blockers and  hyperosmotic agents.Adequate treatment of glaucoma requires  a high level of adherence.It is estimated that 45% of patients will  default on chronic treatment, if they are not appropriately followed  up and counselled regarding dosage instructions and possible side  effects.Table 2 below summarises the currently available drugs in  South Africa used to lower intraocular pressure.Latanoprost, travoprost and bimatoprost are prostaglandin   F agonists, which increases the uveoscleral outflow of aqueous  humour.It is considered the most potent group of topical ocular  hypotensive agents currently available and may lower baseline IOP  by 25–35%.There are few associated systemic side effects and  mostly relates to headaches.In addition, latanoprost may cause  joint/muscle pain and flu-like symptoms.Local adverse effects  include blurred vision, conjunctival hyperaemia, eye discomfort,  permanent iridial pigmentation, macular edema and thickening of  the eyelashes.Acetazolamide, dorzolamide and brinzolamide are sulphonamide  derivatives  which  reduces  aqueous  humour  production  independent to its diuretic mode of action.Acetazolamide is  administered systemically in the form of oral tablets or intravenous  infusion, and additionally reduces the rate of aqueous inflow up to  50%.Its usefulness is limited to the management of acute closed  angle glaucoma due to unfavourable systemic side effects which  may include paresthesia, nausea, diarrhoea, loss of appetite and  dose related systemic acidosis.Topical application of dorzolamide  and brinzolamide demonstrates an improvement in ocular blood  flow and long-term preservation of visual field.An average reduction  of  15–20% in baseline IOP can be expected.Side effects include  ocular irritation, dry eyes, blurred vision, eyelid inflammation and a  bitter taste.Brimonidine is a selective α2 receptor agonist.It initially reduces  aqueous humour production followed by a subsequent increase  in the uveoscleral outflow, therefore proving to be useful in  preventing a rise in IOP prior to anterior segment laser surgery.Brimonidine reduces baseline IOP with approximately 20%.Apraclonidine reduces the formation of aqueous humour but has  no effect on the facilitation of outflow.It has affinity for both α1  and α2 adreno-receptors and are used to prevent postsurgical  elevation of IOP after anterior segment laser therapy.Apraclonidine  reduces baseline IOP by 30% and is additionally used as adjuvant  therapy in resistant cases of glaucoma.Systemic side effects of the  alpha agonists are related to the central nervous system (headache,  fatigue, insomnia, depression) and respiratory system.Caution  should be taken in patients with cerebral or coronary insufficiency,  postural hypotension and renal or hepatic failure.Hypersensitivity  reactions, ocular irritation, eyelid edema, foreign body sensation  and dry eyes are common with topical use.Pilocarpine is the only available cholinergic agent in the  management of acute closed-angle glaucoma registered in South  Africa.Administration results in the increase in aqueous humour  outflow by contraction of the ciliary muscle and constriction of the  pupil.Poorly tolerated side effects, such as ciliary muscle spasm,  myopia and decreased vision limits its usefulness.Although prostaglandin receptor agonists are the most potent  agents in reducing the IOP, beta blockers are regarded as the first  choice in treating open angle glaucoma.Individual agents differ in  their ability to lower IOP, with betaxolol achieving a 15% decrease,  compared to 20–25% with timolol and levobunolol respectively.Betaxolol is, however, more cardioselective (β1) and therefore has  fewer pulmonary side effects compared to timolol and levobunolol  (which are non-selective antagonists on β1 and β2 receptors).The  mechanism involves a reduction of aqueous humour production  and does not cause miosis or accommodation disturbances  compared to cholinergic agents.The most common adverse effects  are ocular irritation and dry eyes.All the β blockers (including the  cardioselective agents) are contraindicated in patients with asthma,  COPD and bradycardia, unless alternative treatment is unavailable.Several combination agents are available in the treatment of  glaucoma.Most of these combinations include timolol, since  β blockers are still considered first line therapy in open-angle  glaucoma and ocular hypertension.Fixed-dose combination  therapy is more efficacious than its individual components, but still  less efficacious than its respective unfixed combinations.It provides  for simplified treatment regimes and enhances compliance.Fixed  dose combinations containing prostaglandins have a lower risk  in causing hyperemia.Combination of timolol with dorzolamide  is superior in visual field preservation compared to timolol and  brinzolamide.Combination preparations with brimonidine  have less visual disturbances, taste alterations and ocular allergic  reactions compared to the single ingredient product.With the recent attention cannabis has been receiving in the  management of pain and other cancer related conditions, it  is important to remember the favourable effect of its active  ingredient, Δ -tetrahydrocannabinol (THC), in reducing ocular  blood flow.Studies from the 1970s have reported a 30% reduction  in the IOP by inhalation or intravenous administration of THC.The  use is, however, limited owing to the cardiovascular (increased heart  rate and decreased blood pressure) and neurological (tolerance  and addiction) side effects.Topical application does not produce  a significant clinical effect.The use of synthetic cannabinoids may  provide a basis for potential future treatment strategies.General practitioners and family physicians play an important  role in the diagnosis and appropriate referral of patients with  suspected glaucoma.Fundoscopic examinations are quick and  easy to perform and are an opportunity that present at each  consultation.The early recognition of symptoms may improve  outcomes and delay progression.Taking a good medical history  and applying the principles of rational drug use may identify  potential pharmacological causes for glaucoma.Practitioners  prescribing any of the drugs known to cause acute angle glaucoma  should be vigilant in patients presenting with characteristic signs  or symptoms, and immediately refer them to an ophthalmologist.Patients need to be counselled on the associated adverse effects  from glaucoma medication in order to improve adherence.\n",
            "\n",
            "\n",
            "reduction : Glaucoma is a mixed group of eye disorders sharing common  features which typically includes optic disc cupping and visual  field loss, thereby more accurately defined as an optic neuropathy.Optic nerve damage results in progressive retinal ganglionic  cell loss and irreversible blindness, if not treated.Traditionally,  glaucoma has been characterized by the existence of raised  intraocular pressure (IOP), however nerve damage may occur in the  presence of values within the statistically normal range between   8–21 mmHg.Glaucomatous disc and field changes in the absence  of elevated pressure constitutes normal or low tension glaucoma  (LTG).Similarly, conditions exceeding the upper limit of 21 mmHg  may not be associated with signs of visual field loss or optic disc  damage and comprises ocular hypertension.In addition to optic  neuropathy, the two main types of glaucoma (open angle and  closed angle) are described on the appearance of the drainage  system within the eye, including associated increase in the IOP  (Figure 1).Glaucoma is one of the leading causes of blindness worldwide.The main characteristic features include optic disc cupping, visual field  loss, and in most instances a raised intraocular pressure.Primary open angle glaucoma accounts for nearly two thirds of all cases, while  angle closure glaucoma contributes the majority of the remainder.Screening for glaucoma is not cost-effective, and diagnosis of the  primary open angle type is usually an incidental finding during ophthalmological examination.Various treatment options, including  medical and surgical interventions are accessible in the management of glaucoma.This article contains a brief description on the  pathophysiology and focuses on the pharmacological options available in the treatment of glaucoma.Keywords:  Glaucoma, prostaglandin analogs, carbonic anhydrase inhibitors, beta antagonists, alpha 2 adrenergic agonists, cholinergic  agonists Both types can be further divided into primary versus secondary,  and congenital versus acquired.Glaucoma has a global prevalence  of 3.54% in those aged between 40 and 80 years, and is the  second leading cause of irreversible blindness, only superseded  by cataracts.Open angle glaucoma is the highest in Africa (4.2%),  while closed angle glaucoma is more prevalent in Asia (1.09%).Aqueous humour (a transparent, low protein containing fluid) is  continuously secreted by the ciliary epithelium providing structural  support to the lens.This watery fluid is present in both the anterior  and posterior chambers of the eye and drains through a sieve-like  trabecular meshwork located in the angle between the cornea  and the iris.Final drainage out of the eye occurs via the canal of  Schlemm  into the episcleral vein or intrascleral venous plexus  terminating in the ocular veins.In open angle glaucoma, the trabecular meshwork undergoes  morphological changes over time, resulting in progressive  impairment of drainage although it remains anatomically open. (Figure 1) Open angle glaucoma most often affects both eyes,  but asymmetric involvement is not uncommon.Primary open  angle glaucoma (POAG) is the most common type and accounts  for 74% of all glaucoma cases.It is estimated that 57.5 million  people (3.05%) worldwide suffer from POAG.Prevalence among  Black populations is the highest, with 2.1% at age 40 and 12.2% at  age 80 being reported.The incidence in Asian populations (0.8%  at age 40 and 4.3% at age 80), and Caucasians (0.4% at 40 years  and 5.3% at 80 years) suggests an ethno-genetic disease pattern.Although the exact cause of POAG remains unknown, more than  fifty risk factors and secondary causes have been identified.Some of these include diabetes mellitus, migraine headache,  cardiovascular disease, asthma or COPD (inhaled anticholinergics  and glucocorticosteroids), myopia, advanced age and a family  history of first-degree relatives with the same condition.Disease  progression leads to the formation of scar tissue between the iris  and trabecular meshwork and will ultimately result in closing off  the anterior chamber.The consequent rise in IOP is transmitted to  the optic disc and is eventually responsible for atrophy and nerve  fiber damage.Owing to the slow progression of the disease, POAG  remains asymptomatic until central vision is affected.It does not  present with headache, eye pain or loss of visual acuity.Diagnosis  is usually incidental during routine funduscopic or optometry  examinations.A cup : disc ratio of 0.6 (glaucomatous cupping), and  central corneal thickness in the presence of risk factors is suggestive  of glaucoma, and requires ophthalmological referral (Figure 2).The progression from POAG to Chronic Angle-Closure Glaucoma  (CACG), requires lifelong treatment.Official general population screening policies do not exist and are  not cost-effective.Measuring IOP has a sensitivity of only 47.1%,  implying that nearly half of patients with POAG will have IOP below  22 mmHg.However, patients with risk factors are encouraged to  undergo annual ophthalmological examinations and additional  IOP measurements.With closed angle glaucoma, a primary hypermetropic anatomical  defect (such as weakened ciliary muscles, naturally small eyes,  narrow angle or thick lens) in the absence of an identifiable  secondary cause, results in the pupil compressing the drainage  canal between the iris and cornea.Compression and narrowing of  the canal reduces or obstructs the outflow of aqueous humour in  passing through the pupil, therefore accumulating in the anterior  chamber (Figure 1).Primary angle closure glaucoma (PACG) is  less common than POAG and accounts for approximately a third  of all cases, with a global incidence of 0.5%.Symptoms of closed  angle glaucoma depend on the degree of angle closure and in  some instances may resolve spontaneously; in which case it may  become chronic.In established disease, vision loss is severe and  permanent.Secondary causes of angle-closure glaucoma include  masses or hemorrhage in the posterior segment of the eyeball or  the presence of a fibrovascular membrane (neovascular glaucoma)  over the anterior chamber angle.Risk factors for angle closure  glaucoma include older age (> 60 years), female gender, Asian  ethnicity, hyperopia and a positive family history.Attacks occur  more frequently at night when diminished light cause mydriasis and  narrowing of the angle.Unexpected closure (acute angle closure  glaucoma, AACG) of the anterior chamber angle due to pupillary  block may result in a sudden rise in IOP.It constitutes a medical  emergency, since permanent blindness and irreversible damage  to the optic nerve may occur.Acute attacks are characterized  by intermittent symptoms such as severe eye pain, nausea and  vomiting, loss of vision, halos around lights, unilateral red tearing  eye, oval shaped non-reactive pupil, a cloudy cornea and the loss  of red reflex (Figure 3).In addition, it is estimated that prescribed, or over-the-counter  pharmacological agents are responsible for at least 30% of acute  angle closure glaucoma.These include antihistamines, cholinergic-  and anticholinergic agents, adrenergic agents, antidepressants,  sulphonamides, anticoagulants and glucocorticosteroids.Table 1  below summarises the mechanism responsible for causing AACG.The goal in treating POAG is to establish and maintain the intra- ocular pressure at a range where visual field loss will have the  least negative impact on the patient’s perceived visual disability.“Various studies have shown that visual field loss in glaucoma has  been  associated with a significant decrease in a person’s vision- related quality of life.This is evident in activities requiring optimal  vision, such as dark adaptation, avoiding unintentional bumping  into objects and outdoor mobility.Determining the target  intraocular pressure needs to be individualised for each patient,  since the measured pressure at diagnosis could be within the normal  range of 8 to 21 mmHg in 30–50% of patients.Aiming for pressures  within these ranges will contribute towards optic nerve damage  and further progression.It is generally accepted that patients with  early disease benefit from a reduction of at least 20% in the baseline  value.A reduction of 30% is recommended in individuals with  more advanced features of POAG.Target IOP should continuously  be re-calculated during monitoring and follow-up assessment  of visual fields and disc and nerve fiber examinations.Reducing  the IOP, however, does not guarantee that progression will not  transpire.The choice of therapy depends on the relative risks and  benefits of available modalities, which include pharmacological  treatment, laser therapy or incisional surgery.Factors such as cost,  dosing, patient’s age, the presence of comorbidities (asthma or  COPD), pregnancy, adherence to treatment and the degree of optic  disc damage should be considered in choosing an appropriate  treatment regimen.In treating AACG, the primary goal is to make the correct diagnosis to  prevent permanent loss of vision.This is achieved by rapid lowering  of the IOP and reversal of the angle closure.Empiric treatment with  topical and systemic aqueous humour suppressants (β blockers  and acetazolamide) reduces the IOP, followed by pilocarpine to  reverse the pupil block.In the absence of available trials comparing  medical options for treatment of AACG, the initial management  usually consists of administering one drop of 0.5% timolol,   1% apraclonidine and 2% pilocarpine one minute apart.This is  followed by intravenous acetazolamide or mannitol.Eye pressure  should be checked every hour until specialist ophthalmological  care can be provided.Pharmacological management is the most common initial  intervention in lowering the IOP, although laser trabeculoplasty  and surgery are frequently used to slow the disease progression.Surgical treatment has no advantage over pharmacological  management in visual field protection, however surgical  interventions attain target IOP in 46% of cases compared to 35% in  those being treated medically.Several agents are available and the primary choice of drug depends  on the degree of pressure lowering which needs to be achieved.It  is recommended to initiate treatment on one type of medication.If an inadequate response in lowering the IOP is observed, the  dose may be adjusted, or a second agent may be added.If the  first agent fails to demonstrate any measureable clinical response,  it should be removed from the regimen and be replaced with an  alternative drug.Pharmacological agents used to lower the IOP  include prostaglandin analogs, carbonic anhydrase inhibitors,  α  adrenergic agonists, cholinergic agonists, β blockers and  hyperosmotic agents.Adequate treatment of glaucoma requires  a high level of adherence.It is estimated that 45% of patients will  default on chronic treatment, if they are not appropriately followed  up and counselled regarding dosage instructions and possible side  effects.Table 2 below summarises the currently available drugs in  South Africa used to lower intraocular pressure.Latanoprost, travoprost and bimatoprost are prostaglandin   F agonists, which increases the uveoscleral outflow of aqueous  humour.It is considered the most potent group of topical ocular  hypotensive agents currently available and may lower baseline IOP  by 25–35%.There are few associated systemic side effects and  mostly relates to headaches.In addition, latanoprost may cause  joint/muscle pain and flu-like symptoms.Local adverse effects  include blurred vision, conjunctival hyperaemia, eye discomfort,  permanent iridial pigmentation, macular edema and thickening of  the eyelashes.Acetazolamide, dorzolamide and brinzolamide are sulphonamide  derivatives  which  reduces  aqueous  humour  production  independent to its diuretic mode of action.Acetazolamide is  administered systemically in the form of oral tablets or intravenous  infusion, and additionally reduces the rate of aqueous inflow up to  50%.Its usefulness is limited to the management of acute closed  angle glaucoma due to unfavourable systemic side effects which  may include paresthesia, nausea, diarrhoea, loss of appetite and  dose related systemic acidosis.Topical application of dorzolamide  and brinzolamide demonstrates an improvement in ocular blood  flow and long-term preservation of visual field.An average reduction  of  15–20% in baseline IOP can be expected.Side effects include  ocular irritation, dry eyes, blurred vision, eyelid inflammation and a  bitter taste.Brimonidine is a selective α2 receptor agonist.It initially reduces  aqueous humour production followed by a subsequent increase  in the uveoscleral outflow, therefore proving to be useful in  preventing a rise in IOP prior to anterior segment laser surgery.Brimonidine reduces baseline IOP with approximately 20%.Apraclonidine reduces the formation of aqueous humour but has  no effect on the facilitation of outflow.It has affinity for both α1  and α2 adreno-receptors and are used to prevent postsurgical  elevation of IOP after anterior segment laser therapy.Apraclonidine  reduces baseline IOP by 30% and is additionally used as adjuvant  therapy in resistant cases of glaucoma.Systemic side effects of the  alpha agonists are related to the central nervous system (headache,  fatigue, insomnia, depression) and respiratory system.Caution  should be taken in patients with cerebral or coronary insufficiency,  postural hypotension and renal or hepatic failure.Hypersensitivity  reactions, ocular irritation, eyelid edema, foreign body sensation  and dry eyes are common with topical use.Pilocarpine is the only available cholinergic agent in the  management of acute closed-angle glaucoma registered in South  Africa.Administration results in the increase in aqueous humour  outflow by contraction of the ciliary muscle and constriction of the  pupil.Poorly tolerated side effects, such as ciliary muscle spasm,  myopia and decreased vision limits its usefulness.Although prostaglandin receptor agonists are the most potent  agents in reducing the IOP, beta blockers are regarded as the first  choice in treating open angle glaucoma.Individual agents differ in  their ability to lower IOP, with betaxolol achieving a 15% decrease,  compared to 20–25% with timolol and levobunolol respectively.Betaxolol is, however, more cardioselective (β1) and therefore has  fewer pulmonary side effects compared to timolol and levobunolol  (which are non-selective antagonists on β1 and β2 receptors).The  mechanism involves a reduction of aqueous humour production  and does not cause miosis or accommodation disturbances  compared to cholinergic agents.The most common adverse effects  are ocular irritation and dry eyes.All the β blockers (including the  cardioselective agents) are contraindicated in patients with asthma,  COPD and bradycardia, unless alternative treatment is unavailable.Several combination agents are available in the treatment of  glaucoma.Most of these combinations include timolol, since  β blockers are still considered first line therapy in open-angle  glaucoma and ocular hypertension.Fixed-dose combination  therapy is more efficacious than its individual components, but still  less efficacious than its respective unfixed combinations.It provides  for simplified treatment regimes and enhances compliance.Fixed  dose combinations containing prostaglandins have a lower risk  in causing hyperemia.Combination of timolol with dorzolamide  is superior in visual field preservation compared to timolol and  brinzolamide.Combination preparations with brimonidine  have less visual disturbances, taste alterations and ocular allergic  reactions compared to the single ingredient product.With the recent attention cannabis has been receiving in the  management of pain and other cancer related conditions, it  is important to remember the favourable effect of its active  ingredient, Δ -tetrahydrocannabinol (THC), in reducing ocular  blood flow.Studies from the 1970s have reported a 30% reduction  in the IOP by inhalation or intravenous administration of THC.The  use is, however, limited owing to the cardiovascular (increased heart  rate and decreased blood pressure) and neurological (tolerance  and addiction) side effects.Topical application does not produce  a significant clinical effect.The use of synthetic cannabinoids may  provide a basis for potential future treatment strategies.General practitioners and family physicians play an important  role in the diagnosis and appropriate referral of patients with  suspected glaucoma.Fundoscopic examinations are quick and  easy to perform and are an opportunity that present at each  consultation.The early recognition of symptoms may improve  outcomes and delay progression.Taking a good medical history  and applying the principles of rational drug use may identify  potential pharmacological causes for glaucoma.Practitioners  prescribing any of the drugs known to cause acute angle glaucoma  should be vigilant in patients presenting with characteristic signs  or symptoms, and immediately refer them to an ophthalmologist.Patients need to be counselled on the associated adverse effects  from glaucoma medication in order to improve adherence.\n",
            "\n",
            "\n",
            "kl-sum : Glaucoma is a mixed group of eye disorders sharing common  features which typically includes optic disc cupping and visual  field loss, thereby more accurately defined as an optic neuropathy.Optic nerve damage results in progressive retinal ganglionic  cell loss and irreversible blindness, if not treated.Traditionally,  glaucoma has been characterized by the existence of raised  intraocular pressure (IOP), however nerve damage may occur in the  presence of values within the statistically normal range between   8–21 mmHg.Glaucomatous disc and field changes in the absence  of elevated pressure constitutes normal or low tension glaucoma  (LTG).Similarly, conditions exceeding the upper limit of 21 mmHg  may not be associated with signs of visual field loss or optic disc  damage and comprises ocular hypertension.In addition to optic  neuropathy, the two main types of glaucoma (open angle and  closed angle) are described on the appearance of the drainage  system within the eye, including associated increase in the IOP  (Figure 1).Glaucoma is one of the leading causes of blindness worldwide.The main characteristic features include optic disc cupping, visual field  loss, and in most instances a raised intraocular pressure.Primary open angle glaucoma accounts for nearly two thirds of all cases, while  angle closure glaucoma contributes the majority of the remainder.Screening for glaucoma is not cost-effective, and diagnosis of the  primary open angle type is usually an incidental finding during ophthalmological examination.Various treatment options, including  medical and surgical interventions are accessible in the management of glaucoma.This article contains a brief description on the  pathophysiology and focuses on the pharmacological options available in the treatment of glaucoma.Keywords:  Glaucoma, prostaglandin analogs, carbonic anhydrase inhibitors, beta antagonists, alpha 2 adrenergic agonists, cholinergic  agonists Both types can be further divided into primary versus secondary,  and congenital versus acquired.Glaucoma has a global prevalence  of 3.54% in those aged between 40 and 80 years, and is the  second leading cause of irreversible blindness, only superseded  by cataracts.Open angle glaucoma is the highest in Africa (4.2%),  while closed angle glaucoma is more prevalent in Asia (1.09%).Aqueous humour (a transparent, low protein containing fluid) is  continuously secreted by the ciliary epithelium providing structural  support to the lens.This watery fluid is present in both the anterior  and posterior chambers of the eye and drains through a sieve-like  trabecular meshwork located in the angle between the cornea  and the iris.Final drainage out of the eye occurs via the canal of  Schlemm  into the episcleral vein or intrascleral venous plexus  terminating in the ocular veins.In open angle glaucoma, the trabecular meshwork undergoes  morphological changes over time, resulting in progressive  impairment of drainage although it remains anatomically open. (Figure 1) Open angle glaucoma most often affects both eyes,  but asymmetric involvement is not uncommon.Primary open  angle glaucoma (POAG) is the most common type and accounts  for 74% of all glaucoma cases.It is estimated that 57.5 million  people (3.05%) worldwide suffer from POAG.Prevalence among  Black populations is the highest, with 2.1% at age 40 and 12.2% at  age 80 being reported.The incidence in Asian populations (0.8%  at age 40 and 4.3% at age 80), and Caucasians (0.4% at 40 years  and 5.3% at 80 years) suggests an ethno-genetic disease pattern.Although the exact cause of POAG remains unknown, more than  fifty risk factors and secondary causes have been identified.Some of these include diabetes mellitus, migraine headache,  cardiovascular disease, asthma or COPD (inhaled anticholinergics  and glucocorticosteroids), myopia, advanced age and a family  history of first-degree relatives with the same condition.Disease  progression leads to the formation of scar tissue between the iris  and trabecular meshwork and will ultimately result in closing off  the anterior chamber.The consequent rise in IOP is transmitted to  the optic disc and is eventually responsible for atrophy and nerve  fiber damage.Owing to the slow progression of the disease, POAG  remains asymptomatic until central vision is affected.It does not  present with headache, eye pain or loss of visual acuity.Diagnosis  is usually incidental during routine funduscopic or optometry  examinations.A cup : disc ratio of 0.6 (glaucomatous cupping), and  central corneal thickness in the presence of risk factors is suggestive  of glaucoma, and requires ophthalmological referral (Figure 2).The progression from POAG to Chronic Angle-Closure Glaucoma  (CACG), requires lifelong treatment.Official general population screening policies do not exist and are  not cost-effective.Measuring IOP has a sensitivity of only 47.1%,  implying that nearly half of patients with POAG will have IOP below  22 mmHg.However, patients with risk factors are encouraged to  undergo annual ophthalmological examinations and additional  IOP measurements.With closed angle glaucoma, a primary hypermetropic anatomical  defect (such as weakened ciliary muscles, naturally small eyes,  narrow angle or thick lens) in the absence of an identifiable  secondary cause, results in the pupil compressing the drainage  canal between the iris and cornea.Compression and narrowing of  the canal reduces or obstructs the outflow of aqueous humour in  passing through the pupil, therefore accumulating in the anterior  chamber (Figure 1).Primary angle closure glaucoma (PACG) is  less common than POAG and accounts for approximately a third  of all cases, with a global incidence of 0.5%.Symptoms of closed  angle glaucoma depend on the degree of angle closure and in  some instances may resolve spontaneously; in which case it may  become chronic.In established disease, vision loss is severe and  permanent.Secondary causes of angle-closure glaucoma include  masses or hemorrhage in the posterior segment of the eyeball or  the presence of a fibrovascular membrane (neovascular glaucoma)  over the anterior chamber angle.Risk factors for angle closure  glaucoma include older age (> 60 years), female gender, Asian  ethnicity, hyperopia and a positive family history.Attacks occur  more frequently at night when diminished light cause mydriasis and  narrowing of the angle.Unexpected closure (acute angle closure  glaucoma, AACG) of the anterior chamber angle due to pupillary  block may result in a sudden rise in IOP.It constitutes a medical  emergency, since permanent blindness and irreversible damage  to the optic nerve may occur.Acute attacks are characterized  by intermittent symptoms such as severe eye pain, nausea and  vomiting, loss of vision, halos around lights, unilateral red tearing  eye, oval shaped non-reactive pupil, a cloudy cornea and the loss  of red reflex (Figure 3).In addition, it is estimated that prescribed, or over-the-counter  pharmacological agents are responsible for at least 30% of acute  angle closure glaucoma.These include antihistamines, cholinergic-  and anticholinergic agents, adrenergic agents, antidepressants,  sulphonamides, anticoagulants and glucocorticosteroids.Table 1  below summarises the mechanism responsible for causing AACG.The goal in treating POAG is to establish and maintain the intra- ocular pressure at a range where visual field loss will have the  least negative impact on the patient’s perceived visual disability.“Various studies have shown that visual field loss in glaucoma has  been  associated with a significant decrease in a person’s vision- related quality of life.This is evident in activities requiring optimal  vision, such as dark adaptation, avoiding unintentional bumping  into objects and outdoor mobility.Determining the target  intraocular pressure needs to be individualised for each patient,  since the measured pressure at diagnosis could be within the normal  range of 8 to 21 mmHg in 30–50% of patients.Aiming for pressures  within these ranges will contribute towards optic nerve damage  and further progression.It is generally accepted that patients with  early disease benefit from a reduction of at least 20% in the baseline  value.A reduction of 30% is recommended in individuals with  more advanced features of POAG.Target IOP should continuously  be re-calculated during monitoring and follow-up assessment  of visual fields and disc and nerve fiber examinations.Reducing  the IOP, however, does not guarantee that progression will not  transpire.The choice of therapy depends on the relative risks and  benefits of available modalities, which include pharmacological  treatment, laser therapy or incisional surgery.Factors such as cost,  dosing, patient’s age, the presence of comorbidities (asthma or  COPD), pregnancy, adherence to treatment and the degree of optic  disc damage should be considered in choosing an appropriate  treatment regimen.In treating AACG, the primary goal is to make the correct diagnosis to  prevent permanent loss of vision.This is achieved by rapid lowering  of the IOP and reversal of the angle closure.Empiric treatment with  topical and systemic aqueous humour suppressants (β blockers  and acetazolamide) reduces the IOP, followed by pilocarpine to  reverse the pupil block.In the absence of available trials comparing  medical options for treatment of AACG, the initial management  usually consists of administering one drop of 0.5% timolol,   1% apraclonidine and 2% pilocarpine one minute apart.This is  followed by intravenous acetazolamide or mannitol.Eye pressure  should be checked every hour until specialist ophthalmological  care can be provided.Pharmacological management is the most common initial  intervention in lowering the IOP, although laser trabeculoplasty  and surgery are frequently used to slow the disease progression.Surgical treatment has no advantage over pharmacological  management in visual field protection, however surgical  interventions attain target IOP in 46% of cases compared to 35% in  those being treated medically.Several agents are available and the primary choice of drug depends  on the degree of pressure lowering which needs to be achieved.It  is recommended to initiate treatment on one type of medication.If an inadequate response in lowering the IOP is observed, the  dose may be adjusted, or a second agent may be added.If the  first agent fails to demonstrate any measureable clinical response,  it should be removed from the regimen and be replaced with an  alternative drug.Pharmacological agents used to lower the IOP  include prostaglandin analogs, carbonic anhydrase inhibitors,  α  adrenergic agonists, cholinergic agonists, β blockers and  hyperosmotic agents.Adequate treatment of glaucoma requires  a high level of adherence.It is estimated that 45% of patients will  default on chronic treatment, if they are not appropriately followed  up and counselled regarding dosage instructions and possible side  effects.Table 2 below summarises the currently available drugs in  South Africa used to lower intraocular pressure.Latanoprost, travoprost and bimatoprost are prostaglandin   F agonists, which increases the uveoscleral outflow of aqueous  humour.It is considered the most potent group of topical ocular  hypotensive agents currently available and may lower baseline IOP  by 25–35%.There are few associated systemic side effects and  mostly relates to headaches.In addition, latanoprost may cause  joint/muscle pain and flu-like symptoms.Local adverse effects  include blurred vision, conjunctival hyperaemia, eye discomfort,  permanent iridial pigmentation, macular edema and thickening of  the eyelashes.Acetazolamide, dorzolamide and brinzolamide are sulphonamide  derivatives  which  reduces  aqueous  humour  production  independent to its diuretic mode of action.Acetazolamide is  administered systemically in the form of oral tablets or intravenous  infusion, and additionally reduces the rate of aqueous inflow up to  50%.Its usefulness is limited to the management of acute closed  angle glaucoma due to unfavourable systemic side effects which  may include paresthesia, nausea, diarrhoea, loss of appetite and  dose related systemic acidosis.Topical application of dorzolamide  and brinzolamide demonstrates an improvement in ocular blood  flow and long-term preservation of visual field.An average reduction  of  15–20% in baseline IOP can be expected.Side effects include  ocular irritation, dry eyes, blurred vision, eyelid inflammation and a  bitter taste.Brimonidine is a selective α2 receptor agonist.It initially reduces  aqueous humour production followed by a subsequent increase  in the uveoscleral outflow, therefore proving to be useful in  preventing a rise in IOP prior to anterior segment laser surgery.Brimonidine reduces baseline IOP with approximately 20%.Apraclonidine reduces the formation of aqueous humour but has  no effect on the facilitation of outflow.It has affinity for both α1  and α2 adreno-receptors and are used to prevent postsurgical  elevation of IOP after anterior segment laser therapy.Apraclonidine  reduces baseline IOP by 30% and is additionally used as adjuvant  therapy in resistant cases of glaucoma.Systemic side effects of the  alpha agonists are related to the central nervous system (headache,  fatigue, insomnia, depression) and respiratory system.Caution  should be taken in patients with cerebral or coronary insufficiency,  postural hypotension and renal or hepatic failure.Hypersensitivity  reactions, ocular irritation, eyelid edema, foreign body sensation  and dry eyes are common with topical use.Pilocarpine is the only available cholinergic agent in the  management of acute closed-angle glaucoma registered in South  Africa.Administration results in the increase in aqueous humour  outflow by contraction of the ciliary muscle and constriction of the  pupil.Poorly tolerated side effects, such as ciliary muscle spasm,  myopia and decreased vision limits its usefulness.Although prostaglandin receptor agonists are the most potent  agents in reducing the IOP, beta blockers are regarded as the first  choice in treating open angle glaucoma.Individual agents differ in  their ability to lower IOP, with betaxolol achieving a 15% decrease,  compared to 20–25% with timolol and levobunolol respectively.Betaxolol is, however, more cardioselective (β1) and therefore has  fewer pulmonary side effects compared to timolol and levobunolol  (which are non-selective antagonists on β1 and β2 receptors).The  mechanism involves a reduction of aqueous humour production  and does not cause miosis or accommodation disturbances  compared to cholinergic agents.The most common adverse effects  are ocular irritation and dry eyes.All the β blockers (including the  cardioselective agents) are contraindicated in patients with asthma,  COPD and bradycardia, unless alternative treatment is unavailable.Several combination agents are available in the treatment of  glaucoma.Most of these combinations include timolol, since  β blockers are still considered first line therapy in open-angle  glaucoma and ocular hypertension.Fixed-dose combination  therapy is more efficacious than its individual components, but still  less efficacious than its respective unfixed combinations.It provides  for simplified treatment regimes and enhances compliance.Fixed  dose combinations containing prostaglandins have a lower risk  in causing hyperemia.Combination of timolol with dorzolamide  is superior in visual field preservation compared to timolol and  brinzolamide.Combination preparations with brimonidine  have less visual disturbances, taste alterations and ocular allergic  reactions compared to the single ingredient product.With the recent attention cannabis has been receiving in the  management of pain and other cancer related conditions, it  is important to remember the favourable effect of its active  ingredient, Δ -tetrahydrocannabinol (THC), in reducing ocular  blood flow.Studies from the 1970s have reported a 30% reduction  in the IOP by inhalation or intravenous administration of THC.The  use is, however, limited owing to the cardiovascular (increased heart  rate and decreased blood pressure) and neurological (tolerance  and addiction) side effects.Topical application does not produce  a significant clinical effect.The use of synthetic cannabinoids may  provide a basis for potential future treatment strategies.General practitioners and family physicians play an important  role in the diagnosis and appropriate referral of patients with  suspected glaucoma.Fundoscopic examinations are quick and  easy to perform and are an opportunity that present at each  consultation.The early recognition of symptoms may improve  outcomes and delay progression.Taking a good medical history  and applying the principles of rational drug use may identify  potential pharmacological causes for glaucoma.Practitioners  prescribing any of the drugs known to cause acute angle glaucoma  should be vigilant in patients presenting with characteristic signs  or symptoms, and immediately refer them to an ophthalmologist.Patients need to be counselled on the associated adverse effects  from glaucoma medication in order to improve adherence.\n",
            "\n",
            "\n"
          ]
        }
      ]
    },
    {
      "cell_type": "code",
      "source": [
        "input_ = \"\"\"Glaucoma is a mixed group of eye disorders sharing common  features which typically includes optic disc cupping and visual  field loss, thereby more accurately defined as an optic neuropathy.Optic nerve damage results in progressive retinal ganglionic  cell loss and irreversible blindness, if not treated.Traditionally,  glaucoma has been characterized by the existence of raised  intraocular pressure (IOP), however nerve damage may occur in the  presence of values within the statistically normal range between   8–21 mmHg\"\"\""
      ],
      "metadata": {
        "id": "fY_r8Jf6xe4K"
      },
      "execution_count": 5,
      "outputs": []
    },
    {
      "cell_type": "code",
      "source": [
        "summarize('reduction', language, sentence_count, input_type, input_)"
      ],
      "metadata": {
        "colab": {
          "base_uri": "https://localhost:8080/",
          "height": 88
        },
        "id": "rGyLtbTfxDnW",
        "outputId": "bed7d3d1-cb1e-4ead-9968-e0c3a06f4ec5"
      },
      "execution_count": null,
      "outputs": [
        {
          "output_type": "execute_result",
          "data": {
            "text/plain": [
              "'Glaucoma is a mixed group of eye disorders sharing common  features which typically includes optic disc cupping and visual  field loss, thereby more accurately defined as an optic neuropathy.Optic nerve damage results in progressive retinal ganglionic  cell loss and irreversible blindness, if not treated.Traditionally,  glaucoma has been characterized by the existence of raised  intraocular pressure (IOP), however nerve damage may occur in the  presence of values within the statistically normal range between   8–21 mmHg'"
            ],
            "application/vnd.google.colaboratory.intrinsic+json": {
              "type": "string"
            }
          },
          "metadata": {},
          "execution_count": 124
        }
      ]
    },
    {
      "cell_type": "code",
      "source": [
        "processed_text"
      ],
      "metadata": {
        "colab": {
          "base_uri": "https://localhost:8080/",
          "height": 140
        },
        "id": "3KWm_3SJxNbi",
        "outputId": "43a3c47d-18f3-4ec3-f9dd-454cec6851e4"
      },
      "execution_count": null,
      "outputs": [
        {
          "output_type": "execute_result",
          "data": {
            "text/plain": [
              "'Glaucoma is a mixed group of eye disorders sharing common  features which typically includes optic disc cupping and visual  field loss, thereby more accurately defined as an optic neuropathy.Optic nerve damage results in progressive retinal ganglionic  cell loss and irreversible blindness, if not treated.Traditionally,  glaucoma has been characterized by the existence of raised  intraocular pressure (IOP), however nerve damage may occur in the  presence of values within the statistically normal range between   8–21 mmHg.Glaucomatous disc and field changes in the absence  of elevated pressure constitutes normal or low tension glaucoma  (LTG).Similarly, conditions exceeding the upper limit of 21 mmHg  may not be associated with signs of visual field loss or optic disc  damage and comprises ocular hypertension.In addition to optic  neuropathy, the two main types of glaucoma (open angle and  closed angle) are described on the appearance of the drainage  system within the eye, including associated increase in the IOP  (Figure 1).Glaucoma is one of the leading causes of blindness worldwide.The main characteristic features include optic disc cupping, visual field  loss, and in most instances a raised intraocular pressure.Primary open angle glaucoma accounts for nearly two thirds of all cases, while  angle closure glaucoma contributes the majority of the remainder.Screening for glaucoma is not cost-effective, and diagnosis of the  primary open angle type is usually an incidental finding during ophthalmological examination.Various treatment options, including  medical and surgical interventions are accessible in the management of glaucoma.This article contains a brief description on the  pathophysiology and focuses on the pharmacological options available in the treatment of glaucoma.Keywords:  Glaucoma, prostaglandin analogs, carbonic anhydrase inhibitors, beta antagonists, alpha 2 adrenergic agonists, cholinergic  agonists Both types can be further divided into primary versus secondary,  and congenital versus acquired.Glaucoma has a global prevalence  of 3.54% in those aged between 40 and 80 years, and is the  second leading cause of irreversible blindness, only superseded  by cataracts.Open angle glaucoma is the highest in Africa (4.2%),  while closed angle glaucoma is more prevalent in Asia (1.09%).Aqueous humour (a transparent, low protein containing fluid) is  continuously secreted by the ciliary epithelium providing structural  support to the lens.This watery fluid is present in both the anterior  and posterior chambers of the eye and drains through a sieve-like  trabecular meshwork located in the angle between the cornea  and the iris.Final drainage out of the eye occurs via the canal of  Schlemm  into the episcleral vein or intrascleral venous plexus  terminating in the ocular veins.In open angle glaucoma, the trabecular meshwork undergoes  morphological changes over time, resulting in progressive  impairment of drainage although it remains anatomically open.(Figure 1) Open angle glaucoma most often affects both eyes,  but asymmetric involvement is not uncommon.Primary open  angle glaucoma (POAG) is the most common type and accounts  for 74% of all glaucoma cases.It is estimated that 57.5 million  people (3.05%) worldwide suffer from POAG.Prevalence among  Black populations is the highest, with 2.1% at age 40 and 12.2% at  age 80 being reported.The incidence in Asian populations (0.8%  at age 40 and 4.3% at age 80), and Caucasians (0.4% at 40 years  and 5.3% at 80 years) suggests an ethno-genetic disease pattern.Although the exact cause of POAG remains unknown, more than  fifty risk factors and secondary causes have been identified.Some of these include diabetes mellitus, migraine headache,  cardiovascular disease, asthma or COPD (inhaled anticholinergics  and glucocorticosteroids), myopia, advanced age and a family  history of first-degree relatives with the same condition.Disease  progression leads to the formation of scar tissue between the iris  and trabecular meshwork and will ultimately result in closing off  the anterior chamber.The consequent rise in IOP is transmitted to  the optic disc and is eventually responsible for atrophy and nerve  fiber damage.Owing to the slow progression of the disease, POAG  remains asymptomatic until central vision is affected.It does not  present with headache, eye pain or loss of visual acuity.Diagnosis  is usually incidental during routine funduscopic or optometry  examinations.A cup : disc ratio of 0.6 (glaucomatous cupping), and  central corneal thickness in the presence of risk factors is suggestive  of glaucoma, and requires ophthalmological referral (Figure 2).The progression from POAG to Chronic Angle-Closure Glaucoma  (CACG), requires lifelong treatment.Official general population screening policies do not exist and are  not cost-effective.Measuring IOP has a sensitivity of only 47.1%,  implying that nearly half of patients with POAG will have IOP below  22 mmHg.However, patients with risk factors are encouraged to  undergo annual ophthalmological examinations and additional  IOP measurements.With closed angle glaucoma, a primary hypermetropic anatomical  defect (such as weakened ciliary muscles, naturally small eyes,  narrow angle or thick lens) in the absence of an identifiable  secondary cause, results in the pupil compressing the drainage  canal between the iris and cornea.Compression and narrowing of  the canal reduces or obstructs the outflow of aqueous humour in  passing through the pupil, therefore accumulating in the anterior  chamber (Figure 1).Primary angle closure glaucoma (PACG) is  less common than POAG and accounts for approximately a third  of all cases, with a global incidence of 0.5%.Symptoms of closed  angle glaucoma depend on the degree of angle closure and in  some instances may resolve spontaneously; in which case it may  become chronic.In established disease, vision loss is severe and  permanent.Secondary causes of angle-closure glaucoma include  masses or hemorrhage in the posterior segment of the eyeball or  the presence of a fibrovascular membrane (neovascular glaucoma)  over the anterior chamber angle.Risk factors for angle closure  glaucoma include older age (> 60 years), female gender, Asian  ethnicity, hyperopia and a positive family history.Attacks occur  more frequently at night when diminished light cause mydriasis and  narrowing of the angle.Unexpected closure (acute angle closure  glaucoma, AACG) of the anterior chamber angle due to pupillary  block may result in a sudden rise in IOP.It constitutes a medical  emergency, since permanent blindness and irreversible damage  to the optic nerve may occur.Acute attacks are characterized  by intermittent symptoms such as severe eye pain, nausea and  vomiting, loss of vision, halos around lights, unilateral red tearing  eye, oval shaped non-reactive pupil, a cloudy cornea and the loss  of red reflex (Figure 3).In addition, it is estimated that prescribed, or over-the-counter  pharmacological agents are responsible for at least 30% of acute  angle closure glaucoma.These include antihistamines, cholinergic-  and anticholinergic agents, adrenergic agents, antidepressants,  sulphonamides, anticoagulants and glucocorticosteroids.Table 1  below summarises the mechanism responsible for causing AACG.The goal in treating POAG is to establish and maintain the intra- ocular pressure at a range where visual field loss will have the  least negative impact on the patient’s perceived visual disability.“Various studies have shown that visual field loss in glaucoma has  been\\xa0 associated with a significant decrease in a person’s vision- related quality of life.This is\\xa0evident in activities\\xa0requiring optimal  vision, such as dark adaptation, avoiding unintentional bumping  into objects and outdoor mobility.Determining the target  intraocular pressure needs to be individualised for each patient,  since the measured pressure at diagnosis could be within the normal  range of 8 to 21 mmHg in 30–50% of patients.Aiming for pressures  within these ranges will contribute towards optic nerve damage  and further progression.It is generally accepted that patients with  early disease benefit from a reduction of at least 20% in the baseline  value.A reduction of 30% is recommended in individuals with  more advanced features of POAG.Target IOP should continuously  be re-calculated during monitoring and follow-up assessment  of visual fields and disc and nerve fiber examinations.Reducing  the IOP, however, does not guarantee that progression will not  transpire.The choice of therapy depends on the relative risks and  benefits of available modalities, which include pharmacological  treatment, laser therapy or incisional surgery.Factors such as cost,  dosing, patient’s age, the presence of comorbidities (asthma or  COPD), pregnancy, adherence to treatment and the degree of optic  disc damage should be considered in choosing an appropriate  treatment regimen.In treating AACG, the primary goal is to make the correct diagnosis to  prevent permanent loss of vision.This is achieved by rapid lowering  of the IOP and reversal of the angle closure.Empiric treatment with  topical and systemic aqueous humour suppressants (β blockers  and acetazolamide) reduces the IOP, followed by pilocarpine to  reverse the pupil block.In the absence of available trials comparing  medical options for treatment of AACG, the initial management  usually consists of administering one drop of 0.5% timolol,   1% apraclonidine and 2% pilocarpine one minute apart.This is  followed by intravenous acetazolamide or mannitol.Eye pressure  should be checked every hour until specialist ophthalmological  care can be provided.Pharmacological management is the most common initial  intervention in lowering the IOP, although laser trabeculoplasty  and surgery are frequently used to slow the disease progression.Surgical treatment has no advantage over pharmacological  management in visual field protection, however surgical  interventions attain target IOP in 46% of cases compared to 35% in  those being treated medically.Several agents are available and the primary choice of drug depends  on the degree of pressure lowering which needs to be achieved.It  is recommended to initiate treatment on one type of medication.If an inadequate response in lowering the IOP is observed, the  dose may be adjusted, or a second agent may be added.If the  first agent fails to demonstrate any measureable clinical response,  it should be removed from the regimen and be replaced with an  alternative drug.Pharmacological agents used to lower the IOP  include prostaglandin analogs, carbonic anhydrase inhibitors,  α  adrenergic agonists, cholinergic agonists, β blockers and  hyperosmotic agents.Adequate treatment of glaucoma requires  a high level of adherence.It is estimated that 45% of patients will  default on chronic treatment, if they are not appropriately followed  up and counselled regarding dosage instructions and possible side  effects.Table 2 below summarises the currently available drugs in  South Africa used to lower intraocular pressure.Latanoprost, travoprost and bimatoprost are prostaglandin   F agonists, which increases the uveoscleral outflow of aqueous  humour.It is considered the most potent group of topical ocular  hypotensive agents currently available and may lower baseline IOP  by 25–35%.There are few associated systemic side effects and  mostly relates to headaches.In addition, latanoprost may cause  joint/muscle pain and flu-like symptoms.Local adverse effects  include blurred vision, conjunctival hyperaemia, eye discomfort,  permanent iridial pigmentation, macular edema and thickening of  the eyelashes.Acetazolamide, dorzolamide and brinzolamide are sulphonamide  derivatives  which  reduces  aqueous  humour  production  independent to its diuretic mode of action.Acetazolamide is  administered systemically in the form of oral tablets or intravenous  infusion, and additionally reduces the rate of aqueous inflow up to  50%.Its usefulness is limited to the management of acute closed  angle glaucoma due to unfavourable systemic side effects which  may include paresthesia, nausea, diarrhoea, loss of appetite and  dose related systemic acidosis.Topical application of dorzolamide  and brinzolamide demonstrates an improvement in ocular blood  flow and long-term preservation of visual field.An average reduction  of  15–20% in baseline IOP can be expected.Side effects include  ocular irritation, dry eyes, blurred vision, eyelid inflammation and a  bitter taste.Brimonidine is a selective α2 receptor agonist.It initially reduces  aqueous humour production followed by a subsequent increase  in the uveoscleral outflow, therefore proving to be useful in  preventing a rise in IOP prior to anterior segment laser surgery.Brimonidine reduces baseline IOP with approximately 20%.Apraclonidine reduces the formation of aqueous humour but has  no effect on the facilitation of outflow.It has affinity for both α1  and α2 adreno-receptors and are used to prevent postsurgical  elevation of IOP after anterior segment laser therapy.Apraclonidine  reduces baseline IOP by 30% and is additionally used as adjuvant  therapy in resistant cases of glaucoma.Systemic side effects of the  alpha agonists are related to the central nervous system (headache,  fatigue, insomnia, depression) and respiratory system.Caution  should be taken in patients with cerebral or coronary insufficiency,  postural hypotension and renal or hepatic failure.Hypersensitivity  reactions, ocular irritation, eyelid edema, foreign body sensation  and dry eyes are common with topical use.Pilocarpine is the only available cholinergic agent in the  management of acute closed-angle glaucoma registered in South  Africa.Administration results in the increase in aqueous humour  outflow by contraction of the ciliary muscle and constriction of the  pupil.Poorly tolerated side effects, such as ciliary muscle spasm,  myopia and decreased vision limits its usefulness.Although prostaglandin receptor agonists are the most potent  agents in reducing the IOP, beta blockers are regarded as the first  choice in treating open angle glaucoma.Individual agents differ in  their ability to lower IOP, with betaxolol achieving a 15% decrease,  compared to 20–25% with timolol and levobunolol respectively.Betaxolol is, however, more cardioselective (β1) and therefore has  fewer pulmonary side effects compared to timolol and levobunolol  (which are non-selective antagonists on β1 and β2 receptors).The  mechanism involves a reduction of aqueous humour production  and does not cause miosis or accommodation disturbances  compared to cholinergic agents.The most common adverse effects  are ocular irritation and dry eyes.All the β blockers (including the  cardioselective agents) are contraindicated in patients with asthma,  COPD and bradycardia, unless alternative treatment is unavailable.Several combination agents are available in the treatment of  glaucoma.Most of these combinations include timolol, since  β blockers are still considered first line therapy in open-angle  glaucoma and ocular hypertension.Fixed-dose combination  therapy is more efficacious than its individual components, but still  less efficacious than its respective unfixed combinations.It provides  for simplified treatment regimes and enhances compliance.Fixed  dose combinations containing prostaglandins have a lower risk  in causing hyperemia.Combination of timolol with dorzolamide  is superior in visual field preservation compared to timolol and  brinzolamide.Combination preparations with brimonidine  have less visual disturbances, taste alterations and ocular allergic  reactions compared to the single ingredient product.With the recent attention cannabis has been receiving in the  management of pain and other cancer related conditions, it  is important to remember the favourable effect of its active  ingredient, Δ -tetrahydrocannabinol (THC), in reducing ocular  blood flow.Studies from the 1970s have reported a 30% reduction  in the IOP by inhalation or intravenous administration of THC.The  use is, however, limited owing to the cardiovascular (increased heart  rate and decreased blood pressure) and neurological (tolerance  and addiction) side effects.Topical application does not produce  a significant clinical effect.The use of synthetic cannabinoids may  provide a basis for potential future treatment strategies.General practitioners and family physicians play an important  role in the diagnosis and appropriate referral of patients with  suspected glaucoma.Fundoscopic examinations are quick and  easy to perform and are an opportunity that present at each  consultation.The early recognition of symptoms may improve  outcomes and delay progression.Taking a good medical history  and applying the principles of rational drug use may identify  potential pharmacological causes for glaucoma.Practitioners  prescribing any of the drugs known to cause acute angle glaucoma  should be vigilant in patients presenting with characteristic signs  or symptoms, and immediately refer them to an ophthalmologist.Patients need to be counselled on the associated adverse effects  from glaucoma medication in order to improve adherence.'"
            ],
            "application/vnd.google.colaboratory.intrinsic+json": {
              "type": "string"
            }
          },
          "metadata": {},
          "execution_count": 122
        }
      ]
    },
    {
      "cell_type": "markdown",
      "source": [
        "## Bio Medical Text Summarization using huggingface model card : **sumedh/biomedical_text_summarization**"
      ],
      "metadata": {
        "id": "KkPjtU82VYvV"
      }
    },
    {
      "cell_type": "code",
      "source": [
        "sbio_tokenizer = AutoTokenizer.from_pretrained(\"t5-large\")\n",
        "sbio_model = AutoModelForSeq2SeqLM.from_pretrained(\"sumedh/biomedical_text_summarization\")"
      ],
      "metadata": {
        "colab": {
          "base_uri": "https://localhost:8080/"
        },
        "id": "aMHQjlAtTpMg",
        "outputId": "525c97d4-8967-42dd-8d59-05c7c95e7367"
      },
      "execution_count": 132,
      "outputs": [
        {
          "output_type": "stream",
          "name": "stderr",
          "text": [
            "/usr/local/lib/python3.8/dist-packages/transformers/models/t5/tokenization_t5_fast.py:155: FutureWarning: This tokenizer was incorrectly instantiated with a model max length of 512 which will be corrected in Transformers v5.\n",
            "For now, this behavior is kept to avoid breaking backwards compatibility when padding/encoding with `truncation is True`.\n",
            "- Be aware that you SHOULD NOT rely on t5-large automatically truncating your input to 512 when padding/encoding.\n",
            "- If you want to encode/pad to sequences longer than 512 you can either instantiate this tokenizer with `model_max_length` or pass `max_length` when encoding/padding.\n",
            "- To avoid this warning, please instantiate this tokenizer with `model_max_length` set to your preferred value.\n",
            "  warnings.warn(\n"
          ]
        }
      ]
    },
    {
      "cell_type": "code",
      "source": [
        "tokenized_text = tokenizer.encode(input_,return_tensors=\"pt\",max_length=1024,truncation=True)\n",
        "summary = model.generate(tokenized_text,min_length=30,max_length=500)\n",
        "summary_text = tokenizer.decode(summary[0],skip_special_tokens=True)\n",
        "\".\".join([text.strip().capitalize() for text in summary_text.split(\".\")])"
      ],
      "metadata": {
        "colab": {
          "base_uri": "https://localhost:8080/",
          "height": 142
        },
        "id": "UaL2HO8ZVrdt",
        "outputId": "dc2d9a4d-7c66-4bfe-95d0-8ced7efb49d2"
      },
      "execution_count": 6,
      "outputs": [
        {
          "output_type": "stream",
          "name": "stderr",
          "text": [
            "/usr/local/lib/python3.8/dist-packages/transformers/modeling_utils.py:764: FutureWarning: The `device` argument is deprecated and will be removed in v5 of Transformers.\n",
            "  warnings.warn(\n"
          ]
        },
        {
          "output_type": "execute_result",
          "data": {
            "text/plain": [
              "'Glaucoma is a mixed group of eye disorders sharing common features which typically includes optic disc cupping and visual field loss, thereby more accurately defined as an optic neuropathy.The aim of this study was to evaluate the effect of intraocular pressure on nerve damage in patients with retinal ganglionic cell loss and irreversible blindness.We performed a comparative analysis of peripheral blood mononuclear cells from two groups of eyes that were treated with corticosteroids for three consecutive days using a combination of electrophoresis'"
            ],
            "application/vnd.google.colaboratory.intrinsic+json": {
              "type": "string"
            }
          },
          "metadata": {},
          "execution_count": 6
        }
      ]
    },
    {
      "cell_type": "markdown",
      "source": [
        "**Save the summary generated into a text into a text file**"
      ],
      "metadata": {
        "id": "uh54m4JVXRvN"
      }
    },
    {
      "cell_type": "code",
      "source": [
        "with open('sumedh_biomedical.txt',\"a+\") as f:\n",
        "  f.write(\".\".join([text.strip().capitalize() for text in summary_text.split(\".\")]))"
      ],
      "metadata": {
        "id": "oCw0er4GXCDW"
      },
      "execution_count": 7,
      "outputs": []
    },
    {
      "cell_type": "markdown",
      "source": [
        "## Model Card : PeterBanning71/t5-small-finetuned-bioMedv1"
      ],
      "metadata": {
        "id": "Vn6-zGlPXqHc"
      }
    },
    {
      "cell_type": "code",
      "source": [
        "tokenizer = AutoTokenizer.from_pretrained(\"PeterBanning71/t5-small-finetuned-bioMedv1\")\n",
        "model = AutoModelForSeq2SeqLM.from_pretrained(\"PeterBanning71/t5-small-finetuned-bioMedv1\")"
      ],
      "metadata": {
        "colab": {
          "base_uri": "https://localhost:8080/",
          "height": 209,
          "referenced_widgets": [
            "3207afaf9c09434e9e1858037798cd24",
            "c3e55e2db4d0454e8ee15b30b8778242",
            "2fd236a0a86f4f2a89539dfc214815ac",
            "54c2e88d33f64766999ca23fef054f25",
            "e8754c5288da4e9394e5f61714829acd",
            "e8f2412d834145009e9cbba655468b99",
            "28a1aca284364c60bd29bf170542dd12",
            "448bfc8b7d1647059f5d2c27ab1795e5",
            "fcf023a22c23401b930ef258b73c9b2a",
            "9853f3ca13b14a34bdbe24f2ab0a436d",
            "102e0408271247daae050ef04d1486a0",
            "f7ea1430fbed468f946011ae530fce75",
            "1562c027cbfe45c2a746758980b48039",
            "97f59df81d2043f1ba5d750f499fb5ea",
            "51cf757b2068463faafeaa7d723d8fdc",
            "56d2a9fd70434532ad3edc76ec19705c",
            "24f6d2746c2d46c1be70d3c83a1f6bcf",
            "0eef74eb5d254980b1e2a0fee067352d",
            "eaaa8f2b3a6c4191bad0bf312bd013d0",
            "ac207b8b1d7a41739e13d66f0a1d918d",
            "df8914bffe5d4685a77e2417cb74b55a",
            "d2f861d8c6304a6fad4cd9fec44fc6d9",
            "8fbaa069e01a42a8a4eee44c53323331",
            "f4080deb642543ddaf2751484bab773d",
            "33b37f0accec4b5ca654e4226b18a13f",
            "b8a78a982ada45d59d4dc4cf54ed5782",
            "6acaea188f454288b11cf2cc3e8c0ecc",
            "3f614998defd45119de4624156c7f7da",
            "2725c9214c4543288b4a26ccb0b4ded9",
            "310d87a3afb04b6eb897fc1160a40f98",
            "2e3cdd8f7d0d4725bdfe1e466d99e432",
            "74ef4040590a4806b5cb5c01aaf51872",
            "279c9f87a43b4928a19aafbcce96fcbf",
            "e2031c2593eb4221945a3043be806691",
            "e708e26a229e465cbb52f937f453ad2d",
            "9852f062f61e49ed80e8eb5f34638296",
            "6dfe1ff3ab7a445fb9a048dac440cc8c",
            "e772c0e2cd8d4df9883556f7af428b7f",
            "7071930f772e41588edff082a81fef80",
            "c8c32052e91a45eea5a06294f83c753f",
            "e3bf2f8c0b4149f1989cb7aca729687d",
            "b5573d74ca3b4a839b3b130ece8f6edc",
            "1c3faf82c0d543abb433cd6c88673efd",
            "8dc50a9ed0db436cadac252e2dc19faf",
            "c323ddb413bc4eaea294c35b961c0454",
            "3da1ae02538842a28cdcbbe8aa1a32e3",
            "ece30c045e28491699b4a5b6b1018a92",
            "0f915896af824ba98bed25b264d3da62",
            "4073d95fdb7c4368a8e80642c2868beb",
            "95e9f499eb7f41e987d8945214b140b9",
            "2e9b919f5d2642d8976ed4a7018c2755",
            "640f37890b134186903fbf18065cc24e",
            "5f1efa5a8f3e416da9946b48df702927",
            "9454a3c24c004e05b953912416b661bf",
            "cc5b7b6390a74621a9c28d6daacdb66e",
            "cd6f4af2e46445c1a41d96e2ec25aa91",
            "a0193e5a98d548349678501fb0dcd9db",
            "46285618fe96487a9918349a8aedb8f4",
            "4c3cb949d8524473b82acce3678e4281",
            "abdad9e5c5d74b0e84e6e50ba090686d",
            "87614abb7181431ca18b7e198ca54e06",
            "7b74203560284a4db49fca6e885f4e0e",
            "d2d24fc48f134f4abb49e7addadf2b9c",
            "146eb3e8869a4f32b48bbb08edf81480",
            "db56911d8e6746ee81e5a3f3a5002a61",
            "59d1154b36164d4eaab8552bda00cc5e"
          ]
        },
        "id": "rrn5dfBzYdHf",
        "outputId": "0196708b-a91a-4f8b-c84a-61ef87f3d575"
      },
      "execution_count": 8,
      "outputs": [
        {
          "output_type": "display_data",
          "data": {
            "text/plain": [
              "Downloading (…)okenizer_config.json:   0%|          | 0.00/2.35k [00:00<?, ?B/s]"
            ],
            "application/vnd.jupyter.widget-view+json": {
              "version_major": 2,
              "version_minor": 0,
              "model_id": "3207afaf9c09434e9e1858037798cd24"
            }
          },
          "metadata": {}
        },
        {
          "output_type": "display_data",
          "data": {
            "text/plain": [
              "Downloading (…)/main/tokenizer.json:   0%|          | 0.00/2.42M [00:00<?, ?B/s]"
            ],
            "application/vnd.jupyter.widget-view+json": {
              "version_major": 2,
              "version_minor": 0,
              "model_id": "f7ea1430fbed468f946011ae530fce75"
            }
          },
          "metadata": {}
        },
        {
          "output_type": "display_data",
          "data": {
            "text/plain": [
              "Downloading (…)cial_tokens_map.json:   0%|          | 0.00/2.20k [00:00<?, ?B/s]"
            ],
            "application/vnd.jupyter.widget-view+json": {
              "version_major": 2,
              "version_minor": 0,
              "model_id": "8fbaa069e01a42a8a4eee44c53323331"
            }
          },
          "metadata": {}
        },
        {
          "output_type": "display_data",
          "data": {
            "text/plain": [
              "Downloading (…)lve/main/config.json:   0%|          | 0.00/1.47k [00:00<?, ?B/s]"
            ],
            "application/vnd.jupyter.widget-view+json": {
              "version_major": 2,
              "version_minor": 0,
              "model_id": "e2031c2593eb4221945a3043be806691"
            }
          },
          "metadata": {}
        },
        {
          "output_type": "display_data",
          "data": {
            "text/plain": [
              "Downloading (…)\"pytorch_model.bin\";:   0%|          | 0.00/242M [00:00<?, ?B/s]"
            ],
            "application/vnd.jupyter.widget-view+json": {
              "version_major": 2,
              "version_minor": 0,
              "model_id": "c323ddb413bc4eaea294c35b961c0454"
            }
          },
          "metadata": {}
        },
        {
          "output_type": "display_data",
          "data": {
            "text/plain": [
              "Downloading (…)neration_config.json:   0%|          | 0.00/142 [00:00<?, ?B/s]"
            ],
            "application/vnd.jupyter.widget-view+json": {
              "version_major": 2,
              "version_minor": 0,
              "model_id": "cd6f4af2e46445c1a41d96e2ec25aa91"
            }
          },
          "metadata": {}
        }
      ]
    },
    {
      "cell_type": "code",
      "source": [
        "prompt = \"Summarization:\"+input_"
      ],
      "metadata": {
        "id": "3dk0804aZLfZ"
      },
      "execution_count": 18,
      "outputs": []
    },
    {
      "cell_type": "code",
      "source": [
        "tokenized_text = tokenizer.encode(prompt,return_tensors=\"pt\",max_length=1024,truncation=True)\n",
        "summary = model.generate(tokenized_text,min_length=30,max_length=500)\n",
        "summary_text = tokenizer.decode(summary[0],skip_special_tokens=True)\n",
        "summary_text.replace(\":\",\"\")"
      ],
      "metadata": {
        "colab": {
          "base_uri": "https://localhost:8080/",
          "height": 70
        },
        "id": "c2Tv5feuY7r1",
        "outputId": "247abb55-ae27-4e9e-c0a2-48b566ad25da"
      },
      "execution_count": 22,
      "outputs": [
        {
          "output_type": "execute_result",
          "data": {
            "text/plain": [
              "'Glaucoma is a mixed group of eye disorders sharing common features which typically includes optic disc cupping and visual field loss, thereby more accurately defined as an optic neuropathy.Optic nerve damage results in progressive retinal ganglionic cell loss and irreversible blindness, if not treated.'"
            ],
            "application/vnd.google.colaboratory.intrinsic+json": {
              "type": "string"
            }
          },
          "metadata": {},
          "execution_count": 22
        }
      ]
    },
    {
      "cell_type": "code",
      "source": [
        "with open('PeterBaning_biomedical.txt',\"a+\") as f:\n",
        "  f.write(summary_text.replace(\":\",\"\"))"
      ],
      "metadata": {
        "id": "Xq4Rtz9jaNc1"
      },
      "execution_count": 23,
      "outputs": []
    },
    {
      "cell_type": "markdown",
      "source": [
        "## Model Card : PeterBanning71/**t5-small-finetuned-bioMedv2**"
      ],
      "metadata": {
        "id": "skjvuHRpb7zj"
      }
    },
    {
      "cell_type": "code",
      "source": [
        "bioMedv2_tokenizer = AutoTokenizer.from_pretrained(\"PeterBanning71/t5-small-finetuned-xsum-finetuned-bioMedv2\")\n",
        "bioMedv2_model = AutoModelForSeq2SeqLM.from_pretrained(\"PeterBanning71/t5-small-finetuned-xsum-finetuned-bioMedv2\")"
      ],
      "metadata": {
        "id": "vQtpik1Db9fG"
      },
      "execution_count": 131,
      "outputs": []
    },
    {
      "cell_type": "code",
      "source": [
        "tokenized_text = tokenizer.encode(input_,return_tensors=\"pt\",max_length=1024,truncation=True)\n",
        "summary = model.generate(tokenized_text,min_length=30,max_length=500)\n",
        "summary_text = tokenizer.decode(summary[0],skip_special_tokens=True)\n",
        "summary_text.replace(\":\",\"\")"
      ],
      "metadata": {
        "colab": {
          "base_uri": "https://localhost:8080/",
          "height": 53
        },
        "id": "--00fxjCcD2v",
        "outputId": "acfa61dc-2a2b-4eff-972e-84360a62397e"
      },
      "execution_count": 28,
      "outputs": [
        {
          "output_type": "execute_result",
          "data": {
            "text/plain": [
              "'Glaucoma is a mixed group of eye disorders which share common features which typically includes optic disc cupping and visual field loss, thereby more accurately defined as an optic neuropathy.'"
            ],
            "application/vnd.google.colaboratory.intrinsic+json": {
              "type": "string"
            }
          },
          "metadata": {},
          "execution_count": 28
        }
      ]
    },
    {
      "cell_type": "code",
      "source": [
        "with open('PeterBaning_biomedical_v2.txt',\"a+\") as f:\n",
        "  f.write(summary_text.replace(\":\",\"\"))"
      ],
      "metadata": {
        "id": "9MdiMQUycLXT"
      },
      "execution_count": 29,
      "outputs": []
    },
    {
      "cell_type": "markdown",
      "source": [
        "## Model Card : PeterBanning71/**t5-small-finetuned-bioMedv3**"
      ],
      "metadata": {
        "id": "Npc8ae6RagAg"
      }
    },
    {
      "cell_type": "code",
      "source": [
        "tokenizer = AutoTokenizer.from_pretrained(\"PeterBanning71/t5-small-finetuned-xsum-finetuned-bioMedv3\")\n",
        "model = AutoModelForSeq2SeqLM.from_pretrained(\"PeterBanning71/t5-small-finetuned-xsum-finetuned-bioMedv3\")"
      ],
      "metadata": {
        "id": "264DCR-Eacrs"
      },
      "execution_count": 65,
      "outputs": []
    },
    {
      "cell_type": "code",
      "source": [
        "tokenized_text = tokenizer.encode(input_,return_tensors=\"pt\",max_length=1024,truncation=True)\n",
        "summary = model.generate(tokenized_text,min_length=30,max_length=500)\n",
        "summary_text = tokenizer.decode(summary[0],skip_special_tokens=True)\n",
        "summary_text.replace(\":\",\"\")"
      ],
      "metadata": {
        "colab": {
          "base_uri": "https://localhost:8080/",
          "height": 53
        },
        "id": "wNOgpGqvbfro",
        "outputId": "5b05f0a9-e4c5-4f15-ac4b-4604cada5297"
      },
      "execution_count": 25,
      "outputs": [
        {
          "output_type": "execute_result",
          "data": {
            "text/plain": [
              "'Glaucoma is a mixed group of eye disorders which share common features which typically includes optic disc cupping and visual field loss, thereby more accurately defined as an optic neuropathy.'"
            ],
            "application/vnd.google.colaboratory.intrinsic+json": {
              "type": "string"
            }
          },
          "metadata": {},
          "execution_count": 25
        }
      ]
    },
    {
      "cell_type": "code",
      "source": [
        "with open('PeterBaning_biomedical_v3.txt',\"a+\") as f:\n",
        "  f.write(summary_text.replace(\":\",\"\"))"
      ],
      "metadata": {
        "id": "cg3EieKPbpoK"
      },
      "execution_count": 26,
      "outputs": []
    },
    {
      "cell_type": "markdown",
      "source": [
        "## Auto train Biomedical Model"
      ],
      "metadata": {
        "id": "3_o41qYjj7Gs"
      }
    },
    {
      "cell_type": "code",
      "source": [
        "tokenizer = AutoTokenizer.from_pretrained(\"L-macc/autotrain-Biomedical_sc_summ-1217846142\")\n",
        "model = AutoModelForSeq2SeqLM.from_pretrained(\"L-macc/autotrain-Biomedical_sc_summ-1217846142\")"
      ],
      "metadata": {
        "colab": {
          "base_uri": "https://localhost:8080/",
          "height": 177,
          "referenced_widgets": [
            "30b0bd343e424227995a643ee750e9ad",
            "3fd6bfed7d5a45c1b2f00bf9437f5c37",
            "34f6820ded51499281b599445b1234e2",
            "0b809f5f8c5348bbbcd9e430e4dc38b8",
            "885cea1ab8e6484db05334f31f59af6f",
            "2ee9018c379e430898d7568ccf7e0909",
            "3abe61ab0f1b45f69576e03972b55ec6",
            "7918249e5ead4c1a8b1df569177e627d",
            "0427f51c61d948ef923d8f3d37330824",
            "415db4cae739477d830e6dceaad0e42d",
            "abb8d58cb0ed496caa0340520232e9e1",
            "9215c7e2db3c4236bb96074ddfeed018",
            "e125cea7a5364e0d8379cee8d6bf7217",
            "d43a1d9c8daa43e49f5e2f0695f9e5e9",
            "0f8cbfd9866149e79dd49ef92f6c10f5",
            "7ff7eebbc8714e1bb1465353b50cc644",
            "2252990238af4388bec95adbd4879c3c",
            "89f6f2e3d8d84a149329ab94613b1a04",
            "6838dfef2a5f43f390869411e479b008",
            "41aada6034444dd5b9c8267d72a313cc",
            "51e902b2a12e4a6cac0b76673ba21581",
            "676bf5a219524f318a3e06d632058536",
            "06de1f84c831432a97fd8902c78fdeab",
            "c7958589091b40fc848ad9ba68f64810",
            "945ae25243204f88bbaa44d4109507b5",
            "2dc6bf59b5514df9b0b06281a224a0f5",
            "a50abd9e6dfc49268c2de5d536896ac2",
            "7de154850ccb4b8dbb3734c7f12467ca",
            "042f25600dbd4fbd8ca65b1bc0a1154e",
            "12ed29debff94c2fafe6d338636ed47e",
            "77630ebfad444b97b6983ab24f765a09",
            "abe20557ed494029b3551f7826e042e5",
            "598657ce0a294cc5aefbc0c87879dc9f",
            "6e160b00baa141fd836e80aed8fb0682",
            "37e79450774a4fd3871bd4fb89c98b49",
            "6a1f88c75e9347ecbc25b1cbfac1dbb2",
            "15a483d201a048bb8baf1bc40ea96fe5",
            "3b3c2a476523452794c167387f51c17e",
            "b13a43493cc84df7b7b650577e82ba6f",
            "e7f223da16f44a0fa6a613219f948fca",
            "49fb055a894f4010ba38e9afc9907f12",
            "fe1da3dac3df4afe9b1224fbedc0341c",
            "d340e5472a534270a26d9b22a56abf0a",
            "f2b309126b5143049963ede2ad584d6d",
            "b90f7e9d3bf342b1a377a6205b2b0f76",
            "d0a3b3b50e6b4d048caa97bc88dd862a",
            "177d9b6220a24b9b9c3e78d5124ead03",
            "6e1c05efcfbd47d3a75b078bf6fbc37c",
            "a4764562098045a194a3fd92befb98b1",
            "47d7bed31f794a3f800cad05b361cf6a",
            "67004baf3bef479cac5fca4191175223",
            "4804b069b4de42a18c1ea218fe6c72bf",
            "4a7075a9befe4525bbe58201d4c269d2",
            "11a1b2be50ba4fdba729570eb556fb05",
            "0f639419289b48cb9a615400ae7e8571"
          ]
        },
        "id": "n4nyPvJJfoVV",
        "outputId": "3518bd82-1f0b-41f3-c897-dba29a666407"
      },
      "execution_count": 30,
      "outputs": [
        {
          "output_type": "display_data",
          "data": {
            "text/plain": [
              "Downloading (…)okenizer_config.json:   0%|          | 0.00/2.32k [00:00<?, ?B/s]"
            ],
            "application/vnd.jupyter.widget-view+json": {
              "version_major": 2,
              "version_minor": 0,
              "model_id": "30b0bd343e424227995a643ee750e9ad"
            }
          },
          "metadata": {}
        },
        {
          "output_type": "display_data",
          "data": {
            "text/plain": [
              "Downloading (…)/main/tokenizer.json:   0%|          | 0.00/2.42M [00:00<?, ?B/s]"
            ],
            "application/vnd.jupyter.widget-view+json": {
              "version_major": 2,
              "version_minor": 0,
              "model_id": "9215c7e2db3c4236bb96074ddfeed018"
            }
          },
          "metadata": {}
        },
        {
          "output_type": "display_data",
          "data": {
            "text/plain": [
              "Downloading (…)cial_tokens_map.json:   0%|          | 0.00/2.20k [00:00<?, ?B/s]"
            ],
            "application/vnd.jupyter.widget-view+json": {
              "version_major": 2,
              "version_minor": 0,
              "model_id": "06de1f84c831432a97fd8902c78fdeab"
            }
          },
          "metadata": {}
        },
        {
          "output_type": "display_data",
          "data": {
            "text/plain": [
              "Downloading (…)lve/main/config.json:   0%|          | 0.00/1.05k [00:00<?, ?B/s]"
            ],
            "application/vnd.jupyter.widget-view+json": {
              "version_major": 2,
              "version_minor": 0,
              "model_id": "6e160b00baa141fd836e80aed8fb0682"
            }
          },
          "metadata": {}
        },
        {
          "output_type": "display_data",
          "data": {
            "text/plain": [
              "Downloading (…)\"pytorch_model.bin\";:   0%|          | 0.00/3.13G [00:00<?, ?B/s]"
            ],
            "application/vnd.jupyter.widget-view+json": {
              "version_major": 2,
              "version_minor": 0,
              "model_id": "b90f7e9d3bf342b1a377a6205b2b0f76"
            }
          },
          "metadata": {}
        }
      ]
    },
    {
      "cell_type": "code",
      "source": [
        "tokenized_text = tokenizer.encode(input_,return_tensors=\"pt\",max_length=1024,truncation=True)\n",
        "summary = model.generate(tokenized_text,min_length=30,max_length=600)\n",
        "summary_text = tokenizer.decode(summary[0],skip_special_tokens=True)\n",
        "summary_text.replace(\":\",\"\")"
      ],
      "metadata": {
        "colab": {
          "base_uri": "https://localhost:8080/",
          "height": 88
        },
        "id": "mwjn3W7-iCG7",
        "outputId": "0c4397f5-4a0e-4093-8eca-ab966d6e99d5"
      },
      "execution_count": 34,
      "outputs": [
        {
          "output_type": "execute_result",
          "data": {
            "text/plain": [
              "'glaucoma is a mixed group of eye disorders sharing common features which typically includes optic disc cupping and visual field loss, thereby more accurately defined as an optic neuropathy. optical nerve damage results in progressive retinal ganglionic cell loss and irreversible blindness, if not treated. we report here on the case of a patient with glaococcus who presented with increased intraocular pressure due to elevated intra'"
            ],
            "application/vnd.google.colaboratory.intrinsic+json": {
              "type": "string"
            }
          },
          "metadata": {},
          "execution_count": 34
        }
      ]
    },
    {
      "cell_type": "code",
      "source": [
        "summary_text"
      ],
      "metadata": {
        "colab": {
          "base_uri": "https://localhost:8080/",
          "height": 88
        },
        "id": "VpQIrf8SiTTi",
        "outputId": "8c020b2c-5951-405c-8353-f5a97498a83e"
      },
      "execution_count": 32,
      "outputs": [
        {
          "output_type": "execute_result",
          "data": {
            "text/plain": [
              "'glaucoma is a mixed group of eye disorders sharing common features which typically includes optic disc cupping and visual field loss, thereby more accurately defined as an optic neuropathy. optical nerve damage results in progressive retinal ganglionic cell loss and irreversible blindness, if not treated. we report here on the case of a patient with glaococcus who presented with increased intraocular pressure due to elevated intra'"
            ],
            "application/vnd.google.colaboratory.intrinsic+json": {
              "type": "string"
            }
          },
          "metadata": {},
          "execution_count": 32
        }
      ]
    },
    {
      "cell_type": "code",
      "source": [
        "\".\".join([text.strip().capitalize() for text in summary_text.split(\".\")])"
      ],
      "metadata": {
        "colab": {
          "base_uri": "https://localhost:8080/",
          "height": 88
        },
        "id": "kInEAr4lifEi",
        "outputId": "a390fa5a-b1f1-459d-97d8-f45865996efe"
      },
      "execution_count": 33,
      "outputs": [
        {
          "output_type": "execute_result",
          "data": {
            "text/plain": [
              "'Glaucoma is a mixed group of eye disorders sharing common features which typically includes optic disc cupping and visual field loss, thereby more accurately defined as an optic neuropathy.Optical nerve damage results in progressive retinal ganglionic cell loss and irreversible blindness, if not treated.We report here on the case of a patient with glaococcus who presented with increased intraocular pressure due to elevated intra'"
            ],
            "application/vnd.google.colaboratory.intrinsic+json": {
              "type": "string"
            }
          },
          "metadata": {},
          "execution_count": 33
        }
      ]
    },
    {
      "cell_type": "markdown",
      "source": [
        "## google/bigbird-pegasus-large-arxiv"
      ],
      "metadata": {
        "id": "AADilzKsndNw"
      }
    },
    {
      "cell_type": "code",
      "source": [
        "from transformers import BigBirdPegasusForConditionalGeneration, AutoTokenizer\n",
        "\n",
        "tokenizer = AutoTokenizer.from_pretrained(\"google/bigbird-pegasus-large-arxiv\")\n",
        "\n",
        "# by default encoder-attention is `block_sparse` with num_random_blocks=3, block_size=64\n",
        "model = BigBirdPegasusForConditionalGeneration.from_pretrained(\"google/bigbird-pegasus-large-arxiv\")\n",
        "\n",
        "# decoder attention type can't be changed & will be \"original_full\"\n",
        "# you can change `attention_type` (encoder only) to full attention like this:\n",
        "#model = BigBirdPegasusForConditionalGeneration.from_pretrained(\"google/bigbird-pegasus-large-arxiv\", attention_type=\"original_full\")\n",
        "\n",
        "# you can change `block_size` & `num_random_blocks` like this:\n",
        "model = BigBirdPegasusForConditionalGeneration.from_pretrained(\"google/bigbird-pegasus-large-arxiv\", block_size=16, num_random_blocks=2)\n",
        "\n",
        "inputs = tokenizer(input_, return_tensors='pt',max_length=500)\n",
        "prediction = model.generate(**inputs)\n",
        "prediction = tokenizer.batch_decode(prediction,skip_special_tokens=True)\n"
      ],
      "metadata": {
        "colab": {
          "base_uri": "https://localhost:8080/"
        },
        "id": "q0nlakXmkCnc",
        "outputId": "17c47e3e-24a2-48cb-b447-1d1ff63ec3db"
      },
      "execution_count": 37,
      "outputs": [
        {
          "output_type": "stream",
          "name": "stderr",
          "text": [
            "Truncation was not explicitly activated but `max_length` is provided a specific value, please use `truncation=True` to explicitly truncate examples to max length. Defaulting to 'longest_first' truncation strategy. If you encode pairs of sequences (GLUE-style) with the tokenizer you can select this strategy more precisely by providing a specific strategy to `truncation`.\n",
            "/usr/local/lib/python3.8/dist-packages/transformers/generation/utils.py:1273: UserWarning: Neither `max_length` nor `max_new_tokens` has been set, `max_length` will default to 256 (`generation_config.max_length`). Controlling `max_length` via the config is deprecated and `max_length` will be removed from the config in v5 of Transformers -- we recommend using `max_new_tokens` to control the maximum length of the generation.\n",
            "  warnings.warn(\n"
          ]
        }
      ]
    },
    {
      "cell_type": "code",
      "source": [
        "# you can change `block_size` & `num_random_blocks` like this:\n",
        "model = BigBirdPegasusForConditionalGeneration.from_pretrained(\"google/bigbird-pegasus-large-arxiv\")\n",
        "prompt = f\"Text Summarization : {input_}\"\n",
        "inputs = tokenizer(input_, return_tensors='pt',max_length=500,truncation=True)\n",
        "prediction = model.generate(**inputs)\n",
        "prediction = tokenizer.batch_decode(prediction,skip_special_tokens=True)"
      ],
      "metadata": {
        "colab": {
          "base_uri": "https://localhost:8080/"
        },
        "id": "nCXQ8WrSleH4",
        "outputId": "35bbbb6e-a0a4-4ef5-9edd-72bc2def51f7"
      },
      "execution_count": 41,
      "outputs": [
        {
          "output_type": "stream",
          "name": "stderr",
          "text": [
            "Attention type 'block_sparse' is not possible if sequence_length: 94 <= num global tokens: 2 * config.block_size + min. num sliding tokens: 3 * config.block_size + config.num_random_blocks * config.block_size + additional buffer: config.num_random_blocks * config.block_size = 704 with config.block_size = 64, config.num_random_blocks = 3. Changing attention type to 'original_full'...\n"
          ]
        }
      ]
    },
    {
      "cell_type": "code",
      "source": [
        "tokenizer.model_max_length"
      ],
      "metadata": {
        "colab": {
          "base_uri": "https://localhost:8080/"
        },
        "id": "CWBbtO61sG87",
        "outputId": "c7cda31a-260b-4056-9645-b58efb8d38cc"
      },
      "execution_count": 49,
      "outputs": [
        {
          "output_type": "execute_result",
          "data": {
            "text/plain": [
              "4096"
            ]
          },
          "metadata": {},
          "execution_count": 49
        }
      ]
    },
    {
      "cell_type": "code",
      "source": [
        "max_source_length = max([len(x) for x in inputs.input_ids])\n",
        "print(f\"Max source length: {max_source_length}\")"
      ],
      "metadata": {
        "colab": {
          "base_uri": "https://localhost:8080/"
        },
        "id": "wpqB3tZzsNfP",
        "outputId": "c5faf2f4-3c41-43d8-aed9-410f49bce22b"
      },
      "execution_count": 46,
      "outputs": [
        {
          "output_type": "stream",
          "name": "stdout",
          "text": [
            "Max source length: 100\n"
          ]
        }
      ]
    },
    {
      "cell_type": "code",
      "source": [
        "prediction"
      ],
      "metadata": {
        "colab": {
          "base_uri": "https://localhost:8080/"
        },
        "id": "5SEyOrF1khn0",
        "outputId": "00a0e973-fb01-443c-c408-994b2f69491c"
      },
      "execution_count": 48,
      "outputs": [
        {
          "output_type": "execute_result",
          "data": {
            "text/plain": [
              "['in the case of blindness in a mixed group of optic sharing features, the presence of pressure in the visual field loss has been characterized. in the case of blindness in a mixed group of optic sharing features, the presence of pressure in the visual field loss has been characterized. in this paper, we have characterized the presence of pressure in the visual field loss in a mixed group of optic sharing features. <n> we have characterized the presence of pressure in the visual field loss in a mixed group of optic sharing features. <n> we have characterized the presence of pressure in the visual field loss in a mixed group of optic sharing features. <n> we have characterized the presence of pressure in the visual field loss in a mixed group of optic sharing features. <n> we have characterized the presence of pressure in the visual field loss in a mixed group of optic sharing features. <n> we have characterized the presence of pressure in the visual field loss in a mixed group of optic sharing features. <n> we have characterized the presence of pressure in the visual field loss in a mixed group of optic sharing features. <n> we have characterized the presence of pressure in the visual field loss in a mixed group of optic sharing features. <n>']"
            ]
          },
          "metadata": {},
          "execution_count": 48
        }
      ]
    },
    {
      "cell_type": "markdown",
      "source": [
        "## Long text summarization"
      ],
      "metadata": {
        "id": "oVnIQ0HQxtQE"
      }
    },
    {
      "cell_type": "code",
      "source": [],
      "metadata": {
        "id": "hiPP_6NtyVAS"
      },
      "execution_count": null,
      "outputs": []
    },
    {
      "cell_type": "markdown",
      "source": [
        "## Haystack"
      ],
      "metadata": {
        "id": "x0IE_s4tWGqW"
      }
    },
    {
      "cell_type": "code",
      "source": [
        "%%bash\n",
        "pip install git+https://github.com/deepset-ai/haystack.git#egg=farm-haystack[colab,ocr]"
      ],
      "metadata": {
        "colab": {
          "base_uri": "https://localhost:8080/"
        },
        "id": "C11r4drI_Ukv",
        "outputId": "915a4b83-1408-4afc-f07a-1a41934444fa"
      },
      "execution_count": null,
      "outputs": [
        {
          "output_type": "stream",
          "name": "stdout",
          "text": [
            "Looking in indexes: https://pypi.org/simple, https://us-python.pkg.dev/colab-wheels/public/simple/\n",
            "Collecting farm-haystack[colab,ocr]\n",
            "  Cloning https://github.com/deepset-ai/haystack.git to /tmp/pip-install-llezqpsl/farm-haystack_b44fd738586d41acbc2bf0733b356e07\n",
            "  Resolved https://github.com/deepset-ai/haystack.git to commit 44509cd6a1db8deefa9dfb9dfbeb6a058c03cc7c\n",
            "  Installing build dependencies: started\n",
            "  Installing build dependencies: finished with status 'done'\n",
            "  Getting requirements to build wheel: started\n",
            "  Getting requirements to build wheel: finished with status 'done'\n",
            "  Preparing metadata (pyproject.toml): started\n",
            "  Preparing metadata (pyproject.toml): finished with status 'done'\n",
            "Collecting azure-ai-formrecognizer>=3.2.0b2\n",
            "  Downloading azure_ai_formrecognizer-3.2.0-py3-none-any.whl (228 kB)\n",
            "     ━━━━━━━━━━━━━━━━━━━━━━━━━━━━━━━━━━━━━━ 228.4/228.4 KB 15.5 MB/s eta 0:00:00\n",
            "Collecting seqeval\n",
            "  Downloading seqeval-1.2.2.tar.gz (43 kB)\n",
            "     ━━━━━━━━━━━━━━━━━━━━━━━━━━━━━━━━━━━━━━━━ 43.6/43.6 KB 6.0 MB/s eta 0:00:00\n",
            "  Preparing metadata (setup.py): started\n",
            "  Preparing metadata (setup.py): finished with status 'done'\n",
            "Requirement already satisfied: scikit-learn>=1.0.0 in /usr/local/lib/python3.8/dist-packages (from farm-haystack[colab,ocr]) (1.0.2)\n",
            "Requirement already satisfied: pydantic in /usr/local/lib/python3.8/dist-packages (from farm-haystack[colab,ocr]) (1.10.4)\n",
            "Requirement already satisfied: dill in /usr/local/lib/python3.8/dist-packages (from farm-haystack[colab,ocr]) (0.3.6)\n",
            "Collecting rank-bm25\n",
            "  Downloading rank_bm25-0.2.2-py3-none-any.whl (8.6 kB)\n",
            "Collecting sentence-transformers>=2.2.0\n",
            "  Downloading sentence-transformers-2.2.2.tar.gz (85 kB)\n",
            "     ━━━━━━━━━━━━━━━━━━━━━━━━━━━━━━━━━━━━━━━━ 86.0/86.0 KB 11.1 MB/s eta 0:00:00\n",
            "  Preparing metadata (setup.py): started\n",
            "  Preparing metadata (setup.py): finished with status 'done'\n",
            "Collecting tika\n",
            "  Downloading tika-2.6.0.tar.gz (27 kB)\n",
            "  Preparing metadata (setup.py): started\n",
            "  Preparing metadata (setup.py): finished with status 'done'\n",
            "Requirement already satisfied: tenacity in /usr/local/lib/python3.8/dist-packages (from farm-haystack[colab,ocr]) (8.2.0)\n",
            "Collecting posthog\n",
            "  Downloading posthog-2.3.1-py2.py3-none-any.whl (34 kB)\n",
            "Requirement already satisfied: protobuf<=3.20.2 in /usr/local/lib/python3.8/dist-packages (from farm-haystack[colab,ocr]) (3.19.6)\n",
            "Collecting tiktoken>=0.1.2\n",
            "  Downloading tiktoken-0.2.0-cp38-cp38-manylinux_2_17_x86_64.manylinux2014_x86_64.whl (1.6 MB)\n",
            "     ━━━━━━━━━━━━━━━━━━━━━━━━━━━━━━━━━━━━━━━━ 1.6/1.6 MB 74.1 MB/s eta 0:00:00\n",
            "Collecting langdetect\n",
            "  Downloading langdetect-1.0.9.tar.gz (981 kB)\n",
            "     ━━━━━━━━━━━━━━━━━━━━━━━━━━━━━━━━━━━━━━ 981.5/981.5 KB 64.2 MB/s eta 0:00:00\n",
            "  Preparing metadata (setup.py): started\n",
            "  Preparing metadata (setup.py): finished with status 'done'\n",
            "Collecting python-docx\n",
            "  Downloading python-docx-0.8.11.tar.gz (5.6 MB)\n",
            "     ━━━━━━━━━━━━━━━━━━━━━━━━━━━━━━━━━━━━━━━━ 5.6/5.6 MB 77.2 MB/s eta 0:00:00\n",
            "  Preparing metadata (setup.py): started\n",
            "  Preparing metadata (setup.py): finished with status 'done'\n",
            "Collecting rapidfuzz<2.8.0,>=2.0.15\n",
            "  Downloading rapidfuzz-2.7.0-cp38-cp38-manylinux_2_17_x86_64.manylinux2014_x86_64.whl (2.1 MB)\n",
            "     ━━━━━━━━━━━━━━━━━━━━━━━━━━━━━━━━━━━━━━━━ 2.1/2.1 MB 12.6 MB/s eta 0:00:00\n",
            "Collecting huggingface-hub>=0.5.0\n",
            "  Downloading huggingface_hub-0.12.1-py3-none-any.whl (190 kB)\n",
            "     ━━━━━━━━━━━━━━━━━━━━━━━━━━━━━━━━━━━━━━ 190.3/190.3 KB 24.8 MB/s eta 0:00:00\n",
            "Collecting quantulum3\n",
            "  Downloading quantulum3-0.8.1-py3-none-any.whl (10.7 MB)\n",
            "     ━━━━━━━━━━━━━━━━━━━━━━━━━━━━━━━━━━━━━━━━ 10.7/10.7 MB 76.5 MB/s eta 0:00:00\n",
            "Requirement already satisfied: pandas in /usr/local/lib/python3.8/dist-packages (from farm-haystack[colab,ocr]) (1.3.5)\n",
            "Requirement already satisfied: nltk in /usr/local/lib/python3.8/dist-packages (from farm-haystack[colab,ocr]) (3.7)\n",
            "Requirement already satisfied: networkx in /usr/local/lib/python3.8/dist-packages (from farm-haystack[colab,ocr]) (3.0)\n",
            "Collecting transformers[torch]==4.25.1\n",
            "  Downloading transformers-4.25.1-py3-none-any.whl (5.8 MB)\n",
            "     ━━━━━━━━━━━━━━━━━━━━━━━━━━━━━━━━━━━━━━━━ 5.8/5.8 MB 108.4 MB/s eta 0:00:00\n",
            "Collecting mmh3\n",
            "  Downloading mmh3-3.0.0-cp38-cp38-manylinux2010_x86_64.whl (50 kB)\n",
            "     ━━━━━━━━━━━━━━━━━━━━━━━━━━━━━━━━━━━━━━━━ 50.0/50.0 KB 7.3 MB/s eta 0:00:00\n",
            "Requirement already satisfied: requests in /usr/local/lib/python3.8/dist-packages (from farm-haystack[colab,ocr]) (2.25.1)\n",
            "Requirement already satisfied: scipy>=1.3.2 in /usr/local/lib/python3.8/dist-packages (from farm-haystack[colab,ocr]) (1.7.3)\n",
            "Requirement already satisfied: tqdm in /usr/local/lib/python3.8/dist-packages (from farm-haystack[colab,ocr]) (4.64.1)\n",
            "Requirement already satisfied: jsonschema in /usr/local/lib/python3.8/dist-packages (from farm-haystack[colab,ocr]) (4.3.3)\n",
            "Collecting elasticsearch<8,>=7.7\n",
            "  Downloading elasticsearch-7.17.9-py2.py3-none-any.whl (385 kB)\n",
            "     ━━━━━━━━━━━━━━━━━━━━━━━━━━━━━━━━━━━━━━ 386.0/386.0 KB 42.4 MB/s eta 0:00:00\n",
            "Collecting mlflow\n",
            "  Downloading mlflow-2.1.1-py3-none-any.whl (16.7 MB)\n",
            "     ━━━━━━━━━━━━━━━━━━━━━━━━━━━━━━━━━━━━━━━━ 16.7/16.7 MB 91.6 MB/s eta 0:00:00\n",
            "Requirement already satisfied: more-itertools in /usr/local/lib/python3.8/dist-packages (from farm-haystack[colab,ocr]) (9.0.0)\n",
            "Collecting pdf2image>1.14\n",
            "  Downloading pdf2image-1.16.2-py3-none-any.whl (11 kB)\n",
            "Collecting pytesseract>0.3.7\n",
            "  Downloading pytesseract-0.3.10-py3-none-any.whl (14 kB)\n",
            "Requirement already satisfied: pillow<=9.0.0 in /usr/local/lib/python3.8/dist-packages (from farm-haystack[colab,ocr]) (7.1.2)\n",
            "Requirement already satisfied: filelock in /usr/local/lib/python3.8/dist-packages (from transformers[torch]==4.25.1->farm-haystack[colab,ocr]) (3.9.0)\n",
            "Requirement already satisfied: packaging>=20.0 in /usr/local/lib/python3.8/dist-packages (from transformers[torch]==4.25.1->farm-haystack[colab,ocr]) (23.0)\n",
            "Collecting tokenizers!=0.11.3,<0.14,>=0.11.1\n",
            "  Downloading tokenizers-0.13.2-cp38-cp38-manylinux_2_17_x86_64.manylinux2014_x86_64.whl (7.6 MB)\n",
            "     ━━━━━━━━━━━━━━━━━━━━━━━━━━━━━━━━━━━━━━━━ 7.6/7.6 MB 88.9 MB/s eta 0:00:00\n",
            "Requirement already satisfied: pyyaml>=5.1 in /usr/local/lib/python3.8/dist-packages (from transformers[torch]==4.25.1->farm-haystack[colab,ocr]) (6.0)\n",
            "Requirement already satisfied: regex!=2019.12.17 in /usr/local/lib/python3.8/dist-packages (from transformers[torch]==4.25.1->farm-haystack[colab,ocr]) (2022.6.2)\n",
            "Requirement already satisfied: numpy>=1.17 in /usr/local/lib/python3.8/dist-packages (from transformers[torch]==4.25.1->farm-haystack[colab,ocr]) (1.21.6)\n",
            "Requirement already satisfied: torch!=1.12.0,>=1.7 in /usr/local/lib/python3.8/dist-packages (from transformers[torch]==4.25.1->farm-haystack[colab,ocr]) (1.13.1+cu116)\n",
            "Collecting azure-common~=1.1\n",
            "  Downloading azure_common-1.1.28-py2.py3-none-any.whl (14 kB)\n",
            "Collecting azure-core<2.0.0,>=1.23.0\n",
            "  Downloading azure_core-1.26.3-py3-none-any.whl (174 kB)\n",
            "     ━━━━━━━━━━━━━━━━━━━━━━━━━━━━━━━━━━━━━━ 174.5/174.5 KB 20.9 MB/s eta 0:00:00\n",
            "Collecting msrest>=0.6.21\n",
            "  Downloading msrest-0.7.1-py3-none-any.whl (85 kB)\n",
            "     ━━━━━━━━━━━━━━━━━━━━━━━━━━━━━━━━━━━━━━━━ 85.4/85.4 KB 12.4 MB/s eta 0:00:00\n",
            "Requirement already satisfied: typing-extensions>=4.0.1 in /usr/local/lib/python3.8/dist-packages (from azure-ai-formrecognizer>=3.2.0b2->farm-haystack[colab,ocr]) (4.4.0)\n",
            "Requirement already satisfied: certifi in /usr/local/lib/python3.8/dist-packages (from elasticsearch<8,>=7.7->farm-haystack[colab,ocr]) (2022.12.7)\n",
            "Requirement already satisfied: urllib3<2,>=1.21.1 in /usr/local/lib/python3.8/dist-packages (from elasticsearch<8,>=7.7->farm-haystack[colab,ocr]) (1.24.3)\n",
            "Collecting pillow<=9.0.0\n",
            "  Downloading Pillow-9.0.0-cp38-cp38-manylinux_2_17_x86_64.manylinux2014_x86_64.whl (4.3 MB)\n",
            "     ━━━━━━━━━━━━━━━━━━━━━━━━━━━━━━━━━━━━━━━━ 4.3/4.3 MB 102.6 MB/s eta 0:00:00\n",
            "Collecting jarowinkler<2.0.0,>=1.2.0\n",
            "  Downloading jarowinkler-1.2.3-cp38-cp38-manylinux_2_17_x86_64.manylinux2014_x86_64.whl (114 kB)\n",
            "     ━━━━━━━━━━━━━━━━━━━━━━━━━━━━━━━━━━━━━━ 114.1/114.1 KB 14.2 MB/s eta 0:00:00\n",
            "Requirement already satisfied: threadpoolctl>=2.0.0 in /usr/local/lib/python3.8/dist-packages (from scikit-learn>=1.0.0->farm-haystack[colab,ocr]) (3.1.0)\n",
            "Requirement already satisfied: joblib>=0.11 in /usr/local/lib/python3.8/dist-packages (from scikit-learn>=1.0.0->farm-haystack[colab,ocr]) (1.2.0)\n",
            "Requirement already satisfied: torchvision in /usr/local/lib/python3.8/dist-packages (from sentence-transformers>=2.2.0->farm-haystack[colab,ocr]) (0.14.1+cu116)\n",
            "Collecting sentencepiece\n",
            "  Downloading sentencepiece-0.1.97-cp38-cp38-manylinux_2_17_x86_64.manylinux2014_x86_64.whl (1.3 MB)\n",
            "     ━━━━━━━━━━━━━━━━━━━━━━━━━━━━━━━━━━━━━━━━ 1.3/1.3 MB 78.7 MB/s eta 0:00:00\n",
            "Collecting requests\n",
            "  Downloading requests-2.28.2-py3-none-any.whl (62 kB)\n",
            "     ━━━━━━━━━━━━━━━━━━━━━━━━━━━━━━━━━━━━━━━━ 62.8/62.8 KB 8.1 MB/s eta 0:00:00\n",
            "Collecting blobfile>=2\n",
            "  Downloading blobfile-2.0.1-py3-none-any.whl (73 kB)\n",
            "     ━━━━━━━━━━━━━━━━━━━━━━━━━━━━━━━━━━━━━━━━ 73.5/73.5 KB 9.5 MB/s eta 0:00:00\n",
            "Requirement already satisfied: charset-normalizer<4,>=2 in /usr/local/lib/python3.8/dist-packages (from requests->farm-haystack[colab,ocr]) (2.1.1)\n",
            "Requirement already satisfied: idna<4,>=2.5 in /usr/local/lib/python3.8/dist-packages (from requests->farm-haystack[colab,ocr]) (2.10)\n",
            "Requirement already satisfied: attrs>=17.4.0 in /usr/local/lib/python3.8/dist-packages (from jsonschema->farm-haystack[colab,ocr]) (22.2.0)\n",
            "Requirement already satisfied: pyrsistent!=0.17.0,!=0.17.1,!=0.17.2,>=0.14.0 in /usr/local/lib/python3.8/dist-packages (from jsonschema->farm-haystack[colab,ocr]) (0.19.3)\n",
            "Requirement already satisfied: importlib-resources>=1.4.0 in /usr/local/lib/python3.8/dist-packages (from jsonschema->farm-haystack[colab,ocr]) (5.10.2)\n",
            "Requirement already satisfied: six in /usr/local/lib/python3.8/dist-packages (from langdetect->farm-haystack[colab,ocr]) (1.15.0)\n",
            "Requirement already satisfied: click<9,>=7.0 in /usr/local/lib/python3.8/dist-packages (from mlflow->farm-haystack[colab,ocr]) (7.1.2)\n",
            "Requirement already satisfied: Flask<3 in /usr/local/lib/python3.8/dist-packages (from mlflow->farm-haystack[colab,ocr]) (1.1.4)\n",
            "Requirement already satisfied: pyarrow<11,>=4.0.0 in /usr/local/lib/python3.8/dist-packages (from mlflow->farm-haystack[colab,ocr]) (9.0.0)\n",
            "Requirement already satisfied: Jinja2<4,>=2.11 in /usr/local/lib/python3.8/dist-packages (from mlflow->farm-haystack[colab,ocr]) (2.11.3)\n",
            "Collecting querystring-parser<2\n",
            "  Downloading querystring_parser-1.2.4-py2.py3-none-any.whl (7.9 kB)\n",
            "Requirement already satisfied: entrypoints<1 in /usr/local/lib/python3.8/dist-packages (from mlflow->farm-haystack[colab,ocr]) (0.4)\n",
            "Requirement already satisfied: sqlparse<1,>=0.4.0 in /usr/local/lib/python3.8/dist-packages (from mlflow->farm-haystack[colab,ocr]) (0.4.3)\n",
            "Requirement already satisfied: markdown<4,>=3.3 in /usr/local/lib/python3.8/dist-packages (from mlflow->farm-haystack[colab,ocr]) (3.4.1)\n",
            "Collecting alembic<2\n",
            "  Downloading alembic-1.9.4-py3-none-any.whl (210 kB)\n",
            "     ━━━━━━━━━━━━━━━━━━━━━━━━━━━━━━━━━━━━━━ 210.5/210.5 KB 26.9 MB/s eta 0:00:00\n",
            "Requirement already satisfied: matplotlib<4 in /usr/local/lib/python3.8/dist-packages (from mlflow->farm-haystack[colab,ocr]) (3.2.2)\n",
            "Requirement already satisfied: cloudpickle<3 in /usr/local/lib/python3.8/dist-packages (from mlflow->farm-haystack[colab,ocr]) (2.2.1)\n",
            "Requirement already satisfied: sqlalchemy<2,>=1.4.0 in /usr/local/lib/python3.8/dist-packages (from mlflow->farm-haystack[colab,ocr]) (1.4.46)\n",
            "Collecting databricks-cli<1,>=0.8.7\n",
            "  Downloading databricks-cli-0.17.4.tar.gz (82 kB)\n",
            "     ━━━━━━━━━━━━━━━━━━━━━━━━━━━━━━━━━━━━━━━━ 82.3/82.3 KB 11.1 MB/s eta 0:00:00\n",
            "  Preparing metadata (setup.py): started\n",
            "  Preparing metadata (setup.py): finished with status 'done'\n",
            "Collecting gitpython<4,>=2.1.0\n",
            "  Downloading GitPython-3.1.31-py3-none-any.whl (184 kB)\n",
            "     ━━━━━━━━━━━━━━━━━━━━━━━━━━━━━━━━━━━━━━ 184.3/184.3 KB 23.4 MB/s eta 0:00:00\n",
            "Collecting importlib-metadata!=4.7.0,<6,>=3.7.0\n",
            "  Downloading importlib_metadata-5.2.0-py3-none-any.whl (21 kB)\n",
            "Collecting docker<7,>=4.0.0\n",
            "  Downloading docker-6.0.1-py3-none-any.whl (147 kB)\n",
            "     ━━━━━━━━━━━━━━━━━━━━━━━━━━━━━━━━━━━━━━ 147.5/147.5 KB 20.1 MB/s eta 0:00:00\n",
            "Requirement already satisfied: pytz<2023 in /usr/local/lib/python3.8/dist-packages (from mlflow->farm-haystack[colab,ocr]) (2022.7.1)\n",
            "Collecting shap<1,>=0.40\n",
            "  Downloading shap-0.41.0-cp38-cp38-manylinux_2_12_x86_64.manylinux2010_x86_64.whl (575 kB)\n",
            "     ━━━━━━━━━━━━━━━━━━━━━━━━━━━━━━━━━━━━━━ 575.9/575.9 KB 50.3 MB/s eta 0:00:00\n",
            "Collecting gunicorn<21\n",
            "  Downloading gunicorn-20.1.0-py3-none-any.whl (79 kB)\n",
            "     ━━━━━━━━━━━━━━━━━━━━━━━━━━━━━━━━━━━━━━━━ 79.5/79.5 KB 11.4 MB/s eta 0:00:00\n",
            "Collecting packaging>=20.0\n",
            "  Downloading packaging-22.0-py3-none-any.whl (42 kB)\n",
            "     ━━━━━━━━━━━━━━━━━━━━━━━━━━━━━━━━━━━━━━━━ 42.6/42.6 KB 5.2 MB/s eta 0:00:00\n",
            "Requirement already satisfied: python-dateutil>=2.7.3 in /usr/local/lib/python3.8/dist-packages (from pandas->farm-haystack[colab,ocr]) (2.8.2)\n",
            "Collecting backoff>=1.10.0\n",
            "  Downloading backoff-2.2.1-py3-none-any.whl (15 kB)\n",
            "Collecting monotonic>=1.5\n",
            "  Downloading monotonic-1.6-py2.py3-none-any.whl (8.2 kB)\n",
            "Requirement already satisfied: lxml>=2.3.2 in /usr/local/lib/python3.8/dist-packages (from python-docx->farm-haystack[colab,ocr]) (4.9.2)\n",
            "Collecting num2words\n",
            "  Downloading num2words-0.5.12-py3-none-any.whl (125 kB)\n",
            "     ━━━━━━━━━━━━━━━━━━━━━━━━━━━━━━━━━━━━━━ 125.2/125.2 KB 16.8 MB/s eta 0:00:00\n",
            "Requirement already satisfied: inflect in /usr/local/lib/python3.8/dist-packages (from quantulum3->farm-haystack[colab,ocr]) (2.1.0)\n",
            "Requirement already satisfied: setuptools in /usr/local/lib/python3.8/dist-packages (from tika->farm-haystack[colab,ocr]) (57.4.0)\n",
            "Collecting Mako\n",
            "  Downloading Mako-1.2.4-py3-none-any.whl (78 kB)\n",
            "     ━━━━━━━━━━━━━━━━━━━━━━━━━━━━━━━━━━━━━━━━ 78.7/78.7 KB 8.9 MB/s eta 0:00:00\n",
            "Collecting pycryptodomex~=3.8\n",
            "  Downloading pycryptodomex-3.17-cp35-abi3-manylinux_2_17_x86_64.manylinux2014_x86_64.whl (2.1 MB)\n",
            "     ━━━━━━━━━━━━━━━━━━━━━━━━━━━━━━━━━━━━━━━━ 2.1/2.1 MB 83.3 MB/s eta 0:00:00\n",
            "Collecting urllib3<2,>=1.21.1\n",
            "  Downloading urllib3-1.26.14-py2.py3-none-any.whl (140 kB)\n",
            "     ━━━━━━━━━━━━━━━━━━━━━━━━━━━━━━━━━━━━━ 140.6/140.6 KB 728.3 kB/s eta 0:00:00\n",
            "Collecting pyjwt>=1.7.0\n",
            "  Downloading PyJWT-2.6.0-py3-none-any.whl (20 kB)\n",
            "Requirement already satisfied: oauthlib>=3.1.0 in /usr/local/lib/python3.8/dist-packages (from databricks-cli<1,>=0.8.7->mlflow->farm-haystack[colab,ocr]) (3.2.2)\n",
            "Requirement already satisfied: tabulate>=0.7.7 in /usr/local/lib/python3.8/dist-packages (from databricks-cli<1,>=0.8.7->mlflow->farm-haystack[colab,ocr]) (0.8.10)\n",
            "Collecting websocket-client>=0.32.0\n",
            "  Downloading websocket_client-1.5.1-py3-none-any.whl (55 kB)\n",
            "     ━━━━━━━━━━━━━━━━━━━━━━━━━━━━━━━━━━━━━━━━ 55.9/55.9 KB 6.8 MB/s eta 0:00:00\n",
            "Requirement already satisfied: itsdangerous<2.0,>=0.24 in /usr/local/lib/python3.8/dist-packages (from Flask<3->mlflow->farm-haystack[colab,ocr]) (1.1.0)\n",
            "Requirement already satisfied: Werkzeug<2.0,>=0.15 in /usr/local/lib/python3.8/dist-packages (from Flask<3->mlflow->farm-haystack[colab,ocr]) (1.0.1)\n",
            "Collecting gitdb<5,>=4.0.1\n",
            "  Downloading gitdb-4.0.10-py3-none-any.whl (62 kB)\n",
            "     ━━━━━━━━━━━━━━━━━━━━━━━━━━━━━━━━━━━━━━━━ 62.7/62.7 KB 8.2 MB/s eta 0:00:00\n",
            "Requirement already satisfied: zipp>=0.5 in /usr/local/lib/python3.8/dist-packages (from importlib-metadata!=4.7.0,<6,>=3.7.0->mlflow->farm-haystack[colab,ocr]) (3.12.1)\n",
            "Requirement already satisfied: MarkupSafe>=0.23 in /usr/local/lib/python3.8/dist-packages (from Jinja2<4,>=2.11->mlflow->farm-haystack[colab,ocr]) (2.0.1)\n",
            "Requirement already satisfied: cycler>=0.10 in /usr/local/lib/python3.8/dist-packages (from matplotlib<4->mlflow->farm-haystack[colab,ocr]) (0.11.0)\n",
            "Requirement already satisfied: pyparsing!=2.0.4,!=2.1.2,!=2.1.6,>=2.0.1 in /usr/local/lib/python3.8/dist-packages (from matplotlib<4->mlflow->farm-haystack[colab,ocr]) (3.0.9)\n",
            "Requirement already satisfied: kiwisolver>=1.0.1 in /usr/local/lib/python3.8/dist-packages (from matplotlib<4->mlflow->farm-haystack[colab,ocr]) (1.4.4)\n",
            "Requirement already satisfied: requests-oauthlib>=0.5.0 in /usr/local/lib/python3.8/dist-packages (from msrest>=0.6.21->azure-ai-formrecognizer>=3.2.0b2->farm-haystack[colab,ocr]) (1.3.1)\n",
            "Collecting isodate>=0.6.0\n",
            "  Downloading isodate-0.6.1-py2.py3-none-any.whl (41 kB)\n",
            "     ━━━━━━━━━━━━━━━━━━━━━━━━━━━━━━━━━━━━━━━━ 41.7/41.7 KB 5.2 MB/s eta 0:00:00\n",
            "Requirement already satisfied: numba in /usr/local/lib/python3.8/dist-packages (from shap<1,>=0.40->mlflow->farm-haystack[colab,ocr]) (0.56.4)\n",
            "Collecting slicer==0.0.7\n",
            "  Downloading slicer-0.0.7-py3-none-any.whl (14 kB)\n",
            "Requirement already satisfied: greenlet!=0.4.17 in /usr/local/lib/python3.8/dist-packages (from sqlalchemy<2,>=1.4.0->mlflow->farm-haystack[colab,ocr]) (2.0.2)\n",
            "Collecting docopt>=0.6.2\n",
            "  Downloading docopt-0.6.2.tar.gz (25 kB)\n",
            "  Preparing metadata (setup.py): started\n",
            "  Preparing metadata (setup.py): finished with status 'done'\n",
            "Collecting smmap<6,>=3.0.1\n",
            "  Downloading smmap-5.0.0-py3-none-any.whl (24 kB)\n",
            "Requirement already satisfied: llvmlite<0.40,>=0.39.0dev0 in /usr/local/lib/python3.8/dist-packages (from numba->shap<1,>=0.40->mlflow->farm-haystack[colab,ocr]) (0.39.1)\n",
            "Building wheels for collected packages: sentence-transformers, farm-haystack, langdetect, python-docx, seqeval, tika, databricks-cli, docopt\n",
            "  Building wheel for sentence-transformers (setup.py): started\n",
            "  Building wheel for sentence-transformers (setup.py): finished with status 'done'\n",
            "  Created wheel for sentence-transformers: filename=sentence_transformers-2.2.2-py3-none-any.whl size=125938 sha256=e0e3383253fecdba3c0b562f96431c3874b35c3ce8682437728aac68110c74fe\n",
            "  Stored in directory: /root/.cache/pip/wheels/5e/6f/8c/d88aec621f3f542d26fac0342bef5e693335d125f4e54aeffe\n",
            "  Building wheel for farm-haystack (pyproject.toml): started\n",
            "  Building wheel for farm-haystack (pyproject.toml): finished with status 'done'\n",
            "  Created wheel for farm-haystack: filename=farm_haystack-1.14.0rc0-py3-none-any.whl size=633269 sha256=7778ce530062385ab6e4c734772bcba785504949827e7b098c85c0de88b4275a\n",
            "  Stored in directory: /tmp/pip-ephem-wheel-cache-_r1sqymo/wheels/97/0d/ae/77cde17929fbf66c8320f19b30789acfe52e2312bb1d125be1\n",
            "  Building wheel for langdetect (setup.py): started\n",
            "  Building wheel for langdetect (setup.py): finished with status 'done'\n",
            "  Created wheel for langdetect: filename=langdetect-1.0.9-py3-none-any.whl size=993242 sha256=02928f6c3801a569a2c3a7890bdf58e450e9fd457619f8bedf2c4f32c907f582\n",
            "  Stored in directory: /root/.cache/pip/wheels/13/c7/b0/79f66658626032e78fc1a83103690ef6797d551cb22e56e734\n",
            "  Building wheel for python-docx (setup.py): started\n",
            "  Building wheel for python-docx (setup.py): finished with status 'done'\n",
            "  Created wheel for python-docx: filename=python_docx-0.8.11-py3-none-any.whl size=184505 sha256=816843da662c5f3ed76314149db10a9e09801a638309d406f584776908250007\n",
            "  Stored in directory: /root/.cache/pip/wheels/32/b8/b2/c4c2b95765e615fe139b0b17b5ea7c0e1b6519b0a9ec8fb34d\n",
            "  Building wheel for seqeval (setup.py): started\n",
            "  Building wheel for seqeval (setup.py): finished with status 'done'\n",
            "  Created wheel for seqeval: filename=seqeval-1.2.2-py3-none-any.whl size=16179 sha256=8a4005fe79840cc51d887a59da6c677d517324c30c6794b824785098eb2e96f1\n",
            "  Stored in directory: /root/.cache/pip/wheels/ad/5c/ba/05fa33fa5855777b7d686e843ec07452f22a66a138e290e732\n",
            "  Building wheel for tika (setup.py): started\n",
            "  Building wheel for tika (setup.py): finished with status 'done'\n",
            "  Created wheel for tika: filename=tika-2.6.0-py3-none-any.whl size=32642 sha256=46a57ed505dd29fcd51216249099330b2532c4e4c5690aa05a487be680f8ff49\n",
            "  Stored in directory: /root/.cache/pip/wheels/02/bd/74/313abcb9271e041e30734880e6813385150dd93627e9659de5\n",
            "  Building wheel for databricks-cli (setup.py): started\n",
            "  Building wheel for databricks-cli (setup.py): finished with status 'done'\n",
            "  Created wheel for databricks-cli: filename=databricks_cli-0.17.4-py3-none-any.whl size=142894 sha256=44d688b5e6b0642d1ea38f8732e639895c3daff093077e2fba0bcf53a5adde7b\n",
            "  Stored in directory: /root/.cache/pip/wheels/48/7c/6e/4bf2c1748c7ecf994ca951591de81674ed6bf633e1e337d873\n",
            "  Building wheel for docopt (setup.py): started\n",
            "  Building wheel for docopt (setup.py): finished with status 'done'\n",
            "  Created wheel for docopt: filename=docopt-0.6.2-py2.py3-none-any.whl size=13723 sha256=d40d3d8966141cdf0d713c4e43746285b93bebaf9ed696f86eda2ee060085ed9\n",
            "  Stored in directory: /root/.cache/pip/wheels/56/ea/58/ead137b087d9e326852a851351d1debf4ada529b6ac0ec4e8c\n",
            "Successfully built sentence-transformers farm-haystack langdetect python-docx seqeval tika databricks-cli docopt\n",
            "Installing collected packages: tokenizers, sentencepiece, monotonic, mmh3, docopt, azure-common, websocket-client, urllib3, smmap, slicer, rank-bm25, querystring-parser, python-docx, pyjwt, pycryptodomex, pillow, packaging, num2words, Mako, langdetect, jarowinkler, isodate, importlib-metadata, gunicorn, backoff, requests, rapidfuzz, quantulum3, pytesseract, pdf2image, gitdb, elasticsearch, blobfile, alembic, tiktoken, tika, shap, seqeval, posthog, huggingface-hub, gitpython, docker, databricks-cli, azure-core, transformers, msrest, mlflow, sentence-transformers, azure-ai-formrecognizer, farm-haystack\n",
            "  Attempting uninstall: urllib3\n",
            "    Found existing installation: urllib3 1.24.3\n",
            "    Uninstalling urllib3-1.24.3:\n",
            "      Successfully uninstalled urllib3-1.24.3\n",
            "  Attempting uninstall: pillow\n",
            "    Found existing installation: Pillow 7.1.2\n",
            "    Uninstalling Pillow-7.1.2:\n",
            "      Successfully uninstalled Pillow-7.1.2\n",
            "  Attempting uninstall: packaging\n",
            "    Found existing installation: packaging 23.0\n",
            "    Uninstalling packaging-23.0:\n",
            "      Successfully uninstalled packaging-23.0\n",
            "  Attempting uninstall: importlib-metadata\n",
            "    Found existing installation: importlib-metadata 6.0.0\n",
            "    Uninstalling importlib-metadata-6.0.0:\n",
            "      Successfully uninstalled importlib-metadata-6.0.0\n",
            "  Attempting uninstall: requests\n",
            "    Found existing installation: requests 2.25.1\n",
            "    Uninstalling requests-2.25.1:\n",
            "      Successfully uninstalled requests-2.25.1\n",
            "Successfully installed Mako-1.2.4 alembic-1.9.4 azure-ai-formrecognizer-3.2.0 azure-common-1.1.28 azure-core-1.26.3 backoff-2.2.1 blobfile-2.0.1 databricks-cli-0.17.4 docker-6.0.1 docopt-0.6.2 elasticsearch-7.17.9 farm-haystack-1.14.0rc0 gitdb-4.0.10 gitpython-3.1.31 gunicorn-20.1.0 huggingface-hub-0.12.1 importlib-metadata-5.2.0 isodate-0.6.1 jarowinkler-1.2.3 langdetect-1.0.9 mlflow-2.1.1 mmh3-3.0.0 monotonic-1.6 msrest-0.7.1 num2words-0.5.12 packaging-22.0 pdf2image-1.16.2 pillow-9.0.0 posthog-2.3.1 pycryptodomex-3.17 pyjwt-2.6.0 pytesseract-0.3.10 python-docx-0.8.11 quantulum3-0.8.1 querystring-parser-1.2.4 rank-bm25-0.2.2 rapidfuzz-2.7.0 requests-2.28.2 sentence-transformers-2.2.2 sentencepiece-0.1.97 seqeval-1.2.2 shap-0.41.0 slicer-0.0.7 smmap-5.0.0 tika-2.6.0 tiktoken-0.2.0 tokenizers-0.13.2 transformers-4.25.1 urllib3-1.26.14 websocket-client-1.5.1\n"
          ]
        },
        {
          "output_type": "stream",
          "name": "stderr",
          "text": [
            "  Running command git clone --filter=blob:none --quiet https://github.com/deepset-ai/haystack.git /tmp/pip-install-llezqpsl/farm-haystack_b44fd738586d41acbc2bf0733b356e07\n"
          ]
        }
      ]
    },
    {
      "cell_type": "code",
      "source": [
        "# For Colab/linux based machines:\n",
        "!wget https://dl.xpdfreader.com/xpdf-tools-linux-4.04.tar.gz\n",
        "!tar -xvf xpdf-tools-linux-4.04.tar.gz && sudo cp xpdf-tools-linux-4.04/bin64/pdftotext /usr/local/bin"
      ],
      "metadata": {
        "colab": {
          "base_uri": "https://localhost:8080/"
        },
        "id": "uYyk0ZJoAELH",
        "outputId": "6a25677d-cbc0-4e39-f848-0663348d9e57"
      },
      "execution_count": null,
      "outputs": [
        {
          "output_type": "stream",
          "name": "stdout",
          "text": [
            "--2023-02-17 16:51:07--  https://dl.xpdfreader.com/xpdf-tools-linux-4.04.tar.gz\n",
            "Resolving dl.xpdfreader.com (dl.xpdfreader.com)... 45.79.72.155\n",
            "Connecting to dl.xpdfreader.com (dl.xpdfreader.com)|45.79.72.155|:443... connected.\n",
            "HTTP request sent, awaiting response... 200 OK\n",
            "Length: 23687259 (23M) [application/x-gzip]\n",
            "Saving to: ‘xpdf-tools-linux-4.04.tar.gz’\n",
            "\n",
            "xpdf-tools-linux-4. 100%[===================>]  22.59M  8.88MB/s    in 2.5s    \n",
            "\n",
            "2023-02-17 16:51:10 (8.88 MB/s) - ‘xpdf-tools-linux-4.04.tar.gz’ saved [23687259/23687259]\n",
            "\n",
            "xpdf-tools-linux-4.04/\n",
            "xpdf-tools-linux-4.04/CHANGES\n",
            "xpdf-tools-linux-4.04/COPYING3\n",
            "xpdf-tools-linux-4.04/INSTALL\n",
            "xpdf-tools-linux-4.04/ANNOUNCE\n",
            "xpdf-tools-linux-4.04/bin64/\n",
            "xpdf-tools-linux-4.04/bin64/pdftopng\n",
            "xpdf-tools-linux-4.04/bin64/pdftohtml\n",
            "xpdf-tools-linux-4.04/bin64/pdfinfo\n",
            "xpdf-tools-linux-4.04/bin64/pdffonts\n",
            "xpdf-tools-linux-4.04/bin64/pdfimages\n",
            "xpdf-tools-linux-4.04/bin64/pdftotext\n",
            "xpdf-tools-linux-4.04/bin64/pdftoppm\n",
            "xpdf-tools-linux-4.04/bin64/pdftops\n",
            "xpdf-tools-linux-4.04/bin64/pdfdetach\n",
            "xpdf-tools-linux-4.04/README\n",
            "xpdf-tools-linux-4.04/COPYING\n",
            "xpdf-tools-linux-4.04/doc/\n",
            "xpdf-tools-linux-4.04/doc/pdftohtml.1\n",
            "xpdf-tools-linux-4.04/doc/pdftops.1\n",
            "xpdf-tools-linux-4.04/doc/pdfimages.1\n",
            "xpdf-tools-linux-4.04/doc/sample-xpdfrc\n",
            "xpdf-tools-linux-4.04/doc/pdffonts.1\n",
            "xpdf-tools-linux-4.04/doc/pdfdetach.1\n",
            "xpdf-tools-linux-4.04/doc/pdftoppm.1\n",
            "xpdf-tools-linux-4.04/doc/pdftotext.1\n",
            "xpdf-tools-linux-4.04/doc/pdftopng.1\n",
            "xpdf-tools-linux-4.04/doc/xpdfrc.5\n",
            "xpdf-tools-linux-4.04/doc/pdfinfo.1\n",
            "xpdf-tools-linux-4.04/bin32/\n",
            "xpdf-tools-linux-4.04/bin32/pdftopng\n",
            "xpdf-tools-linux-4.04/bin32/pdftohtml\n",
            "xpdf-tools-linux-4.04/bin32/pdfinfo\n",
            "xpdf-tools-linux-4.04/bin32/pdffonts\n",
            "xpdf-tools-linux-4.04/bin32/pdfimages\n",
            "xpdf-tools-linux-4.04/bin32/pdftotext\n",
            "xpdf-tools-linux-4.04/bin32/pdftoppm\n",
            "xpdf-tools-linux-4.04/bin32/pdftops\n",
            "xpdf-tools-linux-4.04/bin32/pdfdetach\n"
          ]
        }
      ]
    },
    {
      "cell_type": "code",
      "source": [
        "! pip install --ignore-installed Pillow==9.0.0"
      ],
      "metadata": {
        "colab": {
          "base_uri": "https://localhost:8080/",
          "height": 190
        },
        "id": "omqXWjcICzsm",
        "outputId": "e3ffa11e-6d0f-435c-d244-1bbe76701497"
      },
      "execution_count": null,
      "outputs": [
        {
          "output_type": "stream",
          "name": "stdout",
          "text": [
            "Looking in indexes: https://pypi.org/simple, https://us-python.pkg.dev/colab-wheels/public/simple/\n",
            "Collecting Pillow==9.0.0\n",
            "  Using cached Pillow-9.0.0-cp38-cp38-manylinux_2_17_x86_64.manylinux2014_x86_64.whl (4.3 MB)\n",
            "Installing collected packages: Pillow\n",
            "Successfully installed Pillow-9.0.0\n"
          ]
        },
        {
          "output_type": "display_data",
          "data": {
            "application/vnd.colab-display-data+json": {
              "pip_warning": {
                "packages": [
                  "PIL"
                ]
              }
            }
          },
          "metadata": {}
        }
      ]
    },
    {
      "cell_type": "code",
      "source": [
        "import logging\n",
        "\n",
        "logging.basicConfig(format=\"%(levelname)s - %(name)s -  %(message)s\", level=logging.WARNING)\n",
        "logging.getLogger(\"haystack\").setLevel(logging.INFO)"
      ],
      "metadata": {
        "id": "YP0sHLnKDAQ0"
      },
      "execution_count": null,
      "outputs": []
    },
    {
      "cell_type": "code",
      "source": [
        "! mkdir doc_dir\n"
      ],
      "metadata": {
        "id": "Ektmm9dnDbts"
      },
      "execution_count": null,
      "outputs": []
    },
    {
      "cell_type": "code",
      "source": [
        "import shutil\n",
        "shutil.copy(\"/content/input1.pdf\",\"/content/doc_dir\")"
      ],
      "metadata": {
        "colab": {
          "base_uri": "https://localhost:8080/",
          "height": 36
        },
        "id": "NQamTzXpDgC3",
        "outputId": "e03fe941-4ed2-4a8f-cf67-6c44064513cb"
      },
      "execution_count": null,
      "outputs": [
        {
          "output_type": "execute_result",
          "data": {
            "text/plain": [
              "'/content/doc_dir/input1.pdf'"
            ],
            "application/vnd.google.colaboratory.intrinsic+json": {
              "type": "string"
            }
          },
          "metadata": {},
          "execution_count": 3
        }
      ]
    },
    {
      "cell_type": "code",
      "source": [
        "from haystack.nodes import TextConverter, PDFToTextConverter, DocxToTextConverter, PreProcessor\n",
        "\n",
        "converter = PDFToTextConverter(remove_numeric_tables=True, valid_languages=[\"en\"])\n",
        "doc_pdf = converter.convert(file_path=\"/content/doc_dir/input1.pdf\", meta=None)[0]\n"
      ],
      "metadata": {
        "id": "9hjI3caQDaqg"
      },
      "execution_count": null,
      "outputs": []
    },
    {
      "cell_type": "code",
      "source": [
        "from haystack.utils import convert_files_to_docs\n",
        "from haystack.nodes import PreProcessor"
      ],
      "metadata": {
        "colab": {
          "base_uri": "https://localhost:8080/",
          "height": 321
        },
        "id": "wtOK5oruE5vZ",
        "outputId": "55bd69e9-033d-4839-d29b-d3c412afde6d"
      },
      "execution_count": null,
      "outputs": [
        {
          "output_type": "error",
          "ename": "ModuleNotFoundError",
          "evalue": "ignored",
          "traceback": [
            "\u001b[0;31m---------------------------------------------------------------------------\u001b[0m",
            "\u001b[0;31mModuleNotFoundError\u001b[0m                       Traceback (most recent call last)",
            "\u001b[0;32m<ipython-input-1-0c3132697de4>\u001b[0m in \u001b[0;36m<module>\u001b[0;34m\u001b[0m\n\u001b[0;32m----> 1\u001b[0;31m \u001b[0;32mfrom\u001b[0m \u001b[0mhaystack\u001b[0m\u001b[0;34m.\u001b[0m\u001b[0mutils\u001b[0m \u001b[0;32mimport\u001b[0m \u001b[0mconvert_files_to_docs\u001b[0m\u001b[0;34m\u001b[0m\u001b[0;34m\u001b[0m\u001b[0m\n\u001b[0m\u001b[1;32m      2\u001b[0m \u001b[0;32mfrom\u001b[0m \u001b[0mhaystack\u001b[0m\u001b[0;34m.\u001b[0m\u001b[0mnodes\u001b[0m \u001b[0;32mimport\u001b[0m \u001b[0mPreProcessor\u001b[0m\u001b[0;34m\u001b[0m\u001b[0;34m\u001b[0m\u001b[0m\n",
            "\u001b[0;31mModuleNotFoundError\u001b[0m: No module named 'haystack'",
            "",
            "\u001b[0;31m---------------------------------------------------------------------------\u001b[0;32m\nNOTE: If your import is failing due to a missing package, you can\nmanually install dependencies using either !pip or !apt.\n\nTo view examples of installing some common dependencies, click the\n\"Open Examples\" button below.\n\u001b[0;31m---------------------------------------------------------------------------\u001b[0m\n"
          ],
          "errorDetails": {
            "actions": [
              {
                "action": "open_url",
                "actionText": "Open Examples",
                "url": "/notebooks/snippets/importing_libraries.ipynb"
              }
            ]
          }
        }
      ]
    },
    {
      "cell_type": "code",
      "source": [
        "doc_dir = \"/content/doc_dir\"\n",
        "# convert_files_to_docs automatically applies the right converter to each file in a directory\n",
        "all_docs = convert_files_to_docs(dir_path=doc_dir)\n",
        "#  PreProcessor class is designed to help clean text and split text \n",
        "preprocessor = PreProcessor(\n",
        "    clean_empty_lines=True,\n",
        "    clean_whitespace=True,\n",
        "    clean_header_footer=False,\n",
        "    split_by=\"word\",\n",
        "    split_length=100,\n",
        "    split_respect_sentence_boundary=True,\n",
        ")\n",
        "docs = preprocessor.process(all_docs)\n",
        "\n",
        "print(f\"n_files_input: {len(all_docs)}\\nn_docs_output: {len(docs)}\")"
      ],
      "metadata": {
        "colab": {
          "base_uri": "https://localhost:8080/",
          "height": 118,
          "referenced_widgets": [
            "b754a411625c4e2381340c4735b18b0c",
            "eeeef278e3504b5fb406f8df19458860",
            "810221b173d045048461bf7b8209dd2d",
            "cbdc0adb302742d0a659677795082675",
            "7952093c2aed444398ad16ba0fa40ccb",
            "aa482c7cff6641db8caa31ea323b3179",
            "42857aa530a947cab00947890fb1e12a",
            "9a5857ad1faf4b28b3cfd2979d8454bd",
            "1dd804098f4a4590aa30dad9963f5ae5",
            "1ba0cedddcac439a9576b043751b079f",
            "3ad730a3032c441388ffd94c0b54a3b4"
          ]
        },
        "id": "oX05GsSaEAjT",
        "outputId": "3aacf0be-5811-4380-a6cf-2b388224179e"
      },
      "execution_count": null,
      "outputs": [
        {
          "output_type": "stream",
          "name": "stderr",
          "text": [
            "INFO:haystack.utils.preprocessing:Converting /content/doc_dir/input1.pdf\n"
          ]
        },
        {
          "output_type": "display_data",
          "data": {
            "text/plain": [
              "Preprocessing:   0%|          | 0/1 [00:00<?, ?docs/s]"
            ],
            "application/vnd.jupyter.widget-view+json": {
              "version_major": 2,
              "version_minor": 0,
              "model_id": "b754a411625c4e2381340c4735b18b0c"
            }
          },
          "metadata": {}
        },
        {
          "output_type": "stream",
          "name": "stderr",
          "text": [
            "WARNING:haystack.nodes.preprocessor.preprocessor:We found one or more sentences whose word count is higher than the split length.\n"
          ]
        },
        {
          "output_type": "stream",
          "name": "stdout",
          "text": [
            "n_files_input: 1\n",
            "n_docs_output: 51\n"
          ]
        }
      ]
    },
    {
      "cell_type": "code",
      "source": [
        "docs[0].content"
      ],
      "metadata": {
        "colab": {
          "base_uri": "https://localhost:8080/",
          "height": 122
        },
        "id": "hwSJUgAJFOup",
        "outputId": "217886db-c07d-46a0-c2e1-d84c8644529f"
      },
      "execution_count": null,
      "outputs": [
        {
          "output_type": "execute_result",
          "data": {
            "text/plain": [
              "'See discussions, stats, and author profiles for this publication at: https://www.researchgate.net/publication/316990409\\nThe medical management of glaucoma\\nArticle in South African Family Practice · May 2017\\nDOI: 10.4102/safp.v59i2.4669\\nCITATIONS\\n3\\nREADS\\n11,056\\n2 authors:\\nSome of the authors of this publication are also working on these related projects:\\nMedical View project\\nIndigenous Knowledge Systems: Pharmacology and Toxicology View project\\nAndre Marais\\nUniversity of Pretoria\\n20 PUBLICATIONS 34 CITATIONS\\nSEE PROFILE\\nElzbieta Osuch\\nSefako Makgatho Health Sciences University\\n26 PUBLICATIONS 110 CITATIONS\\nSEE PROFILE\\nAll content following this page was uploaded by Andre Marais on 17 May 2017.\\n'"
            ],
            "application/vnd.google.colaboratory.intrinsic+json": {
              "type": "string"
            }
          },
          "metadata": {},
          "execution_count": 18
        }
      ]
    },
    {
      "cell_type": "code",
      "source": [
        "docs[3].content"
      ],
      "metadata": {
        "colab": {
          "base_uri": "https://localhost:8080/",
          "height": 105
        },
        "id": "Zmiqc0iwFP1f",
        "outputId": "8199d94e-57a3-4d14-99bd-758afdc72eb2"
      },
      "execution_count": null,
      "outputs": [
        {
          "output_type": "execute_result",
          "data": {
            "text/plain": [
              "'Glaucomatous disc and field changes in the absence\\nof elevated pressure constitutes normal or low tension glaucoma\\n(LTG).2 Similarly, conditions exceeding the upper limit of 21 mmHg\\nmay not be associated with signs of visual field loss or optic disc\\ndamage and comprises ocular hypertension.3 In addition to optic\\nneuropathy, the two main types of glaucoma (open angle and\\nclosed angle) are described on the appearance of the drainage\\nsystem within the eye, including associated increase in the IOP\\n(Figure 1).\\nAbstract\\nGlaucoma is one of the leading causes of blindness worldwide. '"
            ],
            "application/vnd.google.colaboratory.intrinsic+json": {
              "type": "string"
            }
          },
          "metadata": {},
          "execution_count": 19
        }
      ]
    }
  ]
}